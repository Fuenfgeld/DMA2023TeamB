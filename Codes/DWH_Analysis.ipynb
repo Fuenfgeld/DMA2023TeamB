{
  "nbformat": 4,
  "nbformat_minor": 0,
  "metadata": {
    "colab": {
      "provenance": [],
      "include_colab_link": true
    },
    "kernelspec": {
      "name": "python3",
      "display_name": "Python 3"
    }
  },
  "cells": [
    {
      "cell_type": "markdown",
      "metadata": {
        "id": "view-in-github",
        "colab_type": "text"
      },
      "source": [
        "<a href=\"https://colab.research.google.com/github/Fuenfgeld/DMA2023TeamB/blob/main/Codes/DWH_Analysis.ipynb\" target=\"_parent\"><img src=\"https://colab.research.google.com/assets/colab-badge.svg\" alt=\"Open In Colab\"/></a>"
      ]
    },
    {
      "cell_type": "markdown",
      "metadata": {
        "id": "oTF4SC_RjLoX"
      },
      "source": [
        "# **Zweck**: Exploratory Data Analysis (EDA) und Testen der Hypothesen im DWH\n",
        "\n"
      ]
    },
    {
      "cell_type": "markdown",
      "source": [
        "# 1) Einleitung\n",
        "\n",
        "Mit diesem Skript werden die in das ANTICOVIS Data Warehouse (\"DWH_covid19_ANTICOVIS_db.db\") geladenen Daten im Hinblick auf die im Rahmen des ANTICOVIS Projekts formulierten Forschungsfragen analysiert:\n",
        "\n",
        "1. Patient:innen mit Antikoagulation weisen im Vergleich zu nicht-antikoagulierten Patient:innen einen leichteren klinischen Covid 19-Erkrankungsverlauf auf.\n",
        "\n",
        "2. Heparinderivate sind mit einem besseren klinischen Covid-19-Verlauf als andere Antikoagulantien assoziiert.\n",
        "\n",
        "Das ANTICOVIS Data Warehouse liegt auf dem Google Drive von ANTICOVIS ab. Es ist nach einem Star-Schema konstruiert, welches aus Dimensions- und Faktentabellen besteht. Das Data Warehouse wurde mithilfe des auf GitHub abgelegten Files \"ETL_and_Implementing_DWH.ipynb\" erzeugt. \n",
        " "
      ],
      "metadata": {
        "id": "kVVshXJayAtk"
      }
    },
    {
      "cell_type": "markdown",
      "metadata": {
        "id": "f72lAeqGmSSy"
      },
      "source": [
        "# 2) Benötigte Libraries und Packages laden, Versionskontrolle und überprüfung der datensätze\n"
      ]
    },
    {
      "cell_type": "code",
      "metadata": {
        "id": "mHakU94EcNVc",
        "colab": {
          "base_uri": "https://localhost:8080/"
        },
        "outputId": "db668e72-ef6a-40d5-ce19-921d78321f71"
      },
      "source": [
        "import pandas as pd\n",
        "import numpy as np\n",
        "import sqlite3\n",
        "from sqlalchemy.sql.expression import distinct \n",
        "!pip install pandasql\n",
        "from pandasql import sqldf\n",
        "\n",
        "import seaborn as sns\n",
        "import scipy.stats as stats\n",
        "from scipy.stats import ttest_ind\n",
        "import datetime\n",
        "import matplotlib.pyplot as plt\n",
        "%matplotlib inline\n",
        "\n",
        "print(\"pandas version:\", pd.__version__)\n",
        "print(\"numpy version:\", np.__version__)\n",
        "print(\"sqlite3 version:\", sqlite3.version)\n",
        "print(\"seaborn version:\", sns.__version__)"
      ],
      "execution_count": 26,
      "outputs": [
        {
          "output_type": "stream",
          "name": "stdout",
          "text": [
            "Looking in indexes: https://pypi.org/simple, https://us-python.pkg.dev/colab-wheels/public/simple/\n",
            "Collecting pandasql\n",
            "  Downloading pandasql-0.7.3.tar.gz (26 kB)\n",
            "  Preparing metadata (setup.py) ... \u001b[?25l\u001b[?25hdone\n",
            "Requirement already satisfied: numpy in /usr/local/lib/python3.8/dist-packages (from pandasql) (1.21.6)\n",
            "Requirement already satisfied: pandas in /usr/local/lib/python3.8/dist-packages (from pandasql) (1.3.5)\n",
            "Requirement already satisfied: sqlalchemy in /usr/local/lib/python3.8/dist-packages (from pandasql) (1.4.46)\n",
            "Requirement already satisfied: python-dateutil>=2.7.3 in /usr/local/lib/python3.8/dist-packages (from pandas->pandasql) (2.8.2)\n",
            "Requirement already satisfied: pytz>=2017.3 in /usr/local/lib/python3.8/dist-packages (from pandas->pandasql) (2022.7.1)\n",
            "Requirement already satisfied: greenlet!=0.4.17 in /usr/local/lib/python3.8/dist-packages (from sqlalchemy->pandasql) (2.0.2)\n",
            "Requirement already satisfied: six>=1.5 in /usr/local/lib/python3.8/dist-packages (from python-dateutil>=2.7.3->pandas->pandasql) (1.15.0)\n",
            "Building wheels for collected packages: pandasql\n",
            "  Building wheel for pandasql (setup.py) ... \u001b[?25l\u001b[?25hdone\n",
            "  Created wheel for pandasql: filename=pandasql-0.7.3-py3-none-any.whl size=26787 sha256=e8462c3d57614344f0617c470fbf0b64000ee3cc3754b71f7df7fedf22c6eea0\n",
            "  Stored in directory: /root/.cache/pip/wheels/ed/8f/46/a383923333728744f01ba24adbd8e364f2cb9470a8b8e5b9ff\n",
            "Successfully built pandasql\n",
            "Installing collected packages: pandasql\n",
            "Successfully installed pandasql-0.7.3\n",
            "pandas version: 1.3.5\n",
            "numpy version: 1.21.6\n",
            "sqlite3 version: 2.6.0\n",
            "seaborn version: 0.11.2\n"
          ]
        }
      ]
    },
    {
      "cell_type": "code",
      "source": [
        "x= !ls \"/content/drive/Shareddrives/DMA_2023_D/DMA2023TeamB/Quelldaten/covid19\"\n",
        "list_of_elements=''\n",
        "for element in x:\n",
        "  for x in range (len(element)):\n",
        "    if element[x] == ' ' or element[x]==\"\\t\":\n",
        "      pass\n",
        "    else:\n",
        "      list_of_elements += element[x]\n",
        "\n",
        "list_of_csvs = list_of_elements.split(\".csv\")\n",
        "list_of_csv_files = list_of_csvs[0:-1]\n",
        "\n",
        "df_of_csvs={}\n",
        "for x in list_of_csv_files:\n",
        "  path= f\"/content/drive/Shareddrives/DMA_2023_D/DMA2023TeamB/Quelldaten/covid19/{x}.csv\"\n",
        "  df = pd.read_csv(path)\n",
        "  df_of_csvs[x] = df\n",
        "\n",
        "from pandas.util import hash_pandas_object\n",
        "hashsum = 0\n",
        "for key in df_of_csvs:\n",
        "  if key == \"pseudonym_tabelle\":\n",
        "    pass\n",
        "  else:\n",
        "    hashsum += hash_pandas_object(df_of_csvs[key]).sum()\n",
        "print(hashsum)\n"
      ],
      "metadata": {
        "id": "2GohunJNQTnl",
        "outputId": "c4729694-e2ad-400b-9031-32e7a5156d64",
        "colab": {
          "base_uri": "https://localhost:8080/"
        }
      },
      "execution_count": 67,
      "outputs": [
        {
          "output_type": "stream",
          "name": "stderr",
          "text": [
            "<ipython-input-67-0b21270190e0>:25: RuntimeWarning: overflow encountered in long_scalars\n",
            "  hashsum += hash_pandas_object(df_of_csvs[key]).sum()\n"
          ]
        },
        {
          "output_type": "stream",
          "name": "stdout",
          "text": [
            "-753198159639052557\n"
          ]
        }
      ]
    },
    {
      "cell_type": "markdown",
      "source": [
        "hashsum = -753198159639052557"
      ],
      "metadata": {
        "id": "cfs1wPujvQ8I"
      }
    },
    {
      "cell_type": "markdown",
      "source": [
        "# 3) Mounten und Pfadangaben"
      ],
      "metadata": {
        "id": "nu1rvPe0z89x"
      }
    },
    {
      "cell_type": "code",
      "metadata": {
        "id": "-042ss9IcbTC",
        "colab": {
          "base_uri": "https://localhost:8080/"
        },
        "outputId": "e9d661e4-ac8c-4d42-8dea-bee614978115"
      },
      "source": [
        "from google.colab import drive\n",
        "# Mounten des Drives für Data Warehouse Zugang\n",
        "drive.mount(\"/content/drive\")"
      ],
      "execution_count": 1,
      "outputs": [
        {
          "output_type": "stream",
          "name": "stdout",
          "text": [
            "Mounted at /content/drive\n"
          ]
        }
      ]
    },
    {
      "cell_type": "code",
      "metadata": {
        "id": "HzmmNYDbcnd7"
      },
      "source": [
        "# Pfad des DWH\n",
        "DB_DWH_PATH = \"/content/drive/Shareddrives/DMA_2023_D/DMA2023TeamB/DWH/DWH_covid19_ANTICOVIS_db.db\"\n",
        "\n",
        "# Verbindung zum DWH\n",
        "dwh_conn = sqlite3.connect(DB_DWH_PATH)"
      ],
      "execution_count": null,
      "outputs": []
    },
    {
      "cell_type": "code",
      "metadata": {
        "id": "l3c3cyQocaXV",
        "colab": {
          "base_uri": "https://localhost:8080/"
        },
        "outputId": "92a72739-d7ca-4797-e359-81de96b90195"
      },
      "source": [
        "# Liste der Tabellen im DWH\n",
        "if dwh_conn is not None:\n",
        "  dwh_cursor = dwh_conn.cursor()\n",
        "  dwh_cursor.execute(\"SELECT name FROM sqlite_master WHERE type='table';\")\n",
        "  print(\"List of Tables\", dwh_cursor.fetchall())\n"
      ],
      "execution_count": null,
      "outputs": [
        {
          "output_type": "stream",
          "name": "stdout",
          "text": [
            "List of Tables [('d_conditions',), ('d_devices',), ('d_medications',), ('d_procedures',), ('F_ANTICOVIS',), ('d_patients',)]\n"
          ]
        }
      ]
    },
    {
      "cell_type": "markdown",
      "source": [
        "# 4) Vorbereitende Schritte für die Datenanalyse"
      ],
      "metadata": {
        "id": "-jSdRJJq0wjt"
      }
    },
    {
      "cell_type": "code",
      "metadata": {
        "id": "r4Pk9g2SdmwO"
      },
      "source": [
        "# Einlesen der Query Resultate in ein Pandas Dataframe\n",
        "df_faktentabelle = pd.read_sql_query(\"SELECT * FROM F_ANTICOVIS\", dwh_conn)"
      ],
      "execution_count": null,
      "outputs": []
    },
    {
      "cell_type": "code",
      "metadata": {
        "id": "lK0LXxAAeB5i",
        "colab": {
          "base_uri": "https://localhost:8080/",
          "height": 206
        },
        "outputId": "a4c69dd3-79fe-4455-c754-0097dd9f5002"
      },
      "source": [
        "# .head() Prüfen der Resultate:\n",
        "df_faktentabelle.head()"
      ],
      "execution_count": null,
      "outputs": [
        {
          "output_type": "execute_result",
          "data": {
            "text/plain": [
              "  patients_ID  conditions_code  procedures_code  devices_code  \\\n",
              "0  kzjknynjzx       36955009.0      261352009.0           0.0   \n",
              "1  kzjknynjzx      386661006.0      261352009.0           0.0   \n",
              "2  kzjknynjzx      840539006.0      261352009.0           0.0   \n",
              "3  kzjknynjzx      840544004.0      261352009.0           0.0   \n",
              "4  upbzmcdmys       36955009.0      180325003.0           0.0   \n",
              "\n",
              "  MED_CLASSIFICATION  COV_GRADING  \n",
              "0                  0            1  \n",
              "1                  0            1  \n",
              "2                  0            1  \n",
              "3                  0            1  \n",
              "4                  0            5  "
            ],
            "text/html": [
              "\n",
              "  <div id=\"df-fede13d4-e04a-403f-9be3-67978cb11e21\">\n",
              "    <div class=\"colab-df-container\">\n",
              "      <div>\n",
              "<style scoped>\n",
              "    .dataframe tbody tr th:only-of-type {\n",
              "        vertical-align: middle;\n",
              "    }\n",
              "\n",
              "    .dataframe tbody tr th {\n",
              "        vertical-align: top;\n",
              "    }\n",
              "\n",
              "    .dataframe thead th {\n",
              "        text-align: right;\n",
              "    }\n",
              "</style>\n",
              "<table border=\"1\" class=\"dataframe\">\n",
              "  <thead>\n",
              "    <tr style=\"text-align: right;\">\n",
              "      <th></th>\n",
              "      <th>patients_ID</th>\n",
              "      <th>conditions_code</th>\n",
              "      <th>procedures_code</th>\n",
              "      <th>devices_code</th>\n",
              "      <th>MED_CLASSIFICATION</th>\n",
              "      <th>COV_GRADING</th>\n",
              "    </tr>\n",
              "  </thead>\n",
              "  <tbody>\n",
              "    <tr>\n",
              "      <th>0</th>\n",
              "      <td>kzjknynjzx</td>\n",
              "      <td>36955009.0</td>\n",
              "      <td>261352009.0</td>\n",
              "      <td>0.0</td>\n",
              "      <td>0</td>\n",
              "      <td>1</td>\n",
              "    </tr>\n",
              "    <tr>\n",
              "      <th>1</th>\n",
              "      <td>kzjknynjzx</td>\n",
              "      <td>386661006.0</td>\n",
              "      <td>261352009.0</td>\n",
              "      <td>0.0</td>\n",
              "      <td>0</td>\n",
              "      <td>1</td>\n",
              "    </tr>\n",
              "    <tr>\n",
              "      <th>2</th>\n",
              "      <td>kzjknynjzx</td>\n",
              "      <td>840539006.0</td>\n",
              "      <td>261352009.0</td>\n",
              "      <td>0.0</td>\n",
              "      <td>0</td>\n",
              "      <td>1</td>\n",
              "    </tr>\n",
              "    <tr>\n",
              "      <th>3</th>\n",
              "      <td>kzjknynjzx</td>\n",
              "      <td>840544004.0</td>\n",
              "      <td>261352009.0</td>\n",
              "      <td>0.0</td>\n",
              "      <td>0</td>\n",
              "      <td>1</td>\n",
              "    </tr>\n",
              "    <tr>\n",
              "      <th>4</th>\n",
              "      <td>upbzmcdmys</td>\n",
              "      <td>36955009.0</td>\n",
              "      <td>180325003.0</td>\n",
              "      <td>0.0</td>\n",
              "      <td>0</td>\n",
              "      <td>5</td>\n",
              "    </tr>\n",
              "  </tbody>\n",
              "</table>\n",
              "</div>\n",
              "      <button class=\"colab-df-convert\" onclick=\"convertToInteractive('df-fede13d4-e04a-403f-9be3-67978cb11e21')\"\n",
              "              title=\"Convert this dataframe to an interactive table.\"\n",
              "              style=\"display:none;\">\n",
              "        \n",
              "  <svg xmlns=\"http://www.w3.org/2000/svg\" height=\"24px\"viewBox=\"0 0 24 24\"\n",
              "       width=\"24px\">\n",
              "    <path d=\"M0 0h24v24H0V0z\" fill=\"none\"/>\n",
              "    <path d=\"M18.56 5.44l.94 2.06.94-2.06 2.06-.94-2.06-.94-.94-2.06-.94 2.06-2.06.94zm-11 1L8.5 8.5l.94-2.06 2.06-.94-2.06-.94L8.5 2.5l-.94 2.06-2.06.94zm10 10l.94 2.06.94-2.06 2.06-.94-2.06-.94-.94-2.06-.94 2.06-2.06.94z\"/><path d=\"M17.41 7.96l-1.37-1.37c-.4-.4-.92-.59-1.43-.59-.52 0-1.04.2-1.43.59L10.3 9.45l-7.72 7.72c-.78.78-.78 2.05 0 2.83L4 21.41c.39.39.9.59 1.41.59.51 0 1.02-.2 1.41-.59l7.78-7.78 2.81-2.81c.8-.78.8-2.07 0-2.86zM5.41 20L4 18.59l7.72-7.72 1.47 1.35L5.41 20z\"/>\n",
              "  </svg>\n",
              "      </button>\n",
              "      \n",
              "  <style>\n",
              "    .colab-df-container {\n",
              "      display:flex;\n",
              "      flex-wrap:wrap;\n",
              "      gap: 12px;\n",
              "    }\n",
              "\n",
              "    .colab-df-convert {\n",
              "      background-color: #E8F0FE;\n",
              "      border: none;\n",
              "      border-radius: 50%;\n",
              "      cursor: pointer;\n",
              "      display: none;\n",
              "      fill: #1967D2;\n",
              "      height: 32px;\n",
              "      padding: 0 0 0 0;\n",
              "      width: 32px;\n",
              "    }\n",
              "\n",
              "    .colab-df-convert:hover {\n",
              "      background-color: #E2EBFA;\n",
              "      box-shadow: 0px 1px 2px rgba(60, 64, 67, 0.3), 0px 1px 3px 1px rgba(60, 64, 67, 0.15);\n",
              "      fill: #174EA6;\n",
              "    }\n",
              "\n",
              "    [theme=dark] .colab-df-convert {\n",
              "      background-color: #3B4455;\n",
              "      fill: #D2E3FC;\n",
              "    }\n",
              "\n",
              "    [theme=dark] .colab-df-convert:hover {\n",
              "      background-color: #434B5C;\n",
              "      box-shadow: 0px 1px 3px 1px rgba(0, 0, 0, 0.15);\n",
              "      filter: drop-shadow(0px 1px 2px rgba(0, 0, 0, 0.3));\n",
              "      fill: #FFFFFF;\n",
              "    }\n",
              "  </style>\n",
              "\n",
              "      <script>\n",
              "        const buttonEl =\n",
              "          document.querySelector('#df-fede13d4-e04a-403f-9be3-67978cb11e21 button.colab-df-convert');\n",
              "        buttonEl.style.display =\n",
              "          google.colab.kernel.accessAllowed ? 'block' : 'none';\n",
              "\n",
              "        async function convertToInteractive(key) {\n",
              "          const element = document.querySelector('#df-fede13d4-e04a-403f-9be3-67978cb11e21');\n",
              "          const dataTable =\n",
              "            await google.colab.kernel.invokeFunction('convertToInteractive',\n",
              "                                                     [key], {});\n",
              "          if (!dataTable) return;\n",
              "\n",
              "          const docLinkHtml = 'Like what you see? Visit the ' +\n",
              "            '<a target=\"_blank\" href=https://colab.research.google.com/notebooks/data_table.ipynb>data table notebook</a>'\n",
              "            + ' to learn more about interactive tables.';\n",
              "          element.innerHTML = '';\n",
              "          dataTable['output_type'] = 'display_data';\n",
              "          await google.colab.output.renderOutput(dataTable, element);\n",
              "          const docLink = document.createElement('div');\n",
              "          docLink.innerHTML = docLinkHtml;\n",
              "          element.appendChild(docLink);\n",
              "        }\n",
              "      </script>\n",
              "    </div>\n",
              "  </div>\n",
              "  "
            ]
          },
          "metadata": {},
          "execution_count": 154
        }
      ]
    },
    {
      "cell_type": "code",
      "metadata": {
        "id": "wu4gAaCVqhJb",
        "colab": {
          "base_uri": "https://localhost:8080/"
        },
        "outputId": "cbec148c-6a2b-4b6a-8bd3-41ebf7dc3318"
      },
      "source": [
        "# .shape returns the number of rows by the number of columns\n",
        "#size of dataset\n",
        "df_faktentabelle.shape"
      ],
      "execution_count": null,
      "outputs": [
        {
          "output_type": "execute_result",
          "data": {
            "text/plain": [
              "(608791, 6)"
            ]
          },
          "metadata": {},
          "execution_count": 155
        }
      ]
    },
    {
      "cell_type": "code",
      "metadata": {
        "id": "TIO9Yf9-vhF6",
        "colab": {
          "base_uri": "https://localhost:8080/"
        },
        "outputId": "f19ab13d-1c43-4b8d-9abb-584e4363bb6c"
      },
      "source": [
        "# .columns zeigt die Namen aller Tabellen im DWH\n",
        "df_faktentabelle.columns"
      ],
      "execution_count": null,
      "outputs": [
        {
          "output_type": "execute_result",
          "data": {
            "text/plain": [
              "Index(['patients_ID', 'conditions_code', 'procedures_code', 'devices_code',\n",
              "       'MED_CLASSIFICATION', 'COV_GRADING'],\n",
              "      dtype='object')"
            ]
          },
          "metadata": {},
          "execution_count": 156
        }
      ]
    },
    {
      "cell_type": "code",
      "metadata": {
        "id": "Kp7F79sFlNUy",
        "colab": {
          "base_uri": "https://localhost:8080/"
        },
        "outputId": "201fcfe4-919f-443e-9f63-b3252e105ae5"
      },
      "source": [
        "# Anzeigen aller Attributinformationen\n",
        "df_faktentabelle.info()"
      ],
      "execution_count": null,
      "outputs": [
        {
          "output_type": "stream",
          "name": "stdout",
          "text": [
            "<class 'pandas.core.frame.DataFrame'>\n",
            "RangeIndex: 608791 entries, 0 to 608790\n",
            "Data columns (total 6 columns):\n",
            " #   Column              Non-Null Count   Dtype  \n",
            "---  ------              --------------   -----  \n",
            " 0   patients_ID         608791 non-null  object \n",
            " 1   conditions_code     608791 non-null  float64\n",
            " 2   procedures_code     608791 non-null  float64\n",
            " 3   devices_code        608791 non-null  float64\n",
            " 4   MED_CLASSIFICATION  608791 non-null  object \n",
            " 5   COV_GRADING         608791 non-null  int64  \n",
            "dtypes: float64(3), int64(1), object(2)\n",
            "memory usage: 27.9+ MB\n"
          ]
        }
      ]
    },
    {
      "cell_type": "code",
      "metadata": {
        "id": "KpVlnD4otd6J"
      },
      "source": [
        "#Beenden der DWH-Verbindung\n",
        "#dwh_conn.close()"
      ],
      "execution_count": null,
      "outputs": []
    },
    {
      "cell_type": "code",
      "metadata": {
        "colab": {
          "base_uri": "https://localhost:8080/"
        },
        "id": "Txjvbmc_wC-C",
        "outputId": "7c733749-8568-46be-a295-d45fd12d1149"
      },
      "source": [
        "# .nunique(axis=0) zeigt die Anzahl einzigartiger Variablen \n",
        "df_faktentabelle.nunique(axis=0)\n"
      ],
      "execution_count": null,
      "outputs": [
        {
          "output_type": "execute_result",
          "data": {
            "text/plain": [
              "patients_ID           1050\n",
              "conditions_code         42\n",
              "procedures_code         18\n",
              "devices_code             7\n",
              "MED_CLASSIFICATION       4\n",
              "COV_GRADING              6\n",
              "dtype: int64"
            ]
          },
          "metadata": {},
          "execution_count": 159
        }
      ]
    },
    {
      "cell_type": "markdown",
      "source": [
        "# 5) Initiale Untersuchung der Covid Patient:innen und vorbereitende Schritte für die Datenanalyse\n",
        "\n"
      ],
      "metadata": {
        "id": "ykFn_qkiZoLi"
      }
    },
    {
      "cell_type": "markdown",
      "source": [
        "Covid Patient:innen:\n",
        "\n"
      ],
      "metadata": {
        "id": "IJS8IUH1hq0x"
      }
    },
    {
      "cell_type": "code",
      "source": [
        "\n",
        "all_patients_that_had_covid = sqldf(\"\"\"SELECT DISTINCT patients_id, conditions_code As Patients_With_Covid\n",
        "                                                  FROM df_faktentabelle \n",
        "                                                  WHERE conditions_code = 840539006\"\"\")\n",
        "all_patients_that_had_covid"
      ],
      "metadata": {
        "id": "zCKa2f5-e4cq",
        "colab": {
          "base_uri": "https://localhost:8080/",
          "height": 424
        },
        "outputId": "fd528513-101a-40cc-c38d-f3b8637b8b7b"
      },
      "execution_count": null,
      "outputs": [
        {
          "output_type": "execute_result",
          "data": {
            "text/plain": [
              "    patients_ID  Patients_With_Covid\n",
              "0    kzjknynjzx          840539006.0\n",
              "1    upbzmcdmys          840539006.0\n",
              "2    gkuamljbqc          840539006.0\n",
              "3    cujrtqnldo          840539006.0\n",
              "4    zrkdrzaziu          840539006.0\n",
              "..          ...                  ...\n",
              "860  nnygehhqqh          840539006.0\n",
              "861  tjjlajdifk          840539006.0\n",
              "862  cilhvojejf          840539006.0\n",
              "863  mqionduuuf          840539006.0\n",
              "864  kyysqzamcz          840539006.0\n",
              "\n",
              "[865 rows x 2 columns]"
            ],
            "text/html": [
              "\n",
              "  <div id=\"df-a5007eb6-75fe-4abd-8855-b58ea105a3e2\">\n",
              "    <div class=\"colab-df-container\">\n",
              "      <div>\n",
              "<style scoped>\n",
              "    .dataframe tbody tr th:only-of-type {\n",
              "        vertical-align: middle;\n",
              "    }\n",
              "\n",
              "    .dataframe tbody tr th {\n",
              "        vertical-align: top;\n",
              "    }\n",
              "\n",
              "    .dataframe thead th {\n",
              "        text-align: right;\n",
              "    }\n",
              "</style>\n",
              "<table border=\"1\" class=\"dataframe\">\n",
              "  <thead>\n",
              "    <tr style=\"text-align: right;\">\n",
              "      <th></th>\n",
              "      <th>patients_ID</th>\n",
              "      <th>Patients_With_Covid</th>\n",
              "    </tr>\n",
              "  </thead>\n",
              "  <tbody>\n",
              "    <tr>\n",
              "      <th>0</th>\n",
              "      <td>kzjknynjzx</td>\n",
              "      <td>840539006.0</td>\n",
              "    </tr>\n",
              "    <tr>\n",
              "      <th>1</th>\n",
              "      <td>upbzmcdmys</td>\n",
              "      <td>840539006.0</td>\n",
              "    </tr>\n",
              "    <tr>\n",
              "      <th>2</th>\n",
              "      <td>gkuamljbqc</td>\n",
              "      <td>840539006.0</td>\n",
              "    </tr>\n",
              "    <tr>\n",
              "      <th>3</th>\n",
              "      <td>cujrtqnldo</td>\n",
              "      <td>840539006.0</td>\n",
              "    </tr>\n",
              "    <tr>\n",
              "      <th>4</th>\n",
              "      <td>zrkdrzaziu</td>\n",
              "      <td>840539006.0</td>\n",
              "    </tr>\n",
              "    <tr>\n",
              "      <th>...</th>\n",
              "      <td>...</td>\n",
              "      <td>...</td>\n",
              "    </tr>\n",
              "    <tr>\n",
              "      <th>860</th>\n",
              "      <td>nnygehhqqh</td>\n",
              "      <td>840539006.0</td>\n",
              "    </tr>\n",
              "    <tr>\n",
              "      <th>861</th>\n",
              "      <td>tjjlajdifk</td>\n",
              "      <td>840539006.0</td>\n",
              "    </tr>\n",
              "    <tr>\n",
              "      <th>862</th>\n",
              "      <td>cilhvojejf</td>\n",
              "      <td>840539006.0</td>\n",
              "    </tr>\n",
              "    <tr>\n",
              "      <th>863</th>\n",
              "      <td>mqionduuuf</td>\n",
              "      <td>840539006.0</td>\n",
              "    </tr>\n",
              "    <tr>\n",
              "      <th>864</th>\n",
              "      <td>kyysqzamcz</td>\n",
              "      <td>840539006.0</td>\n",
              "    </tr>\n",
              "  </tbody>\n",
              "</table>\n",
              "<p>865 rows × 2 columns</p>\n",
              "</div>\n",
              "      <button class=\"colab-df-convert\" onclick=\"convertToInteractive('df-a5007eb6-75fe-4abd-8855-b58ea105a3e2')\"\n",
              "              title=\"Convert this dataframe to an interactive table.\"\n",
              "              style=\"display:none;\">\n",
              "        \n",
              "  <svg xmlns=\"http://www.w3.org/2000/svg\" height=\"24px\"viewBox=\"0 0 24 24\"\n",
              "       width=\"24px\">\n",
              "    <path d=\"M0 0h24v24H0V0z\" fill=\"none\"/>\n",
              "    <path d=\"M18.56 5.44l.94 2.06.94-2.06 2.06-.94-2.06-.94-.94-2.06-.94 2.06-2.06.94zm-11 1L8.5 8.5l.94-2.06 2.06-.94-2.06-.94L8.5 2.5l-.94 2.06-2.06.94zm10 10l.94 2.06.94-2.06 2.06-.94-2.06-.94-.94-2.06-.94 2.06-2.06.94z\"/><path d=\"M17.41 7.96l-1.37-1.37c-.4-.4-.92-.59-1.43-.59-.52 0-1.04.2-1.43.59L10.3 9.45l-7.72 7.72c-.78.78-.78 2.05 0 2.83L4 21.41c.39.39.9.59 1.41.59.51 0 1.02-.2 1.41-.59l7.78-7.78 2.81-2.81c.8-.78.8-2.07 0-2.86zM5.41 20L4 18.59l7.72-7.72 1.47 1.35L5.41 20z\"/>\n",
              "  </svg>\n",
              "      </button>\n",
              "      \n",
              "  <style>\n",
              "    .colab-df-container {\n",
              "      display:flex;\n",
              "      flex-wrap:wrap;\n",
              "      gap: 12px;\n",
              "    }\n",
              "\n",
              "    .colab-df-convert {\n",
              "      background-color: #E8F0FE;\n",
              "      border: none;\n",
              "      border-radius: 50%;\n",
              "      cursor: pointer;\n",
              "      display: none;\n",
              "      fill: #1967D2;\n",
              "      height: 32px;\n",
              "      padding: 0 0 0 0;\n",
              "      width: 32px;\n",
              "    }\n",
              "\n",
              "    .colab-df-convert:hover {\n",
              "      background-color: #E2EBFA;\n",
              "      box-shadow: 0px 1px 2px rgba(60, 64, 67, 0.3), 0px 1px 3px 1px rgba(60, 64, 67, 0.15);\n",
              "      fill: #174EA6;\n",
              "    }\n",
              "\n",
              "    [theme=dark] .colab-df-convert {\n",
              "      background-color: #3B4455;\n",
              "      fill: #D2E3FC;\n",
              "    }\n",
              "\n",
              "    [theme=dark] .colab-df-convert:hover {\n",
              "      background-color: #434B5C;\n",
              "      box-shadow: 0px 1px 3px 1px rgba(0, 0, 0, 0.15);\n",
              "      filter: drop-shadow(0px 1px 2px rgba(0, 0, 0, 0.3));\n",
              "      fill: #FFFFFF;\n",
              "    }\n",
              "  </style>\n",
              "\n",
              "      <script>\n",
              "        const buttonEl =\n",
              "          document.querySelector('#df-a5007eb6-75fe-4abd-8855-b58ea105a3e2 button.colab-df-convert');\n",
              "        buttonEl.style.display =\n",
              "          google.colab.kernel.accessAllowed ? 'block' : 'none';\n",
              "\n",
              "        async function convertToInteractive(key) {\n",
              "          const element = document.querySelector('#df-a5007eb6-75fe-4abd-8855-b58ea105a3e2');\n",
              "          const dataTable =\n",
              "            await google.colab.kernel.invokeFunction('convertToInteractive',\n",
              "                                                     [key], {});\n",
              "          if (!dataTable) return;\n",
              "\n",
              "          const docLinkHtml = 'Like what you see? Visit the ' +\n",
              "            '<a target=\"_blank\" href=https://colab.research.google.com/notebooks/data_table.ipynb>data table notebook</a>'\n",
              "            + ' to learn more about interactive tables.';\n",
              "          element.innerHTML = '';\n",
              "          dataTable['output_type'] = 'display_data';\n",
              "          await google.colab.output.renderOutput(dataTable, element);\n",
              "          const docLink = document.createElement('div');\n",
              "          docLink.innerHTML = docLinkHtml;\n",
              "          element.appendChild(docLink);\n",
              "        }\n",
              "      </script>\n",
              "    </div>\n",
              "  </div>\n",
              "  "
            ]
          },
          "metadata": {},
          "execution_count": 160
        }
      ]
    },
    {
      "cell_type": "markdown",
      "source": [
        "Covid Patient:innen ohne Antikoagulation: \n"
      ],
      "metadata": {
        "id": "xA6_fCGGmjRi"
      }
    },
    {
      "cell_type": "code",
      "source": [
        "all_COVID_19_Patients_That_did_not_Recieved_an_anticoagulation = sqldf(\"\"\"SELECT DISTINCT patients_id As Patients_With_Covid \n",
        "                                                                  FROM df_faktentabelle \n",
        "                                                                  WHERE conditions_code = 840539006 AND MED_CLASSIFICATION = 0\"\"\")\n",
        "all_COVID_19_Patients_That_did_not_Recieved_an_anticoagulation"
      ],
      "metadata": {
        "id": "m86dXvNWm0NI",
        "colab": {
          "base_uri": "https://localhost:8080/",
          "height": 424
        },
        "outputId": "3ebb5bec-7e11-4c76-a582-98a12cd2cbba"
      },
      "execution_count": null,
      "outputs": [
        {
          "output_type": "execute_result",
          "data": {
            "text/plain": [
              "    Patients_With_Covid\n",
              "0            kzjknynjzx\n",
              "1            upbzmcdmys\n",
              "2            gkuamljbqc\n",
              "3            cujrtqnldo\n",
              "4            zrkdrzaziu\n",
              "..                  ...\n",
              "860          nnygehhqqh\n",
              "861          tjjlajdifk\n",
              "862          cilhvojejf\n",
              "863          mqionduuuf\n",
              "864          kyysqzamcz\n",
              "\n",
              "[865 rows x 1 columns]"
            ],
            "text/html": [
              "\n",
              "  <div id=\"df-15a925db-2441-4e7a-aa64-373f48b5a8dc\">\n",
              "    <div class=\"colab-df-container\">\n",
              "      <div>\n",
              "<style scoped>\n",
              "    .dataframe tbody tr th:only-of-type {\n",
              "        vertical-align: middle;\n",
              "    }\n",
              "\n",
              "    .dataframe tbody tr th {\n",
              "        vertical-align: top;\n",
              "    }\n",
              "\n",
              "    .dataframe thead th {\n",
              "        text-align: right;\n",
              "    }\n",
              "</style>\n",
              "<table border=\"1\" class=\"dataframe\">\n",
              "  <thead>\n",
              "    <tr style=\"text-align: right;\">\n",
              "      <th></th>\n",
              "      <th>Patients_With_Covid</th>\n",
              "    </tr>\n",
              "  </thead>\n",
              "  <tbody>\n",
              "    <tr>\n",
              "      <th>0</th>\n",
              "      <td>kzjknynjzx</td>\n",
              "    </tr>\n",
              "    <tr>\n",
              "      <th>1</th>\n",
              "      <td>upbzmcdmys</td>\n",
              "    </tr>\n",
              "    <tr>\n",
              "      <th>2</th>\n",
              "      <td>gkuamljbqc</td>\n",
              "    </tr>\n",
              "    <tr>\n",
              "      <th>3</th>\n",
              "      <td>cujrtqnldo</td>\n",
              "    </tr>\n",
              "    <tr>\n",
              "      <th>4</th>\n",
              "      <td>zrkdrzaziu</td>\n",
              "    </tr>\n",
              "    <tr>\n",
              "      <th>...</th>\n",
              "      <td>...</td>\n",
              "    </tr>\n",
              "    <tr>\n",
              "      <th>860</th>\n",
              "      <td>nnygehhqqh</td>\n",
              "    </tr>\n",
              "    <tr>\n",
              "      <th>861</th>\n",
              "      <td>tjjlajdifk</td>\n",
              "    </tr>\n",
              "    <tr>\n",
              "      <th>862</th>\n",
              "      <td>cilhvojejf</td>\n",
              "    </tr>\n",
              "    <tr>\n",
              "      <th>863</th>\n",
              "      <td>mqionduuuf</td>\n",
              "    </tr>\n",
              "    <tr>\n",
              "      <th>864</th>\n",
              "      <td>kyysqzamcz</td>\n",
              "    </tr>\n",
              "  </tbody>\n",
              "</table>\n",
              "<p>865 rows × 1 columns</p>\n",
              "</div>\n",
              "      <button class=\"colab-df-convert\" onclick=\"convertToInteractive('df-15a925db-2441-4e7a-aa64-373f48b5a8dc')\"\n",
              "              title=\"Convert this dataframe to an interactive table.\"\n",
              "              style=\"display:none;\">\n",
              "        \n",
              "  <svg xmlns=\"http://www.w3.org/2000/svg\" height=\"24px\"viewBox=\"0 0 24 24\"\n",
              "       width=\"24px\">\n",
              "    <path d=\"M0 0h24v24H0V0z\" fill=\"none\"/>\n",
              "    <path d=\"M18.56 5.44l.94 2.06.94-2.06 2.06-.94-2.06-.94-.94-2.06-.94 2.06-2.06.94zm-11 1L8.5 8.5l.94-2.06 2.06-.94-2.06-.94L8.5 2.5l-.94 2.06-2.06.94zm10 10l.94 2.06.94-2.06 2.06-.94-2.06-.94-.94-2.06-.94 2.06-2.06.94z\"/><path d=\"M17.41 7.96l-1.37-1.37c-.4-.4-.92-.59-1.43-.59-.52 0-1.04.2-1.43.59L10.3 9.45l-7.72 7.72c-.78.78-.78 2.05 0 2.83L4 21.41c.39.39.9.59 1.41.59.51 0 1.02-.2 1.41-.59l7.78-7.78 2.81-2.81c.8-.78.8-2.07 0-2.86zM5.41 20L4 18.59l7.72-7.72 1.47 1.35L5.41 20z\"/>\n",
              "  </svg>\n",
              "      </button>\n",
              "      \n",
              "  <style>\n",
              "    .colab-df-container {\n",
              "      display:flex;\n",
              "      flex-wrap:wrap;\n",
              "      gap: 12px;\n",
              "    }\n",
              "\n",
              "    .colab-df-convert {\n",
              "      background-color: #E8F0FE;\n",
              "      border: none;\n",
              "      border-radius: 50%;\n",
              "      cursor: pointer;\n",
              "      display: none;\n",
              "      fill: #1967D2;\n",
              "      height: 32px;\n",
              "      padding: 0 0 0 0;\n",
              "      width: 32px;\n",
              "    }\n",
              "\n",
              "    .colab-df-convert:hover {\n",
              "      background-color: #E2EBFA;\n",
              "      box-shadow: 0px 1px 2px rgba(60, 64, 67, 0.3), 0px 1px 3px 1px rgba(60, 64, 67, 0.15);\n",
              "      fill: #174EA6;\n",
              "    }\n",
              "\n",
              "    [theme=dark] .colab-df-convert {\n",
              "      background-color: #3B4455;\n",
              "      fill: #D2E3FC;\n",
              "    }\n",
              "\n",
              "    [theme=dark] .colab-df-convert:hover {\n",
              "      background-color: #434B5C;\n",
              "      box-shadow: 0px 1px 3px 1px rgba(0, 0, 0, 0.15);\n",
              "      filter: drop-shadow(0px 1px 2px rgba(0, 0, 0, 0.3));\n",
              "      fill: #FFFFFF;\n",
              "    }\n",
              "  </style>\n",
              "\n",
              "      <script>\n",
              "        const buttonEl =\n",
              "          document.querySelector('#df-15a925db-2441-4e7a-aa64-373f48b5a8dc button.colab-df-convert');\n",
              "        buttonEl.style.display =\n",
              "          google.colab.kernel.accessAllowed ? 'block' : 'none';\n",
              "\n",
              "        async function convertToInteractive(key) {\n",
              "          const element = document.querySelector('#df-15a925db-2441-4e7a-aa64-373f48b5a8dc');\n",
              "          const dataTable =\n",
              "            await google.colab.kernel.invokeFunction('convertToInteractive',\n",
              "                                                     [key], {});\n",
              "          if (!dataTable) return;\n",
              "\n",
              "          const docLinkHtml = 'Like what you see? Visit the ' +\n",
              "            '<a target=\"_blank\" href=https://colab.research.google.com/notebooks/data_table.ipynb>data table notebook</a>'\n",
              "            + ' to learn more about interactive tables.';\n",
              "          element.innerHTML = '';\n",
              "          dataTable['output_type'] = 'display_data';\n",
              "          await google.colab.output.renderOutput(dataTable, element);\n",
              "          const docLink = document.createElement('div');\n",
              "          docLink.innerHTML = docLinkHtml;\n",
              "          element.appendChild(docLink);\n",
              "        }\n",
              "      </script>\n",
              "    </div>\n",
              "  </div>\n",
              "  "
            ]
          },
          "metadata": {},
          "execution_count": 161
        }
      ]
    },
    {
      "cell_type": "markdown",
      "source": [
        "Covid Patient:innen mit Antikoagulation: \n"
      ],
      "metadata": {
        "id": "U2oz1iSSkYqb"
      }
    },
    {
      "cell_type": "code",
      "source": [
        "all_COVID_19_Patients_That_Recieved_an_anticoagulation = sqldf(\"\"\"SELECT DISTINCT patients_id As Patients_With_Covid, MED_CLASSIFICATION\n",
        "                                                                  FROM df_faktentabelle \n",
        "                                                                  WHERE conditions_code = 840539006 AND MED_CLASSIFICATION != 0\"\"\")\n",
        "\n",
        "all_COVID_19_Patients_That_Recieved_an_anticoagulation"
      ],
      "metadata": {
        "id": "1rdreof4iWD2",
        "colab": {
          "base_uri": "https://localhost:8080/",
          "height": 424
        },
        "outputId": "799d7e2d-bcfd-4c6b-fbc2-d53c721f604d"
      },
      "execution_count": null,
      "outputs": [
        {
          "output_type": "execute_result",
          "data": {
            "text/plain": [
              "    Patients_With_Covid MED_CLASSIFICATION\n",
              "0            upbzmcdmys                  3\n",
              "1            cujrtqnldo                  1\n",
              "2            afolyayjzc                  1\n",
              "3            ggolrecrpi                  1\n",
              "4            aonaydsedd                  1\n",
              "..                  ...                ...\n",
              "197          ikgrkhklln                  1\n",
              "198          vpngrvnbtt                  1\n",
              "199          mqionduuuf                  2\n",
              "200          kyysqzamcz                  2\n",
              "201          kyysqzamcz                  1\n",
              "\n",
              "[202 rows x 2 columns]"
            ],
            "text/html": [
              "\n",
              "  <div id=\"df-c26bf545-95db-417a-a8db-26068df3f18a\">\n",
              "    <div class=\"colab-df-container\">\n",
              "      <div>\n",
              "<style scoped>\n",
              "    .dataframe tbody tr th:only-of-type {\n",
              "        vertical-align: middle;\n",
              "    }\n",
              "\n",
              "    .dataframe tbody tr th {\n",
              "        vertical-align: top;\n",
              "    }\n",
              "\n",
              "    .dataframe thead th {\n",
              "        text-align: right;\n",
              "    }\n",
              "</style>\n",
              "<table border=\"1\" class=\"dataframe\">\n",
              "  <thead>\n",
              "    <tr style=\"text-align: right;\">\n",
              "      <th></th>\n",
              "      <th>Patients_With_Covid</th>\n",
              "      <th>MED_CLASSIFICATION</th>\n",
              "    </tr>\n",
              "  </thead>\n",
              "  <tbody>\n",
              "    <tr>\n",
              "      <th>0</th>\n",
              "      <td>upbzmcdmys</td>\n",
              "      <td>3</td>\n",
              "    </tr>\n",
              "    <tr>\n",
              "      <th>1</th>\n",
              "      <td>cujrtqnldo</td>\n",
              "      <td>1</td>\n",
              "    </tr>\n",
              "    <tr>\n",
              "      <th>2</th>\n",
              "      <td>afolyayjzc</td>\n",
              "      <td>1</td>\n",
              "    </tr>\n",
              "    <tr>\n",
              "      <th>3</th>\n",
              "      <td>ggolrecrpi</td>\n",
              "      <td>1</td>\n",
              "    </tr>\n",
              "    <tr>\n",
              "      <th>4</th>\n",
              "      <td>aonaydsedd</td>\n",
              "      <td>1</td>\n",
              "    </tr>\n",
              "    <tr>\n",
              "      <th>...</th>\n",
              "      <td>...</td>\n",
              "      <td>...</td>\n",
              "    </tr>\n",
              "    <tr>\n",
              "      <th>197</th>\n",
              "      <td>ikgrkhklln</td>\n",
              "      <td>1</td>\n",
              "    </tr>\n",
              "    <tr>\n",
              "      <th>198</th>\n",
              "      <td>vpngrvnbtt</td>\n",
              "      <td>1</td>\n",
              "    </tr>\n",
              "    <tr>\n",
              "      <th>199</th>\n",
              "      <td>mqionduuuf</td>\n",
              "      <td>2</td>\n",
              "    </tr>\n",
              "    <tr>\n",
              "      <th>200</th>\n",
              "      <td>kyysqzamcz</td>\n",
              "      <td>2</td>\n",
              "    </tr>\n",
              "    <tr>\n",
              "      <th>201</th>\n",
              "      <td>kyysqzamcz</td>\n",
              "      <td>1</td>\n",
              "    </tr>\n",
              "  </tbody>\n",
              "</table>\n",
              "<p>202 rows × 2 columns</p>\n",
              "</div>\n",
              "      <button class=\"colab-df-convert\" onclick=\"convertToInteractive('df-c26bf545-95db-417a-a8db-26068df3f18a')\"\n",
              "              title=\"Convert this dataframe to an interactive table.\"\n",
              "              style=\"display:none;\">\n",
              "        \n",
              "  <svg xmlns=\"http://www.w3.org/2000/svg\" height=\"24px\"viewBox=\"0 0 24 24\"\n",
              "       width=\"24px\">\n",
              "    <path d=\"M0 0h24v24H0V0z\" fill=\"none\"/>\n",
              "    <path d=\"M18.56 5.44l.94 2.06.94-2.06 2.06-.94-2.06-.94-.94-2.06-.94 2.06-2.06.94zm-11 1L8.5 8.5l.94-2.06 2.06-.94-2.06-.94L8.5 2.5l-.94 2.06-2.06.94zm10 10l.94 2.06.94-2.06 2.06-.94-2.06-.94-.94-2.06-.94 2.06-2.06.94z\"/><path d=\"M17.41 7.96l-1.37-1.37c-.4-.4-.92-.59-1.43-.59-.52 0-1.04.2-1.43.59L10.3 9.45l-7.72 7.72c-.78.78-.78 2.05 0 2.83L4 21.41c.39.39.9.59 1.41.59.51 0 1.02-.2 1.41-.59l7.78-7.78 2.81-2.81c.8-.78.8-2.07 0-2.86zM5.41 20L4 18.59l7.72-7.72 1.47 1.35L5.41 20z\"/>\n",
              "  </svg>\n",
              "      </button>\n",
              "      \n",
              "  <style>\n",
              "    .colab-df-container {\n",
              "      display:flex;\n",
              "      flex-wrap:wrap;\n",
              "      gap: 12px;\n",
              "    }\n",
              "\n",
              "    .colab-df-convert {\n",
              "      background-color: #E8F0FE;\n",
              "      border: none;\n",
              "      border-radius: 50%;\n",
              "      cursor: pointer;\n",
              "      display: none;\n",
              "      fill: #1967D2;\n",
              "      height: 32px;\n",
              "      padding: 0 0 0 0;\n",
              "      width: 32px;\n",
              "    }\n",
              "\n",
              "    .colab-df-convert:hover {\n",
              "      background-color: #E2EBFA;\n",
              "      box-shadow: 0px 1px 2px rgba(60, 64, 67, 0.3), 0px 1px 3px 1px rgba(60, 64, 67, 0.15);\n",
              "      fill: #174EA6;\n",
              "    }\n",
              "\n",
              "    [theme=dark] .colab-df-convert {\n",
              "      background-color: #3B4455;\n",
              "      fill: #D2E3FC;\n",
              "    }\n",
              "\n",
              "    [theme=dark] .colab-df-convert:hover {\n",
              "      background-color: #434B5C;\n",
              "      box-shadow: 0px 1px 3px 1px rgba(0, 0, 0, 0.15);\n",
              "      filter: drop-shadow(0px 1px 2px rgba(0, 0, 0, 0.3));\n",
              "      fill: #FFFFFF;\n",
              "    }\n",
              "  </style>\n",
              "\n",
              "      <script>\n",
              "        const buttonEl =\n",
              "          document.querySelector('#df-c26bf545-95db-417a-a8db-26068df3f18a button.colab-df-convert');\n",
              "        buttonEl.style.display =\n",
              "          google.colab.kernel.accessAllowed ? 'block' : 'none';\n",
              "\n",
              "        async function convertToInteractive(key) {\n",
              "          const element = document.querySelector('#df-c26bf545-95db-417a-a8db-26068df3f18a');\n",
              "          const dataTable =\n",
              "            await google.colab.kernel.invokeFunction('convertToInteractive',\n",
              "                                                     [key], {});\n",
              "          if (!dataTable) return;\n",
              "\n",
              "          const docLinkHtml = 'Like what you see? Visit the ' +\n",
              "            '<a target=\"_blank\" href=https://colab.research.google.com/notebooks/data_table.ipynb>data table notebook</a>'\n",
              "            + ' to learn more about interactive tables.';\n",
              "          element.innerHTML = '';\n",
              "          dataTable['output_type'] = 'display_data';\n",
              "          await google.colab.output.renderOutput(dataTable, element);\n",
              "          const docLink = document.createElement('div');\n",
              "          docLink.innerHTML = docLinkHtml;\n",
              "          element.appendChild(docLink);\n",
              "        }\n",
              "      </script>\n",
              "    </div>\n",
              "  </div>\n",
              "  "
            ]
          },
          "metadata": {},
          "execution_count": 162
        }
      ]
    },
    {
      "cell_type": "markdown",
      "source": [
        "Berechnung der Patient:innen der einzelnen Behandlungsgruppen (Behandlung mit Hepariderivaten, wo MED_CLASSIFICATION = 1, Behandlung mit Thrombozytenaggregationshemmern, wo MED_CLASSFICATION = 2, und Behandlung mit Vitamin K Antagonisten, wo MED_CLASSIFICATION = 3. "
      ],
      "metadata": {
        "id": "lM55f-H6Ay4y"
      }
    },
    {
      "cell_type": "code",
      "source": [
        "print(all_COVID_19_Patients_That_Recieved_an_anticoagulation.dtypes)"
      ],
      "metadata": {
        "colab": {
          "base_uri": "https://localhost:8080/"
        },
        "id": "OC5uPIAwAb9s",
        "outputId": "214a00bc-5564-472a-85a4-f904b167f17e"
      },
      "execution_count": null,
      "outputs": [
        {
          "output_type": "stream",
          "name": "stdout",
          "text": [
            "Patients_With_Covid    object\n",
            "MED_CLASSIFICATION     object\n",
            "dtype: object\n"
          ]
        }
      ]
    },
    {
      "cell_type": "code",
      "source": [
        "all_COVID_19_Patients_That_Recieved_an_anticoagulation['MED_CLASSIFICATION'] = all_COVID_19_Patients_That_Recieved_an_anticoagulation['MED_CLASSIFICATION'].astype(int)"
      ],
      "metadata": {
        "id": "5G7bo7PcAjUh"
      },
      "execution_count": null,
      "outputs": []
    },
    {
      "cell_type": "code",
      "source": [
        "# Definition der Gruppe\n",
        "anticoagulation1 = all_COVID_19_Patients_That_Recieved_an_anticoagulation[all_COVID_19_Patients_That_Recieved_an_anticoagulation['MED_CLASSIFICATION'] == 1].shape[0]\n",
        "anticoagulation2 = all_COVID_19_Patients_That_Recieved_an_anticoagulation[all_COVID_19_Patients_That_Recieved_an_anticoagulation['MED_CLASSIFICATION'] == 2].shape[0]\n",
        "anticoagulation3 = all_COVID_19_Patients_That_Recieved_an_anticoagulation[all_COVID_19_Patients_That_Recieved_an_anticoagulation['MED_CLASSIFICATION'] == 3].shape[0]\n",
        "\n",
        "# Ausgabe der Resultate\n",
        "print(\"Anzahl der Patient:innen in den einzelnen Behandlungsgruppen:\")\n",
        "print(\"Behandlung mit Heparinderivaten: \", anticoagulation1)\n",
        "print(\"Thrombozytenaggregationshemmer: \", anticoagulation2)\n",
        "print(\"Vitamin K Antagonist: \", anticoagulation3)"
      ],
      "metadata": {
        "colab": {
          "base_uri": "https://localhost:8080/"
        },
        "id": "C8OHvtiP_3wm",
        "outputId": "94684405-7870-45a7-84ac-4f809d263815"
      },
      "execution_count": null,
      "outputs": [
        {
          "output_type": "stream",
          "name": "stdout",
          "text": [
            "Anzahl der Patient:innen in den einzelnen Behandlungsgruppen:\n",
            "Behandlung mit Heparinderivaten:  129\n",
            "Thrombozytenaggregationshemmer:  46\n",
            "Vitamin K Antagonist:  27\n"
          ]
        }
      ]
    },
    {
      "cell_type": "markdown",
      "source": [
        "Darstellung der Verteilung der Schweregrade der Patient:innen:"
      ],
      "metadata": {
        "id": "gezS9coyUecA"
      }
    },
    {
      "cell_type": "code",
      "source": [
        "# Abfrage der Daten und Erzeugung eines Pandas Dataframes\n",
        "distinct_patients_and_course_of_desease = sqldf(\"\"\"\n",
        "    SELECT patients_id, MAX(COV_GRADING) AS course\n",
        "    FROM df_faktentabelle\n",
        "    GROUP BY patients_id\n",
        "\"\"\")\n",
        "\n",
        "# Herausfiltern der Patient:innen ohne Schweregrad: \n",
        "distinct_patients_and_course_of_desease = distinct_patients_and_course_of_desease[\n",
        "    distinct_patients_and_course_of_desease['course'] != 0\n",
        "]\n",
        "\n",
        "# Plotten der Daten als Bar Chart\n",
        "ax = distinct_patients_and_course_of_desease['course'].value_counts().sort_index().plot(kind='bar')\n",
        "\n",
        "# Benennung der Achsen\n",
        "ax.set_xlabel('Schweregrad der Erkrankung')\n",
        "ax.set_ylabel('Anzahl Patient:innen')\n",
        "\n",
        "# Plotten der Darstellung\n",
        "plt.show()"
      ],
      "metadata": {
        "colab": {
          "base_uri": "https://localhost:8080/",
          "height": 276
        },
        "id": "bmwTE5fc0Z0_",
        "outputId": "f8f86951-48d9-46a1-edc1-33630ef63385"
      },
      "execution_count": null,
      "outputs": [
        {
          "output_type": "display_data",
          "data": {
            "text/plain": [
              "<Figure size 432x288 with 1 Axes>"
            ],
            "image/png": "[encoded data removed]"
          },
          "metadata": {
            "needs_background": "light"
          }
        }
      ]
    },
    {
      "cell_type": "markdown",
      "source": [
        "Erstellung eines Data Frames von Patient:innen und deren Medikationsstatus:\n"
      ],
      "metadata": {
        "id": "TRJsyXBGvxo0"
      }
    },
    {
      "cell_type": "code",
      "source": [
        "distinct_patients_and_medications_grading = sqldf(\"\"\"SELECT patients_id, max(MED_CLASSIFICATION)as anticoagulation FROM df_faktentabelle\n",
        "GROUP BY patients_id\"\"\")\n",
        "distinct_patients_and_medications_grading"
      ],
      "metadata": {
        "id": "BFGFeeA1vw7v",
        "colab": {
          "base_uri": "https://localhost:8080/",
          "height": 424
        },
        "outputId": "54d84ab8-acb8-4692-9506-9ab15a738f86"
      },
      "execution_count": null,
      "outputs": [
        {
          "output_type": "execute_result",
          "data": {
            "text/plain": [
              "     patients_ID anticoagulation\n",
              "0     aaayeuzhnd               0\n",
              "1     aaynxjnnby               0\n",
              "2     abhdsbgojr               0\n",
              "3     acdopjhgry               0\n",
              "4     acmbhirfyz               0\n",
              "...          ...             ...\n",
              "1045  zxdsbpwsvx               0\n",
              "1046  zxpzgesozn               0\n",
              "1047  zxtzotgbuy               0\n",
              "1048  zzbqpspwkp               0\n",
              "1049  zzzqewfrca               0\n",
              "\n",
              "[1050 rows x 2 columns]"
            ],
            "text/html": [
              "\n",
              "  <div id=\"df-2ad1ba2a-0793-430f-8a9f-c7a3edef3173\">\n",
              "    <div class=\"colab-df-container\">\n",
              "      <div>\n",
              "<style scoped>\n",
              "    .dataframe tbody tr th:only-of-type {\n",
              "        vertical-align: middle;\n",
              "    }\n",
              "\n",
              "    .dataframe tbody tr th {\n",
              "        vertical-align: top;\n",
              "    }\n",
              "\n",
              "    .dataframe thead th {\n",
              "        text-align: right;\n",
              "    }\n",
              "</style>\n",
              "<table border=\"1\" class=\"dataframe\">\n",
              "  <thead>\n",
              "    <tr style=\"text-align: right;\">\n",
              "      <th></th>\n",
              "      <th>patients_ID</th>\n",
              "      <th>anticoagulation</th>\n",
              "    </tr>\n",
              "  </thead>\n",
              "  <tbody>\n",
              "    <tr>\n",
              "      <th>0</th>\n",
              "      <td>aaayeuzhnd</td>\n",
              "      <td>0</td>\n",
              "    </tr>\n",
              "    <tr>\n",
              "      <th>1</th>\n",
              "      <td>aaynxjnnby</td>\n",
              "      <td>0</td>\n",
              "    </tr>\n",
              "    <tr>\n",
              "      <th>2</th>\n",
              "      <td>abhdsbgojr</td>\n",
              "      <td>0</td>\n",
              "    </tr>\n",
              "    <tr>\n",
              "      <th>3</th>\n",
              "      <td>acdopjhgry</td>\n",
              "      <td>0</td>\n",
              "    </tr>\n",
              "    <tr>\n",
              "      <th>4</th>\n",
              "      <td>acmbhirfyz</td>\n",
              "      <td>0</td>\n",
              "    </tr>\n",
              "    <tr>\n",
              "      <th>...</th>\n",
              "      <td>...</td>\n",
              "      <td>...</td>\n",
              "    </tr>\n",
              "    <tr>\n",
              "      <th>1045</th>\n",
              "      <td>zxdsbpwsvx</td>\n",
              "      <td>0</td>\n",
              "    </tr>\n",
              "    <tr>\n",
              "      <th>1046</th>\n",
              "      <td>zxpzgesozn</td>\n",
              "      <td>0</td>\n",
              "    </tr>\n",
              "    <tr>\n",
              "      <th>1047</th>\n",
              "      <td>zxtzotgbuy</td>\n",
              "      <td>0</td>\n",
              "    </tr>\n",
              "    <tr>\n",
              "      <th>1048</th>\n",
              "      <td>zzbqpspwkp</td>\n",
              "      <td>0</td>\n",
              "    </tr>\n",
              "    <tr>\n",
              "      <th>1049</th>\n",
              "      <td>zzzqewfrca</td>\n",
              "      <td>0</td>\n",
              "    </tr>\n",
              "  </tbody>\n",
              "</table>\n",
              "<p>1050 rows × 2 columns</p>\n",
              "</div>\n",
              "      <button class=\"colab-df-convert\" onclick=\"convertToInteractive('df-2ad1ba2a-0793-430f-8a9f-c7a3edef3173')\"\n",
              "              title=\"Convert this dataframe to an interactive table.\"\n",
              "              style=\"display:none;\">\n",
              "        \n",
              "  <svg xmlns=\"http://www.w3.org/2000/svg\" height=\"24px\"viewBox=\"0 0 24 24\"\n",
              "       width=\"24px\">\n",
              "    <path d=\"M0 0h24v24H0V0z\" fill=\"none\"/>\n",
              "    <path d=\"M18.56 5.44l.94 2.06.94-2.06 2.06-.94-2.06-.94-.94-2.06-.94 2.06-2.06.94zm-11 1L8.5 8.5l.94-2.06 2.06-.94-2.06-.94L8.5 2.5l-.94 2.06-2.06.94zm10 10l.94 2.06.94-2.06 2.06-.94-2.06-.94-.94-2.06-.94 2.06-2.06.94z\"/><path d=\"M17.41 7.96l-1.37-1.37c-.4-.4-.92-.59-1.43-.59-.52 0-1.04.2-1.43.59L10.3 9.45l-7.72 7.72c-.78.78-.78 2.05 0 2.83L4 21.41c.39.39.9.59 1.41.59.51 0 1.02-.2 1.41-.59l7.78-7.78 2.81-2.81c.8-.78.8-2.07 0-2.86zM5.41 20L4 18.59l7.72-7.72 1.47 1.35L5.41 20z\"/>\n",
              "  </svg>\n",
              "      </button>\n",
              "      \n",
              "  <style>\n",
              "    .colab-df-container {\n",
              "      display:flex;\n",
              "      flex-wrap:wrap;\n",
              "      gap: 12px;\n",
              "    }\n",
              "\n",
              "    .colab-df-convert {\n",
              "      background-color: #E8F0FE;\n",
              "      border: none;\n",
              "      border-radius: 50%;\n",
              "      cursor: pointer;\n",
              "      display: none;\n",
              "      fill: #1967D2;\n",
              "      height: 32px;\n",
              "      padding: 0 0 0 0;\n",
              "      width: 32px;\n",
              "    }\n",
              "\n",
              "    .colab-df-convert:hover {\n",
              "      background-color: #E2EBFA;\n",
              "      box-shadow: 0px 1px 2px rgba(60, 64, 67, 0.3), 0px 1px 3px 1px rgba(60, 64, 67, 0.15);\n",
              "      fill: #174EA6;\n",
              "    }\n",
              "\n",
              "    [theme=dark] .colab-df-convert {\n",
              "      background-color: #3B4455;\n",
              "      fill: #D2E3FC;\n",
              "    }\n",
              "\n",
              "    [theme=dark] .colab-df-convert:hover {\n",
              "      background-color: #434B5C;\n",
              "      box-shadow: 0px 1px 3px 1px rgba(0, 0, 0, 0.15);\n",
              "      filter: drop-shadow(0px 1px 2px rgba(0, 0, 0, 0.3));\n",
              "      fill: #FFFFFF;\n",
              "    }\n",
              "  </style>\n",
              "\n",
              "      <script>\n",
              "        const buttonEl =\n",
              "          document.querySelector('#df-2ad1ba2a-0793-430f-8a9f-c7a3edef3173 button.colab-df-convert');\n",
              "        buttonEl.style.display =\n",
              "          google.colab.kernel.accessAllowed ? 'block' : 'none';\n",
              "\n",
              "        async function convertToInteractive(key) {\n",
              "          const element = document.querySelector('#df-2ad1ba2a-0793-430f-8a9f-c7a3edef3173');\n",
              "          const dataTable =\n",
              "            await google.colab.kernel.invokeFunction('convertToInteractive',\n",
              "                                                     [key], {});\n",
              "          if (!dataTable) return;\n",
              "\n",
              "          const docLinkHtml = 'Like what you see? Visit the ' +\n",
              "            '<a target=\"_blank\" href=https://colab.research.google.com/notebooks/data_table.ipynb>data table notebook</a>'\n",
              "            + ' to learn more about interactive tables.';\n",
              "          element.innerHTML = '';\n",
              "          dataTable['output_type'] = 'display_data';\n",
              "          await google.colab.output.renderOutput(dataTable, element);\n",
              "          const docLink = document.createElement('div');\n",
              "          docLink.innerHTML = docLinkHtml;\n",
              "          element.appendChild(docLink);\n",
              "        }\n",
              "      </script>\n",
              "    </div>\n",
              "  </div>\n",
              "  "
            ]
          },
          "metadata": {},
          "execution_count": 167
        }
      ]
    },
    {
      "cell_type": "markdown",
      "source": [
        "Hinzufügung eines Covid Status, basierend darauf, ob die Patient:innen mit Covid diagnostiziert wurden (1) oder nicht (0):"
      ],
      "metadata": {
        "id": "kZdqv3TdA-Wx"
      }
    },
    {
      "cell_type": "code",
      "source": [
        "df_faktentabelle['covid'] = 0 \n",
        "\n",
        "for i, row in df_faktentabelle.iterrows(): \n",
        "    if row.conditions_code == 840539006: \n",
        "        df_faktentabelle.at[i, 'covid'] = 1 \n",
        "\n",
        "df_faktentabelle"
      ],
      "metadata": {
        "id": "FT8DTJfzA-BP",
        "colab": {
          "base_uri": "https://localhost:8080/",
          "height": 424
        },
        "outputId": "4d0eb08b-182a-4eac-f0cd-3061ecbd53b8"
      },
      "execution_count": null,
      "outputs": [
        {
          "output_type": "execute_result",
          "data": {
            "text/plain": [
              "       patients_ID  conditions_code  procedures_code  devices_code  \\\n",
              "0       kzjknynjzx       36955009.0      261352009.0           0.0   \n",
              "1       kzjknynjzx      386661006.0      261352009.0           0.0   \n",
              "2       kzjknynjzx      840539006.0      261352009.0           0.0   \n",
              "3       kzjknynjzx      840544004.0      261352009.0           0.0   \n",
              "4       upbzmcdmys       36955009.0      180325003.0           0.0   \n",
              "...            ...              ...              ...           ...   \n",
              "608786  nvgnnhwxes      230690007.0      180325003.0           0.0   \n",
              "608787  nvgnnhwxes      230690007.0      180325003.0           0.0   \n",
              "608788  nvgnnhwxes      230690007.0      180325003.0           0.0   \n",
              "608789  nvgnnhwxes      230690007.0      180325003.0           0.0   \n",
              "608790  nvgnnhwxes      230690007.0      180325003.0           0.0   \n",
              "\n",
              "       MED_CLASSIFICATION  COV_GRADING  covid  \n",
              "0                       0            1      0  \n",
              "1                       0            1      0  \n",
              "2                       0            1      1  \n",
              "3                       0            1      0  \n",
              "4                       0            5      0  \n",
              "...                   ...          ...    ...  \n",
              "608786                  3            5      0  \n",
              "608787                  0            5      0  \n",
              "608788                  0            5      0  \n",
              "608789                  3            5      0  \n",
              "608790                  0            5      0  \n",
              "\n",
              "[608791 rows x 7 columns]"
            ],
            "text/html": [
              "\n",
              "  <div id=\"df-73ac2758-06de-43eb-b4e1-fe63e57550ab\">\n",
              "    <div class=\"colab-df-container\">\n",
              "      <div>\n",
              "<style scoped>\n",
              "    .dataframe tbody tr th:only-of-type {\n",
              "        vertical-align: middle;\n",
              "    }\n",
              "\n",
              "    .dataframe tbody tr th {\n",
              "        vertical-align: top;\n",
              "    }\n",
              "\n",
              "    .dataframe thead th {\n",
              "        text-align: right;\n",
              "    }\n",
              "</style>\n",
              "<table border=\"1\" class=\"dataframe\">\n",
              "  <thead>\n",
              "    <tr style=\"text-align: right;\">\n",
              "      <th></th>\n",
              "      <th>patients_ID</th>\n",
              "      <th>conditions_code</th>\n",
              "      <th>procedures_code</th>\n",
              "      <th>devices_code</th>\n",
              "      <th>MED_CLASSIFICATION</th>\n",
              "      <th>COV_GRADING</th>\n",
              "      <th>covid</th>\n",
              "    </tr>\n",
              "  </thead>\n",
              "  <tbody>\n",
              "    <tr>\n",
              "      <th>0</th>\n",
              "      <td>kzjknynjzx</td>\n",
              "      <td>36955009.0</td>\n",
              "      <td>261352009.0</td>\n",
              "      <td>0.0</td>\n",
              "      <td>0</td>\n",
              "      <td>1</td>\n",
              "      <td>0</td>\n",
              "    </tr>\n",
              "    <tr>\n",
              "      <th>1</th>\n",
              "      <td>kzjknynjzx</td>\n",
              "      <td>386661006.0</td>\n",
              "      <td>261352009.0</td>\n",
              "      <td>0.0</td>\n",
              "      <td>0</td>\n",
              "      <td>1</td>\n",
              "      <td>0</td>\n",
              "    </tr>\n",
              "    <tr>\n",
              "      <th>2</th>\n",
              "      <td>kzjknynjzx</td>\n",
              "      <td>840539006.0</td>\n",
              "      <td>261352009.0</td>\n",
              "      <td>0.0</td>\n",
              "      <td>0</td>\n",
              "      <td>1</td>\n",
              "      <td>1</td>\n",
              "    </tr>\n",
              "    <tr>\n",
              "      <th>3</th>\n",
              "      <td>kzjknynjzx</td>\n",
              "      <td>840544004.0</td>\n",
              "      <td>261352009.0</td>\n",
              "      <td>0.0</td>\n",
              "      <td>0</td>\n",
              "      <td>1</td>\n",
              "      <td>0</td>\n",
              "    </tr>\n",
              "    <tr>\n",
              "      <th>4</th>\n",
              "      <td>upbzmcdmys</td>\n",
              "      <td>36955009.0</td>\n",
              "      <td>180325003.0</td>\n",
              "      <td>0.0</td>\n",
              "      <td>0</td>\n",
              "      <td>5</td>\n",
              "      <td>0</td>\n",
              "    </tr>\n",
              "    <tr>\n",
              "      <th>...</th>\n",
              "      <td>...</td>\n",
              "      <td>...</td>\n",
              "      <td>...</td>\n",
              "      <td>...</td>\n",
              "      <td>...</td>\n",
              "      <td>...</td>\n",
              "      <td>...</td>\n",
              "    </tr>\n",
              "    <tr>\n",
              "      <th>608786</th>\n",
              "      <td>nvgnnhwxes</td>\n",
              "      <td>230690007.0</td>\n",
              "      <td>180325003.0</td>\n",
              "      <td>0.0</td>\n",
              "      <td>3</td>\n",
              "      <td>5</td>\n",
              "      <td>0</td>\n",
              "    </tr>\n",
              "    <tr>\n",
              "      <th>608787</th>\n",
              "      <td>nvgnnhwxes</td>\n",
              "      <td>230690007.0</td>\n",
              "      <td>180325003.0</td>\n",
              "      <td>0.0</td>\n",
              "      <td>0</td>\n",
              "      <td>5</td>\n",
              "      <td>0</td>\n",
              "    </tr>\n",
              "    <tr>\n",
              "      <th>608788</th>\n",
              "      <td>nvgnnhwxes</td>\n",
              "      <td>230690007.0</td>\n",
              "      <td>180325003.0</td>\n",
              "      <td>0.0</td>\n",
              "      <td>0</td>\n",
              "      <td>5</td>\n",
              "      <td>0</td>\n",
              "    </tr>\n",
              "    <tr>\n",
              "      <th>608789</th>\n",
              "      <td>nvgnnhwxes</td>\n",
              "      <td>230690007.0</td>\n",
              "      <td>180325003.0</td>\n",
              "      <td>0.0</td>\n",
              "      <td>3</td>\n",
              "      <td>5</td>\n",
              "      <td>0</td>\n",
              "    </tr>\n",
              "    <tr>\n",
              "      <th>608790</th>\n",
              "      <td>nvgnnhwxes</td>\n",
              "      <td>230690007.0</td>\n",
              "      <td>180325003.0</td>\n",
              "      <td>0.0</td>\n",
              "      <td>0</td>\n",
              "      <td>5</td>\n",
              "      <td>0</td>\n",
              "    </tr>\n",
              "  </tbody>\n",
              "</table>\n",
              "<p>608791 rows × 7 columns</p>\n",
              "</div>\n",
              "      <button class=\"colab-df-convert\" onclick=\"convertToInteractive('df-73ac2758-06de-43eb-b4e1-fe63e57550ab')\"\n",
              "              title=\"Convert this dataframe to an interactive table.\"\n",
              "              style=\"display:none;\">\n",
              "        \n",
              "  <svg xmlns=\"http://www.w3.org/2000/svg\" height=\"24px\"viewBox=\"0 0 24 24\"\n",
              "       width=\"24px\">\n",
              "    <path d=\"M0 0h24v24H0V0z\" fill=\"none\"/>\n",
              "    <path d=\"M18.56 5.44l.94 2.06.94-2.06 2.06-.94-2.06-.94-.94-2.06-.94 2.06-2.06.94zm-11 1L8.5 8.5l.94-2.06 2.06-.94-2.06-.94L8.5 2.5l-.94 2.06-2.06.94zm10 10l.94 2.06.94-2.06 2.06-.94-2.06-.94-.94-2.06-.94 2.06-2.06.94z\"/><path d=\"M17.41 7.96l-1.37-1.37c-.4-.4-.92-.59-1.43-.59-.52 0-1.04.2-1.43.59L10.3 9.45l-7.72 7.72c-.78.78-.78 2.05 0 2.83L4 21.41c.39.39.9.59 1.41.59.51 0 1.02-.2 1.41-.59l7.78-7.78 2.81-2.81c.8-.78.8-2.07 0-2.86zM5.41 20L4 18.59l7.72-7.72 1.47 1.35L5.41 20z\"/>\n",
              "  </svg>\n",
              "      </button>\n",
              "      \n",
              "  <style>\n",
              "    .colab-df-container {\n",
              "      display:flex;\n",
              "      flex-wrap:wrap;\n",
              "      gap: 12px;\n",
              "    }\n",
              "\n",
              "    .colab-df-convert {\n",
              "      background-color: #E8F0FE;\n",
              "      border: none;\n",
              "      border-radius: 50%;\n",
              "      cursor: pointer;\n",
              "      display: none;\n",
              "      fill: #1967D2;\n",
              "      height: 32px;\n",
              "      padding: 0 0 0 0;\n",
              "      width: 32px;\n",
              "    }\n",
              "\n",
              "    .colab-df-convert:hover {\n",
              "      background-color: #E2EBFA;\n",
              "      box-shadow: 0px 1px 2px rgba(60, 64, 67, 0.3), 0px 1px 3px 1px rgba(60, 64, 67, 0.15);\n",
              "      fill: #174EA6;\n",
              "    }\n",
              "\n",
              "    [theme=dark] .colab-df-convert {\n",
              "      background-color: #3B4455;\n",
              "      fill: #D2E3FC;\n",
              "    }\n",
              "\n",
              "    [theme=dark] .colab-df-convert:hover {\n",
              "      background-color: #434B5C;\n",
              "      box-shadow: 0px 1px 3px 1px rgba(0, 0, 0, 0.15);\n",
              "      filter: drop-shadow(0px 1px 2px rgba(0, 0, 0, 0.3));\n",
              "      fill: #FFFFFF;\n",
              "    }\n",
              "  </style>\n",
              "\n",
              "      <script>\n",
              "        const buttonEl =\n",
              "          document.querySelector('#df-73ac2758-06de-43eb-b4e1-fe63e57550ab button.colab-df-convert');\n",
              "        buttonEl.style.display =\n",
              "          google.colab.kernel.accessAllowed ? 'block' : 'none';\n",
              "\n",
              "        async function convertToInteractive(key) {\n",
              "          const element = document.querySelector('#df-73ac2758-06de-43eb-b4e1-fe63e57550ab');\n",
              "          const dataTable =\n",
              "            await google.colab.kernel.invokeFunction('convertToInteractive',\n",
              "                                                     [key], {});\n",
              "          if (!dataTable) return;\n",
              "\n",
              "          const docLinkHtml = 'Like what you see? Visit the ' +\n",
              "            '<a target=\"_blank\" href=https://colab.research.google.com/notebooks/data_table.ipynb>data table notebook</a>'\n",
              "            + ' to learn more about interactive tables.';\n",
              "          element.innerHTML = '';\n",
              "          dataTable['output_type'] = 'display_data';\n",
              "          await google.colab.output.renderOutput(dataTable, element);\n",
              "          const docLink = document.createElement('div');\n",
              "          docLink.innerHTML = docLinkHtml;\n",
              "          element.appendChild(docLink);\n",
              "        }\n",
              "      </script>\n",
              "    </div>\n",
              "  </div>\n",
              "  "
            ]
          },
          "metadata": {},
          "execution_count": 168
        }
      ]
    },
    {
      "cell_type": "markdown",
      "source": [
        "Patient:innnen und deren Covid Status:"
      ],
      "metadata": {
        "id": "ZLXM28r0VOnY"
      }
    },
    {
      "cell_type": "code",
      "source": [
        "distinct_patients_and_covid_status = sqldf(\"\"\"SELECT patients_id, max(covid) AS covid FROM df_faktentabelle\n",
        " GROUP BY patients_id\"\"\")\n",
        "distinct_patients_and_covid_status"
      ],
      "metadata": {
        "id": "IBmacg9_IAKa",
        "colab": {
          "base_uri": "https://localhost:8080/",
          "height": 424
        },
        "outputId": "4ac2dcc8-e2dd-4d2c-b7b0-58722a3979d8"
      },
      "execution_count": null,
      "outputs": [
        {
          "output_type": "execute_result",
          "data": {
            "text/plain": [
              "     patients_ID  covid\n",
              "0     aaayeuzhnd      1\n",
              "1     aaynxjnnby      1\n",
              "2     abhdsbgojr      1\n",
              "3     acdopjhgry      1\n",
              "4     acmbhirfyz      1\n",
              "...          ...    ...\n",
              "1045  zxdsbpwsvx      1\n",
              "1046  zxpzgesozn      1\n",
              "1047  zxtzotgbuy      1\n",
              "1048  zzbqpspwkp      1\n",
              "1049  zzzqewfrca      1\n",
              "\n",
              "[1050 rows x 2 columns]"
            ],
            "text/html": [
              "\n",
              "  <div id=\"df-17c62531-7aa9-4520-8cb1-5833bd69c1a8\">\n",
              "    <div class=\"colab-df-container\">\n",
              "      <div>\n",
              "<style scoped>\n",
              "    .dataframe tbody tr th:only-of-type {\n",
              "        vertical-align: middle;\n",
              "    }\n",
              "\n",
              "    .dataframe tbody tr th {\n",
              "        vertical-align: top;\n",
              "    }\n",
              "\n",
              "    .dataframe thead th {\n",
              "        text-align: right;\n",
              "    }\n",
              "</style>\n",
              "<table border=\"1\" class=\"dataframe\">\n",
              "  <thead>\n",
              "    <tr style=\"text-align: right;\">\n",
              "      <th></th>\n",
              "      <th>patients_ID</th>\n",
              "      <th>covid</th>\n",
              "    </tr>\n",
              "  </thead>\n",
              "  <tbody>\n",
              "    <tr>\n",
              "      <th>0</th>\n",
              "      <td>aaayeuzhnd</td>\n",
              "      <td>1</td>\n",
              "    </tr>\n",
              "    <tr>\n",
              "      <th>1</th>\n",
              "      <td>aaynxjnnby</td>\n",
              "      <td>1</td>\n",
              "    </tr>\n",
              "    <tr>\n",
              "      <th>2</th>\n",
              "      <td>abhdsbgojr</td>\n",
              "      <td>1</td>\n",
              "    </tr>\n",
              "    <tr>\n",
              "      <th>3</th>\n",
              "      <td>acdopjhgry</td>\n",
              "      <td>1</td>\n",
              "    </tr>\n",
              "    <tr>\n",
              "      <th>4</th>\n",
              "      <td>acmbhirfyz</td>\n",
              "      <td>1</td>\n",
              "    </tr>\n",
              "    <tr>\n",
              "      <th>...</th>\n",
              "      <td>...</td>\n",
              "      <td>...</td>\n",
              "    </tr>\n",
              "    <tr>\n",
              "      <th>1045</th>\n",
              "      <td>zxdsbpwsvx</td>\n",
              "      <td>1</td>\n",
              "    </tr>\n",
              "    <tr>\n",
              "      <th>1046</th>\n",
              "      <td>zxpzgesozn</td>\n",
              "      <td>1</td>\n",
              "    </tr>\n",
              "    <tr>\n",
              "      <th>1047</th>\n",
              "      <td>zxtzotgbuy</td>\n",
              "      <td>1</td>\n",
              "    </tr>\n",
              "    <tr>\n",
              "      <th>1048</th>\n",
              "      <td>zzbqpspwkp</td>\n",
              "      <td>1</td>\n",
              "    </tr>\n",
              "    <tr>\n",
              "      <th>1049</th>\n",
              "      <td>zzzqewfrca</td>\n",
              "      <td>1</td>\n",
              "    </tr>\n",
              "  </tbody>\n",
              "</table>\n",
              "<p>1050 rows × 2 columns</p>\n",
              "</div>\n",
              "      <button class=\"colab-df-convert\" onclick=\"convertToInteractive('df-17c62531-7aa9-4520-8cb1-5833bd69c1a8')\"\n",
              "              title=\"Convert this dataframe to an interactive table.\"\n",
              "              style=\"display:none;\">\n",
              "        \n",
              "  <svg xmlns=\"http://www.w3.org/2000/svg\" height=\"24px\"viewBox=\"0 0 24 24\"\n",
              "       width=\"24px\">\n",
              "    <path d=\"M0 0h24v24H0V0z\" fill=\"none\"/>\n",
              "    <path d=\"M18.56 5.44l.94 2.06.94-2.06 2.06-.94-2.06-.94-.94-2.06-.94 2.06-2.06.94zm-11 1L8.5 8.5l.94-2.06 2.06-.94-2.06-.94L8.5 2.5l-.94 2.06-2.06.94zm10 10l.94 2.06.94-2.06 2.06-.94-2.06-.94-.94-2.06-.94 2.06-2.06.94z\"/><path d=\"M17.41 7.96l-1.37-1.37c-.4-.4-.92-.59-1.43-.59-.52 0-1.04.2-1.43.59L10.3 9.45l-7.72 7.72c-.78.78-.78 2.05 0 2.83L4 21.41c.39.39.9.59 1.41.59.51 0 1.02-.2 1.41-.59l7.78-7.78 2.81-2.81c.8-.78.8-2.07 0-2.86zM5.41 20L4 18.59l7.72-7.72 1.47 1.35L5.41 20z\"/>\n",
              "  </svg>\n",
              "      </button>\n",
              "      \n",
              "  <style>\n",
              "    .colab-df-container {\n",
              "      display:flex;\n",
              "      flex-wrap:wrap;\n",
              "      gap: 12px;\n",
              "    }\n",
              "\n",
              "    .colab-df-convert {\n",
              "      background-color: #E8F0FE;\n",
              "      border: none;\n",
              "      border-radius: 50%;\n",
              "      cursor: pointer;\n",
              "      display: none;\n",
              "      fill: #1967D2;\n",
              "      height: 32px;\n",
              "      padding: 0 0 0 0;\n",
              "      width: 32px;\n",
              "    }\n",
              "\n",
              "    .colab-df-convert:hover {\n",
              "      background-color: #E2EBFA;\n",
              "      box-shadow: 0px 1px 2px rgba(60, 64, 67, 0.3), 0px 1px 3px 1px rgba(60, 64, 67, 0.15);\n",
              "      fill: #174EA6;\n",
              "    }\n",
              "\n",
              "    [theme=dark] .colab-df-convert {\n",
              "      background-color: #3B4455;\n",
              "      fill: #D2E3FC;\n",
              "    }\n",
              "\n",
              "    [theme=dark] .colab-df-convert:hover {\n",
              "      background-color: #434B5C;\n",
              "      box-shadow: 0px 1px 3px 1px rgba(0, 0, 0, 0.15);\n",
              "      filter: drop-shadow(0px 1px 2px rgba(0, 0, 0, 0.3));\n",
              "      fill: #FFFFFF;\n",
              "    }\n",
              "  </style>\n",
              "\n",
              "      <script>\n",
              "        const buttonEl =\n",
              "          document.querySelector('#df-17c62531-7aa9-4520-8cb1-5833bd69c1a8 button.colab-df-convert');\n",
              "        buttonEl.style.display =\n",
              "          google.colab.kernel.accessAllowed ? 'block' : 'none';\n",
              "\n",
              "        async function convertToInteractive(key) {\n",
              "          const element = document.querySelector('#df-17c62531-7aa9-4520-8cb1-5833bd69c1a8');\n",
              "          const dataTable =\n",
              "            await google.colab.kernel.invokeFunction('convertToInteractive',\n",
              "                                                     [key], {});\n",
              "          if (!dataTable) return;\n",
              "\n",
              "          const docLinkHtml = 'Like what you see? Visit the ' +\n",
              "            '<a target=\"_blank\" href=https://colab.research.google.com/notebooks/data_table.ipynb>data table notebook</a>'\n",
              "            + ' to learn more about interactive tables.';\n",
              "          element.innerHTML = '';\n",
              "          dataTable['output_type'] = 'display_data';\n",
              "          await google.colab.output.renderOutput(dataTable, element);\n",
              "          const docLink = document.createElement('div');\n",
              "          docLink.innerHTML = docLinkHtml;\n",
              "          element.appendChild(docLink);\n",
              "        }\n",
              "      </script>\n",
              "    </div>\n",
              "  </div>\n",
              "  "
            ]
          },
          "metadata": {},
          "execution_count": 169
        }
      ]
    },
    {
      "cell_type": "markdown",
      "source": [
        "Zusammenfassung der Daten von Patient:innen, Medication Grading, Schweregrad der Erkrankung und Covid Status in ein gemeinschaftliches DataFrame \"PMG\":  "
      ],
      "metadata": {
        "id": "38LsPIaUwxp0"
      }
    },
    {
      "cell_type": "code",
      "source": [
        "PMG = pd.merge(distinct_patients_and_course_of_desease,distinct_patients_and_medications_grading, on = \"patients_ID\" )\n",
        "PMG[\"patients\"]=PMG.index\n",
        "PMG = pd.merge (PMG, distinct_patients_and_covid_status, on = 'patients_ID')\n",
        "PMG"
      ],
      "metadata": {
        "id": "LARyDoZfw5v0",
        "colab": {
          "base_uri": "https://localhost:8080/",
          "height": 424
        },
        "outputId": "c03db80e-4e4e-42a8-d591-48f52960799f"
      },
      "execution_count": null,
      "outputs": [
        {
          "output_type": "execute_result",
          "data": {
            "text/plain": [
              "    patients_ID  course anticoagulation  patients  covid\n",
              "0    aaayeuzhnd       2               0         0      1\n",
              "1    aaynxjnnby       2               0         1      1\n",
              "2    abhdsbgojr       2               0         2      1\n",
              "3    acdopjhgry       2               0         3      1\n",
              "4    acmbhirfyz       2               0         4      1\n",
              "..          ...     ...             ...       ...    ...\n",
              "914  zxdsbpwsvx       1               0       914      1\n",
              "915  zxpzgesozn       3               0       915      1\n",
              "916  zxtzotgbuy       2               0       916      1\n",
              "917  zzbqpspwkp       2               0       917      1\n",
              "918  zzzqewfrca       2               0       918      1\n",
              "\n",
              "[919 rows x 5 columns]"
            ],
            "text/html": [
              "\n",
              "  <div id=\"df-40bf3c73-f17f-4d01-8a7e-0290ecdb215a\">\n",
              "    <div class=\"colab-df-container\">\n",
              "      <div>\n",
              "<style scoped>\n",
              "    .dataframe tbody tr th:only-of-type {\n",
              "        vertical-align: middle;\n",
              "    }\n",
              "\n",
              "    .dataframe tbody tr th {\n",
              "        vertical-align: top;\n",
              "    }\n",
              "\n",
              "    .dataframe thead th {\n",
              "        text-align: right;\n",
              "    }\n",
              "</style>\n",
              "<table border=\"1\" class=\"dataframe\">\n",
              "  <thead>\n",
              "    <tr style=\"text-align: right;\">\n",
              "      <th></th>\n",
              "      <th>patients_ID</th>\n",
              "      <th>course</th>\n",
              "      <th>anticoagulation</th>\n",
              "      <th>patients</th>\n",
              "      <th>covid</th>\n",
              "    </tr>\n",
              "  </thead>\n",
              "  <tbody>\n",
              "    <tr>\n",
              "      <th>0</th>\n",
              "      <td>aaayeuzhnd</td>\n",
              "      <td>2</td>\n",
              "      <td>0</td>\n",
              "      <td>0</td>\n",
              "      <td>1</td>\n",
              "    </tr>\n",
              "    <tr>\n",
              "      <th>1</th>\n",
              "      <td>aaynxjnnby</td>\n",
              "      <td>2</td>\n",
              "      <td>0</td>\n",
              "      <td>1</td>\n",
              "      <td>1</td>\n",
              "    </tr>\n",
              "    <tr>\n",
              "      <th>2</th>\n",
              "      <td>abhdsbgojr</td>\n",
              "      <td>2</td>\n",
              "      <td>0</td>\n",
              "      <td>2</td>\n",
              "      <td>1</td>\n",
              "    </tr>\n",
              "    <tr>\n",
              "      <th>3</th>\n",
              "      <td>acdopjhgry</td>\n",
              "      <td>2</td>\n",
              "      <td>0</td>\n",
              "      <td>3</td>\n",
              "      <td>1</td>\n",
              "    </tr>\n",
              "    <tr>\n",
              "      <th>4</th>\n",
              "      <td>acmbhirfyz</td>\n",
              "      <td>2</td>\n",
              "      <td>0</td>\n",
              "      <td>4</td>\n",
              "      <td>1</td>\n",
              "    </tr>\n",
              "    <tr>\n",
              "      <th>...</th>\n",
              "      <td>...</td>\n",
              "      <td>...</td>\n",
              "      <td>...</td>\n",
              "      <td>...</td>\n",
              "      <td>...</td>\n",
              "    </tr>\n",
              "    <tr>\n",
              "      <th>914</th>\n",
              "      <td>zxdsbpwsvx</td>\n",
              "      <td>1</td>\n",
              "      <td>0</td>\n",
              "      <td>914</td>\n",
              "      <td>1</td>\n",
              "    </tr>\n",
              "    <tr>\n",
              "      <th>915</th>\n",
              "      <td>zxpzgesozn</td>\n",
              "      <td>3</td>\n",
              "      <td>0</td>\n",
              "      <td>915</td>\n",
              "      <td>1</td>\n",
              "    </tr>\n",
              "    <tr>\n",
              "      <th>916</th>\n",
              "      <td>zxtzotgbuy</td>\n",
              "      <td>2</td>\n",
              "      <td>0</td>\n",
              "      <td>916</td>\n",
              "      <td>1</td>\n",
              "    </tr>\n",
              "    <tr>\n",
              "      <th>917</th>\n",
              "      <td>zzbqpspwkp</td>\n",
              "      <td>2</td>\n",
              "      <td>0</td>\n",
              "      <td>917</td>\n",
              "      <td>1</td>\n",
              "    </tr>\n",
              "    <tr>\n",
              "      <th>918</th>\n",
              "      <td>zzzqewfrca</td>\n",
              "      <td>2</td>\n",
              "      <td>0</td>\n",
              "      <td>918</td>\n",
              "      <td>1</td>\n",
              "    </tr>\n",
              "  </tbody>\n",
              "</table>\n",
              "<p>919 rows × 5 columns</p>\n",
              "</div>\n",
              "      <button class=\"colab-df-convert\" onclick=\"convertToInteractive('df-40bf3c73-f17f-4d01-8a7e-0290ecdb215a')\"\n",
              "              title=\"Convert this dataframe to an interactive table.\"\n",
              "              style=\"display:none;\">\n",
              "        \n",
              "  <svg xmlns=\"http://www.w3.org/2000/svg\" height=\"24px\"viewBox=\"0 0 24 24\"\n",
              "       width=\"24px\">\n",
              "    <path d=\"M0 0h24v24H0V0z\" fill=\"none\"/>\n",
              "    <path d=\"M18.56 5.44l.94 2.06.94-2.06 2.06-.94-2.06-.94-.94-2.06-.94 2.06-2.06.94zm-11 1L8.5 8.5l.94-2.06 2.06-.94-2.06-.94L8.5 2.5l-.94 2.06-2.06.94zm10 10l.94 2.06.94-2.06 2.06-.94-2.06-.94-.94-2.06-.94 2.06-2.06.94z\"/><path d=\"M17.41 7.96l-1.37-1.37c-.4-.4-.92-.59-1.43-.59-.52 0-1.04.2-1.43.59L10.3 9.45l-7.72 7.72c-.78.78-.78 2.05 0 2.83L4 21.41c.39.39.9.59 1.41.59.51 0 1.02-.2 1.41-.59l7.78-7.78 2.81-2.81c.8-.78.8-2.07 0-2.86zM5.41 20L4 18.59l7.72-7.72 1.47 1.35L5.41 20z\"/>\n",
              "  </svg>\n",
              "      </button>\n",
              "      \n",
              "  <style>\n",
              "    .colab-df-container {\n",
              "      display:flex;\n",
              "      flex-wrap:wrap;\n",
              "      gap: 12px;\n",
              "    }\n",
              "\n",
              "    .colab-df-convert {\n",
              "      background-color: #E8F0FE;\n",
              "      border: none;\n",
              "      border-radius: 50%;\n",
              "      cursor: pointer;\n",
              "      display: none;\n",
              "      fill: #1967D2;\n",
              "      height: 32px;\n",
              "      padding: 0 0 0 0;\n",
              "      width: 32px;\n",
              "    }\n",
              "\n",
              "    .colab-df-convert:hover {\n",
              "      background-color: #E2EBFA;\n",
              "      box-shadow: 0px 1px 2px rgba(60, 64, 67, 0.3), 0px 1px 3px 1px rgba(60, 64, 67, 0.15);\n",
              "      fill: #174EA6;\n",
              "    }\n",
              "\n",
              "    [theme=dark] .colab-df-convert {\n",
              "      background-color: #3B4455;\n",
              "      fill: #D2E3FC;\n",
              "    }\n",
              "\n",
              "    [theme=dark] .colab-df-convert:hover {\n",
              "      background-color: #434B5C;\n",
              "      box-shadow: 0px 1px 3px 1px rgba(0, 0, 0, 0.15);\n",
              "      filter: drop-shadow(0px 1px 2px rgba(0, 0, 0, 0.3));\n",
              "      fill: #FFFFFF;\n",
              "    }\n",
              "  </style>\n",
              "\n",
              "      <script>\n",
              "        const buttonEl =\n",
              "          document.querySelector('#df-40bf3c73-f17f-4d01-8a7e-0290ecdb215a button.colab-df-convert');\n",
              "        buttonEl.style.display =\n",
              "          google.colab.kernel.accessAllowed ? 'block' : 'none';\n",
              "\n",
              "        async function convertToInteractive(key) {\n",
              "          const element = document.querySelector('#df-40bf3c73-f17f-4d01-8a7e-0290ecdb215a');\n",
              "          const dataTable =\n",
              "            await google.colab.kernel.invokeFunction('convertToInteractive',\n",
              "                                                     [key], {});\n",
              "          if (!dataTable) return;\n",
              "\n",
              "          const docLinkHtml = 'Like what you see? Visit the ' +\n",
              "            '<a target=\"_blank\" href=https://colab.research.google.com/notebooks/data_table.ipynb>data table notebook</a>'\n",
              "            + ' to learn more about interactive tables.';\n",
              "          element.innerHTML = '';\n",
              "          dataTable['output_type'] = 'display_data';\n",
              "          await google.colab.output.renderOutput(dataTable, element);\n",
              "          const docLink = document.createElement('div');\n",
              "          docLink.innerHTML = docLinkHtml;\n",
              "          element.appendChild(docLink);\n",
              "        }\n",
              "      </script>\n",
              "    </div>\n",
              "  </div>\n",
              "  "
            ]
          },
          "metadata": {},
          "execution_count": 170
        }
      ]
    },
    {
      "cell_type": "markdown",
      "source": [
        "# 6) Datenanalyse"
      ],
      "metadata": {
        "id": "BAVBT3iB6YTe"
      }
    },
    {
      "cell_type": "markdown",
      "source": [
        "## 6.1: Schweregrade des Krankheitsverlaufs"
      ],
      "metadata": {
        "id": "sRYPa01Z7uz1"
      }
    },
    {
      "cell_type": "markdown",
      "source": [
        "Darstellung der Verteilung der Schweregrade des Krankheitsverlaufs von Patient:innen, aufgetrennt in \"behandelt\" und \"unbehandelt\":"
      ],
      "metadata": {
        "id": "0JICDDH16c66"
      }
    },
    {
      "cell_type": "code",
      "source": [
        "PMG['anticoagulation'] = PMG['anticoagulation'].astype(int)\n",
        "\n",
        "# Subset Daten nach Behandlungsstatus\n",
        "PMG_treated = PMG[PMG['anticoagulation'] > 0]\n",
        "PMG_untreated = PMG[PMG['anticoagulation'] == 0]\n",
        "\n",
        "# Gruppierung und Auszählung Anzahl Patient:innen\n",
        "PMG_treated_counts = PMG_treated.groupby('course').size().reindex(range(1, 6), fill_value=0)\n",
        "PMG_untreated_counts = PMG_untreated.groupby('course').size().reindex(range(1, 6), fill_value=0)\n",
        "\n",
        "# Barplot\n",
        "fig, ax = plt.subplots()\n",
        "width = 0.35\n",
        "ax.bar(range(1, 6), PMG_treated_counts, width, label='Behandelt')\n",
        "ax.bar(range(1, 6), PMG_untreated_counts, width, bottom=PMG_treated_counts, label='Unbehandelt')\n",
        "\n",
        "# Beschriftung der Achsen\n",
        "ax.set_xlabel('Schweregrad')\n",
        "ax.set_ylabel('Anzahl PatientInnen')\n",
        "ax.set_title('Schweregrad von Covid Patient:innen nach Behandlungsstatus')\n",
        "ax.set_xticks(range(1, 6))\n",
        "ax.legend()\n",
        "plt.show()"
      ],
      "metadata": {
        "colab": {
          "base_uri": "https://localhost:8080/",
          "height": 295
        },
        "id": "gjmk0rMU_fD5",
        "outputId": "0a2114e6-ac56-4d4e-a45a-c55b9a7e8ed9"
      },
      "execution_count": null,
      "outputs": [
        {
          "output_type": "display_data",
          "data": {
            "text/plain": [
              "<Figure size 432x288 with 1 Axes>"
            ],
            "image/png": "[encoded data removed]"
          },
          "metadata": {
            "needs_background": "light"
          }
        }
      ]
    },
    {
      "cell_type": "markdown",
      "source": [
        "Erzeugung eines DataFrames behandelter Covid Patient:innen: \n",
        "\n",
        "\n"
      ],
      "metadata": {
        "id": "NkX3xx2-aBMV"
      }
    },
    {
      "cell_type": "code",
      "source": [
        "covid_treated = sqldf(\"\"\"SELECT * FROM PMG where covid = 1 and anticoagulation > 0 \"\"\")\n",
        "covid_treated"
      ],
      "metadata": {
        "id": "ZgVlUI-Lpzd0",
        "colab": {
          "base_uri": "https://localhost:8080/",
          "height": 424
        },
        "outputId": "610f9b96-6aba-482e-e45d-20358164d67a"
      },
      "execution_count": null,
      "outputs": [
        {
          "output_type": "execute_result",
          "data": {
            "text/plain": [
              "    patients_ID  course  anticoagulation  patients  covid\n",
              "0    aeqsigeryh       5                3         5      1\n",
              "1    afolyayjzc       4                1         6      1\n",
              "2    aonaydsedd       5                1        14      1\n",
              "3    asxeyiwsjo       5                2        22      1\n",
              "4    aucvfhbimc       2                2        24      1\n",
              "..          ...     ...              ...       ...    ...\n",
              "171  yvrdadacyz       5                1       885      1\n",
              "172  zbwfbzswno       4                1       893      1\n",
              "173  zgskdmhinm       5                1       896      1\n",
              "174  ztnywcsdjd       4                1       910      1\n",
              "175  zwgyreftlb       5                1       913      1\n",
              "\n",
              "[176 rows x 5 columns]"
            ],
            "text/html": [
              "\n",
              "  <div id=\"df-81ff0c50-5e74-422c-b8c4-527d19daef46\">\n",
              "    <div class=\"colab-df-container\">\n",
              "      <div>\n",
              "<style scoped>\n",
              "    .dataframe tbody tr th:only-of-type {\n",
              "        vertical-align: middle;\n",
              "    }\n",
              "\n",
              "    .dataframe tbody tr th {\n",
              "        vertical-align: top;\n",
              "    }\n",
              "\n",
              "    .dataframe thead th {\n",
              "        text-align: right;\n",
              "    }\n",
              "</style>\n",
              "<table border=\"1\" class=\"dataframe\">\n",
              "  <thead>\n",
              "    <tr style=\"text-align: right;\">\n",
              "      <th></th>\n",
              "      <th>patients_ID</th>\n",
              "      <th>course</th>\n",
              "      <th>anticoagulation</th>\n",
              "      <th>patients</th>\n",
              "      <th>covid</th>\n",
              "    </tr>\n",
              "  </thead>\n",
              "  <tbody>\n",
              "    <tr>\n",
              "      <th>0</th>\n",
              "      <td>aeqsigeryh</td>\n",
              "      <td>5</td>\n",
              "      <td>3</td>\n",
              "      <td>5</td>\n",
              "      <td>1</td>\n",
              "    </tr>\n",
              "    <tr>\n",
              "      <th>1</th>\n",
              "      <td>afolyayjzc</td>\n",
              "      <td>4</td>\n",
              "      <td>1</td>\n",
              "      <td>6</td>\n",
              "      <td>1</td>\n",
              "    </tr>\n",
              "    <tr>\n",
              "      <th>2</th>\n",
              "      <td>aonaydsedd</td>\n",
              "      <td>5</td>\n",
              "      <td>1</td>\n",
              "      <td>14</td>\n",
              "      <td>1</td>\n",
              "    </tr>\n",
              "    <tr>\n",
              "      <th>3</th>\n",
              "      <td>asxeyiwsjo</td>\n",
              "      <td>5</td>\n",
              "      <td>2</td>\n",
              "      <td>22</td>\n",
              "      <td>1</td>\n",
              "    </tr>\n",
              "    <tr>\n",
              "      <th>4</th>\n",
              "      <td>aucvfhbimc</td>\n",
              "      <td>2</td>\n",
              "      <td>2</td>\n",
              "      <td>24</td>\n",
              "      <td>1</td>\n",
              "    </tr>\n",
              "    <tr>\n",
              "      <th>...</th>\n",
              "      <td>...</td>\n",
              "      <td>...</td>\n",
              "      <td>...</td>\n",
              "      <td>...</td>\n",
              "      <td>...</td>\n",
              "    </tr>\n",
              "    <tr>\n",
              "      <th>171</th>\n",
              "      <td>yvrdadacyz</td>\n",
              "      <td>5</td>\n",
              "      <td>1</td>\n",
              "      <td>885</td>\n",
              "      <td>1</td>\n",
              "    </tr>\n",
              "    <tr>\n",
              "      <th>172</th>\n",
              "      <td>zbwfbzswno</td>\n",
              "      <td>4</td>\n",
              "      <td>1</td>\n",
              "      <td>893</td>\n",
              "      <td>1</td>\n",
              "    </tr>\n",
              "    <tr>\n",
              "      <th>173</th>\n",
              "      <td>zgskdmhinm</td>\n",
              "      <td>5</td>\n",
              "      <td>1</td>\n",
              "      <td>896</td>\n",
              "      <td>1</td>\n",
              "    </tr>\n",
              "    <tr>\n",
              "      <th>174</th>\n",
              "      <td>ztnywcsdjd</td>\n",
              "      <td>4</td>\n",
              "      <td>1</td>\n",
              "      <td>910</td>\n",
              "      <td>1</td>\n",
              "    </tr>\n",
              "    <tr>\n",
              "      <th>175</th>\n",
              "      <td>zwgyreftlb</td>\n",
              "      <td>5</td>\n",
              "      <td>1</td>\n",
              "      <td>913</td>\n",
              "      <td>1</td>\n",
              "    </tr>\n",
              "  </tbody>\n",
              "</table>\n",
              "<p>176 rows × 5 columns</p>\n",
              "</div>\n",
              "      <button class=\"colab-df-convert\" onclick=\"convertToInteractive('df-81ff0c50-5e74-422c-b8c4-527d19daef46')\"\n",
              "              title=\"Convert this dataframe to an interactive table.\"\n",
              "              style=\"display:none;\">\n",
              "        \n",
              "  <svg xmlns=\"http://www.w3.org/2000/svg\" height=\"24px\"viewBox=\"0 0 24 24\"\n",
              "       width=\"24px\">\n",
              "    <path d=\"M0 0h24v24H0V0z\" fill=\"none\"/>\n",
              "    <path d=\"M18.56 5.44l.94 2.06.94-2.06 2.06-.94-2.06-.94-.94-2.06-.94 2.06-2.06.94zm-11 1L8.5 8.5l.94-2.06 2.06-.94-2.06-.94L8.5 2.5l-.94 2.06-2.06.94zm10 10l.94 2.06.94-2.06 2.06-.94-2.06-.94-.94-2.06-.94 2.06-2.06.94z\"/><path d=\"M17.41 7.96l-1.37-1.37c-.4-.4-.92-.59-1.43-.59-.52 0-1.04.2-1.43.59L10.3 9.45l-7.72 7.72c-.78.78-.78 2.05 0 2.83L4 21.41c.39.39.9.59 1.41.59.51 0 1.02-.2 1.41-.59l7.78-7.78 2.81-2.81c.8-.78.8-2.07 0-2.86zM5.41 20L4 18.59l7.72-7.72 1.47 1.35L5.41 20z\"/>\n",
              "  </svg>\n",
              "      </button>\n",
              "      \n",
              "  <style>\n",
              "    .colab-df-container {\n",
              "      display:flex;\n",
              "      flex-wrap:wrap;\n",
              "      gap: 12px;\n",
              "    }\n",
              "\n",
              "    .colab-df-convert {\n",
              "      background-color: #E8F0FE;\n",
              "      border: none;\n",
              "      border-radius: 50%;\n",
              "      cursor: pointer;\n",
              "      display: none;\n",
              "      fill: #1967D2;\n",
              "      height: 32px;\n",
              "      padding: 0 0 0 0;\n",
              "      width: 32px;\n",
              "    }\n",
              "\n",
              "    .colab-df-convert:hover {\n",
              "      background-color: #E2EBFA;\n",
              "      box-shadow: 0px 1px 2px rgba(60, 64, 67, 0.3), 0px 1px 3px 1px rgba(60, 64, 67, 0.15);\n",
              "      fill: #174EA6;\n",
              "    }\n",
              "\n",
              "    [theme=dark] .colab-df-convert {\n",
              "      background-color: #3B4455;\n",
              "      fill: #D2E3FC;\n",
              "    }\n",
              "\n",
              "    [theme=dark] .colab-df-convert:hover {\n",
              "      background-color: #434B5C;\n",
              "      box-shadow: 0px 1px 3px 1px rgba(0, 0, 0, 0.15);\n",
              "      filter: drop-shadow(0px 1px 2px rgba(0, 0, 0, 0.3));\n",
              "      fill: #FFFFFF;\n",
              "    }\n",
              "  </style>\n",
              "\n",
              "      <script>\n",
              "        const buttonEl =\n",
              "          document.querySelector('#df-81ff0c50-5e74-422c-b8c4-527d19daef46 button.colab-df-convert');\n",
              "        buttonEl.style.display =\n",
              "          google.colab.kernel.accessAllowed ? 'block' : 'none';\n",
              "\n",
              "        async function convertToInteractive(key) {\n",
              "          const element = document.querySelector('#df-81ff0c50-5e74-422c-b8c4-527d19daef46');\n",
              "          const dataTable =\n",
              "            await google.colab.kernel.invokeFunction('convertToInteractive',\n",
              "                                                     [key], {});\n",
              "          if (!dataTable) return;\n",
              "\n",
              "          const docLinkHtml = 'Like what you see? Visit the ' +\n",
              "            '<a target=\"_blank\" href=https://colab.research.google.com/notebooks/data_table.ipynb>data table notebook</a>'\n",
              "            + ' to learn more about interactive tables.';\n",
              "          element.innerHTML = '';\n",
              "          dataTable['output_type'] = 'display_data';\n",
              "          await google.colab.output.renderOutput(dataTable, element);\n",
              "          const docLink = document.createElement('div');\n",
              "          docLink.innerHTML = docLinkHtml;\n",
              "          element.appendChild(docLink);\n",
              "        }\n",
              "      </script>\n",
              "    </div>\n",
              "  </div>\n",
              "  "
            ]
          },
          "metadata": {},
          "execution_count": 172
        }
      ]
    },
    {
      "cell_type": "markdown",
      "source": [
        "Erzeugung eines DataFrames unbehandelter Covid Patient:innen: \n"
      ],
      "metadata": {
        "id": "hBAquyCdaF6b"
      }
    },
    {
      "cell_type": "code",
      "source": [
        "covid_untreated = sqldf(\"\"\"SELECT * FROM PMG where covid = 1 and anticoagulation = 0 \"\"\")\n",
        "covid_untreated"
      ],
      "metadata": {
        "id": "3NW9MqgjqgxN",
        "colab": {
          "base_uri": "https://localhost:8080/",
          "height": 424
        },
        "outputId": "e56ba993-bb7a-4420-8644-baa33172e4a0"
      },
      "execution_count": null,
      "outputs": [
        {
          "output_type": "execute_result",
          "data": {
            "text/plain": [
              "    patients_ID  course  anticoagulation  patients  covid\n",
              "0    aaayeuzhnd       2                0         0      1\n",
              "1    aaynxjnnby       2                0         1      1\n",
              "2    abhdsbgojr       2                0         2      1\n",
              "3    acdopjhgry       2                0         3      1\n",
              "4    acmbhirfyz       2                0         4      1\n",
              "..          ...     ...              ...       ...    ...\n",
              "684  zxdsbpwsvx       1                0       914      1\n",
              "685  zxpzgesozn       3                0       915      1\n",
              "686  zxtzotgbuy       2                0       916      1\n",
              "687  zzbqpspwkp       2                0       917      1\n",
              "688  zzzqewfrca       2                0       918      1\n",
              "\n",
              "[689 rows x 5 columns]"
            ],
            "text/html": [
              "\n",
              "  <div id=\"df-6953ccf2-6da6-4482-b09e-b4bf78f36795\">\n",
              "    <div class=\"colab-df-container\">\n",
              "      <div>\n",
              "<style scoped>\n",
              "    .dataframe tbody tr th:only-of-type {\n",
              "        vertical-align: middle;\n",
              "    }\n",
              "\n",
              "    .dataframe tbody tr th {\n",
              "        vertical-align: top;\n",
              "    }\n",
              "\n",
              "    .dataframe thead th {\n",
              "        text-align: right;\n",
              "    }\n",
              "</style>\n",
              "<table border=\"1\" class=\"dataframe\">\n",
              "  <thead>\n",
              "    <tr style=\"text-align: right;\">\n",
              "      <th></th>\n",
              "      <th>patients_ID</th>\n",
              "      <th>course</th>\n",
              "      <th>anticoagulation</th>\n",
              "      <th>patients</th>\n",
              "      <th>covid</th>\n",
              "    </tr>\n",
              "  </thead>\n",
              "  <tbody>\n",
              "    <tr>\n",
              "      <th>0</th>\n",
              "      <td>aaayeuzhnd</td>\n",
              "      <td>2</td>\n",
              "      <td>0</td>\n",
              "      <td>0</td>\n",
              "      <td>1</td>\n",
              "    </tr>\n",
              "    <tr>\n",
              "      <th>1</th>\n",
              "      <td>aaynxjnnby</td>\n",
              "      <td>2</td>\n",
              "      <td>0</td>\n",
              "      <td>1</td>\n",
              "      <td>1</td>\n",
              "    </tr>\n",
              "    <tr>\n",
              "      <th>2</th>\n",
              "      <td>abhdsbgojr</td>\n",
              "      <td>2</td>\n",
              "      <td>0</td>\n",
              "      <td>2</td>\n",
              "      <td>1</td>\n",
              "    </tr>\n",
              "    <tr>\n",
              "      <th>3</th>\n",
              "      <td>acdopjhgry</td>\n",
              "      <td>2</td>\n",
              "      <td>0</td>\n",
              "      <td>3</td>\n",
              "      <td>1</td>\n",
              "    </tr>\n",
              "    <tr>\n",
              "      <th>4</th>\n",
              "      <td>acmbhirfyz</td>\n",
              "      <td>2</td>\n",
              "      <td>0</td>\n",
              "      <td>4</td>\n",
              "      <td>1</td>\n",
              "    </tr>\n",
              "    <tr>\n",
              "      <th>...</th>\n",
              "      <td>...</td>\n",
              "      <td>...</td>\n",
              "      <td>...</td>\n",
              "      <td>...</td>\n",
              "      <td>...</td>\n",
              "    </tr>\n",
              "    <tr>\n",
              "      <th>684</th>\n",
              "      <td>zxdsbpwsvx</td>\n",
              "      <td>1</td>\n",
              "      <td>0</td>\n",
              "      <td>914</td>\n",
              "      <td>1</td>\n",
              "    </tr>\n",
              "    <tr>\n",
              "      <th>685</th>\n",
              "      <td>zxpzgesozn</td>\n",
              "      <td>3</td>\n",
              "      <td>0</td>\n",
              "      <td>915</td>\n",
              "      <td>1</td>\n",
              "    </tr>\n",
              "    <tr>\n",
              "      <th>686</th>\n",
              "      <td>zxtzotgbuy</td>\n",
              "      <td>2</td>\n",
              "      <td>0</td>\n",
              "      <td>916</td>\n",
              "      <td>1</td>\n",
              "    </tr>\n",
              "    <tr>\n",
              "      <th>687</th>\n",
              "      <td>zzbqpspwkp</td>\n",
              "      <td>2</td>\n",
              "      <td>0</td>\n",
              "      <td>917</td>\n",
              "      <td>1</td>\n",
              "    </tr>\n",
              "    <tr>\n",
              "      <th>688</th>\n",
              "      <td>zzzqewfrca</td>\n",
              "      <td>2</td>\n",
              "      <td>0</td>\n",
              "      <td>918</td>\n",
              "      <td>1</td>\n",
              "    </tr>\n",
              "  </tbody>\n",
              "</table>\n",
              "<p>689 rows × 5 columns</p>\n",
              "</div>\n",
              "      <button class=\"colab-df-convert\" onclick=\"convertToInteractive('df-6953ccf2-6da6-4482-b09e-b4bf78f36795')\"\n",
              "              title=\"Convert this dataframe to an interactive table.\"\n",
              "              style=\"display:none;\">\n",
              "        \n",
              "  <svg xmlns=\"http://www.w3.org/2000/svg\" height=\"24px\"viewBox=\"0 0 24 24\"\n",
              "       width=\"24px\">\n",
              "    <path d=\"M0 0h24v24H0V0z\" fill=\"none\"/>\n",
              "    <path d=\"M18.56 5.44l.94 2.06.94-2.06 2.06-.94-2.06-.94-.94-2.06-.94 2.06-2.06.94zm-11 1L8.5 8.5l.94-2.06 2.06-.94-2.06-.94L8.5 2.5l-.94 2.06-2.06.94zm10 10l.94 2.06.94-2.06 2.06-.94-2.06-.94-.94-2.06-.94 2.06-2.06.94z\"/><path d=\"M17.41 7.96l-1.37-1.37c-.4-.4-.92-.59-1.43-.59-.52 0-1.04.2-1.43.59L10.3 9.45l-7.72 7.72c-.78.78-.78 2.05 0 2.83L4 21.41c.39.39.9.59 1.41.59.51 0 1.02-.2 1.41-.59l7.78-7.78 2.81-2.81c.8-.78.8-2.07 0-2.86zM5.41 20L4 18.59l7.72-7.72 1.47 1.35L5.41 20z\"/>\n",
              "  </svg>\n",
              "      </button>\n",
              "      \n",
              "  <style>\n",
              "    .colab-df-container {\n",
              "      display:flex;\n",
              "      flex-wrap:wrap;\n",
              "      gap: 12px;\n",
              "    }\n",
              "\n",
              "    .colab-df-convert {\n",
              "      background-color: #E8F0FE;\n",
              "      border: none;\n",
              "      border-radius: 50%;\n",
              "      cursor: pointer;\n",
              "      display: none;\n",
              "      fill: #1967D2;\n",
              "      height: 32px;\n",
              "      padding: 0 0 0 0;\n",
              "      width: 32px;\n",
              "    }\n",
              "\n",
              "    .colab-df-convert:hover {\n",
              "      background-color: #E2EBFA;\n",
              "      box-shadow: 0px 1px 2px rgba(60, 64, 67, 0.3), 0px 1px 3px 1px rgba(60, 64, 67, 0.15);\n",
              "      fill: #174EA6;\n",
              "    }\n",
              "\n",
              "    [theme=dark] .colab-df-convert {\n",
              "      background-color: #3B4455;\n",
              "      fill: #D2E3FC;\n",
              "    }\n",
              "\n",
              "    [theme=dark] .colab-df-convert:hover {\n",
              "      background-color: #434B5C;\n",
              "      box-shadow: 0px 1px 3px 1px rgba(0, 0, 0, 0.15);\n",
              "      filter: drop-shadow(0px 1px 2px rgba(0, 0, 0, 0.3));\n",
              "      fill: #FFFFFF;\n",
              "    }\n",
              "  </style>\n",
              "\n",
              "      <script>\n",
              "        const buttonEl =\n",
              "          document.querySelector('#df-6953ccf2-6da6-4482-b09e-b4bf78f36795 button.colab-df-convert');\n",
              "        buttonEl.style.display =\n",
              "          google.colab.kernel.accessAllowed ? 'block' : 'none';\n",
              "\n",
              "        async function convertToInteractive(key) {\n",
              "          const element = document.querySelector('#df-6953ccf2-6da6-4482-b09e-b4bf78f36795');\n",
              "          const dataTable =\n",
              "            await google.colab.kernel.invokeFunction('convertToInteractive',\n",
              "                                                     [key], {});\n",
              "          if (!dataTable) return;\n",
              "\n",
              "          const docLinkHtml = 'Like what you see? Visit the ' +\n",
              "            '<a target=\"_blank\" href=https://colab.research.google.com/notebooks/data_table.ipynb>data table notebook</a>'\n",
              "            + ' to learn more about interactive tables.';\n",
              "          element.innerHTML = '';\n",
              "          dataTable['output_type'] = 'display_data';\n",
              "          await google.colab.output.renderOutput(dataTable, element);\n",
              "          const docLink = document.createElement('div');\n",
              "          docLink.innerHTML = docLinkHtml;\n",
              "          element.appendChild(docLink);\n",
              "        }\n",
              "      </script>\n",
              "    </div>\n",
              "  </div>\n",
              "  "
            ]
          },
          "metadata": {},
          "execution_count": 173
        }
      ]
    },
    {
      "cell_type": "markdown",
      "source": [
        "## 6.2 Demographie Analyse"
      ],
      "metadata": {
        "id": "5LNew-PN7hlo"
      }
    },
    {
      "cell_type": "markdown",
      "source": [
        "### 6.2.1 Geschlechter: "
      ],
      "metadata": {
        "id": "bbU16a54-K-Y"
      }
    },
    {
      "cell_type": "markdown",
      "source": [
        "Für die Analyse der Demographie, muss zusätzlich die Dimensionstabelle df_patients mit einbezogen werden, welche Informationen zum Geschlecht und Alter der Patient:innen enthält. Zu Analysenzwecken, wird das DataFrame \"demographie\" erstellt. "
      ],
      "metadata": {
        "id": "wbrzpr2H7m5C"
      }
    },
    {
      "cell_type": "code",
      "source": [
        "df_patients = pd.read_sql_query(\"SELECT * FROM d_patients\", dwh_conn)"
      ],
      "metadata": {
        "id": "gf74lL6pcRUm"
      },
      "execution_count": null,
      "outputs": []
    },
    {
      "cell_type": "code",
      "source": [
        "demographie = pd.merge(PMG, df_patients[['PATIENTS_ID', 'PATIENTS_GENDER', 'PATIENTS_DEATHDATE', 'PATIENTS_BIRTHDATE']], left_on='patients_ID', right_on='PATIENTS_ID')"
      ],
      "metadata": {
        "id": "GUPh3bN-cMXL"
      },
      "execution_count": null,
      "outputs": []
    },
    {
      "cell_type": "code",
      "source": [
        "import matplotlib.pyplot as plt\n",
        "demographie['anticoagulation'] = demographie['anticoagulation'].astype(int)\n",
        "\n",
        "# Gruppierung nach Geschlecht und Anzahl behandelter Covid Patient:innen \n",
        "treated_counts = demographie[demographie['anticoagulation'] > 0].groupby('PATIENTS_GENDER')['PATIENTS_GENDER'].count()\n",
        "\n",
        "# Gruppierung nach Geschlecht und Anzahl unbehandelter Covid Patient:innen \n",
        "untreated_counts = demographie[demographie['anticoagulation'] == 0].groupby('PATIENTS_GENDER')['PATIENTS_GENDER'].count()\n",
        "\n",
        "# Kombinierung in ein Dataframe\n",
        "gender_counts = pd.concat([treated_counts, untreated_counts], axis=1, keys=['Behandelt', 'Unbehandelt'])\n",
        "\n",
        "# Erstellung des Barplots\n",
        "gender_counts.plot(kind='bar')\n",
        "\n",
        "# Titel und Labels für Achsen\n",
        "plt.title('Geschlechterverteilung zwischen behandelten und unbehandelten Patient:innen')\n",
        "plt.xlabel('Geschlecht')\n",
        "plt.ylabel('Anzahl Patient:innen')\n",
        "\n",
        "# Anzeigen des Plots\n",
        "plt.show()"
      ],
      "metadata": {
        "colab": {
          "base_uri": "https://localhost:8080/",
          "height": 294
        },
        "id": "-Trc2Uc8d50L",
        "outputId": "d28db607-4816-4e03-e9f3-df3656b9d777"
      },
      "execution_count": null,
      "outputs": [
        {
          "output_type": "display_data",
          "data": {
            "text/plain": [
              "<Figure size 432x288 with 1 Axes>"
            ],
            "image/png": "[encoded data removed]"
          },
          "metadata": {
            "needs_background": "light"
          }
        }
      ]
    },
    {
      "cell_type": "markdown",
      "source": [
        "Berechnung der Verteilung zwischen weiblichen und männlichen Patient:innen: "
      ],
      "metadata": {
        "id": "KpxvK76T89qB"
      }
    },
    {
      "cell_type": "code",
      "source": [
        "# Gruppieren des Demographie DataFrames nach Geschlecht und Berechnung der Anzahl Patient:innen in jeder Gruppe. \n",
        "covid_counts_by_gender = demographie[demographie['covid'] == 1].groupby('PATIENTS_GENDER')['covid'].count()\n",
        "\n",
        "# Resultate\n",
        "print(\"Number of men and women with COVID:\")\n",
        "print(covid_counts_by_gender)"
      ],
      "metadata": {
        "colab": {
          "base_uri": "https://localhost:8080/"
        },
        "id": "npMkH2rO31jr",
        "outputId": "9be2d8d8-4172-48cd-eaa5-18327e4fe838"
      },
      "execution_count": null,
      "outputs": [
        {
          "output_type": "stream",
          "name": "stdout",
          "text": [
            "Number of men and women with COVID:\n",
            "PATIENTS_GENDER\n",
            "F    435\n",
            "M    430\n",
            "Name: covid, dtype: int64\n"
          ]
        }
      ]
    },
    {
      "cell_type": "markdown",
      "source": [
        "Untersuchung der Abhängigkeit zwischen den Variablen: "
      ],
      "metadata": {
        "id": "8v9Go6st9mzJ"
      }
    },
    {
      "cell_type": "code",
      "source": [
        "\n",
        "# Konvertierung der Antikoagulation Spalte in einen int Datentypen. \n",
        "demographie['anticoagulation'] = demographie['anticoagulation'].astype(int)\n",
        "\n",
        "# Filtern der Patient:innen nach Covid (covid == 1)\n",
        "demographie_covid = demographie[demographie['covid'] == 1]\n",
        "\n",
        "# Geschlecht und Behandlungsstatus\n",
        "contingency_table = pd.crosstab(demographie_covid['PATIENTS_GENDER'], demographie_covid['anticoagulation'])\n",
        "\n",
        "# chi2-Test\n",
        "chi2, p, dof, expected = stats.chi2_contingency(contingency_table)\n",
        "\n",
        "# Print the results\n",
        "print(\"Chi-squared Testresultate\")\n",
        "print(\"chi2 =\", chi2)\n",
        "print(\"p =\", p)"
      ],
      "metadata": {
        "colab": {
          "base_uri": "https://localhost:8080/"
        },
        "id": "4onw0Gdz3Zd2",
        "outputId": "b42587a2-d4f0-4b48-cb25-92b1ccf4151b"
      },
      "execution_count": null,
      "outputs": [
        {
          "output_type": "stream",
          "name": "stdout",
          "text": [
            "Chi-squared Testresultate\n",
            "chi2 = 5.486315006409468\n",
            "p = 0.13945942656187224\n"
          ]
        }
      ]
    },
    {
      "cell_type": "markdown",
      "source": [
        "Die Geschlechterverteilung zwischen behandelten und unbehandelten Patient:innen ist ähnlich. Es lässt sich nicht mit Gewissheit sagen, ob sie signifikant ist. "
      ],
      "metadata": {
        "id": "x3WcHabUeUeC"
      }
    },
    {
      "cell_type": "markdown",
      "source": [
        "### 6.2.2 Alter: \n",
        "\n",
        "\n",
        "\n"
      ],
      "metadata": {
        "id": "0Ze_Ger_8U4U"
      }
    },
    {
      "cell_type": "code",
      "source": [
        "# Heutiges Jahr\n",
        "current_year = datetime.datetime.now().year\n",
        "\n",
        "# Berechnung des Alters vom Geburtsjahr ausgehend\n",
        "demographie['age'] = current_year - pd.to_datetime(demographie['PATIENTS_BIRTHDATE']).dt.year"
      ],
      "metadata": {
        "id": "BLgXXwNW8Nus"
      },
      "execution_count": null,
      "outputs": []
    },
    {
      "cell_type": "code",
      "source": [
        "# Histogramm Alter behandelter Covid Patient:innen\n",
        "plt.hist(demographie[demographie['anticoagulation'] > 0]['age'], bins=20, alpha=0.5, color='#003f5c', label='Behandelt')\n",
        "\n",
        "# Histogramm Alter unbehandelter Covid Patient:innen\n",
        "plt.hist(demographie[demographie['anticoagulation'] == 0]['age'], bins=20, alpha=0.5, color='#ffa600', label='Unbehandelt')\n",
        "\n",
        "# Titel und Labels für Achsen\n",
        "plt.xlabel('Alter')\n",
        "plt.ylabel('Anzahl Patient:innen')\n",
        "plt.title('Altersverteilung behandelter und unbehandelter Covid Patient:innen')\n",
        "\n",
        "# Legende\n",
        "plt.legend()\n",
        "\n",
        "# Anzeigen des Plotst\n",
        "plt.show()"
      ],
      "metadata": {
        "colab": {
          "base_uri": "https://localhost:8080/",
          "height": 295
        },
        "id": "vUqO_AIEhV9l",
        "outputId": "84a82029-463b-4319-dc79-084709996d48"
      },
      "execution_count": null,
      "outputs": [
        {
          "output_type": "display_data",
          "data": {
            "text/plain": [
              "<Figure size 432x288 with 1 Axes>"
            ],
            "image/png": "[encoded data removed]"
          },
          "metadata": {
            "needs_background": "light"
          }
        }
      ]
    },
    {
      "cell_type": "markdown",
      "source": [
        "Untersuchung der Signifikanz der Altersverteilung: "
      ],
      "metadata": {
        "id": "hC05GxLu-kBZ"
      }
    },
    {
      "cell_type": "code",
      "source": [
        "# Extrahieren des Alters der Patient:innen\n",
        "age_treated = demographie[demographie['anticoagulation'] > 0]['age']\n",
        "age_untreated = demographie[demographie['anticoagulation'] == 0]['age']\n",
        "\n",
        "# T-Test\n",
        "t_stat, p_val = ttest_ind(age_treated, age_untreated, equal_var=False)\n",
        "\n",
        "print('T-test Resultate:')\n",
        "print(f't-Statistik: {t_stat:.2f}')\n",
        "print(f'p-Wert: {p_val:.3f}')"
      ],
      "metadata": {
        "colab": {
          "base_uri": "https://localhost:8080/"
        },
        "id": "wakh0YbDhzFQ",
        "outputId": "c35d2313-6937-4be0-ddd2-980e7f76255b"
      },
      "execution_count": null,
      "outputs": [
        {
          "output_type": "stream",
          "name": "stdout",
          "text": [
            "T-test Resultate:\n",
            "t-Statistik: 11.69\n",
            "p-Wert: 0.000\n"
          ]
        }
      ]
    },
    {
      "cell_type": "markdown",
      "source": [
        "Die Altersverteilung zwischen behandelten und unbehandelten Patient:innen ist unterschiedlich und die Varianz ist signifikant. Da jedoch die Anzahl der behandelten Patient:innen deutlich geringer als die der unbehandelten Patient:innen ist, wird dies in der Analyse vernachlässigt. "
      ],
      "metadata": {
        "id": "M6Mb62hXiJU1"
      }
    },
    {
      "cell_type": "markdown",
      "source": [
        "## 6.3 Überprüfung Forschungsfrage 1\n",
        "\n",
        "### Patient:innen mit Antikoagulation weisen im Vergleich zu nicht-antikoagulierten Patient:innen einen leichteren klinischen Covid 19-Erkrankungsverlauf auf.\n"
      ],
      "metadata": {
        "id": "06ROu26bBVSg"
      }
    },
    {
      "cell_type": "markdown",
      "source": [
        "Im Nachfolgenden wird der Unterschied der Schweregrade zwischen behandelten und unbehandelten Patient:innen untersucht. \n",
        "Die Hypothese lautet: Patient:innen mit Antikoagulation weisen im Vergleich zu nicht-antikoagulierten Patient:innen einen leichteren klinischen Covid 19-Erkrankungsverlauf auf."
      ],
      "metadata": {
        "id": "zqnIbmyr8yE_"
      }
    },
    {
      "cell_type": "code",
      "source": [
        "# Durschnittlicher Schweregrade behandelter Patient:innen\n",
        "avg_severity_in_patients_with_anticoagulation = covid_treated ['course'].mean()\n",
        "\n",
        "## Durschnittlicher Schweregrade unbehandelter Patient:innen\n",
        "avg_severity_in_patients_without_anticoagulation = covid_untreated ['course'].mean()\n",
        "\n",
        "##Vergleich Schweregrad behandelter und unbehandelter Patient:innen\n",
        "if avg_severity_in_patients_with_anticoagulation < avg_severity_in_patients_without_anticoagulation:\n",
        "    print(\"The average severity of disease is lower in treated patients compared to untreated patients.\")\n",
        "elif avg_severity_in_patients_with_anticoagulation > avg_severity_in_patients_without_anticoagulation:\n",
        "    print(\"The average severity of disease is higher in treated patients compared to untreated patients.\")\n",
        "else:\n",
        "    print(\"The average severity of disease is the same in treated and untreated patients.\")"
      ],
      "metadata": {
        "id": "2NnKbZIptcYr",
        "colab": {
          "base_uri": "https://localhost:8080/"
        },
        "outputId": "de18e348-47aa-4025-cf45-878612b7ad0e"
      },
      "execution_count": null,
      "outputs": [
        {
          "output_type": "stream",
          "name": "stdout",
          "text": [
            "The average severity of disease is higher in treated patients compared to untreated patients.\n"
          ]
        }
      ]
    },
    {
      "cell_type": "code",
      "source": [
        "# Kalkulation Statistik & p-Value\n",
        "t_statistic, p_value = stats.ttest_ind(covid_treated ['course'], covid_untreated ['course'], equal_var=False)\n",
        "\n",
        "# Berechnung, ob p-value <0.05\n",
        "if p_value < 0.05:\n",
        "    print(\"The difference in average severity between treated and untreated patients is statistically significant, the p-value is\", p_value)\n",
        "else:\n",
        "    print(\"The difference in average severity between treated and untreated patients is not statistically significant, the p-value is\", p_value)"
      ],
      "metadata": {
        "colab": {
          "base_uri": "https://localhost:8080/"
        },
        "id": "hrPb-uGwt4SD",
        "outputId": "44d72b1d-1e3a-49e3-d87b-7a26f850aebe"
      },
      "execution_count": null,
      "outputs": [
        {
          "output_type": "stream",
          "name": "stdout",
          "text": [
            "The difference in average severity between treated and untreated patients is statistically significant, the p-value is 5.626641550264907e-78\n"
          ]
        }
      ]
    },
    {
      "cell_type": "markdown",
      "source": [
        "Daraus ergibt sich, dass der Schweregrad der Erkrankung bei Patient:innen signifikant höher ist, welche mit Antikoagulantien behandelt worden sind. Hypothese 1 kann somit widerlegt werden. "
      ],
      "metadata": {
        "id": "cnYN3QAJlGAs"
      }
    },
    {
      "cell_type": "markdown",
      "source": [
        "Der nachfolgende Graph stellt eine Heatmap dar, welche die Patient:innen und den Schweregrad der Erkrankung abhängig von der gewählten Behandlungsmethode anzeigt. "
      ],
      "metadata": {
        "id": "OAuQ11mba4vM"
      }
    },
    {
      "cell_type": "code",
      "source": [
        "import seaborn as sns\n",
        "import matplotlib.pyplot as plt\n",
        "\n",
        "# Laden der Daten\n",
        "df_data = sqldf(\"\"\"SELECT patients, anticoagulation, course FROM PMG \"\"\")\n",
        "\n",
        "# Pivot Table\n",
        "df_pivot = df_data.pivot('patients','anticoagulation','course',)\n",
        "\n",
        "# Heatmap\n",
        "sns.heatmap(df_pivot, cmap='YlGnBu')\n",
        "\n",
        "# Anzeigen des Plots\n",
        "plt.show()"
      ],
      "metadata": {
        "colab": {
          "base_uri": "https://localhost:8080/",
          "height": 284
        },
        "id": "HBmr9kmL7zRb",
        "outputId": "6749644a-6183-4e48-d57d-7ba6057b5189"
      },
      "execution_count": null,
      "outputs": [
        {
          "output_type": "display_data",
          "data": {
            "text/plain": [
              "<Figure size 432x288 with 2 Axes>"
            ],
            "image/png": "[encoded data removed]"
          },
          "metadata": {
            "needs_background": "light"
          }
        }
      ]
    },
    {
      "cell_type": "markdown",
      "source": [
        "In diesem Abschnitt wird Hypothese 2 untersucht: Heparinderivate sind mit einem besseren klinischen Covid-19-Verlauf als andere Antikoagulantien assoziiert."
      ],
      "metadata": {
        "id": "Xh_eFRh-jypZ"
      }
    },
    {
      "cell_type": "markdown",
      "source": [
        "## 6.4 Überprüfung Forschungsfrage 2\n",
        "\n",
        "### Heparinderivate sind mit einem besseren klinischen Covid-19-Verlauf als andere Antikoagulantien assoziiert."
      ],
      "metadata": {
        "id": "xuxcX8WwB0IQ"
      }
    },
    {
      "cell_type": "code",
      "source": [
        "covid_treated_heparin = sqldf(\"\"\"SELECT * FROM PMG where covid = 1 and anticoagulation = 1 \"\"\")\n",
        "covid_treated_heparin"
      ],
      "metadata": {
        "colab": {
          "base_uri": "https://localhost:8080/",
          "height": 424
        },
        "id": "yLHKdvXlbaat",
        "outputId": "62f773cc-02e0-4b70-ea94-5144b3c550d5"
      },
      "execution_count": null,
      "outputs": [
        {
          "output_type": "execute_result",
          "data": {
            "text/plain": [
              "    patients_ID  course  anticoagulation  patients  covid\n",
              "0    afolyayjzc       4                1         6      1\n",
              "1    aonaydsedd       5                1        14      1\n",
              "2    bfxgqvdogd       5                1        41      1\n",
              "3    bprsoatxga       4                1        48      1\n",
              "4    bqvxuedsfz       4                1        49      1\n",
              "..          ...     ...              ...       ...    ...\n",
              "102  yvrdadacyz       5                1       885      1\n",
              "103  zbwfbzswno       4                1       893      1\n",
              "104  zgskdmhinm       5                1       896      1\n",
              "105  ztnywcsdjd       4                1       910      1\n",
              "106  zwgyreftlb       5                1       913      1\n",
              "\n",
              "[107 rows x 5 columns]"
            ],
            "text/html": [
              "\n",
              "  <div id=\"df-34c2da83-12b8-4569-a323-c403fb9c359c\">\n",
              "    <div class=\"colab-df-container\">\n",
              "      <div>\n",
              "<style scoped>\n",
              "    .dataframe tbody tr th:only-of-type {\n",
              "        vertical-align: middle;\n",
              "    }\n",
              "\n",
              "    .dataframe tbody tr th {\n",
              "        vertical-align: top;\n",
              "    }\n",
              "\n",
              "    .dataframe thead th {\n",
              "        text-align: right;\n",
              "    }\n",
              "</style>\n",
              "<table border=\"1\" class=\"dataframe\">\n",
              "  <thead>\n",
              "    <tr style=\"text-align: right;\">\n",
              "      <th></th>\n",
              "      <th>patients_ID</th>\n",
              "      <th>course</th>\n",
              "      <th>anticoagulation</th>\n",
              "      <th>patients</th>\n",
              "      <th>covid</th>\n",
              "    </tr>\n",
              "  </thead>\n",
              "  <tbody>\n",
              "    <tr>\n",
              "      <th>0</th>\n",
              "      <td>afolyayjzc</td>\n",
              "      <td>4</td>\n",
              "      <td>1</td>\n",
              "      <td>6</td>\n",
              "      <td>1</td>\n",
              "    </tr>\n",
              "    <tr>\n",
              "      <th>1</th>\n",
              "      <td>aonaydsedd</td>\n",
              "      <td>5</td>\n",
              "      <td>1</td>\n",
              "      <td>14</td>\n",
              "      <td>1</td>\n",
              "    </tr>\n",
              "    <tr>\n",
              "      <th>2</th>\n",
              "      <td>bfxgqvdogd</td>\n",
              "      <td>5</td>\n",
              "      <td>1</td>\n",
              "      <td>41</td>\n",
              "      <td>1</td>\n",
              "    </tr>\n",
              "    <tr>\n",
              "      <th>3</th>\n",
              "      <td>bprsoatxga</td>\n",
              "      <td>4</td>\n",
              "      <td>1</td>\n",
              "      <td>48</td>\n",
              "      <td>1</td>\n",
              "    </tr>\n",
              "    <tr>\n",
              "      <th>4</th>\n",
              "      <td>bqvxuedsfz</td>\n",
              "      <td>4</td>\n",
              "      <td>1</td>\n",
              "      <td>49</td>\n",
              "      <td>1</td>\n",
              "    </tr>\n",
              "    <tr>\n",
              "      <th>...</th>\n",
              "      <td>...</td>\n",
              "      <td>...</td>\n",
              "      <td>...</td>\n",
              "      <td>...</td>\n",
              "      <td>...</td>\n",
              "    </tr>\n",
              "    <tr>\n",
              "      <th>102</th>\n",
              "      <td>yvrdadacyz</td>\n",
              "      <td>5</td>\n",
              "      <td>1</td>\n",
              "      <td>885</td>\n",
              "      <td>1</td>\n",
              "    </tr>\n",
              "    <tr>\n",
              "      <th>103</th>\n",
              "      <td>zbwfbzswno</td>\n",
              "      <td>4</td>\n",
              "      <td>1</td>\n",
              "      <td>893</td>\n",
              "      <td>1</td>\n",
              "    </tr>\n",
              "    <tr>\n",
              "      <th>104</th>\n",
              "      <td>zgskdmhinm</td>\n",
              "      <td>5</td>\n",
              "      <td>1</td>\n",
              "      <td>896</td>\n",
              "      <td>1</td>\n",
              "    </tr>\n",
              "    <tr>\n",
              "      <th>105</th>\n",
              "      <td>ztnywcsdjd</td>\n",
              "      <td>4</td>\n",
              "      <td>1</td>\n",
              "      <td>910</td>\n",
              "      <td>1</td>\n",
              "    </tr>\n",
              "    <tr>\n",
              "      <th>106</th>\n",
              "      <td>zwgyreftlb</td>\n",
              "      <td>5</td>\n",
              "      <td>1</td>\n",
              "      <td>913</td>\n",
              "      <td>1</td>\n",
              "    </tr>\n",
              "  </tbody>\n",
              "</table>\n",
              "<p>107 rows × 5 columns</p>\n",
              "</div>\n",
              "      <button class=\"colab-df-convert\" onclick=\"convertToInteractive('df-34c2da83-12b8-4569-a323-c403fb9c359c')\"\n",
              "              title=\"Convert this dataframe to an interactive table.\"\n",
              "              style=\"display:none;\">\n",
              "        \n",
              "  <svg xmlns=\"http://www.w3.org/2000/svg\" height=\"24px\"viewBox=\"0 0 24 24\"\n",
              "       width=\"24px\">\n",
              "    <path d=\"M0 0h24v24H0V0z\" fill=\"none\"/>\n",
              "    <path d=\"M18.56 5.44l.94 2.06.94-2.06 2.06-.94-2.06-.94-.94-2.06-.94 2.06-2.06.94zm-11 1L8.5 8.5l.94-2.06 2.06-.94-2.06-.94L8.5 2.5l-.94 2.06-2.06.94zm10 10l.94 2.06.94-2.06 2.06-.94-2.06-.94-.94-2.06-.94 2.06-2.06.94z\"/><path d=\"M17.41 7.96l-1.37-1.37c-.4-.4-.92-.59-1.43-.59-.52 0-1.04.2-1.43.59L10.3 9.45l-7.72 7.72c-.78.78-.78 2.05 0 2.83L4 21.41c.39.39.9.59 1.41.59.51 0 1.02-.2 1.41-.59l7.78-7.78 2.81-2.81c.8-.78.8-2.07 0-2.86zM5.41 20L4 18.59l7.72-7.72 1.47 1.35L5.41 20z\"/>\n",
              "  </svg>\n",
              "      </button>\n",
              "      \n",
              "  <style>\n",
              "    .colab-df-container {\n",
              "      display:flex;\n",
              "      flex-wrap:wrap;\n",
              "      gap: 12px;\n",
              "    }\n",
              "\n",
              "    .colab-df-convert {\n",
              "      background-color: #E8F0FE;\n",
              "      border: none;\n",
              "      border-radius: 50%;\n",
              "      cursor: pointer;\n",
              "      display: none;\n",
              "      fill: #1967D2;\n",
              "      height: 32px;\n",
              "      padding: 0 0 0 0;\n",
              "      width: 32px;\n",
              "    }\n",
              "\n",
              "    .colab-df-convert:hover {\n",
              "      background-color: #E2EBFA;\n",
              "      box-shadow: 0px 1px 2px rgba(60, 64, 67, 0.3), 0px 1px 3px 1px rgba(60, 64, 67, 0.15);\n",
              "      fill: #174EA6;\n",
              "    }\n",
              "\n",
              "    [theme=dark] .colab-df-convert {\n",
              "      background-color: #3B4455;\n",
              "      fill: #D2E3FC;\n",
              "    }\n",
              "\n",
              "    [theme=dark] .colab-df-convert:hover {\n",
              "      background-color: #434B5C;\n",
              "      box-shadow: 0px 1px 3px 1px rgba(0, 0, 0, 0.15);\n",
              "      filter: drop-shadow(0px 1px 2px rgba(0, 0, 0, 0.3));\n",
              "      fill: #FFFFFF;\n",
              "    }\n",
              "  </style>\n",
              "\n",
              "      <script>\n",
              "        const buttonEl =\n",
              "          document.querySelector('#df-34c2da83-12b8-4569-a323-c403fb9c359c button.colab-df-convert');\n",
              "        buttonEl.style.display =\n",
              "          google.colab.kernel.accessAllowed ? 'block' : 'none';\n",
              "\n",
              "        async function convertToInteractive(key) {\n",
              "          const element = document.querySelector('#df-34c2da83-12b8-4569-a323-c403fb9c359c');\n",
              "          const dataTable =\n",
              "            await google.colab.kernel.invokeFunction('convertToInteractive',\n",
              "                                                     [key], {});\n",
              "          if (!dataTable) return;\n",
              "\n",
              "          const docLinkHtml = 'Like what you see? Visit the ' +\n",
              "            '<a target=\"_blank\" href=https://colab.research.google.com/notebooks/data_table.ipynb>data table notebook</a>'\n",
              "            + ' to learn more about interactive tables.';\n",
              "          element.innerHTML = '';\n",
              "          dataTable['output_type'] = 'display_data';\n",
              "          await google.colab.output.renderOutput(dataTable, element);\n",
              "          const docLink = document.createElement('div');\n",
              "          docLink.innerHTML = docLinkHtml;\n",
              "          element.appendChild(docLink);\n",
              "        }\n",
              "      </script>\n",
              "    </div>\n",
              "  </div>\n",
              "  "
            ]
          },
          "metadata": {},
          "execution_count": 185
        }
      ]
    },
    {
      "cell_type": "code",
      "source": [
        "covid_treated_nonheparin = sqldf(\"\"\"SELECT * FROM PMG where covid = 1 and anticoagulation > 1 \"\"\")\n",
        "covid_treated_nonheparin "
      ],
      "metadata": {
        "colab": {
          "base_uri": "https://localhost:8080/",
          "height": 424
        },
        "id": "V4rEigzhiZsW",
        "outputId": "c517ba0a-6c15-4c60-a009-29ac41ca132a"
      },
      "execution_count": null,
      "outputs": [
        {
          "output_type": "execute_result",
          "data": {
            "text/plain": [
              "   patients_ID  course  anticoagulation  patients  covid\n",
              "0   aeqsigeryh       5                3         5      1\n",
              "1   asxeyiwsjo       5                2        22      1\n",
              "2   aucvfhbimc       2                2        24      1\n",
              "3   aydnhihvzp       5                3        31      1\n",
              "4   btyjioeamc       5                3        52      1\n",
              "..         ...     ...              ...       ...    ...\n",
              "64  xfpqktikoo       5                3       823      1\n",
              "65  xhjcjwnxqm       5                2       827      1\n",
              "66  xmxqvyazab       2                2       837      1\n",
              "67  ycvqgzetdq       5                3       854      1\n",
              "68  yuuhnjcreo       5                2       882      1\n",
              "\n",
              "[69 rows x 5 columns]"
            ],
            "text/html": [
              "\n",
              "  <div id=\"df-9c8a629e-d0d6-41d2-b1cf-b62feeb3ef7f\">\n",
              "    <div class=\"colab-df-container\">\n",
              "      <div>\n",
              "<style scoped>\n",
              "    .dataframe tbody tr th:only-of-type {\n",
              "        vertical-align: middle;\n",
              "    }\n",
              "\n",
              "    .dataframe tbody tr th {\n",
              "        vertical-align: top;\n",
              "    }\n",
              "\n",
              "    .dataframe thead th {\n",
              "        text-align: right;\n",
              "    }\n",
              "</style>\n",
              "<table border=\"1\" class=\"dataframe\">\n",
              "  <thead>\n",
              "    <tr style=\"text-align: right;\">\n",
              "      <th></th>\n",
              "      <th>patients_ID</th>\n",
              "      <th>course</th>\n",
              "      <th>anticoagulation</th>\n",
              "      <th>patients</th>\n",
              "      <th>covid</th>\n",
              "    </tr>\n",
              "  </thead>\n",
              "  <tbody>\n",
              "    <tr>\n",
              "      <th>0</th>\n",
              "      <td>aeqsigeryh</td>\n",
              "      <td>5</td>\n",
              "      <td>3</td>\n",
              "      <td>5</td>\n",
              "      <td>1</td>\n",
              "    </tr>\n",
              "    <tr>\n",
              "      <th>1</th>\n",
              "      <td>asxeyiwsjo</td>\n",
              "      <td>5</td>\n",
              "      <td>2</td>\n",
              "      <td>22</td>\n",
              "      <td>1</td>\n",
              "    </tr>\n",
              "    <tr>\n",
              "      <th>2</th>\n",
              "      <td>aucvfhbimc</td>\n",
              "      <td>2</td>\n",
              "      <td>2</td>\n",
              "      <td>24</td>\n",
              "      <td>1</td>\n",
              "    </tr>\n",
              "    <tr>\n",
              "      <th>3</th>\n",
              "      <td>aydnhihvzp</td>\n",
              "      <td>5</td>\n",
              "      <td>3</td>\n",
              "      <td>31</td>\n",
              "      <td>1</td>\n",
              "    </tr>\n",
              "    <tr>\n",
              "      <th>4</th>\n",
              "      <td>btyjioeamc</td>\n",
              "      <td>5</td>\n",
              "      <td>3</td>\n",
              "      <td>52</td>\n",
              "      <td>1</td>\n",
              "    </tr>\n",
              "    <tr>\n",
              "      <th>...</th>\n",
              "      <td>...</td>\n",
              "      <td>...</td>\n",
              "      <td>...</td>\n",
              "      <td>...</td>\n",
              "      <td>...</td>\n",
              "    </tr>\n",
              "    <tr>\n",
              "      <th>64</th>\n",
              "      <td>xfpqktikoo</td>\n",
              "      <td>5</td>\n",
              "      <td>3</td>\n",
              "      <td>823</td>\n",
              "      <td>1</td>\n",
              "    </tr>\n",
              "    <tr>\n",
              "      <th>65</th>\n",
              "      <td>xhjcjwnxqm</td>\n",
              "      <td>5</td>\n",
              "      <td>2</td>\n",
              "      <td>827</td>\n",
              "      <td>1</td>\n",
              "    </tr>\n",
              "    <tr>\n",
              "      <th>66</th>\n",
              "      <td>xmxqvyazab</td>\n",
              "      <td>2</td>\n",
              "      <td>2</td>\n",
              "      <td>837</td>\n",
              "      <td>1</td>\n",
              "    </tr>\n",
              "    <tr>\n",
              "      <th>67</th>\n",
              "      <td>ycvqgzetdq</td>\n",
              "      <td>5</td>\n",
              "      <td>3</td>\n",
              "      <td>854</td>\n",
              "      <td>1</td>\n",
              "    </tr>\n",
              "    <tr>\n",
              "      <th>68</th>\n",
              "      <td>yuuhnjcreo</td>\n",
              "      <td>5</td>\n",
              "      <td>2</td>\n",
              "      <td>882</td>\n",
              "      <td>1</td>\n",
              "    </tr>\n",
              "  </tbody>\n",
              "</table>\n",
              "<p>69 rows × 5 columns</p>\n",
              "</div>\n",
              "      <button class=\"colab-df-convert\" onclick=\"convertToInteractive('df-9c8a629e-d0d6-41d2-b1cf-b62feeb3ef7f')\"\n",
              "              title=\"Convert this dataframe to an interactive table.\"\n",
              "              style=\"display:none;\">\n",
              "        \n",
              "  <svg xmlns=\"http://www.w3.org/2000/svg\" height=\"24px\"viewBox=\"0 0 24 24\"\n",
              "       width=\"24px\">\n",
              "    <path d=\"M0 0h24v24H0V0z\" fill=\"none\"/>\n",
              "    <path d=\"M18.56 5.44l.94 2.06.94-2.06 2.06-.94-2.06-.94-.94-2.06-.94 2.06-2.06.94zm-11 1L8.5 8.5l.94-2.06 2.06-.94-2.06-.94L8.5 2.5l-.94 2.06-2.06.94zm10 10l.94 2.06.94-2.06 2.06-.94-2.06-.94-.94-2.06-.94 2.06-2.06.94z\"/><path d=\"M17.41 7.96l-1.37-1.37c-.4-.4-.92-.59-1.43-.59-.52 0-1.04.2-1.43.59L10.3 9.45l-7.72 7.72c-.78.78-.78 2.05 0 2.83L4 21.41c.39.39.9.59 1.41.59.51 0 1.02-.2 1.41-.59l7.78-7.78 2.81-2.81c.8-.78.8-2.07 0-2.86zM5.41 20L4 18.59l7.72-7.72 1.47 1.35L5.41 20z\"/>\n",
              "  </svg>\n",
              "      </button>\n",
              "      \n",
              "  <style>\n",
              "    .colab-df-container {\n",
              "      display:flex;\n",
              "      flex-wrap:wrap;\n",
              "      gap: 12px;\n",
              "    }\n",
              "\n",
              "    .colab-df-convert {\n",
              "      background-color: #E8F0FE;\n",
              "      border: none;\n",
              "      border-radius: 50%;\n",
              "      cursor: pointer;\n",
              "      display: none;\n",
              "      fill: #1967D2;\n",
              "      height: 32px;\n",
              "      padding: 0 0 0 0;\n",
              "      width: 32px;\n",
              "    }\n",
              "\n",
              "    .colab-df-convert:hover {\n",
              "      background-color: #E2EBFA;\n",
              "      box-shadow: 0px 1px 2px rgba(60, 64, 67, 0.3), 0px 1px 3px 1px rgba(60, 64, 67, 0.15);\n",
              "      fill: #174EA6;\n",
              "    }\n",
              "\n",
              "    [theme=dark] .colab-df-convert {\n",
              "      background-color: #3B4455;\n",
              "      fill: #D2E3FC;\n",
              "    }\n",
              "\n",
              "    [theme=dark] .colab-df-convert:hover {\n",
              "      background-color: #434B5C;\n",
              "      box-shadow: 0px 1px 3px 1px rgba(0, 0, 0, 0.15);\n",
              "      filter: drop-shadow(0px 1px 2px rgba(0, 0, 0, 0.3));\n",
              "      fill: #FFFFFF;\n",
              "    }\n",
              "  </style>\n",
              "\n",
              "      <script>\n",
              "        const buttonEl =\n",
              "          document.querySelector('#df-9c8a629e-d0d6-41d2-b1cf-b62feeb3ef7f button.colab-df-convert');\n",
              "        buttonEl.style.display =\n",
              "          google.colab.kernel.accessAllowed ? 'block' : 'none';\n",
              "\n",
              "        async function convertToInteractive(key) {\n",
              "          const element = document.querySelector('#df-9c8a629e-d0d6-41d2-b1cf-b62feeb3ef7f');\n",
              "          const dataTable =\n",
              "            await google.colab.kernel.invokeFunction('convertToInteractive',\n",
              "                                                     [key], {});\n",
              "          if (!dataTable) return;\n",
              "\n",
              "          const docLinkHtml = 'Like what you see? Visit the ' +\n",
              "            '<a target=\"_blank\" href=https://colab.research.google.com/notebooks/data_table.ipynb>data table notebook</a>'\n",
              "            + ' to learn more about interactive tables.';\n",
              "          element.innerHTML = '';\n",
              "          dataTable['output_type'] = 'display_data';\n",
              "          await google.colab.output.renderOutput(dataTable, element);\n",
              "          const docLink = document.createElement('div');\n",
              "          docLink.innerHTML = docLinkHtml;\n",
              "          element.appendChild(docLink);\n",
              "        }\n",
              "      </script>\n",
              "    </div>\n",
              "  </div>\n",
              "  "
            ]
          },
          "metadata": {},
          "execution_count": 186
        }
      ]
    },
    {
      "cell_type": "code",
      "source": [
        "## Durschnittlicher Schweregrade Heparin behandelter Patient:innen\n",
        "avg_severity_in_patients_with_heparin = covid_treated_heparin['course'].mean()\n",
        "\n",
        "## Durschnittlicher Schweregrade Heparin unbehandelter Patient:innen\n",
        "avg_severity_in_patients_without_heparin = covid_treated_nonheparin ['course'].mean()\n",
        "\n",
        "## Vergleich Schweregrad Heparin behandelter und unbehandelter Patient:innen\n",
        "if avg_severity_in_patients_with_heparin < avg_severity_in_patients_without_heparin:\n",
        "    print(\"The average severity of disease is lower in patients with heparin treatment compared to patients without heparin treatment.\")\n",
        "elif avg_severity_in_patients_with_heparin > avg_severity_in_patients_without_heparin:\n",
        "    print(\"The average severity of disease is higher in patients with heparin treatment compared to patients without heparin treatment.\")\n",
        "else:\n",
        "    print(\"The average severity of disease is the same in patients with heparin treatment and patients without heparin treatment.\")\n"
      ],
      "metadata": {
        "colab": {
          "base_uri": "https://localhost:8080/"
        },
        "id": "fb7KGfBmjoMR",
        "outputId": "a27337f5-675b-4f3a-d318-6ea5de57471b"
      },
      "execution_count": null,
      "outputs": [
        {
          "output_type": "stream",
          "name": "stdout",
          "text": [
            "The average severity of disease is higher in patients with heparin treatment compared to patients without heparin treatment.\n"
          ]
        }
      ]
    },
    {
      "cell_type": "code",
      "source": [
        "# Kalkulation Statistik & p-Value\n",
        "t_statistic, p_value = stats.ttest_ind(covid_treated_heparin ['course'], covid_treated_nonheparin ['course'], equal_var=False)\n",
        "\n",
        "# Berechnung, ob p-value <0.05\n",
        "if p_value < 0.05:\n",
        "    print(\"The difference in average severity between heparin treated and non-heparin treated patients is statistically significant, the p-value is\", p_value)\n",
        "else:\n",
        "    print(\"The difference in average severity between heparin treated and non-heparin treated patients is not statistically significant, the p-value is\", p_value)"
      ],
      "metadata": {
        "colab": {
          "base_uri": "https://localhost:8080/"
        },
        "id": "IPRElHpqk3-w",
        "outputId": "e1e62d98-1eef-4266-f575-7309d94c256d"
      },
      "execution_count": null,
      "outputs": [
        {
          "output_type": "stream",
          "name": "stdout",
          "text": [
            "The difference in average severity between heparin treated and non-heparin treated patients is statistically significant, the p-value is 0.0018293471787816972\n"
          ]
        }
      ]
    },
    {
      "cell_type": "markdown",
      "source": [
        "Daraus ergibt sich, dass der Schweregrad der Erkrankung bei Patient:innen, welche mit Heparinderivaten behandelt worden sind, signifikant höher ist, als der Patient:innen, welche mit anderen Antikoagulantien behandelt worden sind. Hypothese 2 kann somit widerlegt werden. "
      ],
      "metadata": {
        "id": "aDBTQ2zYlOvL"
      }
    }
  ]
}