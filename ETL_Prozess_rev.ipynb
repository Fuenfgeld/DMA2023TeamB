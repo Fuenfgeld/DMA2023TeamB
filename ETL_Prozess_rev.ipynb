{
  "cells": [
    {
      "cell_type": "markdown",
      "metadata": {
        "colab_type": "text",
        "id": "view-in-github"
      },
      "source": [
        "<a href=\"https://colab.research.google.com/github/Fuenfgeld/DMA2023TeamB/blob/main/ETL_Prozess.ipynb\" target=\"_parent\"><img src=\"https://colab.research.google.com/assets/colab-badge.svg\" alt=\"Open In Colab\"/></a>"
      ]
    },
    {
      "attachments": {},
      "cell_type": "markdown",
      "metadata": {
        "id": "rDF6jnIrk5L8"
      },
      "source": [
        "# Datawarehouse creation and transformation process for data from COVID-19 source database to datawarehouse db\n",
        "\n"
      ]
    },
    {
      "attachments": {},
      "cell_type": "markdown",
      "metadata": {
        "id": "aFINDtv7IOsW"
      },
      "source": [
        "# Importing required libraries and mountig googledrive with scharedfolder location containig source database"
      ]
    },
    {
      "cell_type": "code",
      "execution_count": 1,
      "metadata": {
        "id": "PAtASFg0NjWe",
        "vscode": {
          "languageId": "python"
        }
      },
      "outputs": [],
      "source": [
        "import sqlite3\n",
        "from sqlite3 import Error"
      ]
    },
    {
      "cell_type": "code",
      "execution_count": 2,
      "metadata": {
        "colab": {
          "base_uri": "https://localhost:8080/"
        },
        "id": "f5SVaUDA3QRc",
        "outputId": "70a5f400-8cab-44f9-92b9-539715db21b7",
        "vscode": {
          "languageId": "python"
        }
      },
      "outputs": [
        {
          "name": "stdout",
          "output_type": "stream",
          "text": [
            "Mounted at /content/drive\n"
          ]
        }
      ],
      "source": [
        "# mount drive to access database\n",
        "from google.colab import drive\n",
        "drive.mount(\"/content/drive\")"
      ]
    },
    {
      "attachments": {},
      "cell_type": "markdown",
      "metadata": {
        "id": "hO-KOV0IITRx"
      },
      "source": [
        "# Defining input path for Data form source database and  and output data path for Datawarehouse \n"
      ]
    },
    {
      "cell_type": "code",
      "execution_count": 5,
      "metadata": {
        "id": "uzL1jGs-751J",
        "vscode": {
          "languageId": "python"
        }
      },
      "outputs": [],
      "source": [
        "# type of patients\n",
        "patient_type = \"covid19\""
      ]
    },
    {
      "cell_type": "code",
      "execution_count": 6,
      "metadata": {
        "colab": {
          "base_uri": "https://localhost:8080/",
          "height": 36
        },
        "id": "iik2EG7sTkl3",
        "outputId": "0abca1c4-fedc-4be7-92da-71b59a25b3de",
        "vscode": {
          "languageId": "python"
        }
      },
      "outputs": [
        {
          "data": {
            "application/vnd.google.colaboratory.intrinsic+json": {
              "type": "string"
            },
            "text/plain": [
              "'/content/drive/MyDrive/Gruppe_B/source_covid19_test.db'"
            ]
          },
          "execution_count": 6,
          "metadata": {},
          "output_type": "execute_result"
        }
      ],
      "source": [
        "# path of source database in shared googledrive Folder\n",
        "DB_SOURCE_PATH = f\"/content/drive/Shareddrives/DMA_2023_D/source_dbs/source_covid19_test.db\""
      ]
    },
    {
      "cell_type": "code",
      "execution_count": 7,
      "metadata": {
        "id": "w4oN9QgLI7Cc",
        "vscode": {
          "languageId": "python"
        }
      },
      "outputs": [],
      "source": [
        "# path of datawarehouse with Filename DWH_COVID-19_2023.db\n",
        "DB_DWH_PATH = f\"/content/drive/Shareddrives/DMA_2023_D/source_dbs/DWH_COVID-19_2023.db\""
      ]
    },
    {
      "attachments": {},
      "cell_type": "markdown",
      "metadata": {
        "id": "X_WekES-IlMO"
      },
      "source": [
        "# Creating Datawarehouse "
      ]
    },
    {
      "cell_type": "code",
      "execution_count": 8,
      "metadata": {
        "id": "2SL03VkYnodn",
        "vscode": {
          "languageId": "python"
        }
      },
      "outputs": [],
      "source": [
        "class DB(object):\n",
        "  def __init__(self, db_file):\n",
        "    self.conn = sqlite3.connect(db_file)\n",
        "    self.cur = self.conn.cursor()\n",
        "    self.__init_db()\n",
        "  \n",
        "  def __del__(self):\n",
        "      self.conn.commit()\n",
        "      self.conn.close()\n",
        "\n",
        "  def __init_db(self):\n",
        "    # sql queries to create tables in Datawarehouse \n",
        "\n",
        "    #  sql query to create patients_info table -> Isoliert ID, Geburts-/Todesdatum, Gender\n",
        "    create_patients_info = \"\"\"CREATE TABLE IF NOT EXISTS patients_info (\n",
        "                           Id STRING PRIMARY KEY,\n",
        "                           BIRTHDATE DATE,\n",
        "                           DEATHDATE DATE,\n",
        "                           GENDER STRING,\n",
        "                       );\"\"\"\n",
        "\n",
        "    #  sql query to create disease table -> Disease Table nicht benötigt\n",
        "\n",
        "\n",
        "    # sql query to create condition table -> Encounter ex, Encounters Table nicht gebraucht, Description as Code\n",
        "    create_conditions_info = \"\"\"CREATE TABLE IF NOT EXISTS conditions_info (\n",
        "                           START DATE,\n",
        "                           STOP DATE,\n",
        "                           PATIENT STRING,\n",
        "                           CODE STRING,\n",
        "                           FOREIGN KEY (PATIENT)\n",
        "                              REFERENCES patients_info (Id) \n",
        "                       );\"\"\"\n",
        "\n",
        "    # sql query to create careplans table -> nicht benötigt\n",
        "  \n",
        "\n",
        "    # sql query to create procedures table -> encounter ex, Reduktion auf Pat.ID und SNOMED Code\n",
        "    create_procedures_info = \"\"\"CREATE TABLE IF NOT EXISTS procedures_info (\n",
        "                           DATE DATE,\n",
        "                           PATIENT STRING,\n",
        "                           CODE STRING,\n",
        "                           FOREIGN KEY (PATIENT)\n",
        "                              REFERENCES patients_info (Id) \n",
        "                       );\"\"\"\n",
        "\n",
        "    # sql query to create medications_info table -> DESCRIPTION BELASSEN, DA MULTIPLE Medikamente\n",
        "    create_medications_info = \"\"\"CREATE TABLE IF NOT EXISTS medications_info (\n",
        "                           START DATE,\n",
        "                           STOP DATE,\n",
        "                           PATIENT STRING,\n",
        "                           CODE STRING,\n",
        "                           DESCRIPTION STRING,\n",
        "                           FOREIGN KEY (PATIENT)\n",
        "                              REFERENCES patients_info (Id)   \n",
        "                       );\"\"\"\n",
        "\n",
        "    # sql query to create observations table -> Table nicht benötigt\n",
        "\n",
        "\n",
        "    # sql query to create devices table\n",
        "    create_devices_info = \"\"\"CREATE TABLE IF NOT EXISTS devices_info (\n",
        "                           START DATE,\n",
        "                           STOP DATE,\n",
        "                           PATIENT STRING,\n",
        "                           CODE STRING,\n",
        "                           FOREIGN KEY (PATIENT)\n",
        "                              REFERENCES patients_info (Id)                 \n",
        "                       );\"\"\"\n",
        "   \n",
        "   # sql query to create Imaging_studies table -> ist leer\n",
        "   # zusätzlich sollte ein immunizations table angelegt werden:\n",
        "   # sql query to create immunizations table\n",
        "    create_immunizations_info = \"\"\"CREATE TABLE IF NOT EXISTS devices_info (\n",
        "                           START DATE,\n",
        "                           STOP DATE,\n",
        "                           PATIENT STRING,\n",
        "                           CODE STRING,\n",
        "                           FOREIGN KEY (PATIENT)\n",
        "                              REFERENCES patients_info (Id)                 \n",
        "                       );\"\"\"\n",
        "\n",
        "\n",
        "    create_tables = [create_patients_info, # patient data\n",
        "                     create_conditions_info, create_procedures_info, create_devices_info,  # symptoms and procedure data\n",
        "                     create_medications_info, # medication data\n",
        "                     create_immunizations_info # immunization info\n",
        "                     ]\n",
        "     \n",
        "\n",
        "    if self.conn is not None:\n",
        "      # self.cur.execute(f\"drop table if exists medications_info\")\n",
        "      for query in create_tables:\n",
        "          self.cur.execute(query)\n",
        "    else:\n",
        "      print('Connection to database failed')\n",
        "\n"
      ]
    },
    {
      "cell_type": "markdown",
      "metadata": {
        "id": "VUIHYzr2IxMl"
      },
      "source": [
        "#ETL/ELT (Extract, transform, load )"
      ]
    },
    {
      "cell_type": "code",
      "execution_count": 9,
      "metadata": {
        "id": "tBMOAjmPReGG",
        "vscode": {
          "languageId": "python"
        }
      },
      "outputs": [],
      "source": [
        "# exporting queries\n",
        "class SqlQuery:\n",
        "  def __init__(self, source_table, column_names, sink_table):\n",
        "    self.source_table = source_table\n",
        "    self.column_numbers = len(column_names)\n",
        "    self.column_names = ', '.join(column_names)\n",
        "    self.sink_table = sink_table\n",
        "\n",
        "  def extract_query(self):\n",
        "    return 'SELECT ' + self.column_names + ' FROM ' + self.source_table \n",
        "\n",
        "  def load_query(self):\n",
        "    values_str = '?,' * self.column_numbers\n",
        "    # print(\"*****\", values_str, column_names, column_numbers)\n",
        "    values_str = values_str[:-1]\n",
        "    return 'INSERT OR REPLACE INTO ' + self.sink_table + ' VALUES (' + values_str + ')'\n",
        "\n",
        "    # return 'INSERT INTO ' + self.sink_table + '(' + self.column_names + ') VALUES (' + values_str + ')'\n",
        "  \n",
        "\n"
      ]
    },
    {
      "cell_type": "code",
      "execution_count": 10,
      "metadata": {
        "id": "FtEGoZc_PU5-",
        "vscode": {
          "languageId": "python"
        }
      },
      "outputs": [],
      "source": [
        "def etl(query, source_cnx, target_cnx):\n",
        "  # extract data from source db\n",
        "  source_cursor = source_cnx.cursor()\n",
        "  source_cursor.execute(query.extract_query())\n",
        "  data = source_cursor.fetchall()\n",
        "  source_cursor.close()\n",
        "\n",
        "  # load data into warehouse db\n",
        "  if data:\n",
        "    target_cursor = target_cnx.cursor()\n",
        "    target_cursor.executemany(query.load_query(), data)\n",
        "    print('data loaded to warehouse db') \n",
        "    target_cnx.commit()\n",
        "    target_cursor.close()\n",
        "  else:\n",
        "    print('data is empty')\n",
        "\n",
        "\n",
        "def etl_process(queries, target_cnx, db_source):\n",
        "  \"\"\"\n",
        "  queries: list\n",
        "        a list of queries\n",
        "  target_cnx: SQLite connection\n",
        "  db_source: str\n",
        "        path of source database      \n",
        "  \n",
        "  \"\"\"  \n",
        "  # establish source db connection\n",
        "  try:\n",
        "    source_cnx = sqlite3.connect(db_source)\n",
        "  except Error as err:\n",
        "    print(err)\n",
        "  \n",
        "  # loop through sql queries\n",
        "  for query in etl_queue:\n",
        "    etl(query, source_cnx, target_cnx)\n",
        "    \n",
        "  # close the source db connection\n",
        "  source_cnx.close()"
      ]
    },
    {
      "cell_type": "code",
      "execution_count": 11,
      "metadata": {
        "id": "GB8GrFuLGRWb",
        "vscode": {
          "languageId": "python"
        }
      },
      "outputs": [],
      "source": [
        "# create Datawarehouse\n",
        "dwh_db = DB(DB_DWH_PATH)"
      ]
    },
    {
      "cell_type": "code",
      "execution_count": 12,
      "metadata": {
        "colab": {
          "base_uri": "https://localhost:8080/"
        },
        "id": "Lc28YPjOOpb0",
        "outputId": "23b5ab6f-27f8-45a7-bbdd-50666a10a8db",
        "vscode": {
          "languageId": "python"
        }
      },
      "outputs": [
        {
          "name": "stdout",
          "output_type": "stream",
          "text": [
            "starting etl\n"
          ]
        }
      ],
      "source": [
        "print('starting etl')   \n",
        "# list for iteration\n",
        "etl_queue = []\n",
        "\n",
        "# patient table\n",
        "patients_columns = ['Id', 'BIRTHDATE', 'DEATHDATE', 'GENDER']\n",
        "sql_query_patients = SqlQuery(\"patients\", patients_columns, \"patients_info\")\n",
        "etl_queue.append(sql_query_patients)\n",
        "\n",
        "# symptoms and procedures table\n",
        "conditions_columns = ['START', 'STOP', 'PATIENT', 'CODE']\n",
        "sql_query_conditions = SqlQuery(\"conditions\", conditions_columns, \"conditions_info\")\n",
        "etl_queue.append(sql_query_conditions)\n",
        "\n",
        "procedures_columns = ['DATE', 'PATIENT', 'CODE']\n",
        "sql_query_procedures = SqlQuery(\"procedures\", procedures_columns, \"procedures_info\")\n",
        "etl_queue.append(sql_query_procedures)\n",
        "\n",
        "devices_columns = ['START', 'STOP', 'PATIENT', 'CODE']\n",
        "sql_query_devices = SqlQuery(\"devices\", devices_columns, \"devices_info\")\n",
        "etl_queue.append(sql_query_devices)\n",
        "\n",
        "# medications table\n",
        "medications_columns = ['START', 'STOP', 'PATIENT', 'CODE', 'DESCRIPTION']\n",
        "sql_query_medications = SqlQuery(\"medications\", medications_columns, \"medications_info\")\n",
        "etl_queue.append(sql_query_medications)\n",
        "\n",
        "# immunizations table\n",
        "immunizations_columns = ['START', 'STOP', 'PATIENT', 'CODE']\n",
        "sql_query_careplans = SqlQuery(\"careplans\", careplans_columns, \"careplans_info\")\n",
        "etl_queue.append(sql_query_careplans)\n",
        "\n",
        "# list for iteration\n",
        "# etl_queue"
      ]
    },
    {
      "cell_type": "code",
      "execution_count": 13,
      "metadata": {
        "colab": {
          "base_uri": "https://localhost:8080/"
        },
        "id": "nzLfaWkfo3iC",
        "outputId": "a7cd9004-ca24-47d3-b5cf-e046bd3fa8c8",
        "vscode": {
          "languageId": "python"
        }
      },
      "outputs": [
        {
          "name": "stdout",
          "output_type": "stream",
          "text": [
            "data loaded to warehouse db\n",
            "data is empty\n",
            "data loaded to warehouse db\n",
            "data loaded to warehouse db\n",
            "data loaded to warehouse db\n",
            "data loaded to warehouse db\n",
            "data loaded to warehouse db\n",
            "data loaded to warehouse db\n",
            "data is empty\n"
          ]
        }
      ],
      "source": [
        "# establish connection for target database (sql-server)\n",
        "target_cnx = dwh_db.conn\n",
        "etl_process(etl_queue, target_cnx, DB_SOURCE_PATH)"
      ]
    },
    {
      "cell_type": "code",
      "execution_count": 14,
      "metadata": {
        "id": "IB9oD761EGQx",
        "vscode": {
          "languageId": "python"
        }
      },
      "outputs": [],
      "source": [
        "target_cnx.commit()"
      ]
    },
    {
      "cell_type": "code",
      "execution_count": null,
      "metadata": {
        "id": "tBYWvkuKEGeS",
        "vscode": {
          "languageId": "python"
        }
      },
      "outputs": [],
      "source": [
        "# target_cnx.close()"
      ]
    },
    {
      "cell_type": "code",
      "execution_count": 15,
      "metadata": {
        "id": "0RCROkRXNexD",
        "vscode": {
          "languageId": "python"
        }
      },
      "outputs": [],
      "source": [
        "# # check list of tables\n",
        "dwh_cursor = target_cnx.cursor()\n",
        "# dwh_cursor.execute(\"SELECT name FROM sqlite_master WHERE type='table';\")\n",
        "# print(dwh_cursor.fetchall())\n"
      ]
    },
    {
      "cell_type": "code",
      "execution_count": 16,
      "metadata": {
        "colab": {
          "base_uri": "https://localhost:8080/"
        },
        "id": "sqkGj0mDK_V1",
        "outputId": "004999a7-1075-4817-de54-c6cd13956e7a",
        "vscode": {
          "languageId": "python"
        }
      },
      "outputs": [
        {
          "data": {
            "text/plain": [
              "[(0, 'Id', 'STRING', 0, None, 1),\n",
              " (1, 'BIRTHDATE', 'DATE', 0, None, 0),\n",
              " (2, 'DEATHDATE', 'DATE', 0, None, 0),\n",
              " (3, 'SSN', 'STRING', 0, None, 0),\n",
              " (4, 'DRIVERS', 'STRING', 0, None, 0),\n",
              " (5, 'PASSPORT', 'STRING', 0, None, 0),\n",
              " (6, 'PREFIX', 'STRING', 0, None, 0),\n",
              " (7, 'FIRST', 'STRING', 0, None, 0),\n",
              " (8, 'LAST', 'STRING', 0, None, 0),\n",
              " (9, 'SUFFIX', 'STRING', 0, None, 0),\n",
              " (10, 'MAIDEN', 'STRING', 0, None, 0),\n",
              " (11, 'MARITAL', 'STRING', 0, None, 0),\n",
              " (12, 'RACE', 'STRING', 0, None, 0),\n",
              " (13, 'ETHNICITY', 'STRING', 0, None, 0),\n",
              " (14, 'GENDER', 'STRING', 0, None, 0),\n",
              " (15, 'BIRTHPLACE', 'STRING', 0, None, 0),\n",
              " (16, 'ADDRESS', 'STRING', 0, None, 0),\n",
              " (17, 'CITY', 'STRING', 0, None, 0),\n",
              " (18, 'STATE', 'STRING', 0, None, 0),\n",
              " (19, 'COUNTRY', 'STRING', 0, None, 0),\n",
              " (20, 'ZIP', 'STRING', 0, None, 0),\n",
              " (21, 'LAT', 'INTEGER', 0, None, 0),\n",
              " (22, 'LON', 'INTEGER', 0, None, 0),\n",
              " (23, 'HEALTHCARE_EXPENSES', 'INTEGER', 0, None, 0),\n",
              " (24, 'HEALTHCARE_COVERAGE', 'INTEGER', 0, None, 0)]"
            ]
          },
          "execution_count": 16,
          "metadata": {},
          "output_type": "execute_result"
        }
      ],
      "source": [
        "# # check columns in a table\n",
        "dwh_cursor.execute('PRAGMA table_info(' + \"patients_info\" + ');')\n",
        "dwh_cursor.fetchall()"
      ]
    },
    {
      "cell_type": "code",
      "execution_count": 17,
      "metadata": {
        "colab": {
          "base_uri": "https://localhost:8080/"
        },
        "id": "Rvpq5QEYfZmJ",
        "outputId": "6dd12963-edcb-4c07-d11d-eb48b635b598",
        "vscode": {
          "languageId": "python"
        }
      },
      "outputs": [
        {
          "name": "stdout",
          "output_type": "stream",
          "text": [
            "('2f114e21-8b95-e9eb-2e9e-4b950b059cfa', '2002-05-05', 'Terisa250', 'Kreiger457', '', 'F')\n",
            "('2812f4fc-6aba-0033-728b-7e569bb8adcc', '1942-05-24', 'Romeo514', 'Morar593', 'M', 'M')\n",
            "('9b1a203a-6368-49a5-0c79-45c32729bc17', '2013-06-15', 'Jamaal34', 'Hessel84', '', 'M')\n",
            "('52a250a9-24e4-ec9b-91d6-c38cf1b10fc0', '1997-11-16', 'Kenya524', 'Leuschke194', '', 'F')\n",
            "('ad5525c0-fdab-94dc-018f-d7209c72bdef', '1965-08-28', 'Clark193', 'Little434', 'M', 'M')\n",
            "('7f30313f-98e9-2cc2-68a5-6f9973f9ad5a', '1974-12-06', 'Simona661', 'Green467', 'M', 'F')\n",
            "('f7dddcba-380e-7fd4-20b0-da086ce5dc3a', '1991-08-19', 'Moira454', 'Quitzon246', 'M', 'F')\n",
            "('21e040b3-3c29-6042-1dba-da47dee67c18', '1952-12-25', 'Guillermo498', 'Cepeda588', 'M', 'M')\n",
            "('b9f7feb0-45ac-55ed-4ee2-be12ad599416', '1980-02-24', 'Geralyn932', 'Steuber698', 'S', 'F')\n",
            "('2b2d8855-c163-3838-a719-995a3cefca33', '1992-10-19', 'Gracia333', 'Lockman863', 'M', 'F')\n"
          ]
        }
      ],
      "source": [
        "dwh_cursor.execute(\"SELECT Id, BIRTHDATE, GENDER from patients_info\")\n",
        "rows = dwh_cursor.fetchall()\n",
        "for row in rows[:10]:\n",
        "  print(row)"
      ]
    },
    {
      "cell_type": "code",
      "execution_count": 18,
      "metadata": {
        "colab": {
          "base_uri": "https://localhost:8080/"
        },
        "id": "B1G-fY9FiSBU",
        "outputId": "682e71f3-d6ab-486f-bd7a-2e1e2e1874f3",
        "vscode": {
          "languageId": "python"
        }
      },
      "outputs": [
        {
          "name": "stdout",
          "output_type": "stream",
          "text": [
            "('52a250a9-24e4-ec9b-91d6-c38cf1b10fc0', 261352009, 'Face mask (physical object)', 4.67)\n",
            "('2f114e21-8b95-e9eb-2e9e-4b950b059cfa', 261352009, 'Face mask (physical object)', 3.1)\n",
            "('2812f4fc-6aba-0033-728b-7e569bb8adcc', 261352009, 'Face mask (physical object)', 1.33)\n",
            "('7f30313f-98e9-2cc2-68a5-6f9973f9ad5a', 261352009, 'Face mask (physical object)', 3.56)\n",
            "('9b1a203a-6368-49a5-0c79-45c32729bc17', 261352009, 'Face mask (physical object)', 1.95)\n",
            "('ad5525c0-fdab-94dc-018f-d7209c72bdef', 261352009, 'Face mask (physical object)', 2.59)\n",
            "('2812f4fc-6aba-0033-728b-7e569bb8adcc', 180325003, 'Electrical cardioversion', 44895.87)\n",
            "('ad5525c0-fdab-94dc-018f-d7209c72bdef', 399208008, 'Plain chest X-ray (procedure)', 6211.16)\n",
            "('ad5525c0-fdab-94dc-018f-d7209c72bdef', 371908008, 'Oxygen administration by mask (procedure)', 516.65)\n",
            "('ad5525c0-fdab-94dc-018f-d7209c72bdef', 431182000, 'Placing subject in prone position (procedure)', 516.65)\n"
          ]
        }
      ],
      "source": [
        "dwh_cursor.execute(\"SELECT PATIENT, CODE from procedures_info\")\n",
        "rows = dwh_cursor.fetchall()\n",
        "for row in rows[:10]:\n",
        "  print(row)"
      ]
    }
  ],
  "metadata": {
    "colab": {
      "include_colab_link": true,
      "provenance": []
    },
    "kernelspec": {
      "display_name": "Python 3",
      "name": "python3"
    }
  },
  "nbformat": 4,
  "nbformat_minor": 0
}
