{
  "nbformat": 4,
  "nbformat_minor": 0,
  "metadata": {
    "colab": {
      "provenance": [],
      "toc_visible": true,
      "authorship_tag": "ABX9TyPqowgJsfExrPFp292zCIV5",
      "include_colab_link": true
    },
    "kernelspec": {
      "name": "python3",
      "display_name": "Python 3"
    },
    "language_info": {
      "name": "python"
    }
  },
  "cells": [
    {
      "cell_type": "markdown",
      "metadata": {
        "id": "view-in-github",
        "colab_type": "text"
      },
      "source": [
        "<a href=\"https://colab.research.google.com/github/Fuenfgeld/DMA2023TeamB/blob/main/ETL_and_Implementing_DWH.ipynb\" target=\"_parent\"><img src=\"https://colab.research.google.com/assets/colab-badge.svg\" alt=\"Open In Colab\"/></a>"
      ]
    },
    {
      "cell_type": "markdown",
      "source": [
        "# Erstellung eines Datawarehouse für das ANTICOVIS-Projekts\n",
        "---\n",
        "\n",
        "## Einleitung\n",
        "Mit diesem Skript wird ein Datenwarehaouse(DWH) erstellt um ein effizientes und zielgerichtetes Antworten der Forschungsfragestellung zu ermöglichen. Zudem gewärleistet das Datenwarehouse eine verbesserte Datenqualität sowie  eine zuverlässige Datenkonsistenz und Sicherheit.\n",
        "\n",
        "Das hier erzeugte Datawarehouse wird nach einem Star-schema konstruiert. Yunächst werden alle benötigten DWH Tabellen erzeugt. Dann werden die Dimensionstabellen und dann die Faktentabelle mit Daten aus den Stagingtabellen der Anticovis Datenbank nach einem ETL Prozess und Pseudonymisierung der sensiblen Daten befüllt. \n",
        "\n",
        "\n",
        "---\n",
        "## benötigte python Module werden geladen\n"
      ],
      "metadata": {
        "id": "Pu_0HR4cXoUb"
      }
    },
    {
      "cell_type": "code",
      "execution_count": 33,
      "metadata": {
        "colab": {
          "base_uri": "https://localhost:8080/"
        },
        "id": "id2DaZNSXeby",
        "outputId": "e5c50487-4e87-4636-c028-a747e104763c"
      },
      "outputs": [
        {
          "output_type": "stream",
          "name": "stdout",
          "text": [
            "Looking in indexes: https://pypi.org/simple, https://us-python.pkg.dev/colab-wheels/public/simple/\n",
            "Requirement already satisfied: pandasql in /usr/local/lib/python3.8/dist-packages (0.7.3)\n",
            "Requirement already satisfied: pandas in /usr/local/lib/python3.8/dist-packages (from pandasql) (1.3.5)\n",
            "Requirement already satisfied: sqlalchemy in /usr/local/lib/python3.8/dist-packages (from pandasql) (1.4.46)\n",
            "Requirement already satisfied: numpy in /usr/local/lib/python3.8/dist-packages (from pandasql) (1.21.6)\n",
            "Requirement already satisfied: python-dateutil>=2.7.3 in /usr/local/lib/python3.8/dist-packages (from pandas->pandasql) (2.8.2)\n",
            "Requirement already satisfied: pytz>=2017.3 in /usr/local/lib/python3.8/dist-packages (from pandas->pandasql) (2022.7.1)\n",
            "Requirement already satisfied: greenlet!=0.4.17 in /usr/local/lib/python3.8/dist-packages (from sqlalchemy->pandasql) (2.0.2)\n",
            "Requirement already satisfied: six>=1.5 in /usr/local/lib/python3.8/dist-packages (from python-dateutil>=2.7.3->pandas->pandasql) (1.15.0)\n"
          ]
        }
      ],
      "source": [
        "import sqlite3\n",
        "from sqlite3 import Error\n",
        "import pandas\n",
        "from pandas import DataFrame\n",
        "import numpy as np\n",
        "!pip install pandasql\n",
        "from pandasql import sqldf\n",
        "import random\n",
        "import string"
      ]
    },
    {
      "cell_type": "markdown",
      "source": [
        "##Angaben zur systemumgebung und den verweendeten python Module"
      ],
      "metadata": {
        "id": "0jdLDOnqmSWZ"
      }
    },
    {
      "cell_type": "code",
      "source": [
        "# Python-Version\n",
        "print(\"Python-Version:\")\n",
        "!python --version\n",
        "\n",
        "# sqlite3-Version\n",
        "print(\"\\n\" + \"sqlite3-Version:\")\n",
        "sqlite3.sqlite_version\n",
        "\n",
        "# Pandas-Version\n",
        "print(\"\\n\" + \"Pandas-Version:\")\n",
        "print(pandas.__version__)\n",
        "\n",
        "# numpy-Version\n",
        "print(\"\\n\" + \"numpy-Version:\")\n",
        "print(np. __version__)"
      ],
      "metadata": {
        "id": "nldLm2o6mbTe",
        "outputId": "e1fb6319-185a-443e-ad23-a58f9b84cee8",
        "colab": {
          "base_uri": "https://localhost:8080/"
        }
      },
      "execution_count": 34,
      "outputs": [
        {
          "output_type": "stream",
          "name": "stdout",
          "text": [
            "Python-Version:\n",
            "Python 3.8.10\n",
            "\n",
            "sqlite3-Version:\n",
            "\n",
            "Pandas-Version:\n",
            "1.3.5\n",
            "\n",
            "numpy-Version:\n",
            "1.21.6\n"
          ]
        }
      ]
    },
    {
      "cell_type": "markdown",
      "source": [
        "#Vorbereitung\n",
        "Montieren des google Drive\n",
        "\n",
        "Festlegen des Pfads zur Anticovis Quelldatenbank.\n",
        "\n",
        "Festlegen des Pfads zum Ablageort des in diesem Skript erzeugten DWH."
      ],
      "metadata": {
        "id": "bftPkzPUmnK_"
      }
    },
    {
      "cell_type": "code",
      "source": [
        "from google.colab import drive\n",
        "drive.mount('/content/drive')\n",
        "\n",
        "# path of Anticovis quelldatenbank\n",
        "DB_SOURCE_PATH = f\"/content/drive/Shareddrives/DMA_2023_D/DMA2023TeamB/source_dbs/Source_covid19_Staging.db\"\n",
        "\n",
        "# path of datawarehouse\n",
        "DB_DWH_PATH = f\"/content/drive/Shareddrives/DMA_2023_D/DMA2023TeamB/source_dbs/DWH_covid19.db\""
      ],
      "metadata": {
        "id": "MIdSHhMfcwMA",
        "colab": {
          "base_uri": "https://localhost:8080/"
        },
        "outputId": "ee4a2b89-483a-4911-9795-9171327e1a32"
      },
      "execution_count": 35,
      "outputs": [
        {
          "output_type": "stream",
          "name": "stdout",
          "text": [
            "Drive already mounted at /content/drive; to attempt to forcibly remount, call drive.mount(\"/content/drive\", force_remount=True).\n"
          ]
        }
      ]
    },
    {
      "cell_type": "markdown",
      "source": [
        "# Erzeugung des DWH\n",
        "\n",
        "---\n",
        "\n",
        "\n",
        "\n",
        "##Definition eines DWH ObjeKt welsches die benötigten DWH Tabellen enthält"
      ],
      "metadata": {
        "id": "-3J5Ijh7ncwD"
      }
    },
    {
      "cell_type": "code",
      "source": [
        "class DB(object):\n",
        "  def __init__(self, db_file):\n",
        "    self.conn = sqlite3.connect(db_file)\n",
        "    self.cur = self.conn.cursor()\n",
        "    self.__init_db()\n",
        "  \n",
        "  def __del__(self):\n",
        "      self.conn.commit()\n",
        "      self.conn.close()\n",
        "\n",
        "  def __init_db(self):\n",
        "## sql queries to create tables in Datawarehouse \n",
        "\n",
        "#  sql query to create d_conditions table\n",
        "    create_d_conditions = \"\"\"CREATE TABLE IF NOT EXISTS d_conditions (\n",
        "                           CONDITIONS_CODE STRING PRIMARY KEY,\n",
        "                           CONDITIONS_DESCRIPTION STRING\n",
        "                       );\"\"\"\n",
        "\n",
        "#  sql query to create d_devices table\n",
        "    create_d_devices = \"\"\"CREATE TABLE IF NOT EXISTS d_devices (\n",
        "                            DEVICES_CODE STRING PRIMARY KEY,\n",
        "                            DEVICES_DESCRIPTION STRING\n",
        "                           );\"\"\"\n",
        "\n",
        "#  sql query to create d_medications table\n",
        "    create_d_medications = \"\"\"CREATE TABLE IF NOT EXISTS d_medications (\n",
        "                            MEDICATIONS_CODE STRING PRIMARY KEY,\n",
        "                            MEDICATIONS_DESCRIPTION STRING\n",
        "                           );\"\"\"\n",
        "\n",
        "#  sql query to create d_procedures table\n",
        "    create_d_procedures = \"\"\"CREATE TABLE IF NOT EXISTS d_procedures (\n",
        "                            PROCEDURES_CODE STRING PRIMARY KEY,\n",
        "                            PROCEDURES_DESCRIPTION STRING\n",
        "                           );\"\"\"\n",
        "\n",
        "#  sql query to create d_patients table\n",
        "    create_d_patients = \"\"\"CREATE TABLE IF NOT EXISTS d_patients (\n",
        "                            PATIENTS_ID STRING PRIMARY KEY,\n",
        "                            PATIENTS_BIRTHDATE DATE,\n",
        "                            PATIENTS_DEATHDATE DATE,\n",
        "                            PATIENTS_GENDER STRING\n",
        "                           );\"\"\" \n",
        "\n",
        "# sql query to create F_ANTICOVIS table\n",
        "    create_F_ANTICOVIS = \"\"\"CREATE TABLE IF NOT EXISTS F_ANTICOVIS (\n",
        "                           PATIENTS_ID STRING,\n",
        "                           CONDITIONS_CODE STRING,\n",
        "                           PROCEDURES_CODE STRING,\n",
        "                           DEVICES_CODE STRING,\n",
        "                           MEDICATIONS_CODE STRING,\n",
        "                           MEDICATION_GRADING INT DEFAULT '0', \n",
        "                           COURSE_OF_DESEASE INT DEDAULT '0',\n",
        "                           FOREIGN KEY (PATIENTS_ID)\n",
        "                              REFERENCES d_patients (PATIENTS_ID),\n",
        "                           FOREIGN KEY (CONDITIONS_CODE)\n",
        "                              REFERENCES d_conditions (CONDITIONS_CODE),\n",
        "                           FOREIGN KEY (PROCEDURES_CODE)\n",
        "                              REFERENCES d_procedures (PROCEDURES_CODE),\n",
        "                           FOREIGN KEY (DEVICES_CODE)\n",
        "                              REFERENCES d_devices(DEVICES_CODE),\n",
        "                           FOREIGN KEY (MEDICATIONS_CODE)\n",
        "                              REFERENCES d_medications (MEDICATIONS_CODE)\n",
        "                       );\"\"\"\n",
        "    create_tables =  [create_d_conditions,# conditions dimension\n",
        "                      create_d_devices,# devices dimension\n",
        "                      create_d_medications,# medications dimension\n",
        "                      create_d_procedures, # procedures dimension\n",
        "                      create_d_patients, #patients dimension\n",
        "                      create_F_ANTICOVIS #Factstable\n",
        "                      ]\n",
        "\n",
        "    if self.conn is not None:\n",
        "      for query in create_tables:\n",
        "          self.cur.execute(query)\n",
        "    else:\n",
        "      print('Connection to database failed')"
      ],
      "metadata": {
        "id": "Zz1CPX1Rd0G3"
      },
      "execution_count": 36,
      "outputs": []
    },
    {
      "cell_type": "markdown",
      "source": [
        "## Definition der für den ETL prozess benötigten Funktionen"
      ],
      "metadata": {
        "id": "03HhV7GvlNrm"
      }
    },
    {
      "cell_type": "code",
      "source": [
        "# exporting queries\n",
        "class SqlQuery:\n",
        "  def __init__(self, source_table, column_names, sink_table):\n",
        "    self.source_table = source_table\n",
        "    self.column_numbers = len(column_names)\n",
        "    self.column_names = ', '.join(column_names)\n",
        "    self.sink_table = sink_table\n",
        "\n",
        "  def extract_query(self):\n",
        "    return 'SELECT ' + self.column_names + ' FROM ' + self.source_table \n",
        "\n",
        "  def load_query(self):\n",
        "    values_str = '?,' * self.column_numbers\n",
        "    values_str = values_str[:-1]\n",
        "    return 'INSERT OR REPLACE INTO ' + self.sink_table + ' VALUES (' + values_str + ')'\n",
        "\n",
        "    # return 'INSERT INTO ' + self.sink_table + '(' + self.column_names + ') VALUES (' + values_str + ')'\n",
        "  \n",
        "\n"
      ],
      "metadata": {
        "id": "-Wm_tGyGlCui"
      },
      "execution_count": 37,
      "outputs": []
    },
    {
      "cell_type": "code",
      "source": [
        "def etl(query, source_cnx, target_cnx):\n",
        "  # extract data from source db\n",
        "  source_cursor = source_cnx.cursor()\n",
        "  source_cursor.execute(query.extract_query())\n",
        "  data = source_cursor.fetchall()\n",
        "  source_cursor.close()\n",
        "\n",
        "  # load data into warehouse db\n",
        "  if data:\n",
        "    target_cursor = target_cnx.cursor()\n",
        "    target_cursor.executemany(query.load_query(), data)\n",
        "    print('data loaded to warehouse db') \n",
        "    target_cnx.commit()\n",
        "    target_cursor.close()\n",
        "  else:\n",
        "    print('data is empty')\n",
        "\n",
        "\n",
        "def etl_process(queries, target_cnx, db_source):\n",
        "  \"\"\"\n",
        "  queries: list\n",
        "        a list of queries\n",
        "  target_cnx: SQLite connection\n",
        "  db_source: str\n",
        "        path of source database      \n",
        "  \n",
        "  \"\"\"  \n",
        "  # establish source db connection\n",
        "  try:\n",
        "    source_cnx = sqlite3.connect(db_source)\n",
        "  except Error as err:\n",
        "    print(err)\n",
        "  \n",
        "  # loop through sql queries\n",
        "  for query in etl_queue:\n",
        "    etl(query, source_cnx, target_cnx)\n",
        "    \n",
        "  # close the source db connection\n",
        "  source_cnx.close()"
      ],
      "metadata": {
        "id": "oJ5OK7CNlZ-d"
      },
      "execution_count": 38,
      "outputs": []
    },
    {
      "cell_type": "markdown",
      "source": [
        "## Erzeugen des DWH"
      ],
      "metadata": {
        "id": "at_n_42qpCex"
      }
    },
    {
      "cell_type": "code",
      "source": [
        "# create Datawarehouse\n",
        "dwh_db = DB(DB_DWH_PATH)"
      ],
      "metadata": {
        "id": "0cxGY2mFleT-"
      },
      "execution_count": 39,
      "outputs": []
    },
    {
      "cell_type": "markdown",
      "source": [
        "#TEST"
      ],
      "metadata": {
        "id": "H_7DWYEvpKZ_"
      }
    },
    {
      "cell_type": "code",
      "source": [
        "# # check list of tables\n",
        "target_cnx = dwh_db.conn\n",
        "dwh_cursor = target_cnx.cursor()\n",
        "dwh_cursor.execute(\"SELECT name FROM sqlite_master WHERE type='table';\")\n",
        "#dwh_cursor.execute('PRAGMA table_info(' + \"F_ANTICOVIS\" + ');')\n",
        "print(dwh_cursor.fetchall())"
      ],
      "metadata": {
        "colab": {
          "base_uri": "https://localhost:8080/"
        },
        "id": "48ggLPBovZ31",
        "outputId": "624a17ae-51fa-4c69-c5d4-51be8aa9932a"
      },
      "execution_count": 40,
      "outputs": [
        {
          "output_type": "stream",
          "name": "stdout",
          "text": [
            "[('d_conditions',), ('d_devices',), ('d_medications',), ('d_procedures',), ('d_patients',), ('F_ANTICOVIS',)]\n"
          ]
        }
      ]
    },
    {
      "cell_type": "markdown",
      "source": [
        "#ETL prozess"
      ],
      "metadata": {
        "id": "BKHfPdwkndTY"
      }
    },
    {
      "cell_type": "code",
      "source": [
        "print('starting etl')   \n",
        "# list for iteration\n",
        "etl_queue = []\n",
        "\n",
        "# d_conditions table\n",
        "conditions_columns = ['CONDITIONS_CODE', 'CONDITIONS_DESCRIPTION']\n",
        "sql_query_conditions = SqlQuery(\"S_CONDITIONS\", conditions_columns, \"d_conditions\")\n",
        "etl_queue.append(sql_query_conditions)\n",
        "\n",
        "# d_devices table\n",
        "devices_columns = ['DEVICES_CODE', 'DEVICES_DESCRIPTION']\n",
        "sql_query_devices = SqlQuery(\"S_DEVICES\", devices_columns, \"d_devices\")\n",
        "etl_queue.append(sql_query_devices)\n",
        "\n",
        "# d_medications table\n",
        "medications_columns = ['MEDICATIONS_CODE','MEDICATIONS_DESCRIPTION']\n",
        "sql_query_medications = SqlQuery(\"S_MEDICATIONS\", medications_columns, \"d_medications\")\n",
        "etl_queue.append(sql_query_medications)\n",
        "\n",
        "# d_procedures table\n",
        "procedures_columns = ['PROCEDURES_CODE', 'PROCEDURES_DESCRIPTION']\n",
        "sql_query_procedures = SqlQuery(\"S_PROCEDURES\", procedures_columns, \"d_procedures\")\n",
        "etl_queue.append(sql_query_procedures)\n",
        "\n",
        "\n",
        "# d_patients table\n",
        "patients_columns = ['PATIENTS_ID', 'PATIENTS_BIRTHDATE', 'PATIENTS_DEATHDATE', 'PATIENTS_GENDER']\n",
        "sql_query_patients = SqlQuery(\"S_PATIENTS\", patients_columns, \"d_patients\")\n",
        "etl_queue.append(sql_query_patients)\n",
        "\n",
        "\n",
        "# list for iteration\n",
        "# etl_queue"
      ],
      "metadata": {
        "colab": {
          "base_uri": "https://localhost:8080/"
        },
        "id": "04uxBwK6n-o0",
        "outputId": "b8a85214-01dd-4c7c-b26c-ea26bd65fe70"
      },
      "execution_count": 41,
      "outputs": [
        {
          "output_type": "stream",
          "name": "stderr",
          "text": [
            "Exception ignored in: <function DB.__del__ at 0x7facd47ea8b0>\n",
            "Traceback (most recent call last):\n",
            "  File \"<ipython-input-4-6bcd47455d51>\", line 8, in __del__\n",
            "sqlite3.ProgrammingError: SQLite objects created in a thread can only be used in that same thread. The object was created in thread id 140380955817792 and this is thread id 140380284606208.\n"
          ]
        },
        {
          "output_type": "stream",
          "name": "stdout",
          "text": [
            "starting etl\n"
          ]
        }
      ]
    },
    {
      "cell_type": "markdown",
      "source": [
        "##Befüllend der 'd' Dimensionstabellen"
      ],
      "metadata": {
        "id": "jQVvt7Xzt_4g"
      }
    },
    {
      "cell_type": "code",
      "source": [
        "# establish connection for target database \n",
        "target_cnx = dwh_db.conn\n",
        "etl_process(etl_queue, target_cnx, DB_SOURCE_PATH)"
      ],
      "metadata": {
        "colab": {
          "base_uri": "https://localhost:8080/"
        },
        "id": "47BForxguEV-",
        "outputId": "26fad6b6-e1ef-4483-a239-0c268e42a88e"
      },
      "execution_count": 42,
      "outputs": [
        {
          "output_type": "stream",
          "name": "stdout",
          "text": [
            "data loaded to warehouse db\n",
            "data loaded to warehouse db\n",
            "data loaded to warehouse db\n",
            "data loaded to warehouse db\n",
            "data loaded to warehouse db\n"
          ]
        }
      ]
    },
    {
      "cell_type": "markdown",
      "source": [
        "## Erzeugen eines Dataframes für das befüllen der ANTICOVIS 'F' Faktentabelle"
      ],
      "metadata": {
        "id": "mLrUc8nGp-u3"
      }
    },
    {
      "cell_type": "code",
      "source": [
        "# selecting relevant data for Staging DB as a Facts_Table DataFrame\n",
        "connctino_to_Staging_DB = sqlite3.connect(DB_SOURCE_PATH)\n",
        "conn = connctino_to_Staging_DB\n",
        "Staging_DB_Cursor = conn.cursor()\n",
        "\n",
        "Staging_DB_Cursor.execute (\"\"\" SELECT SSS_patients.patients_ID,\n",
        "                                      SSS_conditions.conditions_code, \n",
        "                                      SSS_procedures.procedures_code, \n",
        "                                      SSS_devices.devices_code, \n",
        "                                      SSS_medications.medications_code \n",
        "                               \n",
        "                               FROM SSS_PATIENTS \n",
        "                                    LEFT JOIN SSS_CONDITIONS \n",
        "                                           ON SSS_patients.patients_ID = SSS_conditions.conditions_patient_ID\n",
        "                                    LEFT JOIN SSS_PROCEDURES \n",
        "                                           ON SSS_patients.patients_ID = SSS_procedures.procedures_patient_ID\n",
        "                                    LEFT JOIN SSS_DEVICES \n",
        "                                           ON SSS_patients.patients_ID = SSS_devices.devices_patient_ID\n",
        "                                    LEFT JOIN SSS_MEDICATIONS\n",
        "                                           ON SSS_patients.patients_ID = SSS_medications.medications_patient_ID\n",
        "                                  \"\"\")\n",
        "DF_of_Facts_Table = DataFrame(Staging_DB_Cursor.fetchall())\n",
        "\n",
        "# renaming culums in Dataframe\n",
        "DF_of_Facts_Table.columns =['patients_ID', 'conditions_code','procedures_code', 'devices_code', 'medications_code']\n",
        "# remooving duplicates from Dataframe\n",
        "DF_of_Facts_Table.drop_duplicates()\n",
        "conn.close()\n",
        "\n",
        "# creating new table columns for medication_grading and course_of_desease grading\n",
        "DF_of_Facts_Table ['medication_grading'] = '0'\n",
        "DF_of_Facts_Table ['course_of_Desease'] = '0'\n",
        "# Replacing NaN\n",
        "DF_of_Facts_Table = DF_of_Facts_Table.fillna(0)\n",
        "\n",
        "\n",
        "# defininf and implemening course_of_desease classes\n",
        "\n",
        "grades_mapping = {\n",
        "386661006: 1,\n",
        "25064002:\t1,\n",
        "36955009:\t1,\n",
        "267102003: 1,\n",
        "261352009: 1,\n",
        "43724002:\t2,\n",
        "49727002:\t2,\n",
        "267060006: 2,\n",
        "84229001:\t2,\n",
        "57676002:\t2,\n",
        "68962001:\t2,\n",
        "68235000:\t2,\n",
        "422587007: 2,\n",
        "249497008: 2,\n",
        "234466008: 3,\n",
        "132281000119108: 3,\n",
        "267036007: 3,\n",
        "233604007: 3,\n",
        "56018004:\t3,\n",
        "371908008: 3,\n",
        "706870000: 4,\n",
        "66857006:\t4,\n",
        "389087006: 4,\n",
        "86175003:\t4,\n",
        "40095003:\t4,\n",
        "271825005: 4,\n",
        "112798008: 4,\n",
        "433112001: 4,\n",
        "431182000: 4,\n",
        "67782005:\t5,\n",
        "65710008:\t5,\n",
        "84114007:\t5,\n",
        "770349000: 5,\n",
        "76571007:\t5,\n",
        "36965003:\t5,\n",
        "449071006: 5,\n",
        "26763009:\t5,\n",
        "180325003: 5,\n",
        "302497006: 5,\n",
        "\n",
        "}\n",
        "\n",
        "# Loop through all rows\n",
        "for i, row in DF_of_Facts_Table.iterrows():\n",
        "    max_grade = []    \n",
        "    # Check if any of the codes in the 'conditions_code' column is present in the grades_mapping\n",
        "    if row['conditions_code'] in grades_mapping:\n",
        "        max_grade.append(grades_mapping[row['conditions_code']])\n",
        "    # Check if any of the codes in the 'procedures_code' column is present in the grades_mapping\n",
        "    if row['procedures_code'] in grades_mapping:\n",
        "        max_grade.append(grades_mapping[row['procedures_code']])\n",
        "    # Check if any of the codes in the 'devices_code' column is present in the grades_mapping\n",
        "    if row['devices_code'] in grades_mapping:\n",
        "        max_grade.append(grades_mapping[row['devices_code']])\n",
        "    if len(max_grade) != 0:\n",
        "        DF_of_Facts_Table.at[i, 'course_of_Desease'] = max(max_grade)\n",
        "    else:\n",
        "        DF_of_Facts_Table.at[i, 'course_of_Desease'] = 0\n",
        "\n",
        "DF_of_Facts_Table.head(5)\n",
        "\n"
      ],
      "metadata": {
        "id": "F12D9iKhztFU",
        "colab": {
          "base_uri": "https://localhost:8080/",
          "height": 531
        },
        "outputId": "8c1b7586-bf04-4d87-a6e1-585d4f1b6b98"
      },
      "execution_count": 43,
      "outputs": [
        {
          "output_type": "execute_result",
          "data": {
            "text/plain": [
              "                            patients_ID  conditions_code  procedures_code  \\\n",
              "0  2f114e21-8b95-e9eb-2e9e-4b950b059cfa       36955009.0      261352009.0   \n",
              "1  2f114e21-8b95-e9eb-2e9e-4b950b059cfa      386661006.0      261352009.0   \n",
              "2  2f114e21-8b95-e9eb-2e9e-4b950b059cfa      840539006.0      261352009.0   \n",
              "3  2f114e21-8b95-e9eb-2e9e-4b950b059cfa      840544004.0      261352009.0   \n",
              "4  2812f4fc-6aba-0033-728b-7e569bb8adcc       36955009.0      180325003.0   \n",
              "\n",
              "   devices_code  medications_code medication_grading course_of_Desease  \n",
              "0           0.0               0.0                  0                 1  \n",
              "1           0.0               0.0                  0                 1  \n",
              "2           0.0               0.0                  0                 1  \n",
              "3           0.0               0.0                  0                 1  \n",
              "4           0.0          197604.0                  0                 5  "
            ],
            "text/html": [
              "\n",
              "  <div id=\"df-093183c1-adfd-469e-8120-f1f9f33d8738\">\n",
              "    <div class=\"colab-df-container\">\n",
              "      <div>\n",
              "<style scoped>\n",
              "    .dataframe tbody tr th:only-of-type {\n",
              "        vertical-align: middle;\n",
              "    }\n",
              "\n",
              "    .dataframe tbody tr th {\n",
              "        vertical-align: top;\n",
              "    }\n",
              "\n",
              "    .dataframe thead th {\n",
              "        text-align: right;\n",
              "    }\n",
              "</style>\n",
              "<table border=\"1\" class=\"dataframe\">\n",
              "  <thead>\n",
              "    <tr style=\"text-align: right;\">\n",
              "      <th></th>\n",
              "      <th>patients_ID</th>\n",
              "      <th>conditions_code</th>\n",
              "      <th>procedures_code</th>\n",
              "      <th>devices_code</th>\n",
              "      <th>medications_code</th>\n",
              "      <th>medication_grading</th>\n",
              "      <th>course_of_Desease</th>\n",
              "    </tr>\n",
              "  </thead>\n",
              "  <tbody>\n",
              "    <tr>\n",
              "      <th>0</th>\n",
              "      <td>2f114e21-8b95-e9eb-2e9e-4b950b059cfa</td>\n",
              "      <td>36955009.0</td>\n",
              "      <td>261352009.0</td>\n",
              "      <td>0.0</td>\n",
              "      <td>0.0</td>\n",
              "      <td>0</td>\n",
              "      <td>1</td>\n",
              "    </tr>\n",
              "    <tr>\n",
              "      <th>1</th>\n",
              "      <td>2f114e21-8b95-e9eb-2e9e-4b950b059cfa</td>\n",
              "      <td>386661006.0</td>\n",
              "      <td>261352009.0</td>\n",
              "      <td>0.0</td>\n",
              "      <td>0.0</td>\n",
              "      <td>0</td>\n",
              "      <td>1</td>\n",
              "    </tr>\n",
              "    <tr>\n",
              "      <th>2</th>\n",
              "      <td>2f114e21-8b95-e9eb-2e9e-4b950b059cfa</td>\n",
              "      <td>840539006.0</td>\n",
              "      <td>261352009.0</td>\n",
              "      <td>0.0</td>\n",
              "      <td>0.0</td>\n",
              "      <td>0</td>\n",
              "      <td>1</td>\n",
              "    </tr>\n",
              "    <tr>\n",
              "      <th>3</th>\n",
              "      <td>2f114e21-8b95-e9eb-2e9e-4b950b059cfa</td>\n",
              "      <td>840544004.0</td>\n",
              "      <td>261352009.0</td>\n",
              "      <td>0.0</td>\n",
              "      <td>0.0</td>\n",
              "      <td>0</td>\n",
              "      <td>1</td>\n",
              "    </tr>\n",
              "    <tr>\n",
              "      <th>4</th>\n",
              "      <td>2812f4fc-6aba-0033-728b-7e569bb8adcc</td>\n",
              "      <td>36955009.0</td>\n",
              "      <td>180325003.0</td>\n",
              "      <td>0.0</td>\n",
              "      <td>197604.0</td>\n",
              "      <td>0</td>\n",
              "      <td>5</td>\n",
              "    </tr>\n",
              "  </tbody>\n",
              "</table>\n",
              "</div>\n",
              "      <button class=\"colab-df-convert\" onclick=\"convertToInteractive('df-093183c1-adfd-469e-8120-f1f9f33d8738')\"\n",
              "              title=\"Convert this dataframe to an interactive table.\"\n",
              "              style=\"display:none;\">\n",
              "        \n",
              "  <svg xmlns=\"http://www.w3.org/2000/svg\" height=\"24px\"viewBox=\"0 0 24 24\"\n",
              "       width=\"24px\">\n",
              "    <path d=\"M0 0h24v24H0V0z\" fill=\"none\"/>\n",
              "    <path d=\"M18.56 5.44l.94 2.06.94-2.06 2.06-.94-2.06-.94-.94-2.06-.94 2.06-2.06.94zm-11 1L8.5 8.5l.94-2.06 2.06-.94-2.06-.94L8.5 2.5l-.94 2.06-2.06.94zm10 10l.94 2.06.94-2.06 2.06-.94-2.06-.94-.94-2.06-.94 2.06-2.06.94z\"/><path d=\"M17.41 7.96l-1.37-1.37c-.4-.4-.92-.59-1.43-.59-.52 0-1.04.2-1.43.59L10.3 9.45l-7.72 7.72c-.78.78-.78 2.05 0 2.83L4 21.41c.39.39.9.59 1.41.59.51 0 1.02-.2 1.41-.59l7.78-7.78 2.81-2.81c.8-.78.8-2.07 0-2.86zM5.41 20L4 18.59l7.72-7.72 1.47 1.35L5.41 20z\"/>\n",
              "  </svg>\n",
              "      </button>\n",
              "      \n",
              "  <style>\n",
              "    .colab-df-container {\n",
              "      display:flex;\n",
              "      flex-wrap:wrap;\n",
              "      gap: 12px;\n",
              "    }\n",
              "\n",
              "    .colab-df-convert {\n",
              "      background-color: #E8F0FE;\n",
              "      border: none;\n",
              "      border-radius: 50%;\n",
              "      cursor: pointer;\n",
              "      display: none;\n",
              "      fill: #1967D2;\n",
              "      height: 32px;\n",
              "      padding: 0 0 0 0;\n",
              "      width: 32px;\n",
              "    }\n",
              "\n",
              "    .colab-df-convert:hover {\n",
              "      background-color: #E2EBFA;\n",
              "      box-shadow: 0px 1px 2px rgba(60, 64, 67, 0.3), 0px 1px 3px 1px rgba(60, 64, 67, 0.15);\n",
              "      fill: #174EA6;\n",
              "    }\n",
              "\n",
              "    [theme=dark] .colab-df-convert {\n",
              "      background-color: #3B4455;\n",
              "      fill: #D2E3FC;\n",
              "    }\n",
              "\n",
              "    [theme=dark] .colab-df-convert:hover {\n",
              "      background-color: #434B5C;\n",
              "      box-shadow: 0px 1px 3px 1px rgba(0, 0, 0, 0.15);\n",
              "      filter: drop-shadow(0px 1px 2px rgba(0, 0, 0, 0.3));\n",
              "      fill: #FFFFFF;\n",
              "    }\n",
              "  </style>\n",
              "\n",
              "      <script>\n",
              "        const buttonEl =\n",
              "          document.querySelector('#df-093183c1-adfd-469e-8120-f1f9f33d8738 button.colab-df-convert');\n",
              "        buttonEl.style.display =\n",
              "          google.colab.kernel.accessAllowed ? 'block' : 'none';\n",
              "\n",
              "        async function convertToInteractive(key) {\n",
              "          const element = document.querySelector('#df-093183c1-adfd-469e-8120-f1f9f33d8738');\n",
              "          const dataTable =\n",
              "            await google.colab.kernel.invokeFunction('convertToInteractive',\n",
              "                                                     [key], {});\n",
              "          if (!dataTable) return;\n",
              "\n",
              "          const docLinkHtml = 'Like what you see? Visit the ' +\n",
              "            '<a target=\"_blank\" href=https://colab.research.google.com/notebooks/data_table.ipynb>data table notebook</a>'\n",
              "            + ' to learn more about interactive tables.';\n",
              "          element.innerHTML = '';\n",
              "          dataTable['output_type'] = 'display_data';\n",
              "          await google.colab.output.renderOutput(dataTable, element);\n",
              "          const docLink = document.createElement('div');\n",
              "          docLink.innerHTML = docLinkHtml;\n",
              "          element.appendChild(docLink);\n",
              "        }\n",
              "      </script>\n",
              "    </div>\n",
              "  </div>\n",
              "  "
            ]
          },
          "metadata": {},
          "execution_count": 43
        }
      ]
    },
    {
      "cell_type": "code",
      "source": [
        "# defining and implementing medication_grading.\n",
        "\n",
        "medication_grading = {\n",
        "854235:1,\n",
        "854252:1,\n",
        "854228:1,\n",
        "309362:2,\n",
        "855332:3,\n",
        "}\n",
        "\n",
        "# Loop through all rows\n",
        "for i, row in DF_of_Facts_Table.iterrows():   \n",
        "    # Check if any of the codes in the 'conditions_code' column is present in the grades_mapping\n",
        "    if row['medications_code'] in medication_grading:\n",
        "        DF_of_Facts_Table.at[i, 'medication_grading'] = medication_grading[row['medications_code']]\n",
        "\n"
      ],
      "metadata": {
        "id": "89Ef1fvCcaDn"
      },
      "execution_count": 44,
      "outputs": []
    },
    {
      "cell_type": "code",
      "source": [
        "DF_of_Facts_Table.head(5)"
      ],
      "metadata": {
        "id": "tYkEH3kNhbC7",
        "colab": {
          "base_uri": "https://localhost:8080/",
          "height": 531
        },
        "outputId": "cdf0c768-78f9-4703-8993-921f0cb4658d"
      },
      "execution_count": 45,
      "outputs": [
        {
          "output_type": "execute_result",
          "data": {
            "text/plain": [
              "                            patients_ID  conditions_code  procedures_code  \\\n",
              "0  2f114e21-8b95-e9eb-2e9e-4b950b059cfa       36955009.0      261352009.0   \n",
              "1  2f114e21-8b95-e9eb-2e9e-4b950b059cfa      386661006.0      261352009.0   \n",
              "2  2f114e21-8b95-e9eb-2e9e-4b950b059cfa      840539006.0      261352009.0   \n",
              "3  2f114e21-8b95-e9eb-2e9e-4b950b059cfa      840544004.0      261352009.0   \n",
              "4  2812f4fc-6aba-0033-728b-7e569bb8adcc       36955009.0      180325003.0   \n",
              "\n",
              "   devices_code  medications_code medication_grading course_of_Desease  \n",
              "0           0.0               0.0                  0                 1  \n",
              "1           0.0               0.0                  0                 1  \n",
              "2           0.0               0.0                  0                 1  \n",
              "3           0.0               0.0                  0                 1  \n",
              "4           0.0          197604.0                  0                 5  "
            ],
            "text/html": [
              "\n",
              "  <div id=\"df-51111398-f400-476f-9c3c-aa4dbc198db1\">\n",
              "    <div class=\"colab-df-container\">\n",
              "      <div>\n",
              "<style scoped>\n",
              "    .dataframe tbody tr th:only-of-type {\n",
              "        vertical-align: middle;\n",
              "    }\n",
              "\n",
              "    .dataframe tbody tr th {\n",
              "        vertical-align: top;\n",
              "    }\n",
              "\n",
              "    .dataframe thead th {\n",
              "        text-align: right;\n",
              "    }\n",
              "</style>\n",
              "<table border=\"1\" class=\"dataframe\">\n",
              "  <thead>\n",
              "    <tr style=\"text-align: right;\">\n",
              "      <th></th>\n",
              "      <th>patients_ID</th>\n",
              "      <th>conditions_code</th>\n",
              "      <th>procedures_code</th>\n",
              "      <th>devices_code</th>\n",
              "      <th>medications_code</th>\n",
              "      <th>medication_grading</th>\n",
              "      <th>course_of_Desease</th>\n",
              "    </tr>\n",
              "  </thead>\n",
              "  <tbody>\n",
              "    <tr>\n",
              "      <th>0</th>\n",
              "      <td>2f114e21-8b95-e9eb-2e9e-4b950b059cfa</td>\n",
              "      <td>36955009.0</td>\n",
              "      <td>261352009.0</td>\n",
              "      <td>0.0</td>\n",
              "      <td>0.0</td>\n",
              "      <td>0</td>\n",
              "      <td>1</td>\n",
              "    </tr>\n",
              "    <tr>\n",
              "      <th>1</th>\n",
              "      <td>2f114e21-8b95-e9eb-2e9e-4b950b059cfa</td>\n",
              "      <td>386661006.0</td>\n",
              "      <td>261352009.0</td>\n",
              "      <td>0.0</td>\n",
              "      <td>0.0</td>\n",
              "      <td>0</td>\n",
              "      <td>1</td>\n",
              "    </tr>\n",
              "    <tr>\n",
              "      <th>2</th>\n",
              "      <td>2f114e21-8b95-e9eb-2e9e-4b950b059cfa</td>\n",
              "      <td>840539006.0</td>\n",
              "      <td>261352009.0</td>\n",
              "      <td>0.0</td>\n",
              "      <td>0.0</td>\n",
              "      <td>0</td>\n",
              "      <td>1</td>\n",
              "    </tr>\n",
              "    <tr>\n",
              "      <th>3</th>\n",
              "      <td>2f114e21-8b95-e9eb-2e9e-4b950b059cfa</td>\n",
              "      <td>840544004.0</td>\n",
              "      <td>261352009.0</td>\n",
              "      <td>0.0</td>\n",
              "      <td>0.0</td>\n",
              "      <td>0</td>\n",
              "      <td>1</td>\n",
              "    </tr>\n",
              "    <tr>\n",
              "      <th>4</th>\n",
              "      <td>2812f4fc-6aba-0033-728b-7e569bb8adcc</td>\n",
              "      <td>36955009.0</td>\n",
              "      <td>180325003.0</td>\n",
              "      <td>0.0</td>\n",
              "      <td>197604.0</td>\n",
              "      <td>0</td>\n",
              "      <td>5</td>\n",
              "    </tr>\n",
              "  </tbody>\n",
              "</table>\n",
              "</div>\n",
              "      <button class=\"colab-df-convert\" onclick=\"convertToInteractive('df-51111398-f400-476f-9c3c-aa4dbc198db1')\"\n",
              "              title=\"Convert this dataframe to an interactive table.\"\n",
              "              style=\"display:none;\">\n",
              "        \n",
              "  <svg xmlns=\"http://www.w3.org/2000/svg\" height=\"24px\"viewBox=\"0 0 24 24\"\n",
              "       width=\"24px\">\n",
              "    <path d=\"M0 0h24v24H0V0z\" fill=\"none\"/>\n",
              "    <path d=\"M18.56 5.44l.94 2.06.94-2.06 2.06-.94-2.06-.94-.94-2.06-.94 2.06-2.06.94zm-11 1L8.5 8.5l.94-2.06 2.06-.94-2.06-.94L8.5 2.5l-.94 2.06-2.06.94zm10 10l.94 2.06.94-2.06 2.06-.94-2.06-.94-.94-2.06-.94 2.06-2.06.94z\"/><path d=\"M17.41 7.96l-1.37-1.37c-.4-.4-.92-.59-1.43-.59-.52 0-1.04.2-1.43.59L10.3 9.45l-7.72 7.72c-.78.78-.78 2.05 0 2.83L4 21.41c.39.39.9.59 1.41.59.51 0 1.02-.2 1.41-.59l7.78-7.78 2.81-2.81c.8-.78.8-2.07 0-2.86zM5.41 20L4 18.59l7.72-7.72 1.47 1.35L5.41 20z\"/>\n",
              "  </svg>\n",
              "      </button>\n",
              "      \n",
              "  <style>\n",
              "    .colab-df-container {\n",
              "      display:flex;\n",
              "      flex-wrap:wrap;\n",
              "      gap: 12px;\n",
              "    }\n",
              "\n",
              "    .colab-df-convert {\n",
              "      background-color: #E8F0FE;\n",
              "      border: none;\n",
              "      border-radius: 50%;\n",
              "      cursor: pointer;\n",
              "      display: none;\n",
              "      fill: #1967D2;\n",
              "      height: 32px;\n",
              "      padding: 0 0 0 0;\n",
              "      width: 32px;\n",
              "    }\n",
              "\n",
              "    .colab-df-convert:hover {\n",
              "      background-color: #E2EBFA;\n",
              "      box-shadow: 0px 1px 2px rgba(60, 64, 67, 0.3), 0px 1px 3px 1px rgba(60, 64, 67, 0.15);\n",
              "      fill: #174EA6;\n",
              "    }\n",
              "\n",
              "    [theme=dark] .colab-df-convert {\n",
              "      background-color: #3B4455;\n",
              "      fill: #D2E3FC;\n",
              "    }\n",
              "\n",
              "    [theme=dark] .colab-df-convert:hover {\n",
              "      background-color: #434B5C;\n",
              "      box-shadow: 0px 1px 3px 1px rgba(0, 0, 0, 0.15);\n",
              "      filter: drop-shadow(0px 1px 2px rgba(0, 0, 0, 0.3));\n",
              "      fill: #FFFFFF;\n",
              "    }\n",
              "  </style>\n",
              "\n",
              "      <script>\n",
              "        const buttonEl =\n",
              "          document.querySelector('#df-51111398-f400-476f-9c3c-aa4dbc198db1 button.colab-df-convert');\n",
              "        buttonEl.style.display =\n",
              "          google.colab.kernel.accessAllowed ? 'block' : 'none';\n",
              "\n",
              "        async function convertToInteractive(key) {\n",
              "          const element = document.querySelector('#df-51111398-f400-476f-9c3c-aa4dbc198db1');\n",
              "          const dataTable =\n",
              "            await google.colab.kernel.invokeFunction('convertToInteractive',\n",
              "                                                     [key], {});\n",
              "          if (!dataTable) return;\n",
              "\n",
              "          const docLinkHtml = 'Like what you see? Visit the ' +\n",
              "            '<a target=\"_blank\" href=https://colab.research.google.com/notebooks/data_table.ipynb>data table notebook</a>'\n",
              "            + ' to learn more about interactive tables.';\n",
              "          element.innerHTML = '';\n",
              "          dataTable['output_type'] = 'display_data';\n",
              "          await google.colab.output.renderOutput(dataTable, element);\n",
              "          const docLink = document.createElement('div');\n",
              "          docLink.innerHTML = docLinkHtml;\n",
              "          element.appendChild(docLink);\n",
              "        }\n",
              "      </script>\n",
              "    </div>\n",
              "  </div>\n",
              "  "
            ]
          },
          "metadata": {},
          "execution_count": 45
        }
      ]
    },
    {
      "cell_type": "markdown",
      "source": [
        "##Pseudonymisieren der Pateinten ID und ablage der Pseudonyn Tabelle als csv.datei"
      ],
      "metadata": {
        "id": "HD972UfUqZF3"
      }
    },
    {
      "cell_type": "code",
      "source": [
        "def check_random_string(random_string, random_strings):\n",
        "  if random_string in random_strings:\n",
        "    return \"doubble\"\n",
        "  else:\n",
        "    return \"ok\"\n",
        "\n",
        "pseudonym_tabelle = sqldf(\"\"\"SELECT DISTINCT patients_id FROM DF_of_Facts_Table\"\"\")\n",
        "pseudonym_tabelle['pseudonym'] = ''\n",
        "random_strings = []\n",
        "\n",
        "def pseudonym_generator():\n",
        "  random_string = ''.join(random.choices(string.ascii_lowercase, k=10))\n",
        "  check = check_random_string(random_string, random_strings)\n",
        "  if check == 'ok':\n",
        "    random_strings.append(random_string)\n",
        "    pseudonym_tabelle.at[i, 'pseudonym'] = random_string\n",
        "  else:\n",
        "    pseudonym_generator()\n",
        "\n",
        "\n",
        "if len(random_strings)== 0:\n",
        "  for i,row in pseudonym_tabelle.iterrows():\n",
        "    pseudonym_generator()\n",
        "\n",
        "print(random_strings)\n",
        "pseudonym_tabelle.to_csv(\"/content/drive/Shareddrives/DMA_2023_D/DMA2023TeamB/Quelldaten/covid19/pseudonym_tabelle.csv\")\n"
      ],
      "metadata": {
        "colab": {
          "base_uri": "https://localhost:8080/"
        },
        "id": "g9ke1MWon6Lb",
        "outputId": "a1a3a18c-b570-42f4-be6a-fe7957fe67ed"
      },
      "execution_count": 46,
      "outputs": [
        {
          "output_type": "stream",
          "name": "stdout",
          "text": [
            "['mqscbrebda', 'doweuewifm', 'whixippdom', 'hihiaqpouw', 'vxzopnhdkw', 'uhopvybpoy', 'rmolshrqzq', 'mueqyyztfe', 'rctvvoieyc', 'tjqrysjisy', 'qguwpbbzww', 'wyproalxvs', 'sejlnhgaem', 'zxdxgxrijk', 'exisjdiwxi', 'zsssbsqkfs', 'yxfqidnxbf', 'wqpobpanvb', 'cryflepveu', 'rxssvckgkf', 'okgukhcrlt', 'wegrsbvkgj', 'eihasktovo', 'sulwrbayko', 'ecvxynlgxq', 'vgqmhywypz', 'tlpkbmszfl', 'jxqsojunbl', 'fqewzceavq', 'adwfgeyvfn', 'jaeybshene', 'issgokmgqb', 'btumtbdzil', 'xsukhxgear', 'wvtichehnq', 'cjzyozhcyx', 'evyqysomxv', 'ovjwjrvvpz', 'zdxtrjtptp', 'tfkqvjpopa', 'plyilxyvwq', 'zclchuqcvo', 'hxuyyzzhcz', 'njwgaeccfb', 'cudkqyxeyp', 'bgoqcqrcfh', 'tjemfbrleq', 'ifrhjatrtp', 'alprysuxjt', 'wzxtqtbnec', 'wyflypfhzh', 'jtpkqkgqiu', 'rptqssyrmz', 'mvmneoylqw', 'kkamgrjlfw', 'fxqwiwpean', 'tonngvloll', 'owamyafars', 'acqxvnjtra', 'pkhqalftqg', 'ppgopkfwge', 'kvxeamksys', 'fbfgbjhgpl', 'ngoefgzyls', 'qxfzctindo', 'qzfyzctqle', 'jwfbasgkvm', 'pgfkzyrrtp', 'zwsdptcpvd', 'xsauwbgewd', 'wgjhjpcfev', 'relnvwulhc', 'jdjhnfhhqf', 'zqfbdgfmri', 'bzruxppftk', 'tkinzreenl', 'frecllcubw', 'myfkrhcxtx', 'ciwipnqeuy', 'znmhwmjojn', 'aokzpbqmnj', 'wqdfwsqiho', 'suehtbntje', 'nmoxdlitet', 'hcdgiuyaul', 'qwblvzdywg', 'erfrbvaoov', 'mjzliyxpdx', 'ftadwhvyzq', 'gjwmdponei', 'elgqpehohg', 'xchvygckep', 'zgvdubcasi', 'zbaqzvckcg', 'oeqzajgqsd', 'tkvdtzqwpz', 'shegzuuspg', 'wyfeblwuxd', 'oxgjbzcdol', 'styxspazib', 'czigefaniv', 'ndshtfvadk', 'gjrwgdmcsj', 'xomaqbwcec', 'gfamgqermq', 'sgbzpmkzcg', 'bwenbkydnn', 'igcnyfdasm', 'ipucrtjyaw', 'ifowyzgpcw', 'txkrehlvwg', 'spgogneoxe', 'ggzfihifgm', 'vjjqeapjbm', 'yprgmqdcnm', 'atuqxplxei', 'bulmcabnph', 'xhcylpgwgq', 'zeykyhljvs', 'fygdksysko', 'muodyonscg', 'islmhwjfav', 'iscdoycvnx', 'sahjkxnxei', 'bqwgxzmvls', 'uiivjwwncn', 'ypvqyjzfyb', 'wdpqumykfl', 'eoyhoocnsq', 'oqlcltocnt', 'txopeyvjtx', 'jmokiinpxh', 'inxsxcoqow', 'acuxjusewi', 'frmcpcwowp', 'qgbycfjjwh', 'ifjluqhtos', 'rmwbpmylrc', 'dmufwbgibv', 'ltoprhpxvj', 'jdfqcuejge', 'wqcdoorpnc', 'nmeqnlznsa', 'ltqyktaafz', 'yxijkazvhy', 'jvrhqmnxtk', 'uqymmcqlev', 'snkrcijzte', 'vtftcksedz', 'szowpyzfua', 'onncmmrkfl', 'cyaotsrdqk', 'squvvxcstf', 'okgudtqayx', 'ggwsfdfowp', 'cuiqcpkjwy', 'eoaqvwtjvj', 'hbhjzcnijr', 'tnvqkljxci', 'sflhxgdrgs', 'zdqzusgfyi', 'efjfvrifem', 'tphvvtmkhk', 'pirmowqytv', 'miaqdxiwkk', 'bewirxngsp', 'qezlomwodb', 'doucosuxil', 'mvucuhvtil', 'khesfuatvj', 'mmmtfsevqk', 'povlbaolhb', 'yseathvtnv', 'fgunvceqcy', 'udbyxxoiuq', 'rbxbmzvqaz', 'vlduqvjuzr', 'xfcaixuoiu', 'qpdybuadxl', 'knjogqkyop', 'tkobwnkodq', 'uowvebaxix', 'cssunmixwu', 'lcjifynvnw', 'aibijjvleg', 'zalcrnxzla', 'tueitmrqfm', 'mpbobqmszp', 'urxnilxkux', 'zuyqdmkblt', 'xpzmqeboai', 'ydkpncqihq', 'dviqmjbstz', 'ojhadolshh', 'rujkjaqqva', 'hvzaabpdtv', 'tztdazlhub', 'jjommsuaeo', 'dwpxqpvkxi', 'pgezhajvgl', 'eznsqemyxw', 'mtejzkuyra', 'twgnurejfa', 'qolxmbjuxm', 'mkzrefdkbi', 'fnwjattyan', 'xfaqabvolw', 'gpizrzuoxl', 'prrxhpfdku', 'ejaavcvajl', 'miliqdvxku', 'ppdjxfmumm', 'znhgmpaxoh', 'oqdzwbwxhm', 'edvovmeygz', 'ovmyqdoicn', 'evegntmxgk', 'fqtaxlibfq', 'mrfbojwxlj', 'njufxhssxc', 'kixydjoawh', 'nvosjzlmdt', 'vyhyxlcimh', 'vzlajsgyaq', 'ltxpsdiydl', 'factsvdzoa', 'nwxyuxzjiu', 'vlfeeigzeh', 'qpqxvsxqpt', 'ltjapiwtss', 'fhpeacelir', 'vvqbrjacty', 'mthvrhgwaq', 'hyhykrgxhy', 'ccjeaetxua', 'zdcypakctp', 'vxzbkfpeae', 'rhmrcimyfp', 'rwqdvldrci', 'ztmdeuzzcs', 'omlmskyjeh', 'ltkearpkju', 'pnvmwwefop', 'xwplcfgsaz', 'rxnvevjmxr', 'zkzjwdabki', 'afultjvdss', 'gwqtjlwxgu', 'usngkzdwko', 'dwotwzodac', 'wixwqtvucj', 'cytxojngat', 'ptjtigosdk', 'ymyikuaiua', 'lzygxsytvv', 'oqrpruoeih', 'pkootknsst', 'vjhzqbuwvq', 'odweyalgmj', 'qlxjfqdchy', 'pevaamfbda', 'hvwiaymbni', 'lqcotqmwua', 'jpqbhqjcqu', 'tmyvbotofi', 'vjluvvvlvj', 'ipbagtvwvy', 'nrvcfjmvew', 'sczpbucqoo', 'hvjlxnqsej', 'jheyhkbtcc', 'ehnijdbzmk', 'tsllknaaqx', 'njhzwksdfh', 'hdgygwprxb', 'ssuqxkmgbw', 'jckazdvovd', 'suxxxnsgrg', 'guhyybgpiw', 'jyrnlfvsbo', 'tmijuxopjf', 'ieykjwoyqj', 'cqniekawzs', 'vswxpglury', 'siqxmypqbw', 'vqlmnohbcc', 'fkoogybnnj', 'xdajgshlyi', 'cgnyjqnnff', 'qhkvfjkulj', 'skckiakdjf', 'kfzsoyaqxq', 'wistxzssrj', 'pajyugckmp', 'ngoigaumsg', 'gphlckndrz', 'vehnefrwwa', 'hcklhxkley', 'brmdmccsxk', 'cokldhhpag', 'peownzbqld', 'vzknarjpho', 'ivwwldyroc', 'alvmibgliq', 'jnzqpeqxtk', 'qqsoentpio', 'cjbogatphf', 'mepocqklyk', 'ndmfzotjyj', 'xlrzajbcpd', 'cafejrqflf', 'jbwdokjlpv', 'oqwkhscrqx', 'nmrwatrpaa', 'xgacsjhccx', 'eromnyhtfe', 'xzdakpuvdg', 'jceyadovwn', 'ssnukaersa', 'mvjpymseai', 'afjyipsxpz', 'cwwlopfcqe', 'hajevyjzps', 'xpgujngejv', 'wnnjnzcrgq', 'ijenuooamt', 'vzrhtbfzau', 'abhvnhrgap', 'limfdqpnon', 'ccjkbruldn', 'ymesdxkauo', 'asuudyygys', 'sgehykdhhr', 'mwerrmftsb', 'izrayzwupu', 'lbfzspzhsj', 'gqkvumypxc', 'gyktwsnzms', 'aamzjtgwuh', 'pslvtnpbhm', 'htdaagvydq', 'zcgnugpctk', 'ekyeqgeilt', 'vydlvzhujv', 'vfkhtywlxb', 'qhyalhjygv', 'jyaebougyf', 'jhblnwimoq', 'wsxvvrhetw', 'ngjrmrlxnp', 'axetylocqj', 'nemjrqysor', 'lkmhktvkdn', 'qbjellqhfw', 'ijgxxhcjca', 'npbuhaagpy', 'bwdrbufffp', 'gcgyqmngly', 'ocujzxpxuh', 'zhpqflradl', 'pukcpopflg', 'cdzvfxlesm', 'etlggzqeif', 'xeozushgmi', 'tbimwgjzvw', 'bulqzcqjnt', 'eynlunueyw', 'vglfahohjf', 'dsjfrxmxcg', 'ijxjekkpfb', 'onrbunfmsb', 'wzlkognyav', 'ilvamxvohs', 'bjercprult', 'nkapepvkut', 'wjqojcfccs', 'gurucxzmag', 'imtxvubdll', 'btjxxlpcih', 'eltyswaoai', 'kketqtiuml', 'upparrougn', 'pnxnydekty', 'sbykztleqo', 'tsnkdoeapa', 'pezlvecght', 'ubuzpcycbg', 'jafntgehpx', 'rbgwlngmxf', 'dwvxkefmdd', 'hbmsfmdjrr', 'otpnqyicse', 'zycjlnjami', 'zxlrdthkcc', 'ohsnqywetj', 'uqdwlynnkj', 'jzrxpqbszi', 'fgtfgaritf', 'iupyuublrw', 'hvctlncdpw', 'rahwopwetj', 'chbcvpugrb', 'tplmczzotw', 'iybgzteagr', 'aymbgdwnyy', 'utzrrqdoma', 'fvvmkxiozs', 'bzoxffbkce', 'rpzveeyjdb', 'qqtobvtely', 'lofgjxyfui', 'qmordaduhy', 'mrnwsayzdp', 'xlpwmezprf', 'yqmhcdbujt', 'juhjpeskeg', 'lgjbxvstkq', 'rlzjuwlqwk', 'xcxgkhuxsj', 'gjitxrcsmt', 'cttjkdymzk', 'fwtkzgijzk', 'wmxsoreegr', 'bbitouvjob', 'uvuvwxciek', 'ihoqyyslet', 'fhjqrzasns', 'wpjqrvdfro', 'jtorbofjgj', 'kuycucijtf', 'rachcsbxwg', 'pzvmxlrpbz', 'jafowyzbdc', 'qrollogpur', 'omwqythztw', 'fmpkxqnfwk', 'lvdavuroud', 'ziulredzwe', 'vcuaufxfvi', 'yiscvcdysl', 'tlympkvjkf', 'tsxcgqvfkc', 'rjmzciudgn', 'hgkbzzjuac', 'loausyjyjo', 'odjabjucij', 'kqbpfkcfqx', 'zniwdqnmod', 'snxksmgsoy', 'hmzsyqwmdq', 'cwmvhyxxib', 'mdjwfvgyqb', 'dskmoulktb', 'lgidpvygzq', 'grvcgcziuy', 'hixpyegkwn', 'dycbnkjcic', 'gvxkpuoaqg', 'tsgcisomyr', 'adjfklsgzv', 'hrffwhftqh', 'btydszrtox', 'lspjpcenfs', 'kaqzczkwmm', 'hfaftpbudy', 'wwibiqgmll', 'yzevrnxecr', 'hpsjddbstm', 'jssgclbkml', 'egvjzizhgz', 'qrgaaynwmc', 'sylnhbiida', 'daihvgxmsl', 'dbghevnvle', 'snypetmnpo', 'mbocixpysh', 'vfqfpeqlbx', 'ksvklsrknc', 'mldexouotl', 'ttqypucfgn', 'fziutzjykl', 'mcuibcjyri', 'hmyoesyojh', 'raaumxwsvm', 'dazdmuhmuj', 'mjqdtwzsml', 'vuhofkebka', 'mkkgztdhez', 'fjkzcaepwr', 'cpuysxzbeg', 'pqalyshzkl', 'lobxgkvmly', 'wvacxxdtkc', 'ajjzzrzska', 'yejkyvjctm', 'xwpambylfa', 'xagedhzcuy', 'crivumvdew', 'zneajbvubr', 'csmkqfgknw', 'snwzkrbzsj', 'ulrxudfcfh', 'dqoucxyope', 'wixuujewbs', 'idyzyuxbnp', 'isicuuptvu', 'fmmnysysfi', 'aobvnfsjkr', 'psbmxoladd', 'dgdfudtygx', 'sikwsxepcv', 'vkvlokziet', 'goujwzlvsi', 'abwmicseto', 'kesxibwzgo', 'hdvkmzvlvb', 'pavwbkwfaf', 'ytqdcogpbs', 'mgkoemkeis', 'axtwecnczh', 'bwpejqketc', 'ddfawlwslf', 'ffbhzdgfev', 'zvhldsbtcu', 'epxdsbteee', 'itjvlrlzfh', 'xzqhrveftu', 'vsnpqztjnp', 'kztnwteneg', 'cccnkztssm', 'aycqtvsxca', 'ugmpamahbk', 'dgzdxfsckm', 'bsyrwxweoi', 'nalpfqswwc', 'zdnfnlyysv', 'vqonpanwhn', 'refwltcfnb', 'cmjtrgffls', 'cdzfpgwywb', 'bwajvdafbk', 'rbdttszvsr', 'hctgxngnkx', 'mvkkkexedv', 'zagpvcbuzy', 'iiccufwvep', 'ngczwmmifo', 'stqbwjpicv', 'pqrlmavcnh', 'nwrmfekuqa', 'kmspefbodo', 'civojknpbo', 'syrwyncbzf', 'wmfrmcojqd', 'dgouvedvor', 'kyuaruohky', 'ieckmylrwm', 'kykatyabbp', 'obohwrlbtp', 'qxwuvnmxet', 'nzefcpjvza', 'uadkykkrsx', 'qgwjnjsoxg', 'rvjvsgntnv', 'rnatcbtklo', 'eymkmkxbie', 'kxebiijnak', 'qaegtygytv', 'jjwlepjqpc', 'gbshphfuws', 'ajpfrszeas', 'oghkfgdsez', 'ccmqulsyxs', 'etzucgzvcb', 'lwnrxfowqx', 'nndowavxza', 'rojkhylqvy', 'ulbgvrraxu', 'dayjtweaaw', 'rlqqbzgeki', 'zoxuprqvmw', 'vqzspsloxs', 'ighqqmzgnw', 'gcyyqblvgs', 'eizxoftfpa', 'gljirijraa', 'ncjztricki', 'hybayjuiux', 'blmrzamaag', 'peuwidaaul', 'vbxebpzebx', 'qedtpjlmpb', 'ldiopedybe', 'uvwzqbbmjv', 'yskmhtffuq', 'yzneddwyzc', 'caawdyrcry', 'spvaybvlrh', 'accxcwacbf', 'tyfgzlfyxz', 'zzwqfwmluo', 'jccpithurs', 'kbaskxylsi', 'gqpqnhrgad', 'heddviujlr', 'pvlbqbvxkz', 'khcayuywpm', 'chvzieyunc', 'shpojatucd', 'iaepjvabke', 'knmirnkikl', 'aqmdamyesb', 'pfnhhxcjke', 'yrjuxqblhh', 'psmxroddcf', 'mhimebzzhc', 'vpswqttvhk', 'predbstyyo', 'tldncnizgm', 'isvhfthiwb', 'igmjyzkiqf', 'mwztjxqrln', 'qoavkbwqlj', 'fdtdziegcu', 'ccjhoqptmp', 'kddeksgycq', 'aqpbhngmca', 'yizebutvec', 'durzlbiuew', 'ieimrxuxti', 'axveylqhvx', 'zdhjzykaze', 'mfbvrgcyma', 'oowyhszqbf', 'mjecwssqsf', 'yjngzezpwg', 'sflxqslrvi', 'wrucmxactk', 'egyjalgcch', 'wgteyklyzj', 'mfuhgeehnb', 'hjknbnhtgd', 'plflytkzps', 'owbxvusmww', 'wjunwsjvhj', 'jfluquxkkc', 'rjypxkeuee', 'queslqhlis', 'fkjwlggcnj', 'hbcfhxfrdz', 'ueyackgujq', 'svgjmyxfqk', 'ouqnllrwpe', 'zhhtjyjokv', 'htbezfmtnu', 'gguhcxwbay', 'owcsnihnlo', 'fefazdgwck', 'mpbnafrleo', 'sqqneadvbd', 'urwvybsqql', 'fpohknlucf', 'eoayyrbuqw', 'boarqggslr', 'wmweelgtgd', 'rfjtwkkvhk', 'zunbtjsfye', 'ymhngfiygq', 'irdnooqnga', 'fnwsormnaf', 'pzffhgyvrt', 'wfktnwzzod', 'lqqcnitvak', 'nucspowswg', 'crnawamtwq', 'ttdwekhiyz', 'wkbdvdggqw', 'gkhrjmhczu', 'jotnxwcepd', 'pwuieaniez', 'qlatrmgmrw', 'swecttzhvh', 'zvkcbvpgiq', 'dwxrlarclx', 'rgywffqgul', 'tkojppokop', 'szuvfubltz', 'mgrjsousgk', 'ryhdxszzta', 'otecwvpkzp', 'jhivlmiots', 'yisspmbwhw', 'pizyjxnqoy', 'fcctrgcsoj', 'lnebkvolsg', 'vtnzfwmpln', 'mbphhzpgjy', 'dutjbwxhft', 'rmcnlavyei', 'cuvstdtqop', 'zhhxnuapfg', 'rzzylubqri', 'tpneeslrtp', 'affhuskqku', 'xrkfxfvedd', 'iiytecvjdl', 'lcvxvpepou', 'epiieleneg', 'pgajvblafy', 'gqvdifulow', 'nckkinvgdw', 'ifiomcynzt', 'pzoelwjzqw', 'warbszdqjb', 'mjepsmbyve', 'gnxuhyjsdi', 'tfknmfrjmm', 'kqvbuewxvz', 'nnkhuwbrle', 'vputgofpef', 'rgwpnqylqk', 'kothdhkqkp', 'iwnsznezfc', 'yjmimqcqfn', 'ipvudglwmr', 'uovyuuitwe', 'zdahsziqkq', 'aqcmayyznv', 'hdlfexcohc', 'smnznonpou', 'wbjunjtqco', 'vkljqlumjj', 'bmvymwdurn', 'ymyzyvwbwf', 'cdltwpqpkm', 'cxnffzlmot', 'nkyvdzawql', 'uzygxbhsjj', 'bobcbmotik', 'rhcipxtdno', 'uuolhffbks', 'imnkuffsyf', 'vevaydoena', 'agyiurqucy', 'etkbvdzaqa', 'plhihuzglz', 'jdxuvedfqr', 'ynhttfgomj', 'ukorxtcjxe', 'tvvwtffkwo', 'yrkwqpuqgk', 'abbsuoratu', 'mxdvoiuoty', 'stfvyswdqt', 'ldjlsgthce', 'meenbwdmep', 'tmmsrxbwdp', 'zvodbqsngo', 'malrghytmp', 'idobtnqqhd', 'bytblkzpha', 'irizduhjxk', 'dawkpfektp', 'gvuhslcukl', 'lffnzffbig', 'uuxzgxzgtw', 'emmjsldnvk', 'njfxqgxfix', 'uesqfblhjh', 'dpaujvyizo', 'mmsaceqeyq', 'kkigzaadnx', 'peugtyckkd', 'vnwobwhgum', 'rrsvaxqqan', 'urkbdedvjs', 'gswywcrwwd', 'fuaizxymfn', 'thhtofhhsj', 'gdqgflrmxh', 'exbevtbuag', 'euhomourmt', 'bhqmmvphei', 'vzzxukykno', 'fxbwttkbye', 'vtzsvfhoio', 'ltbnwymyat', 'yllictcbxi', 'avfumetukn', 'rqjwzbqtfv', 'huhumfkrqx', 'omxgogblcj', 'borediobxi', 'duumuhxelb', 'eijdxbqida', 'lpaxwiwcqe', 'rqybxsrzug', 'hrxuelxabi', 'arsifqeqdg', 'uxuzjntgdl', 'xjeigxvzhe', 'kohwtrybkh', 'ktftjqhkwn', 'ynmfjqgqgq', 'vunowrvkcl', 'bezbmmdbbe', 'qfqcplurzk', 'iayephwhqf', 'eaxdaafxtn', 'jxwztgoohl', 'pwvdmnaoyh', 'rxdkorvlfe', 'dmyatzqljg', 'wivisxveig', 'fdgidpvlpy', 'jkaboogzfn', 'ivkcggyihe', 'hgcqddnudw', 'mwwmkawrhp', 'cbkvlukeij', 'spbprgmkwt', 'rmjtfsessz', 'ifjfyvwune', 'fdcfwfyyrg', 'ioodsxvpjv', 'ltruqywiru', 'odnrwqspdl', 'jhbpcnlwnh', 'hqynpurnur', 'lmjennlano', 'khvogzlgbe', 'uhwudkmysn', 'wvlaeeynvr', 'growpcoyde', 'kplczgqimh', 'dstwsldfpb', 'mrpjpxfngw', 'fmdxzbbfnu', 'qsachcizpg', 'pjxzbqbzkd', 'zvkjzvdypm', 'yzlcfpkqvz', 'usfpfruach', 'regzbbmqbc', 'duxnltofmj', 'jqkocmfxud', 'twuqmmuhgd', 'keerkjppli', 'cpvlcalrmc', 'pmtsmkaive', 'yxbkquftiu', 'awgykglqob', 'bardqoasra', 'ppfntijxoj', 'cvgvudwssx', 'bbhyfjsyge', 'azivhshwso', 'mvraxaubra', 'xkhkqsiuym', 'duokdivnmb', 'rieakfedgt', 'qjgwfuavsa', 'bdvlpunhbn', 'ajvfgqlhpw', 'amdnhnelkk', 'nwtswfpujq', 'hrlvhkdari', 'dnenicwqzy', 'edheuekogf', 'usjombonxe', 'ovldmivkpm', 'sjowcatqlg', 'qmaooeifjx', 'yocmvbivlz', 'kywumjurdl', 'lunxzttsoc', 'molhwrffom', 'qanbwuqtcg', 'iydojuzkjg', 'hmtuknjcte', 'bwoafffuhs', 'stvvinauft', 'vaxanzhhnr', 'tynorywwtj', 'lmgovkbeuj', 'wkmhakkdkv', 'upirrxtcxp', 'mcvnuqlwva', 'dycqfwtcgp', 'kjbvhutmfv', 'yjsjucgshq', 'wqytjdlxwm', 'tezixexruz', 'buvmetkmen', 'celjsaavwo', 'ogdeqtszss', 'fdbjuefcsa', 'ottyxzeisz', 'zqnelczbaf', 'wsensgxdcg', 'clcirxxlzc', 'rxcsbrzftn', 'iqbnkaoqlz', 'olsbwuaopa', 'mgkqkjackp', 'royssnaxqu', 'acgoaebstp', 'bdtoptohst', 'qlkxqsyudm', 'erffdnnooh', 'fxmsusctwa', 'llhcwcgoqx', 'kqvvugrday', 'ewrkvodagg', 'fgqtcrflef', 'dzgztlhzzh', 'vdagvfftwm', 'fephfhtygb', 'mwiqmkaavk', 'avngfothvz', 'vvbkpjgqkq', 'njfitfjceg', 'stfsmswupl', 'vhgbrsyjie', 'fxkfhbsdak', 'hthwzbjpat', 'wtnenhbvqe', 'zyzmvjhpue', 'kbytqaapzl', 'xhowsnsqfq', 'mqywvxvlwd', 'ymwlortetg', 'gqhcqsmzsl', 'efdlnvglzt', 'wabwlmfdju', 'blvyofsmqt', 'dxxsqrqkhb', 'ymovvssydp', 'ujokpcxnlx', 'femmmcekne', 'wvqtnhdrjj', 'fkxnfzblig', 'gduwhljvud', 'yxhlwfgbtg', 'hnxmwwdjfq', 'tsmkgkmsjg', 'hbuuhubjjs', 'inttliimrf', 'kzrbzbbihu', 'kakqmanzgg', 'aivddiiunk', 'gmaniyiivg', 'fjgmskhdyt', 'qyuvreufit', 'bddovblmcq', 'ymnbpjrhkk', 'opfwlnfhxe', 'zabyamdrmz', 'nkjjgsvdqr', 'dqwmgzouqx', 'ftmzbpbvkj', 'ihebuybfpx', 'doikynuhtz', 'zbuloenecu', 'bjasynzasl', 'ivakrhrjbr', 'jsrmnaxyod', 'jiylcekaoq', 'vnzuqusouc', 'imhbhaqyoc', 'nrjweyfuac', 'fhbbwvysns', 'nxzoioqdew', 'vcvtbltmeq', 'ljltukjgrf', 'aqqnzyubbj', 'oxmulmpbpf', 'jojcvujkus', 'dyecuijpun', 'rngvsszsdp', 'kiwaogyeus', 'pmowlorsuw', 'qvjnjmkncg', 'hahfrfwblk', 'ormbezwdut', 'rfowaiercn', 'ykmbyovrar', 'djzkgmqfqs', 'vmynsyvuun', 'ktksxyjmtb', 'agvqqzeust', 'myvoyioomr', 'wpoguvxxgi', 'mkrqfycwkh', 'zravmilcch', 'pqkpjhgzlc', 'ielhvlgpjq', 'lkgcfeclrh', 'hellacqzyx', 'yurhjuwaqu', 'limibyilbt', 'wfauxnqjpe', 'wjcdhnnocn', 'qvyrpreeiv', 'nuxtofvmmz', 'uuibvkjoer', 'cbhcscjpeh', 'mnxxxnuamu', 'wpjvtrqcjp', 'hvwuzdopdx', 'hysqgkaqhk', 'xpanfxquym', 'rierxypbhl', 'ophyjxljmp', 'stbqbzbabo', 'udfopuifce', 'qoblsfntpa', 'usxbaqqsot', 'jurkrmcjiz', 'gfyauevxgf', 'pfghrpsapy', 'dctqosshgb', 'nkmeymcely', 'wlqkxsgrky', 'picwvzavot', 'zqoxgscbbh', 'ctupyqiutb', 'tuprpuwlar', 'hzdsxbuzrv', 'srqldjsqra', 'jdgonjcoaz', 'mjmeblwhmi', 'ycctoziodl', 'foohclmzhh', 'bumbchssdx', 'qjwtdkdftn', 'zewjhmrzqg', 'ebsjyfaiwq', 'jyjckjuxyx', 'nbsdlsgdby', 'gpimjhdwje', 'xqerqhwlyl', 'ufglbpyomt', 'mndrnsayqd', 'ahsdaogqwg', 'xdmsgjxmco', 'gopyjokset', 'ocuwmrbasg', 'hghhoyitsq', 'csopnszjvc']\n"
          ]
        }
      ]
    },
    {
      "cell_type": "code",
      "source": [
        "pseudonym_tabelle"
      ],
      "metadata": {
        "id": "LoGOok5I0Nyk",
        "outputId": "9ce5b770-c825-4da7-9ff8-e0b804cf7b12",
        "colab": {
          "base_uri": "https://localhost:8080/",
          "height": 424
        }
      },
      "execution_count": 47,
      "outputs": [
        {
          "output_type": "execute_result",
          "data": {
            "text/plain": [
              "                               patients_ID   pseudonym\n",
              "0     2f114e21-8b95-e9eb-2e9e-4b950b059cfa  mqscbrebda\n",
              "1     2812f4fc-6aba-0033-728b-7e569bb8adcc  doweuewifm\n",
              "2     9b1a203a-6368-49a5-0c79-45c32729bc17  whixippdom\n",
              "3     52a250a9-24e4-ec9b-91d6-c38cf1b10fc0  hihiaqpouw\n",
              "4     ad5525c0-fdab-94dc-018f-d7209c72bdef  vxzopnhdkw\n",
              "...                                    ...         ...\n",
              "1045  edab2899-dac4-a19d-59e2-a9bea7b95cab  xdmsgjxmco\n",
              "1046  d1065043-2a5f-2d0e-1dd0-cb7f31e6d340  gopyjokset\n",
              "1047  4c523ab1-3255-911a-7eef-3bc3e48b7b05  ocuwmrbasg\n",
              "1048  8d49cb05-b1c3-b8fe-dc75-e43ad861f074  hghhoyitsq\n",
              "1049  fce5ed5c-e218-4839-a0c5-6ef906e5ae73  csopnszjvc\n",
              "\n",
              "[1050 rows x 2 columns]"
            ],
            "text/html": [
              "\n",
              "  <div id=\"df-43751bed-a3fc-4de8-bbca-ac3ca93b304f\">\n",
              "    <div class=\"colab-df-container\">\n",
              "      <div>\n",
              "<style scoped>\n",
              "    .dataframe tbody tr th:only-of-type {\n",
              "        vertical-align: middle;\n",
              "    }\n",
              "\n",
              "    .dataframe tbody tr th {\n",
              "        vertical-align: top;\n",
              "    }\n",
              "\n",
              "    .dataframe thead th {\n",
              "        text-align: right;\n",
              "    }\n",
              "</style>\n",
              "<table border=\"1\" class=\"dataframe\">\n",
              "  <thead>\n",
              "    <tr style=\"text-align: right;\">\n",
              "      <th></th>\n",
              "      <th>patients_ID</th>\n",
              "      <th>pseudonym</th>\n",
              "    </tr>\n",
              "  </thead>\n",
              "  <tbody>\n",
              "    <tr>\n",
              "      <th>0</th>\n",
              "      <td>2f114e21-8b95-e9eb-2e9e-4b950b059cfa</td>\n",
              "      <td>mqscbrebda</td>\n",
              "    </tr>\n",
              "    <tr>\n",
              "      <th>1</th>\n",
              "      <td>2812f4fc-6aba-0033-728b-7e569bb8adcc</td>\n",
              "      <td>doweuewifm</td>\n",
              "    </tr>\n",
              "    <tr>\n",
              "      <th>2</th>\n",
              "      <td>9b1a203a-6368-49a5-0c79-45c32729bc17</td>\n",
              "      <td>whixippdom</td>\n",
              "    </tr>\n",
              "    <tr>\n",
              "      <th>3</th>\n",
              "      <td>52a250a9-24e4-ec9b-91d6-c38cf1b10fc0</td>\n",
              "      <td>hihiaqpouw</td>\n",
              "    </tr>\n",
              "    <tr>\n",
              "      <th>4</th>\n",
              "      <td>ad5525c0-fdab-94dc-018f-d7209c72bdef</td>\n",
              "      <td>vxzopnhdkw</td>\n",
              "    </tr>\n",
              "    <tr>\n",
              "      <th>...</th>\n",
              "      <td>...</td>\n",
              "      <td>...</td>\n",
              "    </tr>\n",
              "    <tr>\n",
              "      <th>1045</th>\n",
              "      <td>edab2899-dac4-a19d-59e2-a9bea7b95cab</td>\n",
              "      <td>xdmsgjxmco</td>\n",
              "    </tr>\n",
              "    <tr>\n",
              "      <th>1046</th>\n",
              "      <td>d1065043-2a5f-2d0e-1dd0-cb7f31e6d340</td>\n",
              "      <td>gopyjokset</td>\n",
              "    </tr>\n",
              "    <tr>\n",
              "      <th>1047</th>\n",
              "      <td>4c523ab1-3255-911a-7eef-3bc3e48b7b05</td>\n",
              "      <td>ocuwmrbasg</td>\n",
              "    </tr>\n",
              "    <tr>\n",
              "      <th>1048</th>\n",
              "      <td>8d49cb05-b1c3-b8fe-dc75-e43ad861f074</td>\n",
              "      <td>hghhoyitsq</td>\n",
              "    </tr>\n",
              "    <tr>\n",
              "      <th>1049</th>\n",
              "      <td>fce5ed5c-e218-4839-a0c5-6ef906e5ae73</td>\n",
              "      <td>csopnszjvc</td>\n",
              "    </tr>\n",
              "  </tbody>\n",
              "</table>\n",
              "<p>1050 rows × 2 columns</p>\n",
              "</div>\n",
              "      <button class=\"colab-df-convert\" onclick=\"convertToInteractive('df-43751bed-a3fc-4de8-bbca-ac3ca93b304f')\"\n",
              "              title=\"Convert this dataframe to an interactive table.\"\n",
              "              style=\"display:none;\">\n",
              "        \n",
              "  <svg xmlns=\"http://www.w3.org/2000/svg\" height=\"24px\"viewBox=\"0 0 24 24\"\n",
              "       width=\"24px\">\n",
              "    <path d=\"M0 0h24v24H0V0z\" fill=\"none\"/>\n",
              "    <path d=\"M18.56 5.44l.94 2.06.94-2.06 2.06-.94-2.06-.94-.94-2.06-.94 2.06-2.06.94zm-11 1L8.5 8.5l.94-2.06 2.06-.94-2.06-.94L8.5 2.5l-.94 2.06-2.06.94zm10 10l.94 2.06.94-2.06 2.06-.94-2.06-.94-.94-2.06-.94 2.06-2.06.94z\"/><path d=\"M17.41 7.96l-1.37-1.37c-.4-.4-.92-.59-1.43-.59-.52 0-1.04.2-1.43.59L10.3 9.45l-7.72 7.72c-.78.78-.78 2.05 0 2.83L4 21.41c.39.39.9.59 1.41.59.51 0 1.02-.2 1.41-.59l7.78-7.78 2.81-2.81c.8-.78.8-2.07 0-2.86zM5.41 20L4 18.59l7.72-7.72 1.47 1.35L5.41 20z\"/>\n",
              "  </svg>\n",
              "      </button>\n",
              "      \n",
              "  <style>\n",
              "    .colab-df-container {\n",
              "      display:flex;\n",
              "      flex-wrap:wrap;\n",
              "      gap: 12px;\n",
              "    }\n",
              "\n",
              "    .colab-df-convert {\n",
              "      background-color: #E8F0FE;\n",
              "      border: none;\n",
              "      border-radius: 50%;\n",
              "      cursor: pointer;\n",
              "      display: none;\n",
              "      fill: #1967D2;\n",
              "      height: 32px;\n",
              "      padding: 0 0 0 0;\n",
              "      width: 32px;\n",
              "    }\n",
              "\n",
              "    .colab-df-convert:hover {\n",
              "      background-color: #E2EBFA;\n",
              "      box-shadow: 0px 1px 2px rgba(60, 64, 67, 0.3), 0px 1px 3px 1px rgba(60, 64, 67, 0.15);\n",
              "      fill: #174EA6;\n",
              "    }\n",
              "\n",
              "    [theme=dark] .colab-df-convert {\n",
              "      background-color: #3B4455;\n",
              "      fill: #D2E3FC;\n",
              "    }\n",
              "\n",
              "    [theme=dark] .colab-df-convert:hover {\n",
              "      background-color: #434B5C;\n",
              "      box-shadow: 0px 1px 3px 1px rgba(0, 0, 0, 0.15);\n",
              "      filter: drop-shadow(0px 1px 2px rgba(0, 0, 0, 0.3));\n",
              "      fill: #FFFFFF;\n",
              "    }\n",
              "  </style>\n",
              "\n",
              "      <script>\n",
              "        const buttonEl =\n",
              "          document.querySelector('#df-43751bed-a3fc-4de8-bbca-ac3ca93b304f button.colab-df-convert');\n",
              "        buttonEl.style.display =\n",
              "          google.colab.kernel.accessAllowed ? 'block' : 'none';\n",
              "\n",
              "        async function convertToInteractive(key) {\n",
              "          const element = document.querySelector('#df-43751bed-a3fc-4de8-bbca-ac3ca93b304f');\n",
              "          const dataTable =\n",
              "            await google.colab.kernel.invokeFunction('convertToInteractive',\n",
              "                                                     [key], {});\n",
              "          if (!dataTable) return;\n",
              "\n",
              "          const docLinkHtml = 'Like what you see? Visit the ' +\n",
              "            '<a target=\"_blank\" href=https://colab.research.google.com/notebooks/data_table.ipynb>data table notebook</a>'\n",
              "            + ' to learn more about interactive tables.';\n",
              "          element.innerHTML = '';\n",
              "          dataTable['output_type'] = 'display_data';\n",
              "          await google.colab.output.renderOutput(dataTable, element);\n",
              "          const docLink = document.createElement('div');\n",
              "          docLink.innerHTML = docLinkHtml;\n",
              "          element.appendChild(docLink);\n",
              "        }\n",
              "      </script>\n",
              "    </div>\n",
              "  </div>\n",
              "  "
            ]
          },
          "metadata": {},
          "execution_count": 47
        }
      ]
    },
    {
      "cell_type": "code",
      "source": [
        "DF_of_Facts_Table_pseudonym=DF_of_Facts_Table.merge(pseudonym_tabelle, on= \"patients_ID\")\n",
        "DF_of_Facts_Table_pseudonym.head(5)"
      ],
      "metadata": {
        "colab": {
          "base_uri": "https://localhost:8080/",
          "height": 531
        },
        "id": "a3t33xEV5_UG",
        "outputId": "144c06c7-3ffd-4f4f-8387-3e61e1fb9eda"
      },
      "execution_count": 48,
      "outputs": [
        {
          "output_type": "execute_result",
          "data": {
            "text/plain": [
              "                            patients_ID  conditions_code  procedures_code  \\\n",
              "0  2f114e21-8b95-e9eb-2e9e-4b950b059cfa       36955009.0      261352009.0   \n",
              "1  2f114e21-8b95-e9eb-2e9e-4b950b059cfa      386661006.0      261352009.0   \n",
              "2  2f114e21-8b95-e9eb-2e9e-4b950b059cfa      840539006.0      261352009.0   \n",
              "3  2f114e21-8b95-e9eb-2e9e-4b950b059cfa      840544004.0      261352009.0   \n",
              "4  2812f4fc-6aba-0033-728b-7e569bb8adcc       36955009.0      180325003.0   \n",
              "\n",
              "   devices_code  medications_code medication_grading course_of_Desease  \\\n",
              "0           0.0               0.0                  0                 1   \n",
              "1           0.0               0.0                  0                 1   \n",
              "2           0.0               0.0                  0                 1   \n",
              "3           0.0               0.0                  0                 1   \n",
              "4           0.0          197604.0                  0                 5   \n",
              "\n",
              "    pseudonym  \n",
              "0  mqscbrebda  \n",
              "1  mqscbrebda  \n",
              "2  mqscbrebda  \n",
              "3  mqscbrebda  \n",
              "4  doweuewifm  "
            ],
            "text/html": [
              "\n",
              "  <div id=\"df-156686a8-9783-4702-9ae1-5f1f98e6b0b0\">\n",
              "    <div class=\"colab-df-container\">\n",
              "      <div>\n",
              "<style scoped>\n",
              "    .dataframe tbody tr th:only-of-type {\n",
              "        vertical-align: middle;\n",
              "    }\n",
              "\n",
              "    .dataframe tbody tr th {\n",
              "        vertical-align: top;\n",
              "    }\n",
              "\n",
              "    .dataframe thead th {\n",
              "        text-align: right;\n",
              "    }\n",
              "</style>\n",
              "<table border=\"1\" class=\"dataframe\">\n",
              "  <thead>\n",
              "    <tr style=\"text-align: right;\">\n",
              "      <th></th>\n",
              "      <th>patients_ID</th>\n",
              "      <th>conditions_code</th>\n",
              "      <th>procedures_code</th>\n",
              "      <th>devices_code</th>\n",
              "      <th>medications_code</th>\n",
              "      <th>medication_grading</th>\n",
              "      <th>course_of_Desease</th>\n",
              "      <th>pseudonym</th>\n",
              "    </tr>\n",
              "  </thead>\n",
              "  <tbody>\n",
              "    <tr>\n",
              "      <th>0</th>\n",
              "      <td>2f114e21-8b95-e9eb-2e9e-4b950b059cfa</td>\n",
              "      <td>36955009.0</td>\n",
              "      <td>261352009.0</td>\n",
              "      <td>0.0</td>\n",
              "      <td>0.0</td>\n",
              "      <td>0</td>\n",
              "      <td>1</td>\n",
              "      <td>mqscbrebda</td>\n",
              "    </tr>\n",
              "    <tr>\n",
              "      <th>1</th>\n",
              "      <td>2f114e21-8b95-e9eb-2e9e-4b950b059cfa</td>\n",
              "      <td>386661006.0</td>\n",
              "      <td>261352009.0</td>\n",
              "      <td>0.0</td>\n",
              "      <td>0.0</td>\n",
              "      <td>0</td>\n",
              "      <td>1</td>\n",
              "      <td>mqscbrebda</td>\n",
              "    </tr>\n",
              "    <tr>\n",
              "      <th>2</th>\n",
              "      <td>2f114e21-8b95-e9eb-2e9e-4b950b059cfa</td>\n",
              "      <td>840539006.0</td>\n",
              "      <td>261352009.0</td>\n",
              "      <td>0.0</td>\n",
              "      <td>0.0</td>\n",
              "      <td>0</td>\n",
              "      <td>1</td>\n",
              "      <td>mqscbrebda</td>\n",
              "    </tr>\n",
              "    <tr>\n",
              "      <th>3</th>\n",
              "      <td>2f114e21-8b95-e9eb-2e9e-4b950b059cfa</td>\n",
              "      <td>840544004.0</td>\n",
              "      <td>261352009.0</td>\n",
              "      <td>0.0</td>\n",
              "      <td>0.0</td>\n",
              "      <td>0</td>\n",
              "      <td>1</td>\n",
              "      <td>mqscbrebda</td>\n",
              "    </tr>\n",
              "    <tr>\n",
              "      <th>4</th>\n",
              "      <td>2812f4fc-6aba-0033-728b-7e569bb8adcc</td>\n",
              "      <td>36955009.0</td>\n",
              "      <td>180325003.0</td>\n",
              "      <td>0.0</td>\n",
              "      <td>197604.0</td>\n",
              "      <td>0</td>\n",
              "      <td>5</td>\n",
              "      <td>doweuewifm</td>\n",
              "    </tr>\n",
              "  </tbody>\n",
              "</table>\n",
              "</div>\n",
              "      <button class=\"colab-df-convert\" onclick=\"convertToInteractive('df-156686a8-9783-4702-9ae1-5f1f98e6b0b0')\"\n",
              "              title=\"Convert this dataframe to an interactive table.\"\n",
              "              style=\"display:none;\">\n",
              "        \n",
              "  <svg xmlns=\"http://www.w3.org/2000/svg\" height=\"24px\"viewBox=\"0 0 24 24\"\n",
              "       width=\"24px\">\n",
              "    <path d=\"M0 0h24v24H0V0z\" fill=\"none\"/>\n",
              "    <path d=\"M18.56 5.44l.94 2.06.94-2.06 2.06-.94-2.06-.94-.94-2.06-.94 2.06-2.06.94zm-11 1L8.5 8.5l.94-2.06 2.06-.94-2.06-.94L8.5 2.5l-.94 2.06-2.06.94zm10 10l.94 2.06.94-2.06 2.06-.94-2.06-.94-.94-2.06-.94 2.06-2.06.94z\"/><path d=\"M17.41 7.96l-1.37-1.37c-.4-.4-.92-.59-1.43-.59-.52 0-1.04.2-1.43.59L10.3 9.45l-7.72 7.72c-.78.78-.78 2.05 0 2.83L4 21.41c.39.39.9.59 1.41.59.51 0 1.02-.2 1.41-.59l7.78-7.78 2.81-2.81c.8-.78.8-2.07 0-2.86zM5.41 20L4 18.59l7.72-7.72 1.47 1.35L5.41 20z\"/>\n",
              "  </svg>\n",
              "      </button>\n",
              "      \n",
              "  <style>\n",
              "    .colab-df-container {\n",
              "      display:flex;\n",
              "      flex-wrap:wrap;\n",
              "      gap: 12px;\n",
              "    }\n",
              "\n",
              "    .colab-df-convert {\n",
              "      background-color: #E8F0FE;\n",
              "      border: none;\n",
              "      border-radius: 50%;\n",
              "      cursor: pointer;\n",
              "      display: none;\n",
              "      fill: #1967D2;\n",
              "      height: 32px;\n",
              "      padding: 0 0 0 0;\n",
              "      width: 32px;\n",
              "    }\n",
              "\n",
              "    .colab-df-convert:hover {\n",
              "      background-color: #E2EBFA;\n",
              "      box-shadow: 0px 1px 2px rgba(60, 64, 67, 0.3), 0px 1px 3px 1px rgba(60, 64, 67, 0.15);\n",
              "      fill: #174EA6;\n",
              "    }\n",
              "\n",
              "    [theme=dark] .colab-df-convert {\n",
              "      background-color: #3B4455;\n",
              "      fill: #D2E3FC;\n",
              "    }\n",
              "\n",
              "    [theme=dark] .colab-df-convert:hover {\n",
              "      background-color: #434B5C;\n",
              "      box-shadow: 0px 1px 3px 1px rgba(0, 0, 0, 0.15);\n",
              "      filter: drop-shadow(0px 1px 2px rgba(0, 0, 0, 0.3));\n",
              "      fill: #FFFFFF;\n",
              "    }\n",
              "  </style>\n",
              "\n",
              "      <script>\n",
              "        const buttonEl =\n",
              "          document.querySelector('#df-156686a8-9783-4702-9ae1-5f1f98e6b0b0 button.colab-df-convert');\n",
              "        buttonEl.style.display =\n",
              "          google.colab.kernel.accessAllowed ? 'block' : 'none';\n",
              "\n",
              "        async function convertToInteractive(key) {\n",
              "          const element = document.querySelector('#df-156686a8-9783-4702-9ae1-5f1f98e6b0b0');\n",
              "          const dataTable =\n",
              "            await google.colab.kernel.invokeFunction('convertToInteractive',\n",
              "                                                     [key], {});\n",
              "          if (!dataTable) return;\n",
              "\n",
              "          const docLinkHtml = 'Like what you see? Visit the ' +\n",
              "            '<a target=\"_blank\" href=https://colab.research.google.com/notebooks/data_table.ipynb>data table notebook</a>'\n",
              "            + ' to learn more about interactive tables.';\n",
              "          element.innerHTML = '';\n",
              "          dataTable['output_type'] = 'display_data';\n",
              "          await google.colab.output.renderOutput(dataTable, element);\n",
              "          const docLink = document.createElement('div');\n",
              "          docLink.innerHTML = docLinkHtml;\n",
              "          element.appendChild(docLink);\n",
              "        }\n",
              "      </script>\n",
              "    </div>\n",
              "  </div>\n",
              "  "
            ]
          },
          "metadata": {},
          "execution_count": 48
        }
      ]
    },
    {
      "cell_type": "markdown",
      "source": [
        "### Pseudonymisieren der Pateinten ID in der dimensionstabelle d_patients"
      ],
      "metadata": {
        "id": "cVYu6LMHsim3"
      }
    },
    {
      "cell_type": "code",
      "source": [
        "from sqlalchemy import false\n",
        "conn = sqlite3.connect(DB_DWH_PATH)\n",
        "\n",
        "cursor = conn.cursor()\n",
        "cursor.execute(\"SELECT * FROM d_patients\")\n",
        "DF_of_d_patients = DataFrame(cursor.fetchall())\n",
        "DF_of_d_patients.columns = ['patients_ID', 'PATIENTS_BIRTHDATE', 'PATIENTS_DEATHDATE', 'PATIENTS_GENDER']\n",
        "\n",
        "DF_of_d_patients_with_pseudonym = DF_of_d_patients.merge(pseudonym_tabelle, on= \"patients_ID\")\n",
        "\n",
        "DF_of_d_patients_for_DWH = sqldf(\"SELECT pseudonym AS PATIENTS_ID, PATIENTS_BIRTHDATE, PATIENTS_DEATHDATE,PATIENTS_GENDER FROM DF_of_d_patients_with_pseudonym\")\n",
        "DF_of_d_patients_for_DWH\n",
        "\n",
        "cursor.execute(\"DELETE FROM d_patients\")\n",
        "\n",
        "conn.commit()\n",
        "conn.close()"
      ],
      "metadata": {
        "id": "LPFWc82-siBf"
      },
      "execution_count": 49,
      "outputs": []
    },
    {
      "cell_type": "markdown",
      "source": [
        "##Einlesen und sichern der benötigten daten für die ANTICOVIS Faktentabelle und der dimensionstabelle d_patients"
      ],
      "metadata": {
        "id": "bCtdiZkX6iFO"
      }
    },
    {
      "cell_type": "code",
      "source": [
        "DF_of_Facts_Table_ohne_patientenid = sqldf(\"\"\"SELECT pseudonym AS patients_ID, conditions_code,procedures_code, devices_code, medication_grading, course_of_desease FROM DF_of_Facts_Table_pseudonym\"\"\")\n",
        "DF_of_Facts_Table_ohne_patientenid\n",
        "\n",
        "conn = sqlite3.connect(DB_DWH_PATH)\n",
        "\n",
        "DF_of_Facts_Table_ohne_patientenid.to_sql('F_ANTICOVIS',conn, if_exists = 'replace', index = False)\n",
        "DF_of_d_patients_for_DWH.to_sql('d_patients',conn, if_exists = 'replace', index = False)\n",
        "conn.commit()\n",
        "conn.close()"
      ],
      "metadata": {
        "id": "rKAw5Rbr4xse"
      },
      "execution_count": 50,
      "outputs": []
    },
    {
      "cell_type": "markdown",
      "source": [
        "#TEST"
      ],
      "metadata": {
        "id": "QX-KXn2J5Mde"
      }
    },
    {
      "cell_type": "code",
      "source": [
        "conn = sqlite3.connect(DB_DWH_PATH)\n",
        "cursor = conn.cursor()\n",
        "#cursor.execute(\"SELECT name FROM sqlite_master WHERE type='table';\")\n",
        "cursor.execute(\"SELECT * FROM d_patients\")\n",
        "#cursor.execute(\"\"\"DELETE FROM F_ANTICOVIS\"\"\")\n",
        "print(cursor.fetchall())"
      ],
      "metadata": {
        "colab": {
          "base_uri": "https://localhost:8080/"
        },
        "id": "PFFb3nDc48WA",
        "outputId": "7e7c79c8-1e35-4b04-dc70-decd05801eb2"
      },
      "execution_count": 52,
      "outputs": [
        {
          "output_type": "stream",
          "name": "stdout",
          "text": [
            "[('mqscbrebda', '2002-05-05', '', 'F'), ('doweuewifm', '1942-05-24', '', 'M'), ('whixippdom', '2013-06-15', '', 'M'), ('hihiaqpouw', '1997-11-16', '', 'F'), ('vxzopnhdkw', '1965-08-28', '', 'M'), ('uhopvybpoy', '1974-12-06', '', 'F'), ('rmolshrqzq', '1991-08-19', '', 'F'), ('mueqyyztfe', '1952-12-25', '', 'M'), ('rctvvoieyc', '1980-02-24', '', 'F'), ('tjqrysjisy', '1992-10-19', '', 'F'), ('qguwpbbzww', '1982-11-06', '', 'M'), ('wyproalxvs', '2005-05-22', '', 'F'), ('sejlnhgaem', '1973-05-03', '', 'F'), ('zxdxgxrijk', '1944-09-05', '2010-06-01', 'F'), ('exisjdiwxi', '1988-08-16', '', 'F'), ('zsssbsqkfs', '1988-01-22', '', 'M'), ('yxfqidnxbf', '1989-01-21', '', 'M'), ('wqpobpanvb', '2002-11-08', '', 'M'), ('cryflepveu', '2010-09-20', '', 'F'), ('rxssvckgkf', '1957-12-07', '', 'F'), ('okgukhcrlt', '1981-05-15', '', 'F'), ('wegrsbvkgj', '1988-05-14', '', 'F'), ('eihasktovo', '1990-02-15', '', 'M'), ('sulwrbayko', '1997-02-13', '', 'F'), ('ecvxynlgxq', '1964-05-07', '', 'F'), ('vgqmhywypz', '2007-12-06', '', 'M'), ('tlpkbmszfl', '1989-09-21', '', 'M'), ('jxqsojunbl', '1944-09-05', '', 'F'), ('fqewzceavq', '1948-06-21', '', 'M'), ('adwfgeyvfn', '1991-11-04', '', 'M'), ('jaeybshene', '2011-01-21', '', 'M'), ('issgokmgqb', '1995-09-28', '', 'F'), ('btumtbdzil', '1947-08-25', '', 'F'), ('xsukhxgear', '1928-06-22', '', 'F'), ('wvtichehnq', '1993-07-21', '', 'M'), ('cjzyozhcyx', '1978-01-05', '', 'M'), ('evyqysomxv', '1955-06-16', '2012-12-20', 'M'), ('ovjwjrvvpz', '1919-01-10', '', 'M'), ('zdxtrjtptp', '1975-04-02', '', 'F'), ('tfkqvjpopa', '1976-01-19', '', 'F'), ('plyilxyvwq', '1958-11-24', '', 'F'), ('zclchuqcvo', '1957-03-20', '', 'F'), ('hxuyyzzhcz', '1968-03-14', '', 'M'), ('njwgaeccfb', '1998-09-27', '', 'F'), ('cudkqyxeyp', '1997-12-31', '', 'F'), ('bgoqcqrcfh', '2002-03-27', '', 'F'), ('tjemfbrleq', '1970-11-16', '', 'F'), ('ifrhjatrtp', '1953-06-27', '', 'M'), ('alprysuxjt', '1977-04-09', '', 'F'), ('wzxtqtbnec', '1955-06-16', '', 'M'), ('wyflypfhzh', '2004-05-03', '', 'M'), ('jtpkqkgqiu', '1995-04-11', '', 'M'), ('rptqssyrmz', '2001-02-23', '', 'F'), ('mvmneoylqw', '1990-01-17', '', 'F'), ('kkamgrjlfw', '1972-08-15', '', 'M'), ('fxqwiwpean', '2009-05-08', '', 'F'), ('tonngvloll', '2005-02-20', '', 'F'), ('owamyafars', '1989-03-28', '', 'M'), ('acqxvnjtra', '1941-12-07', '', 'F'), ('pkhqalftqg', '1966-02-10', '', 'M'), ('ppgopkfwge', '1994-03-30', '', 'F'), ('kvxeamksys', '2011-12-24', '', 'F'), ('fbfgbjhgpl', '2016-12-09', '', 'M'), ('ngoefgzyls', '1963-09-03', '', 'F'), ('qxfzctindo', '1967-12-29', '', 'F'), ('qzfyzctqle', '2015-11-05', '', 'F'), ('jwfbasgkvm', '1973-03-26', '', 'F'), ('pgfkzyrrtp', '1980-09-26', '', 'M'), ('zwsdptcpvd', '1997-03-03', '', 'F'), ('xsauwbgewd', '1953-05-27', '1977-06-08', 'F'), ('wgjhjpcfev', '1994-11-13', '', 'F'), ('relnvwulhc', '1998-08-08', '2020-03-16', 'M'), ('jdjhnfhhqf', '1956-02-12', '', 'M'), ('zqfbdgfmri', '1998-08-08', '', 'M'), ('bzruxppftk', '1996-06-10', '', 'M'), ('tkinzreenl', '1967-06-20', '', 'F'), ('frecllcubw', '2000-01-12', '', 'F'), ('myfkrhcxtx', '1975-12-21', '', 'F'), ('ciwipnqeuy', '1955-09-01', '', 'M'), ('znmhwmjojn', '1956-04-26', '', 'M'), ('aokzpbqmnj', '1952-01-07', '', 'F'), ('wqdfwsqiho', '1989-06-08', '', 'F'), ('suehtbntje', '2012-12-07', '', 'M'), ('nmoxdlitet', '1953-05-27', '', 'F'), ('hcdgiuyaul', '1917-02-14', '2004-01-14', 'M'), ('qwblvzdywg', '2003-06-07', '', 'M'), ('erfrbvaoov', '1957-03-24', '', 'M'), ('mjzliyxpdx', '1971-08-01', '', 'F'), ('ftadwhvyzq', '1965-08-18', '', 'M'), ('gjwmdponei', '2001-12-27', '', 'M'), ('elgqpehohg', '1942-12-07', '', 'F'), ('xchvygckep', '1925-08-19', '2020-03-15', 'M'), ('zgvdubcasi', '1955-08-20', '', 'F'), ('zbaqzvckcg', '1987-08-14', '', 'M'), ('oeqzajgqsd', '1976-07-30', '', 'F'), ('tkvdtzqwpz', '1917-02-14', '', 'M'), ('shegzuuspg', '2017-04-08', '', 'F'), ('wyfeblwuxd', '2018-11-22', '', 'F'), ('oxgjbzcdol', '1988-11-30', '', 'M'), ('styxspazib', '1975-05-28', '', 'F'), ('czigefaniv', '2017-06-28', '', 'F'), ('ndshtfvadk', '1989-11-18', '', 'F'), ('gjrwgdmcsj', '1952-11-12', '2020-02-12', 'M'), ('xomaqbwcec', '1962-03-31', '', 'F'), ('gfamgqermq', '1953-07-18', '', 'F'), ('sgbzpmkzcg', '1956-05-23', '', 'M'), ('bwenbkydnn', '1952-08-17', '', 'M'), ('igcnyfdasm', '1925-08-19', '', 'M'), ('ipucrtjyaw', '1952-11-12', '', 'M'), ('ifowyzgpcw', '2015-03-14', '', 'F'), ('txkrehlvwg', '1978-12-12', '', 'F'), ('spgogneoxe', '1952-06-07', '', 'F'), ('ggzfihifgm', '1993-05-09', '', 'F'), ('vjjqeapjbm', '1967-12-23', '', 'F'), ('yprgmqdcnm', '2006-03-27', '', 'F'), ('atuqxplxei', '1988-09-18', '', 'F'), ('bulmcabnph', '1982-02-20', '', 'F'), ('xhcylpgwgq', '2008-02-14', '', 'F'), ('zeykyhljvs', '1973-03-27', '', 'F'), ('fygdksysko', '1973-01-15', '', 'F'), ('muodyonscg', '1998-01-18', '', 'M'), ('islmhwjfav', '1955-11-14', '', 'M'), ('iscdoycvnx', '1970-07-31', '', 'F'), ('sahjkxnxei', '1973-12-16', '', 'M'), ('bqwgxzmvls', '1992-06-13', '', 'M'), ('uiivjwwncn', '1968-06-02', '', 'M'), ('ypvqyjzfyb', '2014-08-06', '', 'M'), ('wdpqumykfl', '1987-07-07', '', 'M'), ('eoyhoocnsq', '1996-12-31', '', 'M'), ('oqlcltocnt', '1953-04-15', '2011-05-25', 'M'), ('txopeyvjtx', '1949-06-02', '', 'M'), ('jmokiinpxh', '1960-09-30', '', 'M'), ('inxsxcoqow', '2006-04-03', '', 'M'), ('acuxjusewi', '1953-04-15', '', 'M'), ('frmcpcwowp', '1957-09-25', '', 'F'), ('qgbycfjjwh', '1965-11-21', '', 'F'), ('ifjluqhtos', '1952-08-10', '', 'M'), ('rmwbpmylrc', '1999-09-18', '', 'F'), ('dmufwbgibv', '1972-08-08', '', 'F'), ('ltoprhpxvj', '1991-01-17', '', 'M'), ('jdfqcuejge', '1960-03-26', '2020-03-25', 'M'), ('wqcdoorpnc', '1957-01-22', '', 'M'), ('nmeqnlznsa', '1970-05-15', '', 'F'), ('ltqyktaafz', '1961-08-29', '', 'M'), ('yxijkazvhy', '1962-05-23', '', 'F'), ('jvrhqmnxtk', '1993-07-05', '', 'M'), ('uqymmcqlev', '1965-09-04', '', 'M'), ('snkrcijzte', '1973-07-15', '', 'F'), ('vtftcksedz', '1960-03-26', '', 'M'), ('szowpyzfua', '1959-07-21', '', 'M'), ('onncmmrkfl', '1943-03-25', '', 'M'), ('cyaotsrdqk', '1957-05-29', '', 'F'), ('squvvxcstf', '2000-11-24', '', 'M'), ('okgudtqayx', '1998-05-03', '', 'M'), ('ggwsfdfowp', '2002-06-29', '', 'F'), ('cuiqcpkjwy', '2011-07-24', '', 'F'), ('eoaqvwtjvj', '1939-05-24', '', 'M'), ('hbhjzcnijr', '2011-11-30', '', 'M'), ('tnvqkljxci', '2011-01-23', '', 'F'), ('sflhxgdrgs', '1955-08-10', '', 'F'), ('zdqzusgfyi', '1977-02-14', '', 'M'), ('efjfvrifem', '1968-03-11', '', 'M'), ('tphvvtmkhk', '1967-03-07', '', 'F'), ('pirmowqytv', '1958-02-26', '', 'F'), ('miaqdxiwkk', '2018-09-14', '', 'F'), ('bewirxngsp', '1950-01-30', '', 'F'), ('qezlomwodb', '1989-01-08', '', 'M'), ('doucosuxil', '1993-03-07', '', 'M'), ('mvucuhvtil', '2001-06-13', '', 'F'), ('khesfuatvj', '1979-02-27', '', 'F'), ('mmmtfsevqk', '1996-04-29', '', 'M'), ('povlbaolhb', '2014-06-09', '', 'M'), ('yseathvtnv', '1912-08-29', '', 'M'), ('fgunvceqcy', '1986-06-07', '', 'M'), ('udbyxxoiuq', '1956-07-07', '', 'F'), ('rbxbmzvqaz', '1968-02-23', '', 'F'), ('vlduqvjuzr', '1947-04-06', '', 'M'), ('xfcaixuoiu', '2014-08-26', '2018-03-06', 'F'), ('qpdybuadxl', '1955-01-28', '1988-03-04', 'M'), ('knjogqkyop', '1971-03-28', '', 'F'), ('tkobwnkodq', '1954-02-21', '', 'F'), ('uowvebaxix', '1955-01-28', '', 'M'), ('cssunmixwu', '2001-12-12', '', 'M'), ('lcjifynvnw', '2014-08-26', '', 'F'), ('aibijjvleg', '1974-03-04', '', 'F'), ('zalcrnxzla', '2007-06-06', '', 'F'), ('tueitmrqfm', '1991-09-02', '', 'M'), ('mpbobqmszp', '2006-09-28', '', 'M'), ('urxnilxkux', '1975-12-14', '', 'F'), ('zuyqdmkblt', '1980-03-30', '', 'M'), ('xpzmqeboai', '1923-09-14', '', 'F'), ('ydkpncqihq', '2010-10-19', '', 'M'), ('dviqmjbstz', '1981-03-14', '', 'M'), ('ojhadolshh', '1971-08-09', '', 'M'), ('rujkjaqqva', '2012-02-04', '', 'M'), ('hvzaabpdtv', '1942-01-18', '', 'M'), ('tztdazlhub', '2011-08-18', '', 'F'), ('jjommsuaeo', '1973-03-27', '', 'M'), ('dwpxqpvkxi', '1990-04-19', '', 'F'), ('pgezhajvgl', '1999-07-02', '', 'M'), ('eznsqemyxw', '2009-08-02', '', 'M'), ('mtejzkuyra', '1961-01-30', '', 'F'), ('twgnurejfa', '1967-07-06', '', 'M'), ('qolxmbjuxm', '1999-04-18', '', 'F'), ('mkzrefdkbi', '1930-04-06', '', 'F'), ('fnwjattyan', '1995-02-28', '', 'F'), ('xfaqabvolw', '1966-07-16', '', 'F'), ('gpizrzuoxl', '2005-10-19', '', 'M'), ('prrxhpfdku', '2008-08-16', '', 'F'), ('ejaavcvajl', '1976-11-05', '', 'F'), ('miliqdvxku', '1989-10-05', '', 'F'), ('ppdjxfmumm', '1981-05-05', '', 'F'), ('znhgmpaxoh', '1955-02-12', '', 'M'), ('oqdzwbwxhm', '1999-12-06', '', 'F'), ('edvovmeygz', '2013-11-24', '', 'M'), ('ovmyqdoicn', '2001-03-10', '', 'M'), ('evegntmxgk', '1985-03-31', '', 'F'), ('fqtaxlibfq', '1990-10-09', '', 'F'), ('mrfbojwxlj', '1988-08-14', '', 'M'), ('njufxhssxc', '1954-06-18', '', 'F'), ('kixydjoawh', '2000-09-03', '', 'F'), ('nvosjzlmdt', '2009-09-04', '', 'F'), ('vyhyxlcimh', '1965-11-19', '', 'F'), ('vzlajsgyaq', '1922-01-06', '2010-11-05', 'M'), ('ltxpsdiydl', '1969-03-18', '', 'F'), ('factsvdzoa', '2000-08-25', '', 'M'), ('nwxyuxzjiu', '1945-06-20', '2016-05-18', 'F'), ('vlfeeigzeh', '1912-01-31', '2020-04-01', 'F'), ('qpqxvsxqpt', '1941-03-30', '', 'M'), ('ltjapiwtss', '1951-04-02', '', 'F'), ('fhpeacelir', '1991-09-29', '', 'M'), ('vvqbrjacty', '1976-02-28', '', 'F'), ('mthvrhgwaq', '1997-06-24', '', 'M'), ('hyhykrgxhy', '1945-06-20', '', 'F'), ('ccjeaetxua', '1922-01-06', '1983-12-09', 'M'), ('zdcypakctp', '2004-08-09', '', 'F'), ('vxzbkfpeae', '1965-05-15', '', 'F'), ('rhmrcimyfp', '1912-01-31', '', 'F'), ('rwqdvldrci', '1956-11-16', '', 'F'), ('ztmdeuzzcs', '1986-05-21', '', 'M'), ('omlmskyjeh', '1951-08-29', '', 'F'), ('ltkearpkju', '1912-06-29', '', 'M'), ('pnvmwwefop', '2002-12-14', '', 'M'), ('xwplcfgsaz', '1986-01-27', '', 'F'), ('rxnvevjmxr', '2016-06-24', '', 'F'), ('zkzjwdabki', '1922-01-06', '', 'M'), ('afultjvdss', '1994-11-15', '', 'M'), ('gwqtjlwxgu', '2017-08-12', '', 'M'), ('usngkzdwko', '1971-03-12', '', 'F'), ('dwotwzodac', '2009-01-30', '', 'M'), ('wixwqtvucj', '1958-11-11', '', 'M'), ('cytxojngat', '1941-02-10', '', 'F'), ('ptjtigosdk', '2007-06-19', '', 'M'), ('ymyikuaiua', '2000-10-05', '', 'M'), ('lzygxsytvv', '2001-07-23', '', 'M'), ('oqrpruoeih', '1997-09-26', '', 'M'), ('pkootknsst', '1961-07-10', '', 'M'), ('vjhzqbuwvq', '1969-11-22', '', 'F'), ('odweyalgmj', '1943-03-10', '', 'M'), ('qlxjfqdchy', '1994-05-20', '', 'M'), ('pevaamfbda', '1969-11-23', '', 'F'), ('hvwiaymbni', '2013-07-14', '', 'F'), ('lqcotqmwua', '1992-04-11', '', 'F'), ('jpqbhqjcqu', '2001-04-02', '', 'M'), ('tmyvbotofi', '1964-03-02', '', 'F'), ('vjluvvvlvj', '1975-11-23', '', 'F'), ('ipbagtvwvy', '1938-09-01', '', 'M'), ('nrvcfjmvew', '2017-08-24', '', 'F'), ('sczpbucqoo', '2011-07-30', '', 'F'), ('hvjlxnqsej', '1989-12-30', '', 'F'), ('jheyhkbtcc', '1993-03-13', '', 'M'), ('ehnijdbzmk', '1987-08-28', '', 'F'), ('tsllknaaqx', '1961-10-24', '', 'M'), ('njhzwksdfh', '1946-04-28', '', 'M'), ('hdgygwprxb', '1983-06-18', '', 'M'), ('ssuqxkmgbw', '1971-05-22', '', 'F'), ('jckazdvovd', '1967-07-02', '', 'M'), ('suxxxnsgrg', '1976-10-20', '', 'M'), ('guhyybgpiw', '1961-10-07', '', 'F'), ('jyrnlfvsbo', '1963-05-20', '', 'M'), ('tmijuxopjf', '1935-10-02', '2020-04-01', 'M'), ('ieykjwoyqj', '2014-03-31', '', 'M'), ('cqniekawzs', '2006-07-24', '', 'M'), ('vswxpglury', '1993-01-13', '', 'F'), ('siqxmypqbw', '1993-06-16', '', 'F'), ('vqlmnohbcc', '2002-12-17', '', 'M'), ('fkoogybnnj', '2000-12-16', '', 'M'), ('xdajgshlyi', '1935-10-02', '', 'M'), ('cgnyjqnnff', '1938-12-23', '', 'M'), ('qhkvfjkulj', '1948-08-03', '', 'M'), ('skckiakdjf', '1991-05-09', '', 'M'), ('kfzsoyaqxq', '1960-05-06', '', 'F'), ('wistxzssrj', '1971-12-28', '', 'M'), ('pajyugckmp', '1954-03-03', '', 'M'), ('ngoigaumsg', '1969-01-15', '', 'F'), ('gphlckndrz', '1969-05-13', '', 'M'), ('vehnefrwwa', '1961-04-07', '', 'M'), ('hcklhxkley', '1966-03-10', '', 'M'), ('brmdmccsxk', '1972-10-28', '', 'F'), ('cokldhhpag', '1967-02-17', '', 'F'), ('peownzbqld', '1984-01-15', '', 'M'), ('vzknarjpho', '1993-08-14', '', 'M'), ('ivwwldyroc', '1944-03-19', '1981-09-06', 'M'), ('alvmibgliq', '1958-02-19', '', 'M'), ('jnzqpeqxtk', '1999-09-08', '', 'F'), ('qqsoentpio', '2006-01-31', '', 'F'), ('cjbogatphf', '1991-06-07', '', 'F'), ('mepocqklyk', '1945-05-08', '', 'F'), ('ndmfzotjyj', '2013-06-19', '', 'F'), ('xlrzajbcpd', '1983-05-24', '', 'M'), ('cafejrqflf', '2005-10-17', '', 'M'), ('jbwdokjlpv', '1979-05-25', '', 'F'), ('oqwkhscrqx', '1983-04-16', '', 'M'), ('nmrwatrpaa', '1951-11-29', '2005-03-10', 'F'), ('xgacsjhccx', '1944-03-19', '', 'M'), ('eromnyhtfe', '2016-06-02', '', 'M'), ('xzdakpuvdg', '1998-06-03', '', 'F'), ('jceyadovwn', '1968-06-27', '', 'F'), ('ssnukaersa', '1910-12-10', '2000-10-07', 'M'), ('mvjpymseai', '1954-12-09', '', 'M'), ('afjyipsxpz', '1974-12-28', '', 'F'), ('cwwlopfcqe', '1915-01-26', '', 'M'), ('hajevyjzps', '2004-01-11', '', 'F'), ('xpgujngejv', '1977-06-15', '', 'F'), ('wnnjnzcrgq', '2013-06-24', '', 'M'), ('ijenuooamt', '2012-09-23', '', 'M'), ('vzrhtbfzau', '1951-11-29', '', 'F'), ('abhvnhrgap', '1910-12-10', '', 'M'), ('limfdqpnon', '1967-11-11', '', 'F'), ('ccjkbruldn', '1981-12-26', '', 'M'), ('ymesdxkauo', '2007-01-03', '', 'M'), ('asuudyygys', '2006-11-14', '', 'F'), ('sgehykdhhr', '1943-02-13', '', 'M'), ('mwerrmftsb', '2005-02-10', '', 'F'), ('izrayzwupu', '1970-02-19', '', 'M'), ('lbfzspzhsj', '1966-10-27', '', 'M'), ('gqkvumypxc', '1960-11-22', '', 'M'), ('gyktwsnzms', '1998-05-23', '', 'F'), ('aamzjtgwuh', '1932-05-06', '2020-02-14', 'M'), ('pslvtnpbhm', '1941-05-16', '', 'F'), ('htdaagvydq', '1956-09-14', '', 'F'), ('zcgnugpctk', '2006-06-19', '', 'F'), ('ekyeqgeilt', '1990-07-28', '', 'M'), ('vydlvzhujv', '2018-02-24', '', 'M'), ('vfkhtywlxb', '1942-12-04', '', 'M'), ('qhyalhjygv', '1950-11-12', '', 'F'), ('jyaebougyf', '1961-11-30', '', 'M'), ('jhblnwimoq', '1969-08-18', '', 'M'), ('wsxvvrhetw', '2001-03-26', '', 'F'), ('ngjrmrlxnp', '2010-08-08', '', 'F'), ('axetylocqj', '1911-03-22', '2000-12-20', 'F'), ('nemjrqysor', '2007-07-12', '', 'M'), ('lkmhktvkdn', '1947-04-22', '', 'F'), ('qbjellqhfw', '1963-03-09', '', 'M'), ('ijgxxhcjca', '1932-05-06', '', 'M'), ('npbuhaagpy', '1963-02-21', '', 'F'), ('bwdrbufffp', '1970-10-29', '', 'M'), ('gcgyqmngly', '1971-07-10', '', 'M'), ('ocujzxpxuh', '1981-09-09', '', 'F'), ('zhpqflradl', '1911-03-22', '', 'F'), ('pukcpopflg', '2003-04-21', '', 'M'), ('cdzvfxlesm', '1964-03-11', '', 'F'), ('etlggzqeif', '2005-08-17', '', 'M'), ('xeozushgmi', '1969-05-01', '', 'F'), ('tbimwgjzvw', '1922-12-11', '', 'F'), ('bulqzcqjnt', '1948-06-24', '', 'M'), ('eynlunueyw', '1994-08-26', '', 'F'), ('vglfahohjf', '1999-11-20', '', 'F'), ('dsjfrxmxcg', '1999-01-22', '', 'F'), ('ijxjekkpfb', '2018-03-27', '', 'F'), ('onrbunfmsb', '2013-04-27', '', 'F'), ('wzlkognyav', '2017-11-10', '', 'M'), ('ilvamxvohs', '1953-03-25', '', 'F'), ('bjercprult', '1991-03-23', '', 'F'), ('nkapepvkut', '1997-09-21', '', 'M'), ('wjqojcfccs', '1966-09-07', '', 'F'), ('gurucxzmag', '1990-10-24', '', 'F'), ('imtxvubdll', '1953-12-19', '', 'F'), ('btjxxlpcih', '2018-11-14', '', 'F'), ('eltyswaoai', '1967-11-06', '', 'F'), ('kketqtiuml', '1970-01-09', '', 'F'), ('upparrougn', '1988-03-04', '', 'M'), ('pnxnydekty', '1955-09-13', '', 'M'), ('sbykztleqo', '1965-03-13', '', 'F'), ('tsnkdoeapa', '1961-05-21', '', 'M'), ('pezlvecght', '2002-08-18', '', 'F'), ('ubuzpcycbg', '1961-07-05', '', 'M'), ('jafntgehpx', '2000-12-19', '', 'M'), ('rbgwlngmxf', '1938-05-10', '1998-04-21', 'M'), ('dwvxkefmdd', '1945-05-09', '', 'M'), ('hbmsfmdjrr', '1917-08-03', '', 'M'), ('otpnqyicse', '1961-10-05', '', 'M'), ('zycjlnjami', '1984-07-28', '', 'M'), ('zxlrdthkcc', '1960-02-01', '1997-04-28', 'M'), ('ohsnqywetj', '1971-03-11', '', 'M'), ('uqdwlynnkj', '1991-04-18', '', 'M'), ('jzrxpqbszi', '1962-07-25', '', 'F'), ('fgtfgaritf', '2011-04-26', '', 'F'), ('iupyuublrw', '1990-07-07', '', 'F'), ('hvctlncdpw', '1959-10-12', '', 'M'), ('rahwopwetj', '1992-06-10', '', 'M'), ('chbcvpugrb', '1960-02-01', '', 'M'), ('tplmczzotw', '1959-02-03', '', 'M'), ('iybgzteagr', '1991-08-29', '', 'M'), ('aymbgdwnyy', '2006-01-08', '', 'M'), ('utzrrqdoma', '1969-04-12', '', 'M'), ('fvvmkxiozs', '1964-06-10', '', 'F'), ('bzoxffbkce', '1989-12-07', '', 'M'), ('rpzveeyjdb', '1998-05-22', '', 'F'), ('qqtobvtely', '1961-10-04', '', 'F'), ('lofgjxyfui', '1938-05-10', '2020-03-27', 'M'), ('qmordaduhy', '2012-12-27', '', 'F'), ('mrnwsayzdp', '1984-09-11', '', 'F'), ('xlpwmezprf', '2006-01-16', '', 'F'), ('yqmhcdbujt', '1967-11-15', '', 'F'), ('juhjpeskeg', '1992-10-16', '', 'M'), ('lgjbxvstkq', '1987-07-05', '', 'F'), ('rlzjuwlqwk', '2019-05-13', '', 'F'), ('xcxgkhuxsj', '1960-08-01', '', 'M'), ('gjitxrcsmt', '1991-03-21', '', 'M'), ('cttjkdymzk', '1939-12-11', '', 'F'), ('fwtkzgijzk', '1938-05-10', '', 'M'), ('wmxsoreegr', '1996-10-21', '', 'M'), ('bbitouvjob', '1998-07-16', '', 'M'), ('uvuvwxciek', '1957-04-17', '', 'F'), ('ihoqyyslet', '2006-05-25', '', 'M'), ('fhjqrzasns', '1940-07-17', '', 'M'), ('wpjqrvdfro', '1954-07-30', '', 'M'), ('jtorbofjgj', '2007-11-04', '', 'F'), ('kuycucijtf', '1971-10-16', '', 'M'), ('rachcsbxwg', '1994-06-09', '', 'F'), ('pzvmxlrpbz', '1950-05-03', '', 'F'), ('jafowyzbdc', '1982-03-03', '', 'F'), ('qrollogpur', '1963-11-16', '', 'F'), ('omwqythztw', '1962-11-09', '', 'M'), ('fmpkxqnfwk', '1939-01-14', '', 'F'), ('lvdavuroud', '2012-08-12', '', 'F'), ('ziulredzwe', '2002-05-02', '', 'F'), ('vcuaufxfvi', '1974-05-16', '2020-03-08', 'M'), ('yiscvcdysl', '1942-11-05', '2020-03-20', 'F'), ('tlympkvjkf', '1974-05-16', '', 'M'), ('tsxcgqvfkc', '1974-05-30', '', 'M'), ('rjmzciudgn', '2003-04-29', '', 'F'), ('hgkbzzjuac', '2004-01-16', '', 'F'), ('loausyjyjo', '1967-07-11', '', 'F'), ('odjabjucij', '1962-01-28', '', 'M'), ('kqbpfkcfqx', '1955-10-20', '', 'F'), ('zniwdqnmod', '1978-02-08', '', 'M'), ('snxksmgsoy', '1985-06-12', '', 'M'), ('hmzsyqwmdq', '1996-06-21', '', 'M'), ('cwmvhyxxib', '1942-11-05', '', 'F'), ('mdjwfvgyqb', '1991-08-21', '', 'M'), ('dskmoulktb', '1991-10-10', '', 'F'), ('lgidpvygzq', '1945-04-26', '2016-12-01', 'M'), ('grvcgcziuy', '1954-07-28', '', 'M'), ('hixpyegkwn', '1992-02-22', '', 'F'), ('dycbnkjcic', '1997-11-26', '', 'M'), ('gvxkpuoaqg', '1962-06-29', '', 'F'), ('tsgcisomyr', '1986-08-31', '', 'F'), ('adjfklsgzv', '1982-06-11', '', 'F'), ('hrffwhftqh', '1996-11-14', '', 'F'), ('btydszrtox', '1980-03-16', '', 'F'), ('lspjpcenfs', '1998-04-08', '', 'F'), ('kaqzczkwmm', '2004-01-31', '', 'F'), ('hfaftpbudy', '1979-07-26', '2020-03-26', 'M'), ('wwibiqgmll', '1945-04-26', '', 'M'), ('yzevrnxecr', '1986-01-04', '', 'F'), ('hpsjddbstm', '2007-06-10', '', 'F'), ('jssgclbkml', '2011-01-02', '', 'F'), ('egvjzizhgz', '1979-07-26', '', 'M'), ('qrgaaynwmc', '1942-08-18', '', 'M'), ('sylnhbiida', '1966-04-27', '', 'M'), ('daihvgxmsl', '1966-11-29', '', 'F'), ('dbghevnvle', '1940-03-16', '2020-03-24', 'F'), ('snypetmnpo', '1970-03-31', '', 'M'), ('mbocixpysh', '1940-08-02', '', 'M'), ('vfqfpeqlbx', '1986-10-27', '', 'M'), ('ksvklsrknc', '1964-10-09', '', 'F'), ('mldexouotl', '2009-04-07', '', 'F'), ('ttqypucfgn', '2012-06-29', '', 'F'), ('fziutzjykl', '1968-10-06', '2020-03-22', 'F'), ('mcuibcjyri', '2004-01-03', '', 'F'), ('hmyoesyojh', '2015-09-03', '', 'M'), ('raaumxwsvm', '1953-12-03', '', 'F'), ('dazdmuhmuj', '1971-08-09', '', 'F'), ('mjqdtwzsml', '1940-03-16', '', 'F'), ('vuhofkebka', '1990-04-05', '', 'F'), ('mkkgztdhez', '1926-05-16', '', 'F'), ('fjkzcaepwr', '1993-02-13', '', 'F'), ('cpuysxzbeg', '2000-06-21', '', 'M'), ('pqalyshzkl', '1962-10-26', '', 'M'), ('lobxgkvmly', '1968-10-06', '', 'F'), ('wvacxxdtkc', '2007-12-04', '', 'F'), ('ajjzzrzska', '2004-01-07', '', 'F'), ('yejkyvjctm', '1941-07-17', '', 'F'), ('xwpambylfa', '1967-11-30', '', 'F'), ('xagedhzcuy', '2009-01-25', '', 'F'), ('crivumvdew', '1975-08-20', '', 'M'), ('zneajbvubr', '2009-03-05', '', 'M'), ('csmkqfgknw', '2005-03-18', '', 'F'), ('snwzkrbzsj', '1965-12-21', '', 'F'), ('ulrxudfcfh', '1991-01-09', '', 'M'), ('dqoucxyope', '2015-05-28', '', 'M'), ('wixuujewbs', '2013-04-03', '', 'M'), ('idyzyuxbnp', '1996-07-06', '', 'M'), ('isicuuptvu', '1983-09-26', '', 'M'), ('fmmnysysfi', '1938-05-05', '', 'F'), ('aobvnfsjkr', '1987-07-08', '', 'F'), ('psbmxoladd', '1997-07-13', '', 'M'), ('dgdfudtygx', '1993-03-12', '', 'F'), ('sikwsxepcv', '1956-09-10', '', 'M'), ('vkvlokziet', '1948-10-06', '', 'M'), ('goujwzlvsi', '1957-06-16', '2020-03-13', 'M'), ('abwmicseto', '1933-03-08', '', 'F'), ('kesxibwzgo', '1946-10-19', '2020-03-17', 'M'), ('hdvkmzvlvb', '1964-06-28', '', 'M'), ('pavwbkwfaf', '1957-06-16', '', 'M'), ('ytqdcogpbs', '1955-09-11', '', 'M'), ('mgkoemkeis', '1937-11-09', '', 'M'), ('axtwecnczh', '2017-02-16', '', 'F'), ('bwpejqketc', '2009-06-12', '', 'M'), ('ddfawlwslf', '2014-11-17', '', 'F'), ('ffbhzdgfev', '1999-03-14', '', 'F'), ('zvhldsbtcu', '1965-05-13', '2020-03-20', 'F'), ('epxdsbteee', '1979-07-16', '', 'F'), ('itjvlrlzfh', '1986-02-26', '', 'F'), ('xzqhrveftu', '1946-10-19', '', 'M'), ('vsnpqztjnp', '2000-12-28', '', 'F'), ('kztnwteneg', '2017-04-28', '', 'F'), ('cccnkztssm', '1966-08-06', '', 'F'), ('aycqtvsxca', '1982-09-14', '', 'F'), ('ugmpamahbk', '2000-04-07', '', 'M'), ('dgzdxfsckm', '1983-08-11', '', 'M'), ('bsyrwxweoi', '2003-06-06', '', 'M'), ('nalpfqswwc', '1965-05-13', '', 'F'), ('zdnfnlyysv', '1957-08-31', '', 'M'), ('vqonpanwhn', '1992-06-01', '', 'M'), ('refwltcfnb', '1958-07-30', '', 'M'), ('cmjtrgffls', '1943-12-03', '', 'M'), ('cdzfpgwywb', '1961-03-08', '', 'M'), ('bwajvdafbk', '1939-08-11', '', 'M'), ('rbdttszvsr', '1994-11-30', '', 'M'), ('hctgxngnkx', '2002-10-10', '', 'M'), ('mvkkkexedv', '1964-04-14', '', 'F'), ('zagpvcbuzy', '2008-04-05', '', 'M'), ('iiccufwvep', '1983-11-03', '', 'F'), ('ngczwmmifo', '1996-04-03', '', 'M'), ('stqbwjpicv', '1991-09-26', '', 'F'), ('pqrlmavcnh', '1969-05-09', '', 'M'), ('nwrmfekuqa', '1978-02-18', '', 'M'), ('kmspefbodo', '2018-09-16', '', 'M'), ('civojknpbo', '1984-04-04', '', 'F'), ('syrwyncbzf', '2010-11-08', '', 'F'), ('wmfrmcojqd', '2004-05-14', '', 'F'), ('dgouvedvor', '2019-09-25', '', 'M'), ('kyuaruohky', '1988-02-23', '', 'F'), ('ieckmylrwm', '1997-04-03', '', 'M'), ('kykatyabbp', '1953-01-06', '', 'F'), ('obohwrlbtp', '1994-01-28', '', 'F'), ('qxwuvnmxet', '1985-06-08', '', 'M'), ('nzefcpjvza', '1983-12-13', '', 'M'), ('uadkykkrsx', '2004-02-24', '', 'M'), ('qgwjnjsoxg', '1950-10-27', '', 'M'), ('rvjvsgntnv', '2011-06-26', '', 'M'), ('rnatcbtklo', '1941-08-09', '', 'F'), ('eymkmkxbie', '1956-11-25', '', 'F'), ('kxebiijnak', '2006-03-09', '', 'F'), ('qaegtygytv', '1960-05-16', '', 'M'), ('jjwlepjqpc', '1994-09-26', '', 'F'), ('gbshphfuws', '1990-04-05', '', 'M'), ('ajpfrszeas', '2005-04-02', '', 'M'), ('oghkfgdsez', '1971-01-19', '', 'F'), ('ccmqulsyxs', '1996-05-21', '', 'F'), ('etzucgzvcb', '1939-10-03', '', 'M'), ('lwnrxfowqx', '2003-03-28', '', 'F'), ('nndowavxza', '1956-02-21', '', 'M'), ('rojkhylqvy', '1988-11-21', '', 'F'), ('ulbgvrraxu', '2012-03-01', '', 'M'), ('dayjtweaaw', '2005-07-21', '', 'F'), ('rlqqbzgeki', '1973-03-23', '', 'M'), ('zoxuprqvmw', '1965-01-25', '', 'M'), ('vqzspsloxs', '2008-06-26', '', 'F'), ('ighqqmzgnw', '1970-05-04', '', 'M'), ('gcyyqblvgs', '1973-05-26', '', 'F'), ('eizxoftfpa', '1966-08-13', '', 'F'), ('gljirijraa', '1931-11-19', '', 'F'), ('ncjztricki', '1952-02-11', '', 'F'), ('hybayjuiux', '1965-09-10', '', 'F'), ('blmrzamaag', '2011-04-26', '', 'F'), ('peuwidaaul', '1954-10-26', '', 'F'), ('vbxebpzebx', '1952-10-26', '', 'M'), ('qedtpjlmpb', '1976-05-05', '', 'F'), ('ldiopedybe', '2013-03-10', '', 'M'), ('uvwzqbbmjv', '1997-06-29', '', 'F'), ('yskmhtffuq', '2016-01-15', '', 'F'), ('yzneddwyzc', '2010-12-09', '', 'F'), ('caawdyrcry', '1954-11-13', '', 'F'), ('spvaybvlrh', '2015-09-04', '', 'M'), ('accxcwacbf', '1972-11-02', '', 'M'), ('tyfgzlfyxz', '1965-11-09', '', 'F'), ('zzwqfwmluo', '1950-07-30', '', 'F'), ('jccpithurs', '1964-09-14', '', 'F'), ('kbaskxylsi', '1973-08-24', '', 'M'), ('gqpqnhrgad', '2009-04-24', '', 'F'), ('heddviujlr', '1964-10-25', '', 'F'), ('pvlbqbvxkz', '2005-02-10', '', 'F'), ('khcayuywpm', '1990-07-04', '', 'F'), ('chvzieyunc', '1971-07-20', '', 'F'), ('shpojatucd', '1984-08-15', '', 'F'), ('iaepjvabke', '1991-01-28', '', 'M'), ('knmirnkikl', '1987-03-04', '', 'M'), ('aqmdamyesb', '1999-01-29', '', 'F'), ('pfnhhxcjke', '1977-01-07', '', 'F'), ('yrjuxqblhh', '2019-12-27', '', 'F'), ('psmxroddcf', '1996-09-08', '', 'M'), ('mhimebzzhc', '1987-08-02', '', 'F'), ('vpswqttvhk', '1957-02-13', '', 'M'), ('predbstyyo', '1999-07-22', '', 'F'), ('tldncnizgm', '1985-11-17', '', 'M'), ('isvhfthiwb', '1974-10-20', '', 'M'), ('igmjyzkiqf', '2006-12-14', '', 'F'), ('mwztjxqrln', '1952-12-30', '1996-02-27', 'M'), ('qoavkbwqlj', '1992-02-11', '', 'F'), ('fdtdziegcu', '1952-12-30', '1983-08-09', 'M'), ('ccjhoqptmp', '1938-02-09', '', 'M'), ('kddeksgycq', '2004-02-06', '', 'M'), ('aqpbhngmca', '2004-01-07', '', 'M'), ('yizebutvec', '1960-09-18', '', 'M'), ('durzlbiuew', '1961-05-27', '', 'F'), ('ieimrxuxti', '1997-12-27', '', 'F'), ('axveylqhvx', '1962-10-08', '', 'M'), ('zdhjzykaze', '1968-04-11', '', 'M'), ('mfbvrgcyma', '1974-04-27', '', 'F'), ('oowyhszqbf', '1991-01-31', '', 'F'), ('mjecwssqsf', '1952-04-19', '2020-03-12', 'F'), ('yjngzezpwg', '1951-05-18', '', 'F'), ('sflxqslrvi', '1998-11-07', '', 'M'), ('wrucmxactk', '1998-08-30', '', 'F'), ('egyjalgcch', '1985-05-23', '', 'M'), ('wgteyklyzj', '1965-11-08', '', 'M'), ('mfuhgeehnb', '1977-11-05', '', 'M'), ('hjknbnhtgd', '1953-12-19', '', 'M'), ('plflytkzps', '1976-02-17', '', 'M'), ('owbxvusmww', '1952-12-30', '', 'M'), ('wjunwsjvhj', '1952-04-19', '', 'F'), ('jfluquxkkc', '1997-04-09', '', 'M'), ('rjypxkeuee', '2004-06-24', '', 'M'), ('queslqhlis', '2017-01-29', '', 'M'), ('fkjwlggcnj', '1966-11-14', '', 'F'), ('hbcfhxfrdz', '1991-11-12', '', 'M'), ('ueyackgujq', '1980-01-20', '', 'M'), ('svgjmyxfqk', '1998-04-19', '', 'M'), ('ouqnllrwpe', '1980-07-09', '', 'M'), ('zhhtjyjokv', '2007-07-17', '', 'F'), ('htbezfmtnu', '1955-12-20', '', 'M'), ('gguhcxwbay', '2010-03-16', '', 'F'), ('owcsnihnlo', '1985-07-07', '', 'F'), ('fefazdgwck', '2006-08-16', '', 'M'), ('mpbnafrleo', '1983-05-05', '', 'F'), ('sqqneadvbd', '2009-12-22', '', 'F'), ('urwvybsqql', '1987-04-29', '', 'F'), ('fpohknlucf', '1999-09-07', '', 'F'), ('eoayyrbuqw', '2000-04-04', '', 'M'), ('boarqggslr', '1980-10-02', '', 'F'), ('wmweelgtgd', '1984-01-16', '', 'F'), ('rfjtwkkvhk', '2009-02-24', '', 'F'), ('zunbtjsfye', '1951-03-12', '', 'F'), ('ymhngfiygq', '1978-12-19', '', 'F'), ('irdnooqnga', '2016-03-24', '', 'M'), ('fnwsormnaf', '1973-02-16', '', 'M'), ('pzffhgyvrt', '1998-09-13', '2020-03-27', 'M'), ('wfktnwzzod', '1995-02-10', '', 'M'), ('lqqcnitvak', '2000-10-16', '', 'M'), ('nucspowswg', '2015-02-13', '', 'M'), ('crnawamtwq', '2014-06-03', '', 'F'), ('ttdwekhiyz', '2000-12-05', '', 'M'), ('wkbdvdggqw', '1977-06-15', '', 'F'), ('gkhrjmhczu', '1998-09-13', '', 'M'), ('jotnxwcepd', '2016-02-06', '', 'F'), ('pwuieaniez', '1982-03-24', '', 'F'), ('qlatrmgmrw', '1961-02-21', '', 'M'), ('swecttzhvh', '1933-11-20', '2005-08-08', 'M'), ('zvkcbvpgiq', '1955-12-31', '', 'M'), ('dwxrlarclx', '2017-06-05', '', 'M'), ('rgywffqgul', '1943-10-10', '', 'F'), ('tkojppokop', '1985-03-17', '', 'M'), ('szuvfubltz', '1970-07-27', '', 'M'), ('mgrjsousgk', '1984-07-27', '', 'F'), ('ryhdxszzta', '1938-09-04', '', 'M'), ('otecwvpkzp', '1953-05-11', '', 'M'), ('jhivlmiots', '1974-08-27', '', 'M'), ('yisspmbwhw', '1973-05-17', '', 'F'), ('pizyjxnqoy', '2001-07-07', '', 'F'), ('fcctrgcsoj', '2001-06-21', '', 'F'), ('lnebkvolsg', '1947-05-02', '2017-03-02', 'M'), ('vtnzfwmpln', '1950-09-16', '', 'M'), ('mbphhzpgjy', '1969-10-12', '', 'M'), ('dutjbwxhft', '1940-09-26', '', 'M'), ('rmcnlavyei', '1933-11-20', '', 'M'), ('cuvstdtqop', '1999-06-13', '', 'M'), ('zhhxnuapfg', '1975-10-30', '', 'F'), ('rzzylubqri', '1960-08-13', '', 'M'), ('tpneeslrtp', '1988-10-15', '', 'F'), ('affhuskqku', '1993-04-25', '', 'M'), ('xrkfxfvedd', '1947-01-07', '', 'M'), ('iiytecvjdl', '1953-12-10', '', 'M'), ('lcvxvpepou', '1947-05-02', '', 'M'), ('epiieleneg', '1973-04-29', '', 'F'), ('pgajvblafy', '1935-10-08', '', 'M'), ('gqvdifulow', '2012-12-24', '', 'F'), ('nckkinvgdw', '1951-02-08', '', 'F'), ('ifiomcynzt', '2019-07-15', '', 'M'), ('pzoelwjzqw', '1962-06-18', '', 'F'), ('warbszdqjb', '2019-07-23', '', 'F'), ('mjepsmbyve', '1995-03-19', '', 'F'), ('gnxuhyjsdi', '1969-11-16', '', 'M'), ('tfknmfrjmm', '1979-09-03', '', 'F'), ('kqvbuewxvz', '1968-02-13', '', 'M'), ('nnkhuwbrle', '1935-09-17', '', 'F'), ('vputgofpef', '2005-02-03', '', 'M'), ('rgwpnqylqk', '1964-12-16', '', 'M'), ('kothdhkqkp', '2002-08-03', '', 'F'), ('iwnsznezfc', '1937-01-19', '', 'M'), ('yjmimqcqfn', '1978-07-28', '', 'F'), ('ipvudglwmr', '1955-07-10', '', 'F'), ('uovyuuitwe', '1975-10-08', '', 'M'), ('zdahsziqkq', '1999-01-24', '', 'F'), ('aqcmayyznv', '2008-12-06', '', 'M'), ('hdlfexcohc', '2010-06-24', '', 'M'), ('smnznonpou', '1977-12-08', '', 'M'), ('wbjunjtqco', '1994-07-17', '', 'M'), ('vkljqlumjj', '1993-01-19', '', 'F'), ('bmvymwdurn', '1987-09-14', '', 'F'), ('ymyzyvwbwf', '1977-07-11', '', 'F'), ('cdltwpqpkm', '1945-12-08', '', 'M'), ('cxnffzlmot', '1964-05-17', '', 'M'), ('nkyvdzawql', '1947-09-19', '', 'F'), ('uzygxbhsjj', '1971-11-05', '', 'M'), ('bobcbmotik', '1989-06-29', '', 'F'), ('rhcipxtdno', '1960-06-04', '', 'M'), ('uuolhffbks', '1958-07-18', '', 'M'), ('imnkuffsyf', '1987-11-16', '', 'M'), ('vevaydoena', '1986-11-21', '', 'M'), ('agyiurqucy', '1947-08-22', '', 'F'), ('etkbvdzaqa', '2006-06-02', '', 'F'), ('plhihuzglz', '1947-10-25', '', 'F'), ('jdxuvedfqr', '1981-12-12', '', 'M'), ('ynhttfgomj', '1954-04-30', '', 'F'), ('ukorxtcjxe', '2008-08-31', '', 'M'), ('tvvwtffkwo', '2003-12-30', '', 'M'), ('yrkwqpuqgk', '1988-11-13', '', 'F'), ('abbsuoratu', '1987-03-29', '', 'F'), ('mxdvoiuoty', '1952-12-09', '', 'M'), ('stfvyswdqt', '1950-03-30', '2020-03-15', 'M'), ('ldjlsgthce', '1985-11-29', '', 'M'), ('meenbwdmep', '2006-04-30', '', 'M'), ('tmmsrxbwdp', '1944-01-08', '', 'F'), ('zvodbqsngo', '1999-10-02', '', 'M'), ('malrghytmp', '1977-01-22', '', 'F'), ('idobtnqqhd', '1999-04-18', '', 'M'), ('bytblkzpha', '1940-09-09', '', 'F'), ('irizduhjxk', '2000-03-01', '', 'M'), ('dawkpfektp', '1976-12-22', '', 'M'), ('gvuhslcukl', '1950-03-30', '', 'M'), ('lffnzffbig', '2011-12-04', '', 'M'), ('uuxzgxzgtw', '1998-09-26', '', 'F'), ('emmjsldnvk', '1969-06-09', '', 'M'), ('njfxqgxfix', '2004-01-25', '', 'F'), ('uesqfblhjh', '2001-08-11', '', 'F'), ('dpaujvyizo', '1986-10-26', '2020-03-08', 'M'), ('mmsaceqeyq', '1957-08-12', '', 'F'), ('kkigzaadnx', '2004-10-05', '', 'M'), ('peugtyckkd', '1985-03-19', '', 'M'), ('vnwobwhgum', '2002-08-08', '', 'F'), ('rrsvaxqqan', '1995-07-08', '', 'M'), ('urkbdedvjs', '1986-10-26', '', 'M'), ('gswywcrwwd', '1939-11-11', '', 'F'), ('fuaizxymfn', '1977-01-27', '', 'M'), ('thhtofhhsj', '2016-02-23', '', 'M'), ('gdqgflrmxh', '1912-08-29', '', 'M'), ('exbevtbuag', '2007-06-04', '', 'F'), ('euhomourmt', '1958-12-15', '', 'F'), ('bhqmmvphei', '1973-10-13', '', 'M'), ('vzzxukykno', '1998-09-03', '', 'F'), ('fxbwttkbye', '1956-04-27', '', 'M'), ('vtzsvfhoio', '1995-01-07', '', 'F'), ('ltbnwymyat', '1995-06-13', '', 'F'), ('yllictcbxi', '2012-06-25', '', 'F'), ('avfumetukn', '2003-02-07', '', 'F'), ('rqjwzbqtfv', '1949-09-26', '', 'F'), ('huhumfkrqx', '2010-08-30', '', 'M'), ('omxgogblcj', '1995-03-22', '', 'F'), ('borediobxi', '1973-05-11', '', 'F'), ('duumuhxelb', '1987-08-15', '', 'F'), ('eijdxbqida', '1965-03-22', '', 'F'), ('lpaxwiwcqe', '2014-12-20', '', 'M'), ('rqybxsrzug', '1957-09-06', '', 'F'), ('hrxuelxabi', '1957-08-29', '', 'F'), ('arsifqeqdg', '1965-12-17', '', 'M'), ('uxuzjntgdl', '1991-04-08', '', 'M'), ('xjeigxvzhe', '1963-03-03', '', 'F'), ('kohwtrybkh', '1953-06-14', '', 'F'), ('ktftjqhkwn', '1990-05-05', '', 'M'), ('ynmfjqgqgq', '1987-04-28', '', 'M'), ('vunowrvkcl', '1985-02-01', '', 'M'), ('bezbmmdbbe', '2005-12-17', '', 'M'), ('qfqcplurzk', '1922-10-16', '', 'M'), ('iayephwhqf', '1946-03-31', '2020-03-17', 'M'), ('eaxdaafxtn', '1989-08-27', '', 'M'), ('jxwztgoohl', '1968-12-07', '', 'M'), ('pwvdmnaoyh', '1993-11-19', '', 'F'), ('rxdkorvlfe', '1967-10-29', '', 'F'), ('dmyatzqljg', '1983-10-27', '', 'F'), ('wivisxveig', '1974-12-02', '', 'M'), ('fdgidpvlpy', '1948-10-29', '', 'M'), ('jkaboogzfn', '1971-04-04', '', 'M'), ('ivkcggyihe', '1993-01-20', '', 'F'), ('hgcqddnudw', '1946-03-31', '', 'M'), ('mwwmkawrhp', '1990-11-06', '', 'F'), ('cbkvlukeij', '1964-07-06', '', 'M'), ('spbprgmkwt', '2003-09-26', '', 'M'), ('rmjtfsessz', '1989-06-18', '', 'M'), ('ifjfyvwune', '2001-02-05', '', 'F'), ('fdcfwfyyrg', '1954-02-07', '', 'F'), ('ioodsxvpjv', '1979-12-15', '', 'F'), ('ltruqywiru', '1995-12-11', '', 'F'), ('odnrwqspdl', '1968-10-30', '', 'F'), ('jhbpcnlwnh', '1999-03-22', '', 'F'), ('hqynpurnur', '1985-11-19', '', 'F'), ('lmjennlano', '1982-04-17', '', 'M'), ('khvogzlgbe', '1977-06-03', '', 'M'), ('uhwudkmysn', '2013-01-12', '', 'F'), ('wvlaeeynvr', '1962-11-30', '', 'M'), ('growpcoyde', '2012-07-20', '', 'M'), ('kplczgqimh', '1989-05-24', '', 'F'), ('dstwsldfpb', '1956-01-05', '', 'F'), ('mrpjpxfngw', '1968-04-14', '', 'M'), ('fmdxzbbfnu', '1941-08-23', '', 'F'), ('qsachcizpg', '1977-06-25', '', 'M'), ('pjxzbqbzkd', '1999-12-01', '', 'M'), ('zvkjzvdypm', '2015-09-12', '', 'M'), ('yzlcfpkqvz', '2018-01-24', '', 'M'), ('usfpfruach', '1967-04-05', '', 'M'), ('regzbbmqbc', '2006-12-13', '', 'F'), ('duxnltofmj', '1945-01-05', '', 'F'), ('jqkocmfxud', '1994-10-27', '', 'F'), ('twuqmmuhgd', '1998-06-09', '', 'F'), ('keerkjppli', '1974-07-30', '', 'M'), ('cpvlcalrmc', '2007-05-12', '', 'M'), ('pmtsmkaive', '1974-06-22', '2005-10-01', 'F'), ('yxbkquftiu', '1965-07-06', '', 'F'), ('awgykglqob', '1997-10-24', '', 'F'), ('bardqoasra', '1996-01-31', '', 'F'), ('ppfntijxoj', '2000-01-22', '', 'F'), ('cvgvudwssx', '1971-12-13', '', 'M'), ('bbhyfjsyge', '1974-06-22', '', 'F'), ('azivhshwso', '1992-10-19', '', 'M'), ('mvraxaubra', '1956-01-05', '', 'F'), ('xkhkqsiuym', '2014-10-13', '', 'F'), ('duokdivnmb', '1983-01-04', '', 'M'), ('rieakfedgt', '1962-01-18', '', 'F'), ('qjgwfuavsa', '1963-04-28', '2020-03-13', 'M'), ('bdvlpunhbn', '1913-05-05', '1958-05-26', 'M'), ('ajvfgqlhpw', '1928-05-10', '2020-03-15', 'F'), ('amdnhnelkk', '1965-08-09', '', 'F'), ('nwtswfpujq', '1989-03-28', '', 'M'), ('hrlvhkdari', '1955-05-19', '', 'M'), ('dnenicwqzy', '1944-09-24', '', 'F'), ('edheuekogf', '1963-04-28', '', 'M'), ('usjombonxe', '2014-04-22', '', 'M'), ('ovldmivkpm', '1959-12-07', '', 'M'), ('sjowcatqlg', '1928-05-10', '', 'F'), ('qmaooeifjx', '2002-07-07', '', 'M'), ('yocmvbivlz', '1913-05-05', '', 'M'), ('kywumjurdl', '1986-06-03', '', 'F'), ('lunxzttsoc', '1960-03-22', '', 'F'), ('molhwrffom', '1976-12-19', '', 'M'), ('qanbwuqtcg', '2003-06-27', '', 'F'), ('iydojuzkjg', '2017-08-07', '', 'F'), ('hmtuknjcte', '2009-03-30', '', 'F'), ('bwoafffuhs', '2001-06-06', '', 'F'), ('stvvinauft', '1977-10-05', '', 'M'), ('vaxanzhhnr', '1951-07-21', '', 'M'), ('tynorywwtj', '2006-04-21', '', 'M'), ('lmgovkbeuj', '1952-01-14', '', 'M'), ('wkmhakkdkv', '1989-04-12', '', 'M'), ('upirrxtcxp', '2006-01-28', '', 'F'), ('mcvnuqlwva', '2001-06-17', '', 'F'), ('dycqfwtcgp', '1957-10-12', '', 'F'), ('kjbvhutmfv', '1977-10-14', '', 'M'), ('yjsjucgshq', '1947-04-12', '1950-02-18', 'M'), ('wqytjdlxwm', '2010-09-25', '', 'F'), ('tezixexruz', '2009-06-29', '', 'M'), ('buvmetkmen', '2018-09-07', '', 'M'), ('celjsaavwo', '1941-11-28', '', 'F'), ('ogdeqtszss', '1966-10-04', '', 'M'), ('fdbjuefcsa', '2016-09-12', '', 'M'), ('ottyxzeisz', '1983-04-10', '', 'M'), ('zqnelczbaf', '1947-04-12', '', 'M'), ('wsensgxdcg', '1974-02-03', '', 'M'), ('clcirxxlzc', '2000-06-07', '', 'M'), ('rxcsbrzftn', '1959-07-08', '', 'F'), ('iqbnkaoqlz', '2002-09-10', '', 'M'), ('olsbwuaopa', '1950-12-18', '', 'M'), ('mgkqkjackp', '2006-04-15', '', 'M'), ('royssnaxqu', '1948-10-20', '', 'F'), ('acgoaebstp', '2001-12-22', '', 'M'), ('bdtoptohst', '1990-08-25', '', 'M'), ('qlkxqsyudm', '1984-09-29', '', 'F'), ('erffdnnooh', '1962-04-07', '', 'M'), ('fxmsusctwa', '2004-10-24', '', 'F'), ('llhcwcgoqx', '1988-02-18', '', 'F'), ('kqvvugrday', '2006-05-14', '', 'F'), ('ewrkvodagg', '2016-01-03', '', 'M'), ('fgqtcrflef', '1985-02-07', '', 'F'), ('dzgztlhzzh', '1972-04-15', '', 'F'), ('vdagvfftwm', '2019-10-19', '', 'M'), ('fephfhtygb', '1954-02-05', '', 'M'), ('mwiqmkaavk', '1990-04-21', '', 'F'), ('avngfothvz', '1952-06-13', '', 'M'), ('vvbkpjgqkq', '1993-01-10', '', 'M'), ('njfitfjceg', '2000-05-12', '', 'M'), ('stfsmswupl', '1966-08-09', '', 'F'), ('vhgbrsyjie', '2002-03-19', '', 'M'), ('fxkfhbsdak', '1961-12-03', '', 'F'), ('hthwzbjpat', '1955-08-15', '', 'F'), ('wtnenhbvqe', '2018-11-08', '', 'M'), ('zyzmvjhpue', '1961-07-08', '2020-03-16', 'F'), ('kbytqaapzl', '1977-10-27', '', 'M'), ('xhowsnsqfq', '1986-03-30', '', 'F'), ('mqywvxvlwd', '1989-06-29', '', 'M'), ('ymwlortetg', '1949-02-28', '', 'F'), ('gqhcqsmzsl', '2018-04-09', '', 'F'), ('efdlnvglzt', '1961-11-18', '', 'F'), ('wabwlmfdju', '1954-02-11', '', 'F'), ('blvyofsmqt', '2003-09-01', '', 'F'), ('dxxsqrqkhb', '1975-01-28', '', 'M'), ('ymovvssydp', '1980-11-08', '', 'M'), ('ujokpcxnlx', '2011-03-15', '', 'M'), ('femmmcekne', '1992-07-25', '', 'F'), ('wvqtnhdrjj', '1984-03-22', '', 'M'), ('fkxnfzblig', '1987-10-05', '', 'M'), ('gduwhljvud', '1950-05-30', '', 'F'), ('yxhlwfgbtg', '1990-01-24', '', 'F'), ('hnxmwwdjfq', '1955-02-21', '', 'M'), ('tsmkgkmsjg', '1961-07-08', '', 'F'), ('hbuuhubjjs', '1995-07-28', '', 'M'), ('inttliimrf', '2007-09-24', '', 'M'), ('kzrbzbbihu', '1997-08-02', '', 'F'), ('kakqmanzgg', '1949-03-15', '', 'M'), ('aivddiiunk', '1960-07-11', '', 'F'), ('gmaniyiivg', '1968-09-17', '', 'M'), ('fjgmskhdyt', '2005-07-25', '', 'M'), ('qyuvreufit', '1981-05-20', '', 'M'), ('bddovblmcq', '1945-07-10', '', 'M'), ('ymnbpjrhkk', '1987-05-06', '', 'F'), ('opfwlnfhxe', '1956-06-11', '', 'F'), ('zabyamdrmz', '2005-03-06', '', 'M'), ('nkjjgsvdqr', '1998-03-21', '', 'M'), ('dqwmgzouqx', '1960-01-13', '', 'F'), ('ftmzbpbvkj', '1941-11-10', '', 'F'), ('ihebuybfpx', '2018-07-23', '', 'F'), ('doikynuhtz', '1993-05-12', '', 'M'), ('zbuloenecu', '1996-12-10', '', 'F'), ('bjasynzasl', '1974-10-07', '', 'M'), ('ivakrhrjbr', '1975-12-15', '', 'M'), ('jsrmnaxyod', '1968-09-02', '', 'F'), ('jiylcekaoq', '2006-07-27', '', 'F'), ('vnzuqusouc', '1939-12-17', '', 'F'), ('imhbhaqyoc', '1997-11-03', '', 'M'), ('nrjweyfuac', '2003-12-10', '', 'F'), ('fhbbwvysns', '1984-11-19', '', 'M'), ('nxzoioqdew', '1952-04-29', '', 'M'), ('vcvtbltmeq', '2010-11-05', '', 'F'), ('ljltukjgrf', '1978-06-04', '', 'M'), ('aqqnzyubbj', '1993-04-30', '', 'M'), ('oxmulmpbpf', '1998-03-11', '', 'F'), ('jojcvujkus', '1983-07-18', '', 'M'), ('dyecuijpun', '1992-05-19', '', 'F'), ('rngvsszsdp', '1957-03-02', '', 'M'), ('kiwaogyeus', '1973-07-23', '', 'F'), ('pmowlorsuw', '1957-08-11', '', 'F'), ('qvjnjmkncg', '1959-09-25', '', 'F'), ('hahfrfwblk', '2011-03-19', '', 'M'), ('ormbezwdut', '2018-08-20', '', 'F'), ('rfowaiercn', '2009-04-01', '', 'M'), ('ykmbyovrar', '1998-06-14', '', 'F'), ('djzkgmqfqs', '2012-04-11', '', 'M'), ('vmynsyvuun', '1978-12-25', '', 'F'), ('ktksxyjmtb', '1953-08-31', '', 'F'), ('agvqqzeust', '1964-08-25', '', 'F'), ('myvoyioomr', '2001-02-18', '', 'F'), ('wpoguvxxgi', '1957-01-27', '', 'F'), ('mkrqfycwkh', '2012-01-18', '', 'F'), ('zravmilcch', '1944-05-20', '', 'F'), ('pqkpjhgzlc', '1999-01-09', '', 'M'), ('ielhvlgpjq', '1952-09-16', '', 'M'), ('lkgcfeclrh', '1994-01-21', '', 'F'), ('hellacqzyx', '1986-07-24', '', 'F'), ('yurhjuwaqu', '2001-11-25', '', 'M'), ('limibyilbt', '1941-10-24', '', 'M'), ('wfauxnqjpe', '1955-02-13', '', 'F'), ('wjcdhnnocn', '1991-10-17', '', 'M'), ('qvyrpreeiv', '1953-03-24', '', 'F'), ('nuxtofvmmz', '1959-06-20', '', 'M'), ('uuibvkjoer', '2008-06-20', '', 'F'), ('cbhcscjpeh', '2004-04-22', '', 'F'), ('mnxxxnuamu', '1984-02-02', '', 'M'), ('wpjvtrqcjp', '1999-06-17', '', 'F'), ('hvwuzdopdx', '2016-06-28', '', 'M'), ('hysqgkaqhk', '1961-05-24', '', 'F'), ('xpanfxquym', '1955-12-23', '', 'M'), ('rierxypbhl', '1987-06-21', '', 'F'), ('ophyjxljmp', '1998-04-04', '', 'M'), ('stbqbzbabo', '1974-07-04', '', 'M'), ('udfopuifce', '1994-02-03', '', 'M'), ('qoblsfntpa', '1971-07-26', '', 'M'), ('usxbaqqsot', '1983-09-16', '', 'F'), ('jurkrmcjiz', '1977-08-16', '', 'F'), ('gfyauevxgf', '2012-09-16', '', 'M'), ('pfghrpsapy', '1999-07-26', '', 'F'), ('dctqosshgb', '2005-11-16', '', 'F'), ('nkmeymcely', '1988-06-21', '', 'F'), ('wlqkxsgrky', '1961-07-26', '2020-03-12', 'F'), ('picwvzavot', '1914-02-21', '', 'F'), ('zqoxgscbbh', '1971-09-16', '', 'M'), ('ctupyqiutb', '1964-09-23', '', 'F'), ('tuprpuwlar', '2006-07-07', '', 'F'), ('hzdsxbuzrv', '2011-11-15', '', 'M'), ('srqldjsqra', '1962-02-17', '', 'M'), ('jdgonjcoaz', '2013-03-19', '', 'M'), ('mjmeblwhmi', '2012-06-20', '', 'M'), ('ycctoziodl', '2010-03-21', '', 'F'), ('foohclmzhh', '2003-06-18', '', 'F'), ('bumbchssdx', '1981-08-18', '', 'F'), ('qjwtdkdftn', '1992-08-15', '', 'M'), ('zewjhmrzqg', '2011-12-05', '', 'M'), ('ebsjyfaiwq', '1998-05-01', '', 'M'), ('jyjckjuxyx', '1979-08-19', '', 'M'), ('nbsdlsgdby', '1961-07-26', '', 'F'), ('gpimjhdwje', '2004-04-07', '', 'F'), ('xqerqhwlyl', '1995-01-21', '', 'M'), ('ufglbpyomt', '1968-10-05', '', 'F'), ('mndrnsayqd', '1967-12-12', '', 'M'), ('ahsdaogqwg', '1947-08-31', '', 'M'), ('xdmsgjxmco', '1999-08-12', '', 'F'), ('gopyjokset', '1960-04-30', '', 'F'), ('ocuwmrbasg', '1961-11-11', '', 'M'), ('hghhoyitsq', '1920-02-27', '2020-03-28', 'F'), ('csopnszjvc', '1920-02-27', '', 'F')]\n"
          ]
        }
      ]
    }
  ]
}