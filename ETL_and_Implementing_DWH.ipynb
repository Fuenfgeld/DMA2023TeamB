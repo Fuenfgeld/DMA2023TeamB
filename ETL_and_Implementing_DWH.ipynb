{
  "nbformat": 4,
  "nbformat_minor": 0,
  "metadata": {
    "colab": {
      "provenance": [],
      "include_colab_link": true
    },
    "kernelspec": {
      "name": "python3",
      "display_name": "Python 3"
    },
    "language_info": {
      "name": "python"
    }
  },
  "cells": [
    {
      "cell_type": "markdown",
      "metadata": {
        "id": "view-in-github",
        "colab_type": "text"
      },
      "source": [
        "<a href=\"https://colab.research.google.com/github/Fuenfgeld/DMA2023TeamB/blob/main/ETL_and_Implementing_DWH.ipynb\" target=\"_parent\"><img src=\"https://colab.research.google.com/assets/colab-badge.svg\" alt=\"Open In Colab\"/></a>"
      ]
    },
    {
      "cell_type": "markdown",
      "source": [
        "# Erstellung des ANTICOVIS-Data Warehouses\n",
        "---\n",
        "\n",
        "##1) Einleitung\n",
        "---\n",
        "Mit diesem Skript wird ein Datenwarehouse(DWH) erstellt, um ein effizientes und zielgerichtetes Beantworten der Forschungsfragestellung (sog. \"OLAP\"-Datenbank) zu ermöglichen. Zudem gewärleistet das DWH eine verbesserte Datenqualität sowie  eine zuverlässige Datenkonsistenz und Sicherheit.\n",
        "\n",
        "Das hier erzeugte DWH wird nach einem Star-Schema konstruiert. Zunächst werden alle benötigten DWH-Tabellen in Form von Dimensions- und Faktentabellen erzeugt. Dann werden diese Tabellen mit Daten aus den Stagingtabellen der ANTICOVIS-Datenbank nach einem ETL Prozess inklusive Pseudonymisierung der Daten befüllt. \n",
        "\n",
        "Quelldatenbank: auf GoogleDrive von ANTICOVIS, erstellt mit \"source_covid19-ANTICOVIS_db.ipynb\"\n"
      ],
      "metadata": {
        "id": "Pu_0HR4cXoUb"
      }
    },
    {
      "cell_type": "markdown",
      "source": [
        "##2) Benötigte Libraries und Packages laden, Versionskontrolle\n",
        "---"
      ],
      "metadata": {
        "id": "dc1e61eU6HZT"
      }
    },
    {
      "cell_type": "code",
      "execution_count": 25,
      "metadata": {
        "colab": {
          "base_uri": "https://localhost:8080/"
        },
        "id": "id2DaZNSXeby",
        "outputId": "0b1f3f48-4c3b-46a8-f754-36457f905962"
      },
      "outputs": [
        {
          "output_type": "stream",
          "name": "stdout",
          "text": [
            "Looking in indexes: https://pypi.org/simple, https://us-python.pkg.dev/colab-wheels/public/simple/\n",
            "Requirement already satisfied: pandasql in /usr/local/lib/python3.8/dist-packages (0.7.3)\n",
            "Requirement already satisfied: sqlalchemy in /usr/local/lib/python3.8/dist-packages (from pandasql) (1.4.46)\n",
            "Requirement already satisfied: numpy in /usr/local/lib/python3.8/dist-packages (from pandasql) (1.21.6)\n",
            "Requirement already satisfied: pandas in /usr/local/lib/python3.8/dist-packages (from pandasql) (1.3.5)\n",
            "Requirement already satisfied: pytz>=2017.3 in /usr/local/lib/python3.8/dist-packages (from pandas->pandasql) (2022.7.1)\n",
            "Requirement already satisfied: python-dateutil>=2.7.3 in /usr/local/lib/python3.8/dist-packages (from pandas->pandasql) (2.8.2)\n",
            "Requirement already satisfied: greenlet!=0.4.17 in /usr/local/lib/python3.8/dist-packages (from sqlalchemy->pandasql) (2.0.2)\n",
            "Requirement already satisfied: six>=1.5 in /usr/local/lib/python3.8/dist-packages (from python-dateutil>=2.7.3->pandas->pandasql) (1.15.0)\n"
          ]
        }
      ],
      "source": [
        "import sqlite3\n",
        "from sqlite3 import Error\n",
        "import pandas\n",
        "from pandas import DataFrame\n",
        "!pip install pandasql\n",
        "from pandasql import sqldf\n",
        "import random\n",
        "import string"
      ]
    },
    {
      "cell_type": "markdown",
      "source": [
        "### Angaben zu Systemumgebung und den verwendeten Paketversionen abfragen"
      ],
      "metadata": {
        "id": "0jdLDOnqmSWZ"
      }
    },
    {
      "cell_type": "code",
      "source": [
        "# Python-Version\n",
        "print(\"Python-Version:\")\n",
        "!python --version\n",
        "\n",
        "# sqlite3-Version\n",
        "print(\"\\n\" + \"sqlite3-Version:\")\n",
        "print(sqlite3.sqlite_version)\n",
        "\n",
        "# Pandas-Version\n",
        "print(\"\\n\" + \"Pandas-Version:\")\n",
        "print(pandas.__version__)\n"
      ],
      "metadata": {
        "colab": {
          "base_uri": "https://localhost:8080/"
        },
        "id": "nldLm2o6mbTe",
        "outputId": "b1c50c9b-dc08-41b6-a7d1-31a2654ee1d8"
      },
      "execution_count": 26,
      "outputs": [
        {
          "output_type": "stream",
          "name": "stdout",
          "text": [
            "Python-Version:\n",
            "Python 3.8.10\n",
            "\n",
            "sqlite3-Version:\n",
            "3.31.1\n",
            "\n",
            "Pandas-Version:\n",
            "1.3.5\n"
          ]
        }
      ]
    },
    {
      "cell_type": "markdown",
      "source": [
        "##3) Mounten und Pfadangaben\n",
        "---\n",
        "Mounten des Google Drives.\n",
        "\n",
        "Festlegen des Pfads zur ANTICOVIS Quelldatenbank.\n",
        "\n",
        "Festlegen des Pfads zum Ablageort des in diesem Skript erzeugten DWH."
      ],
      "metadata": {
        "id": "bftPkzPUmnK_"
      }
    },
    {
      "cell_type": "code",
      "source": [
        "from google.colab import drive\n",
        "drive.mount('/content/drive')\n",
        "\n",
        "# path of Anticovis quelldatenbank\n",
        "DB_SOURCE_PATH = f\"/content/drive/Shareddrives/DMA_2023_D/DMA2023TeamB/Quelldatenbank/source_covid19_ANTIVOVIS_db.db\"\n",
        "\n",
        "# path of datawarehouse\n",
        "DB_DWH_PATH = f\"/content/drive/Shareddrives/DMA_2023_D/DMA2023TeamB/DWH/DWH_covid19_ANTICOVIS_db.db\""
      ],
      "metadata": {
        "id": "MIdSHhMfcwMA",
        "colab": {
          "base_uri": "https://localhost:8080/"
        },
        "outputId": "931a4bdf-5a40-480d-f29a-9e33b6e6ed31"
      },
      "execution_count": 27,
      "outputs": [
        {
          "output_type": "stream",
          "name": "stdout",
          "text": [
            "Drive already mounted at /content/drive; to attempt to forcibly remount, call drive.mount(\"/content/drive\", force_remount=True).\n"
          ]
        }
      ]
    },
    {
      "cell_type": "markdown",
      "source": [
        "##4) Star-Schema des ANTICOVIS-DWH\n",
        "\n",
        "---\n"
      ],
      "metadata": {
        "id": "-3J5Ijh7ncwD"
      }
    },
    {
      "cell_type": "markdown",
      "source": [
        "![Star-Schema ANTICOVIS](https://github.com/Fuenfgeld/DMA2023TeamB/blob/main/Darstellungen/StarSchema_ANTICOVIS_v2.jpg?raw=true)"
      ],
      "metadata": {
        "id": "CdCefbtMETlE"
      }
    },
    {
      "cell_type": "code",
      "source": [
        "#Funktionen für Erstellung der Datenbank.\n",
        "#Klasse wird initiiert (__init__)\n",
        "#Cursor auf Datenbank wird erstellt\n",
        "#Commit der Änderungen und schließen der Verbindung\n",
        "class DB(object):\n",
        "  def __init__(self, db_file):\n",
        "    self.conn = sqlite3.connect(db_file)\n",
        "    self.cur = self.conn.cursor()\n",
        "    self.__init_db()\n",
        "  \n",
        "  def __del__(self):\n",
        "      self.conn.commit()\n",
        "      self.conn.close()\n",
        "\n",
        "#Initialisierung der Datenbank durch __init__-Funktion\n",
        "  def __init_db(self):\n",
        "\n",
        "# SQL-Anweisungen zur Erzeugung der Tabellen in der Zieldatenbank (DWH)\n",
        "# Gemäß Star-Schema gilt Präfix \"F\" für Faktentabelle und \"D\" für Dimensionstabelle.\n",
        "\n",
        "#  sql query to create d_conditions table\n",
        "    create_d_conditions = \"\"\"CREATE TABLE IF NOT EXISTS d_conditions (\n",
        "                           CONDITIONS_CODE INTEGER PRIMARY KEY,\n",
        "                           CONDITIONS_DESCRIPTION VARCHAR\n",
        "                       );\"\"\"\n",
        "\n",
        "#  sql query to create d_devices table\n",
        "    create_d_devices = \"\"\"CREATE TABLE IF NOT EXISTS d_devices (\n",
        "                            DEVICES_CODE INTEGER PRIMARY KEY,\n",
        "                            DEVICES_DESCRIPTION VARCHAR\n",
        "                           );\"\"\"\n",
        "\n",
        "#  sql query to create d_medications table\n",
        "    create_d_medications = \"\"\"CREATE TABLE IF NOT EXISTS d_medications (\n",
        "                            MEDICATIONS_CODE INTEGER PRIMARY KEY,\n",
        "                            MEDICATIONS_DESCRIPTION VARCHAR\n",
        "                           );\"\"\"\n",
        "\n",
        "#  sql query to create d_procedures table\n",
        "    create_d_procedures = \"\"\"CREATE TABLE IF NOT EXISTS d_procedures (\n",
        "                            PROCEDURES_CODE INTEGER PRIMARY KEY,\n",
        "                            PROCEDURES_DESCRIPTION VARCHAR\n",
        "                           );\"\"\"\n",
        "\n",
        "#  sql query to create d_patients table\n",
        "    create_d_patients = \"\"\"CREATE TABLE IF NOT EXISTS d_patients (\n",
        "                            PATIENTS_ID VARCHAR PRIMARY KEY,\n",
        "                            PATIENTS_BIRTHDATE DATE,\n",
        "                            PATIENTS_DEATHDATE DATE,\n",
        "                            PATIENTS_GENDER CHAR\n",
        "                           );\"\"\" \n",
        "\n",
        "# sql query to create F_ANTICOVIS table\n",
        "    create_F_ANTICOVIS = \"\"\"CREATE TABLE IF NOT EXISTS F_ANTICOVIS (\n",
        "                           PATIENTS_ID VARCHAR,\n",
        "                           CONDITIONS_CODE INTEGER,\n",
        "                           PROCEDURES_CODE INTEGER,\n",
        "                           DEVICES_CODE INTEGER,\n",
        "                           MEDICATIONS_CODE INTEGER,\n",
        "                           MED_CLASSIFICATION INTEGER DEFAULT '0', \n",
        "                           COV_GRADING INTEGER DEFAULT '0',\n",
        "                           FOREIGN KEY (PATIENTS_ID)\n",
        "                              REFERENCES d_patients (PATIENTS_ID),\n",
        "                           FOREIGN KEY (CONDITIONS_CODE)\n",
        "                              REFERENCES d_conditions (CONDITIONS_CODE),\n",
        "                           FOREIGN KEY (PROCEDURES_CODE)\n",
        "                              REFERENCES d_procedures (PROCEDURES_CODE),\n",
        "                           FOREIGN KEY (DEVICES_CODE)\n",
        "                              REFERENCES d_devices(DEVICES_CODE),\n",
        "                           FOREIGN KEY (MEDICATIONS_CODE)\n",
        "                              REFERENCES d_medications (MEDICATIONS_CODE)\n",
        "                       );\"\"\"\n",
        "    create_tables =  [create_d_conditions,# conditions dimension\n",
        "                      create_d_devices,# devices dimension\n",
        "                      create_d_medications,# medications dimension\n",
        "                      create_d_procedures, # procedures dimension\n",
        "                      create_d_patients, #patients dimension\n",
        "                      create_F_ANTICOVIS #Factstable\n",
        "                      ]\n",
        "\n",
        "    if self.conn is not None:\n",
        "      for query in create_tables:\n",
        "          self.cur.execute(query)\n",
        "    else:\n",
        "      print('Connection to database failed')"
      ],
      "metadata": {
        "id": "Zz1CPX1Rd0G3"
      },
      "execution_count": 28,
      "outputs": []
    },
    {
      "cell_type": "markdown",
      "source": [
        "##5) Vorbereitung ETL-Prozess, Erzeugen des DWH\n",
        "---\n",
        "###  Definition der für den ETL-Prozess benötigten Funktionen"
      ],
      "metadata": {
        "id": "03HhV7GvlNrm"
      }
    },
    {
      "cell_type": "code",
      "source": [
        "# exporting queries\n",
        "class SqlQuery:\n",
        "  def __init__(self, source_table, column_names, sink_table):\n",
        "    self.source_table = source_table\n",
        "    self.column_numbers = len(column_names)\n",
        "    self.column_names = ', '.join(column_names)\n",
        "    self.sink_table = sink_table\n",
        "\n",
        "  def extract_query(self):\n",
        "    return 'SELECT ' + self.column_names + ' FROM ' + self.source_table \n",
        "\n",
        "  def load_query(self):\n",
        "    values_str = '?,' * self.column_numbers\n",
        "    values_str = values_str[:-1]\n",
        "    return 'INSERT OR REPLACE INTO ' + self.sink_table + ' VALUES (' + values_str + ')'\n",
        "\n",
        "    # return 'INSERT INTO ' + self.sink_table + '(' + self.column_names + ') VALUES (' + values_str + ')'\n",
        "  \n",
        "\n"
      ],
      "metadata": {
        "id": "-Wm_tGyGlCui"
      },
      "execution_count": 29,
      "outputs": []
    },
    {
      "cell_type": "code",
      "source": [
        "# Extraktion der Daten aus Qelldatenbank und Laden in Zieldatenbank (DWH)\n",
        "## source_cnx = Verbindung zur Quelldatenbank\n",
        "## target_cnx = Verbindung zur Zieldatenbank\n",
        "# Daten werden über Fetchall in die Variable \"data\" implementiert\n",
        "\n",
        "def etl(query, source_cnx, target_cnx):\n",
        "  # extract data from source db\n",
        "  source_cursor = source_cnx.cursor()\n",
        "  source_cursor.execute(query.extract_query())\n",
        "  data = source_cursor.fetchall()\n",
        "  source_cursor.close()\n",
        "\n",
        "# dann Ausführen der Schleife mit Übertragung der Daten, Commit und Verbindungsschluss zu DB mit close-Statement:\n",
        "  if data:\n",
        "    target_cursor = target_cnx.cursor()\n",
        "    target_cursor.executemany(query.load_query(), data)\n",
        "    print('data loaded to warehouse db') \n",
        "    target_cnx.commit()\n",
        "    target_cursor.close()\n",
        "  else:\n",
        "    print('data is empty')\n",
        "\n",
        "# Durchlaufen von SQL-Abfragen und Aufrufen der etl_process-Funktion\n",
        "## queries: Liste von SQL-Abfragen\n",
        "## db_source ist zuvorgenannter Pfad zur Quelldatenbank\n",
        "def etl_process(queries, target_cnx, db_source):\n",
        "  \"\"\"\n",
        "  queries: list\n",
        "        a list of queries\n",
        "  target_cnx: SQLite connection\n",
        "  db_source: str\n",
        "        path of source database      \n",
        "  \n",
        "  \"\"\"  \n",
        "  # Verbindung zu Quelldatenbank wird hergestellt.\n",
        "  try:\n",
        "    source_cnx = sqlite3.connect(db_source)\n",
        "  except Error as err:\n",
        "    print(err)\n",
        "  \n",
        "  # Es wird durch alle Abfragen gelooped in der etl Liste.\n",
        "  ## etl Funktion extrahirt Daten aus Tabellen der Quelldatenbank.\n",
        "  for query in etl_queue:\n",
        "    etl(query, source_cnx, target_cnx)\n",
        "    \n",
        "  # Verbindung zur Quelldatenbank trennen.\n",
        "  source_cnx.close()"
      ],
      "metadata": {
        "id": "oJ5OK7CNlZ-d"
      },
      "execution_count": 30,
      "outputs": []
    },
    {
      "cell_type": "markdown",
      "source": [
        "### Erzeugen des DWH"
      ],
      "metadata": {
        "id": "at_n_42qpCex"
      }
    },
    {
      "cell_type": "code",
      "source": [
        "# create Datawarehouse\n",
        "dwh_db = DB(DB_DWH_PATH)"
      ],
      "metadata": {
        "id": "0cxGY2mFleT-"
      },
      "execution_count": 31,
      "outputs": []
    },
    {
      "cell_type": "markdown",
      "source": [
        "### **Überprüfen korrekter Implementation**"
      ],
      "metadata": {
        "id": "H_7DWYEvpKZ_"
      }
    },
    {
      "cell_type": "code",
      "source": [
        "# # # check list of tables\n",
        "# target_cnx = dwh_db.conn\n",
        "# dwh_cursor = target_cnx.cursor()\n",
        "# dwh_cursor.execute(\"SELECT name FROM sqlite_master WHERE type='table';\")\n",
        "# #dwh_cursor.execute('PRAGMA table_info(' + \"F_ANTICOVIS\" + ');')\n",
        "# print(dwh_cursor.fetchall())"
      ],
      "metadata": {
        "id": "48ggLPBovZ31"
      },
      "execution_count": 32,
      "outputs": []
    },
    {
      "cell_type": "markdown",
      "source": [
        "##6) ETL-Prozess"
      ],
      "metadata": {
        "id": "BKHfPdwkndTY"
      }
    },
    {
      "cell_type": "code",
      "source": [
        "print('starting etl')   \n",
        "# list for iteration\n",
        "etl_queue = []\n",
        "\n",
        "# d_conditions table\n",
        "conditions_columns = ['CONDITIONS_CODE', 'CONDITIONS_DESCRIPTION']\n",
        "sql_query_conditions = SqlQuery(\"S_CONDITIONS\", conditions_columns, \"d_conditions\")\n",
        "etl_queue.append(sql_query_conditions)\n",
        "\n",
        "# d_devices table\n",
        "devices_columns = ['DEVICES_CODE', 'DEVICES_DESCRIPTION']\n",
        "sql_query_devices = SqlQuery(\"S_DEVICES\", devices_columns, \"d_devices\")\n",
        "etl_queue.append(sql_query_devices)\n",
        "\n",
        "# d_medications table\n",
        "medications_columns = ['MEDICATIONS_CODE','MEDICATIONS_DESCRIPTION']\n",
        "sql_query_medications = SqlQuery(\"S_MEDICATIONS\", medications_columns, \"d_medications\")\n",
        "etl_queue.append(sql_query_medications)\n",
        "\n",
        "# d_procedures table\n",
        "procedures_columns = ['PROCEDURES_CODE', 'PROCEDURES_DESCRIPTION']\n",
        "sql_query_procedures = SqlQuery(\"S_PROCEDURES\", procedures_columns, \"d_procedures\")\n",
        "etl_queue.append(sql_query_procedures)\n",
        "\n",
        "\n",
        "# d_patients table\n",
        "patients_columns = ['PATIENTS_ID', 'PATIENTS_BIRTHDATE', 'PATIENTS_DEATHDATE', 'PATIENTS_GENDER']\n",
        "sql_query_patients = SqlQuery(\"S_PATIENTS\", patients_columns, \"d_patients\")\n",
        "etl_queue.append(sql_query_patients)\n",
        "\n",
        "\n",
        "# list for iteration\n",
        "# etl_queue"
      ],
      "metadata": {
        "colab": {
          "base_uri": "https://localhost:8080/"
        },
        "id": "04uxBwK6n-o0",
        "outputId": "e54e2f73-aec4-4900-dc7c-e6aba434982d"
      },
      "execution_count": 33,
      "outputs": [
        {
          "output_type": "stream",
          "name": "stdout",
          "text": [
            "starting etl\n"
          ]
        }
      ]
    },
    {
      "cell_type": "markdown",
      "source": [
        "### Befüllen der Dimensionstabellen (\"d\")"
      ],
      "metadata": {
        "id": "jQVvt7Xzt_4g"
      }
    },
    {
      "cell_type": "code",
      "source": [
        "# establish connection for target database \n",
        "target_cnx = dwh_db.conn\n",
        "etl_process(etl_queue, target_cnx, DB_SOURCE_PATH)"
      ],
      "metadata": {
        "colab": {
          "base_uri": "https://localhost:8080/"
        },
        "id": "47BForxguEV-",
        "outputId": "07d7f714-ee60-4004-ccd5-85167a268ccd"
      },
      "execution_count": 34,
      "outputs": [
        {
          "output_type": "stream",
          "name": "stderr",
          "text": [
            "Exception ignored in: <function DB.__del__ at 0x7fa54368df70>\n",
            "Traceback (most recent call last):\n",
            "  File \"<ipython-input-9-bf0f15d5eb62>\", line 12, in __del__\n",
            "sqlite3.ProgrammingError: SQLite objects created in a thread can only be used in that same thread. The object was created in thread id 140349122701120 and this is thread id 140348173047552.\n"
          ]
        },
        {
          "output_type": "stream",
          "name": "stdout",
          "text": [
            "data loaded to warehouse db\n",
            "data loaded to warehouse db\n",
            "data loaded to warehouse db\n",
            "data loaded to warehouse db\n",
            "data loaded to warehouse db\n"
          ]
        }
      ]
    },
    {
      "cell_type": "markdown",
      "source": [
        "## Erzeugen eines Dataframes für das Befüllen der ANTICOVIS Faktentabelle (\"F\")\n",
        "\n",
        "Hierfür werden die in der ANTICOVIS-Quelldatenbank formulierten \"SSS\"-Tabellen genutzt, um über mehrfache JOIN-Anweisungen zu einer Faktentabelle zusammengefasst zu werden.\n",
        "\n",
        "Anschließend werden zusätzliche Spalten in der Faktentabelle aus den externen Daten der Medikations-Klassifikation und des Schweregrad-Gradings erzeugt. Die jeweiligen zu den Klassifikations- bzw. Grading-Ziffern gehörigen Codes aus den Quelldatentabellen werden zugewiesen.\n",
        "\n",
        "Abschließend erfolgt die Ausgabe der Faktentabelle zum Überprüfen der korrekten Implementation der Befehle. Initial nach Zufügen der Grading-Spalte, danach erneut nach Zufügen der Klassifikations-Spalte."
      ],
      "metadata": {
        "id": "mLrUc8nGp-u3"
      }
    },
    {
      "cell_type": "code",
      "source": [
        "# selecting relevant data for Staging DB as a Facts_Table DataFrame\n",
        "connctino_to_Staging_DB = sqlite3.connect(DB_SOURCE_PATH)\n",
        "conn = connctino_to_Staging_DB\n",
        "Staging_DB_Cursor = conn.cursor()\n",
        "\n",
        "Staging_DB_Cursor.execute (\"\"\" SELECT SSS_patients.patients_ID,\n",
        "                                      SSS_conditions.conditions_code, \n",
        "                                      SSS_procedures.procedures_code, \n",
        "                                      SSS_devices.devices_code, \n",
        "                                      SSS_medications.medications_code \n",
        "                               \n",
        "                               FROM SSS_PATIENTS \n",
        "                                    LEFT JOIN SSS_CONDITIONS \n",
        "                                           ON SSS_patients.patients_ID = SSS_conditions.conditions_patient_ID\n",
        "                                    LEFT JOIN SSS_PROCEDURES \n",
        "                                           ON SSS_patients.patients_ID = SSS_procedures.procedures_patient_ID\n",
        "                                    LEFT JOIN SSS_DEVICES \n",
        "                                           ON SSS_patients.patients_ID = SSS_devices.devices_patient_ID\n",
        "                                    LEFT JOIN SSS_MEDICATIONS\n",
        "                                           ON SSS_patients.patients_ID = SSS_medications.medications_patient_ID\n",
        "                                  \"\"\")\n",
        "DF_of_Facts_Table = DataFrame(Staging_DB_Cursor.fetchall())\n",
        "\n",
        "# renaming culums in Dataframe\n",
        "DF_of_Facts_Table.columns =['patients_ID', 'conditions_code','procedures_code', 'devices_code', 'medications_code']\n",
        "# remooving duplicates from Dataframe\n",
        "DF_of_Facts_Table.drop_duplicates()\n",
        "conn.close()\n",
        "\n",
        "# creating new table columns for MED_CLASSIFICATION and course_of_disease grading\n",
        "DF_of_Facts_Table ['MED_CLASSIFICATION'] = '0'\n",
        "DF_of_Facts_Table ['COV_GRADING'] = '0'\n",
        "# Replacing NaN\n",
        "DF_of_Facts_Table = DF_of_Facts_Table.fillna(0)\n",
        "\n",
        "\n",
        "# defining and implementing course_of_disease classes\n",
        "\n",
        "grades_mapping = {\n",
        "386661006: 1,\n",
        "25064002:\t1,\n",
        "36955009:\t1,\n",
        "267102003: 1,\n",
        "261352009: 1,\n",
        "43724002:\t2,\n",
        "49727002:\t2,\n",
        "267060006: 2,\n",
        "84229001:\t2,\n",
        "57676002:\t2,\n",
        "68962001:\t2,\n",
        "68235000:\t2,\n",
        "422587007: 2,\n",
        "249497008: 2,\n",
        "234466008: 3,\n",
        "132281000119108: 3,\n",
        "267036007: 3,\n",
        "233604007: 3,\n",
        "56018004:\t3,\n",
        "371908008: 3,\n",
        "706870000: 4,\n",
        "66857006:\t4,\n",
        "389087006: 4,\n",
        "86175003:\t4,\n",
        "40095003:\t4,\n",
        "271825005: 4,\n",
        "112798008: 4,\n",
        "433112001: 4,\n",
        "431182000: 4,\n",
        "67782005:\t5,\n",
        "65710008:\t5,\n",
        "84114007:\t5,\n",
        "770349000: 5,\n",
        "76571007:\t5,\n",
        "36965003:\t5,\n",
        "449071006: 5,\n",
        "26763009:\t5,\n",
        "180325003: 5,\n",
        "302497006: 5,\n",
        "\n",
        "}\n",
        "\n",
        "# Loop through all rows\n",
        "for i, row in DF_of_Facts_Table.iterrows():\n",
        "    max_grade = []    \n",
        "    # Check if any of the codes in the 'conditions_code' column is present in the grades_mapping\n",
        "    if row['conditions_code'] in grades_mapping:\n",
        "        max_grade.append(grades_mapping[row['conditions_code']])\n",
        "    # Check if any of the codes in the 'procedures_code' column is present in the grades_mapping\n",
        "    if row['procedures_code'] in grades_mapping:\n",
        "        max_grade.append(grades_mapping[row['procedures_code']])\n",
        "    # Check if any of the codes in the 'devices_code' column is present in the grades_mapping\n",
        "    if row['devices_code'] in grades_mapping:\n",
        "        max_grade.append(grades_mapping[row['devices_code']])\n",
        "    if len(max_grade) != 0:\n",
        "        DF_of_Facts_Table.at[i, 'COV_GRADING'] = max(max_grade)\n",
        "    else:\n",
        "        DF_of_Facts_Table.at[i, 'COV_GRADING'] = 0\n",
        "\n",
        "DF_of_Facts_Table.head(5)\n",
        "\n"
      ],
      "metadata": {
        "id": "F12D9iKhztFU",
        "colab": {
          "base_uri": "https://localhost:8080/",
          "height": 206
        },
        "outputId": "bfec3772-b7b1-434e-ae98-3deb5ee39794"
      },
      "execution_count": 35,
      "outputs": [
        {
          "output_type": "execute_result",
          "data": {
            "text/plain": [
              "                            patients_ID  conditions_code  procedures_code  \\\n",
              "0  2f114e21-8b95-e9eb-2e9e-4b950b059cfa       36955009.0      261352009.0   \n",
              "1  2f114e21-8b95-e9eb-2e9e-4b950b059cfa      386661006.0      261352009.0   \n",
              "2  2f114e21-8b95-e9eb-2e9e-4b950b059cfa      840539006.0      261352009.0   \n",
              "3  2f114e21-8b95-e9eb-2e9e-4b950b059cfa      840544004.0      261352009.0   \n",
              "4  2812f4fc-6aba-0033-728b-7e569bb8adcc       36955009.0      180325003.0   \n",
              "\n",
              "   devices_code  medications_code MED_CLASSIFICATION COV_GRADING  \n",
              "0           0.0               0.0                  0           1  \n",
              "1           0.0               0.0                  0           1  \n",
              "2           0.0               0.0                  0           1  \n",
              "3           0.0               0.0                  0           1  \n",
              "4           0.0          197604.0                  0           5  "
            ],
            "text/html": [
              "\n",
              "  <div id=\"df-92a22a14-b15f-437b-bd95-ab3b250ac050\">\n",
              "    <div class=\"colab-df-container\">\n",
              "      <div>\n",
              "<style scoped>\n",
              "    .dataframe tbody tr th:only-of-type {\n",
              "        vertical-align: middle;\n",
              "    }\n",
              "\n",
              "    .dataframe tbody tr th {\n",
              "        vertical-align: top;\n",
              "    }\n",
              "\n",
              "    .dataframe thead th {\n",
              "        text-align: right;\n",
              "    }\n",
              "</style>\n",
              "<table border=\"1\" class=\"dataframe\">\n",
              "  <thead>\n",
              "    <tr style=\"text-align: right;\">\n",
              "      <th></th>\n",
              "      <th>patients_ID</th>\n",
              "      <th>conditions_code</th>\n",
              "      <th>procedures_code</th>\n",
              "      <th>devices_code</th>\n",
              "      <th>medications_code</th>\n",
              "      <th>MED_CLASSIFICATION</th>\n",
              "      <th>COV_GRADING</th>\n",
              "    </tr>\n",
              "  </thead>\n",
              "  <tbody>\n",
              "    <tr>\n",
              "      <th>0</th>\n",
              "      <td>2f114e21-8b95-e9eb-2e9e-4b950b059cfa</td>\n",
              "      <td>36955009.0</td>\n",
              "      <td>261352009.0</td>\n",
              "      <td>0.0</td>\n",
              "      <td>0.0</td>\n",
              "      <td>0</td>\n",
              "      <td>1</td>\n",
              "    </tr>\n",
              "    <tr>\n",
              "      <th>1</th>\n",
              "      <td>2f114e21-8b95-e9eb-2e9e-4b950b059cfa</td>\n",
              "      <td>386661006.0</td>\n",
              "      <td>261352009.0</td>\n",
              "      <td>0.0</td>\n",
              "      <td>0.0</td>\n",
              "      <td>0</td>\n",
              "      <td>1</td>\n",
              "    </tr>\n",
              "    <tr>\n",
              "      <th>2</th>\n",
              "      <td>2f114e21-8b95-e9eb-2e9e-4b950b059cfa</td>\n",
              "      <td>840539006.0</td>\n",
              "      <td>261352009.0</td>\n",
              "      <td>0.0</td>\n",
              "      <td>0.0</td>\n",
              "      <td>0</td>\n",
              "      <td>1</td>\n",
              "    </tr>\n",
              "    <tr>\n",
              "      <th>3</th>\n",
              "      <td>2f114e21-8b95-e9eb-2e9e-4b950b059cfa</td>\n",
              "      <td>840544004.0</td>\n",
              "      <td>261352009.0</td>\n",
              "      <td>0.0</td>\n",
              "      <td>0.0</td>\n",
              "      <td>0</td>\n",
              "      <td>1</td>\n",
              "    </tr>\n",
              "    <tr>\n",
              "      <th>4</th>\n",
              "      <td>2812f4fc-6aba-0033-728b-7e569bb8adcc</td>\n",
              "      <td>36955009.0</td>\n",
              "      <td>180325003.0</td>\n",
              "      <td>0.0</td>\n",
              "      <td>197604.0</td>\n",
              "      <td>0</td>\n",
              "      <td>5</td>\n",
              "    </tr>\n",
              "  </tbody>\n",
              "</table>\n",
              "</div>\n",
              "      <button class=\"colab-df-convert\" onclick=\"convertToInteractive('df-92a22a14-b15f-437b-bd95-ab3b250ac050')\"\n",
              "              title=\"Convert this dataframe to an interactive table.\"\n",
              "              style=\"display:none;\">\n",
              "        \n",
              "  <svg xmlns=\"http://www.w3.org/2000/svg\" height=\"24px\"viewBox=\"0 0 24 24\"\n",
              "       width=\"24px\">\n",
              "    <path d=\"M0 0h24v24H0V0z\" fill=\"none\"/>\n",
              "    <path d=\"M18.56 5.44l.94 2.06.94-2.06 2.06-.94-2.06-.94-.94-2.06-.94 2.06-2.06.94zm-11 1L8.5 8.5l.94-2.06 2.06-.94-2.06-.94L8.5 2.5l-.94 2.06-2.06.94zm10 10l.94 2.06.94-2.06 2.06-.94-2.06-.94-.94-2.06-.94 2.06-2.06.94z\"/><path d=\"M17.41 7.96l-1.37-1.37c-.4-.4-.92-.59-1.43-.59-.52 0-1.04.2-1.43.59L10.3 9.45l-7.72 7.72c-.78.78-.78 2.05 0 2.83L4 21.41c.39.39.9.59 1.41.59.51 0 1.02-.2 1.41-.59l7.78-7.78 2.81-2.81c.8-.78.8-2.07 0-2.86zM5.41 20L4 18.59l7.72-7.72 1.47 1.35L5.41 20z\"/>\n",
              "  </svg>\n",
              "      </button>\n",
              "      \n",
              "  <style>\n",
              "    .colab-df-container {\n",
              "      display:flex;\n",
              "      flex-wrap:wrap;\n",
              "      gap: 12px;\n",
              "    }\n",
              "\n",
              "    .colab-df-convert {\n",
              "      background-color: #E8F0FE;\n",
              "      border: none;\n",
              "      border-radius: 50%;\n",
              "      cursor: pointer;\n",
              "      display: none;\n",
              "      fill: #1967D2;\n",
              "      height: 32px;\n",
              "      padding: 0 0 0 0;\n",
              "      width: 32px;\n",
              "    }\n",
              "\n",
              "    .colab-df-convert:hover {\n",
              "      background-color: #E2EBFA;\n",
              "      box-shadow: 0px 1px 2px rgba(60, 64, 67, 0.3), 0px 1px 3px 1px rgba(60, 64, 67, 0.15);\n",
              "      fill: #174EA6;\n",
              "    }\n",
              "\n",
              "    [theme=dark] .colab-df-convert {\n",
              "      background-color: #3B4455;\n",
              "      fill: #D2E3FC;\n",
              "    }\n",
              "\n",
              "    [theme=dark] .colab-df-convert:hover {\n",
              "      background-color: #434B5C;\n",
              "      box-shadow: 0px 1px 3px 1px rgba(0, 0, 0, 0.15);\n",
              "      filter: drop-shadow(0px 1px 2px rgba(0, 0, 0, 0.3));\n",
              "      fill: #FFFFFF;\n",
              "    }\n",
              "  </style>\n",
              "\n",
              "      <script>\n",
              "        const buttonEl =\n",
              "          document.querySelector('#df-92a22a14-b15f-437b-bd95-ab3b250ac050 button.colab-df-convert');\n",
              "        buttonEl.style.display =\n",
              "          google.colab.kernel.accessAllowed ? 'block' : 'none';\n",
              "\n",
              "        async function convertToInteractive(key) {\n",
              "          const element = document.querySelector('#df-92a22a14-b15f-437b-bd95-ab3b250ac050');\n",
              "          const dataTable =\n",
              "            await google.colab.kernel.invokeFunction('convertToInteractive',\n",
              "                                                     [key], {});\n",
              "          if (!dataTable) return;\n",
              "\n",
              "          const docLinkHtml = 'Like what you see? Visit the ' +\n",
              "            '<a target=\"_blank\" href=https://colab.research.google.com/notebooks/data_table.ipynb>data table notebook</a>'\n",
              "            + ' to learn more about interactive tables.';\n",
              "          element.innerHTML = '';\n",
              "          dataTable['output_type'] = 'display_data';\n",
              "          await google.colab.output.renderOutput(dataTable, element);\n",
              "          const docLink = document.createElement('div');\n",
              "          docLink.innerHTML = docLinkHtml;\n",
              "          element.appendChild(docLink);\n",
              "        }\n",
              "      </script>\n",
              "    </div>\n",
              "  </div>\n",
              "  "
            ]
          },
          "metadata": {},
          "execution_count": 35
        }
      ]
    },
    {
      "cell_type": "code",
      "source": [
        "# defining and implementing MED_CLASSIFICATION.\n",
        "\n",
        "MED_CLASSIFICATION = {\n",
        "854235:1,\n",
        "854252:1,\n",
        "854228:1,\n",
        "309362:2,\n",
        "855332:3,\n",
        "}\n",
        "\n",
        "# Loop through all rows\n",
        "for i, row in DF_of_Facts_Table.iterrows():   \n",
        "    # Check if any of the codes in the 'conditions_code' column is present in the grades_mapping\n",
        "    if row['medications_code'] in MED_CLASSIFICATION:\n",
        "        DF_of_Facts_Table.at[i, 'MED_CLASSIFICATION'] = MED_CLASSIFICATION[row['medications_code']]\n",
        "\n"
      ],
      "metadata": {
        "id": "89Ef1fvCcaDn"
      },
      "execution_count": 36,
      "outputs": []
    },
    {
      "cell_type": "code",
      "source": [
        "DF_of_Facts_Table.head(5)"
      ],
      "metadata": {
        "id": "tYkEH3kNhbC7",
        "colab": {
          "base_uri": "https://localhost:8080/",
          "height": 206
        },
        "outputId": "fd7e462d-c3ed-49f0-f2d2-1ff454ece7fe"
      },
      "execution_count": 37,
      "outputs": [
        {
          "output_type": "execute_result",
          "data": {
            "text/plain": [
              "                            patients_ID  conditions_code  procedures_code  \\\n",
              "0  2f114e21-8b95-e9eb-2e9e-4b950b059cfa       36955009.0      261352009.0   \n",
              "1  2f114e21-8b95-e9eb-2e9e-4b950b059cfa      386661006.0      261352009.0   \n",
              "2  2f114e21-8b95-e9eb-2e9e-4b950b059cfa      840539006.0      261352009.0   \n",
              "3  2f114e21-8b95-e9eb-2e9e-4b950b059cfa      840544004.0      261352009.0   \n",
              "4  2812f4fc-6aba-0033-728b-7e569bb8adcc       36955009.0      180325003.0   \n",
              "\n",
              "   devices_code  medications_code MED_CLASSIFICATION COV_GRADING  \n",
              "0           0.0               0.0                  0           1  \n",
              "1           0.0               0.0                  0           1  \n",
              "2           0.0               0.0                  0           1  \n",
              "3           0.0               0.0                  0           1  \n",
              "4           0.0          197604.0                  0           5  "
            ],
            "text/html": [
              "\n",
              "  <div id=\"df-937364e9-30d1-4f85-95d0-a86eff13c077\">\n",
              "    <div class=\"colab-df-container\">\n",
              "      <div>\n",
              "<style scoped>\n",
              "    .dataframe tbody tr th:only-of-type {\n",
              "        vertical-align: middle;\n",
              "    }\n",
              "\n",
              "    .dataframe tbody tr th {\n",
              "        vertical-align: top;\n",
              "    }\n",
              "\n",
              "    .dataframe thead th {\n",
              "        text-align: right;\n",
              "    }\n",
              "</style>\n",
              "<table border=\"1\" class=\"dataframe\">\n",
              "  <thead>\n",
              "    <tr style=\"text-align: right;\">\n",
              "      <th></th>\n",
              "      <th>patients_ID</th>\n",
              "      <th>conditions_code</th>\n",
              "      <th>procedures_code</th>\n",
              "      <th>devices_code</th>\n",
              "      <th>medications_code</th>\n",
              "      <th>MED_CLASSIFICATION</th>\n",
              "      <th>COV_GRADING</th>\n",
              "    </tr>\n",
              "  </thead>\n",
              "  <tbody>\n",
              "    <tr>\n",
              "      <th>0</th>\n",
              "      <td>2f114e21-8b95-e9eb-2e9e-4b950b059cfa</td>\n",
              "      <td>36955009.0</td>\n",
              "      <td>261352009.0</td>\n",
              "      <td>0.0</td>\n",
              "      <td>0.0</td>\n",
              "      <td>0</td>\n",
              "      <td>1</td>\n",
              "    </tr>\n",
              "    <tr>\n",
              "      <th>1</th>\n",
              "      <td>2f114e21-8b95-e9eb-2e9e-4b950b059cfa</td>\n",
              "      <td>386661006.0</td>\n",
              "      <td>261352009.0</td>\n",
              "      <td>0.0</td>\n",
              "      <td>0.0</td>\n",
              "      <td>0</td>\n",
              "      <td>1</td>\n",
              "    </tr>\n",
              "    <tr>\n",
              "      <th>2</th>\n",
              "      <td>2f114e21-8b95-e9eb-2e9e-4b950b059cfa</td>\n",
              "      <td>840539006.0</td>\n",
              "      <td>261352009.0</td>\n",
              "      <td>0.0</td>\n",
              "      <td>0.0</td>\n",
              "      <td>0</td>\n",
              "      <td>1</td>\n",
              "    </tr>\n",
              "    <tr>\n",
              "      <th>3</th>\n",
              "      <td>2f114e21-8b95-e9eb-2e9e-4b950b059cfa</td>\n",
              "      <td>840544004.0</td>\n",
              "      <td>261352009.0</td>\n",
              "      <td>0.0</td>\n",
              "      <td>0.0</td>\n",
              "      <td>0</td>\n",
              "      <td>1</td>\n",
              "    </tr>\n",
              "    <tr>\n",
              "      <th>4</th>\n",
              "      <td>2812f4fc-6aba-0033-728b-7e569bb8adcc</td>\n",
              "      <td>36955009.0</td>\n",
              "      <td>180325003.0</td>\n",
              "      <td>0.0</td>\n",
              "      <td>197604.0</td>\n",
              "      <td>0</td>\n",
              "      <td>5</td>\n",
              "    </tr>\n",
              "  </tbody>\n",
              "</table>\n",
              "</div>\n",
              "      <button class=\"colab-df-convert\" onclick=\"convertToInteractive('df-937364e9-30d1-4f85-95d0-a86eff13c077')\"\n",
              "              title=\"Convert this dataframe to an interactive table.\"\n",
              "              style=\"display:none;\">\n",
              "        \n",
              "  <svg xmlns=\"http://www.w3.org/2000/svg\" height=\"24px\"viewBox=\"0 0 24 24\"\n",
              "       width=\"24px\">\n",
              "    <path d=\"M0 0h24v24H0V0z\" fill=\"none\"/>\n",
              "    <path d=\"M18.56 5.44l.94 2.06.94-2.06 2.06-.94-2.06-.94-.94-2.06-.94 2.06-2.06.94zm-11 1L8.5 8.5l.94-2.06 2.06-.94-2.06-.94L8.5 2.5l-.94 2.06-2.06.94zm10 10l.94 2.06.94-2.06 2.06-.94-2.06-.94-.94-2.06-.94 2.06-2.06.94z\"/><path d=\"M17.41 7.96l-1.37-1.37c-.4-.4-.92-.59-1.43-.59-.52 0-1.04.2-1.43.59L10.3 9.45l-7.72 7.72c-.78.78-.78 2.05 0 2.83L4 21.41c.39.39.9.59 1.41.59.51 0 1.02-.2 1.41-.59l7.78-7.78 2.81-2.81c.8-.78.8-2.07 0-2.86zM5.41 20L4 18.59l7.72-7.72 1.47 1.35L5.41 20z\"/>\n",
              "  </svg>\n",
              "      </button>\n",
              "      \n",
              "  <style>\n",
              "    .colab-df-container {\n",
              "      display:flex;\n",
              "      flex-wrap:wrap;\n",
              "      gap: 12px;\n",
              "    }\n",
              "\n",
              "    .colab-df-convert {\n",
              "      background-color: #E8F0FE;\n",
              "      border: none;\n",
              "      border-radius: 50%;\n",
              "      cursor: pointer;\n",
              "      display: none;\n",
              "      fill: #1967D2;\n",
              "      height: 32px;\n",
              "      padding: 0 0 0 0;\n",
              "      width: 32px;\n",
              "    }\n",
              "\n",
              "    .colab-df-convert:hover {\n",
              "      background-color: #E2EBFA;\n",
              "      box-shadow: 0px 1px 2px rgba(60, 64, 67, 0.3), 0px 1px 3px 1px rgba(60, 64, 67, 0.15);\n",
              "      fill: #174EA6;\n",
              "    }\n",
              "\n",
              "    [theme=dark] .colab-df-convert {\n",
              "      background-color: #3B4455;\n",
              "      fill: #D2E3FC;\n",
              "    }\n",
              "\n",
              "    [theme=dark] .colab-df-convert:hover {\n",
              "      background-color: #434B5C;\n",
              "      box-shadow: 0px 1px 3px 1px rgba(0, 0, 0, 0.15);\n",
              "      filter: drop-shadow(0px 1px 2px rgba(0, 0, 0, 0.3));\n",
              "      fill: #FFFFFF;\n",
              "    }\n",
              "  </style>\n",
              "\n",
              "      <script>\n",
              "        const buttonEl =\n",
              "          document.querySelector('#df-937364e9-30d1-4f85-95d0-a86eff13c077 button.colab-df-convert');\n",
              "        buttonEl.style.display =\n",
              "          google.colab.kernel.accessAllowed ? 'block' : 'none';\n",
              "\n",
              "        async function convertToInteractive(key) {\n",
              "          const element = document.querySelector('#df-937364e9-30d1-4f85-95d0-a86eff13c077');\n",
              "          const dataTable =\n",
              "            await google.colab.kernel.invokeFunction('convertToInteractive',\n",
              "                                                     [key], {});\n",
              "          if (!dataTable) return;\n",
              "\n",
              "          const docLinkHtml = 'Like what you see? Visit the ' +\n",
              "            '<a target=\"_blank\" href=https://colab.research.google.com/notebooks/data_table.ipynb>data table notebook</a>'\n",
              "            + ' to learn more about interactive tables.';\n",
              "          element.innerHTML = '';\n",
              "          dataTable['output_type'] = 'display_data';\n",
              "          await google.colab.output.renderOutput(dataTable, element);\n",
              "          const docLink = document.createElement('div');\n",
              "          docLink.innerHTML = docLinkHtml;\n",
              "          element.appendChild(docLink);\n",
              "        }\n",
              "      </script>\n",
              "    </div>\n",
              "  </div>\n",
              "  "
            ]
          },
          "metadata": {},
          "execution_count": 37
        }
      ]
    },
    {
      "cell_type": "markdown",
      "source": [
        "##7) Pseudonymisierung der Patienten-ID\n",
        "---\n",
        "### Erzeugung einer Schlüsselliste von Patienten-ID und Pseudonym\n",
        "\n",
        "Pseudonymisierung der Patienten-ID erfolgt mittels Python Random choice() Methode. Die Library \"random\" wurde initial bereits hierfür geladen.\n",
        "Die choice() Methode gibt einen willkürlichen String in Kleinbuchstaben in einer Länge von 10 Buchstaben pro Patienten-ID wieder.\n",
        "\n",
        "Durch Pseudonymisierung der Patienten-ID und belassen lediglich des Pseudonyms inkl. Geschlecht, Geburts- und Sterbedatum, wird Sekundärnutzern die Rückverforlung der Patient:innen hin zu den Quelldaten und damit Identifizierung maximal erschwert und entspricht für diese quasi einer \"Anonymisierung\", da keine logische Verbindung zwischen Pseudonym-ID und Patienten-ID besteht. Die Schlüsseltabelle wird als CSV Datei im Shared-Drive der Projektleitenden und somit zugriffssicher aufbewahrt."
      ],
      "metadata": {
        "id": "HD972UfUqZF3"
      }
    },
    {
      "cell_type": "code",
      "source": [
        "def check_random_string(random_string, random_strings):\n",
        "  if random_string in random_strings:\n",
        "    return \"doubble\"\n",
        "  else:\n",
        "    return \"ok\"\n",
        "\n",
        "pseudonym_tabelle = sqldf(\"\"\"SELECT DISTINCT patients_id FROM DF_of_Facts_Table\"\"\")\n",
        "pseudonym_tabelle['pseudonym'] = ''\n",
        "random_strings = []\n",
        "\n",
        "def pseudonym_generator():\n",
        "  random_string = ''.join(random.choices(string.ascii_lowercase, k=10))\n",
        "  check = check_random_string(random_string, random_strings)\n",
        "  if check == 'ok':\n",
        "    random_strings.append(random_string)\n",
        "    pseudonym_tabelle.at[i, 'pseudonym'] = random_string\n",
        "  else:\n",
        "    pseudonym_generator()\n",
        "\n",
        "\n",
        "if len(random_strings)== 0:\n",
        "  for i,row in pseudonym_tabelle.iterrows():\n",
        "    pseudonym_generator()\n",
        "\n",
        "print(random_strings)\n",
        "pseudonym_tabelle.to_csv(\"/content/drive/Shareddrives/DMA_2023_D/DMA2023TeamB/Quelldaten/covid19/pseudonym_tabelle.csv\")\n"
      ],
      "metadata": {
        "colab": {
          "base_uri": "https://localhost:8080/"
        },
        "id": "g9ke1MWon6Lb",
        "outputId": "2317e355-0a78-47f7-d7c4-b30c7542fed0"
      },
      "execution_count": 38,
      "outputs": [
        {
          "output_type": "stream",
          "name": "stdout",
          "text": [
            "['bkevxtzzcr', 'feibpgieor', 'ruqlreyjjm', 'jouvuzuflx', 'fcwqnfrlbt', 'ixnwfsukei', 'grfnghvxvv', 'ucyfdkvuyo', 'hwlsevpejr', 'pqijnqqhan', 'htcolfyleq', 'cmkontucak', 'bobarfhyhi', 'wqnmtpieja', 'tpeuujmwex', 'vcxsprkxjj', 'xaamzhdfow', 'dkmudmrzqx', 'wqwahirrqf', 'mxaruoipdo', 'ccsyfccmxx', 'qpojrdssvb', 'dtrlayuccb', 'qwmrafwihz', 'bufzhbssnx', 'qssghzjasp', 'hhayvxinfr', 'sgxqnukldp', 'ieiufviipv', 'ajsvqjfwrz', 'ylegzwyeaq', 'xfhsumwcvf', 'wykeijpzii', 'xfutqmllhd', 'oxkybrhlzi', 'gjmbkasocf', 'gnbmiazofh', 'qtoyswojgo', 'xiuyjzzgju', 'dxjlyerwou', 'buvcakxqky', 'nxwuzxabtg', 'anuicfyiud', 'ynvtxcyjbg', 'moqmllkgry', 'ynqmfmttcw', 'fxazyxxtlb', 'tkewsdqmjm', 'cfubwvoura', 'hiiuikehlr', 'khrwakzfna', 'husrvzwcud', 'ldbsprgtlw', 'dkmmnhtrgd', 'xuuyiojkjs', 'krqmqvcxhn', 'extebqwcfd', 'slgugscgrf', 'vxdzqqqfoq', 'fuzbdirayn', 'pherbhfcnv', 'dojqemfvis', 'bshbcrwumx', 'mkhykvrecu', 'gblsfiknmq', 'efrxkombyu', 'mcfvtgaiza', 'gwshfkuwdc', 'mqhqplzpwe', 'rnwpjpiyir', 'kkwihtdeit', 'laqqfxgkwg', 'yypqjpipuw', 'raciqbkdbm', 'lewazvxzwe', 'pmkxzizfxm', 'bgehykdyrd', 'zofmnflbbv', 'gaqtvjwswm', 'zaehpsgial', 'holdebcwzo', 'docnpplvsk', 'qjxxkilahl', 'hdcowpxsco', 'cqodvljbll', 'bzgwxcroxf', 'lzqixklmle', 'kzvohgfjbd', 'glhcnwghra', 'qcafzmktcl', 'jewbjtybmz', 'mzdhywdgyq', 'stsfyuapco', 'lmihulsfhx', 'szzirrgwmj', 'yfpbrzqphx', 'ddwuunlyne', 'qmutlhzmmg', 'rqphlxkbjf', 'foecuybgkj', 'ybekqxnush', 'tmbsqbtmoc', 'efgnmykjtd', 'adjijysmgl', 'awrwsukmhd', 'kyhnrxjplr', 'dkwbqjeujj', 'vbxjsyrcen', 'gmecidkphk', 'cjizctjyvz', 'tesvtzggrr', 'plznoxibbn', 'pobunuegik', 'ijynyvmerd', 'uhwlvzazdl', 'urzzpcsogl', 'sualicxesw', 'clvxgrhzoi', 'yonquyvdss', 'uhynhrbxih', 'sdelxwhvwz', 'kkvzucenpw', 'fpjpadiuha', 'ghoavrfdaa', 'zwtmvjfpao', 'bndexkokqo', 'fkokgdaalb', 'gbnitwzacx', 'nedlnxtywt', 'cmzidsnrok', 'fkpbhgigiy', 'nvlqwtdthv', 'nmnwvoroxi', 'nujofpacje', 'eisbgdydnm', 'aytwsmhuas', 'qnrmvfzatr', 'lpdcumklki', 'mlsqvbteej', 'etsntxtgaw', 'aunkaodzon', 'lfqwvrhflb', 'gkhdjeertm', 'yhujuigagc', 'fjqrdvaags', 'eftkxvchql', 'jtcphyqskt', 'kxyeqvgawo', 'hotclcuinc', 'nbotvbizee', 'osjvksbuet', 'ddedspqndm', 'nqqmynoeqm', 'xkpfpvgfrc', 'mrhqeloamp', 'ukfcryfbjd', 'krieeuymjn', 'oqubqrawrx', 'jacmuhszmz', 'wcrfqxfxdb', 'vivmklzimg', 'pbskvgkdjc', 'mchewgkzfb', 'flvglserkb', 'sfnruxdmpp', 'bihogbwosx', 'eakygktcfl', 'cmpssgbbgl', 'oxldpntxqm', 'xakndvhnog', 'birupcuvpd', 'nvuxhzkplr', 'mvfakyhmrm', 'afypzgibae', 'hfexxakudt', 'blcwugabef', 'tghvncfopg', 'wunhjedozn', 'oahkaydbmy', 'ftglnsnicr', 'vxlrgymndd', 'qfegfozujp', 'cglxklqsyw', 'felmgtnuvg', 'kwjpestjmb', 'phuridacll', 'ivxwurwyuj', 'sqouliyere', 'qetgnhmwit', 'qczfdtyggs', 'jobcwsyxdt', 'pqmfvvgdwb', 'lbjxpqrrtd', 'ncikwwfaey', 'yosutexxzz', 'uboxcftpbq', 'vhxgabhnvz', 'mmdofzogvj', 'jpvxjrlebr', 'osdsgriadh', 'ttrpuxzmgf', 'iygudkdriw', 'oxsonngpiq', 'mkgeyowiep', 'pifqbcyawo', 'vbhyrfmgdt', 'lfylwdzbir', 'rrznhhxsfe', 'lanjoevoho', 'zwegxzednz', 'snnsubnubb', 'txecpnkphg', 'ooayhizzos', 'kzfbptvhge', 'ucuwawykgd', 'dqwwkzwhdd', 'cpdfeugarb', 'gocqexxzlc', 'zqnipwecfh', 'ejnmbedcgo', 'buzavcjziu', 'hdtucjktnu', 'zfddmagvgv', 'bdtmxnvxxm', 'booetmfrmk', 'teomveiyzo', 'ienhjdolfb', 'oblaprbmpc', 'naghzafeoe', 'gsetuecwal', 'czvjjqezzp', 'uheegjbalz', 'iyyxjarfim', 'ajtsvtuhaj', 'saljkigird', 'rtkxgayjms', 'wrspchclzl', 'lvxwuzpgfd', 'bafkiwdcto', 'wdyghqlgjx', 'vwcxypsjvl', 'hcqvvkdqiv', 'hesmvzwfto', 'bdyxrpvrax', 'bfnzckvvqt', 'xmmpswfnvb', 'qgfyahgwkw', 'njznfrjzyu', 'xwxiqdfzgi', 'kykqxvnfsx', 'dizbpizayf', 'tkzdttutfw', 'soadphmtwr', 'yzgzykawfi', 'tmhnzpkzam', 'wmgcnyqgml', 'roeouyjeop', 'oungiunkgo', 'fwnakvsgvk', 'vvcgaczbvm', 'jslgsjgwws', 'fmqabqgxli', 'dexkhgyhdu', 'ghmszdxngw', 'tsfwsapovn', 'wljpucjrdp', 'kmbndgoael', 'iazmcfkilg', 'zzjebiabzh', 'njkqkxakux', 'scuhojghyp', 'rngpmarpll', 'uieuwwizvp', 'tguuworzhg', 'jsoaiednkx', 'thyngxvywa', 'pnnfxecdok', 'lkyepouasn', 'wdkpmqljvq', 'pwoquvqrnp', 'acnraaubzu', 'dpclmtljqn', 'isnklxbduf', 'sppaflgady', 'fhubxwxcrc', 'mzkqpocxak', 'gbzgeoyhlm', 'rwkgzbnipw', 'cpbcpexgud', 'kcwjfiihzh', 'xytpwlcxzh', 'nrbecrbrfg', 'szspplzeiq', 'jbxnqsykbt', 'tcjsbmqulz', 'qhoyteygyy', 'mzwfzjinio', 'akuvggoxao', 'ssuxqtcggo', 'kfhhfxvwvg', 'nrhqxrfuzg', 'kyqktwewdy', 'lrzujmbojh', 'nfivmymfew', 'atcugfnrbg', 'pcjgltbunz', 'iralnsnqnh', 'sviedajhnn', 'egzzfddgey', 'gnxkopzckp', 'cwmpansryf', 'ezpvlovnrk', 'iswbsvbsof', 'brydxwcrvd', 'ojzfilierz', 'pnsrkddhud', 'mjretwqcnf', 'qkjlpncxll', 'oveakhoxks', 'mcfnimjqqm', 'yftqsezdeo', 'dnyarjurds', 'atwctudchv', 'rftimozddt', 'rbxnpfdxom', 'yelgqawbkk', 'npvttgmzpg', 'nvqfdtipnd', 'vjvjtzrofa', 'kirdifrpkj', 'qqfaxyiiws', 'opyhegqhaq', 'boywkhyzew', 'fnnyoqvewt', 'myzpwayqdv', 'hdotoxferd', 'bppvchsgdd', 'hwrsgifriq', 'keqsrxtfov', 'ezclnhhrgt', 'qcczgzvazn', 'hjgqbobuwa', 'lrobxeonwl', 'htearogvdp', 'zuzeauzqdx', 'ajykvzbbmt', 'apqahsgswr', 'yqzigxyicd', 'igupfbtmmv', 'soyhmhjhva', 'fnaphygeda', 'vvpezblbqj', 'jpnmtjuypg', 'knipezfmex', 'hpwdsqnphi', 'euwrjbwdoq', 'lnzfpftdjc', 'zzvrkzjpfa', 'cvdkagxjkg', 'rnpyxmutli', 'prnpqqrufn', 'ejyraprxuz', 'ujvthhmuvh', 'hnjybvqjej', 'kzsyxkzcrb', 'yhjfdrpijm', 'hgtifdayqv', 'dibysqjsop', 'pkdyrazgfq', 'rdviqasjzq', 'bzaeyrcxju', 'pbvhqytwde', 'ykjnyiprul', 'rvglflehix', 'hypjywihbz', 'mranbtabhv', 'jvbqaxqtfy', 'pnxtvqpvhq', 'ocvjlwhyje', 'eqtjzlzfut', 'baekxzdgmg', 'hzpillyytt', 'kghejxnlkl', 'jxftkeafuw', 'qupttofece', 'azjwwidgxi', 'ogesvhlgnv', 'ymriciofbm', 'kwsrmtbwjf', 'rjoljiajbf', 'rpvvlvgboz', 'lzagpbvusg', 'qxvikfmraw', 'xvwikofksv', 'uefuivccyb', 'vdzrpbhlcn', 'lhttalpgoy', 'glktqpxktm', 'anvxqsqijh', 'dpvxpghzrd', 'jamgzzeciw', 'iikyramwat', 'zvnasojgpm', 'pifsvytxrz', 'dqkjxqrkac', 'dtocjhccyg', 'btbozgdjgf', 'srpqifuwsl', 'lqfxcsgnrj', 'ypthsaezzx', 'hxwxnctcpq', 'ozaasecwrf', 'ggdohwottd', 'zeaqoupuiw', 'tyzllswlrl', 'yqevvqxeki', 'liivxbkolj', 'rvfokpbhnj', 'svsyflfuid', 'hudwhtsvaz', 'hlfxgsxnjr', 'mqoyzaplwc', 'yeamhizlaw', 'uobhumhzdb', 'ghubpjreqj', 'hosoawqlac', 'jwomvvxsjy', 'qnaiwzslgw', 'decqtnhnoe', 'zlxnpgokdg', 'tdjfrhfpoz', 'nnsxgkfdxn', 'csrrggpiia', 'xgbjltvkre', 'xxuthwsiqt', 'nffywmjxeq', 'tihyczmowe', 'wukeoqioyn', 'iuqbhvbbak', 'qpocsichmd', 'gxiarhbwwr', 'bstbfxypbr', 'emfjzraviw', 'aynqqdysgj', 'yakwmkhayu', 'huhocpfdqw', 'qdiqqjzrpl', 'mkxlpkukzj', 'ddgyjxqutv', 'plkvzocena', 'bdalqgvfqf', 'idwnzrbgqh', 'orvkptskkg', 'yiznszwoil', 'xvigguxlpm', 'xclctshzyj', 'qdnvdllkff', 'prkrjcfzdy', 'oxiljicote', 'fbnkdydwas', 'lmbsmhyzpj', 'mbnowsocfv', 'byouuapxxj', 'bqswsydvso', 'kzblubkehs', 'bhaqstwjgq', 'cqroknizsm', 'okcjrtewht', 'djcjtacsna', 'psucjvwrhi', 'xiybxkorgc', 'joynldbiei', 'zcgqmkrecu', 'vgzbmyahpn', 'ncldnuskai', 'knydthdvgf', 'owwfpfgdbu', 'carzatuxnc', 'ifoiwxxfip', 'vndwewrmrw', 'ddrtsipuiu', 'pglopeabug', 'bsfzlapvmw', 'dhyexqsmdj', 'zwsdbbvgsz', 'nhqkvbitkc', 'idsyedexty', 'jajlfnflxg', 'qhqcjqzbce', 'zmkdepdjfp', 'unhxonjbhc', 'bxlrhxriqe', 'etsfnxvcoh', 'pqewlinwuv', 'jpkkxcespp', 'fktwffcjps', 'gxhduxfjeq', 'ayadlowtlp', 'ajxsiieocg', 'jduophubex', 'ylyujwwdlc', 'qtwrzdfiic', 'nrcllqygos', 'dkyvksbynw', 'ftdnndiqvs', 'pztjurhjod', 'fbxbdufebm', 'mcytfgadxk', 'yetcsxtgkb', 'xnujthmxdo', 'xtimqonppa', 'zlucgguohg', 'pjankuogpu', 'apdsyotfpc', 'kmlkmcfypb', 'knkiadoply', 'sghqttmzsj', 'euydvvlshf', 'gmaqtjdmqa', 'sylntdvhxq', 'wnyqumobbh', 'ngjtxfpdxa', 'mrmeqdxpbm', 'ukwbryxwkl', 'gtgengcvat', 'vowutxcson', 'fkxymkspnh', 'mypergyhvt', 'idwkaltpzn', 'jqyfhmkaus', 'bjoxlkcump', 'zquczmgbem', 'mszemqmhjj', 'rvgdquuxbf', 'uxfqqxlxqp', 'fdzfebwluw', 'jsjwnfxlwp', 'rqfmqxmmsa', 'sqzdxclqoo', 'plityyfyve', 'veghwisxpv', 'vrefjmgczr', 'hhiuadfwkc', 'ydkewtqvek', 'qfhawocbsv', 'pslrmqeowt', 'cectgiwezt', 'mnyhoxdyjk', 'yivqrlonxa', 'qpurgrmjmm', 'gfhoiixhky', 'rofwiyfkbx', 'xcrokoaosv', 'mpxdfrsern', 'ahiawwzrnr', 'kczlrpqvej', 'mdyckuflis', 'xjulwpgzgh', 'vondcznmvp', 'jaepzoepqi', 'cslasbpoxx', 'nhakelevyp', 'aowkmpglzm', 'xmpzvyievl', 'hslepurlny', 'wxulwocsyo', 'krfwrjzkcf', 'yksyzvlmer', 'rujtrnyjan', 'shykfizkyp', 'yhuoyyhlhj', 'ymlfjaebay', 'piaoeuluws', 'azasdvwkbi', 'oexavhwbnr', 'kowtyenama', 'oaivpqmchn', 'evnauuxrmx', 'fwfygpcizg', 'wvvbwrcdrl', 'jxztbnoeuv', 'kknjyutewi', 'httmmhzfms', 'ljnxicojqa', 'gjifpbfekw', 'lcmdqncpcx', 'lucjycsusz', 'mqvdthvlkd', 'btkrfdbgat', 'zqaeetwgsu', 'xfqhuofhuf', 'mexrocuxfv', 'mskhjawnvc', 'jlmmbivmju', 'ykeoeioakx', 'aqsmmieykh', 'chonajzpfe', 'bjyficprxx', 'utcbuvlahf', 'kvfdxhfskn', 'qwjsuwsruf', 'foxechstzf', 'vfliiqopix', 'dxikbjnmvc', 'huycrkojcy', 'eqqikeyqcm', 'hluqfrjclm', 'wonlxtlebn', 'wcpxvkoltb', 'mygransynh', 'yixllhplef', 'xgguovrfpz', 'eridgportz', 'bteryyszbc', 'gzuhlktdbi', 'debrnsdztm', 'gqqkzzyoxu', 'ktkjlgfnjz', 'bzyzwohwch', 'uiyyrnfwco', 'nwigqtiiyc', 'mldwsfjsjd', 'ydhtcfzypu', 'eklfxavetq', 'gxxtyhlllw', 'ciuzyqioah', 'xjtgbdfnmy', 'rghumucwew', 'ouzvggwepe', 'tuhaljjtzw', 'savmnztmsk', 'inzfacvmbd', 'ktqeopyngz', 'pxfscmuylf', 'oepprsiepx', 'pbybewbkxg', 'nbuafgzogq', 'blolhtsamo', 'vhktrtxnrm', 'bzrldyvzpu', 'vefqmjzdah', 'qrtahyfqjh', 'vxbfuhetji', 'llawyyypvi', 'jphacylyzj', 'inoftxvhcr', 'lqdswlvivh', 'pnweosclla', 'fjsermhjai', 'ntchbhvvbp', 'ndkpovwnmi', 'sfhxeatucc', 'thylybwber', 'caacasgpsa', 'aykramwnkb', 'gebsytefna', 'jkyeprfnht', 'dgzadbjxvu', 'gynwbhjefb', 'wvornxxdtp', 'owhlzhpuvn', 'oenfwyayjj', 'zapolbmucf', 'rmpozvmaym', 'xgszwercrm', 'mzjbnkgtcj', 'mtnjcfepiw', 'znwyiamkhx', 'npvvyxzcfr', 'piywrwppui', 'nhugvpvhvn', 'lbsoszcant', 'huahbjtkda', 'rvwksixwmy', 'rdbfppztue', 'hfaznnavgp', 'vhmruibjqa', 'gkykjwhulj', 'ebtetdruhc', 'jysjsonpxp', 'ruvpwpteuu', 'vabjmooqph', 'haypfxigwd', 'uluyxnhpix', 'hlhvxenfge', 'yivafwjfsj', 'ovzkjajshu', 'skyowlnwsr', 'iwfqyefwvi', 'riyspsbkvq', 'moigsckjer', 'okxllhgzit', 'trjkzciwks', 'ypecjtgjnx', 'engqkfncgx', 'qnwgkhrbtm', 'gzfhbvlgjn', 'kdbinhfqgk', 'pvmxjxxmtt', 'jbcsgrpetb', 'blnxftszsw', 'mlojfrrdyc', 'ljsrwsemiz', 'xzppitrzwf', 'ovadrqganm', 'utkkwpzdts', 'tcwlcovvlm', 'zaqvpbacli', 'oxmxngstaz', 'nngutwxxgv', 'mmhehhcgto', 'afbvihmyla', 'pmwyyryfzs', 'gdtcjpnsfz', 'nmqltizwjs', 'khkcillwzk', 'tcswnmsgbq', 'clgcpylgcy', 'ipflnnxzcz', 'rfngllsaco', 'htvcncvqbm', 'qkggerjdkd', 'uddmoldfja', 'sibvrklcyr', 'tdqxnuxssh', 'jrtlcjimpw', 'qwnphhmtmj', 'ssxpnjirdl', 'gmvtvzuynw', 'uyrfhqervd', 'ziatvrlpdu', 'gukrzodewg', 'qeafwxjmzr', 'kkpufsyfvh', 'zxqrohaamh', 'tapunpovhw', 'loawcdiubv', 'hkncnqvkhn', 'noejwcmmde', 'bvynciohos', 'msjesbzmfo', 'mzxhafliqw', 'lyarydtxkm', 'ydrjuxmyne', 'etzdgzqtnk', 'cisydcwwrl', 'cnaiwntblr', 'ylxpkplkav', 'ycsuhecodl', 'qlvsoiccfv', 'mbpagdbkhw', 'orhrqyyzqf', 'hsmdocgzbb', 'woybuwdwfg', 'oedxbpiebw', 'eovqyuawrd', 'znjypdsyqv', 'eyzmhelgon', 'hpofqtruwn', 'venfdaeyio', 'oivelhkjoa', 'adjgilkglp', 'soeyexhufx', 'mutfrajyey', 'yvhmuiccbl', 'llyckfmcel', 'wsuitaqvon', 'vgidieqdwh', 'mpcxntdhhi', 'hivhkenhbg', 'itptjokqyz', 'nlwokpbjjy', 'itgvkdtiej', 'uqfuszdwbv', 'ijdpbhsbds', 'bruusfjfhr', 'jfmockxwxq', 'fvzwlokoqt', 'qxsqsbyymw', 'sqnkregamc', 'nqhvaoaogw', 'jvhijhaams', 'vmfuvxalxc', 'icpugnnrxo', 'zlufykleth', 'xcflliqtvh', 'yglcfvtand', 'ewuqytkfxd', 'nwupgzpsbp', 'ymgohigjqy', 'vqwbnbtzqh', 'zmcecuziuk', 'ortjmxzqwe', 'dgwrtlausm', 'mjeidbutxw', 'bqesvdtgaj', 'wcckkcxzei', 'zggtuaxqeb', 'ymaeqmywhx', 'rgxjnkmarw', 'rsdmkplffu', 'oxkfhterit', 'vvmyzzjufa', 'wulonagxgk', 'weccdpdtkd', 'zbmglrefep', 'dhiinnsxhd', 'lcyxucmfch', 'hfuyxkxkwr', 'wbxhqqhhux', 'iyxhoadppl', 'gbdmpfcjrm', 'ncappgbpav', 'daxgxeeipq', 'cmyjzefcnm', 'jvxbhcrdas', 'usjeuggrvv', 'wsqindegru', 'bvlchystoj', 'ufvewebsnh', 'cnhqysuazc', 'oaiqravfxh', 'vnhucsmwem', 'ohjxeavtcd', 'rfriqrbwev', 'wwesbvxceg', 'rgpdyfsvjz', 'mrbtbbtkvw', 'yvdbbrhqya', 'styrueslda', 'xryihdudfq', 'cnkpihthev', 'hwunegmbkh', 'idynhdmiec', 'qmqcnkadvc', 'xsoyehivdh', 'itfyqfuesg', 'omkhprwjxf', 'owzpqrbecv', 'nuolvxzyjw', 'zrsvbvaxch', 'bysajewjkp', 'bxkuecjzhq', 'ddlwmlqnij', 'nsabpwfzpq', 'ojehyciyqy', 'hkebegctuo', 'pqatqhbfgl', 'rdezzhiaur', 'noxhpbgadn', 'asfwejgmgl', 'lnyhyvinmf', 'qdkcrjmejv', 'tugswpykyi', 'tejzjbcali', 'hfocvjltmv', 'hsbfjkbojz', 'ovtgplourx', 'fcdrekdgdd', 'adbrupfmpj', 'dsvkofnxnr', 'elugklriwu', 'dykmutbupb', 'jyinveqxia', 'ovmtkshpxb', 'nqgmzwwkzm', 'kxckiabmvf', 'gytpvhfirt', 'lcnfsqicpi', 'ujraooamyn', 'xucvyzjdqq', 'xjeuyqssyc', 'kgnvjkjbhd', 'jfztzyvcet', 'hjzvajdkls', 'mlzjxclqxw', 'wzazzjgjea', 'mdqcexrsji', 'oredjbvkyk', 'gvoctymxkf', 'pbzgcspccj', 'gxdxlgdobv', 'mryuwdfjxv', 'bsgnetshif', 'vyhyequvex', 'jcopmyimdf', 'tqxvvxmlle', 'gfldgetcqv', 'iylpexoukz', 'yfiqwkqztl', 'wiudozmqov', 'ipxmdzzuvf', 'rngxqpjknb', 'zdrwvwnejf', 'zboxptqgfu', 'jopijpfbca', 'bnokocmdjw', 'slhrhzusdh', 'eusbrxgivn', 'mqprmwlbne', 'pgegizedqs', 'gdmgelwlnn', 'yowdojegpx', 'apmetudrbi', 'dketmffwox', 'yytjpvumkj', 'mukngtipql', 'zzgkellqru', 'mvwypeeeit', 'uvvwqdcgfi', 'lyjvwrkhvq', 'gtbffiisde', 'btthtqsuvn', 'naezyslkop', 'sqqojktipr', 'jmxlvpsstm', 'slyxjcxumy', 'vktcazbzdh', 'keqjiwaftb', 'aomyamrzkt', 'fafgambegd', 'rfwedfumbc', 'rbimknptrk', 'ocevstgwum', 'oeozhvietk', 'hvuqpmfjiw', 'gdfslgnhyn', 'hsaqsgopgb', 'kkgvdaaeqt', 'qrdsmabrsg', 'xsysejjpbi', 'mdahhdutit', 'smcsnyzkzf', 'hxftaarung', 'wzhpqokzrp', 'vlafxfxsha', 'qgddjcyuiq', 'nyhkdbpjxi', 'zvhbpztoel', 'kvvpmqhlcq', 'teepjlwhnr', 'bprgqnzipi', 'gsidnmuhsy', 'bsmzobakqo', 'vguyatgvns', 'ovowsmkdir', 'olozcbtcad', 'tkhrqufuuh', 'tcohcqlctu', 'ejrokijpic', 'wqzozmgaln', 'ynweikwdox', 'qruzbdmqxa', 'sogizilehd', 'pixexfjsnm', 'vntgobbvtz', 'dwqxfgizev', 'pkevdwictf', 'mzmmwxkibi', 'cppedpsmam', 'hbekqcoipe', 'prxvezqujm', 'pmtflmfhor', 'wgfajkgolr', 'ovhzgkakqx', 'krdctvfkdy', 'wfbmjnfgym', 'tvolmhlknm', 'djscgdkhsc', 'kdkhemcvmz', 'qolcvklwio', 'excdhnauvg', 'ihcojgmmqv', 'hpcimpacin', 'mobjtdoazd', 'ryguxiyhee', 'myyujlimaq', 'nwhjmrfeap', 'ralbjonxzi', 'vxyfkzsluh', 'nuwenxsqfv', 'fqbwpipter', 'dfjbwnlcjc', 'uwvpumefek', 'vjcqgcgipj', 'vgstmnzrmx', 'zbvwfhxvty', 'ykgywhateu', 'hrkgbkwuhz', 'zromtzkkwy', 'iigrdtmfmg', 'yirkkcblec', 'lkmdyzfhzq', 'dwfwuyykaw', 'tdvargsdzc', 'wporqxlurf', 'ngsoqnzjso', 'zovlgvckyz', 'mwdofvgdig', 'sakymerjnv', 'uxjgvxwoib', 'tfktbaamsm', 'ikwbhwnyxs', 'cejdqsgmxj', 'dpkaqqhxpa', 'lxmlididvy', 'pxwrwrjulg', 'dyimwlolwr', 'hnadvfynig', 'uglodmspky', 'jfeivwrhke', 'khqojhuxdh', 'wgnlbiwtib', 'hztyuoofxc', 'gxregeueir', 'gcylvrlduz', 'xqoqegzqwi', 'pxpxrfylhh', 'xxvsjexlov', 'rzfvcuafyr', 'bunhvhlxet', 'vjmsigxdwo', 'nfbrlvucau', 'jlwnijtjlb', 'hqrkvsokbc', 'ugjbnmwcnu', 'jgecsmaoks', 'wuporrzfiy', 'nhithzaewb', 'nwepfbiqiu', 'wkyqeswrpu', 'jjpuqgotsh', 'xscszctwpl', 'jzrnuohfem', 'rocemxzazv', 'ziubqfsuro', 'enzkxyjyfd', 'dbxjdvvpby', 'jkcryzzuyx', 'crdjqnwahm', 'hcayfribpj', 'bfpiaoaibk', 'qgfazyghiq', 'ugkobtfepu', 'qgidhgonbp', 'olrgcryhas', 'wknkwivoqj', 'kpmfytimdu', 'iujtlhlpcv', 'xcqbtalsnw']\n"
          ]
        }
      ]
    },
    {
      "cell_type": "markdown",
      "source": [
        "Die erzeugte Pseudonym-Tabelle wird zur Überprüfung ausgegeben."
      ],
      "metadata": {
        "id": "dVa3CrkYKmpx"
      }
    },
    {
      "cell_type": "code",
      "source": [
        "pseudonym_tabelle"
      ],
      "metadata": {
        "colab": {
          "base_uri": "https://localhost:8080/",
          "height": 424
        },
        "id": "LoGOok5I0Nyk",
        "outputId": "60d9ec19-97a7-4918-a375-1df09e75c04c"
      },
      "execution_count": 39,
      "outputs": [
        {
          "output_type": "execute_result",
          "data": {
            "text/plain": [
              "                               patients_ID   pseudonym\n",
              "0     2f114e21-8b95-e9eb-2e9e-4b950b059cfa  bkevxtzzcr\n",
              "1     2812f4fc-6aba-0033-728b-7e569bb8adcc  feibpgieor\n",
              "2     9b1a203a-6368-49a5-0c79-45c32729bc17  ruqlreyjjm\n",
              "3     52a250a9-24e4-ec9b-91d6-c38cf1b10fc0  jouvuzuflx\n",
              "4     ad5525c0-fdab-94dc-018f-d7209c72bdef  fcwqnfrlbt\n",
              "...                                    ...         ...\n",
              "1045  edab2899-dac4-a19d-59e2-a9bea7b95cab  olrgcryhas\n",
              "1046  d1065043-2a5f-2d0e-1dd0-cb7f31e6d340  wknkwivoqj\n",
              "1047  4c523ab1-3255-911a-7eef-3bc3e48b7b05  kpmfytimdu\n",
              "1048  8d49cb05-b1c3-b8fe-dc75-e43ad861f074  iujtlhlpcv\n",
              "1049  fce5ed5c-e218-4839-a0c5-6ef906e5ae73  xcqbtalsnw\n",
              "\n",
              "[1050 rows x 2 columns]"
            ],
            "text/html": [
              "\n",
              "  <div id=\"df-c32762fd-f386-4e5a-8479-5764955d894d\">\n",
              "    <div class=\"colab-df-container\">\n",
              "      <div>\n",
              "<style scoped>\n",
              "    .dataframe tbody tr th:only-of-type {\n",
              "        vertical-align: middle;\n",
              "    }\n",
              "\n",
              "    .dataframe tbody tr th {\n",
              "        vertical-align: top;\n",
              "    }\n",
              "\n",
              "    .dataframe thead th {\n",
              "        text-align: right;\n",
              "    }\n",
              "</style>\n",
              "<table border=\"1\" class=\"dataframe\">\n",
              "  <thead>\n",
              "    <tr style=\"text-align: right;\">\n",
              "      <th></th>\n",
              "      <th>patients_ID</th>\n",
              "      <th>pseudonym</th>\n",
              "    </tr>\n",
              "  </thead>\n",
              "  <tbody>\n",
              "    <tr>\n",
              "      <th>0</th>\n",
              "      <td>2f114e21-8b95-e9eb-2e9e-4b950b059cfa</td>\n",
              "      <td>bkevxtzzcr</td>\n",
              "    </tr>\n",
              "    <tr>\n",
              "      <th>1</th>\n",
              "      <td>2812f4fc-6aba-0033-728b-7e569bb8adcc</td>\n",
              "      <td>feibpgieor</td>\n",
              "    </tr>\n",
              "    <tr>\n",
              "      <th>2</th>\n",
              "      <td>9b1a203a-6368-49a5-0c79-45c32729bc17</td>\n",
              "      <td>ruqlreyjjm</td>\n",
              "    </tr>\n",
              "    <tr>\n",
              "      <th>3</th>\n",
              "      <td>52a250a9-24e4-ec9b-91d6-c38cf1b10fc0</td>\n",
              "      <td>jouvuzuflx</td>\n",
              "    </tr>\n",
              "    <tr>\n",
              "      <th>4</th>\n",
              "      <td>ad5525c0-fdab-94dc-018f-d7209c72bdef</td>\n",
              "      <td>fcwqnfrlbt</td>\n",
              "    </tr>\n",
              "    <tr>\n",
              "      <th>...</th>\n",
              "      <td>...</td>\n",
              "      <td>...</td>\n",
              "    </tr>\n",
              "    <tr>\n",
              "      <th>1045</th>\n",
              "      <td>edab2899-dac4-a19d-59e2-a9bea7b95cab</td>\n",
              "      <td>olrgcryhas</td>\n",
              "    </tr>\n",
              "    <tr>\n",
              "      <th>1046</th>\n",
              "      <td>d1065043-2a5f-2d0e-1dd0-cb7f31e6d340</td>\n",
              "      <td>wknkwivoqj</td>\n",
              "    </tr>\n",
              "    <tr>\n",
              "      <th>1047</th>\n",
              "      <td>4c523ab1-3255-911a-7eef-3bc3e48b7b05</td>\n",
              "      <td>kpmfytimdu</td>\n",
              "    </tr>\n",
              "    <tr>\n",
              "      <th>1048</th>\n",
              "      <td>8d49cb05-b1c3-b8fe-dc75-e43ad861f074</td>\n",
              "      <td>iujtlhlpcv</td>\n",
              "    </tr>\n",
              "    <tr>\n",
              "      <th>1049</th>\n",
              "      <td>fce5ed5c-e218-4839-a0c5-6ef906e5ae73</td>\n",
              "      <td>xcqbtalsnw</td>\n",
              "    </tr>\n",
              "  </tbody>\n",
              "</table>\n",
              "<p>1050 rows × 2 columns</p>\n",
              "</div>\n",
              "      <button class=\"colab-df-convert\" onclick=\"convertToInteractive('df-c32762fd-f386-4e5a-8479-5764955d894d')\"\n",
              "              title=\"Convert this dataframe to an interactive table.\"\n",
              "              style=\"display:none;\">\n",
              "        \n",
              "  <svg xmlns=\"http://www.w3.org/2000/svg\" height=\"24px\"viewBox=\"0 0 24 24\"\n",
              "       width=\"24px\">\n",
              "    <path d=\"M0 0h24v24H0V0z\" fill=\"none\"/>\n",
              "    <path d=\"M18.56 5.44l.94 2.06.94-2.06 2.06-.94-2.06-.94-.94-2.06-.94 2.06-2.06.94zm-11 1L8.5 8.5l.94-2.06 2.06-.94-2.06-.94L8.5 2.5l-.94 2.06-2.06.94zm10 10l.94 2.06.94-2.06 2.06-.94-2.06-.94-.94-2.06-.94 2.06-2.06.94z\"/><path d=\"M17.41 7.96l-1.37-1.37c-.4-.4-.92-.59-1.43-.59-.52 0-1.04.2-1.43.59L10.3 9.45l-7.72 7.72c-.78.78-.78 2.05 0 2.83L4 21.41c.39.39.9.59 1.41.59.51 0 1.02-.2 1.41-.59l7.78-7.78 2.81-2.81c.8-.78.8-2.07 0-2.86zM5.41 20L4 18.59l7.72-7.72 1.47 1.35L5.41 20z\"/>\n",
              "  </svg>\n",
              "      </button>\n",
              "      \n",
              "  <style>\n",
              "    .colab-df-container {\n",
              "      display:flex;\n",
              "      flex-wrap:wrap;\n",
              "      gap: 12px;\n",
              "    }\n",
              "\n",
              "    .colab-df-convert {\n",
              "      background-color: #E8F0FE;\n",
              "      border: none;\n",
              "      border-radius: 50%;\n",
              "      cursor: pointer;\n",
              "      display: none;\n",
              "      fill: #1967D2;\n",
              "      height: 32px;\n",
              "      padding: 0 0 0 0;\n",
              "      width: 32px;\n",
              "    }\n",
              "\n",
              "    .colab-df-convert:hover {\n",
              "      background-color: #E2EBFA;\n",
              "      box-shadow: 0px 1px 2px rgba(60, 64, 67, 0.3), 0px 1px 3px 1px rgba(60, 64, 67, 0.15);\n",
              "      fill: #174EA6;\n",
              "    }\n",
              "\n",
              "    [theme=dark] .colab-df-convert {\n",
              "      background-color: #3B4455;\n",
              "      fill: #D2E3FC;\n",
              "    }\n",
              "\n",
              "    [theme=dark] .colab-df-convert:hover {\n",
              "      background-color: #434B5C;\n",
              "      box-shadow: 0px 1px 3px 1px rgba(0, 0, 0, 0.15);\n",
              "      filter: drop-shadow(0px 1px 2px rgba(0, 0, 0, 0.3));\n",
              "      fill: #FFFFFF;\n",
              "    }\n",
              "  </style>\n",
              "\n",
              "      <script>\n",
              "        const buttonEl =\n",
              "          document.querySelector('#df-c32762fd-f386-4e5a-8479-5764955d894d button.colab-df-convert');\n",
              "        buttonEl.style.display =\n",
              "          google.colab.kernel.accessAllowed ? 'block' : 'none';\n",
              "\n",
              "        async function convertToInteractive(key) {\n",
              "          const element = document.querySelector('#df-c32762fd-f386-4e5a-8479-5764955d894d');\n",
              "          const dataTable =\n",
              "            await google.colab.kernel.invokeFunction('convertToInteractive',\n",
              "                                                     [key], {});\n",
              "          if (!dataTable) return;\n",
              "\n",
              "          const docLinkHtml = 'Like what you see? Visit the ' +\n",
              "            '<a target=\"_blank\" href=https://colab.research.google.com/notebooks/data_table.ipynb>data table notebook</a>'\n",
              "            + ' to learn more about interactive tables.';\n",
              "          element.innerHTML = '';\n",
              "          dataTable['output_type'] = 'display_data';\n",
              "          await google.colab.output.renderOutput(dataTable, element);\n",
              "          const docLink = document.createElement('div');\n",
              "          docLink.innerHTML = docLinkHtml;\n",
              "          element.appendChild(docLink);\n",
              "        }\n",
              "      </script>\n",
              "    </div>\n",
              "  </div>\n",
              "  "
            ]
          },
          "metadata": {},
          "execution_count": 39
        }
      ]
    },
    {
      "cell_type": "markdown",
      "source": [
        "### Einfügen der Pseudonyme für respektive Patienten-IDs in Faktentabelle"
      ],
      "metadata": {
        "id": "FFmtZOszLNd-"
      }
    },
    {
      "cell_type": "code",
      "source": [
        "DF_of_Facts_Table_pseudonym=DF_of_Facts_Table.merge(pseudonym_tabelle, on= \"patients_ID\")\n",
        "DF_of_Facts_Table_pseudonym.head(5)"
      ],
      "metadata": {
        "colab": {
          "base_uri": "https://localhost:8080/",
          "height": 206
        },
        "id": "a3t33xEV5_UG",
        "outputId": "11cb0edc-8136-4cf2-ac11-47db280aefc7"
      },
      "execution_count": 40,
      "outputs": [
        {
          "output_type": "execute_result",
          "data": {
            "text/plain": [
              "                            patients_ID  conditions_code  procedures_code  \\\n",
              "0  2f114e21-8b95-e9eb-2e9e-4b950b059cfa       36955009.0      261352009.0   \n",
              "1  2f114e21-8b95-e9eb-2e9e-4b950b059cfa      386661006.0      261352009.0   \n",
              "2  2f114e21-8b95-e9eb-2e9e-4b950b059cfa      840539006.0      261352009.0   \n",
              "3  2f114e21-8b95-e9eb-2e9e-4b950b059cfa      840544004.0      261352009.0   \n",
              "4  2812f4fc-6aba-0033-728b-7e569bb8adcc       36955009.0      180325003.0   \n",
              "\n",
              "   devices_code  medications_code MED_CLASSIFICATION COV_GRADING   pseudonym  \n",
              "0           0.0               0.0                  0           1  bkevxtzzcr  \n",
              "1           0.0               0.0                  0           1  bkevxtzzcr  \n",
              "2           0.0               0.0                  0           1  bkevxtzzcr  \n",
              "3           0.0               0.0                  0           1  bkevxtzzcr  \n",
              "4           0.0          197604.0                  0           5  feibpgieor  "
            ],
            "text/html": [
              "\n",
              "  <div id=\"df-ec6aa95f-29c5-418e-84ce-4bfbb86180f5\">\n",
              "    <div class=\"colab-df-container\">\n",
              "      <div>\n",
              "<style scoped>\n",
              "    .dataframe tbody tr th:only-of-type {\n",
              "        vertical-align: middle;\n",
              "    }\n",
              "\n",
              "    .dataframe tbody tr th {\n",
              "        vertical-align: top;\n",
              "    }\n",
              "\n",
              "    .dataframe thead th {\n",
              "        text-align: right;\n",
              "    }\n",
              "</style>\n",
              "<table border=\"1\" class=\"dataframe\">\n",
              "  <thead>\n",
              "    <tr style=\"text-align: right;\">\n",
              "      <th></th>\n",
              "      <th>patients_ID</th>\n",
              "      <th>conditions_code</th>\n",
              "      <th>procedures_code</th>\n",
              "      <th>devices_code</th>\n",
              "      <th>medications_code</th>\n",
              "      <th>MED_CLASSIFICATION</th>\n",
              "      <th>COV_GRADING</th>\n",
              "      <th>pseudonym</th>\n",
              "    </tr>\n",
              "  </thead>\n",
              "  <tbody>\n",
              "    <tr>\n",
              "      <th>0</th>\n",
              "      <td>2f114e21-8b95-e9eb-2e9e-4b950b059cfa</td>\n",
              "      <td>36955009.0</td>\n",
              "      <td>261352009.0</td>\n",
              "      <td>0.0</td>\n",
              "      <td>0.0</td>\n",
              "      <td>0</td>\n",
              "      <td>1</td>\n",
              "      <td>bkevxtzzcr</td>\n",
              "    </tr>\n",
              "    <tr>\n",
              "      <th>1</th>\n",
              "      <td>2f114e21-8b95-e9eb-2e9e-4b950b059cfa</td>\n",
              "      <td>386661006.0</td>\n",
              "      <td>261352009.0</td>\n",
              "      <td>0.0</td>\n",
              "      <td>0.0</td>\n",
              "      <td>0</td>\n",
              "      <td>1</td>\n",
              "      <td>bkevxtzzcr</td>\n",
              "    </tr>\n",
              "    <tr>\n",
              "      <th>2</th>\n",
              "      <td>2f114e21-8b95-e9eb-2e9e-4b950b059cfa</td>\n",
              "      <td>840539006.0</td>\n",
              "      <td>261352009.0</td>\n",
              "      <td>0.0</td>\n",
              "      <td>0.0</td>\n",
              "      <td>0</td>\n",
              "      <td>1</td>\n",
              "      <td>bkevxtzzcr</td>\n",
              "    </tr>\n",
              "    <tr>\n",
              "      <th>3</th>\n",
              "      <td>2f114e21-8b95-e9eb-2e9e-4b950b059cfa</td>\n",
              "      <td>840544004.0</td>\n",
              "      <td>261352009.0</td>\n",
              "      <td>0.0</td>\n",
              "      <td>0.0</td>\n",
              "      <td>0</td>\n",
              "      <td>1</td>\n",
              "      <td>bkevxtzzcr</td>\n",
              "    </tr>\n",
              "    <tr>\n",
              "      <th>4</th>\n",
              "      <td>2812f4fc-6aba-0033-728b-7e569bb8adcc</td>\n",
              "      <td>36955009.0</td>\n",
              "      <td>180325003.0</td>\n",
              "      <td>0.0</td>\n",
              "      <td>197604.0</td>\n",
              "      <td>0</td>\n",
              "      <td>5</td>\n",
              "      <td>feibpgieor</td>\n",
              "    </tr>\n",
              "  </tbody>\n",
              "</table>\n",
              "</div>\n",
              "      <button class=\"colab-df-convert\" onclick=\"convertToInteractive('df-ec6aa95f-29c5-418e-84ce-4bfbb86180f5')\"\n",
              "              title=\"Convert this dataframe to an interactive table.\"\n",
              "              style=\"display:none;\">\n",
              "        \n",
              "  <svg xmlns=\"http://www.w3.org/2000/svg\" height=\"24px\"viewBox=\"0 0 24 24\"\n",
              "       width=\"24px\">\n",
              "    <path d=\"M0 0h24v24H0V0z\" fill=\"none\"/>\n",
              "    <path d=\"M18.56 5.44l.94 2.06.94-2.06 2.06-.94-2.06-.94-.94-2.06-.94 2.06-2.06.94zm-11 1L8.5 8.5l.94-2.06 2.06-.94-2.06-.94L8.5 2.5l-.94 2.06-2.06.94zm10 10l.94 2.06.94-2.06 2.06-.94-2.06-.94-.94-2.06-.94 2.06-2.06.94z\"/><path d=\"M17.41 7.96l-1.37-1.37c-.4-.4-.92-.59-1.43-.59-.52 0-1.04.2-1.43.59L10.3 9.45l-7.72 7.72c-.78.78-.78 2.05 0 2.83L4 21.41c.39.39.9.59 1.41.59.51 0 1.02-.2 1.41-.59l7.78-7.78 2.81-2.81c.8-.78.8-2.07 0-2.86zM5.41 20L4 18.59l7.72-7.72 1.47 1.35L5.41 20z\"/>\n",
              "  </svg>\n",
              "      </button>\n",
              "      \n",
              "  <style>\n",
              "    .colab-df-container {\n",
              "      display:flex;\n",
              "      flex-wrap:wrap;\n",
              "      gap: 12px;\n",
              "    }\n",
              "\n",
              "    .colab-df-convert {\n",
              "      background-color: #E8F0FE;\n",
              "      border: none;\n",
              "      border-radius: 50%;\n",
              "      cursor: pointer;\n",
              "      display: none;\n",
              "      fill: #1967D2;\n",
              "      height: 32px;\n",
              "      padding: 0 0 0 0;\n",
              "      width: 32px;\n",
              "    }\n",
              "\n",
              "    .colab-df-convert:hover {\n",
              "      background-color: #E2EBFA;\n",
              "      box-shadow: 0px 1px 2px rgba(60, 64, 67, 0.3), 0px 1px 3px 1px rgba(60, 64, 67, 0.15);\n",
              "      fill: #174EA6;\n",
              "    }\n",
              "\n",
              "    [theme=dark] .colab-df-convert {\n",
              "      background-color: #3B4455;\n",
              "      fill: #D2E3FC;\n",
              "    }\n",
              "\n",
              "    [theme=dark] .colab-df-convert:hover {\n",
              "      background-color: #434B5C;\n",
              "      box-shadow: 0px 1px 3px 1px rgba(0, 0, 0, 0.15);\n",
              "      filter: drop-shadow(0px 1px 2px rgba(0, 0, 0, 0.3));\n",
              "      fill: #FFFFFF;\n",
              "    }\n",
              "  </style>\n",
              "\n",
              "      <script>\n",
              "        const buttonEl =\n",
              "          document.querySelector('#df-ec6aa95f-29c5-418e-84ce-4bfbb86180f5 button.colab-df-convert');\n",
              "        buttonEl.style.display =\n",
              "          google.colab.kernel.accessAllowed ? 'block' : 'none';\n",
              "\n",
              "        async function convertToInteractive(key) {\n",
              "          const element = document.querySelector('#df-ec6aa95f-29c5-418e-84ce-4bfbb86180f5');\n",
              "          const dataTable =\n",
              "            await google.colab.kernel.invokeFunction('convertToInteractive',\n",
              "                                                     [key], {});\n",
              "          if (!dataTable) return;\n",
              "\n",
              "          const docLinkHtml = 'Like what you see? Visit the ' +\n",
              "            '<a target=\"_blank\" href=https://colab.research.google.com/notebooks/data_table.ipynb>data table notebook</a>'\n",
              "            + ' to learn more about interactive tables.';\n",
              "          element.innerHTML = '';\n",
              "          dataTable['output_type'] = 'display_data';\n",
              "          await google.colab.output.renderOutput(dataTable, element);\n",
              "          const docLink = document.createElement('div');\n",
              "          docLink.innerHTML = docLinkHtml;\n",
              "          element.appendChild(docLink);\n",
              "        }\n",
              "      </script>\n",
              "    </div>\n",
              "  </div>\n",
              "  "
            ]
          },
          "metadata": {},
          "execution_count": 40
        }
      ]
    },
    {
      "cell_type": "markdown",
      "source": [
        "### Patienten-ID in der Dimensionstabelle \"d_patients\" mit Pseudonym versehen"
      ],
      "metadata": {
        "id": "cVYu6LMHsim3"
      }
    },
    {
      "cell_type": "code",
      "source": [
        "from sqlalchemy import false\n",
        "conn = sqlite3.connect(DB_DWH_PATH)\n",
        "\n",
        "cursor = conn.cursor()\n",
        "cursor.execute(\"SELECT * FROM d_patients\")\n",
        "DF_of_d_patients = DataFrame(cursor.fetchall())\n",
        "DF_of_d_patients.columns = ['patients_ID', 'PATIENTS_BIRTHDATE', 'PATIENTS_DEATHDATE', 'PATIENTS_GENDER']\n",
        "\n",
        "DF_of_d_patients_with_pseudonym = DF_of_d_patients.merge(pseudonym_tabelle, on= \"patients_ID\")\n",
        "\n",
        "DF_of_d_patients_for_DWH = sqldf(\"SELECT pseudonym AS PATIENTS_ID, PATIENTS_BIRTHDATE, PATIENTS_DEATHDATE,PATIENTS_GENDER FROM DF_of_d_patients_with_pseudonym\")\n",
        "DF_of_d_patients_for_DWH\n",
        "\n",
        "cursor.execute(\"DELETE FROM d_patients\")\n",
        "\n",
        "conn.commit()\n",
        "conn.close()"
      ],
      "metadata": {
        "id": "LPFWc82-siBf"
      },
      "execution_count": 41,
      "outputs": []
    },
    {
      "cell_type": "markdown",
      "source": [
        "### Einlesen und Sichern der benötigten Daten für die ANTICOVIS Faktentabelle und der Dimensionstabelle \"d_patients\""
      ],
      "metadata": {
        "id": "bCtdiZkX6iFO"
      }
    },
    {
      "cell_type": "code",
      "source": [
        "DF_of_Facts_Table_ohne_patientenid = sqldf(\"\"\"SELECT pseudonym AS patients_ID, conditions_code,procedures_code, devices_code, MED_CLASSIFICATION, COV_GRADING FROM DF_of_Facts_Table_pseudonym\"\"\")\n",
        "#DF_of_Facts_Table_ohne_patientenid\n",
        "\n",
        "conn = sqlite3.connect(DB_DWH_PATH)\n",
        "\n",
        "DF_of_Facts_Table_ohne_patientenid.to_sql('F_ANTICOVIS',conn, if_exists = 'replace', index = False)\n",
        "DF_of_d_patients_for_DWH.to_sql('d_patients',conn, if_exists = 'replace', index = False)\n",
        "conn.commit()\n",
        "conn.close()"
      ],
      "metadata": {
        "id": "rKAw5Rbr4xse"
      },
      "execution_count": 42,
      "outputs": []
    },
    {
      "cell_type": "markdown",
      "source": [
        "### **Überprüfen der Existenz gewünschter DWH-Tabellen**"
      ],
      "metadata": {
        "id": "QX-KXn2J5Mde"
      }
    },
    {
      "cell_type": "code",
      "source": [
        "conn = sqlite3.connect(DB_DWH_PATH)\n",
        "cursor = conn.cursor()\n",
        "cursor.execute(\"SELECT name FROM sqlite_master WHERE type='table';\")\n",
        "#cursor.execute(\"SELECT * FROM d_patients\")\n",
        "print(cursor.fetchall())"
      ],
      "metadata": {
        "colab": {
          "base_uri": "https://localhost:8080/"
        },
        "id": "PFFb3nDc48WA",
        "outputId": "12164d02-c563-45ba-f3b4-11d9bb511a81"
      },
      "execution_count": 43,
      "outputs": [
        {
          "output_type": "stream",
          "name": "stdout",
          "text": [
            "[('d_conditions',), ('d_devices',), ('d_medications',), ('d_procedures',), ('F_ANTICOVIS',), ('d_patients',)]\n"
          ]
        }
      ]
    }
  ]
}
