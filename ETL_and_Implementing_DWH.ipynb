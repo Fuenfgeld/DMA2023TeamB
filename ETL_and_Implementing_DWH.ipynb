{
  "nbformat": 4,
  "nbformat_minor": 0,
  "metadata": {
    "colab": {
      "provenance": []
    },
    "kernelspec": {
      "name": "python3",
      "display_name": "Python 3"
    },
    "language_info": {
      "name": "python"
    }
  },
  "cells": [
    {
      "cell_type": "markdown",
      "source": [
        "# Erstellung des ANTICOVIS-Data Warehouses\n",
        "---\n",
        "\n",
        "##1) Einleitung\n",
        "---\n",
        "Mit diesem Skript wird ein Datenwarehouse(DWH) erstellt, um ein effizientes und zielgerichtetes Beantworten der Forschungsfragestellung (sog. \"OLAP\"-Datenbank) zu ermöglichen. Zudem gewärleistet das DWH eine verbesserte Datenqualität sowie  eine zuverlässige Datenkonsistenz und Sicherheit.\n",
        "\n",
        "Das hier erzeugte DWH wird nach einem Star-Schema konstruiert. Zunächst werden alle benötigten DWH Tabellen in Form von Dimensions- und Faktentabellen erzeugt. Dann werden diese Tabellen mit Daten aus den Stagingtabellen der ANTICOVIS-Datenbank nach einem ETL Prozess inklusive Pseudonymisierung der Daten befüllt. \n",
        "\n",
        "Quelldatenbank: auf GoogleDrive von ANTICOVIS, erstellt mit \"source_covid19-ANTICOVIS_db.ipynb\"\n"
      ],
      "metadata": {
        "id": "Pu_0HR4cXoUb"
      }
    },
    {
      "cell_type": "markdown",
      "source": [
        "##2) Benötigte Libraries laden, Versionskontrolle\n",
        "---"
      ],
      "metadata": {
        "id": "dc1e61eU6HZT"
      }
    },
    {
      "cell_type": "code",
      "execution_count": 1,
      "metadata": {
        "colab": {
          "base_uri": "https://localhost:8080/"
        },
        "id": "id2DaZNSXeby",
        "outputId": "72534590-a132-40d5-ec89-f8de5e7fcb3a"
      },
      "outputs": [
        {
          "output_type": "stream",
          "name": "stdout",
          "text": [
            "Looking in indexes: https://pypi.org/simple, https://us-python.pkg.dev/colab-wheels/public/simple/\n",
            "Collecting pandasql\n",
            "  Downloading pandasql-0.7.3.tar.gz (26 kB)\n",
            "  Preparing metadata (setup.py) ... \u001b[?25l\u001b[?25hdone\n",
            "Requirement already satisfied: numpy in /usr/local/lib/python3.8/dist-packages (from pandasql) (1.21.6)\n",
            "Requirement already satisfied: pandas in /usr/local/lib/python3.8/dist-packages (from pandasql) (1.3.5)\n",
            "Requirement already satisfied: sqlalchemy in /usr/local/lib/python3.8/dist-packages (from pandasql) (1.4.46)\n",
            "Requirement already satisfied: python-dateutil>=2.7.3 in /usr/local/lib/python3.8/dist-packages (from pandas->pandasql) (2.8.2)\n",
            "Requirement already satisfied: pytz>=2017.3 in /usr/local/lib/python3.8/dist-packages (from pandas->pandasql) (2022.7.1)\n",
            "Requirement already satisfied: greenlet!=0.4.17 in /usr/local/lib/python3.8/dist-packages (from sqlalchemy->pandasql) (2.0.2)\n",
            "Requirement already satisfied: six>=1.5 in /usr/local/lib/python3.8/dist-packages (from python-dateutil>=2.7.3->pandas->pandasql) (1.15.0)\n",
            "Building wheels for collected packages: pandasql\n",
            "  Building wheel for pandasql (setup.py) ... \u001b[?25l\u001b[?25hdone\n",
            "  Created wheel for pandasql: filename=pandasql-0.7.3-py3-none-any.whl size=26787 sha256=a0f5acc72ad47b6df7eae7cef5cd2dc843a7490df05470bef320ddb2b1c08bc9\n",
            "  Stored in directory: /root/.cache/pip/wheels/ed/8f/46/a383923333728744f01ba24adbd8e364f2cb9470a8b8e5b9ff\n",
            "Successfully built pandasql\n",
            "Installing collected packages: pandasql\n",
            "Successfully installed pandasql-0.7.3\n"
          ]
        }
      ],
      "source": [
        "import sqlite3\n",
        "from sqlite3 import Error\n",
        "import pandas\n",
        "from pandas import DataFrame\n",
        "import numpy as np\n",
        "!pip install pandasql\n",
        "from pandasql import sqldf\n",
        "import random\n",
        "import string"
      ]
    },
    {
      "cell_type": "markdown",
      "source": [
        "### Angaben zu Systemumgebung und den verwendeten Paketversionen abfragen"
      ],
      "metadata": {
        "id": "0jdLDOnqmSWZ"
      }
    },
    {
      "cell_type": "code",
      "source": [
        "# Python-Version\n",
        "print(\"Python-Version:\")\n",
        "!python --version\n",
        "\n",
        "# sqlite3-Version\n",
        "print(\"\\n\" + \"sqlite3-Version:\")\n",
        "sqlite3.sqlite_version\n",
        "\n",
        "# Pandas-Version\n",
        "print(\"\\n\" + \"Pandas-Version:\")\n",
        "print(pandas.__version__)\n",
        "\n",
        "# numpy-Version\n",
        "print(\"\\n\" + \"numpy-Version:\")\n",
        "print(np. __version__)"
      ],
      "metadata": {
        "colab": {
          "base_uri": "https://localhost:8080/"
        },
        "id": "nldLm2o6mbTe",
        "outputId": "a0c47560-f661-4c0a-830b-63f6e5ea7c59"
      },
      "execution_count": 2,
      "outputs": [
        {
          "output_type": "stream",
          "name": "stdout",
          "text": [
            "Python-Version:\n",
            "Python 3.8.10\n",
            "\n",
            "sqlite3-Version:\n",
            "\n",
            "Pandas-Version:\n",
            "1.3.5\n",
            "\n",
            "numpy-Version:\n",
            "1.21.6\n"
          ]
        }
      ]
    },
    {
      "cell_type": "markdown",
      "source": [
        "##3) Mounten und Pfadangaben\n",
        "---\n",
        "Mounten des Google Drives.\n",
        "\n",
        "Festlegen des Pfads zur ANTICOVIS Quelldatenbank.\n",
        "\n",
        "Festlegen des Pfads zum Ablageort des in diesem Skript erzeugten DWH."
      ],
      "metadata": {
        "id": "bftPkzPUmnK_"
      }
    },
    {
      "cell_type": "code",
      "source": [
        "from google.colab import drive\n",
        "drive.mount('/content/drive')\n",
        "\n",
        "# path of Anticovis quelldatenbank\n",
        "DB_SOURCE_PATH = f\"/content/drive/Shareddrives/DMA_2023_D/DMA2023TeamB/source_dbs/Source_covid19_Staging.db\"\n",
        "\n",
        "# path of datawarehouse\n",
        "DB_DWH_PATH = f\"/content/drive/Shareddrives/DMA_2023_D/DMA2023TeamB/source_dbs/DWH_covid19.db\""
      ],
      "metadata": {
        "id": "MIdSHhMfcwMA",
        "colab": {
          "base_uri": "https://localhost:8080/"
        },
        "outputId": "34015784-560a-464f-9870-26cd9ae256c0"
      },
      "execution_count": 3,
      "outputs": [
        {
          "output_type": "stream",
          "name": "stdout",
          "text": [
            "Mounted at /content/drive\n"
          ]
        }
      ]
    },
    {
      "cell_type": "markdown",
      "source": [
        "##4) Star-Schema des ANTICOVIS-DWH\n",
        "\n",
        "---\n"
      ],
      "metadata": {
        "id": "-3J5Ijh7ncwD"
      }
    },
    {
      "cell_type": "markdown",
      "source": [
        "![Star-Schema ANTICOVIS](https://github.com/Fuenfgeld/DMA2023TeamB/blob/main/Darstellungen/StarSchema_ANTICOVIS_v2.jpg?raw=true)"
      ],
      "metadata": {
        "id": "CdCefbtMETlE"
      }
    },
    {
      "cell_type": "code",
      "source": [
        "#Funktionen für Erstellung der Datenbank.\n",
        "#Klasse wird initiiert (__init__)\n",
        "#Cursor auf Datenbank wird erstellt\n",
        "#Commit der Änderungen und schließen der Verbindung\n",
        "class DB(object):\n",
        "  def __init__(self, db_file):\n",
        "    self.conn = sqlite3.connect(db_file)\n",
        "    self.cur = self.conn.cursor()\n",
        "    self.__init_db()\n",
        "  \n",
        "  def __del__(self):\n",
        "      self.conn.commit()\n",
        "      self.conn.close()\n",
        "\n",
        "#Initialisierung der Datenbank durch __init__-Funktion\n",
        "  def __init_db(self):\n",
        "\n",
        "# SQL-Anweisungen zur Erzeugung der Tabellen in der Zieldatenbank (DWH)\n",
        "# Gemäß Star-Schema gilt Präfix \"F\" für Faktentabelle und \"D\" für Dimensionstabelle.\n",
        "\n",
        "#  sql query to create d_conditions table\n",
        "    create_d_conditions = \"\"\"CREATE TABLE IF NOT EXISTS d_conditions (\n",
        "                           CONDITIONS_CODE INTEGER PRIMARY KEY,\n",
        "                           CONDITIONS_DESCRIPTION VARCHAR\n",
        "                       );\"\"\"\n",
        "\n",
        "#  sql query to create d_devices table\n",
        "    create_d_devices = \"\"\"CREATE TABLE IF NOT EXISTS d_devices (\n",
        "                            DEVICES_CODE INTEGER PRIMARY KEY,\n",
        "                            DEVICES_DESCRIPTION VARCHAR\n",
        "                           );\"\"\"\n",
        "\n",
        "#  sql query to create d_medications table\n",
        "    create_d_medications = \"\"\"CREATE TABLE IF NOT EXISTS d_medications (\n",
        "                            MEDICATIONS_CODE INTEGER PRIMARY KEY,\n",
        "                            MEDICATIONS_DESCRIPTION VARCHAR\n",
        "                           );\"\"\"\n",
        "\n",
        "#  sql query to create d_procedures table\n",
        "    create_d_procedures = \"\"\"CREATE TABLE IF NOT EXISTS d_procedures (\n",
        "                            PROCEDURES_CODE INTEGER PRIMARY KEY,\n",
        "                            PROCEDURES_DESCRIPTION VARCHAR\n",
        "                           );\"\"\"\n",
        "\n",
        "#  sql query to create d_patients table\n",
        "    create_d_patients = \"\"\"CREATE TABLE IF NOT EXISTS d_patients (\n",
        "                            PATIENTS_ID VARCHAR PRIMARY KEY,\n",
        "                            PATIENTS_BIRTHDATE DATE,\n",
        "                            PATIENTS_DEATHDATE DATE,\n",
        "                            PATIENTS_GENDER CHAR\n",
        "                           );\"\"\" \n",
        "\n",
        "# sql query to create F_ANTICOVIS table\n",
        "    create_F_ANTICOVIS = \"\"\"CREATE TABLE IF NOT EXISTS F_ANTICOVIS (\n",
        "                           PATIENTS_ID VARCHAR,\n",
        "                           CONDITIONS_CODE INTEGER,\n",
        "                           PROCEDURES_CODE INTEGER,\n",
        "                           DEVICES_CODE INTEGER,\n",
        "                           MEDICATIONS_CODE INTEGER,\n",
        "                           MED_CLASSIFICATION INTEGER DEFAULT '0', \n",
        "                           COV_GRADING INTEGER DEFAULT '0',\n",
        "                           FOREIGN KEY (PATIENTS_ID)\n",
        "                              REFERENCES d_patients (PATIENTS_ID),\n",
        "                           FOREIGN KEY (CONDITIONS_CODE)\n",
        "                              REFERENCES d_conditions (CONDITIONS_CODE),\n",
        "                           FOREIGN KEY (PROCEDURES_CODE)\n",
        "                              REFERENCES d_procedures (PROCEDURES_CODE),\n",
        "                           FOREIGN KEY (DEVICES_CODE)\n",
        "                              REFERENCES d_devices(DEVICES_CODE),\n",
        "                           FOREIGN KEY (MEDICATIONS_CODE)\n",
        "                              REFERENCES d_medications (MEDICATIONS_CODE)\n",
        "                       );\"\"\"\n",
        "    create_tables =  [create_d_conditions,# conditions dimension\n",
        "                      create_d_devices,# devices dimension\n",
        "                      create_d_medications,# medications dimension\n",
        "                      create_d_procedures, # procedures dimension\n",
        "                      create_d_patients, #patients dimension\n",
        "                      create_F_ANTICOVIS #Factstable\n",
        "                      ]\n",
        "\n",
        "    if self.conn is not None:\n",
        "      for query in create_tables:\n",
        "          self.cur.execute(query)\n",
        "    else:\n",
        "      print('Connection to database failed')"
      ],
      "metadata": {
        "id": "Zz1CPX1Rd0G3"
      },
      "execution_count": 4,
      "outputs": []
    },
    {
      "cell_type": "markdown",
      "source": [
        "##5) Vorbereitung ETL-Prozess, Erzeugen des DWH\n",
        "---\n",
        "###  Definition der für den ETL-Prozess benötigten Funktionen"
      ],
      "metadata": {
        "id": "03HhV7GvlNrm"
      }
    },
    {
      "cell_type": "code",
      "source": [
        "# exporting queries\n",
        "class SqlQuery:\n",
        "  def __init__(self, source_table, column_names, sink_table):\n",
        "    self.source_table = source_table\n",
        "    self.column_numbers = len(column_names)\n",
        "    self.column_names = ', '.join(column_names)\n",
        "    self.sink_table = sink_table\n",
        "\n",
        "  def extract_query(self):\n",
        "    return 'SELECT ' + self.column_names + ' FROM ' + self.source_table \n",
        "\n",
        "  def load_query(self):\n",
        "    values_str = '?,' * self.column_numbers\n",
        "    values_str = values_str[:-1]\n",
        "    return 'INSERT OR REPLACE INTO ' + self.sink_table + ' VALUES (' + values_str + ')'\n",
        "\n",
        "    # return 'INSERT INTO ' + self.sink_table + '(' + self.column_names + ') VALUES (' + values_str + ')'\n",
        "  \n",
        "\n"
      ],
      "metadata": {
        "id": "-Wm_tGyGlCui"
      },
      "execution_count": 5,
      "outputs": []
    },
    {
      "cell_type": "code",
      "source": [
        "# Extraktion der Daten aus Qelldatenbank und Laden in Zieldatenbank (DWH)\n",
        "## source_cnx = Verbindung zur Quelldatenbank\n",
        "## target_cnx = Verbindung zur Zieldatenbank\n",
        "# Daten werden über Fetchall in die Variable \"data\" implementiert\n",
        "\n",
        "def etl(query, source_cnx, target_cnx):\n",
        "  # extract data from source db\n",
        "  source_cursor = source_cnx.cursor()\n",
        "  source_cursor.execute(query.extract_query())\n",
        "  data = source_cursor.fetchall()\n",
        "  source_cursor.close()\n",
        "\n",
        "# dann Ausführen der Schleife mit Übertragung der Daten, Commit und Verbindungsschluss zu DB mit close-Statement:\n",
        "  if data:\n",
        "    target_cursor = target_cnx.cursor()\n",
        "    target_cursor.executemany(query.load_query(), data)\n",
        "    print('data loaded to warehouse db') \n",
        "    target_cnx.commit()\n",
        "    target_cursor.close()\n",
        "  else:\n",
        "    print('data is empty')\n",
        "\n",
        "# Durchlaufen von SQL-Abfragen und Aufrufen der etl_process-Funktion\n",
        "## queries: Liste von SQL-Abfragen\n",
        "## db_source ist zuvorgenannter Pfad zur Quelldatenbank\n",
        "def etl_process(queries, target_cnx, db_source):\n",
        "  \"\"\"\n",
        "  queries: list\n",
        "        a list of queries\n",
        "  target_cnx: SQLite connection\n",
        "  db_source: str\n",
        "        path of source database      \n",
        "  \n",
        "  \"\"\"  \n",
        "  # Verbindung zu Quelldatenbank wird hergestellt.\n",
        "  try:\n",
        "    source_cnx = sqlite3.connect(db_source)\n",
        "  except Error as err:\n",
        "    print(err)\n",
        "  \n",
        "  # Es wird durch alle Abfragen gelooped in der etl Liste.\n",
        "  ## etl Funktion extrahirt Daten aus Tabellen der Quelldatenbank.\n",
        "  for query in etl_queue:\n",
        "    etl(query, source_cnx, target_cnx)\n",
        "    \n",
        "  # Verbindung zur Quelldatenbank trennen.\n",
        "  source_cnx.close()"
      ],
      "metadata": {
        "id": "oJ5OK7CNlZ-d"
      },
      "execution_count": 7,
      "outputs": []
    },
    {
      "cell_type": "markdown",
      "source": [
        "### Erzeugen des DWH"
      ],
      "metadata": {
        "id": "at_n_42qpCex"
      }
    },
    {
      "cell_type": "code",
      "source": [
        "# create Datawarehouse\n",
        "dwh_db = DB(DB_DWH_PATH)"
      ],
      "metadata": {
        "id": "0cxGY2mFleT-"
      },
      "execution_count": 8,
      "outputs": []
    },
    {
      "cell_type": "markdown",
      "source": [
        "### **Überprüfen korrekter Implementation**"
      ],
      "metadata": {
        "id": "H_7DWYEvpKZ_"
      }
    },
    {
      "cell_type": "code",
      "source": [
        "# # # check list of tables\n",
        "# target_cnx = dwh_db.conn\n",
        "# dwh_cursor = target_cnx.cursor()\n",
        "# dwh_cursor.execute(\"SELECT name FROM sqlite_master WHERE type='table';\")\n",
        "# #dwh_cursor.execute('PRAGMA table_info(' + \"F_ANTICOVIS\" + ');')\n",
        "# print(dwh_cursor.fetchall())"
      ],
      "metadata": {
        "id": "48ggLPBovZ31"
      },
      "execution_count": null,
      "outputs": []
    },
    {
      "cell_type": "markdown",
      "source": [
        "##6) ETL-Prozess"
      ],
      "metadata": {
        "id": "BKHfPdwkndTY"
      }
    },
    {
      "cell_type": "code",
      "source": [
        "print('starting etl')   \n",
        "# list for iteration\n",
        "etl_queue = []\n",
        "\n",
        "# d_conditions table\n",
        "conditions_columns = ['CONDITIONS_CODE', 'CONDITIONS_DESCRIPTION']\n",
        "sql_query_conditions = SqlQuery(\"S_CONDITIONS\", conditions_columns, \"d_conditions\")\n",
        "etl_queue.append(sql_query_conditions)\n",
        "\n",
        "# d_devices table\n",
        "devices_columns = ['DEVICES_CODE', 'DEVICES_DESCRIPTION']\n",
        "sql_query_devices = SqlQuery(\"S_DEVICES\", devices_columns, \"d_devices\")\n",
        "etl_queue.append(sql_query_devices)\n",
        "\n",
        "# d_medications table\n",
        "medications_columns = ['MEDICATIONS_CODE','MEDICATIONS_DESCRIPTION']\n",
        "sql_query_medications = SqlQuery(\"S_MEDICATIONS\", medications_columns, \"d_medications\")\n",
        "etl_queue.append(sql_query_medications)\n",
        "\n",
        "# d_procedures table\n",
        "procedures_columns = ['PROCEDURES_CODE', 'PROCEDURES_DESCRIPTION']\n",
        "sql_query_procedures = SqlQuery(\"S_PROCEDURES\", procedures_columns, \"d_procedures\")\n",
        "etl_queue.append(sql_query_procedures)\n",
        "\n",
        "\n",
        "# d_patients table\n",
        "patients_columns = ['PATIENTS_ID', 'PATIENTS_BIRTHDATE', 'PATIENTS_DEATHDATE', 'PATIENTS_GENDER']\n",
        "sql_query_patients = SqlQuery(\"S_PATIENTS\", patients_columns, \"d_patients\")\n",
        "etl_queue.append(sql_query_patients)\n",
        "\n",
        "\n",
        "# list for iteration\n",
        "# etl_queue"
      ],
      "metadata": {
        "colab": {
          "base_uri": "https://localhost:8080/"
        },
        "id": "04uxBwK6n-o0",
        "outputId": "084a044f-fffe-4edf-ec05-6861b882d44e"
      },
      "execution_count": 9,
      "outputs": [
        {
          "output_type": "stream",
          "name": "stdout",
          "text": [
            "starting etl\n"
          ]
        }
      ]
    },
    {
      "cell_type": "markdown",
      "source": [
        "### Befüllen der Dimensionstabellen (\"d\")"
      ],
      "metadata": {
        "id": "jQVvt7Xzt_4g"
      }
    },
    {
      "cell_type": "code",
      "source": [
        "# establish connection for target database \n",
        "target_cnx = dwh_db.conn\n",
        "etl_process(etl_queue, target_cnx, DB_SOURCE_PATH)"
      ],
      "metadata": {
        "colab": {
          "base_uri": "https://localhost:8080/"
        },
        "id": "47BForxguEV-",
        "outputId": "f26de9ea-f2c4-4894-c3ae-602c4ec7fbff"
      },
      "execution_count": 10,
      "outputs": [
        {
          "output_type": "stream",
          "name": "stdout",
          "text": [
            "data loaded to warehouse db\n",
            "data loaded to warehouse db\n",
            "data loaded to warehouse db\n",
            "data loaded to warehouse db\n",
            "data loaded to warehouse db\n"
          ]
        }
      ]
    },
    {
      "cell_type": "markdown",
      "source": [
        "## Erzeugen eines Dataframes für das Befüllen der ANTICOVIS Faktentabelle (\"F\")\n",
        "\n",
        "Hierfür werden die in der ANTICOVIS-Quelldatenbank formulierten \"SSS\"-Tabellen genutzt, um über mehrfache JOIN-Anweisungen zu einer Faktentabelle zusammengefasst zu werden.\n",
        "\n",
        "Anschließend werden zusätzliche Spalten in der Faktentabelle aus den externen Daten der Medikations-Klassifikation und des Schweregrad-Gradings erzeugt. Die jeweiligen zu den Klassifikations- bzw. Grading-Ziffern gehörigen Codes aus den Quelldatentabellen werden zugewiesen.\n",
        "\n",
        "Abschließend erfolgt die Ausgabe der Faktentabelle zum Überprüfen der korrekten Implementation der Befehle. Initial nach Zufügen der Grading-Spalte, danach erneut nach Zufügen der Klassifikations-Spalte."
      ],
      "metadata": {
        "id": "mLrUc8nGp-u3"
      }
    },
    {
      "cell_type": "code",
      "source": [
        "# selecting relevant data for Staging DB as a Facts_Table DataFrame\n",
        "connctino_to_Staging_DB = sqlite3.connect(DB_SOURCE_PATH)\n",
        "conn = connctino_to_Staging_DB\n",
        "Staging_DB_Cursor = conn.cursor()\n",
        "\n",
        "Staging_DB_Cursor.execute (\"\"\" SELECT SSS_patients.patients_ID,\n",
        "                                      SSS_conditions.conditions_code, \n",
        "                                      SSS_procedures.procedures_code, \n",
        "                                      SSS_devices.devices_code, \n",
        "                                      SSS_medications.medications_code \n",
        "                               \n",
        "                               FROM SSS_PATIENTS \n",
        "                                    LEFT JOIN SSS_CONDITIONS \n",
        "                                           ON SSS_patients.patients_ID = SSS_conditions.conditions_patient_ID\n",
        "                                    LEFT JOIN SSS_PROCEDURES \n",
        "                                           ON SSS_patients.patients_ID = SSS_procedures.procedures_patient_ID\n",
        "                                    LEFT JOIN SSS_DEVICES \n",
        "                                           ON SSS_patients.patients_ID = SSS_devices.devices_patient_ID\n",
        "                                    LEFT JOIN SSS_MEDICATIONS\n",
        "                                           ON SSS_patients.patients_ID = SSS_medications.medications_patient_ID\n",
        "                                  \"\"\")\n",
        "DF_of_Facts_Table = DataFrame(Staging_DB_Cursor.fetchall())\n",
        "\n",
        "# renaming culums in Dataframe\n",
        "DF_of_Facts_Table.columns =['patients_ID', 'conditions_code','procedures_code', 'devices_code', 'medications_code']\n",
        "# remooving duplicates from Dataframe\n",
        "DF_of_Facts_Table.drop_duplicates()\n",
        "conn.close()\n",
        "\n",
        "# creating new table columns for MED_CLASSIFICATION and course_of_disease grading\n",
        "DF_of_Facts_Table ['MED_CLASSIFICATION'] = '0'\n",
        "DF_of_Facts_Table ['COV_GRADING'] = '0'\n",
        "# Replacing NaN\n",
        "DF_of_Facts_Table = DF_of_Facts_Table.fillna(0)\n",
        "\n",
        "\n",
        "# defining and implementing course_of_disease classes\n",
        "\n",
        "grades_mapping = {\n",
        "386661006: 1,\n",
        "25064002:\t1,\n",
        "36955009:\t1,\n",
        "267102003: 1,\n",
        "261352009: 1,\n",
        "43724002:\t2,\n",
        "49727002:\t2,\n",
        "267060006: 2,\n",
        "84229001:\t2,\n",
        "57676002:\t2,\n",
        "68962001:\t2,\n",
        "68235000:\t2,\n",
        "422587007: 2,\n",
        "249497008: 2,\n",
        "234466008: 3,\n",
        "132281000119108: 3,\n",
        "267036007: 3,\n",
        "233604007: 3,\n",
        "56018004:\t3,\n",
        "371908008: 3,\n",
        "706870000: 4,\n",
        "66857006:\t4,\n",
        "389087006: 4,\n",
        "86175003:\t4,\n",
        "40095003:\t4,\n",
        "271825005: 4,\n",
        "112798008: 4,\n",
        "433112001: 4,\n",
        "431182000: 4,\n",
        "67782005:\t5,\n",
        "65710008:\t5,\n",
        "84114007:\t5,\n",
        "770349000: 5,\n",
        "76571007:\t5,\n",
        "36965003:\t5,\n",
        "449071006: 5,\n",
        "26763009:\t5,\n",
        "180325003: 5,\n",
        "302497006: 5,\n",
        "\n",
        "}\n",
        "\n",
        "# Loop through all rows\n",
        "for i, row in DF_of_Facts_Table.iterrows():\n",
        "    max_grade = []    \n",
        "    # Check if any of the codes in the 'conditions_code' column is present in the grades_mapping\n",
        "    if row['conditions_code'] in grades_mapping:\n",
        "        max_grade.append(grades_mapping[row['conditions_code']])\n",
        "    # Check if any of the codes in the 'procedures_code' column is present in the grades_mapping\n",
        "    if row['procedures_code'] in grades_mapping:\n",
        "        max_grade.append(grades_mapping[row['procedures_code']])\n",
        "    # Check if any of the codes in the 'devices_code' column is present in the grades_mapping\n",
        "    if row['devices_code'] in grades_mapping:\n",
        "        max_grade.append(grades_mapping[row['devices_code']])\n",
        "    if len(max_grade) != 0:\n",
        "        DF_of_Facts_Table.at[i, 'COV_GRADING'] = max(max_grade)\n",
        "    else:\n",
        "        DF_of_Facts_Table.at[i, 'COV_GRADING'] = 0\n",
        "\n",
        "DF_of_Facts_Table.head(5)\n",
        "\n"
      ],
      "metadata": {
        "id": "F12D9iKhztFU",
        "colab": {
          "base_uri": "https://localhost:8080/",
          "height": 206
        },
        "outputId": "85f54749-a2dd-401d-eafc-60b89b060eac"
      },
      "execution_count": 11,
      "outputs": [
        {
          "output_type": "execute_result",
          "data": {
            "text/plain": [
              "                            patients_ID  conditions_code  procedures_code  \\\n",
              "0  2f114e21-8b95-e9eb-2e9e-4b950b059cfa       36955009.0      261352009.0   \n",
              "1  2f114e21-8b95-e9eb-2e9e-4b950b059cfa      386661006.0      261352009.0   \n",
              "2  2f114e21-8b95-e9eb-2e9e-4b950b059cfa      840539006.0      261352009.0   \n",
              "3  2f114e21-8b95-e9eb-2e9e-4b950b059cfa      840544004.0      261352009.0   \n",
              "4  2812f4fc-6aba-0033-728b-7e569bb8adcc       36955009.0      180325003.0   \n",
              "\n",
              "   devices_code  medications_code MED_CLASSIFICATION COV_GRADING  \n",
              "0           0.0               0.0                  0           1  \n",
              "1           0.0               0.0                  0           1  \n",
              "2           0.0               0.0                  0           1  \n",
              "3           0.0               0.0                  0           1  \n",
              "4           0.0          197604.0                  0           5  "
            ],
            "text/html": [
              "\n",
              "  <div id=\"df-4b9a5fae-86ac-4468-8e31-ac91286d66f9\">\n",
              "    <div class=\"colab-df-container\">\n",
              "      <div>\n",
              "<style scoped>\n",
              "    .dataframe tbody tr th:only-of-type {\n",
              "        vertical-align: middle;\n",
              "    }\n",
              "\n",
              "    .dataframe tbody tr th {\n",
              "        vertical-align: top;\n",
              "    }\n",
              "\n",
              "    .dataframe thead th {\n",
              "        text-align: right;\n",
              "    }\n",
              "</style>\n",
              "<table border=\"1\" class=\"dataframe\">\n",
              "  <thead>\n",
              "    <tr style=\"text-align: right;\">\n",
              "      <th></th>\n",
              "      <th>patients_ID</th>\n",
              "      <th>conditions_code</th>\n",
              "      <th>procedures_code</th>\n",
              "      <th>devices_code</th>\n",
              "      <th>medications_code</th>\n",
              "      <th>MED_CLASSIFICATION</th>\n",
              "      <th>COV_GRADING</th>\n",
              "    </tr>\n",
              "  </thead>\n",
              "  <tbody>\n",
              "    <tr>\n",
              "      <th>0</th>\n",
              "      <td>2f114e21-8b95-e9eb-2e9e-4b950b059cfa</td>\n",
              "      <td>36955009.0</td>\n",
              "      <td>261352009.0</td>\n",
              "      <td>0.0</td>\n",
              "      <td>0.0</td>\n",
              "      <td>0</td>\n",
              "      <td>1</td>\n",
              "    </tr>\n",
              "    <tr>\n",
              "      <th>1</th>\n",
              "      <td>2f114e21-8b95-e9eb-2e9e-4b950b059cfa</td>\n",
              "      <td>386661006.0</td>\n",
              "      <td>261352009.0</td>\n",
              "      <td>0.0</td>\n",
              "      <td>0.0</td>\n",
              "      <td>0</td>\n",
              "      <td>1</td>\n",
              "    </tr>\n",
              "    <tr>\n",
              "      <th>2</th>\n",
              "      <td>2f114e21-8b95-e9eb-2e9e-4b950b059cfa</td>\n",
              "      <td>840539006.0</td>\n",
              "      <td>261352009.0</td>\n",
              "      <td>0.0</td>\n",
              "      <td>0.0</td>\n",
              "      <td>0</td>\n",
              "      <td>1</td>\n",
              "    </tr>\n",
              "    <tr>\n",
              "      <th>3</th>\n",
              "      <td>2f114e21-8b95-e9eb-2e9e-4b950b059cfa</td>\n",
              "      <td>840544004.0</td>\n",
              "      <td>261352009.0</td>\n",
              "      <td>0.0</td>\n",
              "      <td>0.0</td>\n",
              "      <td>0</td>\n",
              "      <td>1</td>\n",
              "    </tr>\n",
              "    <tr>\n",
              "      <th>4</th>\n",
              "      <td>2812f4fc-6aba-0033-728b-7e569bb8adcc</td>\n",
              "      <td>36955009.0</td>\n",
              "      <td>180325003.0</td>\n",
              "      <td>0.0</td>\n",
              "      <td>197604.0</td>\n",
              "      <td>0</td>\n",
              "      <td>5</td>\n",
              "    </tr>\n",
              "  </tbody>\n",
              "</table>\n",
              "</div>\n",
              "      <button class=\"colab-df-convert\" onclick=\"convertToInteractive('df-4b9a5fae-86ac-4468-8e31-ac91286d66f9')\"\n",
              "              title=\"Convert this dataframe to an interactive table.\"\n",
              "              style=\"display:none;\">\n",
              "        \n",
              "  <svg xmlns=\"http://www.w3.org/2000/svg\" height=\"24px\"viewBox=\"0 0 24 24\"\n",
              "       width=\"24px\">\n",
              "    <path d=\"M0 0h24v24H0V0z\" fill=\"none\"/>\n",
              "    <path d=\"M18.56 5.44l.94 2.06.94-2.06 2.06-.94-2.06-.94-.94-2.06-.94 2.06-2.06.94zm-11 1L8.5 8.5l.94-2.06 2.06-.94-2.06-.94L8.5 2.5l-.94 2.06-2.06.94zm10 10l.94 2.06.94-2.06 2.06-.94-2.06-.94-.94-2.06-.94 2.06-2.06.94z\"/><path d=\"M17.41 7.96l-1.37-1.37c-.4-.4-.92-.59-1.43-.59-.52 0-1.04.2-1.43.59L10.3 9.45l-7.72 7.72c-.78.78-.78 2.05 0 2.83L4 21.41c.39.39.9.59 1.41.59.51 0 1.02-.2 1.41-.59l7.78-7.78 2.81-2.81c.8-.78.8-2.07 0-2.86zM5.41 20L4 18.59l7.72-7.72 1.47 1.35L5.41 20z\"/>\n",
              "  </svg>\n",
              "      </button>\n",
              "      \n",
              "  <style>\n",
              "    .colab-df-container {\n",
              "      display:flex;\n",
              "      flex-wrap:wrap;\n",
              "      gap: 12px;\n",
              "    }\n",
              "\n",
              "    .colab-df-convert {\n",
              "      background-color: #E8F0FE;\n",
              "      border: none;\n",
              "      border-radius: 50%;\n",
              "      cursor: pointer;\n",
              "      display: none;\n",
              "      fill: #1967D2;\n",
              "      height: 32px;\n",
              "      padding: 0 0 0 0;\n",
              "      width: 32px;\n",
              "    }\n",
              "\n",
              "    .colab-df-convert:hover {\n",
              "      background-color: #E2EBFA;\n",
              "      box-shadow: 0px 1px 2px rgba(60, 64, 67, 0.3), 0px 1px 3px 1px rgba(60, 64, 67, 0.15);\n",
              "      fill: #174EA6;\n",
              "    }\n",
              "\n",
              "    [theme=dark] .colab-df-convert {\n",
              "      background-color: #3B4455;\n",
              "      fill: #D2E3FC;\n",
              "    }\n",
              "\n",
              "    [theme=dark] .colab-df-convert:hover {\n",
              "      background-color: #434B5C;\n",
              "      box-shadow: 0px 1px 3px 1px rgba(0, 0, 0, 0.15);\n",
              "      filter: drop-shadow(0px 1px 2px rgba(0, 0, 0, 0.3));\n",
              "      fill: #FFFFFF;\n",
              "    }\n",
              "  </style>\n",
              "\n",
              "      <script>\n",
              "        const buttonEl =\n",
              "          document.querySelector('#df-4b9a5fae-86ac-4468-8e31-ac91286d66f9 button.colab-df-convert');\n",
              "        buttonEl.style.display =\n",
              "          google.colab.kernel.accessAllowed ? 'block' : 'none';\n",
              "\n",
              "        async function convertToInteractive(key) {\n",
              "          const element = document.querySelector('#df-4b9a5fae-86ac-4468-8e31-ac91286d66f9');\n",
              "          const dataTable =\n",
              "            await google.colab.kernel.invokeFunction('convertToInteractive',\n",
              "                                                     [key], {});\n",
              "          if (!dataTable) return;\n",
              "\n",
              "          const docLinkHtml = 'Like what you see? Visit the ' +\n",
              "            '<a target=\"_blank\" href=https://colab.research.google.com/notebooks/data_table.ipynb>data table notebook</a>'\n",
              "            + ' to learn more about interactive tables.';\n",
              "          element.innerHTML = '';\n",
              "          dataTable['output_type'] = 'display_data';\n",
              "          await google.colab.output.renderOutput(dataTable, element);\n",
              "          const docLink = document.createElement('div');\n",
              "          docLink.innerHTML = docLinkHtml;\n",
              "          element.appendChild(docLink);\n",
              "        }\n",
              "      </script>\n",
              "    </div>\n",
              "  </div>\n",
              "  "
            ]
          },
          "metadata": {},
          "execution_count": 11
        }
      ]
    },
    {
      "cell_type": "code",
      "source": [
        "# defining and implementing MED_CLASSIFICATION.\n",
        "\n",
        "MED_CLASSIFICATION = {\n",
        "854235:1,\n",
        "854252:1,\n",
        "854228:1,\n",
        "309362:2,\n",
        "855332:3,\n",
        "}\n",
        "\n",
        "# Loop through all rows\n",
        "for i, row in DF_of_Facts_Table.iterrows():   \n",
        "    # Check if any of the codes in the 'conditions_code' column is present in the grades_mapping\n",
        "    if row['medications_code'] in MED_CLASSIFICATION:\n",
        "        DF_of_Facts_Table.at[i, 'MED_CLASSIFICATION'] = MED_CLASSIFICATION[row['medications_code']]\n",
        "\n"
      ],
      "metadata": {
        "id": "89Ef1fvCcaDn"
      },
      "execution_count": 12,
      "outputs": []
    },
    {
      "cell_type": "code",
      "source": [
        "DF_of_Facts_Table.head(5)"
      ],
      "metadata": {
        "id": "tYkEH3kNhbC7",
        "colab": {
          "base_uri": "https://localhost:8080/",
          "height": 206
        },
        "outputId": "76d5d144-e7f0-48ff-d74a-91bae3ad724f"
      },
      "execution_count": 13,
      "outputs": [
        {
          "output_type": "execute_result",
          "data": {
            "text/plain": [
              "                            patients_ID  conditions_code  procedures_code  \\\n",
              "0  2f114e21-8b95-e9eb-2e9e-4b950b059cfa       36955009.0      261352009.0   \n",
              "1  2f114e21-8b95-e9eb-2e9e-4b950b059cfa      386661006.0      261352009.0   \n",
              "2  2f114e21-8b95-e9eb-2e9e-4b950b059cfa      840539006.0      261352009.0   \n",
              "3  2f114e21-8b95-e9eb-2e9e-4b950b059cfa      840544004.0      261352009.0   \n",
              "4  2812f4fc-6aba-0033-728b-7e569bb8adcc       36955009.0      180325003.0   \n",
              "\n",
              "   devices_code  medications_code MED_CLASSIFICATION COV_GRADING  \n",
              "0           0.0               0.0                  0           1  \n",
              "1           0.0               0.0                  0           1  \n",
              "2           0.0               0.0                  0           1  \n",
              "3           0.0               0.0                  0           1  \n",
              "4           0.0          197604.0                  0           5  "
            ],
            "text/html": [
              "\n",
              "  <div id=\"df-2dd697cc-1770-419a-b65a-47baeb6925c4\">\n",
              "    <div class=\"colab-df-container\">\n",
              "      <div>\n",
              "<style scoped>\n",
              "    .dataframe tbody tr th:only-of-type {\n",
              "        vertical-align: middle;\n",
              "    }\n",
              "\n",
              "    .dataframe tbody tr th {\n",
              "        vertical-align: top;\n",
              "    }\n",
              "\n",
              "    .dataframe thead th {\n",
              "        text-align: right;\n",
              "    }\n",
              "</style>\n",
              "<table border=\"1\" class=\"dataframe\">\n",
              "  <thead>\n",
              "    <tr style=\"text-align: right;\">\n",
              "      <th></th>\n",
              "      <th>patients_ID</th>\n",
              "      <th>conditions_code</th>\n",
              "      <th>procedures_code</th>\n",
              "      <th>devices_code</th>\n",
              "      <th>medications_code</th>\n",
              "      <th>MED_CLASSIFICATION</th>\n",
              "      <th>COV_GRADING</th>\n",
              "    </tr>\n",
              "  </thead>\n",
              "  <tbody>\n",
              "    <tr>\n",
              "      <th>0</th>\n",
              "      <td>2f114e21-8b95-e9eb-2e9e-4b950b059cfa</td>\n",
              "      <td>36955009.0</td>\n",
              "      <td>261352009.0</td>\n",
              "      <td>0.0</td>\n",
              "      <td>0.0</td>\n",
              "      <td>0</td>\n",
              "      <td>1</td>\n",
              "    </tr>\n",
              "    <tr>\n",
              "      <th>1</th>\n",
              "      <td>2f114e21-8b95-e9eb-2e9e-4b950b059cfa</td>\n",
              "      <td>386661006.0</td>\n",
              "      <td>261352009.0</td>\n",
              "      <td>0.0</td>\n",
              "      <td>0.0</td>\n",
              "      <td>0</td>\n",
              "      <td>1</td>\n",
              "    </tr>\n",
              "    <tr>\n",
              "      <th>2</th>\n",
              "      <td>2f114e21-8b95-e9eb-2e9e-4b950b059cfa</td>\n",
              "      <td>840539006.0</td>\n",
              "      <td>261352009.0</td>\n",
              "      <td>0.0</td>\n",
              "      <td>0.0</td>\n",
              "      <td>0</td>\n",
              "      <td>1</td>\n",
              "    </tr>\n",
              "    <tr>\n",
              "      <th>3</th>\n",
              "      <td>2f114e21-8b95-e9eb-2e9e-4b950b059cfa</td>\n",
              "      <td>840544004.0</td>\n",
              "      <td>261352009.0</td>\n",
              "      <td>0.0</td>\n",
              "      <td>0.0</td>\n",
              "      <td>0</td>\n",
              "      <td>1</td>\n",
              "    </tr>\n",
              "    <tr>\n",
              "      <th>4</th>\n",
              "      <td>2812f4fc-6aba-0033-728b-7e569bb8adcc</td>\n",
              "      <td>36955009.0</td>\n",
              "      <td>180325003.0</td>\n",
              "      <td>0.0</td>\n",
              "      <td>197604.0</td>\n",
              "      <td>0</td>\n",
              "      <td>5</td>\n",
              "    </tr>\n",
              "  </tbody>\n",
              "</table>\n",
              "</div>\n",
              "      <button class=\"colab-df-convert\" onclick=\"convertToInteractive('df-2dd697cc-1770-419a-b65a-47baeb6925c4')\"\n",
              "              title=\"Convert this dataframe to an interactive table.\"\n",
              "              style=\"display:none;\">\n",
              "        \n",
              "  <svg xmlns=\"http://www.w3.org/2000/svg\" height=\"24px\"viewBox=\"0 0 24 24\"\n",
              "       width=\"24px\">\n",
              "    <path d=\"M0 0h24v24H0V0z\" fill=\"none\"/>\n",
              "    <path d=\"M18.56 5.44l.94 2.06.94-2.06 2.06-.94-2.06-.94-.94-2.06-.94 2.06-2.06.94zm-11 1L8.5 8.5l.94-2.06 2.06-.94-2.06-.94L8.5 2.5l-.94 2.06-2.06.94zm10 10l.94 2.06.94-2.06 2.06-.94-2.06-.94-.94-2.06-.94 2.06-2.06.94z\"/><path d=\"M17.41 7.96l-1.37-1.37c-.4-.4-.92-.59-1.43-.59-.52 0-1.04.2-1.43.59L10.3 9.45l-7.72 7.72c-.78.78-.78 2.05 0 2.83L4 21.41c.39.39.9.59 1.41.59.51 0 1.02-.2 1.41-.59l7.78-7.78 2.81-2.81c.8-.78.8-2.07 0-2.86zM5.41 20L4 18.59l7.72-7.72 1.47 1.35L5.41 20z\"/>\n",
              "  </svg>\n",
              "      </button>\n",
              "      \n",
              "  <style>\n",
              "    .colab-df-container {\n",
              "      display:flex;\n",
              "      flex-wrap:wrap;\n",
              "      gap: 12px;\n",
              "    }\n",
              "\n",
              "    .colab-df-convert {\n",
              "      background-color: #E8F0FE;\n",
              "      border: none;\n",
              "      border-radius: 50%;\n",
              "      cursor: pointer;\n",
              "      display: none;\n",
              "      fill: #1967D2;\n",
              "      height: 32px;\n",
              "      padding: 0 0 0 0;\n",
              "      width: 32px;\n",
              "    }\n",
              "\n",
              "    .colab-df-convert:hover {\n",
              "      background-color: #E2EBFA;\n",
              "      box-shadow: 0px 1px 2px rgba(60, 64, 67, 0.3), 0px 1px 3px 1px rgba(60, 64, 67, 0.15);\n",
              "      fill: #174EA6;\n",
              "    }\n",
              "\n",
              "    [theme=dark] .colab-df-convert {\n",
              "      background-color: #3B4455;\n",
              "      fill: #D2E3FC;\n",
              "    }\n",
              "\n",
              "    [theme=dark] .colab-df-convert:hover {\n",
              "      background-color: #434B5C;\n",
              "      box-shadow: 0px 1px 3px 1px rgba(0, 0, 0, 0.15);\n",
              "      filter: drop-shadow(0px 1px 2px rgba(0, 0, 0, 0.3));\n",
              "      fill: #FFFFFF;\n",
              "    }\n",
              "  </style>\n",
              "\n",
              "      <script>\n",
              "        const buttonEl =\n",
              "          document.querySelector('#df-2dd697cc-1770-419a-b65a-47baeb6925c4 button.colab-df-convert');\n",
              "        buttonEl.style.display =\n",
              "          google.colab.kernel.accessAllowed ? 'block' : 'none';\n",
              "\n",
              "        async function convertToInteractive(key) {\n",
              "          const element = document.querySelector('#df-2dd697cc-1770-419a-b65a-47baeb6925c4');\n",
              "          const dataTable =\n",
              "            await google.colab.kernel.invokeFunction('convertToInteractive',\n",
              "                                                     [key], {});\n",
              "          if (!dataTable) return;\n",
              "\n",
              "          const docLinkHtml = 'Like what you see? Visit the ' +\n",
              "            '<a target=\"_blank\" href=https://colab.research.google.com/notebooks/data_table.ipynb>data table notebook</a>'\n",
              "            + ' to learn more about interactive tables.';\n",
              "          element.innerHTML = '';\n",
              "          dataTable['output_type'] = 'display_data';\n",
              "          await google.colab.output.renderOutput(dataTable, element);\n",
              "          const docLink = document.createElement('div');\n",
              "          docLink.innerHTML = docLinkHtml;\n",
              "          element.appendChild(docLink);\n",
              "        }\n",
              "      </script>\n",
              "    </div>\n",
              "  </div>\n",
              "  "
            ]
          },
          "metadata": {},
          "execution_count": 13
        }
      ]
    },
    {
      "cell_type": "markdown",
      "source": [
        "##7) Pseudonymisierung der Patienten-ID\n",
        "---\n",
        "### Erzeugung einer Schlüsselliste von Patienten-ID und Pseudonym\n",
        "\n",
        "Pseudonymisierung der Patienten-ID erfolgt mittels Python Random choice() Methode. Die Library \"random\" wurde initial bereits hierfür geladen.\n",
        "Die choice() Methode gibt einen willkürlichen String in Kleinbuchstaben in einer Länge von 10 Buchstaben pro Patienten-ID wieder.\n",
        "\n",
        "Durch Pseudonymisierung der Patienten-ID und belassen lediglich des Pseudonyms inkl. Geschlecht, Geburts- und Sterbedatum, wird Sekundärnutzern die RÜckverforlung der Patient:innen hin zu den Quelldaten und damit Identifizierung maximal erschwert und entspricht für diese quasi einer \"Anonymisierung\", da keine logische Verbindung zwischen Pseudonym-ID und Patienten-ID besteht. Die Schlüsseltabelle wird als CSV Datei im Shared-Drive der Projektleitenden und somit zugriffssicher aufbewahrt."
      ],
      "metadata": {
        "id": "HD972UfUqZF3"
      }
    },
    {
      "cell_type": "code",
      "source": [
        "def check_random_string(random_string, random_strings):\n",
        "  if random_string in random_strings:\n",
        "    return \"doubble\"\n",
        "  else:\n",
        "    return \"ok\"\n",
        "\n",
        "pseudonym_tabelle = sqldf(\"\"\"SELECT DISTINCT patients_id FROM DF_of_Facts_Table\"\"\")\n",
        "pseudonym_tabelle['pseudonym'] = ''\n",
        "random_strings = []\n",
        "\n",
        "def pseudonym_generator():\n",
        "  random_string = ''.join(random.choices(string.ascii_lowercase, k=10))\n",
        "  check = check_random_string(random_string, random_strings)\n",
        "  if check == 'ok':\n",
        "    random_strings.append(random_string)\n",
        "    pseudonym_tabelle.at[i, 'pseudonym'] = random_string\n",
        "  else:\n",
        "    pseudonym_generator()\n",
        "\n",
        "\n",
        "if len(random_strings)== 0:\n",
        "  for i,row in pseudonym_tabelle.iterrows():\n",
        "    pseudonym_generator()\n",
        "\n",
        "print(random_strings)\n",
        "pseudonym_tabelle.to_csv(\"/content/drive/Shareddrives/DMA_2023_D/DMA2023TeamB/Quelldaten/covid19/pseudonym_tabelle.csv\")\n"
      ],
      "metadata": {
        "colab": {
          "base_uri": "https://localhost:8080/"
        },
        "id": "g9ke1MWon6Lb",
        "outputId": "de6b2a51-8863-4abe-ed43-4f391f029b14"
      },
      "execution_count": 14,
      "outputs": [
        {
          "output_type": "stream",
          "name": "stdout",
          "text": [
            "['qhmymcyecb', 'pulorgbhsj', 'xlwttetujd', 'iwgvhzvify', 'mhtaqogqtu', 'glwdltysrx', 'hexdpwvfni', 'hmexnrvdth', 'kqhnxaxdej', 'risxzuqiza', 'rsibqcesqj', 'hpoueygrep', 'tnczzrqkuz', 'vfxdmiswdf', 'dchpurmeeo', 'fpvtrwaegf', 'qbtgfkihmv', 'nzhyzgvexi', 'ygaopqvnlf', 'mctfemllcz', 'sagmjgawqm', 'redxeubksv', 'ltmebekqbg', 'esdrjmweaq', 'qtwyxacleq', 'cuuvqraaog', 'mdtghxnrkh', 'rczuxrigae', 'ueiastponh', 'gbjkvbvlkk', 'sbpszeveio', 'zrlisjftmf', 'lvoiyohmhv', 'bdcresnsfg', 'torgsnduxo', 'peimfeiwsz', 'wpjkuzvlpy', 'ovnsnpowmr', 'seyhkbxvfb', 'nzxtwawmgc', 'lsulvaxyle', 'bguucspskn', 'ylxxckqhng', 'defnnrulbr', 'fouuvqjbov', 'nuiibxyxln', 'zzzyjnxftl', 'uogktgcjlh', 'sgkidwpxng', 'giequpoxei', 'wocpphchia', 'zuoyfyyjsq', 'dbciokavnc', 'vaxdzqojdm', 'jbveczcuwc', 'omkgxxvppy', 'esmczliowr', 'rbzzxklmix', 'sniamblgqq', 'sjsjsseahy', 'yncbgojnhq', 'afkfuqylzi', 'xknjgnnvgz', 'rtqxmtfswk', 'ghipgebcdq', 'byafzpwxon', 'bghtzagixa', 'pzfhvtpzyv', 'nxmtojqrku', 'ivqqarxxqq', 'txcrmwrjml', 'dnzkmpvbnn', 'lgwvdknvyx', 'xvqufpnspd', 'ueoyclvhiw', 'gcdzpsfcov', 'iivysuahwz', 'ftkypuxgux', 'hckzymiudc', 'evhbqidvnk', 'hiehhdtvyy', 'twmypdnmma', 'osnucqurgy', 'olaicrdyor', 'oqyuziartp', 'ucjrehykbj', 'ikjjivtxsv', 'vtwurywbcj', 'gszhzfuwjx', 'jfpxivhoqk', 'wzomedjson', 'cluzlffcwt', 'udkrgkscvh', 'exdgazrkkl', 'wkjxwdfqpf', 'dpznduypff', 'zrbroqricg', 'auowafehwe', 'jwwfqcxpqw', 'dgfdgacjkb', 'gltzhgkkev', 'lfxupotlcr', 'vvtxvlyucv', 'eqddpqwgdx', 'lzeytfakqp', 'dujovjdrab', 'umebzzwixa', 'biacngadxy', 'dadzykpkff', 'ltjffvtrai', 'poxqznnkno', 'uchctkpgcz', 'jtorxslcdw', 'nubzsysimc', 'tgsxxubspf', 'qohufxgqub', 'qwcdjlgaol', 'nnrpacupxx', 'ijkhubfeov', 'okldfpednf', 'luqekcnfxp', 'nnveyerybm', 'pdyrlabpov', 'tsbamzfffu', 'fyidljsqyt', 'jchptbpyjb', 'znamwjdyco', 'yamblmmtri', 'rikzmvabsr', 'pmerfgooph', 'lnckvldwuq', 'lxgutknviv', 'jxoysovcho', 'qtwpokrujq', 'tzvopavhqj', 'hpwrwcmynp', 'caolimghxa', 'migzdeidoa', 'ucwfgxjrwq', 'xxdvzssffi', 'gghoaosbhj', 'sjkhxqtwvm', 'jzbfxeuviw', 'kcquuxmfyr', 'razppahzbp', 'rhasevglgt', 'rjhxnmmcqc', 'tfwgumqbpl', 'yudlytzdxt', 'axgtcmynwi', 'lsjumadskd', 'npuztgwdyl', 'oxmbcvcuou', 'qhuzumixgd', 'seqmoehswm', 'ilwcyeewcg', 'njsrzghogm', 'ytaplmwdgx', 'qwsxitelwv', 'hpwgwtkxtp', 'ybnukvfecj', 'jxddfwjlxl', 'tymkuayiak', 'hsopyiasac', 'dedbprpqhc', 'zjddyuxclc', 'oobdjvvcca', 'qceroxvoai', 'ykcrpupitj', 'ulkytqyqun', 'dyaoouemlq', 'vjyvshntzz', 'glpsylcxjf', 'bzdsuzztgm', 'ghwljdmctp', 'gyzhvdxxlh', 'aksdvlmykf', 'bplwcnsayp', 'atlnbfmvxx', 'bgeidmjmgy', 'lehczbruuf', 'lzesjbpwgp', 'ibwpwvwxbm', 'afhygbmduw', 'fxryrgvexf', 'btwhflnhqq', 'hcgjehnmzs', 'slbwnkwohm', 'jjspprelkc', 'joetkcorrg', 'lsbzvjrdor', 'potxrobxfk', 'losidmrhvq', 'zuxcrjlcde', 'sxovlepnbq', 'bairxieuvp', 'wskgqunohp', 'ldsaacpiun', 'yrnhlpyppo', 'haisxvjfvf', 'xkvscgifld', 'vguwcoiaop', 'yuyvrdjgvt', 'vtacpuuxkv', 'fsgeobkbjy', 'sgrxajpkdv', 'nczsqjvflk', 'ewrulgnqxb', 'uokzkqwkeo', 'fiyvzbjkte', 'lkrqurhfwh', 'abkannnhre', 'yetfqwdojs', 'bsslkphszv', 'kaxlwykrck', 'ivcoklceab', 'wlvgxoqxuc', 'ljpbrwcgsb', 'ukrookprvx', 'yoccbfqudr', 'gzypvpwhmd', 'cqwxdwhngc', 'pomigarzrx', 'okinwtkbft', 'xxabgnulxf', 'rfzfshhpsi', 'lgwtcgswxn', 'rymcqudful', 'apfdfvadec', 'tmfbmcyqmj', 'nodhqrtwsh', 'laeeovlsmn', 'hdsvmxfydg', 'havczhbkoz', 'nvltityxlt', 'raosdmzlut', 'wnngqfiper', 'tjjtzkwrof', 'nriizfircm', 'oxlimgbfyv', 'rqxjfqtnms', 'edzrrnqsqr', 'gtndxosxdn', 'lfxbwpwhtl', 'ghymcckhwo', 'hjwcabuulk', 'ttppcgfonf', 'jbazghcvnh', 'vyvotiutxm', 'uexivcklmv', 'sbicgaitfc', 'tbkaxoqnrl', 'atlbafwpgv', 'jsjkkynqid', 'gyllpcmdhv', 'pkeokqnwuz', 'nwsiwhhtqa', 'qeatltnemh', 'zoculvdvrr', 'udybpcbdgn', 'llcjxaudhc', 'vbnufvsolz', 'dqcdtjzqwj', 'nlnwenvnjd', 'asshuncmmo', 'synjgpehea', 'vljuzgxwka', 'szsabzppqq', 'kowxrisski', 'kvhxcqdkiz', 'lumpfuefao', 'kusacihgwo', 'vqxkirwklt', 'mwmgthyies', 'udivvofzqd', 'gwqsismmke', 'zgneejqmyo', 'ekumlweguh', 'cxrpsiuutf', 'kqbjpovroc', 'igkmoembdz', 'zwvofzmfvv', 'yqtyrqmzku', 'kttiybiybn', 'ikklbiivso', 'bxzhvtpnzv', 'jgmqhbtbhi', 'ygkdhddkbz', 'pkhapshndd', 'ierwxukcjx', 'juhprwbbwz', 'jehiucnqhu', 'ahsaofalot', 'ajffeysnou', 'juleyzgvlw', 'zgqcntwmro', 'ddybdciukp', 'hsocgeidvr', 'yzrgfzckms', 'xcanxbzpnu', 'xicfamgcdg', 'lyaicglmue', 'jbfojvylpm', 'cbaeeliewr', 'puxedvqcyx', 'vqzqvdjjss', 'eurmgqcdsb', 'mevinwpgdp', 'zffucwdpgz', 'eqkzesafnh', 'wxyeougagg', 'yttazldhxz', 'uuynjaaqtm', 'nghflzogcc', 'wfyvkqohiw', 'bpfzqfvedp', 'potdozhwhf', 'tqolwrysce', 'jtzskllina', 'byxkshfkqg', 'gbbfjzyjkl', 'coahrxzyqj', 'nfipcihhrw', 'uayaxnamua', 'oeaxjwuhcv', 'zktibidemy', 'ijslkskdfm', 'hmatvxcttr', 'enhurimrml', 'fjxywykrgj', 'tuekjgyrwe', 'hzamaidnka', 'ijapzhcplw', 'mujtjffwok', 'bnclpzjzla', 'sysezwneix', 'oaquozkcae', 'btcpyhlrew', 'cieexogshq', 'ihtqturdeo', 'xxfuzjteun', 'bcmdigvows', 'ztwywtqvoe', 'roisyziocj', 'lclmybsorw', 'scrbkjqymw', 'uswmutmlme', 'lioeylbftm', 'wwfmcymsxv', 'cujxqedegm', 'turcztaeux', 'wxrlgzbjug', 'gvcahxzihp', 'isotprdsio', 'gnjvznemah', 'tggrazxadv', 'thoqbyzvst', 'rtibaiozoa', 'ccskmcjxqn', 'etlrmrzebb', 'cthcafyvjk', 'zawebgwqtv', 'sxqdaqqdxv', 'gsycsykqkc', 'hxnxqhkqfx', 'pezhdvwvdv', 'idmkmslbww', 'mxmwiqbiil', 'ckderxaznt', 'wqrrzuhkaz', 'khgjrxilpb', 'ekfswpagqg', 'dudugebplm', 'xtowrattsv', 'lcthcqnfso', 'fuoelteklg', 'usebfoeeny', 'rmkpjznykm', 'ncxbudwpjs', 'qmgppuardd', 'fwelcghcxr', 'qegeuhdepa', 'iwldtbhdoa', 'tyseywrmhf', 'atvjrkvuvf', 'kjaxqcdixs', 'booipqglsl', 'gzmqudggeg', 'ljwuwubqbe', 'dntyrgbvcj', 'vutaerdpdb', 'knegbnurpc', 'cdsizkquqr', 'rvvhvmfxsp', 'vapyzqwcfm', 'hfzjfpcbtl', 'vwdkjqcdvw', 'sdwydpadoq', 'yrnyolxmks', 'jqpmmdavad', 'cwrggqwkkt', 'fycbelvhfy', 'kizglrqkql', 'cibgxebxvi', 'lqofklhztp', 'sofiakmtos', 'ugkpvvmifi', 'fmknyjqlot', 'wyuhnkfxsf', 'dniqtxxvvt', 'wveqqqngcg', 'lbpkslluve', 'bagebylreo', 'nkdeztqjdh', 'ozimwzziuc', 'snhtdpomme', 'asnilmcfyj', 'adoosyeeqa', 'mjmcrxgfek', 'yqunawwvns', 'rpuxunrbny', 'cqtonifaye', 'ruwpwiwkhn', 'zoeudfdxex', 'xkasdbnzog', 'okbsvonwuz', 'wtfhqdrheu', 'mtejoxhpve', 'pyhlrmvqeo', 'yfkfqobpfo', 'jpcftmryai', 'lfisugcdly', 'ekxcsuzbno', 'zesvcgdqxi', 'vhnudagndq', 'tdkkxvuaku', 'oihtnqunhw', 'mtvvxczkhr', 'xyarqoomwb', 'fxrimwmspg', 'eonzlhxkvu', 'dwimoyawgz', 'uqveicjhff', 'vtpjplpxpn', 'dtkbidkoii', 'boonhcuvhx', 'exdbbqvkuu', 'pcwkgpaspt', 'zafqxiyvbd', 'gvnxwpbwjc', 'gceqtrkuap', 'zztsuzfqds', 'gruedateko', 'kuwpytddtq', 'qkrsijucjr', 'ushmmyjchy', 'rdfnlrqsso', 'gxiptojeui', 'estihbxhed', 'rqtoplkcke', 'llzvkoqqxa', 'tsdnvoxqwi', 'uklyvpxgwi', 'rbgilkulqd', 'euloolfuwl', 'punslsqbqu', 'xfzerzuald', 'rmtewiowzx', 'lmrmicbokp', 'nucvlqsyrx', 'guwxirzixo', 'mtkwspzfym', 'zwjislitsy', 'ydipvidbgh', 'eloatpxgcn', 'wvadioqzvo', 'kojglxoyiu', 'fxgivhrzya', 'dadlgkcrge', 'iutrdrxvno', 'liybznoxgw', 'zijqidksxv', 'zesmeccoqm', 'spfmkmqcvl', 'meqhqdaeyg', 'xwsakirkvk', 'tgzbddafak', 'ymvocybjxi', 'nteghmvglw', 'jtvylqipay', 'nomxjcqbif', 'ddxxrvbvmy', 'qsmgzktbda', 'psidjoiltf', 'rhwxsvdlev', 'gsqeyboucd', 'ktxrmcukjv', 'tyiitczeba', 'jhlrxpthnq', 'szwjnhefbp', 'bnwildlzgo', 'hozydgxson', 'nbqkxsojbf', 'dgmbynklne', 'unagnwfdqz', 'zxqprqeudp', 'msdooibxbi', 'uxwlpwixza', 'qhbdsilhkp', 'kghslrjohd', 'cvoamlwmel', 'dtqdnfdhml', 'zdcgrebjpw', 'ubunmhoshj', 'uymkokshwf', 'xpwgzupxcv', 'umhxsvrosg', 'fbuyfqzokh', 'maqrucdhkw', 'ocgzcuvvxo', 'hdnmmfpcon', 'ctvpryqiif', 'irtjwyoznz', 'qvvgdgigkl', 'rnssayeube', 'juluyafurl', 'rdnjlptgmn', 'ybxkrcbqhc', 'tpldngmucy', 'jrjpntdinq', 'spbrluklei', 'tsctqbhwwr', 'sdjpnohoqd', 'cutbgqlmor', 'vbnbhuwcyf', 'ktvhxtwaaz', 'xyuclkbtak', 'qkdqmsnhjw', 'ffcteqovxr', 'muikvxcxoe', 'roykmucysd', 'lxnlavydqd', 'odanadcxeh', 'smqntiedbh', 'naqaaenekq', 'iysclpfbro', 'qksmesiphp', 'iiykdjnref', 'sadctebogi', 'tytgnfsswm', 'zpbdisftvc', 'rxbimkvgcd', 'xligxkuwuw', 'wxvmozqffs', 'hktwdbfije', 'ozvesrermu', 'mafhvatkvx', 'isofffbhtz', 'fklnzeiztt', 'mrnpzsajqc', 'qibdfdshri', 'jahcgvsaqs', 'gpurfhrfso', 'vmwnluibqu', 'dtmmbaxmht', 'dzsygmemds', 'wktwiyidxr', 'eowjhbodzl', 'hreorhsszl', 'dxltwchoql', 'vjrldjbidh', 'rbosbadkfl', 'flswfrqwen', 'vgnuflqyqf', 'wsrynhozxi', 'nbqkzpsadr', 'ypqahorkyc', 'zeqougntvo', 'nurldmnnqx', 'bhrlidocpt', 'fzkrzhksap', 'vhonaezxfm', 'ibrwmfkknp', 'irxpdghgze', 'ivhksjcfyp', 'pnlvwyscuw', 'auxarpqvip', 'thpbfidcwq', 'qdzndtdphs', 'ojqkhqxjcl', 'hvmjmuwiii', 'affbbrywzu', 'uliklyqxwa', 'zjfxkudpoj', 'irjiowpahk', 'shemfhmbra', 'crqlumuxsa', 'hfaxixddnm', 'hbfeulgrac', 'wlfokyskhe', 'lsmflamjng', 'hktqilxlom', 'wgripltpjh', 'shmvhpukvf', 'fvlrjfvdrg', 'vailrffvmm', 'tdwqyyjxpa', 'norovsjanr', 'amfszqoppq', 'rprlgekbst', 'ijqztmmzzr', 'epjjbqjreo', 'wnseyxlnih', 'lnciimhsba', 'qouxxrpuiq', 'dkixapnmck', 'lmpoeiakxn', 'myfopukref', 'wyscxjzjtv', 'cpwkbxhwhp', 'dfmeuibguf', 'ubhtyfsmjw', 'nztunaraow', 'toojnizffg', 'evxdzqdrkv', 'rsaysywadh', 'panqblitvh', 'uhxabgrrkm', 'jreibmddyg', 'dcbiyofhpq', 'nfzxdpzhgi', 'rkypnynjzp', 'obchkvpsfm', 'pvatmitglw', 'cuuvejyaiw', 'zwkrpgwaqj', 'xrvwxgueco', 'vhsrzmkcsn', 'tfkpgekmox', 'feegyiodbc', 'ybpkgpkpek', 'caqnjxtnah', 'jolmowmcex', 'jgaclnnsdd', 'hflvkhrslo', 'gkgcwdfamq', 'zxpfbwupip', 'vhjmdywdcq', 'rcrxxpivni', 'jalmoywnkl', 'hfzlenpwus', 'qcyhfqnymc', 'xndkgvnytn', 'iwpkhynrdb', 'wnfyxiewai', 'fjqgnifulk', 'hcbjmwtjmt', 'grmpdrfzrp', 'ehdloonrdl', 'evojysvujl', 'hkzrlgahpj', 'jmfliqghzi', 'fupstsexwm', 'bznwgjzbid', 'ryzqqoeazu', 'jtsrcsdcnm', 'nnushotoxb', 'uxpjkookpv', 'kwadmvgncn', 'eisbzqzokd', 'amngjuoutk', 'tvibskaucr', 'pjmfvlvhjz', 'dsduevbirq', 'qaihqzihyk', 'fsfvluoxfp', 'ljvytbfntn', 'fhvjqsprzr', 'mhutkoqrgq', 'kuqycvyvpy', 'bpckbpbjht', 'doldwfcqbe', 'zszoeyhgdh', 'lkswqvjckj', 'txhnkohxoi', 'hklbdvnpkq', 'weiuwhrkth', 'mbxefjkchp', 'iprsqrdxeh', 'weybprwuio', 'pyzpoxihhf', 'kkoftkfxmq', 'hxxavowuzt', 'ayztspqxyv', 'jywtppiisa', 'wmvrbkaxwu', 'bjhjkmajra', 'jbcxjngxur', 'zliifcvrtu', 'kcyfgeeylc', 'gtlpyhjvql', 'ttspeguvnr', 'ynkkqwvoek', 'ncfgpdaurq', 'euehmoqrjm', 'kbttkscrdu', 'iwjyluvdmh', 'mobihqjkgf', 'gxvgvgnzmq', 'zumutivyqp', 'kpinsstwro', 'pnldxhzudd', 'iljsjvunto', 'nltidwwcla', 'bcqfclabso', 'lvvlokmllm', 'qjsqeuqeds', 'rnmaiaxcmx', 'epwpkpuxld', 'cgihgwvrrq', 'unylibxlxd', 'etcmslmhud', 'nwcuqmvxqh', 'czqdokbysf', 'meogcsqqrw', 'vxjnchqoqk', 'daauqhrblj', 'ubkzvcszfr', 'ovaorplyzl', 'iqttnesmnn', 'guiunsdyek', 'lmiefpumwl', 'sahfsworxt', 'tbryxwcydi', 'tkagrujsqb', 'idtiowuqtq', 'lqppygcxje', 'grhtfeldwy', 'acsrmxoncf', 'efcgscmplf', 'hosyrtivbl', 'rykogrkxpl', 'ztkavlajlq', 'pzelbavxvo', 'sdrqvhnyuh', 'marsqvkyce', 'xrdtdsqzym', 'vpjmztnwdq', 'ebultvhdva', 'bfqleytpds', 'dntjjfyibp', 'vikuimsqja', 'nwvcwfdfvr', 'wnsuxqomgi', 'fkmriomdwz', 'hnbbvlwykg', 'abekevihte', 'cgtpabrrgn', 'jkvhajpyzn', 'rdhdvlpuaq', 'hilijjjmnt', 'xrnrjpnelr', 'vdzgufvkoy', 'wfvskllikq', 'iptiiibmpg', 'zywtifhvvg', 'anzmfvxbek', 'xmrxbmxcmx', 'ylcznfgpjh', 'wpvbqemibr', 'uditrfyyol', 'lruonfaxnp', 'gdnuzdrrvp', 'ekqnepexss', 'diqxzcawta', 'amohrqbacr', 'ypzsrvvyjg', 'cpdteonbnf', 'xgdhtgnyqu', 'rdhmvjrnyg', 'velpaclupu', 'zcuovgrjct', 'rotnrrvibh', 'jjdctewyww', 'ypyrevkmex', 'webhllwxmr', 'umgcoimkzn', 'gfkautsfhp', 'uncroiovfu', 'hnsgataebl', 'kyhfgyonzy', 'eshyphvghu', 'xmpbcukulr', 'rqunnvihhk', 'ucgnyzycco', 'ybdjurzyzm', 'fgmzwpvblf', 'uiymavpzmy', 'mycgaopyaz', 'tydcajqpym', 'jvxygxxtal', 'msggksisbl', 'raiugeauvz', 'mpemdkanep', 'nljwsrjheg', 'nzgvrsubcy', 'qksjzxegzv', 'icmwtlorbp', 'wjmbydqbrp', 'comhxrzpwv', 'dgytuyvtml', 'ldmwrdezvk', 'kgdhymzzup', 'tuarjfrapu', 'iqthuyuanq', 'zrmjhuvylx', 'cxckrdxffm', 'mpwomewpfb', 'aotjmrmtpq', 'epbdoydleu', 'tiqzrpsphp', 'qsyccoeglf', 'csmzsodiwx', 'vqymathvbm', 'hyxkgbjgdv', 'pbocfcqbhv', 'xdmlgkdouy', 'nyjaqqyetm', 'lzdutdmjhc', 'psxxadflxp', 'lfmdwlwyyx', 'gpagqobswy', 'gnfnmwjvsz', 'ixvuexudrp', 'qegxeesenx', 'asnbbnvdqp', 'mprdruuhjr', 'bgknwlqanc', 'aebjaofumk', 'cstdqyyddn', 'azawbnpdde', 'iiykzinboc', 'bgolfculwd', 'cyrffwnepf', 'yedpwnteei', 'bmngyzsqwp', 'vgqbkfwxbg', 'tododybndg', 'hnjzvonqnr', 'fcnjtdjqzg', 'sbirdlmtdp', 'zeiloyrjzu', 'vwhwydacyi', 'qdhjhtadde', 'sddgcdnbzn', 'cmhqyklujn', 'osdgjhblwq', 'ccxxursucs', 'qdhwtitycl', 'exkmkqgxfa', 'kjibmngeju', 'fdsrsgfrop', 'vpblogmsql', 'ncbzsadgnt', 'ooxyknaiqj', 'wgeasebfwe', 'upvcynhxgs', 'sdjfatezel', 'mhxqnepcyh', 'bvqnacqcrn', 'kkqfkbgica', 'ujyzsuhrit', 'einojopsln', 'nwbrcqdllr', 'tfxtfnqvoh', 'jlzungfnwf', 'fnmsmvxoke', 'nqbqoxjnac', 'hpsyurjoji', 'kbayhrtxbj', 'vgaefytbpk', 'ezyclcipvv', 'kasptukoql', 'wnvlviecmi', 'lckvwdgjxi', 'iuvoppzwdv', 'rdmawjootl', 'xaodllwmst', 'nxzpcfyhhu', 'ovisrzxyvy', 'yepsqwehqg', 'bxmcnszhte', 'lmomcbqzqy', 'pifmsghbsq', 'jstclzthlc', 'wxqilvazya', 'ukdnpisipw', 'hwunpjqlej', 'imgpqqvexp', 'onyzecxxmo', 'ilpbbljfin', 'mgrfubngmh', 'bwsycmuobe', 'jtziaozhoa', 'swwdexfvpl', 'ukpsojbnkx', 'cpgintejvw', 'knhxmsggyj', 'tgdgtovwkk', 'pmeoqtlssk', 'tbvjzzkyrb', 'rdzunjxbcl', 'dycrkjqfmq', 'jfhrrqncsu', 'jjkzjygrqb', 'hhsuybyiqp', 'miyjiatnkr', 'wgaxtknfsu', 'cgumhkmrhn', 'jlxecdwhrt', 'jeyzrjrtsy', 'prdcceokpv', 'gwoshvsrqa', 'imtvduwito', 'iwwhrlypac', 'kgvyvzryxf', 'ltsfmzmjra', 'rbyprmyykd', 'oxmnmevvog', 'edgrmwmtov', 'qkbvwqqbqw', 'aissmvcmsl', 'kqvsovfdme', 'lncwlpamvl', 'zogdkznzxj', 'lqaopuciym', 'sfhwkxcrgf', 'uupoedkqjl', 'tqijuqrcsm', 'qvmsgcpjsv', 'dfyoqedowe', 'qlatihctqm', 'owlwfbkaff', 'weqpyzcjas', 'uhexrodwxy', 'vjzvvyefwb', 'grtruantts', 'hquxefjgag', 'jojcqwuekd', 'grlgbhozor', 'syrtgzepuy', 'kdndhrbwyu', 'pdnwaaqxwz', 'qgckgctjyf', 'brrxteeyff', 'uvzdbuysiy', 'zkzjiiogsm', 'bjtmdjcrbs', 'lhvuavcslu', 'ndjghwtnhn', 'hpwlrgjlyx', 'nnoevjstii', 'ojtitqaafx', 'sogrclbdgn', 'fefjdhhmni', 'vfxbubkmov', 'yntjcuxega', 'zeqpcntbny', 'qunrqhzlsp', 'lwwzedelqx', 'nzembstvbl', 'ddrevvwyki', 'eqzwfxqfbe', 'lqsbkarnut', 'gyasdqxinc', 'pobiiepmxc', 'mzkefticdt', 'auzprabjth', 'ccqqfmwxsm', 'obgizpaaxt', 'syrpxxqjze', 'ocmdhyhgwr', 'abfrkkczcq', 'wzxcahbzjj', 'zftxnibwqj', 'zmkyiznsvn', 'mxiknuhdtd', 'aweyetiuzc', 'lkboarwedp', 'mduzbqqzji', 'rukdvyctpa', 'ubtxgkszto', 'symbaniiay', 'ihblftvelx', 'jclpopjiur', 'cllkduntqx', 'pdcwopgtna', 'zfzpctveog', 'aqjhryvcdu', 'jxjmaocagk', 'kimdbankbv', 'hmcqxocepm', 'hquonpzsxa', 'vfrhmgmvla', 'gynpvvjvce', 'pcmphipkry', 'nswfslgdmd', 'bwkldmkakc', 'ksktftudqa', 'jnuupfqvbv', 'lrlthucbry', 'hfdbdjixsb', 'bpxwzonuik', 'teukjbmiou', 'akbupoynyi', 'emzwfplwbc', 'aasiofnfmh', 'ytybuefoqk', 'brnjcdhuba', 'iophzkwoer', 'hafgznlsme', 'tjojzjynnf', 'eiiwydlnjx', 'tbhqlqutrz', 'jfbaanozbv', 'yedkkurths', 'ndwbdhgpdt', 'svcnwlybjg', 'czzdllzasx', 'ixmdqxkueh', 'cgljrmpnqz', 'srzxuntdtu', 'pocqzdgcfi', 'nniyvgrmej', 'egvjawvole', 'eccncvfhfn', 'zeegxviemk', 'vktccxkdgr', 'dvfejvfgvg', 'hnzwasksge', 'uwkhcjohge', 'ztlfstcazn', 'akmmbptbva', 'hctfvfaxps', 'hkvteoviel', 'xlugotktjo', 'uvdnaqeqlk', 'llhaubmluf', 'teqwicgpgk', 'wpawogeyrq']\n"
          ]
        }
      ]
    },
    {
      "cell_type": "markdown",
      "source": [
        "Die erzeugte Pseudonym-Tabelle wird zur Überprüfung ausgegeben."
      ],
      "metadata": {
        "id": "dVa3CrkYKmpx"
      }
    },
    {
      "cell_type": "code",
      "source": [
        "pseudonym_tabelle"
      ],
      "metadata": {
        "colab": {
          "base_uri": "https://localhost:8080/",
          "height": 424
        },
        "id": "LoGOok5I0Nyk",
        "outputId": "e886a500-bff8-40d7-ae2e-d0a18ab6f40c"
      },
      "execution_count": 15,
      "outputs": [
        {
          "output_type": "execute_result",
          "data": {
            "text/plain": [
              "                               patients_ID   pseudonym\n",
              "0     2f114e21-8b95-e9eb-2e9e-4b950b059cfa  qhmymcyecb\n",
              "1     2812f4fc-6aba-0033-728b-7e569bb8adcc  pulorgbhsj\n",
              "2     9b1a203a-6368-49a5-0c79-45c32729bc17  xlwttetujd\n",
              "3     52a250a9-24e4-ec9b-91d6-c38cf1b10fc0  iwgvhzvify\n",
              "4     ad5525c0-fdab-94dc-018f-d7209c72bdef  mhtaqogqtu\n",
              "...                                    ...         ...\n",
              "1045  edab2899-dac4-a19d-59e2-a9bea7b95cab  xlugotktjo\n",
              "1046  d1065043-2a5f-2d0e-1dd0-cb7f31e6d340  uvdnaqeqlk\n",
              "1047  4c523ab1-3255-911a-7eef-3bc3e48b7b05  llhaubmluf\n",
              "1048  8d49cb05-b1c3-b8fe-dc75-e43ad861f074  teqwicgpgk\n",
              "1049  fce5ed5c-e218-4839-a0c5-6ef906e5ae73  wpawogeyrq\n",
              "\n",
              "[1050 rows x 2 columns]"
            ],
            "text/html": [
              "\n",
              "  <div id=\"df-e09c1624-c092-41dd-b68c-38b637990b83\">\n",
              "    <div class=\"colab-df-container\">\n",
              "      <div>\n",
              "<style scoped>\n",
              "    .dataframe tbody tr th:only-of-type {\n",
              "        vertical-align: middle;\n",
              "    }\n",
              "\n",
              "    .dataframe tbody tr th {\n",
              "        vertical-align: top;\n",
              "    }\n",
              "\n",
              "    .dataframe thead th {\n",
              "        text-align: right;\n",
              "    }\n",
              "</style>\n",
              "<table border=\"1\" class=\"dataframe\">\n",
              "  <thead>\n",
              "    <tr style=\"text-align: right;\">\n",
              "      <th></th>\n",
              "      <th>patients_ID</th>\n",
              "      <th>pseudonym</th>\n",
              "    </tr>\n",
              "  </thead>\n",
              "  <tbody>\n",
              "    <tr>\n",
              "      <th>0</th>\n",
              "      <td>2f114e21-8b95-e9eb-2e9e-4b950b059cfa</td>\n",
              "      <td>qhmymcyecb</td>\n",
              "    </tr>\n",
              "    <tr>\n",
              "      <th>1</th>\n",
              "      <td>2812f4fc-6aba-0033-728b-7e569bb8adcc</td>\n",
              "      <td>pulorgbhsj</td>\n",
              "    </tr>\n",
              "    <tr>\n",
              "      <th>2</th>\n",
              "      <td>9b1a203a-6368-49a5-0c79-45c32729bc17</td>\n",
              "      <td>xlwttetujd</td>\n",
              "    </tr>\n",
              "    <tr>\n",
              "      <th>3</th>\n",
              "      <td>52a250a9-24e4-ec9b-91d6-c38cf1b10fc0</td>\n",
              "      <td>iwgvhzvify</td>\n",
              "    </tr>\n",
              "    <tr>\n",
              "      <th>4</th>\n",
              "      <td>ad5525c0-fdab-94dc-018f-d7209c72bdef</td>\n",
              "      <td>mhtaqogqtu</td>\n",
              "    </tr>\n",
              "    <tr>\n",
              "      <th>...</th>\n",
              "      <td>...</td>\n",
              "      <td>...</td>\n",
              "    </tr>\n",
              "    <tr>\n",
              "      <th>1045</th>\n",
              "      <td>edab2899-dac4-a19d-59e2-a9bea7b95cab</td>\n",
              "      <td>xlugotktjo</td>\n",
              "    </tr>\n",
              "    <tr>\n",
              "      <th>1046</th>\n",
              "      <td>d1065043-2a5f-2d0e-1dd0-cb7f31e6d340</td>\n",
              "      <td>uvdnaqeqlk</td>\n",
              "    </tr>\n",
              "    <tr>\n",
              "      <th>1047</th>\n",
              "      <td>4c523ab1-3255-911a-7eef-3bc3e48b7b05</td>\n",
              "      <td>llhaubmluf</td>\n",
              "    </tr>\n",
              "    <tr>\n",
              "      <th>1048</th>\n",
              "      <td>8d49cb05-b1c3-b8fe-dc75-e43ad861f074</td>\n",
              "      <td>teqwicgpgk</td>\n",
              "    </tr>\n",
              "    <tr>\n",
              "      <th>1049</th>\n",
              "      <td>fce5ed5c-e218-4839-a0c5-6ef906e5ae73</td>\n",
              "      <td>wpawogeyrq</td>\n",
              "    </tr>\n",
              "  </tbody>\n",
              "</table>\n",
              "<p>1050 rows × 2 columns</p>\n",
              "</div>\n",
              "      <button class=\"colab-df-convert\" onclick=\"convertToInteractive('df-e09c1624-c092-41dd-b68c-38b637990b83')\"\n",
              "              title=\"Convert this dataframe to an interactive table.\"\n",
              "              style=\"display:none;\">\n",
              "        \n",
              "  <svg xmlns=\"http://www.w3.org/2000/svg\" height=\"24px\"viewBox=\"0 0 24 24\"\n",
              "       width=\"24px\">\n",
              "    <path d=\"M0 0h24v24H0V0z\" fill=\"none\"/>\n",
              "    <path d=\"M18.56 5.44l.94 2.06.94-2.06 2.06-.94-2.06-.94-.94-2.06-.94 2.06-2.06.94zm-11 1L8.5 8.5l.94-2.06 2.06-.94-2.06-.94L8.5 2.5l-.94 2.06-2.06.94zm10 10l.94 2.06.94-2.06 2.06-.94-2.06-.94-.94-2.06-.94 2.06-2.06.94z\"/><path d=\"M17.41 7.96l-1.37-1.37c-.4-.4-.92-.59-1.43-.59-.52 0-1.04.2-1.43.59L10.3 9.45l-7.72 7.72c-.78.78-.78 2.05 0 2.83L4 21.41c.39.39.9.59 1.41.59.51 0 1.02-.2 1.41-.59l7.78-7.78 2.81-2.81c.8-.78.8-2.07 0-2.86zM5.41 20L4 18.59l7.72-7.72 1.47 1.35L5.41 20z\"/>\n",
              "  </svg>\n",
              "      </button>\n",
              "      \n",
              "  <style>\n",
              "    .colab-df-container {\n",
              "      display:flex;\n",
              "      flex-wrap:wrap;\n",
              "      gap: 12px;\n",
              "    }\n",
              "\n",
              "    .colab-df-convert {\n",
              "      background-color: #E8F0FE;\n",
              "      border: none;\n",
              "      border-radius: 50%;\n",
              "      cursor: pointer;\n",
              "      display: none;\n",
              "      fill: #1967D2;\n",
              "      height: 32px;\n",
              "      padding: 0 0 0 0;\n",
              "      width: 32px;\n",
              "    }\n",
              "\n",
              "    .colab-df-convert:hover {\n",
              "      background-color: #E2EBFA;\n",
              "      box-shadow: 0px 1px 2px rgba(60, 64, 67, 0.3), 0px 1px 3px 1px rgba(60, 64, 67, 0.15);\n",
              "      fill: #174EA6;\n",
              "    }\n",
              "\n",
              "    [theme=dark] .colab-df-convert {\n",
              "      background-color: #3B4455;\n",
              "      fill: #D2E3FC;\n",
              "    }\n",
              "\n",
              "    [theme=dark] .colab-df-convert:hover {\n",
              "      background-color: #434B5C;\n",
              "      box-shadow: 0px 1px 3px 1px rgba(0, 0, 0, 0.15);\n",
              "      filter: drop-shadow(0px 1px 2px rgba(0, 0, 0, 0.3));\n",
              "      fill: #FFFFFF;\n",
              "    }\n",
              "  </style>\n",
              "\n",
              "      <script>\n",
              "        const buttonEl =\n",
              "          document.querySelector('#df-e09c1624-c092-41dd-b68c-38b637990b83 button.colab-df-convert');\n",
              "        buttonEl.style.display =\n",
              "          google.colab.kernel.accessAllowed ? 'block' : 'none';\n",
              "\n",
              "        async function convertToInteractive(key) {\n",
              "          const element = document.querySelector('#df-e09c1624-c092-41dd-b68c-38b637990b83');\n",
              "          const dataTable =\n",
              "            await google.colab.kernel.invokeFunction('convertToInteractive',\n",
              "                                                     [key], {});\n",
              "          if (!dataTable) return;\n",
              "\n",
              "          const docLinkHtml = 'Like what you see? Visit the ' +\n",
              "            '<a target=\"_blank\" href=https://colab.research.google.com/notebooks/data_table.ipynb>data table notebook</a>'\n",
              "            + ' to learn more about interactive tables.';\n",
              "          element.innerHTML = '';\n",
              "          dataTable['output_type'] = 'display_data';\n",
              "          await google.colab.output.renderOutput(dataTable, element);\n",
              "          const docLink = document.createElement('div');\n",
              "          docLink.innerHTML = docLinkHtml;\n",
              "          element.appendChild(docLink);\n",
              "        }\n",
              "      </script>\n",
              "    </div>\n",
              "  </div>\n",
              "  "
            ]
          },
          "metadata": {},
          "execution_count": 15
        }
      ]
    },
    {
      "cell_type": "markdown",
      "source": [
        "### Einfügen der Pseudonyme für respektive Patienten-IDs in Faktentabelle"
      ],
      "metadata": {
        "id": "FFmtZOszLNd-"
      }
    },
    {
      "cell_type": "code",
      "source": [
        "DF_of_Facts_Table_pseudonym=DF_of_Facts_Table.merge(pseudonym_tabelle, on= \"patients_ID\")\n",
        "DF_of_Facts_Table_pseudonym.head(5)"
      ],
      "metadata": {
        "colab": {
          "base_uri": "https://localhost:8080/",
          "height": 206
        },
        "id": "a3t33xEV5_UG",
        "outputId": "247fae67-4acb-439d-bf31-e0adadc15773"
      },
      "execution_count": 16,
      "outputs": [
        {
          "output_type": "execute_result",
          "data": {
            "text/plain": [
              "                            patients_ID  conditions_code  procedures_code  \\\n",
              "0  2f114e21-8b95-e9eb-2e9e-4b950b059cfa       36955009.0      261352009.0   \n",
              "1  2f114e21-8b95-e9eb-2e9e-4b950b059cfa      386661006.0      261352009.0   \n",
              "2  2f114e21-8b95-e9eb-2e9e-4b950b059cfa      840539006.0      261352009.0   \n",
              "3  2f114e21-8b95-e9eb-2e9e-4b950b059cfa      840544004.0      261352009.0   \n",
              "4  2812f4fc-6aba-0033-728b-7e569bb8adcc       36955009.0      180325003.0   \n",
              "\n",
              "   devices_code  medications_code MED_CLASSIFICATION COV_GRADING   pseudonym  \n",
              "0           0.0               0.0                  0           1  qhmymcyecb  \n",
              "1           0.0               0.0                  0           1  qhmymcyecb  \n",
              "2           0.0               0.0                  0           1  qhmymcyecb  \n",
              "3           0.0               0.0                  0           1  qhmymcyecb  \n",
              "4           0.0          197604.0                  0           5  pulorgbhsj  "
            ],
            "text/html": [
              "\n",
              "  <div id=\"df-9addf004-0211-4ae5-b779-4a08fee50285\">\n",
              "    <div class=\"colab-df-container\">\n",
              "      <div>\n",
              "<style scoped>\n",
              "    .dataframe tbody tr th:only-of-type {\n",
              "        vertical-align: middle;\n",
              "    }\n",
              "\n",
              "    .dataframe tbody tr th {\n",
              "        vertical-align: top;\n",
              "    }\n",
              "\n",
              "    .dataframe thead th {\n",
              "        text-align: right;\n",
              "    }\n",
              "</style>\n",
              "<table border=\"1\" class=\"dataframe\">\n",
              "  <thead>\n",
              "    <tr style=\"text-align: right;\">\n",
              "      <th></th>\n",
              "      <th>patients_ID</th>\n",
              "      <th>conditions_code</th>\n",
              "      <th>procedures_code</th>\n",
              "      <th>devices_code</th>\n",
              "      <th>medications_code</th>\n",
              "      <th>MED_CLASSIFICATION</th>\n",
              "      <th>COV_GRADING</th>\n",
              "      <th>pseudonym</th>\n",
              "    </tr>\n",
              "  </thead>\n",
              "  <tbody>\n",
              "    <tr>\n",
              "      <th>0</th>\n",
              "      <td>2f114e21-8b95-e9eb-2e9e-4b950b059cfa</td>\n",
              "      <td>36955009.0</td>\n",
              "      <td>261352009.0</td>\n",
              "      <td>0.0</td>\n",
              "      <td>0.0</td>\n",
              "      <td>0</td>\n",
              "      <td>1</td>\n",
              "      <td>qhmymcyecb</td>\n",
              "    </tr>\n",
              "    <tr>\n",
              "      <th>1</th>\n",
              "      <td>2f114e21-8b95-e9eb-2e9e-4b950b059cfa</td>\n",
              "      <td>386661006.0</td>\n",
              "      <td>261352009.0</td>\n",
              "      <td>0.0</td>\n",
              "      <td>0.0</td>\n",
              "      <td>0</td>\n",
              "      <td>1</td>\n",
              "      <td>qhmymcyecb</td>\n",
              "    </tr>\n",
              "    <tr>\n",
              "      <th>2</th>\n",
              "      <td>2f114e21-8b95-e9eb-2e9e-4b950b059cfa</td>\n",
              "      <td>840539006.0</td>\n",
              "      <td>261352009.0</td>\n",
              "      <td>0.0</td>\n",
              "      <td>0.0</td>\n",
              "      <td>0</td>\n",
              "      <td>1</td>\n",
              "      <td>qhmymcyecb</td>\n",
              "    </tr>\n",
              "    <tr>\n",
              "      <th>3</th>\n",
              "      <td>2f114e21-8b95-e9eb-2e9e-4b950b059cfa</td>\n",
              "      <td>840544004.0</td>\n",
              "      <td>261352009.0</td>\n",
              "      <td>0.0</td>\n",
              "      <td>0.0</td>\n",
              "      <td>0</td>\n",
              "      <td>1</td>\n",
              "      <td>qhmymcyecb</td>\n",
              "    </tr>\n",
              "    <tr>\n",
              "      <th>4</th>\n",
              "      <td>2812f4fc-6aba-0033-728b-7e569bb8adcc</td>\n",
              "      <td>36955009.0</td>\n",
              "      <td>180325003.0</td>\n",
              "      <td>0.0</td>\n",
              "      <td>197604.0</td>\n",
              "      <td>0</td>\n",
              "      <td>5</td>\n",
              "      <td>pulorgbhsj</td>\n",
              "    </tr>\n",
              "  </tbody>\n",
              "</table>\n",
              "</div>\n",
              "      <button class=\"colab-df-convert\" onclick=\"convertToInteractive('df-9addf004-0211-4ae5-b779-4a08fee50285')\"\n",
              "              title=\"Convert this dataframe to an interactive table.\"\n",
              "              style=\"display:none;\">\n",
              "        \n",
              "  <svg xmlns=\"http://www.w3.org/2000/svg\" height=\"24px\"viewBox=\"0 0 24 24\"\n",
              "       width=\"24px\">\n",
              "    <path d=\"M0 0h24v24H0V0z\" fill=\"none\"/>\n",
              "    <path d=\"M18.56 5.44l.94 2.06.94-2.06 2.06-.94-2.06-.94-.94-2.06-.94 2.06-2.06.94zm-11 1L8.5 8.5l.94-2.06 2.06-.94-2.06-.94L8.5 2.5l-.94 2.06-2.06.94zm10 10l.94 2.06.94-2.06 2.06-.94-2.06-.94-.94-2.06-.94 2.06-2.06.94z\"/><path d=\"M17.41 7.96l-1.37-1.37c-.4-.4-.92-.59-1.43-.59-.52 0-1.04.2-1.43.59L10.3 9.45l-7.72 7.72c-.78.78-.78 2.05 0 2.83L4 21.41c.39.39.9.59 1.41.59.51 0 1.02-.2 1.41-.59l7.78-7.78 2.81-2.81c.8-.78.8-2.07 0-2.86zM5.41 20L4 18.59l7.72-7.72 1.47 1.35L5.41 20z\"/>\n",
              "  </svg>\n",
              "      </button>\n",
              "      \n",
              "  <style>\n",
              "    .colab-df-container {\n",
              "      display:flex;\n",
              "      flex-wrap:wrap;\n",
              "      gap: 12px;\n",
              "    }\n",
              "\n",
              "    .colab-df-convert {\n",
              "      background-color: #E8F0FE;\n",
              "      border: none;\n",
              "      border-radius: 50%;\n",
              "      cursor: pointer;\n",
              "      display: none;\n",
              "      fill: #1967D2;\n",
              "      height: 32px;\n",
              "      padding: 0 0 0 0;\n",
              "      width: 32px;\n",
              "    }\n",
              "\n",
              "    .colab-df-convert:hover {\n",
              "      background-color: #E2EBFA;\n",
              "      box-shadow: 0px 1px 2px rgba(60, 64, 67, 0.3), 0px 1px 3px 1px rgba(60, 64, 67, 0.15);\n",
              "      fill: #174EA6;\n",
              "    }\n",
              "\n",
              "    [theme=dark] .colab-df-convert {\n",
              "      background-color: #3B4455;\n",
              "      fill: #D2E3FC;\n",
              "    }\n",
              "\n",
              "    [theme=dark] .colab-df-convert:hover {\n",
              "      background-color: #434B5C;\n",
              "      box-shadow: 0px 1px 3px 1px rgba(0, 0, 0, 0.15);\n",
              "      filter: drop-shadow(0px 1px 2px rgba(0, 0, 0, 0.3));\n",
              "      fill: #FFFFFF;\n",
              "    }\n",
              "  </style>\n",
              "\n",
              "      <script>\n",
              "        const buttonEl =\n",
              "          document.querySelector('#df-9addf004-0211-4ae5-b779-4a08fee50285 button.colab-df-convert');\n",
              "        buttonEl.style.display =\n",
              "          google.colab.kernel.accessAllowed ? 'block' : 'none';\n",
              "\n",
              "        async function convertToInteractive(key) {\n",
              "          const element = document.querySelector('#df-9addf004-0211-4ae5-b779-4a08fee50285');\n",
              "          const dataTable =\n",
              "            await google.colab.kernel.invokeFunction('convertToInteractive',\n",
              "                                                     [key], {});\n",
              "          if (!dataTable) return;\n",
              "\n",
              "          const docLinkHtml = 'Like what you see? Visit the ' +\n",
              "            '<a target=\"_blank\" href=https://colab.research.google.com/notebooks/data_table.ipynb>data table notebook</a>'\n",
              "            + ' to learn more about interactive tables.';\n",
              "          element.innerHTML = '';\n",
              "          dataTable['output_type'] = 'display_data';\n",
              "          await google.colab.output.renderOutput(dataTable, element);\n",
              "          const docLink = document.createElement('div');\n",
              "          docLink.innerHTML = docLinkHtml;\n",
              "          element.appendChild(docLink);\n",
              "        }\n",
              "      </script>\n",
              "    </div>\n",
              "  </div>\n",
              "  "
            ]
          },
          "metadata": {},
          "execution_count": 16
        }
      ]
    },
    {
      "cell_type": "markdown",
      "source": [
        "### Patienten-ID in der Dimensionstabelle \"d_patients\" mit Pseudonym versehen"
      ],
      "metadata": {
        "id": "cVYu6LMHsim3"
      }
    },
    {
      "cell_type": "code",
      "source": [
        "from sqlalchemy import false\n",
        "conn = sqlite3.connect(DB_DWH_PATH)\n",
        "\n",
        "cursor = conn.cursor()\n",
        "cursor.execute(\"SELECT * FROM d_patients\")\n",
        "DF_of_d_patients = DataFrame(cursor.fetchall())\n",
        "DF_of_d_patients.columns = ['patients_ID', 'PATIENTS_BIRTHDATE', 'PATIENTS_DEATHDATE', 'PATIENTS_GENDER']\n",
        "\n",
        "DF_of_d_patients_with_pseudonym = DF_of_d_patients.merge(pseudonym_tabelle, on= \"patients_ID\")\n",
        "\n",
        "DF_of_d_patients_for_DWH = sqldf(\"SELECT pseudonym AS PATIENTS_ID, PATIENTS_BIRTHDATE, PATIENTS_DEATHDATE,PATIENTS_GENDER FROM DF_of_d_patients_with_pseudonym\")\n",
        "DF_of_d_patients_for_DWH\n",
        "\n",
        "cursor.execute(\"DELETE FROM d_patients\")\n",
        "\n",
        "conn.commit()\n",
        "conn.close()"
      ],
      "metadata": {
        "id": "LPFWc82-siBf"
      },
      "execution_count": 18,
      "outputs": []
    },
    {
      "cell_type": "markdown",
      "source": [
        "### Einlesen und Sichern der benötigten Daten für die ANTICOVIS Faktentabelle und der Dimensionstabelle \"d_patients\""
      ],
      "metadata": {
        "id": "bCtdiZkX6iFO"
      }
    },
    {
      "cell_type": "code",
      "source": [
        "DF_of_Facts_Table_ohne_patientenid = sqldf(\"\"\"SELECT pseudonym AS patients_ID, conditions_code,procedures_code, devices_code, MED_CLASSIFICATION, COV_GRADING FROM DF_of_Facts_Table_pseudonym\"\"\")\n",
        "#DF_of_Facts_Table_ohne_patientenid\n",
        "\n",
        "conn = sqlite3.connect(DB_DWH_PATH)\n",
        "\n",
        "DF_of_Facts_Table_ohne_patientenid.to_sql('F_ANTICOVIS',conn, if_exists = 'replace', index = False)\n",
        "DF_of_d_patients_for_DWH.to_sql('d_patients',conn, if_exists = 'replace', index = False)\n",
        "conn.commit()\n",
        "conn.close()"
      ],
      "metadata": {
        "id": "rKAw5Rbr4xse"
      },
      "execution_count": 19,
      "outputs": []
    },
    {
      "cell_type": "markdown",
      "source": [
        "### **Überprüfen der Existenz gewünschter DWH-Tabellen**"
      ],
      "metadata": {
        "id": "QX-KXn2J5Mde"
      }
    },
    {
      "cell_type": "code",
      "source": [
        "conn = sqlite3.connect(DB_DWH_PATH)\n",
        "cursor = conn.cursor()\n",
        "cursor.execute(\"SELECT name FROM sqlite_master WHERE type='table';\")\n",
        "#cursor.execute(\"SELECT * FROM d_patients\")\n",
        "print(cursor.fetchall())"
      ],
      "metadata": {
        "colab": {
          "base_uri": "https://localhost:8080/"
        },
        "id": "PFFb3nDc48WA",
        "outputId": "81838c69-a1c6-4bc8-88a3-c8a6852f2897"
      },
      "execution_count": 20,
      "outputs": [
        {
          "output_type": "stream",
          "name": "stdout",
          "text": [
            "[('d_conditions',), ('d_devices',), ('d_medications',), ('d_procedures',), ('F_ANTICOVIS',), ('d_patients',)]\n"
          ]
        }
      ]
    }
  ]
}