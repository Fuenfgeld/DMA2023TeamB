{
  "nbformat": 4,
  "nbformat_minor": 0,
  "metadata": {
    "colab": {
      "provenance": [],
      "authorship_tag": "ABX9TyM3jcnnLvlzHoqlaOnu0qzR",
      "include_colab_link": true
    },
    "kernelspec": {
      "name": "python3",
      "display_name": "Python 3"
    },
    "language_info": {
      "name": "python"
    }
  },
  "cells": [
    {
      "cell_type": "markdown",
      "metadata": {
        "id": "view-in-github",
        "colab_type": "text"
      },
      "source": [
        "<a href=\"https://colab.research.google.com/github/Fuenfgeld/DMA2023TeamB/blob/main/Demographie_Analyse_ETL.ipynb\" target=\"_parent\"><img src=\"https://colab.research.google.com/assets/colab-badge.svg\" alt=\"Open In Colab\"/></a>"
      ]
    },
    {
      "cell_type": "markdown",
      "source": [
        "Das hier ist ein Test"
      ],
      "metadata": {
        "id": "VPU2ZgsIo77_"
      }
    },
    {
      "cell_type": "code",
      "execution_count": 1,
      "metadata": {
        "colab": {
          "base_uri": "https://localhost:8080/"
        },
        "id": "QEbsyQxziB1m",
        "outputId": "818e37c6-65d3-4ee1-d3bf-a30e0e9da721"
      },
      "outputs": [
        {
          "output_type": "stream",
          "name": "stdout",
          "text": [
            "Looking in indexes: https://pypi.org/simple, https://us-python.pkg.dev/colab-wheels/public/simple/\n",
            "Requirement already satisfied: ipython-sql in /usr/local/lib/python3.8/dist-packages (0.3.9)\n",
            "Requirement already satisfied: sqlalchemy>=0.6.7 in /usr/local/lib/python3.8/dist-packages (from ipython-sql) (1.4.46)\n",
            "Requirement already satisfied: ipython-genutils>=0.1.0 in /usr/local/lib/python3.8/dist-packages (from ipython-sql) (0.2.0)\n",
            "Requirement already satisfied: sqlparse in /usr/local/lib/python3.8/dist-packages (from ipython-sql) (0.4.3)\n",
            "Requirement already satisfied: prettytable in /usr/local/lib/python3.8/dist-packages (from ipython-sql) (3.6.0)\n",
            "Requirement already satisfied: ipython>=1.0 in /usr/local/lib/python3.8/dist-packages (from ipython-sql) (7.9.0)\n",
            "Requirement already satisfied: six in /usr/local/lib/python3.8/dist-packages (from ipython-sql) (1.15.0)\n",
            "Collecting jedi>=0.10\n",
            "  Downloading jedi-0.18.2-py2.py3-none-any.whl (1.6 MB)\n",
            "\u001b[2K     \u001b[90m━━━━━━━━━━━━━━━━━━━━━━━━━━━━━━━━━━━━━━━━\u001b[0m \u001b[32m1.6/1.6 MB\u001b[0m \u001b[31m18.6 MB/s\u001b[0m eta \u001b[36m0:00:00\u001b[0m\n",
            "\u001b[?25hRequirement already satisfied: pickleshare in /usr/local/lib/python3.8/dist-packages (from ipython>=1.0->ipython-sql) (0.7.5)\n",
            "Requirement already satisfied: prompt-toolkit<2.1.0,>=2.0.0 in /usr/local/lib/python3.8/dist-packages (from ipython>=1.0->ipython-sql) (2.0.10)\n",
            "Requirement already satisfied: setuptools>=18.5 in /usr/local/lib/python3.8/dist-packages (from ipython>=1.0->ipython-sql) (57.4.0)\n",
            "Requirement already satisfied: traitlets>=4.2 in /usr/local/lib/python3.8/dist-packages (from ipython>=1.0->ipython-sql) (5.7.1)\n",
            "Requirement already satisfied: backcall in /usr/local/lib/python3.8/dist-packages (from ipython>=1.0->ipython-sql) (0.2.0)\n",
            "Requirement already satisfied: pygments in /usr/local/lib/python3.8/dist-packages (from ipython>=1.0->ipython-sql) (2.6.1)\n",
            "Requirement already satisfied: decorator in /usr/local/lib/python3.8/dist-packages (from ipython>=1.0->ipython-sql) (4.4.2)\n",
            "Requirement already satisfied: pexpect in /usr/local/lib/python3.8/dist-packages (from ipython>=1.0->ipython-sql) (4.8.0)\n",
            "Requirement already satisfied: greenlet!=0.4.17 in /usr/local/lib/python3.8/dist-packages (from sqlalchemy>=0.6.7->ipython-sql) (2.0.1)\n",
            "Requirement already satisfied: wcwidth in /usr/local/lib/python3.8/dist-packages (from prettytable->ipython-sql) (0.2.5)\n",
            "Requirement already satisfied: parso<0.9.0,>=0.8.0 in /usr/local/lib/python3.8/dist-packages (from jedi>=0.10->ipython>=1.0->ipython-sql) (0.8.3)\n",
            "Requirement already satisfied: ptyprocess>=0.5 in /usr/local/lib/python3.8/dist-packages (from pexpect->ipython>=1.0->ipython-sql) (0.7.0)\n",
            "Installing collected packages: jedi\n",
            "Successfully installed jedi-0.18.2\n",
            "Looking in indexes: https://pypi.org/simple, https://us-python.pkg.dev/colab-wheels/public/simple/\n",
            "Requirement already satisfied: sqlalchemy in /usr/local/lib/python3.8/dist-packages (1.4.46)\n",
            "Requirement already satisfied: greenlet!=0.4.17 in /usr/local/lib/python3.8/dist-packages (from sqlalchemy) (2.0.1)\n",
            "Looking in indexes: https://pypi.org/simple, https://us-python.pkg.dev/colab-wheels/public/simple/\n",
            "Collecting petl\n",
            "  Downloading petl-1.7.12.tar.gz (409 kB)\n",
            "\u001b[2K     \u001b[90m━━━━━━━━━━━━━━━━━━━━━━━━━━━━━━━━━━━━━━━\u001b[0m \u001b[32m409.6/409.6 KB\u001b[0m \u001b[31m6.7 MB/s\u001b[0m eta \u001b[36m0:00:00\u001b[0m\n",
            "\u001b[?25h  Installing build dependencies ... \u001b[?25l\u001b[?25hdone\n",
            "  Getting requirements to build wheel ... \u001b[?25l\u001b[?25hdone\n",
            "  Preparing metadata (pyproject.toml) ... \u001b[?25l\u001b[?25hdone\n",
            "Building wheels for collected packages: petl\n",
            "  Building wheel for petl (pyproject.toml) ... \u001b[?25l\u001b[?25hdone\n",
            "  Created wheel for petl: filename=petl-1.7.12-py3-none-any.whl size=226970 sha256=f7202faa4b3731c7f770c756ed2a577a9b0ca0de1a3e20732c188dbcd74459b6\n",
            "  Stored in directory: /root/.cache/pip/wheels/b0/20/a5/96748ad301276597fbd3df013975828fe5978edc4587f79514\n",
            "Successfully built petl\n",
            "Installing collected packages: petl\n",
            "Successfully installed petl-1.7.12\n"
          ]
        }
      ],
      "source": [
        "# Ggf. fehlende Pakete  installieren\n",
        "!pip install ipython-sql\n",
        "!pip install sqlalchemy\n",
        "!pip install petl"
      ]
    },
    {
      "cell_type": "code",
      "source": [
        "from google.colab import drive\n",
        "import sqlalchemy as sqla\n",
        "import pandas as pd\n",
        "import petl as etl\n",
        "import csv\n",
        "import sys\n",
        "import datetime\n",
        "import matplotlib.pyplot as plt\n",
        "%load_ext sql"
      ],
      "metadata": {
        "id": "77-eFC0HiDip",
        "colab": {
          "base_uri": "https://localhost:8080/"
        },
        "outputId": "583d4474-6f92-453a-ac5d-020b3947609d"
      },
      "execution_count": 57,
      "outputs": [
        {
          "output_type": "stream",
          "name": "stdout",
          "text": [
            "The sql extension is already loaded. To reload it, use:\n",
            "  %reload_ext sql\n"
          ]
        }
      ]
    },
    {
      "cell_type": "code",
      "source": [
        "# Google Drive einbinden\n",
        "drive.mount('/content/gdrive')"
      ],
      "metadata": {
        "colab": {
          "base_uri": "https://localhost:8080/"
        },
        "id": "7BEzusEIiGQB",
        "outputId": "9b529f7e-c82c-43e0-a0b4-2df7f6118a56"
      },
      "execution_count": 3,
      "outputs": [
        {
          "output_type": "stream",
          "name": "stdout",
          "text": [
            "Mounted at /content/gdrive\n"
          ]
        }
      ]
    },
    {
      "cell_type": "code",
      "source": [
        "base_url_staging = \"/content/gdrive/MyDrive/Gruppe_B/DB_File\"\n"
      ],
      "metadata": {
        "id": "VnDoGEt2iaUW"
      },
      "execution_count": 18,
      "outputs": []
    },
    {
      "cell_type": "code",
      "source": [
        "#db_path_staging        =  \"/content/gdrive/MyDrive/Gruppe_B/DB_File/staging.db\"\n",
        "#db_path_source_covid  = base_url_staging + \"source_covid19_test.db\"\n",
        "db_path_source_covid  =\"/content/gdrive/MyDrive/Gruppe_B/DB_File/source_covid19_test.db\"\n",
        "\n",
        "\n",
        "#db_url_staging        = \"sqlite:///\" + db_path_staging\n",
        "db_url_source_covid  = \"sqlite:///\" + db_path_source_covid\n",
        "\n",
        "\n",
        "#db_staging            = sqla.create_engine(db_url_staging)\n",
        "db_source_covid         = sqla.create_engine(db_url_source_covid)\n",
        "\n",
        "\n",
        "#%sql $db_url_staging\n",
        "%sql $db_url_source_covid\n"
      ],
      "metadata": {
        "colab": {
          "base_uri": "https://localhost:8080/",
          "height": 36
        },
        "id": "IbbO-1JgiiLv",
        "outputId": "84343fb3-6c40-4e25-9876-5c0d0629ff46"
      },
      "execution_count": 19,
      "outputs": [
        {
          "output_type": "execute_result",
          "data": {
            "text/plain": [
              "'Connected: @/content/gdrive/MyDrive/Gruppe_B/DB_File/source_covid19_test.db'"
            ],
            "application/vnd.google.colaboratory.intrinsic+json": {
              "type": "string"
            }
          },
          "metadata": {},
          "execution_count": 19
        }
      ]
    },
    {
      "cell_type": "code",
      "source": [
        "%%sql $db_url_source_covid\n",
        "ATTACH DATABASE '{db_path_source_covid}' AS covid;\n"
      ],
      "metadata": {
        "colab": {
          "base_uri": "https://localhost:8080/"
        },
        "id": "lDZ7mZdjmbp7",
        "outputId": "5d35cb57-8d4c-4a76-9fa5-2e6ef14966d9"
      },
      "execution_count": 20,
      "outputs": [
        {
          "output_type": "stream",
          "name": "stdout",
          "text": [
            "(sqlite3.OperationalError) database covid is already in use\n",
            "[SQL: ATTACH DATABASE '{db_path_source_covid}' AS covid;]\n",
            "(Background on this error at: https://sqlalche.me/e/14/e3q8)\n"
          ]
        }
      ]
    },
    {
      "cell_type": "code",
      "source": [
        "%%sql $db_url_source_covid\n",
        "\n",
        "SELECT COUNT(DISTINCT Id) FROM patients\n",
        "\n"
      ],
      "metadata": {
        "colab": {
          "base_uri": "https://localhost:8080/",
          "height": 78
        },
        "id": "iUaIYvQAuU08",
        "outputId": "a889b383-69bb-448a-f1ab-d10407e761bb"
      },
      "execution_count": 33,
      "outputs": [
        {
          "output_type": "stream",
          "name": "stdout",
          "text": [
            "Done.\n"
          ]
        },
        {
          "output_type": "execute_result",
          "data": {
            "text/plain": [
              "[(1050,)]"
            ],
            "text/html": [
              "<table>\n",
              "    <thead>\n",
              "        <tr>\n",
              "            <th>COUNT(DISTINCT Id)</th>\n",
              "        </tr>\n",
              "    </thead>\n",
              "    <tbody>\n",
              "        <tr>\n",
              "            <td>1050</td>\n",
              "        </tr>\n",
              "    </tbody>\n",
              "</table>"
            ]
          },
          "metadata": {},
          "execution_count": 33
        }
      ]
    },
    {
      "cell_type": "code",
      "source": [
        "%%sql $db_url_source_covid\n",
        "\n",
        "SELECT COUNT(Id) FROM patients\n",
        "WHERE GENDER = 'F';"
      ],
      "metadata": {
        "colab": {
          "base_uri": "https://localhost:8080/",
          "height": 78
        },
        "id": "8b9REAn4ZxOS",
        "outputId": "0c302af5-be7f-46b4-f606-83b31920fd1a"
      },
      "execution_count": 37,
      "outputs": [
        {
          "output_type": "stream",
          "name": "stdout",
          "text": [
            "Done.\n"
          ]
        },
        {
          "output_type": "execute_result",
          "data": {
            "text/plain": [
              "[(522,)]"
            ],
            "text/html": [
              "<table>\n",
              "    <thead>\n",
              "        <tr>\n",
              "            <th>COUNT(Id)</th>\n",
              "        </tr>\n",
              "    </thead>\n",
              "    <tbody>\n",
              "        <tr>\n",
              "            <td>522</td>\n",
              "        </tr>\n",
              "    </tbody>\n",
              "</table>"
            ]
          },
          "metadata": {},
          "execution_count": 37
        }
      ]
    },
    {
      "cell_type": "code",
      "source": [
        "%%sql $db_url_source_covid\n",
        "\n",
        "SELECT COUNT(Id) FROM patients\n",
        "WHERE GENDER = 'M';"
      ],
      "metadata": {
        "colab": {
          "base_uri": "https://localhost:8080/",
          "height": 78
        },
        "id": "EilyAjDxa9gC",
        "outputId": "d960903b-07dd-413b-82ae-ec55444dd1a5"
      },
      "execution_count": 38,
      "outputs": [
        {
          "output_type": "stream",
          "name": "stdout",
          "text": [
            "Done.\n"
          ]
        },
        {
          "output_type": "execute_result",
          "data": {
            "text/plain": [
              "[(528,)]"
            ],
            "text/html": [
              "<table>\n",
              "    <thead>\n",
              "        <tr>\n",
              "            <th>COUNT(Id)</th>\n",
              "        </tr>\n",
              "    </thead>\n",
              "    <tbody>\n",
              "        <tr>\n",
              "            <td>528</td>\n",
              "        </tr>\n",
              "    </tbody>\n",
              "</table>"
            ]
          },
          "metadata": {},
          "execution_count": 38
        }
      ]
    },
    {
      "cell_type": "code",
      "source": [
        "# import the required libraries\n",
        "import matplotlib.pyplot as plt\n",
        "import pandas as pd\n",
        "\n",
        "# run the SQL queries to get the number of male and female patients\n",
        "query_male = \"\"\"\n",
        "SELECT COUNT(Id) as count_male\n",
        "FROM patients\n",
        "WHERE GENDER = 'M'\n",
        "\"\"\"\n",
        "\n",
        "query_female = \"\"\"\n",
        "SELECT COUNT(Id) as count_female\n",
        "FROM patients\n",
        "WHERE GENDER = 'F'\n",
        "\"\"\"\n",
        "\n",
        "# execute the queries and get the results\n",
        "result_male = pd.read_sql_query(query_male, db_source_covid)\n",
        "result_female = pd.read_sql_query(query_female, db_source_covid)\n",
        "\n",
        "# plot the results\n",
        "fig, ax = plt.subplots()\n",
        "\n",
        "ax.bar(['Male', 'Female'], [result_male['count_male'][0], result_female['count_female'][0]], color=['blue', 'red'])\n",
        "ax.set_ylabel('Number of patients')\n",
        "\n",
        "plt.show()"
      ],
      "metadata": {
        "colab": {
          "base_uri": "https://localhost:8080/",
          "height": 265
        },
        "id": "nQ3-Md5_dL5X",
        "outputId": "d064d1ea-879c-4dcc-e3fc-b22f31fea855"
      },
      "execution_count": 48,
      "outputs": [
        {
          "output_type": "display_data",
          "data": {
            "text/plain": [
              "<Figure size 432x288 with 1 Axes>"
            ],
            "image/png": "[encoded data removed]"
          },
          "metadata": {
            "needs_background": "light"
          }
        }
      ]
    },
    {
      "cell_type": "code",
      "source": [
        "result = %sql SELECT COUNT(Id) FROM patients WHERE DEATHDATE IS NOT NULL\n",
        "print(\"Number of patients who died: \", result[0][0])\n",
        "\n"
      ],
      "metadata": {
        "colab": {
          "base_uri": "https://localhost:8080/"
        },
        "id": "3ncKBmrzbJEI",
        "outputId": "5b0d118f-3900-4227-d12c-8af2423a696b"
      },
      "execution_count": 49,
      "outputs": [
        {
          "output_type": "stream",
          "name": "stdout",
          "text": [
            " * sqlite:////content/gdrive/MyDrive/Gruppe_B/DB_File/source_covid19_test.db\n",
            "   sqlite:////content/gdrive/MyDrive/Gruppe_B/DB_Filesource_covid19_test.db\n",
            "Done.\n",
            "Number of patients who died:  1050\n"
          ]
        }
      ]
    },
    {
      "cell_type": "code",
      "source": [
        "%%sql $db_url_source_covid\n",
        "\n",
        "PRAGMA table_info(patients);\n"
      ],
      "metadata": {
        "colab": {
          "base_uri": "https://localhost:8080/",
          "height": 581
        },
        "id": "GLsU0EcreC1T",
        "outputId": "bf31aaf1-a031-4d94-9404-61347d9fcd6a"
      },
      "execution_count": 51,
      "outputs": [
        {
          "output_type": "stream",
          "name": "stdout",
          "text": [
            "Done.\n"
          ]
        },
        {
          "output_type": "execute_result",
          "data": {
            "text/plain": [
              "[(0, 'Id', 'STRING', 0, None, 1),\n",
              " (1, 'BIRTHDATE', 'DATE', 0, None, 0),\n",
              " (2, 'DEATHDATE', 'DATE', 0, None, 0),\n",
              " (3, 'SSN', 'STRING', 0, None, 0),\n",
              " (4, 'DRIVERS', 'STRING', 0, None, 0),\n",
              " (5, 'PASSPORT', 'STRING', 0, None, 0),\n",
              " (6, 'PREFIX', 'STRING', 0, None, 0),\n",
              " (7, 'FIRST', 'STRING', 0, None, 0),\n",
              " (8, 'LAST', 'STRING', 0, None, 0),\n",
              " (9, 'SUFFIX', 'STRING', 0, None, 0),\n",
              " (10, 'MAIDEN', 'STRING', 0, None, 0),\n",
              " (11, 'MARITAL', 'STRING', 0, None, 0),\n",
              " (12, 'RACE', 'STRING', 0, None, 0),\n",
              " (13, 'ETHNICITY', 'STRING', 0, None, 0),\n",
              " (14, 'GENDER', 'STRING', 0, None, 0),\n",
              " (15, 'BIRTHPLACE', 'STRING', 0, None, 0),\n",
              " (16, 'ADDRESS', 'STRING', 0, None, 0),\n",
              " (17, 'CITY', 'STRING', 0, None, 0),\n",
              " (18, 'STATE', 'STRING', 0, None, 0),\n",
              " (19, 'COUNTRY', 'STRING', 0, None, 0),\n",
              " (20, 'ZIP', 'STRING', 0, None, 0),\n",
              " (21, 'LAT', 'INTEGER', 0, None, 0),\n",
              " (22, 'LON', 'INTEGER', 0, None, 0),\n",
              " (23, 'HEALTHCARE_EXPENSES', 'INTEGER', 0, None, 0),\n",
              " (24, 'HEALTHCARE_COVERAGE', 'INTEGER', 0, None, 0)]"
            ],
            "text/html": [
              "<table>\n",
              "    <thead>\n",
              "        <tr>\n",
              "            <th>cid</th>\n",
              "            <th>name</th>\n",
              "            <th>type</th>\n",
              "            <th>notnull</th>\n",
              "            <th>dflt_value</th>\n",
              "            <th>pk</th>\n",
              "        </tr>\n",
              "    </thead>\n",
              "    <tbody>\n",
              "        <tr>\n",
              "            <td>0</td>\n",
              "            <td>Id</td>\n",
              "            <td>STRING</td>\n",
              "            <td>0</td>\n",
              "            <td>None</td>\n",
              "            <td>1</td>\n",
              "        </tr>\n",
              "        <tr>\n",
              "            <td>1</td>\n",
              "            <td>BIRTHDATE</td>\n",
              "            <td>DATE</td>\n",
              "            <td>0</td>\n",
              "            <td>None</td>\n",
              "            <td>0</td>\n",
              "        </tr>\n",
              "        <tr>\n",
              "            <td>2</td>\n",
              "            <td>DEATHDATE</td>\n",
              "            <td>DATE</td>\n",
              "            <td>0</td>\n",
              "            <td>None</td>\n",
              "            <td>0</td>\n",
              "        </tr>\n",
              "        <tr>\n",
              "            <td>3</td>\n",
              "            <td>SSN</td>\n",
              "            <td>STRING</td>\n",
              "            <td>0</td>\n",
              "            <td>None</td>\n",
              "            <td>0</td>\n",
              "        </tr>\n",
              "        <tr>\n",
              "            <td>4</td>\n",
              "            <td>DRIVERS</td>\n",
              "            <td>STRING</td>\n",
              "            <td>0</td>\n",
              "            <td>None</td>\n",
              "            <td>0</td>\n",
              "        </tr>\n",
              "        <tr>\n",
              "            <td>5</td>\n",
              "            <td>PASSPORT</td>\n",
              "            <td>STRING</td>\n",
              "            <td>0</td>\n",
              "            <td>None</td>\n",
              "            <td>0</td>\n",
              "        </tr>\n",
              "        <tr>\n",
              "            <td>6</td>\n",
              "            <td>PREFIX</td>\n",
              "            <td>STRING</td>\n",
              "            <td>0</td>\n",
              "            <td>None</td>\n",
              "            <td>0</td>\n",
              "        </tr>\n",
              "        <tr>\n",
              "            <td>7</td>\n",
              "            <td>FIRST</td>\n",
              "            <td>STRING</td>\n",
              "            <td>0</td>\n",
              "            <td>None</td>\n",
              "            <td>0</td>\n",
              "        </tr>\n",
              "        <tr>\n",
              "            <td>8</td>\n",
              "            <td>LAST</td>\n",
              "            <td>STRING</td>\n",
              "            <td>0</td>\n",
              "            <td>None</td>\n",
              "            <td>0</td>\n",
              "        </tr>\n",
              "        <tr>\n",
              "            <td>9</td>\n",
              "            <td>SUFFIX</td>\n",
              "            <td>STRING</td>\n",
              "            <td>0</td>\n",
              "            <td>None</td>\n",
              "            <td>0</td>\n",
              "        </tr>\n",
              "        <tr>\n",
              "            <td>10</td>\n",
              "            <td>MAIDEN</td>\n",
              "            <td>STRING</td>\n",
              "            <td>0</td>\n",
              "            <td>None</td>\n",
              "            <td>0</td>\n",
              "        </tr>\n",
              "        <tr>\n",
              "            <td>11</td>\n",
              "            <td>MARITAL</td>\n",
              "            <td>STRING</td>\n",
              "            <td>0</td>\n",
              "            <td>None</td>\n",
              "            <td>0</td>\n",
              "        </tr>\n",
              "        <tr>\n",
              "            <td>12</td>\n",
              "            <td>RACE</td>\n",
              "            <td>STRING</td>\n",
              "            <td>0</td>\n",
              "            <td>None</td>\n",
              "            <td>0</td>\n",
              "        </tr>\n",
              "        <tr>\n",
              "            <td>13</td>\n",
              "            <td>ETHNICITY</td>\n",
              "            <td>STRING</td>\n",
              "            <td>0</td>\n",
              "            <td>None</td>\n",
              "            <td>0</td>\n",
              "        </tr>\n",
              "        <tr>\n",
              "            <td>14</td>\n",
              "            <td>GENDER</td>\n",
              "            <td>STRING</td>\n",
              "            <td>0</td>\n",
              "            <td>None</td>\n",
              "            <td>0</td>\n",
              "        </tr>\n",
              "        <tr>\n",
              "            <td>15</td>\n",
              "            <td>BIRTHPLACE</td>\n",
              "            <td>STRING</td>\n",
              "            <td>0</td>\n",
              "            <td>None</td>\n",
              "            <td>0</td>\n",
              "        </tr>\n",
              "        <tr>\n",
              "            <td>16</td>\n",
              "            <td>ADDRESS</td>\n",
              "            <td>STRING</td>\n",
              "            <td>0</td>\n",
              "            <td>None</td>\n",
              "            <td>0</td>\n",
              "        </tr>\n",
              "        <tr>\n",
              "            <td>17</td>\n",
              "            <td>CITY</td>\n",
              "            <td>STRING</td>\n",
              "            <td>0</td>\n",
              "            <td>None</td>\n",
              "            <td>0</td>\n",
              "        </tr>\n",
              "        <tr>\n",
              "            <td>18</td>\n",
              "            <td>STATE</td>\n",
              "            <td>STRING</td>\n",
              "            <td>0</td>\n",
              "            <td>None</td>\n",
              "            <td>0</td>\n",
              "        </tr>\n",
              "        <tr>\n",
              "            <td>19</td>\n",
              "            <td>COUNTRY</td>\n",
              "            <td>STRING</td>\n",
              "            <td>0</td>\n",
              "            <td>None</td>\n",
              "            <td>0</td>\n",
              "        </tr>\n",
              "        <tr>\n",
              "            <td>20</td>\n",
              "            <td>ZIP</td>\n",
              "            <td>STRING</td>\n",
              "            <td>0</td>\n",
              "            <td>None</td>\n",
              "            <td>0</td>\n",
              "        </tr>\n",
              "        <tr>\n",
              "            <td>21</td>\n",
              "            <td>LAT</td>\n",
              "            <td>INTEGER</td>\n",
              "            <td>0</td>\n",
              "            <td>None</td>\n",
              "            <td>0</td>\n",
              "        </tr>\n",
              "        <tr>\n",
              "            <td>22</td>\n",
              "            <td>LON</td>\n",
              "            <td>INTEGER</td>\n",
              "            <td>0</td>\n",
              "            <td>None</td>\n",
              "            <td>0</td>\n",
              "        </tr>\n",
              "        <tr>\n",
              "            <td>23</td>\n",
              "            <td>HEALTHCARE_EXPENSES</td>\n",
              "            <td>INTEGER</td>\n",
              "            <td>0</td>\n",
              "            <td>None</td>\n",
              "            <td>0</td>\n",
              "        </tr>\n",
              "        <tr>\n",
              "            <td>24</td>\n",
              "            <td>HEALTHCARE_COVERAGE</td>\n",
              "            <td>INTEGER</td>\n",
              "            <td>0</td>\n",
              "            <td>None</td>\n",
              "            <td>0</td>\n",
              "        </tr>\n",
              "    </tbody>\n",
              "</table>"
            ]
          },
          "metadata": {},
          "execution_count": 51
        }
      ]
    },
    {
      "cell_type": "code",
      "source": [
        "%%sql $db_url_source_covid\n",
        "UPDATE patients SET DEATHDATE = strftime('%Y-%m-%d', DEATHDATE);\n"
      ],
      "metadata": {
        "colab": {
          "base_uri": "https://localhost:8080/"
        },
        "id": "oVqnPQiPeSW5",
        "outputId": "55de4515-e38a-4461-d5db-20289a286291"
      },
      "execution_count": 52,
      "outputs": [
        {
          "output_type": "stream",
          "name": "stdout",
          "text": [
            "1050 rows affected.\n"
          ]
        },
        {
          "output_type": "execute_result",
          "data": {
            "text/plain": [
              "[]"
            ]
          },
          "metadata": {},
          "execution_count": 52
        }
      ]
    },
    {
      "cell_type": "code",
      "source": [
        "result = %sql SELECT COUNT(Id) FROM patients WHERE DEATHDATE IS NOT NULL\n",
        "print(\"Number of patients who died: \", result[0][0])"
      ],
      "metadata": {
        "colab": {
          "base_uri": "https://localhost:8080/"
        },
        "id": "Ud7afY0LeW4H",
        "outputId": "53862653-a366-4882-efc0-045a51450de5"
      },
      "execution_count": 53,
      "outputs": [
        {
          "output_type": "stream",
          "name": "stdout",
          "text": [
            " * sqlite:////content/gdrive/MyDrive/Gruppe_B/DB_File/source_covid19_test.db\n",
            "   sqlite:////content/gdrive/MyDrive/Gruppe_B/DB_Filesource_covid19_test.db\n",
            "Done.\n",
            "Number of patients who died:  50\n"
          ]
        }
      ]
    },
    {
      "cell_type": "code",
      "source": [
        "result = %sql SELECT (CASE WHEN DEATHDATE IS NOT NULL THEN 1 ELSE 0 END) AS DEAD, COUNT(Id) AS COUNT FROM patients GROUP BY DEAD\n",
        "df = pd.DataFrame(result, columns=['DEAD', 'COUNT'])\n",
        "df.set_index('DEAD', inplace=True)\n",
        "df.plot(kind='bar')\n",
        "plt.xlabel('Dead (1) / Alive (0)')\n",
        "plt.ylabel('Count')\n",
        "plt.title('Dead vs. Alive Patients')\n",
        "plt.show()"
      ],
      "metadata": {
        "colab": {
          "base_uri": "https://localhost:8080/",
          "height": 344
        },
        "id": "BTQczpMyeiFa",
        "outputId": "ab740d35-85fa-4382-de3e-a833fe5f2e61"
      },
      "execution_count": 54,
      "outputs": [
        {
          "output_type": "stream",
          "name": "stdout",
          "text": [
            " * sqlite:////content/gdrive/MyDrive/Gruppe_B/DB_File/source_covid19_test.db\n",
            "   sqlite:////content/gdrive/MyDrive/Gruppe_B/DB_Filesource_covid19_test.db\n",
            "Done.\n"
          ]
        },
        {
          "output_type": "display_data",
          "data": {
            "text/plain": [
              "<Figure size 432x288 with 1 Axes>"
            ],
            "image/png": "[encoded data removed]"
          },
          "metadata": {
            "needs_background": "light"
          }
        }
      ]
    },
    {
      "cell_type": "code",
      "source": [
        "import pandas as pd\n",
        "import matplotlib.pyplot as plt\n",
        "import sqlite3\n",
        "\n",
        "conn = sqlite3.connect(db_path_source_covid)\n",
        "df = pd.read_sql_query(\"SELECT BIRTHDATE, (julianday(current_timestamp) - julianday(BIRTHDATE)) / 365.25 AS AGE FROM patients\", conn)\n",
        "\n",
        "df['BIRTHDATE'] = pd.to_datetime(df['BIRTHDATE'])\n",
        "df['AGE_GROUP'] = (df['AGE'] // 10 * 10).astype(int)\n",
        "age_counts = df['AGE_GROUP'].value_counts().sort_index()\n",
        "plt.bar(age_counts.index, age_counts.values)\n",
        "plt.xlabel('Age Group (10 Years)')\n",
        "plt.ylabel('Count')\n",
        "plt.title('Age Distribution of Patients')\n",
        "plt.show()\n",
        "\n",
        "\n"
      ],
      "metadata": {
        "id": "IX9H2oGkorl9",
        "colab": {
          "base_uri": "https://localhost:8080/",
          "height": 295
        },
        "outputId": "bf561a8a-e561-4723-9fb3-8c3a85f80f63"
      },
      "execution_count": 71,
      "outputs": [
        {
          "output_type": "display_data",
          "data": {
            "text/plain": [
              "<Figure size 432x288 with 1 Axes>"
            ],
            "image/png": "[encoded data removed]"
          },
          "metadata": {
            "needs_background": "light"
          }
        }
      ]
    }
  ]
}