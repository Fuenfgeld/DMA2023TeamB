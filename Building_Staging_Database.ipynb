{
  "nbformat": 4,
  "nbformat_minor": 0,
  "metadata": {
    "colab": {
      "provenance": [],
      "authorship_tag": "ABX9TyPlPY7bpdG7T3a1Mpk8snNL",
      "include_colab_link": true
    },
    "kernelspec": {
      "name": "python3",
      "display_name": "Python 3"
    },
    "language_info": {
      "name": "python"
    }
  },
  "cells": [
    {
      "cell_type": "markdown",
      "metadata": {
        "id": "view-in-github",
        "colab_type": "text"
      },
      "source": [
        "<a href=\"https://colab.research.google.com/github/Fuenfgeld/DMA2023TeamB/blob/main/Building_Staging_Database.ipynb\" target=\"_parent\"><img src=\"https://colab.research.google.com/assets/colab-badge.svg\" alt=\"Open In Colab\"/></a>"
      ]
    },
    {
      "cell_type": "markdown",
      "source": [
        "Importing csv Data into a staging Database"
      ],
      "metadata": {
        "id": "1mzPhKxdNj89"
      }
    },
    {
      "cell_type": "markdown",
      "source": [
        "Importing required libruaries"
      ],
      "metadata": {
        "id": "WOjplzcxN_lN"
      }
    },
    {
      "cell_type": "code",
      "execution_count": 84,
      "metadata": {
        "id": "IhU1I4gCNgG0"
      },
      "outputs": [],
      "source": [
        "import pandas as pd\n",
        "from functools import reduce\n",
        "import sqlite3\n",
        "from sqlite3 import Error\n",
        "import csv"
      ]
    },
    {
      "cell_type": "markdown",
      "source": [
        "retiriving csv Files form GitHub DatamanagementAndArchiving"
      ],
      "metadata": {
        "id": "hULypPZsOH-d"
      }
    },
    {
      "cell_type": "code",
      "source": [
        "!git clone https://github.com/Fuenfgeld/DatamanagementAndArchiving"
      ],
      "metadata": {
        "colab": {
          "base_uri": "https://localhost:8080/"
        },
        "id": "3MGOAKSBOGOR",
        "outputId": "a241b67f-7140-4260-9de9-beb6918c30aa"
      },
      "execution_count": 85,
      "outputs": [
        {
          "output_type": "stream",
          "name": "stdout",
          "text": [
            "fatal: destination path 'DatamanagementAndArchiving' already exists and is not an empty directory.\n"
          ]
        }
      ]
    },
    {
      "cell_type": "markdown",
      "source": [
        "Mounting Google Drive with Shared Team Folder DMA_2023_D\n",
        "\n",
        "Authentification"
      ],
      "metadata": {
        "id": "4IaYmaQDO_dJ"
      }
    },
    {
      "cell_type": "code",
      "source": [
        "from google.colab import drive\n",
        "drive.mount(\"/content/drive\")"
      ],
      "metadata": {
        "colab": {
          "base_uri": "https://localhost:8080/"
        },
        "id": "TBwcEg15O6Lg",
        "outputId": "398d66da-cc64-4ae8-e8c8-6597c1594382"
      },
      "execution_count": 86,
      "outputs": [
        {
          "output_type": "stream",
          "name": "stdout",
          "text": [
            "Drive already mounted at /content/drive; to attempt to forcibly remount, call drive.mount(\"/content/drive\", force_remount=True).\n"
          ]
        }
      ]
    },
    {
      "cell_type": "markdown",
      "source": [
        "Defining File Paths and Relevant Folders\n",
        "\n",
        "DB_FILE_PATH -->  where source database will reside"
      ],
      "metadata": {
        "id": "8mnvhLjuPSS3"
      }
    },
    {
      "cell_type": "code",
      "source": [
        "patient_type = \"covid19\"\n",
        "\n",
        "# Path to all data files in SynteticPatientData\n",
        "material_path = \"/content/DatamanagementAndArchiving/SynteticPatientData\"\n",
        "\n",
        "# Source database path\n",
        "DB_FILE_PATH = f\"/content/drive/Shareddrives/DMA_2023_D/DMA2023TeamB/source_dbs/Source_{patient_type}_Staging.db\"\n",
        "\n",
        "# folder contains csv files\n",
        "csv_path = f\"{material_path}/{patient_type}/\""
      ],
      "metadata": {
        "id": "gnf0c2bgPVf4"
      },
      "execution_count": 87,
      "outputs": []
    },
    {
      "cell_type": "markdown",
      "source": [
        "SQL queries to create tables"
      ],
      "metadata": {
        "id": "O88KDyPjRnkC"
      }
    },
    {
      "cell_type": "code",
      "source": [
        "# dictionary key: name of table, values: sql query to create table\n",
        "sql_table = {}"
      ],
      "metadata": {
        "id": "h83bA5qYRosC"
      },
      "execution_count": 88,
      "outputs": []
    },
    {
      "cell_type": "code",
      "source": [
        "# sql query to create disease table\n",
        "sql_table[\"disease\"] = \"\"\"CREATE TABLE IF NOT EXISTS disease (\n",
        "                           START DATE,\n",
        "                           STOP DATE,\n",
        "                           PATIENT STRING,\n",
        "                           ENCOUNTER STRING,\n",
        "                           CODE STRING,\n",
        "                           DESCRIPTION STRING,\n",
        "                           FOREIGN KEY (PATIENT)\n",
        "                              REFERENCES patients (Id) \n",
        "                           FOREIGN KEY (Encounter)\n",
        "                              REFERENCES encounters (Id)\n",
        "                           \n",
        "                       );\"\"\"\n",
        "#  sql query to create patients table\n",
        "sql_table[\"patients\"] = \"\"\"CREATE TABLE IF NOT EXISTS patients (\n",
        "                           Id STRING PRIMARY KEY,\n",
        "                           BIRTHDATE DATE,\n",
        "                           DEATHDATE DATE,\n",
        "                           SSN STRING,\n",
        "                           DRIVERS STRING,\n",
        "                           PASSPORT STRING,\n",
        "                           PREFIX STRING,\n",
        "                           FIRST STRING,\n",
        "                           LAST STRING,\n",
        "                           SUFFIX STRING,\n",
        "                           MAIDEN STRING,\n",
        "                           MARITAL STRING,\n",
        "                           RACE STRING,\n",
        "                           ETHNICITY STRING,\n",
        "                           GENDER STRING,\n",
        "                           BIRTHPLACE STRING,\n",
        "                           ADDRESS STRING,\n",
        "                           CITY STRING,\n",
        "                           STATE STRING,\n",
        "                           COUNTRY STRING,\n",
        "                           ZIP STRING,\n",
        "                           LAT INTEGER,\n",
        "                           LON INTEGER,\n",
        "                           HEALTHCARE_EXPENSES INTEGER,\n",
        "                           HEALTHCARE_COVERAGE INTEGER\n",
        "                       );\"\"\"\n",
        "# sql query to create encounters table\n",
        "sql_table[\"encounters\"] = \"\"\"CREATE TABLE IF NOT EXISTS encounters (\n",
        "                           Id STRING PRIMARY KEY,\n",
        "                           START DATE,\n",
        "                           STOP DATE,\n",
        "                           PATIENT STRING,\n",
        "                           ORGANIZATIONS STRING,\n",
        "                           PROVIDER STRING,\n",
        "                           PAYER STRING,\n",
        "                           ENCOUNTERCLASS STRING,\n",
        "                           CODE STRING,\n",
        "                           DESCRIPTION STRING,\n",
        "                           BASE_ENCOUNTER_COST INTEGER,\n",
        "                           TOTAL_CLAIM_COST INTEGER,\n",
        "                           PAYER_COVERAGE INTEGER,\n",
        "                           REASONCODE STRING,\n",
        "                           REASONDESCRIPTION STRING,\n",
        "                           FOREIGN KEY (PATIENT)\n",
        "                              REFERENCES patients (Id) \n",
        "                       );\"\"\"\n",
        "# sql query to create careplans table\n",
        "sql_table[\"careplans\"] = \"\"\"CREATE TABLE IF NOT EXISTS careplans (\n",
        "                           Id STRING PRIMARY KEY,\n",
        "                           START DATE,\n",
        "                           STOP DATE,\n",
        "                           PATIENT STRING,\n",
        "                           ENCOUNTER STRING,\n",
        "                           CODE STRING,\n",
        "                           DESCRIPTION STRING,\n",
        "                           REASONCODE STRING,\n",
        "                           REASONDESCRIPTION STRING,\n",
        "                           FOREIGN KEY (PATIENT)\n",
        "                              REFERENCES patients (Id) \n",
        "                           FOREIGN KEY (Encounter)\n",
        "                              REFERENCES encounters (Id) \n",
        "\n",
        "                       );\"\"\"\n",
        "# sql query to create conditions table\n",
        "sql_table[\"conditions\"] = \"\"\"CREATE TABLE IF NOT EXISTS conditions (\n",
        "                           START DATE,\n",
        "                           STOP DATE,\n",
        "                           PATIENT STRING,\n",
        "                           ENCOUNTER STRING,\n",
        "                           CODE STRING,\n",
        "                           DESCRIPTION STRING,\n",
        "                           FOREIGN KEY (PATIENT)\n",
        "                              REFERENCES patients (Id) \n",
        "                           FOREIGN KEY (Encounter)\n",
        "                              REFERENCES encounters (Id) \n",
        "\n",
        "                       );\"\"\"\n",
        "# sql query to create medications table\n",
        "sql_table[\"medications\"] = \"\"\"CREATE TABLE IF NOT EXISTS medications (\n",
        "                           START DATE,\n",
        "                           STOP DATE,\n",
        "                           PATIENT STRING,\n",
        "                           PAYER STRING,\n",
        "                           ENCOUNTER STRING,\n",
        "                           CODE STRING,\n",
        "                           DESCRIPTION STRING,\n",
        "                           BASE_COST INTEGER,\n",
        "                           PAYER_COVERAGE INTEGER,\n",
        "                           DISPENSES INTEGER,\n",
        "                           TOTALCOST INTEGER,\n",
        "                           REASONCODE STRING,\n",
        "                           REASONDESCRIPTION STRING,\n",
        "                           FOREIGN KEY (PATIENT)\n",
        "                              REFERENCES patients (Id) \n",
        "                           \n",
        "                       );\"\"\"\n",
        "# sql query to create procedures table\n",
        "sql_table[\"procedures\"]= \"\"\"CREATE TABLE IF NOT EXISTS procedures (\n",
        "                           DATE DATE,\n",
        "                           PATIENT STRING,\n",
        "                           ENCOUNTER STRING,\n",
        "                           CODE STRING,\n",
        "                           DESCRIPTION STRING,\n",
        "                           BASE_COST INTEGER,\n",
        "                           REASONCODE STRING,\n",
        "                           REASONDESCRIPTION STRING,\n",
        "                           FOREIGN KEY (PATIENT)\n",
        "                              REFERENCES patients (Id) \n",
        "                           FOREIGN KEY (Encounter)\n",
        "                              REFERENCES encounters (Id) \n",
        "\n",
        "                       );\"\"\"\n",
        "\n",
        "\n",
        "# sql query to create observations table\n",
        "sql_table[\"observations\"]= \"\"\"CREATE TABLE IF NOT EXISTS observations (\n",
        "                           DATE DATE,\n",
        "                           PATIENT STRING,\n",
        "                           ENCOUNTER STRING,\n",
        "                           CODE STRING,\n",
        "                           DESCRIPTION STRING,\n",
        "                           VALUE STRING,\n",
        "                           UNITS STRING,\n",
        "                           TYPE STRING,\n",
        "                           FOREIGN KEY (PATIENT)\n",
        "                              REFERENCES patients (Id) \n",
        "                           FOREIGN KEY (Encounter)\n",
        "                              REFERENCES encounters (Id) \n",
        "\n",
        "                       );\"\"\"\n",
        "\n",
        "# sql query to create devices table\n",
        "sql_table[\"devices\"] = \"\"\"CREATE TABLE IF NOT EXISTS devices (\n",
        "                           START DATE,\n",
        "                           STOP DATE,\n",
        "                           PATIENT STRING,\n",
        "                           ENCOUNTER STRING,\n",
        "                           CODE STRING,\n",
        "                           DESCRIPTION STRING,\n",
        "                           UDI STRING,\n",
        "                           FOREIGN KEY (PATIENT)\n",
        "                              REFERENCES patients (Id) \n",
        "                           FOREIGN KEY (Encounter)\n",
        "                              REFERENCES encounters (Id)\n",
        "                           \n",
        "                       );\"\"\"\n",
        "\n",
        "# sql query to create Imaging_studies table\n",
        "sql_table[\"imaging_studies\"] = \"\"\"CREATE TABLE IF NOT EXISTS imaging_studies (\n",
        "                           Id STRING PRIMARY KEY,\n",
        "                           DATE DATE,\n",
        "                           PATIENT STRING,\n",
        "                           ENCOUNTER STRING,\n",
        "                           BODYSITE_CODE STRING,\n",
        "                           BODYSITE_DESCRIPTION STRING,\n",
        "                           MODALITY_CODE STRING,\n",
        "                           MODALITY_DESCRIPTION STRING,\n",
        "                           SOP_CODE STRING,\n",
        "                           SOP_DESCRIPTION STRING,\n",
        "                           FOREIGN KEY (PATIENT)\n",
        "                              REFERENCES patients (Id) \n",
        "                           FOREIGN KEY (Encounter)\n",
        "                              REFERENCES encounters (Id) \n",
        "\n",
        "                       );\"\"\"\n",
        "\n",
        "# sql query to create Immunizations table\n",
        "sql_table[\"immunizations\"]= \"\"\"CREATE TABLE IF NOT EXISTS immunizations(\n",
        "                           DATE DATE,\n",
        "                           PATIENT STRING,\n",
        "                           ENCOUNTER STRING,\n",
        "                           CODE STRING,\n",
        "                           DESCRIPTION STRING,\n",
        "                           BASE_COST INTEGER,\n",
        "                           FOREIGN KEY (PATIENT)\n",
        "                              REFERENCES patients (Id) \n",
        "                           FOREIGN KEY (Encounter)\n",
        "                              REFERENCES encounters (Id) \n",
        "\n",
        "                       );\"\"\""
      ],
      "metadata": {
        "id": "FHZmpCiyRwCw"
      },
      "execution_count": 89,
      "outputs": []
    },
    {
      "cell_type": "markdown",
      "source": [
        "Import csv files into database tables"
      ],
      "metadata": {
        "id": "MH1WrAI7SbqS"
      }
    },
    {
      "cell_type": "code",
      "source": [
        "def connect_to_db(db_file):\n",
        "    \"\"\"\n",
        "    Connect to an SQlite database, if db file does not exist it will be created\n",
        "    :param db_file: absolute or relative path of db file\n",
        "    :return: sqlite3 connection\n",
        "    \"\"\"\n",
        "    sqlite3_conn = None\n",
        "\n",
        "    try:\n",
        "        sqlite3_conn = sqlite3.connect(db_file)\n",
        "        return sqlite3_conn\n",
        "\n",
        "    except Error as err:\n",
        "        print(err)\n",
        "\n",
        "        if sqlite3_conn is not None:\n",
        "            sqlite3_conn.close()\n",
        "\n",
        "\n",
        "def insert_values_to_table(cursor, table_name, csv_file_path):\n",
        "\n",
        "    \"\"\"\n",
        "    Open a csv file, store its content in a list excluding header and insert the data from the list to db table\n",
        "    :param table_name: table name in the database to insert the data into\n",
        "    :param csv_file_path: path of the csv file to process\n",
        "    :return: None\n",
        "    \"\"\"\n",
        "\n",
        "    # Read CSV file content\n",
        "    values_to_insert = open_csv_file(csv_file_path)\n",
        "\n",
        "    # Insert to table\n",
        "    if len(values_to_insert) > 0:\n",
        "        column_names, column_numbers = get_column_names_from_db_table(cursor, table_name)\n",
        "\n",
        "        values_str = '?,' * column_numbers\n",
        "        # print(\"*****\", values_str, column_names, column_numbers)\n",
        "        values_str = values_str[:-1]\n",
        "\n",
        "        sql_query = 'INSERT OR REPLACE INTO ' + table_name + '(' + column_names + ') VALUES (' + values_str + ')'\n",
        "\n",
        "\n",
        "        cursor.executemany(sql_query, values_to_insert)\n",
        "        # conn.commit()\n",
        "\n",
        "        print('SQL insert process finished')\n",
        "    else:\n",
        "        print('Nothing to insert')\n",
        "\n",
        "        # conn.close()\n",
        "\n",
        "    # else:\n",
        "        # print('Connection to database failed')\n",
        "\n",
        "\n",
        "def open_csv_file(csv_file_path):\n",
        "    \"\"\"\n",
        "    Open and read data from a csv file without headers (skipping the first row)\n",
        "    :param csv_file_path: path of the csv file to process\n",
        "    :return: a list with the csv content\n",
        "    \"\"\"\n",
        "    with open(csv_file_path, 'r', encoding='utf-8') as csv_file:\n",
        "        reader = csv.reader(csv_file)\n",
        "        next(reader)\n",
        "\n",
        "        data = list()\n",
        "        for row in reader:\n",
        "            data.append(row)\n",
        "\n",
        "        return data\n",
        "\n",
        "\n",
        "def get_column_names_from_db_table(sql_cursor, table_name):\n",
        "    \"\"\"\n",
        "    Scrape the column names from a database table to a list and convert to a comma separated string, count the number\n",
        "    of columns in a database table\n",
        "    :param sql_cursor: sqlite cursor\n",
        "    :param table_name: table name to get the column names from\n",
        "    :return: a comma separated string with column names, an integer with number of columns\n",
        "    \"\"\"\n",
        "\n",
        "    table_column_names = 'PRAGMA table_info(' + table_name + ');'\n",
        "    sql_cursor.execute(table_column_names)\n",
        "    table_column_names = sql_cursor.fetchall()\n",
        "\n",
        "    column_count = len(table_column_names)\n",
        "\n",
        "    column_names = list()\n",
        "\n",
        "    for name in table_column_names:\n",
        "        column_names.append(name[1])\n",
        "\n",
        "    return ', '.join(column_names), column_count\n",
        "\n",
        "\n"
      ],
      "metadata": {
        "id": "OuU9u4Q6Sfd4"
      },
      "execution_count": 90,
      "outputs": []
    },
    {
      "cell_type": "code",
      "source": [
        "# import csv into db\n",
        "conn = connect_to_db(DB_FILE_PATH)\n",
        "if conn is not None:\n",
        "        cursor = conn.cursor()\n",
        "        for name in sql_table.keys():\n",
        "          csv_file = csv_path + name + \".csv\"\n",
        "          #print(name, csv_file)\n",
        "          \n",
        "          cursor.execute(sql_table[name])\n",
        "          cursor.execute(f\"\"\"DELETE FROM {name}\"\"\")\n",
        "          insert_values_to_table(cursor, name, csv_file)\n",
        "          conn.commit()\n",
        "else:\n",
        "        print('Connection to database failed')\n"
      ],
      "metadata": {
        "colab": {
          "base_uri": "https://localhost:8080/"
        },
        "id": "n-jggQVcWYwE",
        "outputId": "079369ae-7157-4cdb-cb8e-0aa0eedc4abf"
      },
      "execution_count": 91,
      "outputs": [
        {
          "output_type": "stream",
          "name": "stdout",
          "text": [
            "Nothing to insert\n",
            "SQL insert process finished\n",
            "SQL insert process finished\n",
            "SQL insert process finished\n",
            "SQL insert process finished\n",
            "SQL insert process finished\n",
            "SQL insert process finished\n",
            "SQL insert process finished\n",
            "SQL insert process finished\n",
            "Nothing to insert\n",
            "SQL insert process finished\n"
          ]
        }
      ]
    },
    {
      "cell_type": "code",
      "source": [
        "conn = sqlite3.connect(DB_FILE_PATH)\n",
        "query = \"\"\"CREATE TABLE IF NOT EXISTS S_CONDITIONS (\n",
        "                            CONDITIONS_CODE STRING PRIMARY KEY,\n",
        "                            CONDITIONS_DESCRIPTION STRING\n",
        "                           )\"\"\"\n",
        "conn.execute(query)\n",
        "conn.commit()\n",
        "\n",
        "conn = sqlite3.connect(DB_FILE_PATH)\n",
        "query = \"\"\"CREATE TABLE IF NOT EXISTS S_DEVICES (\n",
        "                            DEVICES_CODE STRING PRIMARY KEY,\n",
        "                            DEVICES_DESCRIPTION STRING\n",
        "                           )\"\"\"\n",
        "conn.execute(query)\n",
        "conn.commit()\n",
        "\n",
        "conn = sqlite3.connect(DB_FILE_PATH)\n",
        "query = \"\"\"CREATE TABLE IF NOT EXISTS S_MEDICATIONS (\n",
        "                            MEDICATIONS_CODE STRING PRIMARY KEY,\n",
        "                            MEDICATIONS_DESCRIPTION STRING\n",
        "                           )\"\"\"\n",
        "conn.execute(query)\n",
        "conn.commit()\n",
        "\n",
        "conn = sqlite3.connect(DB_FILE_PATH)\n",
        "query = \"\"\"CREATE TABLE IF NOT EXISTS S_IMMUNIZATIONS (\n",
        "                            IMMUNIZATIONS_CODE STRING PRIMARY KEY,\n",
        "                            IMMUNIZATIONS_DESCRIPTION STRING\n",
        "                           )\"\"\"\n",
        "conn.execute(query)\n",
        "conn.commit()\n",
        "\n",
        "conn = sqlite3.connect(DB_FILE_PATH)\n",
        "query = \"\"\"CREATE TABLE IF NOT EXISTS S_ENCOUNTERS (\n",
        "                            ENCOUNTERS_ID STRING PRIMARY KEY,\n",
        "                            ENCOUNTERCLASS STRING\n",
        "                           )\"\"\"\n",
        "conn.execute(query)\n",
        "conn.commit()\n",
        "\n",
        "conn = sqlite3.connect(DB_FILE_PATH)\n",
        "query = \"\"\"CREATE TABLE IF NOT EXISTS S_PROCEDURES (\n",
        "                            PROCEDURES_CODE STRING PRIMARY KEY,\n",
        "                            PROCEDURES_DESCRIPTION STRING\n",
        "                           )\"\"\"\n",
        "conn.execute(query)\n",
        "conn.commit()\n",
        "\n",
        "conn = sqlite3.connect(DB_FILE_PATH)\n",
        "query = \"\"\"CREATE TABLE IF NOT EXISTS S_PATIENTS (\n",
        "                            PATIENTS_ID STRING PRIMARY KEY,\n",
        "                            PATIENTS_BIRTHDATE DATE,\n",
        "                            PATIENTS_DEATHDATE DATE,\n",
        "                            PATIENTS_GENDER STRING\n",
        "                           )\"\"\"\n",
        "conn.execute(query)\n",
        "conn.commit()"
      ],
      "metadata": {
        "id": "QRa2DPQqAiLX"
      },
      "execution_count": 92,
      "outputs": []
    },
    {
      "cell_type": "code",
      "source": [
        "conn = connect_to_db(DB_FILE_PATH)\n",
        "cursor = conn.cursor()\n",
        "cursor.execute(\"SELECT name FROM sqlite_master WHERE type='table';\")\n",
        "list_of_tables = cursor.fetchall()\n",
        "list_of_tables_in_database = []\n",
        "list_of_s_tables=[]\n",
        "for tupel in list_of_tables:\n",
        "  list_of_tables_in_database.append(tupel[0])\n",
        "for table in list_of_tables_in_database:\n",
        "  if table[0]=='S' and table[1]== '_':\n",
        "    list_of_s_tables.append(table)\n",
        "\n",
        "for table in list_of_s_tables:\n",
        "  conn = sqlite3.connect(DB_FILE_PATH)\n",
        "  query = f\"\"\"DELETE FROM {table}\"\"\"\n",
        "  conn.execute(query)\n",
        "  conn.commit()"
      ],
      "metadata": {
        "id": "RzvmuzmzKEX2"
      },
      "execution_count": 93,
      "outputs": []
    },
    {
      "cell_type": "code",
      "source": [
        "## List of tables in database \n",
        "cursor.execute(\"SELECT name FROM sqlite_master WHERE type='table';\")\n",
        "print(cursor.fetchall())"
      ],
      "metadata": {
        "colab": {
          "base_uri": "https://localhost:8080/"
        },
        "id": "tJ6ZxoOxVcVa",
        "outputId": "acf6c524-84dd-4978-e869-76dfc3431214"
      },
      "execution_count": 94,
      "outputs": [
        {
          "output_type": "stream",
          "name": "stdout",
          "text": [
            "[('disease',), ('patients',), ('encounters',), ('careplans',), ('conditions',), ('medications',), ('procedures',), ('observations',), ('devices',), ('imaging_studies',), ('immunizations',), ('S_CONDITIONS',), ('S_DEVICES',), ('S_MEDICATIONS',), ('S_IMMUNIZATIONS',), ('S_ENCOUNTERS',), ('S_PROCEDURES',), ('S_PATIENTS',)]\n"
          ]
        }
      ]
    },
    {
      "cell_type": "code",
      "source": [
        "## check data in a table\n",
        "cursor.execute(\"SELECT count(*) FROM immunizations;\")\n",
        "rows = cursor.fetchall()\n",
        "for row in rows:\n",
        "    print(row)"
      ],
      "metadata": {
        "colab": {
          "base_uri": "https://localhost:8080/"
        },
        "id": "gtbReWzCVhjR",
        "outputId": "8e6ce8df-ec0a-4d42-d19e-9b059e4b08d7"
      },
      "execution_count": 95,
      "outputs": [
        {
          "output_type": "stream",
          "name": "stdout",
          "text": [
            "(13125,)\n"
          ]
        }
      ]
    },
    {
      "cell_type": "markdown",
      "source": [
        "commit Changes to Staging Database"
      ],
      "metadata": {
        "id": "YW4IFyWlW3Vc"
      }
    },
    {
      "cell_type": "code",
      "source": [
        "conn.commit()"
      ],
      "metadata": {
        "id": "meax3AFLW7u9"
      },
      "execution_count": 96,
      "outputs": []
    },
    {
      "cell_type": "markdown",
      "source": [
        "Close connection to Staging Database"
      ],
      "metadata": {
        "id": "7pLUstPLXACx"
      }
    },
    {
      "cell_type": "code",
      "source": [
        "conn.close()"
      ],
      "metadata": {
        "id": "Ecj5Y2U2XD4U"
      },
      "execution_count": 97,
      "outputs": []
    },
    {
      "cell_type": "markdown",
      "source": [
        "Creating Staging (S_CONDITIONS) Tables"
      ],
      "metadata": {
        "id": "YUFoQKbVYXM8"
      }
    },
    {
      "cell_type": "code",
      "source": [
        "import sqlite3\n",
        "from pandas import DataFrame\n",
        "\n",
        "conn = sqlite3.connect(DB_FILE_PATH)\n",
        "cursor = conn.cursor()\n",
        "cursor.execute ('SELECT CONDITIONS.CODE, CONDITIONS.DESCRIPTION FROM CONDITIONS')\n",
        "DF_S_Conditions = DataFrame(cursor.fetchall())\n",
        "DF_S_Conditions.columns = ['CONDITIONS_CODE', 'CONDITIONS_DESCRIPTION']\n",
        "conn.close()"
      ],
      "metadata": {
        "id": "paCv-BT0YTQm"
      },
      "execution_count": 98,
      "outputs": []
    },
    {
      "cell_type": "code",
      "source": [
        "conn = sqlite3.connect(DB_FILE_PATH)\n",
        "DF_S_Conditions.to_sql('S_CONDITIONS',conn, if_exists = 'replace', index = False)\n",
        "conn.commit()\n",
        "conn.close()"
      ],
      "metadata": {
        "id": "KbeQyhMRLk4Q"
      },
      "execution_count": 99,
      "outputs": []
    },
    {
      "cell_type": "markdown",
      "source": [
        "Creating Staging (S_DEVICES) Tables"
      ],
      "metadata": {
        "id": "AZshXpdcMwOP"
      }
    },
    {
      "cell_type": "code",
      "source": [
        "conn = sqlite3.connect(DB_FILE_PATH)\n",
        "cursor = conn.cursor()\n",
        "cursor.execute ('SELECT DEVICES.CODE, DEVICES.DESCRIPTION FROM DEVICES')\n",
        "DF_S_DEVICES = DataFrame(cursor.fetchall())\n",
        "DF_S_DEVICES.columns = ['DEVICES_CODE', 'DEVICES_DESCRIPTION']\n",
        "conn.close()"
      ],
      "metadata": {
        "id": "Xn0tIiluMsK6"
      },
      "execution_count": 100,
      "outputs": []
    },
    {
      "cell_type": "code",
      "source": [
        "conn = sqlite3.connect(DB_FILE_PATH)\n",
        "DF_S_DEVICES.to_sql('S_DEVICES',conn, if_exists = 'replace', index = False)\n",
        "conn.commit()\n",
        "conn.close()"
      ],
      "metadata": {
        "id": "Z7Hxcti5Mr2F"
      },
      "execution_count": 101,
      "outputs": []
    },
    {
      "cell_type": "markdown",
      "source": [
        "Creating Staging (S_MEDICATIONS) Tables"
      ],
      "metadata": {
        "id": "IJUy3AbgOtuA"
      }
    },
    {
      "cell_type": "code",
      "source": [
        "conn = sqlite3.connect(DB_FILE_PATH)\n",
        "cursor = conn.cursor()\n",
        "cursor.execute ('SELECT MEDICATIONS.CODE, MEDICATIONS.DESCRIPTION FROM MEDICATIONS')\n",
        "DF_S_MEDICATIONS = DataFrame(cursor.fetchall())\n",
        "DF_S_MEDICATIONS.columns = ['MEDICATIONS_CODE', 'MEDICATIONS_DESCRIPTION']\n",
        "conn.close()"
      ],
      "metadata": {
        "id": "aPk2rqr8OuzD"
      },
      "execution_count": 102,
      "outputs": []
    },
    {
      "cell_type": "code",
      "source": [
        "conn = sqlite3.connect(DB_FILE_PATH)\n",
        "DF_S_MEDICATIONS.to_sql('S_MEDICATIONS',conn, if_exists = 'replace', index = False)\n",
        "conn.commit()\n",
        "conn.close()"
      ],
      "metadata": {
        "id": "DrfyJHhuOufn"
      },
      "execution_count": 103,
      "outputs": []
    },
    {
      "cell_type": "markdown",
      "source": [
        "Creating Staging (S_IMMUNIZATIONS) Tables\n"
      ],
      "metadata": {
        "id": "PbcqhY9rjbui"
      }
    },
    {
      "cell_type": "code",
      "source": [
        "conn = sqlite3.connect(DB_FILE_PATH)\n",
        "cursor = conn.cursor()\n",
        "cursor.execute ('SELECT IMMUNIZATIONS.CODE, IMMUNIZATIONS.DESCRIPTION FROM IMMUNIZATIONS')\n",
        "DF_S_IMMUNIZATIONS = DataFrame(cursor.fetchall())\n",
        "DF_S_IMMUNIZATIONS.columns = ['IMMUNIZATIONS_CODE', 'IMMUNIZATIONS_DESCRIPTION']\n",
        "conn.close()"
      ],
      "metadata": {
        "id": "aVsceuN2Sa6l"
      },
      "execution_count": 104,
      "outputs": []
    },
    {
      "cell_type": "code",
      "source": [
        "conn = sqlite3.connect(DB_FILE_PATH)\n",
        "DF_S_IMMUNIZATIONS.to_sql('S_IMMUNIZATIONS',conn, if_exists = 'replace', index = False)\n",
        "conn.commit()\n",
        "conn.close()"
      ],
      "metadata": {
        "id": "lUMGma6hSave"
      },
      "execution_count": 105,
      "outputs": []
    },
    {
      "cell_type": "markdown",
      "source": [
        "Creating Staging (S_ENCOUNTERS) Tables"
      ],
      "metadata": {
        "id": "QUTA4En6Twsz"
      }
    },
    {
      "cell_type": "code",
      "source": [
        "conn = sqlite3.connect(DB_FILE_PATH)\n",
        "cursor = conn.cursor()\n",
        "cursor.execute ('SELECT ENCOUNTERS.ID, ENCOUNTERS.ENCOUNTERCLASS FROM ENCOUNTERS')\n",
        "DF_S_ENCOUNTERS = DataFrame(cursor.fetchall())\n",
        "DF_S_ENCOUNTERS.columns = ['ENCOUNTERS_ID', 'ENCOUNTERCLASS']\n",
        "conn.close()"
      ],
      "metadata": {
        "id": "WX1AVmY9Ui6Z"
      },
      "execution_count": 106,
      "outputs": []
    },
    {
      "cell_type": "code",
      "source": [
        "conn = sqlite3.connect(DB_FILE_PATH)\n",
        "DF_S_ENCOUNTERS.to_sql('S_ENCOUNTERS',conn, if_exists = 'replace', index = False)\n",
        "conn.commit()\n",
        "conn.close()"
      ],
      "metadata": {
        "id": "lNaS8PZdVKsr"
      },
      "execution_count": 107,
      "outputs": []
    },
    {
      "cell_type": "markdown",
      "source": [
        "Creating Staging (S_PROCEDURES) Tables"
      ],
      "metadata": {
        "id": "2wgk3efmVqFm"
      }
    },
    {
      "cell_type": "code",
      "source": [
        "conn = sqlite3.connect(DB_FILE_PATH)\n",
        "cursor = conn.cursor()\n",
        "cursor.execute ('SELECT PROCEDURES.CODE, PROCEDURES.DESCRIPTION FROM PROCEDURES')\n",
        "DF_S_PROCEDURES = DataFrame(cursor.fetchall())\n",
        "DF_S_PROCEDURES.columns = ['PROCEDURES_CODE', 'PROCEDURES_DESCRIPTION']\n",
        "conn.close()"
      ],
      "metadata": {
        "id": "-9i2aHmlWedd"
      },
      "execution_count": 108,
      "outputs": []
    },
    {
      "cell_type": "code",
      "source": [
        "conn = sqlite3.connect(DB_FILE_PATH)\n",
        "DF_S_PROCEDURES.to_sql('S_PROCEDURES',conn, if_exists = 'replace', index = False)\n",
        "conn.commit()\n",
        "conn.close()"
      ],
      "metadata": {
        "id": "H1x6c5ECXAqe"
      },
      "execution_count": 109,
      "outputs": []
    },
    {
      "cell_type": "markdown",
      "source": [
        "Creating Staging (S_PATIENTS) Tables"
      ],
      "metadata": {
        "id": "2CfamFiDX2jn"
      }
    },
    {
      "cell_type": "code",
      "source": [
        "conn = sqlite3.connect(DB_FILE_PATH)\n",
        "cursor = conn.cursor()\n",
        "cursor.execute ('SELECT PATIENTS.ID, PATIENTS.BIRTHDATE, PATIENTS.DEATHDATE, PATIENTS.GENDER FROM PATIENTS')\n",
        "DF_S_PATIENTS = DataFrame(cursor.fetchall())\n",
        "DF_S_PATIENTS.columns = ['PATIENTS_ID', 'PATIENTS_BIRTHDATE', 'PATIENTS_DEATHDATE', 'PATIENTS_GENDER']\n",
        "conn.close()"
      ],
      "metadata": {
        "id": "txy8-qNHY4VR"
      },
      "execution_count": 110,
      "outputs": []
    },
    {
      "cell_type": "code",
      "source": [
        "conn = sqlite3.connect(DB_FILE_PATH)\n",
        "DF_S_PATIENTS.to_sql('S_PATIENTS',conn, if_exists = 'replace', index = False)\n",
        "conn.commit()\n",
        "conn.close()"
      ],
      "metadata": {
        "id": "ePig4kMgZnxq"
      },
      "execution_count": 111,
      "outputs": []
    },
    {
      "cell_type": "markdown",
      "source": [
        "TEST CODE"
      ],
      "metadata": {
        "id": "ewfTiY4abUTX"
      }
    },
    {
      "cell_type": "code",
      "source": [
        "# conn = sqlite3.connect(DB_FILE_PATH)\n",
        "# cursor = conn.cursor()\n",
        "# #cursor.execute(\"SELECT name FROM sqlite_master WHERE type='table';\")\n",
        "# #cursor.execute(\"SELECT count(*) FROM conditions\")\n",
        "# print(cursor.fetchall())"
      ],
      "metadata": {
        "id": "1njRABZnt6Op"
      },
      "execution_count": 112,
      "outputs": []
    },
    {
      "cell_type": "markdown",
      "source": [
        "Building Staging Factstable"
      ],
      "metadata": {
        "id": "fgdv5vjUNECU"
      }
    },
    {
      "cell_type": "code",
      "source": [
        "conn = sqlite3.connect(DB_FILE_PATH)\n",
        "query = \"\"\"CREATE TABLE IF NOT EXISTS SSS_CONDITIONS (\n",
        "                            CONDITIONS_CODE STRING,\n",
        "                            CONDITIONS_DESCRIPTION STRING,\n",
        "                            CONDITIONS_PATIENT_ID\n",
        "                           )\"\"\"\n",
        "conn.execute(query)\n",
        "conn.commit()\n",
        "\n",
        "conn = sqlite3.connect(DB_FILE_PATH)\n",
        "query = \"\"\"CREATE TABLE IF NOT EXISTS SSS_DEVICES (\n",
        "                            DEVICES_CODE STRING,\n",
        "                            DEVICES_DESCRIPTION STRING,\n",
        "                            DEVICES_PATIENT_ID\n",
        "                           )\"\"\"\n",
        "conn.execute(query)\n",
        "conn.commit()\n",
        "\n",
        "conn = sqlite3.connect(DB_FILE_PATH)\n",
        "query = \"\"\"CREATE TABLE IF NOT EXISTS SSS_MEDICATIONS (\n",
        "                            MEDICATIONS_CODE STRING,\n",
        "                            MEDICATIONS_DESCRIPTION STRING,\n",
        "                            MEDICATIONS_PATIENT_ID\n",
        "                           )\"\"\"\n",
        "conn.execute(query)\n",
        "conn.commit()\n",
        "\n",
        "conn = sqlite3.connect(DB_FILE_PATH)\n",
        "query = \"\"\"CREATE TABLE IF NOT EXISTS SSS_IMMUNIZATIONS (\n",
        "                            IMMUNIZATIONS_CODE STRING,\n",
        "                            IMMUNIZATIONS_DESCRIPTION STRING,\n",
        "                            IMMUNIZATIONS_PATIENT_ID\n",
        "                           )\"\"\"\n",
        "conn.execute(query)\n",
        "conn.commit()\n",
        "\n",
        "conn = sqlite3.connect(DB_FILE_PATH)\n",
        "query = \"\"\"CREATE TABLE IF NOT EXISTS SSS_ENCOUNTERS (\n",
        "                            ENCOUNTERS_ID STRING PRIMARY KEY,\n",
        "                            ENCOUNTERCLASS STRING,\n",
        "                            ENCOUNTERS_PATIENT_ID\n",
        "                           )\"\"\"\n",
        "conn.execute(query)\n",
        "conn.commit()\n",
        "\n",
        "conn = sqlite3.connect(DB_FILE_PATH)\n",
        "query = \"\"\"CREATE TABLE IF NOT EXISTS SSS_PROCEDURES (\n",
        "                            PROCEDURES_CODE STRING,\n",
        "                            PROCEDURES_DESCRIPTION STRING,\n",
        "                            PROCEDURES_PATIENT_ID\n",
        "                           )\"\"\"\n",
        "conn.execute(query)\n",
        "conn.commit()\n",
        "\n",
        "conn = sqlite3.connect(DB_FILE_PATH)\n",
        "query = \"\"\"CREATE TABLE IF NOT EXISTS SSS_PATIENTS (\n",
        "                            PATIENTS_ID STRING PRIMARY KEY,\n",
        "                            PATIENTS_BIRTHDATE DATE,\n",
        "                            PATIENTS_DEATHDATE DATE,\n",
        "                            PATIENTS_GENDER STRING\n",
        "                           )\"\"\"\n",
        "conn.execute(query)\n",
        "conn.commit()"
      ],
      "metadata": {
        "id": "ETEnFs-2NMDp"
      },
      "execution_count": 113,
      "outputs": []
    },
    {
      "cell_type": "code",
      "source": [
        "conn = connect_to_db(DB_FILE_PATH)\n",
        "cursor = conn.cursor()\n",
        "cursor.execute(\"SELECT name FROM sqlite_master WHERE type='table';\")\n",
        "list_of_tables = cursor.fetchall()\n",
        "list_of_tables_in_database = []\n",
        "list_of_ss_tables=[]\n",
        "for tupel in list_of_tables:\n",
        "  list_of_tables_in_database.append(tupel[0])\n",
        "for table in list_of_tables_in_database:\n",
        "  if table[0]=='S' and table[1]== 'S':\n",
        "    list_of_ss_tables.append(table)\n",
        "\n",
        "for table in list_of_ss_tables:\n",
        "  conn = sqlite3.connect(DB_FILE_PATH)\n",
        "  query = f\"\"\"DELETE FROM {table}\"\"\"\n",
        "  conn.execute(query)\n",
        "  conn.commit()"
      ],
      "metadata": {
        "id": "DUi3O49GLyVF"
      },
      "execution_count": 114,
      "outputs": []
    },
    {
      "cell_type": "code",
      "source": [
        "import sqlite3\n",
        "from pandas import DataFrame\n",
        "\n",
        "conn = sqlite3.connect(DB_FILE_PATH)\n",
        "cursor = conn.cursor()\n",
        "cursor.execute ('SELECT CONDITIONS.CODE, CONDITIONS.DESCRIPTION, CONDITIONS.PATIENT FROM CONDITIONS')\n",
        "DF_SSS_Conditions = DataFrame(cursor.fetchall())\n",
        "DF_SSS_Conditions.columns = ['CONDITIONS_CODE', 'CONDITIONS_DESCRIPTION', 'CONDITIONS_PATIENT_ID']\n",
        "conn.close()\n",
        "\n",
        "\n",
        "conn = sqlite3.connect(DB_FILE_PATH)\n",
        "cursor = conn.cursor()\n",
        "cursor.execute ('SELECT DEVICES.CODE, DEVICES.DESCRIPTION, DEVICES.PATIENT FROM DEVICES')\n",
        "DF_SSS_DEVICES = DataFrame(cursor.fetchall())\n",
        "DF_SSS_DEVICES.columns = ['DEVICES_CODE', 'DEVICES_DESCRIPTION', 'DEVICES_PATIENT_ID']\n",
        "conn.close()\n",
        "\n",
        "\n",
        "conn = sqlite3.connect(DB_FILE_PATH)\n",
        "cursor = conn.cursor()\n",
        "cursor.execute ('SELECT MEDICATIONS.CODE, MEDICATIONS.DESCRIPTION, MEDICATIONS.PATIENT FROM MEDICATIONS')\n",
        "DF_SSS_MEDICATIONS = DataFrame(cursor.fetchall())\n",
        "DF_SSS_MEDICATIONS.columns = ['MEDICATIONS_CODE', 'MEDICATIONS_DESCRIPTION', 'MEDICATIONS_PATIENT_ID']\n",
        "conn.close()\n",
        "\n",
        "\n",
        "conn = sqlite3.connect(DB_FILE_PATH)\n",
        "cursor = conn.cursor()\n",
        "cursor.execute ('SELECT IMMUNIZATIONS.CODE, IMMUNIZATIONS.DESCRIPTION, IMMUNIZATIONS.PATIENT FROM IMMUNIZATIONS')\n",
        "DF_SSS_IMMUNIZATIONS = DataFrame(cursor.fetchall())\n",
        "DF_SSS_IMMUNIZATIONS.columns = ['IMMUNIZATIONS_CODE', 'IMMUNIZATIONS_DESCRIPTION', 'IMMUNIZATIONS_PATIENT_ID']\n",
        "conn.close()\n",
        "\n",
        "\n",
        "conn = sqlite3.connect(DB_FILE_PATH)\n",
        "cursor = conn.cursor()\n",
        "cursor.execute ('SELECT ENCOUNTERS.ID, ENCOUNTERS.ENCOUNTERCLASS, ENCOUNTERS.PATIENT FROM ENCOUNTERS')\n",
        "DF_SSS_ENCOUNTERS = DataFrame(cursor.fetchall())\n",
        "DF_SSS_ENCOUNTERS.columns = ['ENCOUNTERS_ID', 'ENCOUNTERCLASS', 'ENCOUNTERS_PATIENT_ID']\n",
        "conn.close()\n",
        "\n",
        "\n",
        "conn = sqlite3.connect(DB_FILE_PATH)\n",
        "cursor = conn.cursor()\n",
        "cursor.execute ('SELECT PROCEDURES.CODE, PROCEDURES.DESCRIPTION, PROCEDURES.PATIENT FROM PROCEDURES')\n",
        "DF_SSS_PROCEDURES = DataFrame(cursor.fetchall())\n",
        "DF_SSS_PROCEDURES.columns = ['PROCEDURES_CODE', 'PROCEDURES_DESCRIPTION', 'PROCEDURES_PATIENT_ID']\n",
        "conn.close()\n",
        "\n",
        "\n",
        "conn = sqlite3.connect(DB_FILE_PATH)\n",
        "cursor = conn.cursor()\n",
        "cursor.execute ('SELECT PATIENTS.ID, PATIENTS.BIRTHDATE, PATIENTS.DEATHDATE, PATIENTS.GENDER FROM PATIENTS')\n",
        "DF_SSS_PATIENTS = DataFrame(cursor.fetchall())\n",
        "DF_SSS_PATIENTS.columns = ['PATIENTS_ID', 'PATIENTS_BIRTHDATE', 'PATIENTS_DEATHDATE', 'PATIENTS_GENDER']\n",
        "conn.close()\n"
      ],
      "metadata": {
        "id": "xu7epoGzfiBL"
      },
      "execution_count": 115,
      "outputs": []
    },
    {
      "cell_type": "code",
      "source": [
        "conn = sqlite3.connect(DB_FILE_PATH)\n",
        "DF_SSS_Conditions.to_sql('SSS_CONDITIONS',conn, if_exists = 'replace', index = False)\n",
        "conn.commit()\n",
        "conn.close()\n",
        "\n",
        "conn = sqlite3.connect(DB_FILE_PATH)\n",
        "DF_SSS_DEVICES.to_sql('SSS_DEVICES',conn, if_exists = 'replace', index = False)\n",
        "conn.commit()\n",
        "conn.close()\n",
        "\n",
        "conn = sqlite3.connect(DB_FILE_PATH)\n",
        "DF_SSS_MEDICATIONS.to_sql('SSS_MEDICATIONS',conn, if_exists = 'replace', index = False)\n",
        "conn.commit()\n",
        "conn.close()\n",
        "\n",
        "conn = sqlite3.connect(DB_FILE_PATH)\n",
        "DF_SSS_IMMUNIZATIONS.to_sql('SSS_IMMUNIZATIONS',conn, if_exists = 'replace', index = False)\n",
        "conn.commit()\n",
        "conn.close()\n",
        "\n",
        "conn = sqlite3.connect(DB_FILE_PATH)\n",
        "DF_SSS_ENCOUNTERS.to_sql('SSS_ENCOUNTERS',conn, if_exists = 'replace', index = False)\n",
        "conn.commit()\n",
        "conn.close()\n",
        "\n",
        "conn = sqlite3.connect(DB_FILE_PATH)\n",
        "DF_SSS_PROCEDURES.to_sql('SSS_PROCEDURES',conn, if_exists = 'replace', index = False)\n",
        "conn.commit()\n",
        "conn.close()\n",
        "\n",
        "conn = sqlite3.connect(DB_FILE_PATH)\n",
        "DF_SSS_PATIENTS.to_sql('SSS_PATIENTS',conn, if_exists = 'replace', index = False)\n",
        "conn.commit()\n",
        "conn.close()\n"
      ],
      "metadata": {
        "id": "qZbjo-fklwDY"
      },
      "execution_count": 116,
      "outputs": []
    }
  ]
}