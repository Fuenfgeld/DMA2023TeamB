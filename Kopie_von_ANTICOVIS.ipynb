{
  "nbformat": 4,
  "nbformat_minor": 0,
  "metadata": {
    "colab": {
      "provenance": [],
      "authorship_tag": "ABX9TyPxApiQGfWvsIGqpPatJsAI",
      "include_colab_link": true
    },
    "kernelspec": {
      "name": "python3",
      "display_name": "Python 3"
    },
    "language_info": {
      "name": "python"
    }
  },
  "cells": [
    {
      "cell_type": "markdown",
      "metadata": {
        "id": "view-in-github",
        "colab_type": "text"
      },
      "source": [
        "<a href=\"https://colab.research.google.com/github/Fuenfgeld/DMA2023TeamB/blob/main/Kopie_von_ANTICOVIS.ipynb\" target=\"_parent\"><img src=\"https://colab.research.google.com/assets/colab-badge.svg\" alt=\"Open In Colab\"/></a>"
      ]
    },
    {
      "cell_type": "code",
      "source": [
        "! git clone https://github.com/Fuenfgeld/DatamanagementAndArchiving"
      ],
      "metadata": {
        "colab": {
          "base_uri": "https://localhost:8080/"
        },
        "id": "k27M41168YM6",
        "outputId": "51f060d1-880b-4cfa-fe08-36eed26f540c"
      },
      "execution_count": 5,
      "outputs": [
        {
          "output_type": "stream",
          "name": "stdout",
          "text": [
            "fatal: destination path 'DatamanagementAndArchiving' already exists and is not an empty directory.\n"
          ]
        }
      ]
    },
    {
      "cell_type": "code",
      "execution_count": 6,
      "metadata": {
        "id": "5csRoL7mUBLP"
      },
      "outputs": [],
      "source": [
        "import pandas as pd\n",
        "from functools import reduce\n",
        "import sqlite3\n",
        "from sqlite3 import Error\n",
        "import csv"
      ]
    },
    {
      "cell_type": "code",
      "source": [
        "from google.colab import drive\n",
        "drive.mount(\"/content/drive\")"
      ],
      "metadata": {
        "id": "pphFDcboizGa",
        "outputId": "b63b87bd-230b-4b16-a463-784bdac4fe08",
        "colab": {
          "base_uri": "https://localhost:8080/"
        }
      },
      "execution_count": 7,
      "outputs": [
        {
          "output_type": "stream",
          "name": "stdout",
          "text": [
            "Mounted at /content/drive\n"
          ]
        }
      ]
    },
    {
      "cell_type": "code",
      "source": [
        "material_path = \"/content/DatamanagementAndArchiving/SynteticPatientData\""
      ],
      "metadata": {
        "id": "jx6xlk6-i8wt"
      },
      "execution_count": 8,
      "outputs": []
    },
    {
      "cell_type": "code",
      "source": [
        "!ls \"/content/DatamanagementAndArchiving/SynteticPatientData\""
      ],
      "metadata": {
        "id": "n2zJirM_jeFB",
        "outputId": "fb121f70-d27a-4f89-a552-291a487837fe",
        "colab": {
          "base_uri": "https://localhost:8080/"
        }
      },
      "execution_count": 9,
      "outputs": [
        {
          "output_type": "stream",
          "name": "stdout",
          "text": [
            "allergy  breast_cancer\t    covid19\tlung_cancer\t\t    README.md\n",
            "asthma\t colorectal_cancer  dermatitis\tmetabolic_syndrome_disease  source_dbs\n"
          ]
        }
      ]
    },
    {
      "cell_type": "code",
      "source": [
        "## type of patients\n",
        "# patient_type = \"allergy\"\n",
        "# patient_type = \"asthma\"\n",
        "# patient_type = \"breast_cancer\"\n",
        "# patient_type = \"metabolic_syndrome_disease\"\n",
        "# patient_type = \"colorectal_cancer\"\n",
        "patient_type = \"covid19\"\n",
        "# patient_type = \"dermatitis\"\n",
        "# patient_type = \"lung_cancer\""
      ],
      "metadata": {
        "id": "uCCdllGHjzxR"
      },
      "execution_count": 10,
      "outputs": []
    },
    {
      "cell_type": "code",
      "source": [
        "# source database path\n",
        "DB_FILE_PATH = f\"{material_path}/source_dbs/source_{patient_type}_test.db\"\n",
        "\n",
        "# folder contains csv files\n",
        "csv_path = f\"{material_path}/{patient_type}/\"\n",
        "\n",
        "DB_FILE_PATH, csv_path"
      ],
      "metadata": {
        "id": "2Vnt1Nydj96a",
        "outputId": "cb0eb24b-c841-45d9-c4bb-4a5b7f17e9e8",
        "colab": {
          "base_uri": "https://localhost:8080/"
        }
      },
      "execution_count": 11,
      "outputs": [
        {
          "output_type": "execute_result",
          "data": {
            "text/plain": [
              "('/content/DatamanagementAndArchiving/SynteticPatientData/source_dbs/source_covid19_test.db',\n",
              " '/content/DatamanagementAndArchiving/SynteticPatientData/covid19/')"
            ]
          },
          "metadata": {},
          "execution_count": 11
        }
      ]
    },
    {
      "cell_type": "code",
      "source": [
        "# dictionary key: name of table, values: sql query to create table\n",
        "sql_table = {}"
      ],
      "metadata": {
        "id": "zcFv3hLDkHWZ"
      },
      "execution_count": 12,
      "outputs": []
    },
    {
      "cell_type": "code",
      "source": [
        "# sql query to create disease table\n",
        "sql_table[\"disease\"] = \"\"\"CREATE TABLE IF NOT EXISTS disease (\n",
        "                           START DATE,\n",
        "                           STOP DATE,\n",
        "                           PATIENT STRING,\n",
        "                           ENCOUNTER STRING,\n",
        "                           CODE STRING,\n",
        "                           DESCRIPTION STRING,\n",
        "                           FOREIGN KEY (PATIENT)\n",
        "                              REFERENCES patients (Id) \n",
        "                           FOREIGN KEY (Encounter)\n",
        "                              REFERENCES encounters (Id)\n",
        "                           \n",
        "                       );\"\"\""
      ],
      "metadata": {
        "id": "DkUzGbo7kanC"
      },
      "execution_count": 13,
      "outputs": []
    },
    {
      "cell_type": "code",
      "source": [
        "#  sql query to create patients table\n",
        "sql_table[\"patients\"] = \"\"\"CREATE TABLE IF NOT EXISTS patients (\n",
        "                           Id STRING PRIMARY KEY,\n",
        "                           BIRTHDATE DATE,\n",
        "                           DEATHDATE DATE,\n",
        "                           SSN STRING,\n",
        "                           DRIVERS STRING,\n",
        "                           PASSPORT STRING,\n",
        "                           PREFIX STRING,\n",
        "                           FIRST STRING,\n",
        "                           LAST STRING,\n",
        "                           SUFFIX STRING,\n",
        "                           MAIDEN STRING,\n",
        "                           MARITAL STRING,\n",
        "                           RACE STRING,\n",
        "                           ETHNICITY STRING,\n",
        "                           GENDER STRING,\n",
        "                           BIRTHPLACE STRING,\n",
        "                           ADDRESS STRING,\n",
        "                           CITY STRING,\n",
        "                           STATE STRING,\n",
        "                           COUNTRY STRING,\n",
        "                           ZIP STRING,\n",
        "                           LAT INTEGER,\n",
        "                           LON INTEGER,\n",
        "                           HEALTHCARE_EXPENSES INTEGER,\n",
        "                           HEALTHCARE_COVERAGE INTEGER\n",
        "                       );\"\"\"\n",
        "      "
      ],
      "metadata": {
        "id": "YmuFzujKkclG"
      },
      "execution_count": 14,
      "outputs": []
    },
    {
      "cell_type": "code",
      "source": [
        "# sql query to create encounters table\n",
        "sql_table[\"encounters\"] = \"\"\"CREATE TABLE IF NOT EXISTS encounters (\n",
        "                           Id STRING PRIMARY KEY,\n",
        "                           START DATE,\n",
        "                           STOP DATE,\n",
        "                           PATIENT STRING,\n",
        "                           ORGANIZATIONS STRING,\n",
        "                           PROVIDER STRING,\n",
        "                           PAYER STRING,\n",
        "                           ENCOUNTERCLASS STRING,\n",
        "                           CODE STRING,\n",
        "                           DESCRIPTION STRING,\n",
        "                           BASE_ENCOUNTER_COST INTEGER,\n",
        "                           TOTAL_CLAIM_COST INTEGER,\n",
        "                           PAYER_COVERAGE INTEGER,\n",
        "                           REASONCODE STRING,\n",
        "                           REASONDESCRIPTION STRING,\n",
        "                           FOREIGN KEY (PATIENT)\n",
        "                              REFERENCES patients (Id) \n",
        "                       );\"\"\"\n"
      ],
      "metadata": {
        "id": "OfSkR4omkhoc"
      },
      "execution_count": 15,
      "outputs": []
    },
    {
      "cell_type": "code",
      "source": [
        "# sql query to create careplans table\n",
        "sql_table[\"careplans\"] = \"\"\"CREATE TABLE IF NOT EXISTS careplans (\n",
        "                           Id STRING PRIMARY KEY,\n",
        "                           START DATE,\n",
        "                           STOP DATE,\n",
        "                           PATIENT STRING,\n",
        "                           ENCOUNTER STRING,\n",
        "                           CODE STRING,\n",
        "                           DESCRIPTION STRING,\n",
        "                           REASONCODE STRING,\n",
        "                           REASONDESCRIPTION STRING,\n",
        "                           FOREIGN KEY (PATIENT)\n",
        "                              REFERENCES patients (Id) \n",
        "                           FOREIGN KEY (Encounter)\n",
        "                              REFERENCES encounters (Id) \n",
        "\n",
        "                       );\"\"\""
      ],
      "metadata": {
        "id": "YxtJkYQTkk5L"
      },
      "execution_count": 16,
      "outputs": []
    },
    {
      "cell_type": "code",
      "source": [
        "# sql query to create conditions table\n",
        "sql_table[\"conditions\"] = \"\"\"CREATE TABLE IF NOT EXISTS conditions (\n",
        "                           START DATE,\n",
        "                           STOP DATE,\n",
        "                           PATIENT STRING,\n",
        "                           ENCOUNTER STRING,\n",
        "                           CODE STRING,\n",
        "                           DESCRIPTION STRING,\n",
        "                           FOREIGN KEY (PATIENT)\n",
        "                              REFERENCES patients (Id) \n",
        "                           FOREIGN KEY (Encounter)\n",
        "                              REFERENCES encounters (Id) \n",
        "\n",
        "                       );\"\"\""
      ],
      "metadata": {
        "id": "ni9VaD_qkpQ8"
      },
      "execution_count": 17,
      "outputs": []
    },
    {
      "cell_type": "code",
      "source": [
        "# sql query to create medications table\n",
        "sql_table[\"medications\"] = \"\"\"CREATE TABLE IF NOT EXISTS medications (\n",
        "                           START DATE,\n",
        "                           STOP DATE,\n",
        "                           PATIENT STRING,\n",
        "                           PAYER STRING,\n",
        "                           ENCOUNTER STRING,\n",
        "                           CODE STRING,\n",
        "                           DESCRIPTION STRING,\n",
        "                           BASE_COST INTEGER,\n",
        "                           PAYER_COVERAGE INTEGER,\n",
        "                           DISPENSES INTEGER,\n",
        "                           TOTALCOST INTEGER,\n",
        "                           REASONCODE STRING,\n",
        "                           REASONDESCRIPTION STRING,\n",
        "                           FOREIGN KEY (PATIENT)\n",
        "                              REFERENCES patients (Id) \n",
        "                           \n",
        "                       );\"\"\""
      ],
      "metadata": {
        "id": "wJ_l24vyktl7"
      },
      "execution_count": 18,
      "outputs": []
    },
    {
      "cell_type": "code",
      "source": [
        "# # sql query to create procedures table\n",
        "sql_table[\"procedures\"]= \"\"\"CREATE TABLE IF NOT EXISTS procedures (\n",
        "                           DATE DATE,\n",
        "                           PATIENT STRING,\n",
        "                           ENCOUNTER STRING,\n",
        "                           CODE STRING,\n",
        "                           DESCRIPTION STRING,\n",
        "                           BASE_COST INTEGER,\n",
        "                           REASONCODE STRING,\n",
        "                           REASONDESCRIPTION STRING,\n",
        "                           FOREIGN KEY (PATIENT)\n",
        "                              REFERENCES patients (Id) \n",
        "                           FOREIGN KEY (Encounter)\n",
        "                              REFERENCES encounters (Id) \n",
        "\n",
        "                       );\"\"\"\n"
      ],
      "metadata": {
        "id": "-aslqqiRkwvu"
      },
      "execution_count": 19,
      "outputs": []
    },
    {
      "cell_type": "code",
      "source": [
        "\n",
        "# # sql query to create observations table\n",
        "sql_table[\"observations\"]= \"\"\"CREATE TABLE IF NOT EXISTS observations (\n",
        "                           DATE DATE,\n",
        "                           PATIENT STRING,\n",
        "                           ENCOUNTER STRING,\n",
        "                           CODE STRING,\n",
        "                           DESCRIPTION STRING,\n",
        "                           VALUE STRING,\n",
        "                           UNITS STRING,\n",
        "                           TYPE STRING,\n",
        "                           FOREIGN KEY (PATIENT)\n",
        "                              REFERENCES patients (Id) \n",
        "                           FOREIGN KEY (Encounter)\n",
        "                              REFERENCES encounters (Id) \n",
        "\n",
        "                       );\"\"\""
      ],
      "metadata": {
        "id": "41VR09eyk0qW"
      },
      "execution_count": 20,
      "outputs": []
    },
    {
      "cell_type": "code",
      "source": [
        "# sql query to create devices table\n",
        "sql_table[\"devices\"] = \"\"\"CREATE TABLE IF NOT EXISTS devices (\n",
        "                           START DATE,\n",
        "                           STOP DATE,\n",
        "                           PATIENT STRING,\n",
        "                           ENCOUNTER STRING,\n",
        "                           CODE STRING,\n",
        "                           DESCRIPTION STRING,\n",
        "                           UDI STRING,\n",
        "                           FOREIGN KEY (PATIENT)\n",
        "                              REFERENCES patients (Id) \n",
        "                           FOREIGN KEY (Encounter)\n",
        "                              REFERENCES encounters (Id)\n",
        "                           \n",
        "                       );\"\"\"\n"
      ],
      "metadata": {
        "id": "GFvZZctMk3ff"
      },
      "execution_count": 21,
      "outputs": []
    },
    {
      "cell_type": "code",
      "source": [
        "# sql query to create Imaging_studies table\n",
        "sql_table[\"imaging_studies\"] = \"\"\"CREATE TABLE IF NOT EXISTS imaging_studies (\n",
        "                           Id STRING PRIMARY KEY,\n",
        "                           DATE DATE,\n",
        "                           PATIENT STRING,\n",
        "                           ENCOUNTER STRING,\n",
        "                           BODYSITE_CODE STRING,\n",
        "                           BODYSITE_DESCRIPTION STRING,\n",
        "                           MODALITY_CODE STRING,\n",
        "                           MODALITY_DESCRIPTION STRING,\n",
        "                           SOP_CODE STRING,\n",
        "                           SOP_DESCRIPTION STRING,\n",
        "                           FOREIGN KEY (PATIENT)\n",
        "                              REFERENCES patients (Id) \n",
        "                           FOREIGN KEY (Encounter)\n",
        "                              REFERENCES encounters (Id) \n",
        "\n",
        "                       );\"\"\""
      ],
      "metadata": {
        "id": "Uv4UJnlWk57w"
      },
      "execution_count": 22,
      "outputs": []
    },
    {
      "cell_type": "code",
      "source": [
        "# sql query to create Immunizations table\n",
        "sql_table[\"immunizations\"]= \"\"\"CREATE TABLE IF NOT EXISTS immunizations(\n",
        "                           DATE DATE,\n",
        "                           PATIENT STRING,\n",
        "                           ENCOUNTER STRING,\n",
        "                           CODE STRING,\n",
        "                           DESCRIPTION STRING,\n",
        "                           BASE_COST INTEGER,\n",
        "                           FOREIGN KEY (PATIENT)\n",
        "                              REFERENCES patients (Id) \n",
        "                           FOREIGN KEY (Encounter)\n",
        "                              REFERENCES encounters (Id) \n",
        "\n",
        "                       );\"\"\""
      ],
      "metadata": {
        "id": "ckUKMCT7k81-"
      },
      "execution_count": 23,
      "outputs": []
    },
    {
      "cell_type": "code",
      "source": [
        "db_file = DB_FILE_PATH"
      ],
      "metadata": {
        "id": "3fDImKfjCT1K"
      },
      "execution_count": 24,
      "outputs": []
    },
    {
      "cell_type": "code",
      "source": [
        "def connect_to_db(db_file):\n",
        "    \"\"\"\n",
        "    Connect to an SQlite database, if db file does not exist it will be created\n",
        "    :param db_file: absolute or relative path of db file\n",
        "    :return: sqlite3 connection\n",
        "    \"\"\"\n",
        "    sqlite3_conn = None\n",
        "\n",
        "    try:\n",
        "        sqlite3_conn = sqlite3.connect(db_file)\n",
        "        return sqlite3_conn\n",
        "\n",
        "    except Error as err:\n",
        "        print(err)\n",
        "\n",
        "        if sqlite3_conn is not None:\n",
        "            sqlite3_conn.close()\n",
        "\n",
        "\n",
        "def insert_values_to_table(cursor, table_name, csv_file_path):\n",
        "\n",
        "    \"\"\"\n",
        "    Open a csv file, store its content in a list excluding header and insert the data from the list to db table\n",
        "    :param table_name: table name in the database to insert the data into\n",
        "    :param csv_file_path: path of the csv file to process\n",
        "    :return: None\n",
        "    \"\"\"\n",
        "\n",
        "    # Read CSV file content\n",
        "    values_to_insert = open_csv_file(csv_file_path)\n",
        "\n",
        "    # Insert to table\n",
        "    if len(values_to_insert) > 0:\n",
        "        column_names, column_numbers = get_column_names_from_db_table(cursor, table_name)\n",
        "\n",
        "        values_str = '?,' * column_numbers\n",
        "        # print(\"*****\", values_str, column_names, column_numbers)\n",
        "        values_str = values_str[:-1]\n",
        "\n",
        "        sql_query = 'INSERT OR REPLACE INTO ' + table_name + '(' + column_names + ') VALUES (' + values_str + ')'\n",
        "\n",
        "\n",
        "        cursor.executemany(sql_query, values_to_insert)\n",
        "        # conn.commit()\n",
        "\n",
        "        print('SQL insert process finished')\n",
        "    else:\n",
        "        print('Nothing to insert')\n",
        "\n",
        "        # conn.close()\n",
        "\n",
        "    # else:\n",
        "        # print('Connection to database failed')\n",
        "\n",
        "\n",
        "def open_csv_file(csv_file_path):\n",
        "    \"\"\"\n",
        "    Open and read data from a csv file without headers (skipping the first row)\n",
        "    :param csv_file_path: path of the csv file to process\n",
        "    :return: a list with the csv content\n",
        "    \"\"\"\n",
        "    with open(csv_file_path, 'r', encoding='utf-8') as csv_file:\n",
        "        reader = csv.reader(csv_file)\n",
        "        next(reader)\n",
        "\n",
        "        data = list()\n",
        "        for row in reader:\n",
        "            data.append(row)\n",
        "\n",
        "        return data\n",
        "\n",
        "\n",
        "def get_column_names_from_db_table(sql_cursor, table_name):\n",
        "    \"\"\"\n",
        "    Scrape the column names from a database table to a list and convert to a comma separated string, count the number\n",
        "    of columns in a database table\n",
        "    :param sql_cursor: sqlite cursor\n",
        "    :param table_name: table name to get the column names from\n",
        "    :return: a comma separated string with column names, an integer with number of columns\n",
        "    \"\"\"\n",
        "\n",
        "    table_column_names = 'PRAGMA table_info(' + table_name + ');'\n",
        "    sql_cursor.execute(table_column_names)\n",
        "    table_column_names = sql_cursor.fetchall()\n",
        "\n",
        "    column_count = len(table_column_names)\n",
        "\n",
        "    column_names = list()\n",
        "\n",
        "    for name in table_column_names:\n",
        "        column_names.append(name[1])\n",
        "\n",
        "    return ', '.join(column_names), column_count\n",
        "\n"
      ],
      "metadata": {
        "id": "uJDvFnG3lY_a"
      },
      "execution_count": 25,
      "outputs": []
    },
    {
      "cell_type": "code",
      "source": [
        "# list of tables\n",
        "sql_table.keys()"
      ],
      "metadata": {
        "id": "6fX89bgBlfQ2",
        "outputId": "cc6610a8-9ce2-4e8e-d861-3c5b7972efa6",
        "colab": {
          "base_uri": "https://localhost:8080/"
        }
      },
      "execution_count": 26,
      "outputs": [
        {
          "output_type": "execute_result",
          "data": {
            "text/plain": [
              "dict_keys(['disease', 'patients', 'encounters', 'careplans', 'conditions', 'medications', 'procedures', 'observations', 'devices', 'imaging_studies', 'immunizations'])"
            ]
          },
          "metadata": {},
          "execution_count": 26
        }
      ]
    },
    {
      "cell_type": "code",
      "source": [
        "# # remove all tables in a db\n",
        "# for name in sql_table.keys():\n",
        "#   cursor.execute(f\"drop table if exists {name}\")\n"
      ],
      "metadata": {
        "id": "6OYCs-LIlti7"
      },
      "execution_count": 27,
      "outputs": []
    },
    {
      "cell_type": "code",
      "source": [
        "# import csv into db\n",
        "conn = connect_to_db(DB_FILE_PATH)\n",
        "if conn is not None:\n",
        "        cursor = conn.cursor()\n",
        "        for name in sql_table.keys():\n",
        "          csv_file = csv_path + name + \".csv\"\n",
        "          print(name, csv_file)\n",
        "          \n",
        "          cursor.execute(sql_table[name])\n",
        "\n",
        "          insert_values_to_table(cursor, name, csv_file)\n",
        "          conn.commit()\n",
        "else:\n",
        "        print('Connection to database failed')\n"
      ],
      "metadata": {
        "id": "CLb-VhYrlxKa",
        "outputId": "00e74a32-8dfc-4f02-ab8d-4b6bb50f7684",
        "colab": {
          "base_uri": "https://localhost:8080/"
        }
      },
      "execution_count": 40,
      "outputs": [
        {
          "output_type": "stream",
          "name": "stdout",
          "text": [
            "disease /content/DatamanagementAndArchiving/SynteticPatientData/covid19/disease.csv\n",
            "Nothing to insert\n",
            "patients /content/DatamanagementAndArchiving/SynteticPatientData/covid19/patients.csv\n",
            "SQL insert process finished\n",
            "encounters /content/DatamanagementAndArchiving/SynteticPatientData/covid19/encounters.csv\n",
            "SQL insert process finished\n",
            "careplans /content/DatamanagementAndArchiving/SynteticPatientData/covid19/careplans.csv\n",
            "SQL insert process finished\n",
            "conditions /content/DatamanagementAndArchiving/SynteticPatientData/covid19/conditions.csv\n",
            "SQL insert process finished\n",
            "medications /content/DatamanagementAndArchiving/SynteticPatientData/covid19/medications.csv\n",
            "SQL insert process finished\n",
            "procedures /content/DatamanagementAndArchiving/SynteticPatientData/covid19/procedures.csv\n",
            "SQL insert process finished\n",
            "observations /content/DatamanagementAndArchiving/SynteticPatientData/covid19/observations.csv\n",
            "SQL insert process finished\n",
            "devices /content/DatamanagementAndArchiving/SynteticPatientData/covid19/devices.csv\n",
            "SQL insert process finished\n",
            "imaging_studies /content/DatamanagementAndArchiving/SynteticPatientData/covid19/imaging_studies.csv\n",
            "Nothing to insert\n",
            "immunizations /content/DatamanagementAndArchiving/SynteticPatientData/covid19/immunizations.csv\n",
            "SQL insert process finished\n"
          ]
        }
      ]
    },
    {
      "cell_type": "code",
      "source": [
        "## ex, access to a csv file\n",
        " #pd.read_csv(f\"{csv_path}disease.csv\").head()"
      ],
      "metadata": {
        "id": "-H7wo4lAwcgQ"
      },
      "execution_count": 29,
      "outputs": []
    },
    {
      "cell_type": "code",
      "source": [
        "# List of tables in database \n",
        "cursor.execute(\"SELECT name FROM sqlite_master WHERE type='table';\")\n",
        "print(cursor.fetchall())"
      ],
      "metadata": {
        "id": "C_WbSHWDw0qe",
        "colab": {
          "base_uri": "https://localhost:8080/"
        },
        "outputId": "0e6332ab-54b8-4d9a-f572-5646d1ffd5ef"
      },
      "execution_count": 42,
      "outputs": [
        {
          "output_type": "stream",
          "name": "stdout",
          "text": [
            "[('disease',), ('patients',), ('encounters',), ('careplans',), ('conditions',), ('medications',), ('procedures',), ('observations',), ('devices',), ('imaging_studies',), ('immunizations',)]\n"
          ]
        }
      ]
    },
    {
      "cell_type": "code",
      "source": [
        "## check data in a table\n",
        "cursor.execute(\"SELECT * FROM patients;\")\n",
        "rows = cursor.fetchall()\n",
        "for row in rows:\n",
        "  print(row)"
      ],
      "metadata": {
        "id": "mokAvuzbw3yD"
      },
      "execution_count": null,
      "outputs": []
    },
    {
      "cell_type": "code",
      "source": [
        "conn.commit()"
      ],
      "metadata": {
        "id": "31iwK-AWw-dK"
      },
      "execution_count": 34,
      "outputs": []
    },
    {
      "cell_type": "code",
      "source": [
        "#conn.close()\n"
      ],
      "metadata": {
        "id": "ZDg3SoVZxCHo"
      },
      "execution_count": 35,
      "outputs": []
    }
  ]
}