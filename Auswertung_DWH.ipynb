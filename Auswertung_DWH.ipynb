{
  "nbformat": 4,
  "nbformat_minor": 0,
  "metadata": {
    "colab": {
      "provenance": [],
      "include_colab_link": true
    },
    "kernelspec": {
      "name": "python3",
      "display_name": "Python 3"
    }
  },
  "cells": [
    {
      "cell_type": "markdown",
      "metadata": {
        "id": "view-in-github",
        "colab_type": "text"
      },
      "source": [
        "<a href=\"https://colab.research.google.com/github/Fuenfgeld/DMA2023TeamB/blob/main/Auswertung_DWH.ipynb\" target=\"_parent\"><img src=\"https://colab.research.google.com/assets/colab-badge.svg\" alt=\"Open In Colab\"/></a>"
      ]
    },
    {
      "cell_type": "markdown",
      "metadata": {
        "id": "oTF4SC_RjLoX"
      },
      "source": [
        "# **Zweck**: Exploratory Data Analysis (EDA) und Testen der Hypothesen im DWH\n",
        "\n"
      ]
    },
    {
      "cell_type": "markdown",
      "metadata": {
        "id": "f72lAeqGmSSy"
      },
      "source": [
        "# Importing Libraries"
      ]
    },
    {
      "cell_type": "code",
      "metadata": {
        "id": "7W6m6PYU3m9O"
      },
      "source": [
        "import pandas_profiling"
      ],
      "execution_count": null,
      "outputs": []
    },
    {
      "cell_type": "code",
      "metadata": {
        "id": "mHakU94EcNVc"
      },
      "source": [
        "import pandas as pd\n",
        "import numpy as np\n",
        "import sqlite3\n",
        "import seaborn as sns\n",
        "import matplotlib.pyplot as plt\n",
        "from pandas_profiling import ProfileReport\n",
        "%matplotlib inline"
      ],
      "execution_count": null,
      "outputs": []
    },
    {
      "cell_type": "code",
      "metadata": {
        "id": "-042ss9IcbTC",
        "colab": {
          "base_uri": "https://localhost:8080/"
        },
        "outputId": "aee8f502-2d76-4fdb-85ad-efe7fe4d23a6"
      },
      "source": [
        "from google.colab import drive\n",
        "# mount drive to access database\n",
        "drive.mount(\"/content/drive\")"
      ],
      "execution_count": null,
      "outputs": [
        {
          "output_type": "stream",
          "name": "stdout",
          "text": [
            "Mounted at /content/drive\n"
          ]
        }
      ]
    },
    {
      "cell_type": "code",
      "metadata": {
        "id": "HzmmNYDbcnd7"
      },
      "source": [
        "# Pfad des DWH\n",
        "DB_DWH_PATH = \"/content/drive/Shareddrives/DMA_2023_D/DMA2023TeamB/source_dbs/DWH_covid19.db\"\n",
        "\n",
        "# Verbindung zum DWH\n",
        "dwh_conn = sqlite3.connect(DB_DWH_PATH)"
      ],
      "execution_count": null,
      "outputs": []
    },
    {
      "cell_type": "code",
      "metadata": {
        "id": "l3c3cyQocaXV",
        "colab": {
          "base_uri": "https://localhost:8080/"
        },
        "outputId": "ec02c159-7747-45b7-d6ba-38f81ade93f1"
      },
      "source": [
        "# Liste der Tabellen im DWH\n",
        "if dwh_conn is not None:\n",
        "  dwh_cursor = dwh_conn.cursor()\n",
        "  dwh_cursor.execute(\"SELECT name FROM sqlite_master WHERE type='table';\")\n",
        "  print(\"List of Tables\", dwh_cursor.fetchall())\n"
      ],
      "execution_count": null,
      "outputs": [
        {
          "output_type": "stream",
          "name": "stdout",
          "text": [
            "List of Tables [('d_conditions',), ('d_devices',), ('d_medications',), ('d_procedures',), ('d_patients',), ('F_ANTICOVIS',)]\n"
          ]
        }
      ]
    },
    {
      "cell_type": "code",
      "metadata": {
        "id": "r4Pk9g2SdmwO"
      },
      "source": [
        "# Read sqlite query results into a pandas DataFrame\n",
        "# demographic data\n",
        "df_faktentabelle = pd.read_sql_query(\"SELECT * FROM F_ANTICOVIS\", dwh_conn)"
      ],
      "execution_count": null,
      "outputs": []
    },
    {
      "cell_type": "code",
      "metadata": {
        "id": "lK0LXxAAeB5i",
        "colab": {
          "base_uri": "https://localhost:8080/",
          "height": 204
        },
        "outputId": "3bc0aec3-9280-4177-aee8-7ea4c21b6e43"
      },
      "source": [
        "# .head() returns the first 5 rows of my dataset. This is useful if you want to see some example values for each variable.\n",
        "df_faktentabelle.head()"
      ],
      "execution_count": null,
      "outputs": [
        {
          "output_type": "execute_result",
          "data": {
            "text/plain": [
              "                            patients_ID  conditions_code  procedures_code  \\\n",
              "0  2f114e21-8b95-e9eb-2e9e-4b950b059cfa       36955009.0      261352009.0   \n",
              "1  2f114e21-8b95-e9eb-2e9e-4b950b059cfa      386661006.0      261352009.0   \n",
              "2  2f114e21-8b95-e9eb-2e9e-4b950b059cfa      840539006.0      261352009.0   \n",
              "3  2f114e21-8b95-e9eb-2e9e-4b950b059cfa      840544004.0      261352009.0   \n",
              "4  2812f4fc-6aba-0033-728b-7e569bb8adcc       36955009.0      180325003.0   \n",
              "\n",
              "   devices_code  medications_code medication_grading  course_of_Desease  \n",
              "0           0.0               0.0                  0                  1  \n",
              "1           0.0               0.0                  0                  1  \n",
              "2           0.0               0.0                  0                  1  \n",
              "3           0.0               0.0                  0                  1  \n",
              "4           0.0          197604.0                  0                  5  "
            ],
            "text/html": [
              "\n",
              "  <div id=\"df-0357b86e-fe72-4f58-b309-a8a2f49be4fe\">\n",
              "    <div class=\"colab-df-container\">\n",
              "      <div>\n",
              "<style scoped>\n",
              "    .dataframe tbody tr th:only-of-type {\n",
              "        vertical-align: middle;\n",
              "    }\n",
              "\n",
              "    .dataframe tbody tr th {\n",
              "        vertical-align: top;\n",
              "    }\n",
              "\n",
              "    .dataframe thead th {\n",
              "        text-align: right;\n",
              "    }\n",
              "</style>\n",
              "<table border=\"1\" class=\"dataframe\">\n",
              "  <thead>\n",
              "    <tr style=\"text-align: right;\">\n",
              "      <th></th>\n",
              "      <th>patients_ID</th>\n",
              "      <th>conditions_code</th>\n",
              "      <th>procedures_code</th>\n",
              "      <th>devices_code</th>\n",
              "      <th>medications_code</th>\n",
              "      <th>medication_grading</th>\n",
              "      <th>course_of_Desease</th>\n",
              "    </tr>\n",
              "  </thead>\n",
              "  <tbody>\n",
              "    <tr>\n",
              "      <th>0</th>\n",
              "      <td>2f114e21-8b95-e9eb-2e9e-4b950b059cfa</td>\n",
              "      <td>36955009.0</td>\n",
              "      <td>261352009.0</td>\n",
              "      <td>0.0</td>\n",
              "      <td>0.0</td>\n",
              "      <td>0</td>\n",
              "      <td>1</td>\n",
              "    </tr>\n",
              "    <tr>\n",
              "      <th>1</th>\n",
              "      <td>2f114e21-8b95-e9eb-2e9e-4b950b059cfa</td>\n",
              "      <td>386661006.0</td>\n",
              "      <td>261352009.0</td>\n",
              "      <td>0.0</td>\n",
              "      <td>0.0</td>\n",
              "      <td>0</td>\n",
              "      <td>1</td>\n",
              "    </tr>\n",
              "    <tr>\n",
              "      <th>2</th>\n",
              "      <td>2f114e21-8b95-e9eb-2e9e-4b950b059cfa</td>\n",
              "      <td>840539006.0</td>\n",
              "      <td>261352009.0</td>\n",
              "      <td>0.0</td>\n",
              "      <td>0.0</td>\n",
              "      <td>0</td>\n",
              "      <td>1</td>\n",
              "    </tr>\n",
              "    <tr>\n",
              "      <th>3</th>\n",
              "      <td>2f114e21-8b95-e9eb-2e9e-4b950b059cfa</td>\n",
              "      <td>840544004.0</td>\n",
              "      <td>261352009.0</td>\n",
              "      <td>0.0</td>\n",
              "      <td>0.0</td>\n",
              "      <td>0</td>\n",
              "      <td>1</td>\n",
              "    </tr>\n",
              "    <tr>\n",
              "      <th>4</th>\n",
              "      <td>2812f4fc-6aba-0033-728b-7e569bb8adcc</td>\n",
              "      <td>36955009.0</td>\n",
              "      <td>180325003.0</td>\n",
              "      <td>0.0</td>\n",
              "      <td>197604.0</td>\n",
              "      <td>0</td>\n",
              "      <td>5</td>\n",
              "    </tr>\n",
              "  </tbody>\n",
              "</table>\n",
              "</div>\n",
              "      <button class=\"colab-df-convert\" onclick=\"convertToInteractive('df-0357b86e-fe72-4f58-b309-a8a2f49be4fe')\"\n",
              "              title=\"Convert this dataframe to an interactive table.\"\n",
              "              style=\"display:none;\">\n",
              "        \n",
              "  <svg xmlns=\"http://www.w3.org/2000/svg\" height=\"24px\"viewBox=\"0 0 24 24\"\n",
              "       width=\"24px\">\n",
              "    <path d=\"M0 0h24v24H0V0z\" fill=\"none\"/>\n",
              "    <path d=\"M18.56 5.44l.94 2.06.94-2.06 2.06-.94-2.06-.94-.94-2.06-.94 2.06-2.06.94zm-11 1L8.5 8.5l.94-2.06 2.06-.94-2.06-.94L8.5 2.5l-.94 2.06-2.06.94zm10 10l.94 2.06.94-2.06 2.06-.94-2.06-.94-.94-2.06-.94 2.06-2.06.94z\"/><path d=\"M17.41 7.96l-1.37-1.37c-.4-.4-.92-.59-1.43-.59-.52 0-1.04.2-1.43.59L10.3 9.45l-7.72 7.72c-.78.78-.78 2.05 0 2.83L4 21.41c.39.39.9.59 1.41.59.51 0 1.02-.2 1.41-.59l7.78-7.78 2.81-2.81c.8-.78.8-2.07 0-2.86zM5.41 20L4 18.59l7.72-7.72 1.47 1.35L5.41 20z\"/>\n",
              "  </svg>\n",
              "      </button>\n",
              "      \n",
              "  <style>\n",
              "    .colab-df-container {\n",
              "      display:flex;\n",
              "      flex-wrap:wrap;\n",
              "      gap: 12px;\n",
              "    }\n",
              "\n",
              "    .colab-df-convert {\n",
              "      background-color: #E8F0FE;\n",
              "      border: none;\n",
              "      border-radius: 50%;\n",
              "      cursor: pointer;\n",
              "      display: none;\n",
              "      fill: #1967D2;\n",
              "      height: 32px;\n",
              "      padding: 0 0 0 0;\n",
              "      width: 32px;\n",
              "    }\n",
              "\n",
              "    .colab-df-convert:hover {\n",
              "      background-color: #E2EBFA;\n",
              "      box-shadow: 0px 1px 2px rgba(60, 64, 67, 0.3), 0px 1px 3px 1px rgba(60, 64, 67, 0.15);\n",
              "      fill: #174EA6;\n",
              "    }\n",
              "\n",
              "    [theme=dark] .colab-df-convert {\n",
              "      background-color: #3B4455;\n",
              "      fill: #D2E3FC;\n",
              "    }\n",
              "\n",
              "    [theme=dark] .colab-df-convert:hover {\n",
              "      background-color: #434B5C;\n",
              "      box-shadow: 0px 1px 3px 1px rgba(0, 0, 0, 0.15);\n",
              "      filter: drop-shadow(0px 1px 2px rgba(0, 0, 0, 0.3));\n",
              "      fill: #FFFFFF;\n",
              "    }\n",
              "  </style>\n",
              "\n",
              "      <script>\n",
              "        const buttonEl =\n",
              "          document.querySelector('#df-0357b86e-fe72-4f58-b309-a8a2f49be4fe button.colab-df-convert');\n",
              "        buttonEl.style.display =\n",
              "          google.colab.kernel.accessAllowed ? 'block' : 'none';\n",
              "\n",
              "        async function convertToInteractive(key) {\n",
              "          const element = document.querySelector('#df-0357b86e-fe72-4f58-b309-a8a2f49be4fe');\n",
              "          const dataTable =\n",
              "            await google.colab.kernel.invokeFunction('convertToInteractive',\n",
              "                                                     [key], {});\n",
              "          if (!dataTable) return;\n",
              "\n",
              "          const docLinkHtml = 'Like what you see? Visit the ' +\n",
              "            '<a target=\"_blank\" href=https://colab.research.google.com/notebooks/data_table.ipynb>data table notebook</a>'\n",
              "            + ' to learn more about interactive tables.';\n",
              "          element.innerHTML = '';\n",
              "          dataTable['output_type'] = 'display_data';\n",
              "          await google.colab.output.renderOutput(dataTable, element);\n",
              "          const docLink = document.createElement('div');\n",
              "          docLink.innerHTML = docLinkHtml;\n",
              "          element.appendChild(docLink);\n",
              "        }\n",
              "      </script>\n",
              "    </div>\n",
              "  </div>\n",
              "  "
            ]
          },
          "metadata": {},
          "execution_count": 7
        }
      ]
    },
    {
      "cell_type": "code",
      "metadata": {
        "id": "wu4gAaCVqhJb",
        "colab": {
          "base_uri": "https://localhost:8080/"
        },
        "outputId": "43e45e6c-f818-4eb0-b5a2-b11124699a63"
      },
      "source": [
        "# .shape returns the number of rows by the number of columns\n",
        "#size of dataset\n",
        "df_faktentabelle.shape"
      ],
      "execution_count": null,
      "outputs": [
        {
          "output_type": "execute_result",
          "data": {
            "text/plain": [
              "(608791, 7)"
            ]
          },
          "metadata": {},
          "execution_count": 8
        }
      ]
    },
    {
      "cell_type": "code",
      "metadata": {
        "id": "TIO9Yf9-vhF6",
        "colab": {
          "base_uri": "https://localhost:8080/"
        },
        "outputId": "060fd3b2-8662-42a0-b4be-1d7e496a502a"
      },
      "source": [
        "# .columns returns the name of all of your columns in the dataset.\n",
        "df_faktentabelle.columns"
      ],
      "execution_count": null,
      "outputs": [
        {
          "output_type": "execute_result",
          "data": {
            "text/plain": [
              "Index(['patients_ID', 'conditions_code', 'procedures_code', 'devices_code',\n",
              "       'medications_code', 'medication_grading', 'course_of_Desease'],\n",
              "      dtype='object')"
            ]
          },
          "metadata": {},
          "execution_count": 9
        }
      ]
    },
    {
      "cell_type": "code",
      "metadata": {
        "id": "Kp7F79sFlNUy"
      },
      "source": [
        "# attribute type\n",
        "#df_faktentabelle.info()"
      ],
      "execution_count": null,
      "outputs": []
    },
    {
      "cell_type": "code",
      "metadata": {
        "id": "KpVlnD4otd6J"
      },
      "source": [
        "#close db connection\n",
        "dwh_conn.close()"
      ],
      "execution_count": null,
      "outputs": []
    },
    {
      "cell_type": "code",
      "metadata": {
        "colab": {
          "base_uri": "https://localhost:8080/"
        },
        "id": "Txjvbmc_wC-C",
        "outputId": "346b7bd3-9205-4b2e-d851-25b76abe8706"
      },
      "source": [
        "# .nunique(axis=0) returns the number of unique values for each variable.\n",
        "df_faktentabelle.nunique(axis=0)\n"
      ],
      "execution_count": null,
      "outputs": [
        {
          "output_type": "execute_result",
          "data": {
            "text/plain": [
              "patients_ID           1050\n",
              "conditions_code         42\n",
              "procedures_code         18\n",
              "devices_code             7\n",
              "medications_code        30\n",
              "medication_grading       4\n",
              "course_of_Desease        6\n",
              "dtype: int64"
            ]
          },
          "metadata": {},
          "execution_count": 12
        }
      ]
    },
    {
      "cell_type": "code",
      "source": [
        "# all_patients_have_covid = (df_faktentabelle['conditions_code'] == 840539006)\n",
        "# print(\"All patients have COVID-19:\", all_patients_have_covid)"
      ],
      "metadata": {
        "id": "M9H-dtAlfDXW"
      },
      "execution_count": null,
      "outputs": []
    },
    {
      "cell_type": "code",
      "source": [
        "!pip install pandasql"
      ],
      "metadata": {
        "id": "L9acSYjTfxjW",
        "colab": {
          "base_uri": "https://localhost:8080/"
        },
        "outputId": "760027c8-149b-418c-c85b-5e5c8b9d0ea6"
      },
      "execution_count": null,
      "outputs": [
        {
          "output_type": "stream",
          "name": "stdout",
          "text": [
            "Looking in indexes: https://pypi.org/simple, https://us-python.pkg.dev/colab-wheels/public/simple/\n",
            "Collecting pandasql\n",
            "  Downloading pandasql-0.7.3.tar.gz (26 kB)\n",
            "  Preparing metadata (setup.py) ... \u001b[?25l\u001b[?25hdone\n",
            "Requirement already satisfied: numpy in /usr/local/lib/python3.8/dist-packages (from pandasql) (1.21.6)\n",
            "Requirement already satisfied: pandas in /usr/local/lib/python3.8/dist-packages (from pandasql) (1.3.5)\n",
            "Requirement already satisfied: sqlalchemy in /usr/local/lib/python3.8/dist-packages (from pandasql) (1.4.46)\n",
            "Requirement already satisfied: pytz>=2017.3 in /usr/local/lib/python3.8/dist-packages (from pandas->pandasql) (2022.7.1)\n",
            "Requirement already satisfied: python-dateutil>=2.7.3 in /usr/local/lib/python3.8/dist-packages (from pandas->pandasql) (2.8.2)\n",
            "Requirement already satisfied: greenlet!=0.4.17 in /usr/local/lib/python3.8/dist-packages (from sqlalchemy->pandasql) (2.0.2)\n",
            "Requirement already satisfied: six>=1.5 in /usr/local/lib/python3.8/dist-packages (from python-dateutil>=2.7.3->pandas->pandasql) (1.15.0)\n",
            "Building wheels for collected packages: pandasql\n",
            "  Building wheel for pandasql (setup.py) ... \u001b[?25l\u001b[?25hdone\n",
            "  Created wheel for pandasql: filename=pandasql-0.7.3-py3-none-any.whl size=26787 sha256=b2b71ea8f6cfabf51c8574754b997d72cf8571e820ede2d52cfd701dcf9cd259\n",
            "  Stored in directory: /root/.cache/pip/wheels/ed/8f/46/a383923333728744f01ba24adbd8e364f2cb9470a8b8e5b9ff\n",
            "Successfully built pandasql\n",
            "Installing collected packages: pandasql\n",
            "Successfully installed pandasql-0.7.3\n"
          ]
        }
      ]
    },
    {
      "cell_type": "markdown",
      "source": [
        "All Patients with COVID_19"
      ],
      "metadata": {
        "id": "IJS8IUH1hq0x"
      }
    },
    {
      "cell_type": "code",
      "source": [
        "from pandasql import sqldf\n",
        "\n",
        "all_patients_that_had_covid = sqldf(\"\"\"SELECT DISTINCT patients_id, conditions_code As Patients_With_Covid\n",
        "                                                  FROM df_faktentabelle \n",
        "                                                  WHERE conditions_code = 840539006\"\"\")\n",
        "all_patients_that_had_covid"
      ],
      "metadata": {
        "id": "zCKa2f5-e4cq",
        "colab": {
          "base_uri": "https://localhost:8080/",
          "height": 419
        },
        "outputId": "0261eb59-b6fb-4cf8-cc44-9983721f5e30"
      },
      "execution_count": null,
      "outputs": [
        {
          "output_type": "execute_result",
          "data": {
            "text/plain": [
              "                              patients_ID  Patients_With_Covid\n",
              "0    2f114e21-8b95-e9eb-2e9e-4b950b059cfa          840539006.0\n",
              "1    2812f4fc-6aba-0033-728b-7e569bb8adcc          840539006.0\n",
              "2    52a250a9-24e4-ec9b-91d6-c38cf1b10fc0          840539006.0\n",
              "3    ad5525c0-fdab-94dc-018f-d7209c72bdef          840539006.0\n",
              "4    7f30313f-98e9-2cc2-68a5-6f9973f9ad5a          840539006.0\n",
              "..                                    ...                  ...\n",
              "860  75b6b10f-c734-8d73-fc30-cb2bf4ddddd0          840539006.0\n",
              "861  179a1be3-2be7-a60d-2e02-d35e63b585d4          840539006.0\n",
              "862  edab2899-dac4-a19d-59e2-a9bea7b95cab          840539006.0\n",
              "863  4c523ab1-3255-911a-7eef-3bc3e48b7b05          840539006.0\n",
              "864  8d49cb05-b1c3-b8fe-dc75-e43ad861f074          840539006.0\n",
              "\n",
              "[865 rows x 2 columns]"
            ],
            "text/html": [
              "\n",
              "  <div id=\"df-88a37aa1-5597-4263-a15a-79f0652b34fb\">\n",
              "    <div class=\"colab-df-container\">\n",
              "      <div>\n",
              "<style scoped>\n",
              "    .dataframe tbody tr th:only-of-type {\n",
              "        vertical-align: middle;\n",
              "    }\n",
              "\n",
              "    .dataframe tbody tr th {\n",
              "        vertical-align: top;\n",
              "    }\n",
              "\n",
              "    .dataframe thead th {\n",
              "        text-align: right;\n",
              "    }\n",
              "</style>\n",
              "<table border=\"1\" class=\"dataframe\">\n",
              "  <thead>\n",
              "    <tr style=\"text-align: right;\">\n",
              "      <th></th>\n",
              "      <th>patients_ID</th>\n",
              "      <th>Patients_With_Covid</th>\n",
              "    </tr>\n",
              "  </thead>\n",
              "  <tbody>\n",
              "    <tr>\n",
              "      <th>0</th>\n",
              "      <td>2f114e21-8b95-e9eb-2e9e-4b950b059cfa</td>\n",
              "      <td>840539006.0</td>\n",
              "    </tr>\n",
              "    <tr>\n",
              "      <th>1</th>\n",
              "      <td>2812f4fc-6aba-0033-728b-7e569bb8adcc</td>\n",
              "      <td>840539006.0</td>\n",
              "    </tr>\n",
              "    <tr>\n",
              "      <th>2</th>\n",
              "      <td>52a250a9-24e4-ec9b-91d6-c38cf1b10fc0</td>\n",
              "      <td>840539006.0</td>\n",
              "    </tr>\n",
              "    <tr>\n",
              "      <th>3</th>\n",
              "      <td>ad5525c0-fdab-94dc-018f-d7209c72bdef</td>\n",
              "      <td>840539006.0</td>\n",
              "    </tr>\n",
              "    <tr>\n",
              "      <th>4</th>\n",
              "      <td>7f30313f-98e9-2cc2-68a5-6f9973f9ad5a</td>\n",
              "      <td>840539006.0</td>\n",
              "    </tr>\n",
              "    <tr>\n",
              "      <th>...</th>\n",
              "      <td>...</td>\n",
              "      <td>...</td>\n",
              "    </tr>\n",
              "    <tr>\n",
              "      <th>860</th>\n",
              "      <td>75b6b10f-c734-8d73-fc30-cb2bf4ddddd0</td>\n",
              "      <td>840539006.0</td>\n",
              "    </tr>\n",
              "    <tr>\n",
              "      <th>861</th>\n",
              "      <td>179a1be3-2be7-a60d-2e02-d35e63b585d4</td>\n",
              "      <td>840539006.0</td>\n",
              "    </tr>\n",
              "    <tr>\n",
              "      <th>862</th>\n",
              "      <td>edab2899-dac4-a19d-59e2-a9bea7b95cab</td>\n",
              "      <td>840539006.0</td>\n",
              "    </tr>\n",
              "    <tr>\n",
              "      <th>863</th>\n",
              "      <td>4c523ab1-3255-911a-7eef-3bc3e48b7b05</td>\n",
              "      <td>840539006.0</td>\n",
              "    </tr>\n",
              "    <tr>\n",
              "      <th>864</th>\n",
              "      <td>8d49cb05-b1c3-b8fe-dc75-e43ad861f074</td>\n",
              "      <td>840539006.0</td>\n",
              "    </tr>\n",
              "  </tbody>\n",
              "</table>\n",
              "<p>865 rows × 2 columns</p>\n",
              "</div>\n",
              "      <button class=\"colab-df-convert\" onclick=\"convertToInteractive('df-88a37aa1-5597-4263-a15a-79f0652b34fb')\"\n",
              "              title=\"Convert this dataframe to an interactive table.\"\n",
              "              style=\"display:none;\">\n",
              "        \n",
              "  <svg xmlns=\"http://www.w3.org/2000/svg\" height=\"24px\"viewBox=\"0 0 24 24\"\n",
              "       width=\"24px\">\n",
              "    <path d=\"M0 0h24v24H0V0z\" fill=\"none\"/>\n",
              "    <path d=\"M18.56 5.44l.94 2.06.94-2.06 2.06-.94-2.06-.94-.94-2.06-.94 2.06-2.06.94zm-11 1L8.5 8.5l.94-2.06 2.06-.94-2.06-.94L8.5 2.5l-.94 2.06-2.06.94zm10 10l.94 2.06.94-2.06 2.06-.94-2.06-.94-.94-2.06-.94 2.06-2.06.94z\"/><path d=\"M17.41 7.96l-1.37-1.37c-.4-.4-.92-.59-1.43-.59-.52 0-1.04.2-1.43.59L10.3 9.45l-7.72 7.72c-.78.78-.78 2.05 0 2.83L4 21.41c.39.39.9.59 1.41.59.51 0 1.02-.2 1.41-.59l7.78-7.78 2.81-2.81c.8-.78.8-2.07 0-2.86zM5.41 20L4 18.59l7.72-7.72 1.47 1.35L5.41 20z\"/>\n",
              "  </svg>\n",
              "      </button>\n",
              "      \n",
              "  <style>\n",
              "    .colab-df-container {\n",
              "      display:flex;\n",
              "      flex-wrap:wrap;\n",
              "      gap: 12px;\n",
              "    }\n",
              "\n",
              "    .colab-df-convert {\n",
              "      background-color: #E8F0FE;\n",
              "      border: none;\n",
              "      border-radius: 50%;\n",
              "      cursor: pointer;\n",
              "      display: none;\n",
              "      fill: #1967D2;\n",
              "      height: 32px;\n",
              "      padding: 0 0 0 0;\n",
              "      width: 32px;\n",
              "    }\n",
              "\n",
              "    .colab-df-convert:hover {\n",
              "      background-color: #E2EBFA;\n",
              "      box-shadow: 0px 1px 2px rgba(60, 64, 67, 0.3), 0px 1px 3px 1px rgba(60, 64, 67, 0.15);\n",
              "      fill: #174EA6;\n",
              "    }\n",
              "\n",
              "    [theme=dark] .colab-df-convert {\n",
              "      background-color: #3B4455;\n",
              "      fill: #D2E3FC;\n",
              "    }\n",
              "\n",
              "    [theme=dark] .colab-df-convert:hover {\n",
              "      background-color: #434B5C;\n",
              "      box-shadow: 0px 1px 3px 1px rgba(0, 0, 0, 0.15);\n",
              "      filter: drop-shadow(0px 1px 2px rgba(0, 0, 0, 0.3));\n",
              "      fill: #FFFFFF;\n",
              "    }\n",
              "  </style>\n",
              "\n",
              "      <script>\n",
              "        const buttonEl =\n",
              "          document.querySelector('#df-88a37aa1-5597-4263-a15a-79f0652b34fb button.colab-df-convert');\n",
              "        buttonEl.style.display =\n",
              "          google.colab.kernel.accessAllowed ? 'block' : 'none';\n",
              "\n",
              "        async function convertToInteractive(key) {\n",
              "          const element = document.querySelector('#df-88a37aa1-5597-4263-a15a-79f0652b34fb');\n",
              "          const dataTable =\n",
              "            await google.colab.kernel.invokeFunction('convertToInteractive',\n",
              "                                                     [key], {});\n",
              "          if (!dataTable) return;\n",
              "\n",
              "          const docLinkHtml = 'Like what you see? Visit the ' +\n",
              "            '<a target=\"_blank\" href=https://colab.research.google.com/notebooks/data_table.ipynb>data table notebook</a>'\n",
              "            + ' to learn more about interactive tables.';\n",
              "          element.innerHTML = '';\n",
              "          dataTable['output_type'] = 'display_data';\n",
              "          await google.colab.output.renderOutput(dataTable, element);\n",
              "          const docLink = document.createElement('div');\n",
              "          docLink.innerHTML = docLinkHtml;\n",
              "          element.appendChild(docLink);\n",
              "        }\n",
              "      </script>\n",
              "    </div>\n",
              "  </div>\n",
              "  "
            ]
          },
          "metadata": {},
          "execution_count": 15
        }
      ]
    },
    {
      "cell_type": "markdown",
      "source": [
        "All COVID_19 Patients that did not recieve an anticoagulation"
      ],
      "metadata": {
        "id": "xA6_fCGGmjRi"
      }
    },
    {
      "cell_type": "code",
      "source": [
        "all_COVID_19_Patients_That_did_not_Recieved_an_anticoagulation = sqldf(\"\"\"SELECT DISTINCT patients_id As Patients_With_Covid \n",
        "                                                                  FROM df_faktentabelle \n",
        "                                                                  WHERE conditions_code = 840539006 AND medications_code = 0\"\"\")\n",
        "all_COVID_19_Patients_That_did_not_Recieved_an_anticoagulation"
      ],
      "metadata": {
        "id": "m86dXvNWm0NI",
        "colab": {
          "base_uri": "https://localhost:8080/",
          "height": 419
        },
        "outputId": "a3683e8f-b2a8-46b0-8b94-5e3907ac47ae"
      },
      "execution_count": null,
      "outputs": [
        {
          "output_type": "execute_result",
          "data": {
            "text/plain": [
              "                      Patients_With_Covid\n",
              "0    2f114e21-8b95-e9eb-2e9e-4b950b059cfa\n",
              "1    52a250a9-24e4-ec9b-91d6-c38cf1b10fc0\n",
              "2    7f30313f-98e9-2cc2-68a5-6f9973f9ad5a\n",
              "3    b9f7feb0-45ac-55ed-4ee2-be12ad599416\n",
              "4    2b2d8855-c163-3838-a719-995a3cefca33\n",
              "..                                    ...\n",
              "678  34adbb99-9f87-5259-a8ee-4aec2a0d170b\n",
              "679  b0a0046b-7664-5d33-5a1a-9a26fcf5bfb5\n",
              "680  75b6b10f-c734-8d73-fc30-cb2bf4ddddd0\n",
              "681  179a1be3-2be7-a60d-2e02-d35e63b585d4\n",
              "682  edab2899-dac4-a19d-59e2-a9bea7b95cab\n",
              "\n",
              "[683 rows x 1 columns]"
            ],
            "text/html": [
              "\n",
              "  <div id=\"df-5c638dc4-756a-4cb6-a2b2-49db9f1e5da0\">\n",
              "    <div class=\"colab-df-container\">\n",
              "      <div>\n",
              "<style scoped>\n",
              "    .dataframe tbody tr th:only-of-type {\n",
              "        vertical-align: middle;\n",
              "    }\n",
              "\n",
              "    .dataframe tbody tr th {\n",
              "        vertical-align: top;\n",
              "    }\n",
              "\n",
              "    .dataframe thead th {\n",
              "        text-align: right;\n",
              "    }\n",
              "</style>\n",
              "<table border=\"1\" class=\"dataframe\">\n",
              "  <thead>\n",
              "    <tr style=\"text-align: right;\">\n",
              "      <th></th>\n",
              "      <th>Patients_With_Covid</th>\n",
              "    </tr>\n",
              "  </thead>\n",
              "  <tbody>\n",
              "    <tr>\n",
              "      <th>0</th>\n",
              "      <td>2f114e21-8b95-e9eb-2e9e-4b950b059cfa</td>\n",
              "    </tr>\n",
              "    <tr>\n",
              "      <th>1</th>\n",
              "      <td>52a250a9-24e4-ec9b-91d6-c38cf1b10fc0</td>\n",
              "    </tr>\n",
              "    <tr>\n",
              "      <th>2</th>\n",
              "      <td>7f30313f-98e9-2cc2-68a5-6f9973f9ad5a</td>\n",
              "    </tr>\n",
              "    <tr>\n",
              "      <th>3</th>\n",
              "      <td>b9f7feb0-45ac-55ed-4ee2-be12ad599416</td>\n",
              "    </tr>\n",
              "    <tr>\n",
              "      <th>4</th>\n",
              "      <td>2b2d8855-c163-3838-a719-995a3cefca33</td>\n",
              "    </tr>\n",
              "    <tr>\n",
              "      <th>...</th>\n",
              "      <td>...</td>\n",
              "    </tr>\n",
              "    <tr>\n",
              "      <th>678</th>\n",
              "      <td>34adbb99-9f87-5259-a8ee-4aec2a0d170b</td>\n",
              "    </tr>\n",
              "    <tr>\n",
              "      <th>679</th>\n",
              "      <td>b0a0046b-7664-5d33-5a1a-9a26fcf5bfb5</td>\n",
              "    </tr>\n",
              "    <tr>\n",
              "      <th>680</th>\n",
              "      <td>75b6b10f-c734-8d73-fc30-cb2bf4ddddd0</td>\n",
              "    </tr>\n",
              "    <tr>\n",
              "      <th>681</th>\n",
              "      <td>179a1be3-2be7-a60d-2e02-d35e63b585d4</td>\n",
              "    </tr>\n",
              "    <tr>\n",
              "      <th>682</th>\n",
              "      <td>edab2899-dac4-a19d-59e2-a9bea7b95cab</td>\n",
              "    </tr>\n",
              "  </tbody>\n",
              "</table>\n",
              "<p>683 rows × 1 columns</p>\n",
              "</div>\n",
              "      <button class=\"colab-df-convert\" onclick=\"convertToInteractive('df-5c638dc4-756a-4cb6-a2b2-49db9f1e5da0')\"\n",
              "              title=\"Convert this dataframe to an interactive table.\"\n",
              "              style=\"display:none;\">\n",
              "        \n",
              "  <svg xmlns=\"http://www.w3.org/2000/svg\" height=\"24px\"viewBox=\"0 0 24 24\"\n",
              "       width=\"24px\">\n",
              "    <path d=\"M0 0h24v24H0V0z\" fill=\"none\"/>\n",
              "    <path d=\"M18.56 5.44l.94 2.06.94-2.06 2.06-.94-2.06-.94-.94-2.06-.94 2.06-2.06.94zm-11 1L8.5 8.5l.94-2.06 2.06-.94-2.06-.94L8.5 2.5l-.94 2.06-2.06.94zm10 10l.94 2.06.94-2.06 2.06-.94-2.06-.94-.94-2.06-.94 2.06-2.06.94z\"/><path d=\"M17.41 7.96l-1.37-1.37c-.4-.4-.92-.59-1.43-.59-.52 0-1.04.2-1.43.59L10.3 9.45l-7.72 7.72c-.78.78-.78 2.05 0 2.83L4 21.41c.39.39.9.59 1.41.59.51 0 1.02-.2 1.41-.59l7.78-7.78 2.81-2.81c.8-.78.8-2.07 0-2.86zM5.41 20L4 18.59l7.72-7.72 1.47 1.35L5.41 20z\"/>\n",
              "  </svg>\n",
              "      </button>\n",
              "      \n",
              "  <style>\n",
              "    .colab-df-container {\n",
              "      display:flex;\n",
              "      flex-wrap:wrap;\n",
              "      gap: 12px;\n",
              "    }\n",
              "\n",
              "    .colab-df-convert {\n",
              "      background-color: #E8F0FE;\n",
              "      border: none;\n",
              "      border-radius: 50%;\n",
              "      cursor: pointer;\n",
              "      display: none;\n",
              "      fill: #1967D2;\n",
              "      height: 32px;\n",
              "      padding: 0 0 0 0;\n",
              "      width: 32px;\n",
              "    }\n",
              "\n",
              "    .colab-df-convert:hover {\n",
              "      background-color: #E2EBFA;\n",
              "      box-shadow: 0px 1px 2px rgba(60, 64, 67, 0.3), 0px 1px 3px 1px rgba(60, 64, 67, 0.15);\n",
              "      fill: #174EA6;\n",
              "    }\n",
              "\n",
              "    [theme=dark] .colab-df-convert {\n",
              "      background-color: #3B4455;\n",
              "      fill: #D2E3FC;\n",
              "    }\n",
              "\n",
              "    [theme=dark] .colab-df-convert:hover {\n",
              "      background-color: #434B5C;\n",
              "      box-shadow: 0px 1px 3px 1px rgba(0, 0, 0, 0.15);\n",
              "      filter: drop-shadow(0px 1px 2px rgba(0, 0, 0, 0.3));\n",
              "      fill: #FFFFFF;\n",
              "    }\n",
              "  </style>\n",
              "\n",
              "      <script>\n",
              "        const buttonEl =\n",
              "          document.querySelector('#df-5c638dc4-756a-4cb6-a2b2-49db9f1e5da0 button.colab-df-convert');\n",
              "        buttonEl.style.display =\n",
              "          google.colab.kernel.accessAllowed ? 'block' : 'none';\n",
              "\n",
              "        async function convertToInteractive(key) {\n",
              "          const element = document.querySelector('#df-5c638dc4-756a-4cb6-a2b2-49db9f1e5da0');\n",
              "          const dataTable =\n",
              "            await google.colab.kernel.invokeFunction('convertToInteractive',\n",
              "                                                     [key], {});\n",
              "          if (!dataTable) return;\n",
              "\n",
              "          const docLinkHtml = 'Like what you see? Visit the ' +\n",
              "            '<a target=\"_blank\" href=https://colab.research.google.com/notebooks/data_table.ipynb>data table notebook</a>'\n",
              "            + ' to learn more about interactive tables.';\n",
              "          element.innerHTML = '';\n",
              "          dataTable['output_type'] = 'display_data';\n",
              "          await google.colab.output.renderOutput(dataTable, element);\n",
              "          const docLink = document.createElement('div');\n",
              "          docLink.innerHTML = docLinkHtml;\n",
              "          element.appendChild(docLink);\n",
              "        }\n",
              "      </script>\n",
              "    </div>\n",
              "  </div>\n",
              "  "
            ]
          },
          "metadata": {},
          "execution_count": 16
        }
      ]
    },
    {
      "cell_type": "markdown",
      "source": [
        "All COVID_19 Patients that recieved an anticoagulation"
      ],
      "metadata": {
        "id": "U2oz1iSSkYqb"
      }
    },
    {
      "cell_type": "code",
      "source": [
        "all_COVID_19_Patients_That_Recieved_an_anticoagulation = sqldf(\"\"\"SELECT DISTINCT patients_id As Patients_With_Covid \n",
        "                                                                  FROM df_faktentabelle \n",
        "                                                                  WHERE conditions_code = 840539006 AND medications_code != 0\"\"\")\n",
        "\n",
        "all_COVID_19_Patients_That_Recieved_an_anticoagulation"
      ],
      "metadata": {
        "id": "1rdreof4iWD2"
      },
      "execution_count": null,
      "outputs": []
    },
    {
      "cell_type": "code",
      "source": [
        "import matplotlib.pyplot as plt\n",
        "\n",
        "# Sort the values from 0 to 6\n",
        "distinct_patients_and_course_of_desease = sqldf(\"\"\"SELECT patients_id, max(course_of_desease)as course FROM df_faktentabelle\n",
        "GROUP BY patients_id\"\"\")\n",
        "\n",
        "distinct_patients_and_course_of_desease['course'].value_counts().sort_index().plot(kind='bar')\n",
        "\n",
        " # Add labels to the x and y axis\n",
        "plt.xlabel('Severity of Disease')\n",
        "plt.ylabel('Number of Unique Patients')\n",
        "\n",
        "# # Show the plot\n",
        "plt.show()\n",
        "distinct_patients_and_course_of_desease"
      ],
      "metadata": {
        "id": "i_JeJXxCdHar"
      },
      "execution_count": null,
      "outputs": []
    },
    {
      "cell_type": "markdown",
      "source": [
        "distinct patients and medications_grading"
      ],
      "metadata": {
        "id": "TRJsyXBGvxo0"
      }
    },
    {
      "cell_type": "code",
      "source": [
        "distinct_patients_and_medications_grading = sqldf(\"\"\"SELECT patients_id, max(medication_grading)as antikagulation FROM df_faktentabelle\n",
        "GROUP BY patients_id\"\"\")\n",
        "distinct_patients_and_medications_grading"
      ],
      "metadata": {
        "id": "BFGFeeA1vw7v"
      },
      "execution_count": null,
      "outputs": []
    },
    {
      "cell_type": "markdown",
      "source": [
        "distinct patients and covid"
      ],
      "metadata": {
        "id": "kZdqv3TdA-Wx"
      }
    },
    {
      "cell_type": "code",
      "source": [
        "from sqlalchemy.sql.expression import distinct\n",
        "df_faktentabelle ['covid']= 0\n",
        "df_faktentabelle\n",
        "for i, row in df_faktentabelle.iterrows():\n",
        "  if row.conditions_code == 840539006:\n",
        "    df_faktentabelle.at[i, 'covid'] = 1\n",
        "df_faktentabelle\n"
      ],
      "metadata": {
        "id": "FT8DTJfzA-BP"
      },
      "execution_count": null,
      "outputs": []
    },
    {
      "cell_type": "code",
      "source": [
        "distinct_patients_and_covid_status = sqldf(\"\"\"SELECT patients_id, max(covid) AS covid FROM df_faktentabelle\n",
        " GROUP BY patients_id\"\"\")\n",
        "distinct_patients_and_covid_status"
      ],
      "metadata": {
        "id": "IBmacg9_IAKa"
      },
      "execution_count": null,
      "outputs": []
    },
    {
      "cell_type": "markdown",
      "source": [
        "distinct patients, medicatons_grading, and course of desase and covid"
      ],
      "metadata": {
        "id": "38LsPIaUwxp0"
      }
    },
    {
      "cell_type": "code",
      "source": [
        "PMG = pd.merge(distinct_patients_and_course_of_desease,distinct_patients_and_medications_grading, on = \"patients_ID\" )\n",
        "PMG[\"patients\"]=PMG.index\n",
        "PMG = pd.merge (PMG, distinct_patients_and_covid_status, on = 'patients_ID')\n",
        "PMG"
      ],
      "metadata": {
        "id": "LARyDoZfw5v0"
      },
      "execution_count": null,
      "outputs": []
    },
    {
      "cell_type": "code",
      "source": [
        "covid_treated = sqldf(\"\"\"SELECT * FROM PMG where covid = 1 and antikagulation > 0 \"\"\")\n",
        "covid_treated"
      ],
      "metadata": {
        "id": "ZgVlUI-Lpzd0"
      },
      "execution_count": null,
      "outputs": []
    },
    {
      "cell_type": "code",
      "source": [
        "covid_untreated = sqldf(\"\"\"SELECT * FROM PMG where covid = 1 and antikagulation = 0 \"\"\")\n",
        "covid_untreated"
      ],
      "metadata": {
        "id": "3NW9MqgjqgxN"
      },
      "execution_count": null,
      "outputs": []
    },
    {
      "cell_type": "code",
      "source": [
        "# Calculate the average severity for treated patients\n",
        "avg_severity_in_patients_with_antikoagulation = covid_treated ['course'].mean()\n",
        "\n",
        "## Calculate the average severity for untreated patients\n",
        "avg_severity_in_patients_without_antikoagulation = covid_untreated ['course'].mean()\n",
        "\n",
        "##Compare the average severity between treated and untreated patients\n",
        "if avg_severity_in_patients_with_antikoagulation < avg_severity_in_patients_without_antikoagulation:\n",
        "    print(\"The average severity of disease is lower in treated patients compared to untreated patients.\")\n",
        "elif avg_severity_in_patients_with_antikoagulation > avg_severity_in_patients_without_antikoagulation:\n",
        "    print(\"The average severity of disease is higher in treated patients compared to untreated patients.\")\n",
        "else:\n",
        "    print(\"The average severity of disease is the same in treated and untreated patients.\")"
      ],
      "metadata": {
        "id": "2NnKbZIptcYr",
        "colab": {
          "base_uri": "https://localhost:8080/"
        },
        "outputId": "0904282b-dbbc-4493-bf8c-fa8170167a86"
      },
      "execution_count": null,
      "outputs": [
        {
          "output_type": "stream",
          "name": "stdout",
          "text": [
            "The average severity of disease is higher in treated patients compared to untreated patients.\n"
          ]
        }
      ]
    },
    {
      "cell_type": "code",
      "source": [
        "import scipy.stats as stats\n",
        "\n",
        "# Calculate the t-statistic and p-value\n",
        "t_statistic, p_value = stats.ttest_ind(covid_treated ['course'], covid_untreated ['course'], equal_var=False)\n",
        "\n",
        "# Check if the p-value is less than 0.05\n",
        "if p_value < 0.05:\n",
        "    print(\"The difference in average severity between treated and untreated patients is statistically significant, the p-value is\", p_value)\n",
        "else:\n",
        "    print(\"The difference in average severity between treated and untreated patients is not statistically significant, the p-value is\", p_value)"
      ],
      "metadata": {
        "colab": {
          "base_uri": "https://localhost:8080/"
        },
        "id": "hrPb-uGwt4SD",
        "outputId": "0092bb01-7a44-4d2d-d93f-a91a0f68496a"
      },
      "execution_count": null,
      "outputs": [
        {
          "output_type": "stream",
          "name": "stdout",
          "text": [
            "The difference in average severity between treated and untreated patients is statistically significant, the p-value is 5.6266415502645845e-78\n"
          ]
        }
      ]
    }
  ]
}