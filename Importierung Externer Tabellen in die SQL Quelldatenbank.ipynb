{
  "nbformat": 4,
  "nbformat_minor": 0,
  "metadata": {
    "colab": {
      "provenance": [],
      "authorship_tag": "ABX9TyPCQAy/W+AYAf0tKi1wsqmX",
      "include_colab_link": true
    },
    "kernelspec": {
      "name": "python3",
      "display_name": "Python 3"
    },
    "language_info": {
      "name": "python"
    }
  },
  "cells": [
    {
      "cell_type": "markdown",
      "metadata": {
        "id": "view-in-github",
        "colab_type": "text"
      },
      "source": [
        "<a href=\"https://colab.research.google.com/github/Fuenfgeld/DMA2023TeamB/blob/main/Importierung%20Externer%20Tabellen%20in%20die%20SQL%20Quelldatenbank.ipynb\" target=\"_parent\"><img src=\"https://colab.research.google.com/assets/colab-badge.svg\" alt=\"Open In Colab\"/></a>"
      ]
    },
    {
      "cell_type": "code",
      "execution_count": 1,
      "metadata": {
        "colab": {
          "base_uri": "https://localhost:8080/"
        },
        "id": "QEbsyQxziB1m",
        "outputId": "4244afc1-1a62-43df-add1-010c8040db8d"
      },
      "outputs": [
        {
          "output_type": "stream",
          "name": "stdout",
          "text": [
            "Looking in indexes: https://pypi.org/simple, https://us-python.pkg.dev/colab-wheels/public/simple/\n",
            "Requirement already satisfied: ipython-sql in /usr/local/lib/python3.8/dist-packages (0.3.9)\n",
            "Requirement already satisfied: six in /usr/local/lib/python3.8/dist-packages (from ipython-sql) (1.15.0)\n",
            "Requirement already satisfied: ipython-genutils>=0.1.0 in /usr/local/lib/python3.8/dist-packages (from ipython-sql) (0.2.0)\n",
            "Requirement already satisfied: ipython>=1.0 in /usr/local/lib/python3.8/dist-packages (from ipython-sql) (7.9.0)\n",
            "Requirement already satisfied: sqlalchemy>=0.6.7 in /usr/local/lib/python3.8/dist-packages (from ipython-sql) (1.4.46)\n",
            "Requirement already satisfied: prettytable in /usr/local/lib/python3.8/dist-packages (from ipython-sql) (3.6.0)\n",
            "Requirement already satisfied: sqlparse in /usr/local/lib/python3.8/dist-packages (from ipython-sql) (0.4.3)\n",
            "Requirement already satisfied: decorator in /usr/local/lib/python3.8/dist-packages (from ipython>=1.0->ipython-sql) (4.4.2)\n",
            "Collecting jedi>=0.10\n",
            "  Downloading jedi-0.18.2-py2.py3-none-any.whl (1.6 MB)\n",
            "\u001b[2K     \u001b[90m━━━━━━━━━━━━━━━━━━━━━━━━━━━━━━━━━━━━━━━━\u001b[0m \u001b[32m1.6/1.6 MB\u001b[0m \u001b[31m20.9 MB/s\u001b[0m eta \u001b[36m0:00:00\u001b[0m\n",
            "\u001b[?25hRequirement already satisfied: setuptools>=18.5 in /usr/local/lib/python3.8/dist-packages (from ipython>=1.0->ipython-sql) (57.4.0)\n",
            "Requirement already satisfied: prompt-toolkit<2.1.0,>=2.0.0 in /usr/local/lib/python3.8/dist-packages (from ipython>=1.0->ipython-sql) (2.0.10)\n",
            "Requirement already satisfied: pygments in /usr/local/lib/python3.8/dist-packages (from ipython>=1.0->ipython-sql) (2.6.1)\n",
            "Requirement already satisfied: traitlets>=4.2 in /usr/local/lib/python3.8/dist-packages (from ipython>=1.0->ipython-sql) (5.7.1)\n",
            "Requirement already satisfied: pickleshare in /usr/local/lib/python3.8/dist-packages (from ipython>=1.0->ipython-sql) (0.7.5)\n",
            "Requirement already satisfied: backcall in /usr/local/lib/python3.8/dist-packages (from ipython>=1.0->ipython-sql) (0.2.0)\n",
            "Requirement already satisfied: pexpect in /usr/local/lib/python3.8/dist-packages (from ipython>=1.0->ipython-sql) (4.8.0)\n",
            "Requirement already satisfied: greenlet!=0.4.17 in /usr/local/lib/python3.8/dist-packages (from sqlalchemy>=0.6.7->ipython-sql) (2.0.1)\n",
            "Requirement already satisfied: wcwidth in /usr/local/lib/python3.8/dist-packages (from prettytable->ipython-sql) (0.2.5)\n",
            "Requirement already satisfied: parso<0.9.0,>=0.8.0 in /usr/local/lib/python3.8/dist-packages (from jedi>=0.10->ipython>=1.0->ipython-sql) (0.8.3)\n",
            "Requirement already satisfied: ptyprocess>=0.5 in /usr/local/lib/python3.8/dist-packages (from pexpect->ipython>=1.0->ipython-sql) (0.7.0)\n",
            "Installing collected packages: jedi\n",
            "Successfully installed jedi-0.18.2\n",
            "Looking in indexes: https://pypi.org/simple, https://us-python.pkg.dev/colab-wheels/public/simple/\n",
            "Requirement already satisfied: sqlalchemy in /usr/local/lib/python3.8/dist-packages (1.4.46)\n",
            "Requirement already satisfied: greenlet!=0.4.17 in /usr/local/lib/python3.8/dist-packages (from sqlalchemy) (2.0.1)\n",
            "Looking in indexes: https://pypi.org/simple, https://us-python.pkg.dev/colab-wheels/public/simple/\n",
            "Collecting petl\n",
            "  Downloading petl-1.7.12.tar.gz (409 kB)\n",
            "\u001b[2K     \u001b[90m━━━━━━━━━━━━━━━━━━━━━━━━━━━━━━━━━━━━━━\u001b[0m \u001b[32m409.6/409.6 KB\u001b[0m \u001b[31m10.3 MB/s\u001b[0m eta \u001b[36m0:00:00\u001b[0m\n",
            "\u001b[?25h  Installing build dependencies ... \u001b[?25l\u001b[?25hdone\n",
            "  Getting requirements to build wheel ... \u001b[?25l\u001b[?25hdone\n",
            "  Preparing metadata (pyproject.toml) ... \u001b[?25l\u001b[?25hdone\n",
            "Building wheels for collected packages: petl\n",
            "  Building wheel for petl (pyproject.toml) ... \u001b[?25l\u001b[?25hdone\n",
            "  Created wheel for petl: filename=petl-1.7.12-py3-none-any.whl size=226970 sha256=f070d2e0f55e13f435e3988c11cb2c82d73e92ebc5b5ff135bba02247c01c0b7\n",
            "  Stored in directory: /root/.cache/pip/wheels/b0/20/a5/96748ad301276597fbd3df013975828fe5978edc4587f79514\n",
            "Successfully built petl\n",
            "Installing collected packages: petl\n",
            "Successfully installed petl-1.7.12\n"
          ]
        }
      ],
      "source": [
        "# Ggf. fehlende Pakete  installieren\n",
        "!pip install ipython-sql\n",
        "!pip install sqlalchemy\n",
        "!pip install petl"
      ]
    },
    {
      "cell_type": "code",
      "source": [
        "from google.colab import drive\n",
        "import sqlalchemy as sqla\n",
        "import pandas as pd\n",
        "import petl as etl\n",
        "import csv\n",
        "import sys\n",
        "%load_ext sql"
      ],
      "metadata": {
        "id": "77-eFC0HiDip"
      },
      "execution_count": 2,
      "outputs": []
    },
    {
      "cell_type": "code",
      "source": [
        "# Google Drive einbinden\n",
        "drive.mount('/content/gdrive')"
      ],
      "metadata": {
        "colab": {
          "base_uri": "https://localhost:8080/"
        },
        "id": "7BEzusEIiGQB",
        "outputId": "1502282b-c2b9-4be6-9717-60bdcf0cb438"
      },
      "execution_count": 3,
      "outputs": [
        {
          "output_type": "stream",
          "name": "stdout",
          "text": [
            "Mounted at /content/gdrive\n"
          ]
        }
      ]
    },
    {
      "cell_type": "code",
      "source": [
        "base_url_staging = \"/content/gdrive/MyDrive/Gruppe_B/DB_File\"\n"
      ],
      "metadata": {
        "id": "VnDoGEt2iaUW"
      },
      "execution_count": 4,
      "outputs": []
    },
    {
      "cell_type": "code",
      "source": [
        "#db_path_staging        =  \"/content/gdrive/MyDrive/Gruppe_B/DB_File/staging.db\"\n",
        "#db_path_source_covid  = base_url_staging + \"source_covid19_test.db\"\n",
        "db_path_source_covid  =\"/content/gdrive/MyDrive/Gruppe_B/DB_File/source_covid19_test.db\"\n",
        "\n",
        "\n",
        "#db_url_staging        = \"sqlite:///\" + db_path_staging\n",
        "db_url_source_covid  = \"sqlite:///\" + db_path_source_covid\n",
        "\n",
        "\n",
        "#db_staging            = sqla.create_engine(db_url_staging)\n",
        "db_source_covid         = sqla.create_engine(db_url_source_covid)\n",
        "\n",
        "\n",
        "#%sql $db_url_staging\n",
        "%sql $db_url_source_covid\n"
      ],
      "metadata": {
        "colab": {
          "base_uri": "https://localhost:8080/",
          "height": 36
        },
        "id": "IbbO-1JgiiLv",
        "outputId": "00e1b5b2-1398-4310-e782-6ca372faec97"
      },
      "execution_count": 5,
      "outputs": [
        {
          "output_type": "execute_result",
          "data": {
            "text/plain": [
              "'Connected: @/content/gdrive/MyDrive/Gruppe_B/DB_File/source_covid19_test.db'"
            ],
            "application/vnd.google.colaboratory.intrinsic+json": {
              "type": "string"
            }
          },
          "metadata": {},
          "execution_count": 5
        }
      ]
    },
    {
      "cell_type": "code",
      "source": [
        "%%sql $db_url_source_covid\n",
        "ATTACH DATABASE '{db_path_source_covid}' AS covid;\n"
      ],
      "metadata": {
        "colab": {
          "base_uri": "https://localhost:8080/"
        },
        "id": "lDZ7mZdjmbp7",
        "outputId": "18df7244-a292-4e96-8eee-0f86bbbfb579"
      },
      "execution_count": 6,
      "outputs": [
        {
          "output_type": "stream",
          "name": "stdout",
          "text": [
            "Done.\n"
          ]
        },
        {
          "output_type": "execute_result",
          "data": {
            "text/plain": [
              "[]"
            ]
          },
          "metadata": {},
          "execution_count": 6
        }
      ]
    },
    {
      "cell_type": "code",
      "source": [
        "import sqlite3\n",
        "\n",
        "conn = sqlite3.connect(db_path_source_covid)\n",
        "cursor = conn.cursor()\n",
        "\n",
        "cursor.execute(\"SELECT name from sqlite_master where type='table';\")\n",
        "tables = cursor.fetchall()\n",
        "\n",
        "for table in tables:\n",
        "    print(table[0])\n",
        "\n",
        "conn.close()\n"
      ],
      "metadata": {
        "colab": {
          "base_uri": "https://localhost:8080/"
        },
        "id": "iUaIYvQAuU08",
        "outputId": "4325a547-6dde-40c4-b4f9-4f35dd513e86"
      },
      "execution_count": 25,
      "outputs": [
        {
          "output_type": "stream",
          "name": "stdout",
          "text": [
            "disease\n",
            "patients\n",
            "encounters\n",
            "careplans\n",
            "conditions\n",
            "medications\n",
            "procedures\n",
            "observations\n",
            "devices\n",
            "imaging_studies\n",
            "immunizations\n",
            "grading\n",
            "immunizations_classification\n",
            "medications_classification\n"
          ]
        }
      ]
    },
    {
      "cell_type": "code",
      "source": [
        "import sqlite3\n",
        "\n",
        "conn = sqlite3.connect(db_path_source_covid)\n",
        "cursor = conn.cursor()\n",
        "\n",
        "cursor.execute(\"DROP TABLE d_patient\")\n",
        "conn.commit()\n",
        "\n",
        "conn.close()"
      ],
      "metadata": {
        "id": "_b-B7JYW79EK"
      },
      "execution_count": 13,
      "outputs": []
    },
    {
      "cell_type": "code",
      "source": [
        "import pandas as pd\n",
        "\n",
        "df = pd.read_csv('/content/gdrive/MyDrive/Gruppe_B/SNOMED CT Codes und Grading Datenmanagement.xlsx - symptom and procedure data.csv')\n",
        "\n",
        "conn = sqlite3.connect(db_path_source_covid)\n",
        "df.to_sql('table_name', conn, if_exists='replace', index=False)\n",
        "\n",
        "conn.close()"
      ],
      "metadata": {
        "id": "t48bF4CX80aa"
      },
      "execution_count": 15,
      "outputs": []
    },
    {
      "cell_type": "code",
      "source": [
        "import sqlite3\n",
        "\n",
        "conn = sqlite3.connect(db_path_source_covid)\n",
        "cursor = conn.cursor()\n",
        "\n",
        "cursor.execute(\"SELECT * FROM grading LIMIT 5\")\n",
        "rows = cursor.fetchall()\n",
        "\n",
        "for row in rows:\n",
        "    print(row)\n",
        "\n",
        "conn.close()"
      ],
      "metadata": {
        "colab": {
          "base_uri": "https://localhost:8080/"
        },
        "id": "ln5O2Sja9HsL",
        "outputId": "e67f0561-9654-4221-9951-4fcf7678bf72"
      },
      "execution_count": 26,
      "outputs": [
        {
          "output_type": "stream",
          "name": "stdout",
          "text": [
            "(234466008.0, 'Acquired coagulation disorder (disorder)', 'conditions', 3.0)\n",
            "(132281000119108.0, 'Acute deep venous thrombosis (disorder)', 'conditions', 3.0)\n",
            "(706870000.0, 'Acute pulmonary embolism (disorder)', 'conditions', 4.0)\n",
            "(67782005.0, 'Acute respiratory distress syndrome (disorder)', 'conditions', 5.0)\n",
            "(65710008.0, 'Acute respiratory failure (disorder)', 'conditions', 5.0)\n"
          ]
        }
      ]
    },
    {
      "cell_type": "code",
      "source": [
        "import sqlite3\n",
        "\n",
        "conn = sqlite3.connect(db_path_source_covid)\n",
        "cursor = conn.cursor()\n",
        "\n",
        "cursor.execute(\"ALTER TABLE table_name RENAME TO grading\")\n",
        "conn.commit()\n",
        "\n",
        "conn.close()"
      ],
      "metadata": {
        "id": "X3z14sJtDXkU"
      },
      "execution_count": 18,
      "outputs": []
    },
    {
      "cell_type": "code",
      "source": [
        "import pandas as pd\n",
        "\n",
        "df = pd.read_csv('/content/gdrive/MyDrive/Gruppe_B/immunizations_classification - immunizations_classification.csv')\n",
        "\n",
        "conn = sqlite3.connect(db_path_source_covid)\n",
        "df.to_sql('table_name', conn, if_exists='replace', index=False)\n",
        "\n",
        "conn.close()"
      ],
      "metadata": {
        "id": "EUO4YHF-D9Zt"
      },
      "execution_count": 20,
      "outputs": []
    },
    {
      "cell_type": "code",
      "source": [
        "import sqlite3\n",
        "\n",
        "conn = sqlite3.connect(db_path_source_covid)\n",
        "cursor = conn.cursor()\n",
        "\n",
        "cursor.execute(\"ALTER TABLE table_name RENAME TO immunizations_classification\")\n",
        "conn.commit()\n",
        "\n",
        "conn.close()"
      ],
      "metadata": {
        "id": "6R-78ZxUEE5P"
      },
      "execution_count": 22,
      "outputs": []
    },
    {
      "cell_type": "code",
      "source": [
        "import pandas as pd\n",
        "\n",
        "df = pd.read_csv('/content/gdrive/MyDrive/Gruppe_B/medication_classification - medication_classification.csv')\n",
        "\n",
        "conn = sqlite3.connect(db_path_source_covid)\n",
        "df.to_sql('medications_classification', conn, if_exists='replace', index=False)\n",
        "\n",
        "conn.close()"
      ],
      "metadata": {
        "id": "KZTwZNf6EXzl"
      },
      "execution_count": 24,
      "outputs": []
    },
    {
      "cell_type": "code",
      "source": [
        "import os\n",
        "\n",
        "os.rename(db_path_source_covid, '/content/gdrive/MyDrive/Gruppe_B/Updated_Source_DB/source_covid.db')\n",
        "\n",
        "db_path_source_covid = '/content/gdrive/MyDrive/Gruppe_B/Updated_Source_DB/source_covid.db'\n",
        "db_url_source_covid = \"sqlite:///\" + db_path_source_covid\n",
        "db_source_covid = sqla.create_engine(db_url_source_covid)"
      ],
      "metadata": {
        "id": "CarIwuatE5o2"
      },
      "execution_count": 28,
      "outputs": []
    },
    {
      "cell_type": "code",
      "source": [
        "import pandas as pd\n",
        "\n",
        "table_names = pd.read_sql_query(\"SELECT name from sqlite_master WHERE type='table';\", db_source_covid)\n",
        "print(table_names)"
      ],
      "metadata": {
        "colab": {
          "base_uri": "https://localhost:8080/"
        },
        "id": "ZRN24YA5Fu7X",
        "outputId": "2c7c4258-7fdc-4052-88d2-12189ddfa85b"
      },
      "execution_count": 29,
      "outputs": [
        {
          "output_type": "stream",
          "name": "stdout",
          "text": [
            "                            name\n",
            "0                        disease\n",
            "1                       patients\n",
            "2                     encounters\n",
            "3                      careplans\n",
            "4                     conditions\n",
            "5                    medications\n",
            "6                     procedures\n",
            "7                   observations\n",
            "8                        devices\n",
            "9                imaging_studies\n",
            "10                 immunizations\n",
            "11                       grading\n",
            "12  immunizations_classification\n",
            "13    medications_classification\n"
          ]
        }
      ]
    }
  ]
}