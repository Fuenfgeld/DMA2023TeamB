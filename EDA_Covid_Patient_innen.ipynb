{
  "cells": [
    {
      "cell_type": "markdown",
      "metadata": {
        "colab_type": "text",
        "id": "view-in-github"
      },
      "source": [
        "<a href=\"https://colab.research.google.com/github/Fuenfgeld/DMA2023TeamB/blob/main/EDA_Covid_Patient_innen.ipynb\" target=\"_parent\"><img src=\"https://colab.research.google.com/assets/colab-badge.svg\" alt=\"Open In Colab\"/></a>"
      ]
    },
    {
      "attachments": {},
      "cell_type": "markdown",
      "metadata": {
        "id": "oTF4SC_RjLoX"
      },
      "source": [
        "# **Ziel**: Explorative Datenanalyse (EDA) der Covid19-Patient:innen\n",
        "\n",
        "Die explorative Datenanalyse der Covid19-Patient:innen erfolgte in vier Schritten\n",
        "\n",
        "1. Analyse des Datensets und Exploration\n",
        "2. Datenbereinigung\n",
        "3. Untersuchung der Variablen\n",
        "4. Untersuchung der Beziehungen zwischen den Variablen\n",
        "\n"
      ]
    },
    {
      "attachments": {},
      "cell_type": "markdown",
      "metadata": {
        "id": "f72lAeqGmSSy"
      },
      "source": [
        "# Import der Libraries "
      ]
    },
    {
      "cell_type": "code",
      "execution_count": null,
      "metadata": {
        "id": "mHakU94EcNVc"
      },
      "outputs": [],
      "source": [
        "import pandas_profiling\n",
        "import pandas as pd\n",
        "import numpy as np\n",
        "import sqlite3\n",
        "import seaborn as sns\n",
        "import matplotlib.pyplot as plt\n",
        "from pandas_profiling import ProfileReport\n",
        "# Zum Anlegen der Darstellungen im Google Collab Notebook \n",
        "%matplotlib inline"
      ]
    },
    {
      "cell_type": "code",
      "execution_count": null,
      "metadata": {
        "colab": {
          "base_uri": "https://localhost:8080/"
        },
        "id": "-042ss9IcbTC",
        "outputId": "5c6f975a-8352-4c3f-b560-9194080aac1e"
      },
      "outputs": [
        {
          "name": "stdout",
          "output_type": "stream",
          "text": [
            "Mounted at /content/drive\n"
          ]
        }
      ],
      "source": [
        "from google.colab import drive\n",
        "# Mounting des Drives zum Datenbankzugang \n",
        "drive.mount(\"/content/drive\")"
      ]
    },
    {
      "attachments": {},
      "cell_type": "markdown",
      "metadata": {
        "id": "8BTwowldi9tx"
      },
      "source": [
        "\n",
        "# Laden der Daten \n"
      ]
    },
    {
      "cell_type": "code",
      "execution_count": null,
      "metadata": {
        "id": "HzmmNYDbcnd7"
      },
      "outputs": [],
      "source": [
        "# Verbindung zur Datenbank \n",
        "DB_DWH_PATH = \"/content/drive/MyDrive/Gruppe_B/DB_File/source_covid19_test.db\"\n",
        "\n",
        "# connect to db\n",
        "dwh_conn = sqlite3.connect(DB_DWH_PATH)"
      ]
    },
    {
      "cell_type": "code",
      "execution_count": null,
      "metadata": {
        "colab": {
          "base_uri": "https://localhost:8080/"
        },
        "id": "l3c3cyQocaXV",
        "outputId": "dd5e3c28-10a4-4722-d403-2e270a992852"
      },
      "outputs": [
        {
          "name": "stdout",
          "output_type": "stream",
          "text": [
            "List of Tables [('disease',), ('patients',), ('encounters',), ('careplans',), ('conditions',), ('medications',), ('procedures',), ('observations',), ('devices',), ('imaging_studies',), ('immunizations',)]\n"
          ]
        }
      ],
      "source": [
        "# Liste der Tabellen in Datenbank \n",
        "if dwh_conn is not None:\n",
        "  dwh_cursor = dwh_conn.cursor()\n",
        "  dwh_cursor.execute(\"SELECT name FROM sqlite_master WHERE type='table';\")\n",
        "  print(\"List of Tables\", dwh_cursor.fetchall())\n"
      ]
    },
    {
      "cell_type": "code",
      "execution_count": null,
      "metadata": {
        "id": "r4Pk9g2SdmwO"
      },
      "outputs": [],
      "source": [
        "#Einlesen der SQL query Resultate in ein pandas DataFrame\n",
        "# demographic data\n",
        "df_patients = pd.read_sql_query(\"SELECT * FROM patients\", dwh_conn)\n",
        "\n",
        "df_conditions = pd.read_sql_query(\"SELECT * FROM conditions\", dwh_conn)"
      ]
    },
    {
      "cell_type": "code",
      "execution_count": null,
      "metadata": {
        "id": "sBQfz7Ht4r-w"
      },
      "outputs": [],
      "source": [
        "# Vereiniung zweier Datensätze \n",
        "df = pd.merge(df_patients, df_conditions, left_on=\"Id\", right_on=\"PATIENT\", how=\"inner\")"
      ]
    },
    {
      "cell_type": "code",
      "execution_count": null,
      "metadata": {
        "id": "KpVlnD4otd6J"
      },
      "outputs": [],
      "source": [
        "# Beenden der Datenbankverbindung\n",
        "# dwh_conn.close()"
      ]
    },
    {
      "attachments": {},
      "cell_type": "markdown",
      "metadata": {
        "id": "Pkr45V79nIYF"
      },
      "source": [
        "# Analyse des Datensets und Exploration\n",
        "In diesem Schritt werden die Daten auf ihre Struktur untersucht. Hierzu werden die folgenden Befehle aufgerufen: \n",
        "- df.head()\n",
        "- df.shape\n",
        "- df.columns\n",
        "- df.info()\n",
        "- df.describe()\n",
        "- df.nunique()\n",
        "- df.replace()"
      ]
    },
    {
      "cell_type": "code",
      "execution_count": null,
      "metadata": {
        "colab": {
          "base_uri": "https://localhost:8080/",
          "height": 560
        },
        "id": "lK0LXxAAeB5i",
        "outputId": "93039570-e793-4cab-985b-275077bf02cf"
      },
      "outputs": [
        {
          "data": {
            "text/html": [
              "\n",
              "  <div id=\"df-cedad15c-c51a-4967-af88-06814df95d1f\">\n",
              "    <div class=\"colab-df-container\">\n",
              "      <div>\n",
              "<style scoped>\n",
              "    .dataframe tbody tr th:only-of-type {\n",
              "        vertical-align: middle;\n",
              "    }\n",
              "\n",
              "    .dataframe tbody tr th {\n",
              "        vertical-align: top;\n",
              "    }\n",
              "\n",
              "    .dataframe thead th {\n",
              "        text-align: right;\n",
              "    }\n",
              "</style>\n",
              "<table border=\"1\" class=\"dataframe\">\n",
              "  <thead>\n",
              "    <tr style=\"text-align: right;\">\n",
              "      <th></th>\n",
              "      <th>Id</th>\n",
              "      <th>BIRTHDATE</th>\n",
              "      <th>DEATHDATE</th>\n",
              "      <th>SSN</th>\n",
              "      <th>DRIVERS</th>\n",
              "      <th>PASSPORT</th>\n",
              "      <th>PREFIX</th>\n",
              "      <th>FIRST</th>\n",
              "      <th>LAST</th>\n",
              "      <th>SUFFIX</th>\n",
              "      <th>...</th>\n",
              "      <th>LAT</th>\n",
              "      <th>LON</th>\n",
              "      <th>HEALTHCARE_EXPENSES</th>\n",
              "      <th>HEALTHCARE_COVERAGE</th>\n",
              "      <th>START</th>\n",
              "      <th>STOP</th>\n",
              "      <th>PATIENT</th>\n",
              "      <th>ENCOUNTER</th>\n",
              "      <th>CODE</th>\n",
              "      <th>DESCRIPTION</th>\n",
              "    </tr>\n",
              "  </thead>\n",
              "  <tbody>\n",
              "    <tr>\n",
              "      <th>0</th>\n",
              "      <td>2f114e21-8b95-e9eb-2e9e-4b950b059cfa</td>\n",
              "      <td>2002-05-05</td>\n",
              "      <td></td>\n",
              "      <td>999-23-8106</td>\n",
              "      <td>S99926648</td>\n",
              "      <td></td>\n",
              "      <td>Ms.</td>\n",
              "      <td>Terisa250</td>\n",
              "      <td>Kreiger457</td>\n",
              "      <td></td>\n",
              "      <td>...</td>\n",
              "      <td>42.472736</td>\n",
              "      <td>-70.876528</td>\n",
              "      <td>471180.0</td>\n",
              "      <td>2784.81</td>\n",
              "      <td>2020-02-20</td>\n",
              "      <td>2020-03-11</td>\n",
              "      <td>2f114e21-8b95-e9eb-2e9e-4b950b059cfa</td>\n",
              "      <td>f6cef47b-5959-a7a4-5c13-0d860067403f</td>\n",
              "      <td>386661006</td>\n",
              "      <td>Fever (finding)</td>\n",
              "    </tr>\n",
              "    <tr>\n",
              "      <th>1</th>\n",
              "      <td>2f114e21-8b95-e9eb-2e9e-4b950b059cfa</td>\n",
              "      <td>2002-05-05</td>\n",
              "      <td></td>\n",
              "      <td>999-23-8106</td>\n",
              "      <td>S99926648</td>\n",
              "      <td></td>\n",
              "      <td>Ms.</td>\n",
              "      <td>Terisa250</td>\n",
              "      <td>Kreiger457</td>\n",
              "      <td></td>\n",
              "      <td>...</td>\n",
              "      <td>42.472736</td>\n",
              "      <td>-70.876528</td>\n",
              "      <td>471180.0</td>\n",
              "      <td>2784.81</td>\n",
              "      <td>2020-02-20</td>\n",
              "      <td>2020-03-11</td>\n",
              "      <td>2f114e21-8b95-e9eb-2e9e-4b950b059cfa</td>\n",
              "      <td>f6cef47b-5959-a7a4-5c13-0d860067403f</td>\n",
              "      <td>36955009</td>\n",
              "      <td>Loss of taste (finding)</td>\n",
              "    </tr>\n",
              "    <tr>\n",
              "      <th>2</th>\n",
              "      <td>2f114e21-8b95-e9eb-2e9e-4b950b059cfa</td>\n",
              "      <td>2002-05-05</td>\n",
              "      <td></td>\n",
              "      <td>999-23-8106</td>\n",
              "      <td>S99926648</td>\n",
              "      <td></td>\n",
              "      <td>Ms.</td>\n",
              "      <td>Terisa250</td>\n",
              "      <td>Kreiger457</td>\n",
              "      <td></td>\n",
              "      <td>...</td>\n",
              "      <td>42.472736</td>\n",
              "      <td>-70.876528</td>\n",
              "      <td>471180.0</td>\n",
              "      <td>2784.81</td>\n",
              "      <td>2020-02-20</td>\n",
              "      <td>2020-02-20</td>\n",
              "      <td>2f114e21-8b95-e9eb-2e9e-4b950b059cfa</td>\n",
              "      <td>f6cef47b-5959-a7a4-5c13-0d860067403f</td>\n",
              "      <td>840544004</td>\n",
              "      <td>Suspected COVID-19</td>\n",
              "    </tr>\n",
              "    <tr>\n",
              "      <th>3</th>\n",
              "      <td>2f114e21-8b95-e9eb-2e9e-4b950b059cfa</td>\n",
              "      <td>2002-05-05</td>\n",
              "      <td></td>\n",
              "      <td>999-23-8106</td>\n",
              "      <td>S99926648</td>\n",
              "      <td></td>\n",
              "      <td>Ms.</td>\n",
              "      <td>Terisa250</td>\n",
              "      <td>Kreiger457</td>\n",
              "      <td></td>\n",
              "      <td>...</td>\n",
              "      <td>42.472736</td>\n",
              "      <td>-70.876528</td>\n",
              "      <td>471180.0</td>\n",
              "      <td>2784.81</td>\n",
              "      <td>2020-02-20</td>\n",
              "      <td>2020-03-11</td>\n",
              "      <td>2f114e21-8b95-e9eb-2e9e-4b950b059cfa</td>\n",
              "      <td>f6cef47b-5959-a7a4-5c13-0d860067403f</td>\n",
              "      <td>840539006</td>\n",
              "      <td>COVID-19</td>\n",
              "    </tr>\n",
              "    <tr>\n",
              "      <th>4</th>\n",
              "      <td>2812f4fc-6aba-0033-728b-7e569bb8adcc</td>\n",
              "      <td>1942-05-24</td>\n",
              "      <td></td>\n",
              "      <td>999-24-5281</td>\n",
              "      <td>S99910925</td>\n",
              "      <td>X76697172X</td>\n",
              "      <td>Mr.</td>\n",
              "      <td>Romeo514</td>\n",
              "      <td>Morar593</td>\n",
              "      <td></td>\n",
              "      <td>...</td>\n",
              "      <td>42.131465</td>\n",
              "      <td>-71.970333</td>\n",
              "      <td>1606235.0</td>\n",
              "      <td>5375.37</td>\n",
              "      <td>2020-03-03</td>\n",
              "      <td>2020-03-20</td>\n",
              "      <td>2812f4fc-6aba-0033-728b-7e569bb8adcc</td>\n",
              "      <td>9e07f1e2-f3bf-a2c6-504e-57e0568a5539</td>\n",
              "      <td>49727002</td>\n",
              "      <td>Cough (finding)</td>\n",
              "    </tr>\n",
              "  </tbody>\n",
              "</table>\n",
              "<p>5 rows × 31 columns</p>\n",
              "</div>\n",
              "      <button class=\"colab-df-convert\" onclick=\"convertToInteractive('df-cedad15c-c51a-4967-af88-06814df95d1f')\"\n",
              "              title=\"Convert this dataframe to an interactive table.\"\n",
              "              style=\"display:none;\">\n",
              "        \n",
              "  <svg xmlns=\"http://www.w3.org/2000/svg\" height=\"24px\"viewBox=\"0 0 24 24\"\n",
              "       width=\"24px\">\n",
              "    <path d=\"M0 0h24v24H0V0z\" fill=\"none\"/>\n",
              "    <path d=\"M18.56 5.44l.94 2.06.94-2.06 2.06-.94-2.06-.94-.94-2.06-.94 2.06-2.06.94zm-11 1L8.5 8.5l.94-2.06 2.06-.94-2.06-.94L8.5 2.5l-.94 2.06-2.06.94zm10 10l.94 2.06.94-2.06 2.06-.94-2.06-.94-.94-2.06-.94 2.06-2.06.94z\"/><path d=\"M17.41 7.96l-1.37-1.37c-.4-.4-.92-.59-1.43-.59-.52 0-1.04.2-1.43.59L10.3 9.45l-7.72 7.72c-.78.78-.78 2.05 0 2.83L4 21.41c.39.39.9.59 1.41.59.51 0 1.02-.2 1.41-.59l7.78-7.78 2.81-2.81c.8-.78.8-2.07 0-2.86zM5.41 20L4 18.59l7.72-7.72 1.47 1.35L5.41 20z\"/>\n",
              "  </svg>\n",
              "      </button>\n",
              "      \n",
              "  <style>\n",
              "    .colab-df-container {\n",
              "      display:flex;\n",
              "      flex-wrap:wrap;\n",
              "      gap: 12px;\n",
              "    }\n",
              "\n",
              "    .colab-df-convert {\n",
              "      background-color: #E8F0FE;\n",
              "      border: none;\n",
              "      border-radius: 50%;\n",
              "      cursor: pointer;\n",
              "      display: none;\n",
              "      fill: #1967D2;\n",
              "      height: 32px;\n",
              "      padding: 0 0 0 0;\n",
              "      width: 32px;\n",
              "    }\n",
              "\n",
              "    .colab-df-convert:hover {\n",
              "      background-color: #E2EBFA;\n",
              "      box-shadow: 0px 1px 2px rgba(60, 64, 67, 0.3), 0px 1px 3px 1px rgba(60, 64, 67, 0.15);\n",
              "      fill: #174EA6;\n",
              "    }\n",
              "\n",
              "    [theme=dark] .colab-df-convert {\n",
              "      background-color: #3B4455;\n",
              "      fill: #D2E3FC;\n",
              "    }\n",
              "\n",
              "    [theme=dark] .colab-df-convert:hover {\n",
              "      background-color: #434B5C;\n",
              "      box-shadow: 0px 1px 3px 1px rgba(0, 0, 0, 0.15);\n",
              "      filter: drop-shadow(0px 1px 2px rgba(0, 0, 0, 0.3));\n",
              "      fill: #FFFFFF;\n",
              "    }\n",
              "  </style>\n",
              "\n",
              "      <script>\n",
              "        const buttonEl =\n",
              "          document.querySelector('#df-cedad15c-c51a-4967-af88-06814df95d1f button.colab-df-convert');\n",
              "        buttonEl.style.display =\n",
              "          google.colab.kernel.accessAllowed ? 'block' : 'none';\n",
              "\n",
              "        async function convertToInteractive(key) {\n",
              "          const element = document.querySelector('#df-cedad15c-c51a-4967-af88-06814df95d1f');\n",
              "          const dataTable =\n",
              "            await google.colab.kernel.invokeFunction('convertToInteractive',\n",
              "                                                     [key], {});\n",
              "          if (!dataTable) return;\n",
              "\n",
              "          const docLinkHtml = 'Like what you see? Visit the ' +\n",
              "            '<a target=\"_blank\" href=https://colab.research.google.com/notebooks/data_table.ipynb>data table notebook</a>'\n",
              "            + ' to learn more about interactive tables.';\n",
              "          element.innerHTML = '';\n",
              "          dataTable['output_type'] = 'display_data';\n",
              "          await google.colab.output.renderOutput(dataTable, element);\n",
              "          const docLink = document.createElement('div');\n",
              "          docLink.innerHTML = docLinkHtml;\n",
              "          element.appendChild(docLink);\n",
              "        }\n",
              "      </script>\n",
              "    </div>\n",
              "  </div>\n",
              "  "
            ],
            "text/plain": [
              "                                     Id   BIRTHDATE DEATHDATE          SSN  \\\n",
              "0  2f114e21-8b95-e9eb-2e9e-4b950b059cfa  2002-05-05            999-23-8106   \n",
              "1  2f114e21-8b95-e9eb-2e9e-4b950b059cfa  2002-05-05            999-23-8106   \n",
              "2  2f114e21-8b95-e9eb-2e9e-4b950b059cfa  2002-05-05            999-23-8106   \n",
              "3  2f114e21-8b95-e9eb-2e9e-4b950b059cfa  2002-05-05            999-23-8106   \n",
              "4  2812f4fc-6aba-0033-728b-7e569bb8adcc  1942-05-24            999-24-5281   \n",
              "\n",
              "     DRIVERS    PASSPORT PREFIX      FIRST        LAST SUFFIX  ...        LAT  \\\n",
              "0  S99926648                Ms.  Terisa250  Kreiger457         ...  42.472736   \n",
              "1  S99926648                Ms.  Terisa250  Kreiger457         ...  42.472736   \n",
              "2  S99926648                Ms.  Terisa250  Kreiger457         ...  42.472736   \n",
              "3  S99926648                Ms.  Terisa250  Kreiger457         ...  42.472736   \n",
              "4  S99910925  X76697172X    Mr.   Romeo514    Morar593         ...  42.131465   \n",
              "\n",
              "         LON HEALTHCARE_EXPENSES HEALTHCARE_COVERAGE       START        STOP  \\\n",
              "0 -70.876528            471180.0             2784.81  2020-02-20  2020-03-11   \n",
              "1 -70.876528            471180.0             2784.81  2020-02-20  2020-03-11   \n",
              "2 -70.876528            471180.0             2784.81  2020-02-20  2020-02-20   \n",
              "3 -70.876528            471180.0             2784.81  2020-02-20  2020-03-11   \n",
              "4 -71.970333           1606235.0             5375.37  2020-03-03  2020-03-20   \n",
              "\n",
              "                                PATIENT                             ENCOUNTER  \\\n",
              "0  2f114e21-8b95-e9eb-2e9e-4b950b059cfa  f6cef47b-5959-a7a4-5c13-0d860067403f   \n",
              "1  2f114e21-8b95-e9eb-2e9e-4b950b059cfa  f6cef47b-5959-a7a4-5c13-0d860067403f   \n",
              "2  2f114e21-8b95-e9eb-2e9e-4b950b059cfa  f6cef47b-5959-a7a4-5c13-0d860067403f   \n",
              "3  2f114e21-8b95-e9eb-2e9e-4b950b059cfa  f6cef47b-5959-a7a4-5c13-0d860067403f   \n",
              "4  2812f4fc-6aba-0033-728b-7e569bb8adcc  9e07f1e2-f3bf-a2c6-504e-57e0568a5539   \n",
              "\n",
              "        CODE              DESCRIPTION  \n",
              "0  386661006          Fever (finding)  \n",
              "1   36955009  Loss of taste (finding)  \n",
              "2  840544004       Suspected COVID-19  \n",
              "3  840539006                 COVID-19  \n",
              "4   49727002          Cough (finding)  \n",
              "\n",
              "[5 rows x 31 columns]"
            ]
          },
          "execution_count": 9,
          "metadata": {},
          "output_type": "execute_result"
        }
      ],
      "source": [
        "# .head() zeigt die ersten 5 Reihen des Datensets.\n",
        "df.head()"
      ]
    },
    {
      "cell_type": "code",
      "execution_count": null,
      "metadata": {
        "colab": {
          "base_uri": "https://localhost:8080/"
        },
        "id": "wu4gAaCVqhJb",
        "outputId": "0072c92f-44a4-486c-d46f-bb091791d9e7"
      },
      "outputs": [
        {
          "data": {
            "text/plain": [
              "(6375, 31)"
            ]
          },
          "execution_count": 10,
          "metadata": {},
          "output_type": "execute_result"
        }
      ],
      "source": [
        "# .shape zeigt die Anzahl der Reihen und Spalten \n",
        "#size of dataset\n",
        "df.shape"
      ]
    },
    {
      "cell_type": "code",
      "execution_count": null,
      "metadata": {
        "colab": {
          "base_uri": "https://localhost:8080/"
        },
        "id": "TIO9Yf9-vhF6",
        "outputId": "3f46825a-400d-4d6a-a3a9-a2e50e9137e1"
      },
      "outputs": [
        {
          "data": {
            "text/plain": [
              "Index(['Id', 'BIRTHDATE', 'DEATHDATE', 'SSN', 'DRIVERS', 'PASSPORT', 'PREFIX',\n",
              "       'FIRST', 'LAST', 'SUFFIX', 'MAIDEN', 'MARITAL', 'RACE', 'ETHNICITY',\n",
              "       'GENDER', 'BIRTHPLACE', 'ADDRESS', 'CITY', 'STATE', 'COUNTRY', 'ZIP',\n",
              "       'LAT', 'LON', 'HEALTHCARE_EXPENSES', 'HEALTHCARE_COVERAGE', 'START',\n",
              "       'STOP', 'PATIENT', 'ENCOUNTER', 'CODE', 'DESCRIPTION'],\n",
              "      dtype='object')"
            ]
          },
          "execution_count": 11,
          "metadata": {},
          "output_type": "execute_result"
        }
      ],
      "source": [
        "# .columns zeigt die Namen aller Spalten im Datenset. \n",
        "df.columns"
      ]
    },
    {
      "cell_type": "code",
      "execution_count": null,
      "metadata": {
        "colab": {
          "base_uri": "https://localhost:8080/"
        },
        "id": "Kp7F79sFlNUy",
        "outputId": "1fd32db8-851e-417b-8217-02ef15d66757"
      },
      "outputs": [
        {
          "name": "stdout",
          "output_type": "stream",
          "text": [
            "<class 'pandas.core.frame.DataFrame'>\n",
            "Int64Index: 6375 entries, 0 to 6374\n",
            "Data columns (total 31 columns):\n",
            " #   Column               Non-Null Count  Dtype  \n",
            "---  ------               --------------  -----  \n",
            " 0   Id                   6375 non-null   object \n",
            " 1   BIRTHDATE            6375 non-null   object \n",
            " 2   DEATHDATE            6375 non-null   object \n",
            " 3   SSN                  6375 non-null   object \n",
            " 4   DRIVERS              6375 non-null   object \n",
            " 5   PASSPORT             6375 non-null   object \n",
            " 6   PREFIX               6375 non-null   object \n",
            " 7   FIRST                6375 non-null   object \n",
            " 8   LAST                 6375 non-null   object \n",
            " 9   SUFFIX               6375 non-null   object \n",
            " 10  MAIDEN               6375 non-null   object \n",
            " 11  MARITAL              6375 non-null   object \n",
            " 12  RACE                 6375 non-null   object \n",
            " 13  ETHNICITY            6375 non-null   object \n",
            " 14  GENDER               6375 non-null   object \n",
            " 15  BIRTHPLACE           6375 non-null   object \n",
            " 16  ADDRESS              6375 non-null   object \n",
            " 17  CITY                 6375 non-null   object \n",
            " 18  STATE                6375 non-null   object \n",
            " 19  COUNTRY              6375 non-null   object \n",
            " 20  ZIP                  6375 non-null   object \n",
            " 21  LAT                  6375 non-null   float64\n",
            " 22  LON                  6375 non-null   float64\n",
            " 23  HEALTHCARE_EXPENSES  6375 non-null   float64\n",
            " 24  HEALTHCARE_COVERAGE  6375 non-null   float64\n",
            " 25  START                6375 non-null   object \n",
            " 26  STOP                 6375 non-null   object \n",
            " 27  PATIENT              6375 non-null   object \n",
            " 28  ENCOUNTER            6375 non-null   object \n",
            " 29  CODE                 6375 non-null   int64  \n",
            " 30  DESCRIPTION          6375 non-null   object \n",
            "dtypes: float64(4), int64(1), object(26)\n",
            "memory usage: 1.6+ MB\n"
          ]
        }
      ],
      "source": [
        "# Attributtypen\n",
        "df.info()"
      ]
    },
    {
      "cell_type": "markdown",
      "metadata": {
        "id": "OcAfS9u0nz1K"
      },
      "source": [
        "The described method will help to see how data has been spread for numerical values. We can clearly see the minimum value, mean values, different percentile values, and maximum values."
      ]
    },
    {
      "cell_type": "code",
      "execution_count": null,
      "metadata": {
        "colab": {
          "base_uri": "https://localhost:8080/",
          "height": 300
        },
        "id": "tsVt0s9FniM3",
        "outputId": "385de174-9725-4ba1-9156-0b7b55001786"
      },
      "outputs": [
        {
          "data": {
            "text/html": [
              "\n",
              "  <div id=\"df-9c1c176d-ed68-4af2-9ab0-e7d8a004f237\">\n",
              "    <div class=\"colab-df-container\">\n",
              "      <div>\n",
              "<style scoped>\n",
              "    .dataframe tbody tr th:only-of-type {\n",
              "        vertical-align: middle;\n",
              "    }\n",
              "\n",
              "    .dataframe tbody tr th {\n",
              "        vertical-align: top;\n",
              "    }\n",
              "\n",
              "    .dataframe thead th {\n",
              "        text-align: right;\n",
              "    }\n",
              "</style>\n",
              "<table border=\"1\" class=\"dataframe\">\n",
              "  <thead>\n",
              "    <tr style=\"text-align: right;\">\n",
              "      <th></th>\n",
              "      <th>LAT</th>\n",
              "      <th>LON</th>\n",
              "      <th>HEALTHCARE_EXPENSES</th>\n",
              "      <th>HEALTHCARE_COVERAGE</th>\n",
              "      <th>CODE</th>\n",
              "    </tr>\n",
              "  </thead>\n",
              "  <tbody>\n",
              "    <tr>\n",
              "      <th>count</th>\n",
              "      <td>6375.000000</td>\n",
              "      <td>6375.000000</td>\n",
              "      <td>6.375000e+03</td>\n",
              "      <td>6375.000000</td>\n",
              "      <td>6.375000e+03</td>\n",
              "    </tr>\n",
              "    <tr>\n",
              "      <th>mean</th>\n",
              "      <td>42.251169</td>\n",
              "      <td>-71.350119</td>\n",
              "      <td>8.063273e+05</td>\n",
              "      <td>3475.164659</td>\n",
              "      <td>7.888697e+11</td>\n",
              "    </tr>\n",
              "    <tr>\n",
              "      <th>std</th>\n",
              "      <td>0.302949</td>\n",
              "      <td>0.592587</td>\n",
              "      <td>5.707676e+05</td>\n",
              "      <td>2393.920497</td>\n",
              "      <td>1.018319e+13</td>\n",
              "    </tr>\n",
              "    <tr>\n",
              "      <th>min</th>\n",
              "      <td>41.251594</td>\n",
              "      <td>-73.301273</td>\n",
              "      <td>2.531530e+03</td>\n",
              "      <td>0.000000</td>\n",
              "      <td>2.229801e+07</td>\n",
              "    </tr>\n",
              "    <tr>\n",
              "      <th>25%</th>\n",
              "      <td>42.082114</td>\n",
              "      <td>-71.501729</td>\n",
              "      <td>2.541600e+05</td>\n",
              "      <td>2454.040000</td>\n",
              "      <td>5.767600e+07</td>\n",
              "    </tr>\n",
              "    <tr>\n",
              "      <th>50%</th>\n",
              "      <td>42.315334</td>\n",
              "      <td>-71.151908</td>\n",
              "      <td>7.514875e+05</td>\n",
              "      <td>2808.160000</td>\n",
              "      <td>2.671020e+08</td>\n",
              "    </tr>\n",
              "    <tr>\n",
              "      <th>75%</th>\n",
              "      <td>42.455424</td>\n",
              "      <td>-71.015124</td>\n",
              "      <td>1.356330e+06</td>\n",
              "      <td>4135.490000</td>\n",
              "      <td>8.405390e+08</td>\n",
              "    </tr>\n",
              "    <tr>\n",
              "      <th>max</th>\n",
              "      <td>42.879142</td>\n",
              "      <td>-69.947010</td>\n",
              "      <td>1.849960e+06</td>\n",
              "      <td>18194.610000</td>\n",
              "      <td>1.322810e+14</td>\n",
              "    </tr>\n",
              "  </tbody>\n",
              "</table>\n",
              "</div>\n",
              "      <button class=\"colab-df-convert\" onclick=\"convertToInteractive('df-9c1c176d-ed68-4af2-9ab0-e7d8a004f237')\"\n",
              "              title=\"Convert this dataframe to an interactive table.\"\n",
              "              style=\"display:none;\">\n",
              "        \n",
              "  <svg xmlns=\"http://www.w3.org/2000/svg\" height=\"24px\"viewBox=\"0 0 24 24\"\n",
              "       width=\"24px\">\n",
              "    <path d=\"M0 0h24v24H0V0z\" fill=\"none\"/>\n",
              "    <path d=\"M18.56 5.44l.94 2.06.94-2.06 2.06-.94-2.06-.94-.94-2.06-.94 2.06-2.06.94zm-11 1L8.5 8.5l.94-2.06 2.06-.94-2.06-.94L8.5 2.5l-.94 2.06-2.06.94zm10 10l.94 2.06.94-2.06 2.06-.94-2.06-.94-.94-2.06-.94 2.06-2.06.94z\"/><path d=\"M17.41 7.96l-1.37-1.37c-.4-.4-.92-.59-1.43-.59-.52 0-1.04.2-1.43.59L10.3 9.45l-7.72 7.72c-.78.78-.78 2.05 0 2.83L4 21.41c.39.39.9.59 1.41.59.51 0 1.02-.2 1.41-.59l7.78-7.78 2.81-2.81c.8-.78.8-2.07 0-2.86zM5.41 20L4 18.59l7.72-7.72 1.47 1.35L5.41 20z\"/>\n",
              "  </svg>\n",
              "      </button>\n",
              "      \n",
              "  <style>\n",
              "    .colab-df-container {\n",
              "      display:flex;\n",
              "      flex-wrap:wrap;\n",
              "      gap: 12px;\n",
              "    }\n",
              "\n",
              "    .colab-df-convert {\n",
              "      background-color: #E8F0FE;\n",
              "      border: none;\n",
              "      border-radius: 50%;\n",
              "      cursor: pointer;\n",
              "      display: none;\n",
              "      fill: #1967D2;\n",
              "      height: 32px;\n",
              "      padding: 0 0 0 0;\n",
              "      width: 32px;\n",
              "    }\n",
              "\n",
              "    .colab-df-convert:hover {\n",
              "      background-color: #E2EBFA;\n",
              "      box-shadow: 0px 1px 2px rgba(60, 64, 67, 0.3), 0px 1px 3px 1px rgba(60, 64, 67, 0.15);\n",
              "      fill: #174EA6;\n",
              "    }\n",
              "\n",
              "    [theme=dark] .colab-df-convert {\n",
              "      background-color: #3B4455;\n",
              "      fill: #D2E3FC;\n",
              "    }\n",
              "\n",
              "    [theme=dark] .colab-df-convert:hover {\n",
              "      background-color: #434B5C;\n",
              "      box-shadow: 0px 1px 3px 1px rgba(0, 0, 0, 0.15);\n",
              "      filter: drop-shadow(0px 1px 2px rgba(0, 0, 0, 0.3));\n",
              "      fill: #FFFFFF;\n",
              "    }\n",
              "  </style>\n",
              "\n",
              "      <script>\n",
              "        const buttonEl =\n",
              "          document.querySelector('#df-9c1c176d-ed68-4af2-9ab0-e7d8a004f237 button.colab-df-convert');\n",
              "        buttonEl.style.display =\n",
              "          google.colab.kernel.accessAllowed ? 'block' : 'none';\n",
              "\n",
              "        async function convertToInteractive(key) {\n",
              "          const element = document.querySelector('#df-9c1c176d-ed68-4af2-9ab0-e7d8a004f237');\n",
              "          const dataTable =\n",
              "            await google.colab.kernel.invokeFunction('convertToInteractive',\n",
              "                                                     [key], {});\n",
              "          if (!dataTable) return;\n",
              "\n",
              "          const docLinkHtml = 'Like what you see? Visit the ' +\n",
              "            '<a target=\"_blank\" href=https://colab.research.google.com/notebooks/data_table.ipynb>data table notebook</a>'\n",
              "            + ' to learn more about interactive tables.';\n",
              "          element.innerHTML = '';\n",
              "          dataTable['output_type'] = 'display_data';\n",
              "          await google.colab.output.renderOutput(dataTable, element);\n",
              "          const docLink = document.createElement('div');\n",
              "          docLink.innerHTML = docLinkHtml;\n",
              "          element.appendChild(docLink);\n",
              "        }\n",
              "      </script>\n",
              "    </div>\n",
              "  </div>\n",
              "  "
            ],
            "text/plain": [
              "               LAT          LON  HEALTHCARE_EXPENSES  HEALTHCARE_COVERAGE  \\\n",
              "count  6375.000000  6375.000000         6.375000e+03          6375.000000   \n",
              "mean     42.251169   -71.350119         8.063273e+05          3475.164659   \n",
              "std       0.302949     0.592587         5.707676e+05          2393.920497   \n",
              "min      41.251594   -73.301273         2.531530e+03             0.000000   \n",
              "25%      42.082114   -71.501729         2.541600e+05          2454.040000   \n",
              "50%      42.315334   -71.151908         7.514875e+05          2808.160000   \n",
              "75%      42.455424   -71.015124         1.356330e+06          4135.490000   \n",
              "max      42.879142   -69.947010         1.849960e+06         18194.610000   \n",
              "\n",
              "               CODE  \n",
              "count  6.375000e+03  \n",
              "mean   7.888697e+11  \n",
              "std    1.018319e+13  \n",
              "min    2.229801e+07  \n",
              "25%    5.767600e+07  \n",
              "50%    2.671020e+08  \n",
              "75%    8.405390e+08  \n",
              "max    1.322810e+14  "
            ]
          },
          "execution_count": 13,
          "metadata": {},
          "output_type": "execute_result"
        }
      ],
      "source": [
        "# .describe zeigt Anzahl, Durchschnitt, Standartabweichung, Minimal- und Maximalwerte für numerische Variablen an.  \n",
        "df.describe()"
      ]
    },
    {
      "cell_type": "code",
      "execution_count": null,
      "metadata": {
        "colab": {
          "base_uri": "https://localhost:8080/"
        },
        "id": "Txjvbmc_wC-C",
        "outputId": "ba7556af-1085-4f7a-d71a-24a2911748b2"
      },
      "outputs": [
        {
          "data": {
            "text/plain": [
              "Id                      941\n",
              "BIRTHDATE               881\n",
              "DEATHDATE                41\n",
              "SSN                     941\n",
              "DRIVERS                 794\n",
              "PASSPORT                737\n",
              "PREFIX                    4\n",
              "FIRST                   837\n",
              "LAST                    456\n",
              "SUFFIX                    3\n",
              "MAIDEN                  202\n",
              "MARITAL                   3\n",
              "RACE                      4\n",
              "ETHNICITY                 2\n",
              "GENDER                    2\n",
              "BIRTHPLACE              265\n",
              "ADDRESS                 941\n",
              "CITY                    236\n",
              "STATE                     1\n",
              "COUNTRY                  14\n",
              "ZIP                     209\n",
              "LAT                     941\n",
              "LON                     941\n",
              "HEALTHCARE_EXPENSES     902\n",
              "HEALTHCARE_COVERAGE     555\n",
              "START                   259\n",
              "STOP                     76\n",
              "PATIENT                 941\n",
              "ENCOUNTER              1267\n",
              "CODE                     41\n",
              "DESCRIPTION              41\n",
              "dtype: int64"
            ]
          },
          "execution_count": 14,
          "metadata": {},
          "output_type": "execute_result"
        }
      ],
      "source": [
        "# .nunique(axis=0) zeigt die Anzahl einzigartiger Werte jeder Spalte. \n",
        "df.nunique(axis=0)\n"
      ]
    },
    {
      "cell_type": "code",
      "execution_count": null,
      "metadata": {
        "id": "nD0OzmXLOCvG"
      },
      "outputs": [],
      "source": [
        "# Erstezen von leeren Werten mit with NAN\n",
        "df = df.replace(r'^\\s*$', np.nan, regex=True)\n"
      ]
    },
    {
      "attachments": {},
      "cell_type": "markdown",
      "metadata": {
        "id": "Rh_OWI58q62t"
      },
      "source": [
        "#  Datenbereinigung\n"
      ]
    },
    {
      "attachments": {},
      "cell_type": "markdown",
      "metadata": {
        "id": "TKmjieWyrHOC"
      },
      "source": [
        "### Entfernung von Duplikaten\n"
      ]
    },
    {
      "cell_type": "code",
      "execution_count": null,
      "metadata": {
        "colab": {
          "base_uri": "https://localhost:8080/"
        },
        "id": "oz6AoBaOq2tK",
        "outputId": "d881a4ac-35ce-4d8c-f838-5362234a14da"
      },
      "outputs": [
        {
          "name": "stdout",
          "output_type": "stream",
          "text": [
            "Number of Duplicated Rows 0\n"
          ]
        }
      ],
      "source": [
        "print(\"Number of Duplicated Rows\", df.duplicated(df.columns).sum())"
      ]
    },
    {
      "cell_type": "code",
      "execution_count": null,
      "metadata": {
        "colab": {
          "base_uri": "https://localhost:8080/"
        },
        "id": "nFYjWaDwm-ZW",
        "outputId": "9294f835-7987-4545-9ec6-691d84e57a20"
      },
      "outputs": [
        {
          "name": "stdout",
          "output_type": "stream",
          "text": [
            "Size of dataset after removing duplicated rows (6375, 31)\n"
          ]
        }
      ],
      "source": [
        "\n",
        "# Entfernung von Duplikaten unter Beibehaltung des ersten Werts. \n",
        "df.drop_duplicates(keep=\"first\",inplace=True) \n",
        "print(\"Size of dataset after removing duplicated rows\", df.shape)\n",
        "  "
      ]
    },
    {
      "attachments": {},
      "cell_type": "markdown",
      "metadata": {
        "id": "Wiw6to0HqaM4"
      },
      "source": [
        "### Bei Belieben: Entfernen von überflüssigen Variablen "
      ]
    },
    {
      "cell_type": "code",
      "execution_count": null,
      "metadata": {
        "colab": {
          "base_uri": "https://localhost:8080/"
        },
        "id": "xzHbk2nMV3GR",
        "outputId": "e46aa07e-710e-4098-b6d8-eb4e7a0abc8b"
      },
      "outputs": [
        {
          "data": {
            "text/plain": [
              "Index(['Id', 'BIRTHDATE', 'DEATHDATE', 'SSN', 'DRIVERS', 'PASSPORT', 'PREFIX',\n",
              "       'FIRST', 'LAST', 'SUFFIX', 'MAIDEN', 'MARITAL', 'RACE', 'ETHNICITY',\n",
              "       'GENDER', 'BIRTHPLACE', 'ADDRESS', 'CITY', 'STATE', 'COUNTRY', 'ZIP',\n",
              "       'LAT', 'LON', 'HEALTHCARE_EXPENSES', 'HEALTHCARE_COVERAGE', 'START',\n",
              "       'STOP', 'PATIENT', 'ENCOUNTER', 'CODE', 'DESCRIPTION'],\n",
              "      dtype='object')"
            ]
          },
          "execution_count": 19,
          "metadata": {},
          "output_type": "execute_result"
        }
      ],
      "source": [
        "df.columns"
      ]
    },
    {
      "cell_type": "code",
      "execution_count": null,
      "metadata": {
        "id": "aOI8yOuGqlLv"
      },
      "outputs": [],
      "source": [
        "#df = df.drop(['SSN', 'PREFIX', 'ZIP', 'DRIVERS', 'PASSPORT', 'FIRST',\n",
        "              #'LAST', 'BIRTHPLACE', 'ADDRESS', 'STATE', 'COUNTRY', \n",
        "              #'PATIENT', 'ENCOUNTER'], axis=1)"
      ]
    },
    {
      "attachments": {},
      "cell_type": "markdown",
      "metadata": {
        "id": "Vl-Fg5aIl5p7"
      },
      "source": [
        "### Umgang mit fehlenden Daten \n",
        "Es gibt mehrere Wege mit fehlenden Daten umzugehen. \n",
        "\n",
        "1. Löschung der fehlenden Werte bei geringer Anzahl. \n",
        "2. Für numerische Werte können diese durch Durchschnittswerte oder Median Werte ersetzt werden. Letzteres wird umgesetzt, wenn es große Ausreißer gibt. \n",
        "3. Für kategorische Werte können fehlende Werte mit \"mode\" ersetzt werden, den häufigen Werten. We can see that we have various missing values in the respective columns. There are various ways of treating your missing values in the data set. And which technique to use when is actually dependent on the type of data you are dealing with."
      ]
    },
    {
      "cell_type": "code",
      "execution_count": null,
      "metadata": {
        "colab": {
          "base_uri": "https://localhost:8080/"
        },
        "id": "hXgmTuPoXn8b",
        "outputId": "e9d52c1c-41a6-4ebf-850e-7e2df6332f02"
      },
      "outputs": [
        {
          "data": {
            "text/plain": [
              "(6375, 31)"
            ]
          },
          "execution_count": 20,
          "metadata": {},
          "output_type": "execute_result"
        }
      ],
      "source": [
        "df.shape"
      ]
    },
    {
      "cell_type": "code",
      "execution_count": null,
      "metadata": {
        "colab": {
          "base_uri": "https://localhost:8080/"
        },
        "id": "1eZYrokRlS88",
        "outputId": "0b5ba38d-4d94-4ec9-ad03-69701e0f8feb"
      },
      "outputs": [
        {
          "data": {
            "text/plain": [
              "Id                     100.000000\n",
              "BIRTHDATE              100.000000\n",
              "DEATHDATE                7.576471\n",
              "SSN                    100.000000\n",
              "DRIVERS                 85.819608\n",
              "PASSPORT                80.345098\n",
              "PREFIX                  82.964706\n",
              "FIRST                  100.000000\n",
              "LAST                   100.000000\n",
              "SUFFIX                   0.815686\n",
              "MAIDEN                  28.439216\n",
              "MARITAL                 69.490196\n",
              "RACE                   100.000000\n",
              "ETHNICITY              100.000000\n",
              "GENDER                 100.000000\n",
              "BIRTHPLACE             100.000000\n",
              "ADDRESS                100.000000\n",
              "CITY                   100.000000\n",
              "STATE                  100.000000\n",
              "COUNTRY                100.000000\n",
              "ZIP                     52.752941\n",
              "LAT                    100.000000\n",
              "LON                    100.000000\n",
              "HEALTHCARE_EXPENSES    100.000000\n",
              "HEALTHCARE_COVERAGE    100.000000\n",
              "START                  100.000000\n",
              "STOP                    85.866667\n",
              "PATIENT                100.000000\n",
              "ENCOUNTER              100.000000\n",
              "CODE                   100.000000\n",
              "DESCRIPTION            100.000000\n",
              "dtype: float64"
            ]
          },
          "execution_count": 21,
          "metadata": {},
          "output_type": "execute_result"
        }
      ],
      "source": [
        "# Prozentsatz der nicht fehlenden Werte: \n",
        "df.count()/len(df) * 100"
      ]
    },
    {
      "cell_type": "code",
      "execution_count": null,
      "metadata": {
        "colab": {
          "base_uri": "https://localhost:8080/"
        },
        "id": "pprSscZkq-WA",
        "outputId": "46a7ba2c-4822-4734-ad0e-fe562efae13d"
      },
      "outputs": [
        {
          "data": {
            "text/plain": [
              "Id                        0\n",
              "BIRTHDATE                 0\n",
              "DEATHDATE              5892\n",
              "SSN                       0\n",
              "DRIVERS                 904\n",
              "PASSPORT               1253\n",
              "PREFIX                 1086\n",
              "FIRST                     0\n",
              "LAST                      0\n",
              "SUFFIX                 6323\n",
              "MAIDEN                 4562\n",
              "MARITAL                1945\n",
              "RACE                      0\n",
              "ETHNICITY                 0\n",
              "GENDER                    0\n",
              "BIRTHPLACE                0\n",
              "ADDRESS                   0\n",
              "CITY                      0\n",
              "STATE                     0\n",
              "COUNTRY                   0\n",
              "ZIP                    3012\n",
              "LAT                       0\n",
              "LON                       0\n",
              "HEALTHCARE_EXPENSES       0\n",
              "HEALTHCARE_COVERAGE       0\n",
              "START                     0\n",
              "STOP                    901\n",
              "PATIENT                   0\n",
              "ENCOUNTER                 0\n",
              "CODE                      0\n",
              "DESCRIPTION               0\n",
              "dtype: int64"
            ]
          },
          "execution_count": 22,
          "metadata": {},
          "output_type": "execute_result"
        }
      ],
      "source": [
        "# Anzahl der Null-Werte jeder Spalte: \n",
        "df.isnull().sum()"
      ]
    },
    {
      "cell_type": "code",
      "execution_count": null,
      "metadata": {
        "id": "-I6aLfamoNOy"
      },
      "outputs": [],
      "source": [
        "# Auffüllen der Nullwerte mit dem heutigem Datum\n",
        "df[\"DEATHDATE\"] = df.DEATHDATE.fillna(pd.to_datetime(\"today\"))\n",
        "df[\"STOP\"] = df.STOP.fillna(pd.to_datetime(\"today\"))"
      ]
    },
    {
      "cell_type": "code",
      "execution_count": null,
      "metadata": {
        "id": "j4rPQ4JzuDNg"
      },
      "outputs": [],
      "source": [
        "# Auffüllen der Nullwerte mit \"mode\"\n",
        "df['MARITAL'].fillna(df['MARITAL'].mode()[0], inplace=True)"
      ]
    },
    {
      "cell_type": "code",
      "execution_count": null,
      "metadata": {
        "id": "Te8CCISwFyDO"
      },
      "outputs": [],
      "source": [
        "# Konvertierung zu \"date\"\n",
        "df[\"DEATHDATE\"] = pd.to_datetime(df[\"DEATHDATE\"])\n",
        "df[\"BIRTHDATE\"] = pd.to_datetime(df[\"BIRTHDATE\"])\n",
        "df[\"START\"] = pd.to_datetime(df[\"START\"])\n",
        "df[\"STOP\"] = pd.to_datetime(df[\"STOP\"])"
      ]
    },
    {
      "cell_type": "code",
      "execution_count": null,
      "metadata": {
        "colab": {
          "base_uri": "https://localhost:8080/"
        },
        "id": "wFmjwJi0wLiT",
        "outputId": "fe4a3d3f-333b-4ac3-f84e-b90907d7b10d"
      },
      "outputs": [
        {
          "name": "stderr",
          "output_type": "stream",
          "text": [
            "<ipython-input-27-05447808e567>:4: FutureWarning: casting period[M] values to int64 with .astype(...) is deprecated and will raise in a future version. Use .view(...) instead.\n",
            "  df[\"DURATION\"] = df.STOP.dt.to_period(\"M\").astype(int) - df.START.dt.to_period(\"M\").astype(int)\n"
          ]
        },
        {
          "data": {
            "text/plain": [
              "0         1\n",
              "1         1\n",
              "2         0\n",
              "3         1\n",
              "4         0\n",
              "       ... \n",
              "6370     35\n",
              "6371     35\n",
              "6372     35\n",
              "6373    377\n",
              "6374     75\n",
              "Name: DURATION, Length: 6375, dtype: int64"
            ]
          },
          "execution_count": 27,
          "metadata": {},
          "output_type": "execute_result"
        }
      ],
      "source": [
        "# Berechnung des Alters und Dauer \n",
        "df[\"AGE\"] = df.DEATHDATE.dt.year - df.BIRTHDATE.dt.year\n",
        "df[\"DURATION\"] = df.STOP.dt.to_period(\"M\").astype(int) - df.START.dt.to_period(\"M\").astype(int)\n",
        "df.DURATION"
      ]
    },
    {
      "cell_type": "code",
      "execution_count": null,
      "metadata": {
        "colab": {
          "base_uri": "https://localhost:8080/"
        },
        "id": "dn5r2ukJ_Q5n",
        "outputId": "6444c03e-b0c2-400c-f965-617750087f32"
      },
      "outputs": [
        {
          "data": {
            "text/plain": [
              "Id                        0\n",
              "BIRTHDATE                 0\n",
              "DEATHDATE                 0\n",
              "SSN                       0\n",
              "DRIVERS                 904\n",
              "PASSPORT               1253\n",
              "PREFIX                 1086\n",
              "FIRST                     0\n",
              "LAST                      0\n",
              "SUFFIX                 6323\n",
              "MAIDEN                 4562\n",
              "MARITAL                   0\n",
              "RACE                      0\n",
              "ETHNICITY                 0\n",
              "GENDER                    0\n",
              "BIRTHPLACE                0\n",
              "ADDRESS                   0\n",
              "CITY                      0\n",
              "STATE                     0\n",
              "COUNTRY                   0\n",
              "ZIP                    3012\n",
              "LAT                       0\n",
              "LON                       0\n",
              "HEALTHCARE_EXPENSES       0\n",
              "HEALTHCARE_COVERAGE       0\n",
              "START                     0\n",
              "STOP                      0\n",
              "PATIENT                   0\n",
              "ENCOUNTER                 0\n",
              "CODE                      0\n",
              "DESCRIPTION               0\n",
              "AGE                       0\n",
              "DURATION                  0\n",
              "dtype: int64"
            ]
          },
          "execution_count": 28,
          "metadata": {},
          "output_type": "execute_result"
        }
      ],
      "source": [
        "# Kontrolle: Anzahl Null-Werte jeder Spalte: \n",
        "df.isnull().sum()"
      ]
    },
    {
      "attachments": {},
      "cell_type": "markdown",
      "metadata": {
        "id": "hiePHzzw_nMe"
      },
      "source": [
        "# Univariate Analyse"
      ]
    },
    {
      "attachments": {},
      "cell_type": "markdown",
      "metadata": {
        "id": "_PufofnF6MD4"
      },
      "source": [
        "## Gruppierung"
      ]
    },
    {
      "cell_type": "code",
      "execution_count": null,
      "metadata": {
        "colab": {
          "base_uri": "https://localhost:8080/"
        },
        "id": "Cje1waC5kUcN",
        "outputId": "03f9e298-8a61-49a3-9e54-ef860bb41155"
      },
      "outputs": [
        {
          "data": {
            "text/plain": [
              "Id\n",
              "0033cec2-67d3-39ec-b0f4-29f91a2918d6     4\n",
              "00680fcd-0ef2-99c5-f69d-59463206750f    15\n",
              "00f4a426-4746-6513-1775-1e8650e2f6b5     5\n",
              "00f8ffa0-e135-059c-32e9-54a79b5f612e     7\n",
              "00ff2a47-af82-8681-cb1d-428471df02f0    10\n",
              "                                        ..\n",
              "ff1a2c6d-6ae4-1737-ff36-4e76782efe6c     5\n",
              "ff2d586c-f770-a795-c9eb-0b0d39447e48     5\n",
              "ff9e749b-0abc-22f8-0d62-6912b87781b1     6\n",
              "ffd905f3-45fb-b2a7-7429-bf864ef29d81    11\n",
              "ffe52b9f-cdf1-d315-9286-e64d370edde4     5\n",
              "Length: 941, dtype: int64"
            ]
          },
          "execution_count": 29,
          "metadata": {},
          "output_type": "execute_result"
        }
      ],
      "source": [
        "# Gruppierung der Patient:innen für \"Id\"\n",
        "df.groupby([\"Id\"]).size()"
      ]
    },
    {
      "cell_type": "code",
      "execution_count": null,
      "metadata": {
        "colab": {
          "base_uri": "https://localhost:8080/"
        },
        "id": "PajN4ImhlGLO",
        "outputId": "521bf6da-f0a8-44ef-ded2-16e29f699fc0"
      },
      "outputs": [
        {
          "data": {
            "text/plain": [
              "Id                                    CODE     \n",
              "0033cec2-67d3-39ec-b0f4-29f91a2918d6  49727002     1\n",
              "                                      386661006    1\n",
              "                                      840539006    1\n",
              "                                      840544004    1\n",
              "00680fcd-0ef2-99c5-f69d-59463206750f  25064002     1\n",
              "                                                  ..\n",
              "ffe52b9f-cdf1-d315-9286-e64d370edde4  25064002     1\n",
              "                                      36955009     1\n",
              "                                      49727002     1\n",
              "                                      386661006    1\n",
              "                                      840544004    1\n",
              "Length: 6375, dtype: int64"
            ]
          },
          "execution_count": 30,
          "metadata": {},
          "output_type": "execute_result"
        }
      ],
      "source": [
        "df.groupby([\"Id\", \"CODE\"]).size()"
      ]
    },
    {
      "attachments": {},
      "cell_type": "markdown",
      "metadata": {
        "id": "iTPB7aU5sAaB"
      },
      "source": [
        "## Histogramme\n",
        "\n"
      ]
    },
    {
      "cell_type": "code",
      "execution_count": null,
      "metadata": {
        "colab": {
          "base_uri": "https://localhost:8080/",
          "height": 391
        },
        "id": "w4x0mMw_YO7q",
        "outputId": "57416ebe-c006-435d-d322-3a5499e3e6ff"
      },
      "outputs": [
        {
          "data": {
            "text/plain": [
              "<matplotlib.axes._subplots.AxesSubplot at 0x7fd5903bfcd0>"
            ]
          },
          "execution_count": 31,
          "metadata": {},
          "output_type": "execute_result"
        },
        {
          "data": {
            "image/png": "[encoded data removed]",
            "text/plain": [
              "<Figure size 864x432 with 1 Axes>"
            ]
          },
          "metadata": {
            "needs_background": "light"
          },
          "output_type": "display_data"
        }
      ],
      "source": [
        "#Alterverteilung der Patient:innen\n",
        "df['AGE'].plot(kind='hist', bins=20, figsize=(12,6), facecolor='grey',edgecolor='black')"
      ]
    },
    {
      "attachments": {},
      "cell_type": "markdown",
      "metadata": {
        "id": "5Q6K_u77-9Gk"
      },
      "source": [
        "\n",
        "## Boxplot und Entfernung der Ausreißer \n"
      ]
    },
    {
      "cell_type": "code",
      "execution_count": null,
      "metadata": {
        "colab": {
          "base_uri": "https://localhost:8080/",
          "height": 296
        },
        "id": "4HQHBfE3nA8t",
        "outputId": "8e44ae30-2db3-426f-a08d-0bcd7a3f8b80"
      },
      "outputs": [
        {
          "data": {
            "text/plain": [
              "<matplotlib.axes._subplots.AxesSubplot at 0x7fd5902b9d60>"
            ]
          },
          "execution_count": 32,
          "metadata": {},
          "output_type": "execute_result"
        },
        {
          "data": {
            "image/png": "[encoded data removed]",
            "text/plain": [
              "<Figure size 432x288 with 1 Axes>"
            ]
          },
          "metadata": {
            "needs_background": "light"
          },
          "output_type": "display_data"
        }
      ],
      "source": [
        "sns.boxplot(x=df[\"DURATION\"])"
      ]
    },
    {
      "cell_type": "code",
      "execution_count": null,
      "metadata": {
        "colab": {
          "base_uri": "https://localhost:8080/"
        },
        "id": "t93zATxfnhaE",
        "outputId": "62c7ba18-ca52-4dcd-f8b5-63852299c852"
      },
      "outputs": [
        {
          "data": {
            "text/plain": [
              "(6375, 33)"
            ]
          },
          "execution_count": 33,
          "metadata": {},
          "output_type": "execute_result"
        }
      ],
      "source": [
        "df = df[df[\"DURATION\"]<1200]\n",
        "df.shape"
      ]
    },
    {
      "cell_type": "markdown",
      "metadata": {
        "id": "Ko_qIt9eCOD8"
      },
      "source": [
        "## Countplot"
      ]
    },
    {
      "cell_type": "code",
      "execution_count": null,
      "metadata": {
        "colab": {
          "base_uri": "https://localhost:8080/",
          "height": 296
        },
        "id": "h9sUPtstznBw",
        "outputId": "a84c96c3-b381-41dd-c73f-6ba324f58461"
      },
      "outputs": [
        {
          "data": {
            "text/plain": [
              "<matplotlib.axes._subplots.AxesSubplot at 0x7fd58fe56490>"
            ]
          },
          "execution_count": 34,
          "metadata": {},
          "output_type": "execute_result"
        },
        {
          "data": {
            "image/png": "[encoded data removed]",
            "text/plain": [
              "<Figure size 432x288 with 1 Axes>"
            ]
          },
          "metadata": {
            "needs_background": "light"
          },
          "output_type": "display_data"
        }
      ],
      "source": [
        "# Verteilung der Geschlechter \n",
        "sns.countplot(x=\"variable\", hue= \"value\", data=pd.melt(df[[\"GENDER\"]]))"
      ]
    },
    {
      "cell_type": "code",
      "execution_count": null,
      "metadata": {
        "colab": {
          "base_uri": "https://localhost:8080/",
          "height": 296
        },
        "id": "R2P0XXybl7jh",
        "outputId": "cb474b08-f454-480a-ad99-4782dc60e4b7"
      },
      "outputs": [
        {
          "data": {
            "text/plain": [
              "<matplotlib.axes._subplots.AxesSubplot at 0x7fd58fdc1220>"
            ]
          },
          "execution_count": 35,
          "metadata": {},
          "output_type": "execute_result"
        },
        {
          "data": {
            "image/png": "[encoded data removed]",
            "text/plain": [
              "<Figure size 432x288 with 1 Axes>"
            ]
          },
          "metadata": {
            "needs_background": "light"
          },
          "output_type": "display_data"
        }
      ],
      "source": [
        "# Verteilung des Marital Status\n",
        "sns.countplot(x=\"variable\", hue= \"value\", data=pd.melt(df[[\"MARITAL\"]]))"
      ]
    },
    {
      "cell_type": "code",
      "execution_count": null,
      "metadata": {
        "colab": {
          "base_uri": "https://localhost:8080/",
          "height": 296
        },
        "id": "3OyAU_FAmD_-",
        "outputId": "399f23b6-a507-4a51-d99f-f2b445f8efdf"
      },
      "outputs": [
        {
          "data": {
            "text/plain": [
              "<matplotlib.axes._subplots.AxesSubplot at 0x7fd58fd89cd0>"
            ]
          },
          "execution_count": 36,
          "metadata": {},
          "output_type": "execute_result"
        },
        {
          "data": {
            "image/png": "[encoded data removed]",
            "text/plain": [
              "<Figure size 432x288 with 1 Axes>"
            ]
          },
          "metadata": {
            "needs_background": "light"
          },
          "output_type": "display_data"
        }
      ],
      "source": [
        "# Verteilung des \"Race\"-Attributs \n",
        "sns.countplot(x=\"variable\", hue= \"value\", data=pd.melt(df[[\"RACE\"]]))"
      ]
    },
    {
      "cell_type": "code",
      "execution_count": null,
      "metadata": {
        "colab": {
          "base_uri": "https://localhost:8080/",
          "height": 296
        },
        "id": "bVkAbjaYpC0_",
        "outputId": "284532d9-0b7c-4133-baa8-04596eb6a4cd"
      },
      "outputs": [
        {
          "data": {
            "text/plain": [
              "<matplotlib.axes._subplots.AxesSubplot at 0x7fd58fce4af0>"
            ]
          },
          "execution_count": 37,
          "metadata": {},
          "output_type": "execute_result"
        },
        {
          "data": {
            "image/png": "[encoded data removed]",
            "text/plain": [
              "<Figure size 432x288 with 1 Axes>"
            ]
          },
          "metadata": {
            "needs_background": "light"
          },
          "output_type": "display_data"
        }
      ],
      "source": [
        "# Verteilung des \"Race\"-Attributs \n",
        "sns.countplot(x=\"variable\", hue= \"value\", data=pd.melt(df[[\"ETHNICITY\"]]))"
      ]
    },
    {
      "cell_type": "code",
      "execution_count": null,
      "metadata": {
        "id": "KWr90BL6oVkm"
      },
      "outputs": [],
      "source": [
        "# Konvertierung von kategorischden Variablen zu numerischen Variablen \n",
        "df.GENDER.replace(['M', 'F'], [0, 1], inplace=True)\n",
        "df.MARITAL.replace(['M', 'S'], [0, 1], inplace=True)\n",
        "df.RACE.replace([\"white\", \"black\", \"asian\"], [1, 2, 3], inplace=True)\n",
        "df.ETHNICITY.replace([\"nonhispanic\", \"hispanic\"], [0, 1], inplace=True)"
      ]
    },
    {
      "attachments": {},
      "cell_type": "markdown",
      "metadata": {
        "id": "1iDAA2t2ru1m"
      },
      "source": [
        "#  Multivariate Analyse: Analyse der Beziehungen zwischen Variablen \n",
        "\n",
        "Korrelationmatrix und Scatterplots sind nützliche Werkzeuge, um die Beziehung zwischen den Variablen darzustellen. "
      ]
    },
    {
      "cell_type": "markdown",
      "metadata": {
        "id": "WH2I4GRwr0U5"
      },
      "source": [
        "### Correlation Matrix\n"
      ]
    },
    {
      "cell_type": "code",
      "execution_count": null,
      "metadata": {
        "colab": {
          "base_uri": "https://localhost:8080/"
        },
        "id": "WbFlznbxxZMg",
        "outputId": "e151702d-3917-4a3a-9aaa-343ff563f8ae"
      },
      "outputs": [
        {
          "name": "stdout",
          "output_type": "stream",
          "text": [
            "<class 'pandas.core.frame.DataFrame'>\n",
            "Int64Index: 6375 entries, 0 to 6374\n",
            "Data columns (total 33 columns):\n",
            " #   Column               Non-Null Count  Dtype         \n",
            "---  ------               --------------  -----         \n",
            " 0   Id                   6375 non-null   object        \n",
            " 1   BIRTHDATE            6375 non-null   datetime64[ns]\n",
            " 2   DEATHDATE            6375 non-null   datetime64[ns]\n",
            " 3   SSN                  6375 non-null   object        \n",
            " 4   DRIVERS              5471 non-null   object        \n",
            " 5   PASSPORT             5122 non-null   object        \n",
            " 6   PREFIX               5289 non-null   object        \n",
            " 7   FIRST                6375 non-null   object        \n",
            " 8   LAST                 6375 non-null   object        \n",
            " 9   SUFFIX               52 non-null     object        \n",
            " 10  MAIDEN               1813 non-null   object        \n",
            " 11  MARITAL              6375 non-null   int64         \n",
            " 12  RACE                 6375 non-null   object        \n",
            " 13  ETHNICITY            6375 non-null   int64         \n",
            " 14  GENDER               6375 non-null   int64         \n",
            " 15  BIRTHPLACE           6375 non-null   object        \n",
            " 16  ADDRESS              6375 non-null   object        \n",
            " 17  CITY                 6375 non-null   object        \n",
            " 18  STATE                6375 non-null   object        \n",
            " 19  COUNTRY              6375 non-null   object        \n",
            " 20  ZIP                  3363 non-null   object        \n",
            " 21  LAT                  6375 non-null   float64       \n",
            " 22  LON                  6375 non-null   float64       \n",
            " 23  HEALTHCARE_EXPENSES  6375 non-null   float64       \n",
            " 24  HEALTHCARE_COVERAGE  6375 non-null   float64       \n",
            " 25  START                6375 non-null   datetime64[ns]\n",
            " 26  STOP                 6375 non-null   datetime64[ns]\n",
            " 27  PATIENT              6375 non-null   object        \n",
            " 28  ENCOUNTER            6375 non-null   object        \n",
            " 29  CODE                 6375 non-null   int64         \n",
            " 30  DESCRIPTION          6375 non-null   object        \n",
            " 31  AGE                  6375 non-null   int64         \n",
            " 32  DURATION             6375 non-null   int64         \n",
            "dtypes: datetime64[ns](4), float64(4), int64(6), object(19)\n",
            "memory usage: 1.7+ MB\n"
          ]
        }
      ],
      "source": [
        "# Liste der Spalten\n",
        "df.info()"
      ]
    },
    {
      "cell_type": "code",
      "execution_count": null,
      "metadata": {
        "colab": {
          "base_uri": "https://localhost:8080/",
          "height": 456
        },
        "id": "3AZcOnNiUP54",
        "outputId": "ea7af365-8fba-4908-d80d-53956334e7d8"
      },
      "outputs": [
        {
          "data": {
            "text/plain": [
              "<matplotlib.axes._subplots.AxesSubplot at 0x7fd58fcc44c0>"
            ]
          },
          "execution_count": 40,
          "metadata": {},
          "output_type": "execute_result"
        },
        {
          "data": {
            "image/png": "[encoded data removed]",
            "text/plain": [
              "<Figure size 504x360 with 2 Axes>"
            ]
          },
          "metadata": {
            "needs_background": "light"
          },
          "output_type": "display_data"
        }
      ],
      "source": [
        "# Generierung der Korrelationsmatrix \n",
        "corr = df.corr()\n",
        "\n",
        "plt.figure(figsize=(7, 5))\n",
        "# Heatmap \n",
        "sns.heatmap(corr, annot=False)"
      ]
    },
    {
      "cell_type": "code",
      "execution_count": null,
      "metadata": {
        "colab": {
          "base_uri": "https://localhost:8080/"
        },
        "id": "HDGVtnhs8qXu",
        "outputId": "a379bb2e-8f09-4ec8-ac1d-1da720d95205"
      },
      "outputs": [
        {
          "data": {
            "text/plain": [
              "((6375, 10), (6375, 23))"
            ]
          },
          "execution_count": 41,
          "metadata": {},
          "output_type": "execute_result"
        }
      ],
      "source": [
        "# df subset numerischer Varialen\n",
        "numdf = df.select_dtypes(include=np.number)\n",
        "# df subset kategorischer Variablen\n",
        "catdf = df.select_dtypes(exclude=np.number)\n",
        "numdf.shape, catdf.shape"
      ]
    },
    {
      "cell_type": "code",
      "execution_count": null,
      "metadata": {
        "colab": {
          "base_uri": "https://localhost:8080/"
        },
        "id": "N4ZIvxZRvETQ",
        "outputId": "61668870-96f0-4c13-a2ac-ea9b7b6965bd"
      },
      "outputs": [
        {
          "data": {
            "text/plain": [
              "Index(['MARITAL', 'ETHNICITY', 'GENDER', 'LAT', 'LON', 'HEALTHCARE_EXPENSES',\n",
              "       'HEALTHCARE_COVERAGE', 'CODE', 'AGE', 'DURATION'],\n",
              "      dtype='object')"
            ]
          },
          "execution_count": 42,
          "metadata": {},
          "output_type": "execute_result"
        }
      ],
      "source": [
        "# Selektieren eines Thresholds\n",
        "columns = np.full((corr.shape[0],), True, dtype=bool)\n",
        "for i in range(corr.shape[0]):\n",
        "    for j in range(i+1, corr.shape[0]):\n",
        "        if corr.iloc[i,j] >= 0.7:\n",
        "            if columns[j]:\n",
        "                columns[j] = False\n",
        "\n",
        "selected_columns = numdf.columns[columns]\n",
        "selected_columns"
      ]
    },
    {
      "attachments": {},
      "cell_type": "markdown",
      "metadata": {
        "id": "5u69s4i1nuDa"
      },
      "source": [
        "*Basierend auf dem Heatmap gibt eine Korrelation zwischen Alter und Gesundheitsausgaben, diese ist allerdings geringer als das gesetzte Threshold von 0.7 \n"
      ]
    },
    {
      "cell_type": "markdown",
      "metadata": {
        "id": "vwHh9ya9r74M"
      },
      "source": [
        "### Scatterplot\n"
      ]
    },
    {
      "cell_type": "code",
      "execution_count": null,
      "metadata": {
        "colab": {
          "base_uri": "https://localhost:8080/",
          "height": 307
        },
        "id": "TjBgjghYW5QP",
        "outputId": "b838f14b-c97f-43fa-a95a-12f3dcea8262"
      },
      "outputs": [
        {
          "data": {
            "text/plain": [
              "<matplotlib.axes._subplots.AxesSubplot at 0x7fd58fe48880>"
            ]
          },
          "execution_count": 43,
          "metadata": {},
          "output_type": "execute_result"
        },
        {
          "data": {
            "image/png": "[encoded data removed]",
            "text/plain": [
              "<Figure size 432x288 with 1 Axes>"
            ]
          },
          "metadata": {
            "needs_background": "light"
          },
          "output_type": "display_data"
        }
      ],
      "source": [
        "df.plot(kind='scatter', y='HEALTHCARE_EXPENSES', x='AGE')\n"
      ]
    },
    {
      "cell_type": "code",
      "execution_count": null,
      "metadata": {
        "id": "TsSTvW2I48CG"
      },
      "outputs": [],
      "source": [
        "df = df[(df[\"AGE\"]<100)]"
      ]
    },
    {
      "cell_type": "code",
      "execution_count": null,
      "metadata": {
        "colab": {
          "base_uri": "https://localhost:8080/",
          "height": 296
        },
        "id": "GK0bJ2F6yaH2",
        "outputId": "cdc297b5-45de-4278-fac0-b88a762d88a7"
      },
      "outputs": [
        {
          "data": {
            "text/plain": [
              "<matplotlib.axes._subplots.AxesSubplot at 0x7fd58d366c70>"
            ]
          },
          "execution_count": 45,
          "metadata": {},
          "output_type": "execute_result"
        },
        {
          "data": {
            "image/png": "[encoded data removed]",
            "text/plain": [
              "<Figure size 432x288 with 1 Axes>"
            ]
          },
          "metadata": {
            "needs_background": "light"
          },
          "output_type": "display_data"
        }
      ],
      "source": [
        "df.plot(kind='scatter', y='DURATION', x='AGE')\n"
      ]
    },
    {
      "cell_type": "code",
      "execution_count": null,
      "metadata": {
        "colab": {
          "base_uri": "https://localhost:8080/",
          "height": 297
        },
        "id": "NLeSLqDq91wF",
        "outputId": "97fcf3f2-d60c-4f94-dd3c-23851dfcfcaa"
      },
      "outputs": [
        {
          "data": {
            "text/plain": [
              "<matplotlib.axes._subplots.AxesSubplot at 0x7fd58c95e460>"
            ]
          },
          "execution_count": 60,
          "metadata": {},
          "output_type": "execute_result"
        },
        {
          "data": {
            "image/png": "[encoded data removed]",
            "text/plain": [
              "<Figure size 432x288 with 1 Axes>"
            ]
          },
          "metadata": {
            "needs_background": "light"
          },
          "output_type": "display_data"
        }
      ],
      "source": [
        "df['RACE'] = df['RACE'].astype('category')\n",
        "df['RACE_CAT'] = df['RACE'].cat.codes\n",
        "df.plot(kind='scatter', y='AGE', x='RACE_CAT')"
      ]
    },
    {
      "cell_type": "code",
      "execution_count": null,
      "metadata": {
        "colab": {
          "base_uri": "https://localhost:8080/",
          "height": 308
        },
        "id": "SmAuLO3dXr66",
        "outputId": "9a7a4d3d-80ab-4721-efff-55610bd36db4"
      },
      "outputs": [
        {
          "data": {
            "text/plain": [
              "<matplotlib.axes._subplots.AxesSubplot at 0x7fd58c878d60>"
            ]
          },
          "execution_count": 61,
          "metadata": {},
          "output_type": "execute_result"
        },
        {
          "data": {
            "image/png": "[encoded data removed]",
            "text/plain": [
              "<Figure size 432x288 with 1 Axes>"
            ]
          },
          "metadata": {
            "needs_background": "light"
          },
          "output_type": "display_data"
        }
      ],
      "source": [
        "df['RACE'] = df['RACE'].astype('category')\n",
        "df['RACE_CAT'] = df['RACE'].cat.codes\n",
        "df.plot(kind='scatter', y='HEALTHCARE_EXPENSES', x='RACE_CAT')"
      ]
    },
    {
      "cell_type": "code",
      "execution_count": null,
      "metadata": {
        "colab": {
          "base_uri": "https://localhost:8080/",
          "height": 297
        },
        "id": "l4iDkts1XF2n",
        "outputId": "4feb7ded-08e9-40c3-e3ed-29bf3a3e7375"
      },
      "outputs": [
        {
          "data": {
            "text/plain": [
              "<matplotlib.axes._subplots.AxesSubplot at 0x7fd58c7b2b80>"
            ]
          },
          "execution_count": 63,
          "metadata": {},
          "output_type": "execute_result"
        },
        {
          "data": {
            "image/png": "[encoded data removed]",
            "text/plain": [
              "<Figure size 432x288 with 1 Axes>"
            ]
          },
          "metadata": {
            "needs_background": "light"
          },
          "output_type": "display_data"
        }
      ],
      "source": [
        "df.plot(kind='scatter', x='HEALTHCARE_EXPENSES', y='GENDER')\n"
      ]
    },
    {
      "attachments": {},
      "cell_type": "markdown",
      "metadata": {
        "id": "O2wiS0LcsOW7"
      },
      "source": [
        "### PCA\n",
        "Die PCA (Principal Component Analysis) wird verwendet, um komplexe, hochdimensionalen Datensätze zu reduzieren und dabei wichtige Merkmale zu extrahieren. "
      ]
    },
    {
      "cell_type": "code",
      "execution_count": null,
      "metadata": {
        "id": "CQL2pUfc9Z5J"
      },
      "outputs": [],
      "source": [
        "# Auswahl der für die PCA Analyse relevanten Merkmale\n",
        "df_selected = df[[ \"MARITAL\", \"RACE\", \"ETHNICITY\", \"GENDER\", \"AGE\", 'DURATION', 'CODE', \"HEALTHCARE_EXPENSES\", 'HEALTHCARE_COVERAGE']]"
      ]
    },
    {
      "cell_type": "code",
      "execution_count": null,
      "metadata": {
        "id": "5IIuPjusEBqE"
      },
      "outputs": [],
      "source": [
        "x = x[~pd.isna(x).any(axis=1)]"
      ]
    },
    {
      "cell_type": "code",
      "execution_count": null,
      "metadata": {
        "colab": {
          "base_uri": "https://localhost:8080/"
        },
        "id": "fuPNn_ELEPsd",
        "outputId": "2b15de50-6903-4185-c94f-5cf22481acf0"
      },
      "outputs": [
        {
          "name": "stdout",
          "output_type": "stream",
          "text": [
            "MARITAL                   int64\n",
            "RACE                   category\n",
            "ETHNICITY                 int64\n",
            "GENDER                    int64\n",
            "AGE                       int64\n",
            "DURATION                  int64\n",
            "CODE                      int64\n",
            "HEALTHCARE_EXPENSES     float64\n",
            "HEALTHCARE_COVERAGE     float64\n",
            "dtype: object\n"
          ]
        }
      ],
      "source": [
        "print(df_selected.dtypes)\n"
      ]
    },
    {
      "cell_type": "code",
      "execution_count": null,
      "metadata": {
        "id": "8rQ1F-NQEc1c"
      },
      "outputs": [],
      "source": [
        "#Umformung der kategorialen Merkmale in einen One-Hot-Encoding-Format zur Nutzung der PCA Analyse\n",
        "x = pd.get_dummies(df_selected[['MARITAL', 'RACE', 'ETHNICITY', 'GENDER', 'AGE', 'DURATION', 'HEALTHCARE_EXPENSES', 'HEALTHCARE_COVERAGE']])\n"
      ]
    },
    {
      "cell_type": "code",
      "execution_count": null,
      "metadata": {
        "id": "tbzuPXWGEeru"
      },
      "outputs": [],
      "source": [
        "#Normalisierung der Daten\n",
        "x = StandardScaler().fit_transform(x)\n"
      ]
    },
    {
      "cell_type": "code",
      "execution_count": null,
      "metadata": {
        "id": "iyRYX1NyErnm"
      },
      "outputs": [],
      "source": [
        "y = df_selected.loc[:,['CODE']].values\n"
      ]
    },
    {
      "cell_type": "code",
      "execution_count": null,
      "metadata": {
        "colab": {
          "base_uri": "https://localhost:8080/"
        },
        "id": "DcHPaa27E5FI",
        "outputId": "f66f52c6-35ba-4a10-ec9a-17174faec85c"
      },
      "outputs": [
        {
          "data": {
            "text/plain": [
              "((6229, 11), -5.8072057681176915e-18, 1.0)"
            ]
          },
          "execution_count": 78,
          "metadata": {},
          "output_type": "execute_result"
        }
      ],
      "source": [
        "# Kontrolle der Normalisierung\n",
        "x.shape, np.mean(x), np.std(x)"
      ]
    },
    {
      "cell_type": "code",
      "execution_count": null,
      "metadata": {
        "id": "-6fJlKk94gK5"
      },
      "outputs": [],
      "source": [
        "from sklearn.decomposition import PCA\n",
        "\n",
        "# Erstellung eines PCA Modells mit zwei Hauptkomponenten\n",
        "pca = PCA(n_components=2)\n",
        "principalComponents = pca.fit_transform(x)\n",
        "principalDf = pd.DataFrame(data = principalComponents\n",
        "             , columns = ['principal component 1', 'principal component 2'])"
      ]
    },
    {
      "cell_type": "code",
      "execution_count": null,
      "metadata": {
        "colab": {
          "base_uri": "https://localhost:8080/",
          "height": 206
        },
        "id": "7Evb17CCJ7zG",
        "outputId": "fb54fe3f-0966-4100-910e-38abcb5e7d12"
      },
      "outputs": [
        {
          "data": {
            "text/html": [
              "\n",
              "  <div id=\"df-cf928096-a482-4c1f-839c-24d2d19fbafb\">\n",
              "    <div class=\"colab-df-container\">\n",
              "      <div>\n",
              "<style scoped>\n",
              "    .dataframe tbody tr th:only-of-type {\n",
              "        vertical-align: middle;\n",
              "    }\n",
              "\n",
              "    .dataframe tbody tr th {\n",
              "        vertical-align: top;\n",
              "    }\n",
              "\n",
              "    .dataframe thead th {\n",
              "        text-align: right;\n",
              "    }\n",
              "</style>\n",
              "<table border=\"1\" class=\"dataframe\">\n",
              "  <thead>\n",
              "    <tr style=\"text-align: right;\">\n",
              "      <th></th>\n",
              "      <th>principal component 1</th>\n",
              "      <th>principal component 2</th>\n",
              "      <th>CODE</th>\n",
              "    </tr>\n",
              "  </thead>\n",
              "  <tbody>\n",
              "    <tr>\n",
              "      <th>0</th>\n",
              "      <td>-1.206565</td>\n",
              "      <td>-0.424030</td>\n",
              "      <td>386661006.0</td>\n",
              "    </tr>\n",
              "    <tr>\n",
              "      <th>1</th>\n",
              "      <td>-1.206565</td>\n",
              "      <td>-0.424030</td>\n",
              "      <td>36955009.0</td>\n",
              "    </tr>\n",
              "    <tr>\n",
              "      <th>2</th>\n",
              "      <td>-1.208080</td>\n",
              "      <td>-0.423300</td>\n",
              "      <td>840544004.0</td>\n",
              "    </tr>\n",
              "    <tr>\n",
              "      <th>3</th>\n",
              "      <td>-1.206565</td>\n",
              "      <td>-0.424030</td>\n",
              "      <td>840539006.0</td>\n",
              "    </tr>\n",
              "    <tr>\n",
              "      <th>4</th>\n",
              "      <td>1.959499</td>\n",
              "      <td>-0.930429</td>\n",
              "      <td>49727002.0</td>\n",
              "    </tr>\n",
              "  </tbody>\n",
              "</table>\n",
              "</div>\n",
              "      <button class=\"colab-df-convert\" onclick=\"convertToInteractive('df-cf928096-a482-4c1f-839c-24d2d19fbafb')\"\n",
              "              title=\"Convert this dataframe to an interactive table.\"\n",
              "              style=\"display:none;\">\n",
              "        \n",
              "  <svg xmlns=\"http://www.w3.org/2000/svg\" height=\"24px\"viewBox=\"0 0 24 24\"\n",
              "       width=\"24px\">\n",
              "    <path d=\"M0 0h24v24H0V0z\" fill=\"none\"/>\n",
              "    <path d=\"M18.56 5.44l.94 2.06.94-2.06 2.06-.94-2.06-.94-.94-2.06-.94 2.06-2.06.94zm-11 1L8.5 8.5l.94-2.06 2.06-.94-2.06-.94L8.5 2.5l-.94 2.06-2.06.94zm10 10l.94 2.06.94-2.06 2.06-.94-2.06-.94-.94-2.06-.94 2.06-2.06.94z\"/><path d=\"M17.41 7.96l-1.37-1.37c-.4-.4-.92-.59-1.43-.59-.52 0-1.04.2-1.43.59L10.3 9.45l-7.72 7.72c-.78.78-.78 2.05 0 2.83L4 21.41c.39.39.9.59 1.41.59.51 0 1.02-.2 1.41-.59l7.78-7.78 2.81-2.81c.8-.78.8-2.07 0-2.86zM5.41 20L4 18.59l7.72-7.72 1.47 1.35L5.41 20z\"/>\n",
              "  </svg>\n",
              "      </button>\n",
              "      \n",
              "  <style>\n",
              "    .colab-df-container {\n",
              "      display:flex;\n",
              "      flex-wrap:wrap;\n",
              "      gap: 12px;\n",
              "    }\n",
              "\n",
              "    .colab-df-convert {\n",
              "      background-color: #E8F0FE;\n",
              "      border: none;\n",
              "      border-radius: 50%;\n",
              "      cursor: pointer;\n",
              "      display: none;\n",
              "      fill: #1967D2;\n",
              "      height: 32px;\n",
              "      padding: 0 0 0 0;\n",
              "      width: 32px;\n",
              "    }\n",
              "\n",
              "    .colab-df-convert:hover {\n",
              "      background-color: #E2EBFA;\n",
              "      box-shadow: 0px 1px 2px rgba(60, 64, 67, 0.3), 0px 1px 3px 1px rgba(60, 64, 67, 0.15);\n",
              "      fill: #174EA6;\n",
              "    }\n",
              "\n",
              "    [theme=dark] .colab-df-convert {\n",
              "      background-color: #3B4455;\n",
              "      fill: #D2E3FC;\n",
              "    }\n",
              "\n",
              "    [theme=dark] .colab-df-convert:hover {\n",
              "      background-color: #434B5C;\n",
              "      box-shadow: 0px 1px 3px 1px rgba(0, 0, 0, 0.15);\n",
              "      filter: drop-shadow(0px 1px 2px rgba(0, 0, 0, 0.3));\n",
              "      fill: #FFFFFF;\n",
              "    }\n",
              "  </style>\n",
              "\n",
              "      <script>\n",
              "        const buttonEl =\n",
              "          document.querySelector('#df-cf928096-a482-4c1f-839c-24d2d19fbafb button.colab-df-convert');\n",
              "        buttonEl.style.display =\n",
              "          google.colab.kernel.accessAllowed ? 'block' : 'none';\n",
              "\n",
              "        async function convertToInteractive(key) {\n",
              "          const element = document.querySelector('#df-cf928096-a482-4c1f-839c-24d2d19fbafb');\n",
              "          const dataTable =\n",
              "            await google.colab.kernel.invokeFunction('convertToInteractive',\n",
              "                                                     [key], {});\n",
              "          if (!dataTable) return;\n",
              "\n",
              "          const docLinkHtml = 'Like what you see? Visit the ' +\n",
              "            '<a target=\"_blank\" href=https://colab.research.google.com/notebooks/data_table.ipynb>data table notebook</a>'\n",
              "            + ' to learn more about interactive tables.';\n",
              "          element.innerHTML = '';\n",
              "          dataTable['output_type'] = 'display_data';\n",
              "          await google.colab.output.renderOutput(dataTable, element);\n",
              "          const docLink = document.createElement('div');\n",
              "          docLink.innerHTML = docLinkHtml;\n",
              "          element.appendChild(docLink);\n",
              "        }\n",
              "      </script>\n",
              "    </div>\n",
              "  </div>\n",
              "  "
            ],
            "text/plain": [
              "   principal component 1  principal component 2         CODE\n",
              "0              -1.206565              -0.424030  386661006.0\n",
              "1              -1.206565              -0.424030   36955009.0\n",
              "2              -1.208080              -0.423300  840544004.0\n",
              "3              -1.206565              -0.424030  840539006.0\n",
              "4               1.959499              -0.930429   49727002.0"
            ]
          },
          "execution_count": 80,
          "metadata": {},
          "output_type": "execute_result"
        }
      ],
      "source": [
        "finalDf = pd.concat([principalDf, df_selected[['CODE']]], axis = 1)\n",
        "finalDf.head()"
      ]
    },
    {
      "cell_type": "code",
      "execution_count": null,
      "metadata": {
        "colab": {
          "base_uri": "https://localhost:8080/"
        },
        "id": "rM9GzLSRCBRN",
        "outputId": "d2eaa942-2821-4700-fc36-37586321cc61"
      },
      "outputs": [
        {
          "name": "stdout",
          "output_type": "stream",
          "text": [
            "Explained variation per principal component: [0.21162219 0.1741199 ]\n"
          ]
        }
      ],
      "source": [
        "print('Explained variation per principal component: {}'.format(pca.explained_variance_ratio_))\n"
      ]
    },
    {
      "cell_type": "markdown",
      "metadata": {
        "id": "5cYf_1MzCKQX"
      },
      "source": [
        "From the above output, you can observe that the principal component 1 holds 31.6% of the information while the principal component 2 holds only 18% of the information. Also, the other point to note is that while projecting  data to a two-dimensional data, 50% information was lost."
      ]
    },
    {
      "cell_type": "code",
      "execution_count": null,
      "metadata": {
        "colab": {
          "base_uri": "https://localhost:8080/"
        },
        "id": "riO5scfTC6K-",
        "outputId": "9fa5d414-47cb-487e-87ab-7571707e721c"
      },
      "outputs": [
        {
          "data": {
            "text/plain": [
              "0       386661006\n",
              "1        36955009\n",
              "2       840544004\n",
              "3       840539006\n",
              "4        49727002\n",
              "          ...    \n",
              "6348    840539006\n",
              "6349     53741008\n",
              "6350    386661006\n",
              "6351    840544004\n",
              "6352    840539006\n",
              "Name: CODE, Length: 6229, dtype: int64"
            ]
          },
          "execution_count": 82,
          "metadata": {},
          "output_type": "execute_result"
        }
      ],
      "source": [
        "df_selected.CODE"
      ]
    },
    {
      "cell_type": "code",
      "execution_count": null,
      "metadata": {
        "colab": {
          "base_uri": "https://localhost:8080/",
          "height": 523
        },
        "id": "l0KNQ7wZJhFy",
        "outputId": "1d932d9a-717a-4c67-8682-7a806d72a73c"
      },
      "outputs": [
        {
          "data": {
            "image/png": "[encoded data removed]",
            "text/plain": [
              "<Figure size 576x576 with 1 Axes>"
            ]
          },
          "metadata": {
            "needs_background": "light"
          },
          "output_type": "display_data"
        }
      ],
      "source": [
        "fig = plt.figure(figsize = (8,8))\n",
        "ax = fig.add_subplot(1,1,1) \n",
        "ax.set_xlabel('Principal Component 1', fontsize = 15)\n",
        "ax.set_ylabel('Principal Component 2', fontsize = 15)\n",
        "ax.set_title('2 component PCA', fontsize = 20)\n",
        "targets = ['MARITAL', 'RACE', 'ETHNICITY''GENDER', 'AGE']\n",
        "targets = [386661006,49727002, 389087006, 770349000, 840539006]\n",
        "colors = ['r', 'g', 'b', 'g', 'c']\n",
        "for target, color in zip(targets,colors):\n",
        "    indicesToKeep = finalDf['CODE'] == target\n",
        "    ax.scatter(finalDf.loc[indicesToKeep, 'principal component 1']\n",
        "               , finalDf.loc[indicesToKeep, 'principal component 2']\n",
        "               , c = color\n",
        "               , s = 50)\n",
        "ax.legend(targets)\n",
        "ax.grid()"
      ]
    },
    {
      "attachments": {},
      "cell_type": "markdown",
      "metadata": {
        "id": "D8iykEnFwgGQ"
      },
      "source": [
        "# Referenzlinks\n",
        "https://chrisalbon.com/python/basics/strings_to_datetime/\n",
        "\n",
        "https://scikit-learn.org/stable/auto_examples/ensemble/plot_forest_importances.html\n",
        "\n",
        " EDA: \n",
        " \n",
        " https://towardsdatascience.com/a-gentle-introduction-to-exploratory-data-analysis-f11d843b8184\n",
        "\n",
        " https://towardsdatascience.com/an-extensive-guide-to-exploratory-data-analysis-ddd99a03199e\n",
        "\n",
        " https://www.analyticssteps.com/blogs/how-do-exploratory-data-analysis-building-machine-learning-models\n",
        "\n",
        "\n",
        " https://www.analyticsvidhya.com/blog/2020/08/exploratory-data-analysiseda-from-scratch-in-python/\n",
        "\n",
        "\n",
        " PCA\n",
        "\n",
        " https://towardsdatascience.com/pca-using-python-scikit-learn-e653f8989e60"
      ]
    }
  ],
  "metadata": {
    "colab": {
      "include_colab_link": true,
      "provenance": []
    },
    "kernelspec": {
      "display_name": "Python 3",
      "language": "python",
      "name": "python3"
    },
    "language_info": {
      "name": "python",
      "version": "3.11.0"
    },
    "vscode": {
      "interpreter": {
        "hash": "fb8942fc92b71b81cb80518f37ef2089ffdbb3e5ad19eba49cbc0afbd5b624e9"
      }
    }
  },
  "nbformat": 4,
  "nbformat_minor": 0
}
