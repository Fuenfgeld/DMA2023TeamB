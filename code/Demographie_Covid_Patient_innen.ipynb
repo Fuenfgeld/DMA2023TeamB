{
  "cells": [
    {
      "cell_type": "markdown",
      "metadata": {
        "id": "view-in-github",
        "colab_type": "text"
      },
      "source": [
        "<a href=\"https://colab.research.google.com/github/Fuenfgeld/DMA2023TeamB/blob/main/Demographie_Covid_Patient_innen.ipynb\" target=\"_parent\"><img src=\"https://colab.research.google.com/assets/colab-badge.svg\" alt=\"Open In Colab\"/></a>"
      ]
    },
    {
      "cell_type": "markdown",
      "metadata": {
        "id": "oTF4SC_RjLoX"
      },
      "source": [
        "# **Ziel**: Explorative Datenanalyse (EDA) der Covid19-Patient:innen\n",
        "\n",
        "Die explorative Datenanalyse der Covid19-Patient:innen erfolgte in der SQL-Quelldatenbank in vier Schritten\n",
        "\n",
        "1. Analyse des Datensets und Exploration\n",
        "2. Datenbereinigung\n",
        "3. Untersuchung der Variablen\n",
        "4. Untersuchung der Beziehungen zwischen den Variablen\n",
        "\n"
      ]
    },
    {
      "cell_type": "markdown",
      "metadata": {
        "id": "f72lAeqGmSSy"
      },
      "source": [
        "# Import der Libraries "
      ]
    },
    {
      "cell_type": "code",
      "execution_count": 353,
      "metadata": {
        "id": "mHakU94EcNVc"
      },
      "outputs": [],
      "source": [
        "import pandas_profiling\n",
        "import pandas as pd\n",
        "import numpy as np\n",
        "import sqlite3\n",
        "import seaborn as sns\n",
        "import matplotlib.pyplot as plt\n",
        "from pandas_profiling import ProfileReport\n",
        "# Zum Anlegen der Darstellungen im Google Collab Notebook \n",
        "%matplotlib inline"
      ]
    },
    {
      "cell_type": "code",
      "execution_count": 274,
      "metadata": {
        "colab": {
          "base_uri": "https://localhost:8080/"
        },
        "id": "-042ss9IcbTC",
        "outputId": "ada4fd72-b1f9-4e99-8911-69e8b331713b"
      },
      "outputs": [
        {
          "output_type": "stream",
          "name": "stdout",
          "text": [
            "Drive already mounted at /content/drive; to attempt to forcibly remount, call drive.mount(\"/content/drive\", force_remount=True).\n"
          ]
        }
      ],
      "source": [
        "from google.colab import drive\n",
        "# Mounting des Drives zum Datenbankzugang \n",
        "drive.mount(\"/content/drive\")"
      ]
    },
    {
      "cell_type": "markdown",
      "metadata": {
        "id": "8BTwowldi9tx"
      },
      "source": [
        "\n",
        "# Laden der Daten \n"
      ]
    },
    {
      "cell_type": "code",
      "execution_count": 354,
      "metadata": {
        "id": "HzmmNYDbcnd7"
      },
      "outputs": [],
      "source": [
        "# Verbindung zur SQL-Quelldatenbank Datenbank \n",
        "DB_PATH = \"/content/drive/Shareddrives/DMA_2023_D/Anastasia/source_covid19_test.db\"\n",
        "\n",
        "# connect to db\n",
        "dwh_conn = sqlite3.connect(DB_PATH)"
      ]
    },
    {
      "cell_type": "code",
      "execution_count": 355,
      "metadata": {
        "colab": {
          "base_uri": "https://localhost:8080/"
        },
        "id": "l3c3cyQocaXV",
        "outputId": "011354b9-7a58-40bb-8973-e838d3d8fefc"
      },
      "outputs": [
        {
          "output_type": "stream",
          "name": "stdout",
          "text": [
            "List of Tables [('disease',), ('patients',), ('encounters',), ('careplans',), ('conditions',), ('medications',), ('procedures',), ('observations',), ('devices',), ('imaging_studies',), ('immunizations',)]\n"
          ]
        }
      ],
      "source": [
        "# Liste der Tabellen in Datenbank \n",
        "if dwh_conn is not None:\n",
        "  dwh_cursor = dwh_conn.cursor()\n",
        "  dwh_cursor.execute(\"SELECT name FROM sqlite_master WHERE type='table';\")\n",
        "  print(\"List of Tables\", dwh_cursor.fetchall())\n"
      ]
    },
    {
      "cell_type": "code",
      "execution_count": 356,
      "metadata": {
        "id": "r4Pk9g2SdmwO"
      },
      "outputs": [],
      "source": [
        "#Einlesen der SQL query Resultate in ein pandas DataFrame\n",
        "# demographic data\n",
        "df_patients = pd.read_sql_query(\"SELECT * FROM patients\", dwh_conn)\n",
        "\n",
        "df_conditions = pd.read_sql_query(\"SELECT * FROM conditions\", dwh_conn)"
      ]
    },
    {
      "cell_type": "code",
      "execution_count": 357,
      "metadata": {
        "id": "sBQfz7Ht4r-w"
      },
      "outputs": [],
      "source": [
        "# Vereiniung zweier Datensätze \n",
        "df = pd.merge(df_patients, df_conditions, left_on=\"Id\", right_on=\"PATIENT\", how=\"inner\")"
      ]
    },
    {
      "cell_type": "code",
      "execution_count": null,
      "metadata": {
        "id": "KpVlnD4otd6J"
      },
      "outputs": [],
      "source": [
        "# Beenden der Datenbankverbindung\n",
        "# dwh_conn.close()"
      ]
    },
    {
      "cell_type": "markdown",
      "metadata": {
        "id": "Pkr45V79nIYF"
      },
      "source": [
        "# Analyse des Datensets und Exploration\n",
        "In diesem Schritt werden die Daten auf ihre Struktur untersucht. Hierzu werden die folgenden Befehle aufgerufen: \n",
        "- df.head()\n",
        "- df.shape\n",
        "- df.columns\n",
        "- df.info()\n",
        "- df.describe()\n",
        "- df.nunique()\n",
        "- df.replace()"
      ]
    },
    {
      "cell_type": "code",
      "execution_count": 358,
      "metadata": {
        "colab": {
          "base_uri": "https://localhost:8080/",
          "height": 560
        },
        "id": "lK0LXxAAeB5i",
        "outputId": "b9e9c4f2-f413-4ab2-b417-f3fc714b55c9"
      },
      "outputs": [
        {
          "output_type": "execute_result",
          "data": {
            "text/plain": [
              "                                     Id   BIRTHDATE DEATHDATE          SSN  \\\n",
              "0  2f114e21-8b95-e9eb-2e9e-4b950b059cfa  2002-05-05            999-23-8106   \n",
              "1  2f114e21-8b95-e9eb-2e9e-4b950b059cfa  2002-05-05            999-23-8106   \n",
              "2  2f114e21-8b95-e9eb-2e9e-4b950b059cfa  2002-05-05            999-23-8106   \n",
              "3  2f114e21-8b95-e9eb-2e9e-4b950b059cfa  2002-05-05            999-23-8106   \n",
              "4  2812f4fc-6aba-0033-728b-7e569bb8adcc  1942-05-24            999-24-5281   \n",
              "\n",
              "     DRIVERS    PASSPORT PREFIX      FIRST        LAST SUFFIX  ...        LAT  \\\n",
              "0  S99926648                Ms.  Terisa250  Kreiger457         ...  42.472736   \n",
              "1  S99926648                Ms.  Terisa250  Kreiger457         ...  42.472736   \n",
              "2  S99926648                Ms.  Terisa250  Kreiger457         ...  42.472736   \n",
              "3  S99926648                Ms.  Terisa250  Kreiger457         ...  42.472736   \n",
              "4  S99910925  X76697172X    Mr.   Romeo514    Morar593         ...  42.131465   \n",
              "\n",
              "         LON HEALTHCARE_EXPENSES HEALTHCARE_COVERAGE       START        STOP  \\\n",
              "0 -70.876528            471180.0             2784.81  2020-02-20  2020-03-11   \n",
              "1 -70.876528            471180.0             2784.81  2020-02-20  2020-03-11   \n",
              "2 -70.876528            471180.0             2784.81  2020-02-20  2020-02-20   \n",
              "3 -70.876528            471180.0             2784.81  2020-02-20  2020-03-11   \n",
              "4 -71.970333           1606235.0             5375.37  2020-03-03  2020-03-20   \n",
              "\n",
              "                                PATIENT                             ENCOUNTER  \\\n",
              "0  2f114e21-8b95-e9eb-2e9e-4b950b059cfa  f6cef47b-5959-a7a4-5c13-0d860067403f   \n",
              "1  2f114e21-8b95-e9eb-2e9e-4b950b059cfa  f6cef47b-5959-a7a4-5c13-0d860067403f   \n",
              "2  2f114e21-8b95-e9eb-2e9e-4b950b059cfa  f6cef47b-5959-a7a4-5c13-0d860067403f   \n",
              "3  2f114e21-8b95-e9eb-2e9e-4b950b059cfa  f6cef47b-5959-a7a4-5c13-0d860067403f   \n",
              "4  2812f4fc-6aba-0033-728b-7e569bb8adcc  9e07f1e2-f3bf-a2c6-504e-57e0568a5539   \n",
              "\n",
              "        CODE              DESCRIPTION  \n",
              "0  386661006          Fever (finding)  \n",
              "1   36955009  Loss of taste (finding)  \n",
              "2  840544004       Suspected COVID-19  \n",
              "3  840539006                 COVID-19  \n",
              "4   49727002          Cough (finding)  \n",
              "\n",
              "[5 rows x 31 columns]"
            ],
            "text/html": [
              "\n",
              "  <div id=\"df-db6dd1f9-09dc-4068-b281-a25e3ce9e65e\">\n",
              "    <div class=\"colab-df-container\">\n",
              "      <div>\n",
              "<style scoped>\n",
              "    .dataframe tbody tr th:only-of-type {\n",
              "        vertical-align: middle;\n",
              "    }\n",
              "\n",
              "    .dataframe tbody tr th {\n",
              "        vertical-align: top;\n",
              "    }\n",
              "\n",
              "    .dataframe thead th {\n",
              "        text-align: right;\n",
              "    }\n",
              "</style>\n",
              "<table border=\"1\" class=\"dataframe\">\n",
              "  <thead>\n",
              "    <tr style=\"text-align: right;\">\n",
              "      <th></th>\n",
              "      <th>Id</th>\n",
              "      <th>BIRTHDATE</th>\n",
              "      <th>DEATHDATE</th>\n",
              "      <th>SSN</th>\n",
              "      <th>DRIVERS</th>\n",
              "      <th>PASSPORT</th>\n",
              "      <th>PREFIX</th>\n",
              "      <th>FIRST</th>\n",
              "      <th>LAST</th>\n",
              "      <th>SUFFIX</th>\n",
              "      <th>...</th>\n",
              "      <th>LAT</th>\n",
              "      <th>LON</th>\n",
              "      <th>HEALTHCARE_EXPENSES</th>\n",
              "      <th>HEALTHCARE_COVERAGE</th>\n",
              "      <th>START</th>\n",
              "      <th>STOP</th>\n",
              "      <th>PATIENT</th>\n",
              "      <th>ENCOUNTER</th>\n",
              "      <th>CODE</th>\n",
              "      <th>DESCRIPTION</th>\n",
              "    </tr>\n",
              "  </thead>\n",
              "  <tbody>\n",
              "    <tr>\n",
              "      <th>0</th>\n",
              "      <td>2f114e21-8b95-e9eb-2e9e-4b950b059cfa</td>\n",
              "      <td>2002-05-05</td>\n",
              "      <td></td>\n",
              "      <td>999-23-8106</td>\n",
              "      <td>S99926648</td>\n",
              "      <td></td>\n",
              "      <td>Ms.</td>\n",
              "      <td>Terisa250</td>\n",
              "      <td>Kreiger457</td>\n",
              "      <td></td>\n",
              "      <td>...</td>\n",
              "      <td>42.472736</td>\n",
              "      <td>-70.876528</td>\n",
              "      <td>471180.0</td>\n",
              "      <td>2784.81</td>\n",
              "      <td>2020-02-20</td>\n",
              "      <td>2020-03-11</td>\n",
              "      <td>2f114e21-8b95-e9eb-2e9e-4b950b059cfa</td>\n",
              "      <td>f6cef47b-5959-a7a4-5c13-0d860067403f</td>\n",
              "      <td>386661006</td>\n",
              "      <td>Fever (finding)</td>\n",
              "    </tr>\n",
              "    <tr>\n",
              "      <th>1</th>\n",
              "      <td>2f114e21-8b95-e9eb-2e9e-4b950b059cfa</td>\n",
              "      <td>2002-05-05</td>\n",
              "      <td></td>\n",
              "      <td>999-23-8106</td>\n",
              "      <td>S99926648</td>\n",
              "      <td></td>\n",
              "      <td>Ms.</td>\n",
              "      <td>Terisa250</td>\n",
              "      <td>Kreiger457</td>\n",
              "      <td></td>\n",
              "      <td>...</td>\n",
              "      <td>42.472736</td>\n",
              "      <td>-70.876528</td>\n",
              "      <td>471180.0</td>\n",
              "      <td>2784.81</td>\n",
              "      <td>2020-02-20</td>\n",
              "      <td>2020-03-11</td>\n",
              "      <td>2f114e21-8b95-e9eb-2e9e-4b950b059cfa</td>\n",
              "      <td>f6cef47b-5959-a7a4-5c13-0d860067403f</td>\n",
              "      <td>36955009</td>\n",
              "      <td>Loss of taste (finding)</td>\n",
              "    </tr>\n",
              "    <tr>\n",
              "      <th>2</th>\n",
              "      <td>2f114e21-8b95-e9eb-2e9e-4b950b059cfa</td>\n",
              "      <td>2002-05-05</td>\n",
              "      <td></td>\n",
              "      <td>999-23-8106</td>\n",
              "      <td>S99926648</td>\n",
              "      <td></td>\n",
              "      <td>Ms.</td>\n",
              "      <td>Terisa250</td>\n",
              "      <td>Kreiger457</td>\n",
              "      <td></td>\n",
              "      <td>...</td>\n",
              "      <td>42.472736</td>\n",
              "      <td>-70.876528</td>\n",
              "      <td>471180.0</td>\n",
              "      <td>2784.81</td>\n",
              "      <td>2020-02-20</td>\n",
              "      <td>2020-02-20</td>\n",
              "      <td>2f114e21-8b95-e9eb-2e9e-4b950b059cfa</td>\n",
              "      <td>f6cef47b-5959-a7a4-5c13-0d860067403f</td>\n",
              "      <td>840544004</td>\n",
              "      <td>Suspected COVID-19</td>\n",
              "    </tr>\n",
              "    <tr>\n",
              "      <th>3</th>\n",
              "      <td>2f114e21-8b95-e9eb-2e9e-4b950b059cfa</td>\n",
              "      <td>2002-05-05</td>\n",
              "      <td></td>\n",
              "      <td>999-23-8106</td>\n",
              "      <td>S99926648</td>\n",
              "      <td></td>\n",
              "      <td>Ms.</td>\n",
              "      <td>Terisa250</td>\n",
              "      <td>Kreiger457</td>\n",
              "      <td></td>\n",
              "      <td>...</td>\n",
              "      <td>42.472736</td>\n",
              "      <td>-70.876528</td>\n",
              "      <td>471180.0</td>\n",
              "      <td>2784.81</td>\n",
              "      <td>2020-02-20</td>\n",
              "      <td>2020-03-11</td>\n",
              "      <td>2f114e21-8b95-e9eb-2e9e-4b950b059cfa</td>\n",
              "      <td>f6cef47b-5959-a7a4-5c13-0d860067403f</td>\n",
              "      <td>840539006</td>\n",
              "      <td>COVID-19</td>\n",
              "    </tr>\n",
              "    <tr>\n",
              "      <th>4</th>\n",
              "      <td>2812f4fc-6aba-0033-728b-7e569bb8adcc</td>\n",
              "      <td>1942-05-24</td>\n",
              "      <td></td>\n",
              "      <td>999-24-5281</td>\n",
              "      <td>S99910925</td>\n",
              "      <td>X76697172X</td>\n",
              "      <td>Mr.</td>\n",
              "      <td>Romeo514</td>\n",
              "      <td>Morar593</td>\n",
              "      <td></td>\n",
              "      <td>...</td>\n",
              "      <td>42.131465</td>\n",
              "      <td>-71.970333</td>\n",
              "      <td>1606235.0</td>\n",
              "      <td>5375.37</td>\n",
              "      <td>2020-03-03</td>\n",
              "      <td>2020-03-20</td>\n",
              "      <td>2812f4fc-6aba-0033-728b-7e569bb8adcc</td>\n",
              "      <td>9e07f1e2-f3bf-a2c6-504e-57e0568a5539</td>\n",
              "      <td>49727002</td>\n",
              "      <td>Cough (finding)</td>\n",
              "    </tr>\n",
              "  </tbody>\n",
              "</table>\n",
              "<p>5 rows × 31 columns</p>\n",
              "</div>\n",
              "      <button class=\"colab-df-convert\" onclick=\"convertToInteractive('df-db6dd1f9-09dc-4068-b281-a25e3ce9e65e')\"\n",
              "              title=\"Convert this dataframe to an interactive table.\"\n",
              "              style=\"display:none;\">\n",
              "        \n",
              "  <svg xmlns=\"http://www.w3.org/2000/svg\" height=\"24px\"viewBox=\"0 0 24 24\"\n",
              "       width=\"24px\">\n",
              "    <path d=\"M0 0h24v24H0V0z\" fill=\"none\"/>\n",
              "    <path d=\"M18.56 5.44l.94 2.06.94-2.06 2.06-.94-2.06-.94-.94-2.06-.94 2.06-2.06.94zm-11 1L8.5 8.5l.94-2.06 2.06-.94-2.06-.94L8.5 2.5l-.94 2.06-2.06.94zm10 10l.94 2.06.94-2.06 2.06-.94-2.06-.94-.94-2.06-.94 2.06-2.06.94z\"/><path d=\"M17.41 7.96l-1.37-1.37c-.4-.4-.92-.59-1.43-.59-.52 0-1.04.2-1.43.59L10.3 9.45l-7.72 7.72c-.78.78-.78 2.05 0 2.83L4 21.41c.39.39.9.59 1.41.59.51 0 1.02-.2 1.41-.59l7.78-7.78 2.81-2.81c.8-.78.8-2.07 0-2.86zM5.41 20L4 18.59l7.72-7.72 1.47 1.35L5.41 20z\"/>\n",
              "  </svg>\n",
              "      </button>\n",
              "      \n",
              "  <style>\n",
              "    .colab-df-container {\n",
              "      display:flex;\n",
              "      flex-wrap:wrap;\n",
              "      gap: 12px;\n",
              "    }\n",
              "\n",
              "    .colab-df-convert {\n",
              "      background-color: #E8F0FE;\n",
              "      border: none;\n",
              "      border-radius: 50%;\n",
              "      cursor: pointer;\n",
              "      display: none;\n",
              "      fill: #1967D2;\n",
              "      height: 32px;\n",
              "      padding: 0 0 0 0;\n",
              "      width: 32px;\n",
              "    }\n",
              "\n",
              "    .colab-df-convert:hover {\n",
              "      background-color: #E2EBFA;\n",
              "      box-shadow: 0px 1px 2px rgba(60, 64, 67, 0.3), 0px 1px 3px 1px rgba(60, 64, 67, 0.15);\n",
              "      fill: #174EA6;\n",
              "    }\n",
              "\n",
              "    [theme=dark] .colab-df-convert {\n",
              "      background-color: #3B4455;\n",
              "      fill: #D2E3FC;\n",
              "    }\n",
              "\n",
              "    [theme=dark] .colab-df-convert:hover {\n",
              "      background-color: #434B5C;\n",
              "      box-shadow: 0px 1px 3px 1px rgba(0, 0, 0, 0.15);\n",
              "      filter: drop-shadow(0px 1px 2px rgba(0, 0, 0, 0.3));\n",
              "      fill: #FFFFFF;\n",
              "    }\n",
              "  </style>\n",
              "\n",
              "      <script>\n",
              "        const buttonEl =\n",
              "          document.querySelector('#df-db6dd1f9-09dc-4068-b281-a25e3ce9e65e button.colab-df-convert');\n",
              "        buttonEl.style.display =\n",
              "          google.colab.kernel.accessAllowed ? 'block' : 'none';\n",
              "\n",
              "        async function convertToInteractive(key) {\n",
              "          const element = document.querySelector('#df-db6dd1f9-09dc-4068-b281-a25e3ce9e65e');\n",
              "          const dataTable =\n",
              "            await google.colab.kernel.invokeFunction('convertToInteractive',\n",
              "                                                     [key], {});\n",
              "          if (!dataTable) return;\n",
              "\n",
              "          const docLinkHtml = 'Like what you see? Visit the ' +\n",
              "            '<a target=\"_blank\" href=https://colab.research.google.com/notebooks/data_table.ipynb>data table notebook</a>'\n",
              "            + ' to learn more about interactive tables.';\n",
              "          element.innerHTML = '';\n",
              "          dataTable['output_type'] = 'display_data';\n",
              "          await google.colab.output.renderOutput(dataTable, element);\n",
              "          const docLink = document.createElement('div');\n",
              "          docLink.innerHTML = docLinkHtml;\n",
              "          element.appendChild(docLink);\n",
              "        }\n",
              "      </script>\n",
              "    </div>\n",
              "  </div>\n",
              "  "
            ]
          },
          "metadata": {},
          "execution_count": 358
        }
      ],
      "source": [
        "# .head() zeigt die ersten 5 Reihen des Datensets.\n",
        "df.head()"
      ]
    },
    {
      "cell_type": "code",
      "execution_count": 359,
      "metadata": {
        "colab": {
          "base_uri": "https://localhost:8080/"
        },
        "id": "wu4gAaCVqhJb",
        "outputId": "adbaaff4-c4c7-43f7-dba8-af1043d07eb5"
      },
      "outputs": [
        {
          "output_type": "execute_result",
          "data": {
            "text/plain": [
              "(6375, 31)"
            ]
          },
          "metadata": {},
          "execution_count": 359
        }
      ],
      "source": [
        "# .shape zeigt die Anzahl der Reihen und Spalten \n",
        "#size of dataset\n",
        "df.shape"
      ]
    },
    {
      "cell_type": "code",
      "execution_count": 360,
      "metadata": {
        "colab": {
          "base_uri": "https://localhost:8080/"
        },
        "id": "TIO9Yf9-vhF6",
        "outputId": "5795992b-a49b-4725-fec3-134488735dcc"
      },
      "outputs": [
        {
          "output_type": "execute_result",
          "data": {
            "text/plain": [
              "Index(['Id', 'BIRTHDATE', 'DEATHDATE', 'SSN', 'DRIVERS', 'PASSPORT', 'PREFIX',\n",
              "       'FIRST', 'LAST', 'SUFFIX', 'MAIDEN', 'MARITAL', 'RACE', 'ETHNICITY',\n",
              "       'GENDER', 'BIRTHPLACE', 'ADDRESS', 'CITY', 'STATE', 'COUNTRY', 'ZIP',\n",
              "       'LAT', 'LON', 'HEALTHCARE_EXPENSES', 'HEALTHCARE_COVERAGE', 'START',\n",
              "       'STOP', 'PATIENT', 'ENCOUNTER', 'CODE', 'DESCRIPTION'],\n",
              "      dtype='object')"
            ]
          },
          "metadata": {},
          "execution_count": 360
        }
      ],
      "source": [
        "# .columns zeigt die Namen aller Spalten im Datenset. \n",
        "df.columns"
      ]
    },
    {
      "cell_type": "code",
      "execution_count": 361,
      "metadata": {
        "colab": {
          "base_uri": "https://localhost:8080/"
        },
        "id": "Kp7F79sFlNUy",
        "outputId": "20d757ae-4a91-4588-e7c5-67e754a84141"
      },
      "outputs": [
        {
          "output_type": "stream",
          "name": "stdout",
          "text": [
            "<class 'pandas.core.frame.DataFrame'>\n",
            "Int64Index: 6375 entries, 0 to 6374\n",
            "Data columns (total 31 columns):\n",
            " #   Column               Non-Null Count  Dtype  \n",
            "---  ------               --------------  -----  \n",
            " 0   Id                   6375 non-null   object \n",
            " 1   BIRTHDATE            6375 non-null   object \n",
            " 2   DEATHDATE            6375 non-null   object \n",
            " 3   SSN                  6375 non-null   object \n",
            " 4   DRIVERS              6375 non-null   object \n",
            " 5   PASSPORT             6375 non-null   object \n",
            " 6   PREFIX               6375 non-null   object \n",
            " 7   FIRST                6375 non-null   object \n",
            " 8   LAST                 6375 non-null   object \n",
            " 9   SUFFIX               6375 non-null   object \n",
            " 10  MAIDEN               6375 non-null   object \n",
            " 11  MARITAL              6375 non-null   object \n",
            " 12  RACE                 6375 non-null   object \n",
            " 13  ETHNICITY            6375 non-null   object \n",
            " 14  GENDER               6375 non-null   object \n",
            " 15  BIRTHPLACE           6375 non-null   object \n",
            " 16  ADDRESS              6375 non-null   object \n",
            " 17  CITY                 6375 non-null   object \n",
            " 18  STATE                6375 non-null   object \n",
            " 19  COUNTRY              6375 non-null   object \n",
            " 20  ZIP                  6375 non-null   object \n",
            " 21  LAT                  6375 non-null   float64\n",
            " 22  LON                  6375 non-null   float64\n",
            " 23  HEALTHCARE_EXPENSES  6375 non-null   float64\n",
            " 24  HEALTHCARE_COVERAGE  6375 non-null   float64\n",
            " 25  START                6375 non-null   object \n",
            " 26  STOP                 6375 non-null   object \n",
            " 27  PATIENT              6375 non-null   object \n",
            " 28  ENCOUNTER            6375 non-null   object \n",
            " 29  CODE                 6375 non-null   int64  \n",
            " 30  DESCRIPTION          6375 non-null   object \n",
            "dtypes: float64(4), int64(1), object(26)\n",
            "memory usage: 1.6+ MB\n"
          ]
        }
      ],
      "source": [
        "# Attributtypen\n",
        "df.info()"
      ]
    },
    {
      "cell_type": "markdown",
      "metadata": {
        "id": "OcAfS9u0nz1K"
      },
      "source": [
        "The described method will help to see how data has been spread for numerical values. We can clearly see the minimum value, mean values, different percentile values, and maximum values."
      ]
    },
    {
      "cell_type": "code",
      "execution_count": 362,
      "metadata": {
        "colab": {
          "base_uri": "https://localhost:8080/",
          "height": 300
        },
        "id": "tsVt0s9FniM3",
        "outputId": "ff2dc542-deba-4ef8-b052-3622f7e9e933"
      },
      "outputs": [
        {
          "output_type": "execute_result",
          "data": {
            "text/plain": [
              "               LAT          LON  HEALTHCARE_EXPENSES  HEALTHCARE_COVERAGE  \\\n",
              "count  6375.000000  6375.000000         6.375000e+03          6375.000000   \n",
              "mean     42.251169   -71.350119         8.063273e+05          3475.164659   \n",
              "std       0.302949     0.592587         5.707676e+05          2393.920497   \n",
              "min      41.251594   -73.301273         2.531530e+03             0.000000   \n",
              "25%      42.082114   -71.501729         2.541600e+05          2454.040000   \n",
              "50%      42.315334   -71.151908         7.514875e+05          2808.160000   \n",
              "75%      42.455424   -71.015124         1.356330e+06          4135.490000   \n",
              "max      42.879142   -69.947010         1.849960e+06         18194.610000   \n",
              "\n",
              "               CODE  \n",
              "count  6.375000e+03  \n",
              "mean   7.888697e+11  \n",
              "std    1.018319e+13  \n",
              "min    2.229801e+07  \n",
              "25%    5.767600e+07  \n",
              "50%    2.671020e+08  \n",
              "75%    8.405390e+08  \n",
              "max    1.322810e+14  "
            ],
            "text/html": [
              "\n",
              "  <div id=\"df-0caa2176-a7a1-49de-85a3-81dda080a67f\">\n",
              "    <div class=\"colab-df-container\">\n",
              "      <div>\n",
              "<style scoped>\n",
              "    .dataframe tbody tr th:only-of-type {\n",
              "        vertical-align: middle;\n",
              "    }\n",
              "\n",
              "    .dataframe tbody tr th {\n",
              "        vertical-align: top;\n",
              "    }\n",
              "\n",
              "    .dataframe thead th {\n",
              "        text-align: right;\n",
              "    }\n",
              "</style>\n",
              "<table border=\"1\" class=\"dataframe\">\n",
              "  <thead>\n",
              "    <tr style=\"text-align: right;\">\n",
              "      <th></th>\n",
              "      <th>LAT</th>\n",
              "      <th>LON</th>\n",
              "      <th>HEALTHCARE_EXPENSES</th>\n",
              "      <th>HEALTHCARE_COVERAGE</th>\n",
              "      <th>CODE</th>\n",
              "    </tr>\n",
              "  </thead>\n",
              "  <tbody>\n",
              "    <tr>\n",
              "      <th>count</th>\n",
              "      <td>6375.000000</td>\n",
              "      <td>6375.000000</td>\n",
              "      <td>6.375000e+03</td>\n",
              "      <td>6375.000000</td>\n",
              "      <td>6.375000e+03</td>\n",
              "    </tr>\n",
              "    <tr>\n",
              "      <th>mean</th>\n",
              "      <td>42.251169</td>\n",
              "      <td>-71.350119</td>\n",
              "      <td>8.063273e+05</td>\n",
              "      <td>3475.164659</td>\n",
              "      <td>7.888697e+11</td>\n",
              "    </tr>\n",
              "    <tr>\n",
              "      <th>std</th>\n",
              "      <td>0.302949</td>\n",
              "      <td>0.592587</td>\n",
              "      <td>5.707676e+05</td>\n",
              "      <td>2393.920497</td>\n",
              "      <td>1.018319e+13</td>\n",
              "    </tr>\n",
              "    <tr>\n",
              "      <th>min</th>\n",
              "      <td>41.251594</td>\n",
              "      <td>-73.301273</td>\n",
              "      <td>2.531530e+03</td>\n",
              "      <td>0.000000</td>\n",
              "      <td>2.229801e+07</td>\n",
              "    </tr>\n",
              "    <tr>\n",
              "      <th>25%</th>\n",
              "      <td>42.082114</td>\n",
              "      <td>-71.501729</td>\n",
              "      <td>2.541600e+05</td>\n",
              "      <td>2454.040000</td>\n",
              "      <td>5.767600e+07</td>\n",
              "    </tr>\n",
              "    <tr>\n",
              "      <th>50%</th>\n",
              "      <td>42.315334</td>\n",
              "      <td>-71.151908</td>\n",
              "      <td>7.514875e+05</td>\n",
              "      <td>2808.160000</td>\n",
              "      <td>2.671020e+08</td>\n",
              "    </tr>\n",
              "    <tr>\n",
              "      <th>75%</th>\n",
              "      <td>42.455424</td>\n",
              "      <td>-71.015124</td>\n",
              "      <td>1.356330e+06</td>\n",
              "      <td>4135.490000</td>\n",
              "      <td>8.405390e+08</td>\n",
              "    </tr>\n",
              "    <tr>\n",
              "      <th>max</th>\n",
              "      <td>42.879142</td>\n",
              "      <td>-69.947010</td>\n",
              "      <td>1.849960e+06</td>\n",
              "      <td>18194.610000</td>\n",
              "      <td>1.322810e+14</td>\n",
              "    </tr>\n",
              "  </tbody>\n",
              "</table>\n",
              "</div>\n",
              "      <button class=\"colab-df-convert\" onclick=\"convertToInteractive('df-0caa2176-a7a1-49de-85a3-81dda080a67f')\"\n",
              "              title=\"Convert this dataframe to an interactive table.\"\n",
              "              style=\"display:none;\">\n",
              "        \n",
              "  <svg xmlns=\"http://www.w3.org/2000/svg\" height=\"24px\"viewBox=\"0 0 24 24\"\n",
              "       width=\"24px\">\n",
              "    <path d=\"M0 0h24v24H0V0z\" fill=\"none\"/>\n",
              "    <path d=\"M18.56 5.44l.94 2.06.94-2.06 2.06-.94-2.06-.94-.94-2.06-.94 2.06-2.06.94zm-11 1L8.5 8.5l.94-2.06 2.06-.94-2.06-.94L8.5 2.5l-.94 2.06-2.06.94zm10 10l.94 2.06.94-2.06 2.06-.94-2.06-.94-.94-2.06-.94 2.06-2.06.94z\"/><path d=\"M17.41 7.96l-1.37-1.37c-.4-.4-.92-.59-1.43-.59-.52 0-1.04.2-1.43.59L10.3 9.45l-7.72 7.72c-.78.78-.78 2.05 0 2.83L4 21.41c.39.39.9.59 1.41.59.51 0 1.02-.2 1.41-.59l7.78-7.78 2.81-2.81c.8-.78.8-2.07 0-2.86zM5.41 20L4 18.59l7.72-7.72 1.47 1.35L5.41 20z\"/>\n",
              "  </svg>\n",
              "      </button>\n",
              "      \n",
              "  <style>\n",
              "    .colab-df-container {\n",
              "      display:flex;\n",
              "      flex-wrap:wrap;\n",
              "      gap: 12px;\n",
              "    }\n",
              "\n",
              "    .colab-df-convert {\n",
              "      background-color: #E8F0FE;\n",
              "      border: none;\n",
              "      border-radius: 50%;\n",
              "      cursor: pointer;\n",
              "      display: none;\n",
              "      fill: #1967D2;\n",
              "      height: 32px;\n",
              "      padding: 0 0 0 0;\n",
              "      width: 32px;\n",
              "    }\n",
              "\n",
              "    .colab-df-convert:hover {\n",
              "      background-color: #E2EBFA;\n",
              "      box-shadow: 0px 1px 2px rgba(60, 64, 67, 0.3), 0px 1px 3px 1px rgba(60, 64, 67, 0.15);\n",
              "      fill: #174EA6;\n",
              "    }\n",
              "\n",
              "    [theme=dark] .colab-df-convert {\n",
              "      background-color: #3B4455;\n",
              "      fill: #D2E3FC;\n",
              "    }\n",
              "\n",
              "    [theme=dark] .colab-df-convert:hover {\n",
              "      background-color: #434B5C;\n",
              "      box-shadow: 0px 1px 3px 1px rgba(0, 0, 0, 0.15);\n",
              "      filter: drop-shadow(0px 1px 2px rgba(0, 0, 0, 0.3));\n",
              "      fill: #FFFFFF;\n",
              "    }\n",
              "  </style>\n",
              "\n",
              "      <script>\n",
              "        const buttonEl =\n",
              "          document.querySelector('#df-0caa2176-a7a1-49de-85a3-81dda080a67f button.colab-df-convert');\n",
              "        buttonEl.style.display =\n",
              "          google.colab.kernel.accessAllowed ? 'block' : 'none';\n",
              "\n",
              "        async function convertToInteractive(key) {\n",
              "          const element = document.querySelector('#df-0caa2176-a7a1-49de-85a3-81dda080a67f');\n",
              "          const dataTable =\n",
              "            await google.colab.kernel.invokeFunction('convertToInteractive',\n",
              "                                                     [key], {});\n",
              "          if (!dataTable) return;\n",
              "\n",
              "          const docLinkHtml = 'Like what you see? Visit the ' +\n",
              "            '<a target=\"_blank\" href=https://colab.research.google.com/notebooks/data_table.ipynb>data table notebook</a>'\n",
              "            + ' to learn more about interactive tables.';\n",
              "          element.innerHTML = '';\n",
              "          dataTable['output_type'] = 'display_data';\n",
              "          await google.colab.output.renderOutput(dataTable, element);\n",
              "          const docLink = document.createElement('div');\n",
              "          docLink.innerHTML = docLinkHtml;\n",
              "          element.appendChild(docLink);\n",
              "        }\n",
              "      </script>\n",
              "    </div>\n",
              "  </div>\n",
              "  "
            ]
          },
          "metadata": {},
          "execution_count": 362
        }
      ],
      "source": [
        "# .describe zeigt Anzahl, Durchschnitt, Standartabweichung, Minimal- und Maximalwerte für numerische Variablen an.  \n",
        "df.describe()"
      ]
    },
    {
      "cell_type": "code",
      "execution_count": 363,
      "metadata": {
        "colab": {
          "base_uri": "https://localhost:8080/"
        },
        "id": "Txjvbmc_wC-C",
        "outputId": "807220f1-d921-48e2-a7fe-7b27085355b7"
      },
      "outputs": [
        {
          "output_type": "execute_result",
          "data": {
            "text/plain": [
              "Id                      941\n",
              "BIRTHDATE               881\n",
              "DEATHDATE                41\n",
              "SSN                     941\n",
              "DRIVERS                 794\n",
              "PASSPORT                737\n",
              "PREFIX                    4\n",
              "FIRST                   837\n",
              "LAST                    456\n",
              "SUFFIX                    3\n",
              "MAIDEN                  202\n",
              "MARITAL                   3\n",
              "RACE                      4\n",
              "ETHNICITY                 2\n",
              "GENDER                    2\n",
              "BIRTHPLACE              265\n",
              "ADDRESS                 941\n",
              "CITY                    236\n",
              "STATE                     1\n",
              "COUNTRY                  14\n",
              "ZIP                     209\n",
              "LAT                     941\n",
              "LON                     941\n",
              "HEALTHCARE_EXPENSES     902\n",
              "HEALTHCARE_COVERAGE     555\n",
              "START                   259\n",
              "STOP                     76\n",
              "PATIENT                 941\n",
              "ENCOUNTER              1267\n",
              "CODE                     41\n",
              "DESCRIPTION              41\n",
              "dtype: int64"
            ]
          },
          "metadata": {},
          "execution_count": 363
        }
      ],
      "source": [
        "# .nunique(axis=0) zeigt die Anzahl einzigartiger Werte jeder Spalte. \n",
        "df.nunique(axis=0)\n"
      ]
    },
    {
      "cell_type": "code",
      "execution_count": 364,
      "metadata": {
        "id": "nD0OzmXLOCvG"
      },
      "outputs": [],
      "source": [
        "# Erstezen von leeren Werten mit with NAN\n",
        "df = df.replace(r'^\\s*$', np.nan, regex=True)\n"
      ]
    },
    {
      "cell_type": "markdown",
      "metadata": {
        "id": "Rh_OWI58q62t"
      },
      "source": [
        "#  Datenbereinigung\n"
      ]
    },
    {
      "cell_type": "markdown",
      "metadata": {
        "id": "TKmjieWyrHOC"
      },
      "source": [
        "### Entfernung von Duplikaten\n"
      ]
    },
    {
      "cell_type": "code",
      "execution_count": 365,
      "metadata": {
        "colab": {
          "base_uri": "https://localhost:8080/"
        },
        "id": "oz6AoBaOq2tK",
        "outputId": "68821fc7-4a6f-48b7-af16-1107a8ebacc3"
      },
      "outputs": [
        {
          "output_type": "stream",
          "name": "stdout",
          "text": [
            "Number of Duplicated Rows 0\n"
          ]
        }
      ],
      "source": [
        "print(\"Number of Duplicated Rows\", df.duplicated(df.columns).sum())"
      ]
    },
    {
      "cell_type": "code",
      "execution_count": 366,
      "metadata": {
        "colab": {
          "base_uri": "https://localhost:8080/"
        },
        "id": "nFYjWaDwm-ZW",
        "outputId": "c08e9478-8872-4efe-e3e0-80b7a69e21fa"
      },
      "outputs": [
        {
          "output_type": "stream",
          "name": "stdout",
          "text": [
            "Size of dataset after removing duplicated rows (6375, 31)\n"
          ]
        }
      ],
      "source": [
        "\n",
        "# Entfernung von Duplikaten unter Beibehaltung des ersten Werts. \n",
        "df.drop_duplicates(keep=\"first\",inplace=True) \n",
        "print(\"Size of dataset after removing duplicated rows\", df.shape)\n",
        "  "
      ]
    },
    {
      "cell_type": "markdown",
      "metadata": {
        "id": "Wiw6to0HqaM4"
      },
      "source": [
        "### Bei Belieben: Entfernen von überflüssigen Variablen "
      ]
    },
    {
      "cell_type": "code",
      "execution_count": 367,
      "metadata": {
        "colab": {
          "base_uri": "https://localhost:8080/"
        },
        "id": "xzHbk2nMV3GR",
        "outputId": "9bfb2c83-a9b6-403d-f0e3-ebd7db23710c"
      },
      "outputs": [
        {
          "output_type": "execute_result",
          "data": {
            "text/plain": [
              "Index(['Id', 'BIRTHDATE', 'DEATHDATE', 'SSN', 'DRIVERS', 'PASSPORT', 'PREFIX',\n",
              "       'FIRST', 'LAST', 'SUFFIX', 'MAIDEN', 'MARITAL', 'RACE', 'ETHNICITY',\n",
              "       'GENDER', 'BIRTHPLACE', 'ADDRESS', 'CITY', 'STATE', 'COUNTRY', 'ZIP',\n",
              "       'LAT', 'LON', 'HEALTHCARE_EXPENSES', 'HEALTHCARE_COVERAGE', 'START',\n",
              "       'STOP', 'PATIENT', 'ENCOUNTER', 'CODE', 'DESCRIPTION'],\n",
              "      dtype='object')"
            ]
          },
          "metadata": {},
          "execution_count": 367
        }
      ],
      "source": [
        "df.columns"
      ]
    },
    {
      "cell_type": "code",
      "execution_count": 368,
      "metadata": {
        "id": "aOI8yOuGqlLv"
      },
      "outputs": [],
      "source": [
        "df = df.drop(columns=['SSN', 'PREFIX', 'SUFFIX', 'MAIDEN', 'ZIP', 'DRIVERS', 'PASSPORT', 'FIRST', 'LAST', 'BIRTHPLACE', 'ADDRESS', 'STATE', 'COUNTRY', 'ENCOUNTER', 'ZIP', 'LAT', 'LON', 'CITY'])\n"
      ]
    },
    {
      "cell_type": "markdown",
      "metadata": {
        "id": "Vl-Fg5aIl5p7"
      },
      "source": [
        "### Umgang mit fehlenden Daten \n",
        "Es gibt mehrere Wege mit fehlenden Daten umzugehen. \n",
        "\n",
        "1. Löschung der fehlenden Werte bei geringer Anzahl. \n",
        "2. Für numerische Werte können diese durch Durchschnittswerte oder Median Werte ersetzt werden. Letzteres wird umgesetzt, wenn es große Ausreißer gibt. \n",
        "3. Für kategorische Werte können fehlende Werte mit \"mode\" ersetzt werden, den häufigen Werten. We can see that we have various missing values in the respective columns. There are various ways of treating your missing values in the data set. And which technique to use when is actually dependent on the type of data you are dealing with."
      ]
    },
    {
      "cell_type": "code",
      "execution_count": 369,
      "metadata": {
        "colab": {
          "base_uri": "https://localhost:8080/"
        },
        "id": "hXgmTuPoXn8b",
        "outputId": "7c2feaea-6855-4ee0-98ad-d40c609ecc83"
      },
      "outputs": [
        {
          "output_type": "execute_result",
          "data": {
            "text/plain": [
              "(6375, 14)"
            ]
          },
          "metadata": {},
          "execution_count": 369
        }
      ],
      "source": [
        "df.shape"
      ]
    },
    {
      "cell_type": "code",
      "execution_count": 370,
      "metadata": {
        "colab": {
          "base_uri": "https://localhost:8080/"
        },
        "id": "1eZYrokRlS88",
        "outputId": "9e4266ec-cb2a-4b03-e595-1a94f69c28a9"
      },
      "outputs": [
        {
          "output_type": "execute_result",
          "data": {
            "text/plain": [
              "Id                     100.000000\n",
              "BIRTHDATE              100.000000\n",
              "DEATHDATE                7.576471\n",
              "MARITAL                 69.490196\n",
              "RACE                   100.000000\n",
              "ETHNICITY              100.000000\n",
              "GENDER                 100.000000\n",
              "HEALTHCARE_EXPENSES    100.000000\n",
              "HEALTHCARE_COVERAGE    100.000000\n",
              "START                  100.000000\n",
              "STOP                    85.866667\n",
              "PATIENT                100.000000\n",
              "CODE                   100.000000\n",
              "DESCRIPTION            100.000000\n",
              "dtype: float64"
            ]
          },
          "metadata": {},
          "execution_count": 370
        }
      ],
      "source": [
        "# Prozentsatz der nicht fehlenden Werte: \n",
        "df.count()/len(df) * 100"
      ]
    },
    {
      "cell_type": "code",
      "execution_count": 371,
      "metadata": {
        "colab": {
          "base_uri": "https://localhost:8080/"
        },
        "id": "pprSscZkq-WA",
        "outputId": "a0abdff6-998b-4668-e116-e0f2dcf89267"
      },
      "outputs": [
        {
          "output_type": "execute_result",
          "data": {
            "text/plain": [
              "Id                        0\n",
              "BIRTHDATE                 0\n",
              "DEATHDATE              5892\n",
              "MARITAL                1945\n",
              "RACE                      0\n",
              "ETHNICITY                 0\n",
              "GENDER                    0\n",
              "HEALTHCARE_EXPENSES       0\n",
              "HEALTHCARE_COVERAGE       0\n",
              "START                     0\n",
              "STOP                    901\n",
              "PATIENT                   0\n",
              "CODE                      0\n",
              "DESCRIPTION               0\n",
              "dtype: int64"
            ]
          },
          "metadata": {},
          "execution_count": 371
        }
      ],
      "source": [
        "# Anzahl der Null-Werte jeder Spalte: \n",
        "df.isnull().sum()"
      ]
    },
    {
      "cell_type": "code",
      "execution_count": 372,
      "metadata": {
        "id": "-I6aLfamoNOy"
      },
      "outputs": [],
      "source": [
        "# Auffüllen der Nullwerte mit dem heutigem Datum\n",
        "df[\"DEATHDATE\"] = df.DEATHDATE.fillna(pd.to_datetime(\"today\"))\n",
        "df[\"STOP\"] = df.STOP.fillna(pd.to_datetime(\"today\"))"
      ]
    },
    {
      "cell_type": "code",
      "execution_count": 373,
      "metadata": {
        "id": "j4rPQ4JzuDNg"
      },
      "outputs": [],
      "source": [
        "# Auffüllen der Nullwerte mit \"mode\"\n",
        "df['MARITAL'].fillna(df['MARITAL'].mode()[0], inplace=True)"
      ]
    },
    {
      "cell_type": "code",
      "execution_count": 374,
      "metadata": {
        "id": "Te8CCISwFyDO"
      },
      "outputs": [],
      "source": [
        "# Konvertierung zu \"date\"\n",
        "df[\"DEATHDATE\"] = pd.to_datetime(df[\"DEATHDATE\"])\n",
        "df[\"BIRTHDATE\"] = pd.to_datetime(df[\"BIRTHDATE\"])\n",
        "df[\"START\"] = pd.to_datetime(df[\"START\"])\n",
        "df[\"STOP\"] = pd.to_datetime(df[\"STOP\"])"
      ]
    },
    {
      "cell_type": "code",
      "execution_count": 375,
      "metadata": {
        "colab": {
          "base_uri": "https://localhost:8080/"
        },
        "id": "wFmjwJi0wLiT",
        "outputId": "f12f1187-5859-423e-8fdc-efa2d4624550"
      },
      "outputs": [
        {
          "output_type": "stream",
          "name": "stderr",
          "text": [
            "<ipython-input-375-97d3ca675d55>:3: FutureWarning: casting period[M] values to int64 with .astype(...) is deprecated and will raise in a future version. Use .view(...) instead.\n",
            "  df[\"DURATION\"] = df.STOP.dt.to_period(\"M\").astype(int) - df.START.dt.to_period(\"M\").astype(int)\n"
          ]
        },
        {
          "output_type": "execute_result",
          "data": {
            "text/plain": [
              "0         1\n",
              "1         1\n",
              "2         0\n",
              "3         1\n",
              "4         0\n",
              "       ... \n",
              "6370     35\n",
              "6371     35\n",
              "6372     35\n",
              "6373    377\n",
              "6374     75\n",
              "Name: DURATION, Length: 6375, dtype: int64"
            ]
          },
          "metadata": {},
          "execution_count": 375
        }
      ],
      "source": [
        "# Berechnung des Alters und Dauer \n",
        "df[\"AGE\"] = df.DEATHDATE.dt.year - df.BIRTHDATE.dt.year\n",
        "df[\"DURATION\"] = df.STOP.dt.to_period(\"M\").astype(int) - df.START.dt.to_period(\"M\").astype(int)\n",
        "df.DURATION"
      ]
    },
    {
      "cell_type": "code",
      "execution_count": 376,
      "metadata": {
        "colab": {
          "base_uri": "https://localhost:8080/"
        },
        "id": "dn5r2ukJ_Q5n",
        "outputId": "03390596-18ee-46c7-b7df-d30d2261203b"
      },
      "outputs": [
        {
          "output_type": "execute_result",
          "data": {
            "text/plain": [
              "Id                     0\n",
              "BIRTHDATE              0\n",
              "DEATHDATE              0\n",
              "MARITAL                0\n",
              "RACE                   0\n",
              "ETHNICITY              0\n",
              "GENDER                 0\n",
              "HEALTHCARE_EXPENSES    0\n",
              "HEALTHCARE_COVERAGE    0\n",
              "START                  0\n",
              "STOP                   0\n",
              "PATIENT                0\n",
              "CODE                   0\n",
              "DESCRIPTION            0\n",
              "AGE                    0\n",
              "DURATION               0\n",
              "dtype: int64"
            ]
          },
          "metadata": {},
          "execution_count": 376
        }
      ],
      "source": [
        "# Kontrolle: Anzahl Null-Werte jeder Spalte: \n",
        "df.isnull().sum()"
      ]
    },
    {
      "cell_type": "markdown",
      "metadata": {
        "id": "hiePHzzw_nMe"
      },
      "source": [
        "# Univariate Analyse"
      ]
    },
    {
      "cell_type": "markdown",
      "metadata": {
        "id": "_PufofnF6MD4"
      },
      "source": [
        "## Gruppierung"
      ]
    },
    {
      "cell_type": "code",
      "execution_count": 377,
      "metadata": {
        "colab": {
          "base_uri": "https://localhost:8080/"
        },
        "id": "Cje1waC5kUcN",
        "outputId": "7b3c1236-bdc0-49eb-dbc6-d007129ca6d0"
      },
      "outputs": [
        {
          "output_type": "execute_result",
          "data": {
            "text/plain": [
              "Id\n",
              "0033cec2-67d3-39ec-b0f4-29f91a2918d6     4\n",
              "00680fcd-0ef2-99c5-f69d-59463206750f    15\n",
              "00f4a426-4746-6513-1775-1e8650e2f6b5     5\n",
              "00f8ffa0-e135-059c-32e9-54a79b5f612e     7\n",
              "00ff2a47-af82-8681-cb1d-428471df02f0    10\n",
              "                                        ..\n",
              "ff1a2c6d-6ae4-1737-ff36-4e76782efe6c     5\n",
              "ff2d586c-f770-a795-c9eb-0b0d39447e48     5\n",
              "ff9e749b-0abc-22f8-0d62-6912b87781b1     6\n",
              "ffd905f3-45fb-b2a7-7429-bf864ef29d81    11\n",
              "ffe52b9f-cdf1-d315-9286-e64d370edde4     5\n",
              "Length: 941, dtype: int64"
            ]
          },
          "metadata": {},
          "execution_count": 377
        }
      ],
      "source": [
        "# Gruppierung der Patient:innen für \"Id\"\n",
        "df.groupby([\"Id\"]).size()"
      ]
    },
    {
      "cell_type": "code",
      "execution_count": 378,
      "metadata": {
        "colab": {
          "base_uri": "https://localhost:8080/"
        },
        "id": "PajN4ImhlGLO",
        "outputId": "d1021988-2e20-4db5-9e34-c5775a7800b4"
      },
      "outputs": [
        {
          "output_type": "execute_result",
          "data": {
            "text/plain": [
              "Id                                    CODE     \n",
              "0033cec2-67d3-39ec-b0f4-29f91a2918d6  49727002     1\n",
              "                                      386661006    1\n",
              "                                      840539006    1\n",
              "                                      840544004    1\n",
              "00680fcd-0ef2-99c5-f69d-59463206750f  25064002     1\n",
              "                                                  ..\n",
              "ffe52b9f-cdf1-d315-9286-e64d370edde4  25064002     1\n",
              "                                      36955009     1\n",
              "                                      49727002     1\n",
              "                                      386661006    1\n",
              "                                      840544004    1\n",
              "Length: 6375, dtype: int64"
            ]
          },
          "metadata": {},
          "execution_count": 378
        }
      ],
      "source": [
        "df.groupby([\"Id\", \"CODE\"]).size()"
      ]
    },
    {
      "cell_type": "markdown",
      "metadata": {
        "id": "iTPB7aU5sAaB"
      },
      "source": [
        "## Histogramme\n",
        "\n"
      ]
    },
    {
      "cell_type": "code",
      "execution_count": 437,
      "metadata": {
        "colab": {
          "base_uri": "https://localhost:8080/",
          "height": 391
        },
        "id": "w4x0mMw_YO7q",
        "outputId": "6900ba86-034c-45ff-afcd-4b4594b65c9a"
      },
      "outputs": [
        {
          "output_type": "execute_result",
          "data": {
            "text/plain": [
              "<matplotlib.axes._subplots.AxesSubplot at 0x7f9042a2e8e0>"
            ]
          },
          "metadata": {},
          "execution_count": 437
        },
        {
          "output_type": "display_data",
          "data": {
            "text/plain": [
              "<Figure size 864x432 with 1 Axes>"
            ],
            "image/png": "[encoded data removed]"
          },
          "metadata": {
            "needs_background": "light"
          }
        }
      ],
      "source": [
        "#Alterverteilung der Patient:innen\n",
        "df_unique['AGE'].plot(kind='hist', bins=20, figsize=(12,6), facecolor='blue',edgecolor='black')"
      ]
    },
    {
      "cell_type": "markdown",
      "metadata": {
        "id": "5Q6K_u77-9Gk"
      },
      "source": [
        "\n",
        "## Boxplot Altersverteilung\n"
      ]
    },
    {
      "cell_type": "code",
      "execution_count": 439,
      "metadata": {
        "colab": {
          "base_uri": "https://localhost:8080/",
          "height": 296
        },
        "id": "4HQHBfE3nA8t",
        "outputId": "7d935775-6d00-4248-c333-ce675e00c258"
      },
      "outputs": [
        {
          "output_type": "execute_result",
          "data": {
            "text/plain": [
              "<matplotlib.axes._subplots.AxesSubplot at 0x7f9041dbe400>"
            ]
          },
          "metadata": {},
          "execution_count": 439
        },
        {
          "output_type": "display_data",
          "data": {
            "text/plain": [
              "<Figure size 432x288 with 1 Axes>"
            ],
            "image/png": "[encoded data removed]"
          },
          "metadata": {
            "needs_background": "light"
          }
        }
      ],
      "source": [
        "sns.boxplot(x=df_unique[\"AGE\"])"
      ]
    },
    {
      "cell_type": "markdown",
      "metadata": {
        "id": "Ko_qIt9eCOD8"
      },
      "source": [
        "## Countplot"
      ]
    },
    {
      "cell_type": "code",
      "source": [
        "df_unique = df.drop_duplicates(subset=\"Id\")\n",
        "sns.countplot(x=\"GENDER\", data=df_unique)"
      ],
      "metadata": {
        "colab": {
          "base_uri": "https://localhost:8080/",
          "height": 296
        },
        "id": "uCORT8PA9G8C",
        "outputId": "fb38325a-01f6-4453-8d89-8e2002ed9af6"
      },
      "execution_count": 389,
      "outputs": [
        {
          "output_type": "execute_result",
          "data": {
            "text/plain": [
              "<matplotlib.axes._subplots.AxesSubplot at 0x7f90423df4c0>"
            ]
          },
          "metadata": {},
          "execution_count": 389
        },
        {
          "output_type": "display_data",
          "data": {
            "text/plain": [
              "<Figure size 432x288 with 1 Axes>"
            ],
            "image/png": "[encoded data removed]"
          },
          "metadata": {
            "needs_background": "light"
          }
        }
      ]
    },
    {
      "cell_type": "code",
      "source": [
        "sns.countplot(x=\"MARITAL\", data=df_unique)\n"
      ],
      "metadata": {
        "colab": {
          "base_uri": "https://localhost:8080/",
          "height": 296
        },
        "id": "74e6CRN69ow4",
        "outputId": "1467c2fe-df9f-417e-a462-06f0d344bd71"
      },
      "execution_count": 391,
      "outputs": [
        {
          "output_type": "execute_result",
          "data": {
            "text/plain": [
              "<matplotlib.axes._subplots.AxesSubplot at 0x7f90423df9a0>"
            ]
          },
          "metadata": {},
          "execution_count": 391
        },
        {
          "output_type": "display_data",
          "data": {
            "text/plain": [
              "<Figure size 432x288 with 1 Axes>"
            ],
            "image/png": "[encoded data removed]"
          },
          "metadata": {
            "needs_background": "light"
          }
        }
      ]
    },
    {
      "cell_type": "code",
      "source": [
        "sns.countplot(x=\"variable\", hue= \"value\", data=pd.melt(df_unique[[\"RACE\"]]))\n"
      ],
      "metadata": {
        "colab": {
          "base_uri": "https://localhost:8080/",
          "height": 296
        },
        "id": "1m8K9yx591c6",
        "outputId": "ab2f1a7b-8fd9-49a5-ee4c-b82358269587"
      },
      "execution_count": 393,
      "outputs": [
        {
          "output_type": "execute_result",
          "data": {
            "text/plain": [
              "<matplotlib.axes._subplots.AxesSubplot at 0x7f9042361af0>"
            ]
          },
          "metadata": {},
          "execution_count": 393
        },
        {
          "output_type": "display_data",
          "data": {
            "text/plain": [
              "<Figure size 432x288 with 1 Axes>"
            ],
            "image/png": "[encoded data removed]"
          },
          "metadata": {
            "needs_background": "light"
          }
        }
      ]
    },
    {
      "cell_type": "code",
      "source": [
        "sns.countplot(x=\"variable\", hue= \"value\", data=pd.melt(df_unique[[\"ETHNICITY\"]]))\n"
      ],
      "metadata": {
        "colab": {
          "base_uri": "https://localhost:8080/",
          "height": 296
        },
        "id": "PSkYXoUM98dA",
        "outputId": "074d3b53-f3aa-4124-d98b-f3cda3168143"
      },
      "execution_count": 394,
      "outputs": [
        {
          "output_type": "execute_result",
          "data": {
            "text/plain": [
              "<matplotlib.axes._subplots.AxesSubplot at 0x7f90422e8c70>"
            ]
          },
          "metadata": {},
          "execution_count": 394
        },
        {
          "output_type": "display_data",
          "data": {
            "text/plain": [
              "<Figure size 432x288 with 1 Axes>"
            ],
            "image/png": "[encoded data removed]"
          },
          "metadata": {
            "needs_background": "light"
          }
        }
      ]
    },
    {
      "cell_type": "code",
      "execution_count": 397,
      "metadata": {
        "id": "KWr90BL6oVkm"
      },
      "outputs": [],
      "source": [
        "# Konvertierung von kategorischden Variablen zu numerischen Variablen \n",
        "df.GENDER.replace(['M', 'F'], [0, 1], inplace=True)\n",
        "df.MARITAL.replace(['M', 'S'], [0, 1], inplace=True)\n",
        "df.RACE.replace([\"white\", \"black\", \"asian\"], [1, 2, 3], inplace=True)\n",
        "df.ETHNICITY.replace([\"nonhispanic\", \"hispanic\"], [0, 1], inplace=True)"
      ]
    },
    {
      "cell_type": "markdown",
      "metadata": {
        "id": "1iDAA2t2ru1m"
      },
      "source": [
        "#  Multivariate Analyse: Analyse der Beziehungen zwischen Variablen \n",
        "\n",
        "Korrelationmatrix und Scatterplots sind nützliche Werkzeuge, um die Beziehung zwischen den Variablen darzustellen. "
      ]
    },
    {
      "cell_type": "markdown",
      "metadata": {
        "id": "WH2I4GRwr0U5"
      },
      "source": [
        "### Correlation Matrix\n"
      ]
    },
    {
      "cell_type": "code",
      "execution_count": 398,
      "metadata": {
        "colab": {
          "base_uri": "https://localhost:8080/"
        },
        "id": "WbFlznbxxZMg",
        "outputId": "24ab5fc4-135c-4c0e-e62a-587f9f5c7ccc"
      },
      "outputs": [
        {
          "output_type": "stream",
          "name": "stdout",
          "text": [
            "<class 'pandas.core.frame.DataFrame'>\n",
            "Int64Index: 5585 entries, 0 to 6352\n",
            "Data columns (total 16 columns):\n",
            " #   Column               Non-Null Count  Dtype         \n",
            "---  ------               --------------  -----         \n",
            " 0   Id                   5585 non-null   object        \n",
            " 1   BIRTHDATE            5585 non-null   datetime64[ns]\n",
            " 2   DEATHDATE            5585 non-null   datetime64[ns]\n",
            " 3   MARITAL              5585 non-null   int64         \n",
            " 4   RACE                 5585 non-null   object        \n",
            " 5   ETHNICITY            5585 non-null   int64         \n",
            " 6   GENDER               5585 non-null   int64         \n",
            " 7   HEALTHCARE_EXPENSES  5585 non-null   float64       \n",
            " 8   HEALTHCARE_COVERAGE  5585 non-null   float64       \n",
            " 9   START                5585 non-null   datetime64[ns]\n",
            " 10  STOP                 5585 non-null   datetime64[ns]\n",
            " 11  PATIENT              5585 non-null   object        \n",
            " 12  CODE                 5585 non-null   int64         \n",
            " 13  DESCRIPTION          5585 non-null   object        \n",
            " 14  AGE                  5585 non-null   int64         \n",
            " 15  DURATION             5585 non-null   int64         \n",
            "dtypes: datetime64[ns](4), float64(2), int64(6), object(4)\n",
            "memory usage: 870.8+ KB\n"
          ]
        }
      ],
      "source": [
        "# Liste der Spalten\n",
        "df.info()"
      ]
    },
    {
      "cell_type": "code",
      "execution_count": 440,
      "metadata": {
        "colab": {
          "base_uri": "https://localhost:8080/",
          "height": 456
        },
        "id": "3AZcOnNiUP54",
        "outputId": "5bffa3cf-fb1c-4740-bf34-3a2e5b5ff67d"
      },
      "outputs": [
        {
          "output_type": "execute_result",
          "data": {
            "text/plain": [
              "<matplotlib.axes._subplots.AxesSubplot at 0x7f90480ab8b0>"
            ]
          },
          "metadata": {},
          "execution_count": 440
        },
        {
          "output_type": "display_data",
          "data": {
            "text/plain": [
              "<Figure size 504x360 with 2 Axes>"
            ],
            "image/png": "[encoded data removed]"
          },
          "metadata": {
            "needs_background": "light"
          }
        }
      ],
      "source": [
        "# Generierung der Korrelationsmatrix \n",
        "corr = df_unique.corr()\n",
        "\n",
        "plt.figure(figsize=(7, 5))\n",
        "# Heatmap \n",
        "sns.heatmap(corr, annot=False)"
      ]
    },
    {
      "cell_type": "code",
      "execution_count": 442,
      "metadata": {
        "colab": {
          "base_uri": "https://localhost:8080/"
        },
        "id": "HDGVtnhs8qXu",
        "outputId": "668ae87d-61e3-41bd-a081-9fadc0a9b704"
      },
      "outputs": [
        {
          "output_type": "execute_result",
          "data": {
            "text/plain": [
              "((5585, 8), (5585, 8))"
            ]
          },
          "metadata": {},
          "execution_count": 442
        }
      ],
      "source": [
        "# df subset numerischer Varialen\n",
        "numdf = df_unique.select_dtypes(include=np.number)\n",
        "# df subset kategorischer Variablen\n",
        "catdf = df_unique.select_dtypes(exclude=np.number)\n",
        "numdf.shape, catdf.shape"
      ]
    },
    {
      "cell_type": "code",
      "execution_count": 443,
      "metadata": {
        "colab": {
          "base_uri": "https://localhost:8080/"
        },
        "id": "N4ZIvxZRvETQ",
        "outputId": "b50ffcba-1ff3-4a24-cf72-1f70abacbb64"
      },
      "outputs": [
        {
          "output_type": "execute_result",
          "data": {
            "text/plain": [
              "Index(['MARITAL', 'ETHNICITY', 'GENDER', 'HEALTHCARE_EXPENSES',\n",
              "       'HEALTHCARE_COVERAGE', 'CODE', 'AGE', 'DURATION'],\n",
              "      dtype='object')"
            ]
          },
          "metadata": {},
          "execution_count": 443
        }
      ],
      "source": [
        "# Selektieren eines Thresholds\n",
        "columns = np.full((corr.shape[0],), True, dtype=bool)\n",
        "for i in range(corr.shape[0]):\n",
        "    for j in range(i+1, corr.shape[0]):\n",
        "        if corr.iloc[i,j] >= 0.7:\n",
        "            if columns[j]:\n",
        "                columns[j] = False\n",
        "\n",
        "selected_columns = numdf.columns[columns]\n",
        "selected_columns"
      ]
    },
    {
      "cell_type": "markdown",
      "metadata": {
        "id": "5u69s4i1nuDa"
      },
      "source": [
        "*Basierend auf dem Heatmap gibt eine Korrelation zwischen Alter und Gesundheitsausgaben, diese ist allerdings geringer als das gesetzte Threshold von 0.7 \n"
      ]
    },
    {
      "cell_type": "markdown",
      "metadata": {
        "id": "vwHh9ya9r74M"
      },
      "source": [
        "### Scatterplots der verschiedenen Variablen\n"
      ]
    },
    {
      "cell_type": "code",
      "execution_count": 403,
      "metadata": {
        "colab": {
          "base_uri": "https://localhost:8080/",
          "height": 307
        },
        "id": "TjBgjghYW5QP",
        "outputId": "aace41f3-1b01-457b-8259-7f810d0b97cc"
      },
      "outputs": [
        {
          "output_type": "execute_result",
          "data": {
            "text/plain": [
              "<matplotlib.axes._subplots.AxesSubplot at 0x7f90420c4310>"
            ]
          },
          "metadata": {},
          "execution_count": 403
        },
        {
          "output_type": "display_data",
          "data": {
            "text/plain": [
              "<Figure size 432x288 with 1 Axes>"
            ],
            "image/png": "[encoded data removed]"
          },
          "metadata": {
            "needs_background": "light"
          }
        }
      ],
      "source": [
        "df_unique.plot(kind='scatter', y='HEALTHCARE_EXPENSES', x='AGE')\n"
      ]
    },
    {
      "cell_type": "code",
      "execution_count": 404,
      "metadata": {
        "colab": {
          "base_uri": "https://localhost:8080/",
          "height": 296
        },
        "id": "GK0bJ2F6yaH2",
        "outputId": "d576365f-2ce5-4147-97ae-79d11a67464e"
      },
      "outputs": [
        {
          "output_type": "execute_result",
          "data": {
            "text/plain": [
              "<matplotlib.axes._subplots.AxesSubplot at 0x7f9042098640>"
            ]
          },
          "metadata": {},
          "execution_count": 404
        },
        {
          "output_type": "display_data",
          "data": {
            "text/plain": [
              "<Figure size 432x288 with 1 Axes>"
            ],
            "image/png": "[encoded data removed]"
          },
          "metadata": {
            "needs_background": "light"
          }
        }
      ],
      "source": [
        "df_unique.plot(kind='scatter', y='DURATION', x='AGE')\n"
      ]
    },
    {
      "cell_type": "code",
      "execution_count": 406,
      "metadata": {
        "colab": {
          "base_uri": "https://localhost:8080/",
          "height": 297
        },
        "id": "l4iDkts1XF2n",
        "outputId": "6dbed480-f766-46df-b781-155dfab2ca41"
      },
      "outputs": [
        {
          "output_type": "execute_result",
          "data": {
            "text/plain": [
              "<matplotlib.axes._subplots.AxesSubplot at 0x7f9042063370>"
            ]
          },
          "metadata": {},
          "execution_count": 406
        },
        {
          "output_type": "display_data",
          "data": {
            "text/plain": [
              "<Figure size 432x288 with 1 Axes>"
            ],
            "image/png": "[encoded data removed]"
          },
          "metadata": {
            "needs_background": "light"
          }
        }
      ],
      "source": [
        "df_unique.plot(kind='scatter', x='HEALTHCARE_EXPENSES', y='GENDER')\n"
      ]
    }
  ],
  "metadata": {
    "colab": {
      "provenance": [],
      "include_colab_link": true
    },
    "kernelspec": {
      "display_name": "Python 3",
      "language": "python",
      "name": "python3"
    },
    "language_info": {
      "name": "python",
      "version": "3.11.0"
    },
    "vscode": {
      "interpreter": {
        "hash": "fb8942fc92b71b81cb80518f37ef2089ffdbb3e5ad19eba49cbc0afbd5b624e9"
      }
    }
  },
  "nbformat": 4,
  "nbformat_minor": 0
}
